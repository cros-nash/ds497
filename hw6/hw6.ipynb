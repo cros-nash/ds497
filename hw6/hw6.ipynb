{
 "cells": [
  {
   "cell_type": "markdown",
   "metadata": {},
   "source": [
    "# NMDS Gradients\n",
    "\n",
    "In class, we performed NMDS by initializing points for each object (i.e., animal) randomly and then iteratively moving points in a direction that will reduce stress. In this assignment, we will implement the calculation of these directions along with the rest of the NMDS algorithm.\n",
    "\n",
    "You will need to refer to the lecture notebooks from class as well as what you learned in discussion section to complete this assignment."
   ]
  },
  {
   "cell_type": "code",
   "execution_count": 2,
   "metadata": {},
   "outputs": [],
   "source": [
    "!pip install -q otter-grader\n",
    "\n",
    "import otter\n",
    "grader = otter.Notebook(\"hw6.ipynb\")\n",
    "\n",
    "import numpy as np\n",
    "import pandas as pd"
   ]
  },
  {
   "cell_type": "markdown",
   "metadata": {},
   "source": [
    "The human similarity data is loaded below. We want to find a set of points that is related to these similarity ratings in the in the way that Shepard's Law predicts. That set of points is an inferred psychological representation."
   ]
  },
  {
   "cell_type": "code",
   "execution_count": 3,
   "metadata": {},
   "outputs": [
    {
     "data": {
      "text/html": [
       "<div>\n",
       "<style scoped>\n",
       "    .dataframe tbody tr th:only-of-type {\n",
       "        vertical-align: middle;\n",
       "    }\n",
       "\n",
       "    .dataframe tbody tr th {\n",
       "        vertical-align: top;\n",
       "    }\n",
       "\n",
       "    .dataframe thead th {\n",
       "        text-align: right;\n",
       "    }\n",
       "</style>\n",
       "<table border=\"1\" class=\"dataframe\">\n",
       "  <thead>\n",
       "    <tr style=\"text-align: right;\">\n",
       "      <th></th>\n",
       "      <th>dog</th>\n",
       "      <th>cat</th>\n",
       "      <th>wolf</th>\n",
       "      <th>rabbit</th>\n",
       "    </tr>\n",
       "  </thead>\n",
       "  <tbody>\n",
       "    <tr>\n",
       "      <th>dog</th>\n",
       "      <td>1.000000</td>\n",
       "      <td>0.600554</td>\n",
       "      <td>0.753638</td>\n",
       "      <td>0.531286</td>\n",
       "    </tr>\n",
       "    <tr>\n",
       "      <th>cat</th>\n",
       "      <td>0.600554</td>\n",
       "      <td>1.000000</td>\n",
       "      <td>0.493069</td>\n",
       "      <td>0.728893</td>\n",
       "    </tr>\n",
       "    <tr>\n",
       "      <th>wolf</th>\n",
       "      <td>0.753638</td>\n",
       "      <td>0.493069</td>\n",
       "      <td>1.000000</td>\n",
       "      <td>0.408842</td>\n",
       "    </tr>\n",
       "    <tr>\n",
       "      <th>rabbit</th>\n",
       "      <td>0.531286</td>\n",
       "      <td>0.728893</td>\n",
       "      <td>0.408842</td>\n",
       "      <td>1.000000</td>\n",
       "    </tr>\n",
       "  </tbody>\n",
       "</table>\n",
       "</div>"
      ],
      "text/plain": [
       "             dog       cat      wolf    rabbit\n",
       "dog     1.000000  0.600554  0.753638  0.531286\n",
       "cat     0.600554  1.000000  0.493069  0.728893\n",
       "wolf    0.753638  0.493069  1.000000  0.408842\n",
       "rabbit  0.531286  0.728893  0.408842  1.000000"
      ]
     },
     "execution_count": 3,
     "metadata": {},
     "output_type": "execute_result"
    }
   ],
   "source": [
    "sim_vals = [\n",
    " [1., 0.600554459474065, 0.7536383164437648, 0.5312856091329679],\n",
    " [0.600554459474065, 1., 0.49306869139523984, 0.7288934141100247],\n",
    " [0.7536383164437648, 0.49306869139523984, 1., 0.4088417197978041],\n",
    " [0.5312856091329679, 0.7288934141100247, 0.4088417197978041, 1.]\n",
    "]\n",
    "labels = ['dog', 'cat', 'wolf', 'rabbit']\n",
    "df_sim = pd.DataFrame(sim_vals, columns=labels, index=labels)\n",
    "df_sim"
   ]
  },
  {
   "cell_type": "markdown",
   "metadata": {},
   "source": [
    "First we will randomly initialize points for each animal:"
   ]
  },
  {
   "cell_type": "code",
   "execution_count": 4,
   "metadata": {},
   "outputs": [
    {
     "data": {
      "text/html": [
       "<div>\n",
       "<style scoped>\n",
       "    .dataframe tbody tr th:only-of-type {\n",
       "        vertical-align: middle;\n",
       "    }\n",
       "\n",
       "    .dataframe tbody tr th {\n",
       "        vertical-align: top;\n",
       "    }\n",
       "\n",
       "    .dataframe thead th {\n",
       "        text-align: right;\n",
       "    }\n",
       "</style>\n",
       "<table border=\"1\" class=\"dataframe\">\n",
       "  <thead>\n",
       "    <tr style=\"text-align: right;\">\n",
       "      <th></th>\n",
       "      <th>dim1</th>\n",
       "      <th>dim2</th>\n",
       "    </tr>\n",
       "  </thead>\n",
       "  <tbody>\n",
       "    <tr>\n",
       "      <th>dog</th>\n",
       "      <td>0.771321</td>\n",
       "      <td>0.020752</td>\n",
       "    </tr>\n",
       "    <tr>\n",
       "      <th>cat</th>\n",
       "      <td>0.633648</td>\n",
       "      <td>0.748804</td>\n",
       "    </tr>\n",
       "    <tr>\n",
       "      <th>wolf</th>\n",
       "      <td>0.498507</td>\n",
       "      <td>0.224797</td>\n",
       "    </tr>\n",
       "    <tr>\n",
       "      <th>rabbit</th>\n",
       "      <td>0.198063</td>\n",
       "      <td>0.760531</td>\n",
       "    </tr>\n",
       "  </tbody>\n",
       "</table>\n",
       "</div>"
      ],
      "text/plain": [
       "            dim1      dim2\n",
       "dog     0.771321  0.020752\n",
       "cat     0.633648  0.748804\n",
       "wolf    0.498507  0.224797\n",
       "rabbit  0.198063  0.760531"
      ]
     },
     "execution_count": 4,
     "metadata": {},
     "output_type": "execute_result"
    }
   ],
   "source": [
    "# do not change\n",
    "np.random.seed(10)\n",
    "\n",
    "# do not change\n",
    "def create_initial_random_points():\n",
    "    points = np.random.rand(4, 2)\n",
    "    points_df = pd.DataFrame(\n",
    "        points, \n",
    "        columns=['dim1', 'dim2'], \n",
    "        index=['dog', 'cat', 'wolf', 'rabbit']\n",
    "    )\n",
    "    return points_df\n",
    "\n",
    "# do not change\n",
    "df_guesses = create_initial_random_points()\n",
    "df_guesses"
   ]
  },
  {
   "cell_type": "markdown",
   "metadata": {
    "deletable": false,
    "editable": false
   },
   "source": [
    "As discussed in section, NMDS iteratively adjusts each point $x_i$ with respect to each other point $x_j$ (where $i \\neq j$) using the formula:\n",
    "\n",
    "$x_i = x_i + \\text{step\\_size} * (d̂ᵢⱼ - dᵢⱼ) × (x_j - x_i)/d̂ᵢⱼ$,\n",
    "\n",
    "where $dᵢⱼ$ is distance in psychological space, $d̂ᵢⱼ$ is the distance between points we are adjusting, and $(d̂ᵢⱼ - dᵢⱼ) × (x_j - x_i)/d̂ᵢⱼ$ is called the **gradient**.\n",
    "\n",
    "To review only briefly, $(x_j - x_i)/d̂ᵢⱼ$ is a unit vector that points from $x_i$ to $x_j$, and $(d̂ᵢⱼ - dᵢⱼ)$ is the important signed term in the stress that determines (1) whether we step in the direction of $(x_j - x_i)/d̂ᵢⱼ$ or $-(x_j - x_i)/d̂ᵢⱼ$, and (2) the size of the step we take relative to other points.\n",
    "\n",
    "**Exercise 1:**\n",
    "\n",
    "Perform NMDS using the following criteria:\n",
    "\n",
    "- Store gradients for all points on all iterations in a multidimensional numpy array called `directions` with shape `(n_iterations, n_animals, n_animals - 1, 2)`.\n",
    "- Set $\\text{step\\_size}$ to $0.4$.\n",
    "- Run for $100$ iterations.\n",
    "- Store the stress for each iteration in an array called `stress_vals`."
   ]
  },
  {
   "cell_type": "code",
   "execution_count": null,
   "metadata": {
    "tags": [
     "otter_answer_cell"
    ]
   },
   "outputs": [
    {
     "name": "stdout",
     "output_type": "stream",
     "text": [
      "0.9687786120455787\n",
      "9.701648738505497\n",
      "50.50717044808525\n",
      "5454.9762545042095\n",
      "34861046.37474394\n",
      "34861046.37474394\n",
      "34861046.37474394\n",
      "34861046.37474394\n",
      "34861046.37474394\n",
      "34861046.37474394\n",
      "34861046.37474394\n",
      "34861046.37474394\n",
      "34861046.37474394\n",
      "34861046.37474394\n",
      "34861046.37474394\n",
      "34861046.37474394\n",
      "34861046.37474394\n",
      "34861046.37474394\n",
      "34861046.37474394\n",
      "34861046.37474394\n",
      "34861046.37474394\n",
      "34861046.37474394\n",
      "34861046.37474394\n",
      "34861046.37474394\n",
      "34861046.37474394\n",
      "34861046.37474394\n",
      "34861046.37474394\n",
      "34861046.37474394\n",
      "34861046.37474394\n",
      "34861046.37474394\n",
      "34861046.37474394\n",
      "34861046.37474394\n",
      "34861046.37474394\n",
      "34861046.37474394\n",
      "34861046.37474394\n",
      "34861046.37474394\n",
      "34861046.37474394\n",
      "34861046.37474394\n",
      "34861046.37474394\n",
      "34861046.37474394\n",
      "34861046.37474394\n",
      "34861046.37474394\n",
      "34861046.37474394\n",
      "34861046.37474394\n",
      "34861046.37474394\n",
      "34861046.37474394\n",
      "34861046.37474394\n",
      "34861046.37474394\n",
      "34861046.37474394\n",
      "34861046.37474394\n",
      "34861046.37474394\n",
      "34861046.37474394\n",
      "34861046.37474394\n",
      "34861046.37474394\n",
      "34861046.37474394\n",
      "34861046.37474394\n",
      "34861046.37474394\n",
      "34861046.37474394\n",
      "34861046.37474394\n",
      "34861046.37474394\n",
      "34861046.37474394\n",
      "34861046.37474394\n",
      "34861046.37474394\n",
      "34861046.37474394\n",
      "34861046.37474394\n",
      "34861046.37474394\n",
      "34861046.37474394\n",
      "34861046.37474394\n",
      "34861046.37474394\n",
      "34861046.37474394\n",
      "34861046.37474394\n",
      "34861046.37474394\n",
      "34861046.37474394\n",
      "34861046.37474394\n",
      "34861046.37474394\n",
      "34861046.37474394\n",
      "34861046.37474394\n",
      "34861046.37474394\n",
      "34861046.37474394\n",
      "34861046.37474394\n",
      "34861046.37474394\n",
      "34861046.37474394\n",
      "34861046.37474394\n",
      "34861046.37474394\n",
      "34861046.37474394\n",
      "34861046.37474394\n",
      "34861046.37474394\n",
      "34861046.37474394\n",
      "34861046.37474394\n",
      "34861046.37474394\n",
      "34861046.37474394\n",
      "34861046.37474394\n",
      "34861046.37474394\n",
      "34861046.37474394\n",
      "34861046.37474394\n",
      "34861046.37474394\n",
      "34861046.37474394\n",
      "34861046.37474394\n",
      "34861046.37474394\n",
      "34861046.37474394\n"
     ]
    }
   ],
   "source": [
    "# Your code goes here\n",
    "step_size = 0.4\n",
    "n_iterations = 100\n",
    "n_animals = 4\n",
    "stress_vals = []\n",
    "directions = np.ndarray((n_iterations, n_animals, n_animals - 1, 2))\n",
    "\n",
    "for _ in range(n_iterations):\n",
    "    pass\n",
    "\n",
    "# DO NOT CHANGE\n",
    "for stress_val in stress_vals:\n",
    "    print(stress_val)"
   ]
  },
  {
   "cell_type": "code",
   "execution_count": 10,
   "metadata": {
    "deletable": false,
    "editable": false
   },
   "outputs": [
    {
     "data": {
      "text/html": [
       "<p><strong><pre style='display: inline;'>q1</pre></strong> passed! ✨</p>"
      ],
      "text/plain": [
       "q1 results: All test cases passed!"
      ]
     },
     "execution_count": 10,
     "metadata": {},
     "output_type": "execute_result"
    }
   ],
   "source": [
    "grader.check(\"q1\")"
   ]
  }
 ],
 "metadata": {
  "kernelspec": {
   "display_name": ".venv",
   "language": "python",
   "name": "python3"
  },
  "language_info": {
   "codemirror_mode": {
    "name": "ipython",
    "version": 3
   },
   "file_extension": ".py",
   "mimetype": "text/x-python",
   "name": "python",
   "nbconvert_exporter": "python",
   "pygments_lexer": "ipython3",
   "version": "3.9.19"
  },
  "otter": {
   "OK_FORMAT": true,
   "tests": {
    "q1": {
     "name": "q1",
     "points": [
      3,
      3
     ],
     "suites": [
      {
       "cases": [
        {
         "code": ">>> bool(len(stress_vals) == 100)\nTrue",
         "hidden": false,
         "locked": false
        },
        {
         "code": ">>> bool(directions.shape == (100, 4, 3, 2))\nTrue",
         "hidden": false,
         "locked": false
        }
       ],
       "scored": true,
       "setup": "",
       "teardown": "",
       "type": "doctest"
      }
     ]
    }
   }
  }
 },
 "nbformat": 4,
 "nbformat_minor": 2
}
