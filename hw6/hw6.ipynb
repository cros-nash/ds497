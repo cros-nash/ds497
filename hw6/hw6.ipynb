{
 "cells": [
  {
   "cell_type": "markdown",
   "metadata": {},
   "source": [
    "# NMDS Gradients\n",
    "\n",
    "In class, we performed NMDS by initializing points for each object (i.e., animal) randomly and then iteratively moving points in a direction that will reduce stress. In this assignment, we will implement the calculation of these directions along with the rest of the NMDS algorithm.\n",
    "\n",
    "You will need to refer to the lecture notebooks from class as well as what you learned in discussion section to complete this assignment."
   ]
  },
  {
   "cell_type": "code",
   "execution_count": null,
   "metadata": {},
   "outputs": [],
   "source": [
    "!pip install -q otter-grader\n",
    "\n",
    "import otter\n",
    "grader = otter.Notebook(\"hw6.ipynb\")\n",
    "\n",
    "import numpy as np\n",
    "import pandas as pd"
   ]
  },
  {
   "cell_type": "markdown",
   "metadata": {},
   "source": [
    "The human similarity data is loaded below. We want to find a set of points that is related to these similarity ratings in the in the way that Shepard's Law predicts. That set of points is an inferred psychological representation."
   ]
  },
  {
   "cell_type": "code",
   "execution_count": null,
   "metadata": {},
   "outputs": [],
   "source": [
    "sim_vals = [\n",
    " [1., 0.600554459474065, 0.7536383164437648, 0.5312856091329679],\n",
    " [0.600554459474065, 1., 0.49306869139523984, 0.7288934141100247],\n",
    " [0.7536383164437648, 0.49306869139523984, 1., 0.4088417197978041],\n",
    " [0.5312856091329679, 0.7288934141100247, 0.4088417197978041, 1.]\n",
    "]\n",
    "labels = ['dog', 'cat', 'wolf', 'rabbit']\n",
    "df_sim = pd.DataFrame(sim_vals, columns=labels, index=labels)\n",
    "df_sim"
   ]
  },
  {
   "cell_type": "markdown",
   "metadata": {},
   "source": [
    "First we will randomly initialize points for each animal:"
   ]
  },
  {
   "cell_type": "code",
   "execution_count": null,
   "metadata": {},
   "outputs": [],
   "source": [
    "# do not change\n",
    "np.random.seed(10)\n",
    "\n",
    "# do not change\n",
    "def create_initial_random_points():\n",
    "    points = np.random.rand(4, 2)\n",
    "    points_df = pd.DataFrame(\n",
    "        points, \n",
    "        columns=['dim1', 'dim2'], \n",
    "        index=['dog', 'cat', 'wolf', 'rabbit']\n",
    "    )\n",
    "    return points_df\n",
    "\n",
    "# do not change\n",
    "df_guesses = create_initial_random_points()\n",
    "df_guesses"
   ]
  },
  {
   "cell_type": "markdown",
   "metadata": {
    "deletable": false,
    "editable": false
   },
   "source": [
    "As discussed in section, NMDS iteratively adjusts each point $x_i$ with respect to each other point $x_j$ (where $i \\neq j$) using the formula:\n",
    "\n",
    "$x_i = x_i + \\text{step\\_size} * (d̂ᵢⱼ - dᵢⱼ) × (x_j - x_i)/d̂ᵢⱼ$,\n",
    "\n",
    "where $dᵢⱼ$ is distance in psychological space, $d̂ᵢⱼ$ is the distance between points we are adjusting, and $(d̂ᵢⱼ - dᵢⱼ) × (x_j - x_i)/d̂ᵢⱼ$ is called the **gradient**.\n",
    "\n",
    "To review only briefly, $(x_j - x_i)/d̂ᵢⱼ$ is a unit vector that points from $x_i$ to $x_j$, and $(d̂ᵢⱼ - dᵢⱼ)$ is the important signed term in the stress that determines (1) whether we step in the direction of $(x_j - x_i)/d̂ᵢⱼ$ or $-(x_j - x_i)/d̂ᵢⱼ$, and (2) the size of the step we take relative to other points.\n",
    "\n",
    "**Exercise 1:**\n",
    "\n",
    "Perform NMDS using the following criteria:\n",
    "\n",
    "- Store gradients for all points on all iterations in a multidimensional numpy array called `directions` with shape `(n_iterations, n_animals, n_animals - 1, 2)`.\n",
    "- Set $\\text{step\\_size}$ to $0.4$.\n",
    "- Run for $100$ iterations.\n",
    "- Store the stress for each iteration in an array called `stress_vals`."
   ]
  },
  {
   "cell_type": "code",
   "execution_count": null,
   "metadata": {
    "tags": [
     "otter_answer_cell"
    ]
   },
   "outputs": [],
   "source": [
    "# Your code goes here\n",
    "\n",
    "\n",
    "# DO NOT CHANGE\n",
    "for stress_val in stress_vals:\n",
    "    print(stress_val)"
   ]
  },
  {
   "cell_type": "code",
   "execution_count": null,
   "metadata": {
    "deletable": false,
    "editable": false
   },
   "outputs": [],
   "source": [
    "grader.check(\"q1\")"
   ]
  }
 ],
 "metadata": {
  "kernelspec": {
   "display_name": "Python 3",
   "language": "python",
   "name": "python3"
  },
  "language_info": {
   "codemirror_mode": {
    "name": "ipython",
    "version": 3
   },
   "file_extension": ".py",
   "mimetype": "text/x-python",
   "name": "python",
   "nbconvert_exporter": "python",
   "pygments_lexer": "ipython3",
   "version": "3.12.1"
  },
  "otter": {
   "OK_FORMAT": true,
   "tests": {
    "q1": {
     "name": "q1",
     "points": [
      3,
      3
     ],
     "suites": [
      {
       "cases": [
        {
         "code": ">>> bool(len(stress_vals) == 100)\nTrue",
         "hidden": false,
         "locked": false
        },
        {
         "code": ">>> bool(directions.shape == (100, 4, 3, 2))\nTrue",
         "hidden": false,
         "locked": false
        }
       ],
       "scored": true,
       "setup": "",
       "teardown": "",
       "type": "doctest"
      }
     ]
    }
   }
  }
 },
 "nbformat": 4,
 "nbformat_minor": 2
}
