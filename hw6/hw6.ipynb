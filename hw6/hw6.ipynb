{
 "cells": [
  {
   "cell_type": "markdown",
   "metadata": {},
   "source": [
    "# NMDS Gradients\n",
    "\n",
    "In class, we performed NMDS by initializing points for each object (i.e., animal) randomly and then iteratively moving points in a direction that will reduce stress. In this assignment, we will implement the calculation of these directions along with the rest of the NMDS algorithm.\n",
    "\n",
    "You will need to refer to the lecture notebooks from class as well as what you learned in discussion section to complete this assignment."
   ]
  },
  {
   "cell_type": "code",
   "execution_count": 176,
   "metadata": {},
   "outputs": [],
   "source": [
    "!pip install -q otter-grader\n",
    "\n",
    "import otter\n",
    "grader = otter.Notebook(\"hw6.ipynb\")\n",
    "\n",
    "import numpy as np\n",
    "import pandas as pd"
   ]
  },
  {
   "cell_type": "markdown",
   "metadata": {},
   "source": [
    "The human similarity data is loaded below. We want to find a set of points that is related to these similarity ratings in the in the way that Shepard's Law predicts. That set of points is an inferred psychological representation."
   ]
  },
  {
   "cell_type": "code",
   "execution_count": 177,
   "metadata": {},
   "outputs": [
    {
     "data": {
      "text/html": [
       "<div>\n",
       "<style scoped>\n",
       "    .dataframe tbody tr th:only-of-type {\n",
       "        vertical-align: middle;\n",
       "    }\n",
       "\n",
       "    .dataframe tbody tr th {\n",
       "        vertical-align: top;\n",
       "    }\n",
       "\n",
       "    .dataframe thead th {\n",
       "        text-align: right;\n",
       "    }\n",
       "</style>\n",
       "<table border=\"1\" class=\"dataframe\">\n",
       "  <thead>\n",
       "    <tr style=\"text-align: right;\">\n",
       "      <th></th>\n",
       "      <th>dog</th>\n",
       "      <th>cat</th>\n",
       "      <th>wolf</th>\n",
       "      <th>rabbit</th>\n",
       "    </tr>\n",
       "  </thead>\n",
       "  <tbody>\n",
       "    <tr>\n",
       "      <th>dog</th>\n",
       "      <td>1.000000</td>\n",
       "      <td>0.600554</td>\n",
       "      <td>0.753638</td>\n",
       "      <td>0.531286</td>\n",
       "    </tr>\n",
       "    <tr>\n",
       "      <th>cat</th>\n",
       "      <td>0.600554</td>\n",
       "      <td>1.000000</td>\n",
       "      <td>0.493069</td>\n",
       "      <td>0.728893</td>\n",
       "    </tr>\n",
       "    <tr>\n",
       "      <th>wolf</th>\n",
       "      <td>0.753638</td>\n",
       "      <td>0.493069</td>\n",
       "      <td>1.000000</td>\n",
       "      <td>0.408842</td>\n",
       "    </tr>\n",
       "    <tr>\n",
       "      <th>rabbit</th>\n",
       "      <td>0.531286</td>\n",
       "      <td>0.728893</td>\n",
       "      <td>0.408842</td>\n",
       "      <td>1.000000</td>\n",
       "    </tr>\n",
       "  </tbody>\n",
       "</table>\n",
       "</div>"
      ],
      "text/plain": [
       "             dog       cat      wolf    rabbit\n",
       "dog     1.000000  0.600554  0.753638  0.531286\n",
       "cat     0.600554  1.000000  0.493069  0.728893\n",
       "wolf    0.753638  0.493069  1.000000  0.408842\n",
       "rabbit  0.531286  0.728893  0.408842  1.000000"
      ]
     },
     "execution_count": 177,
     "metadata": {},
     "output_type": "execute_result"
    }
   ],
   "source": [
    "sim_vals = [\n",
    " [1., 0.600554459474065, 0.7536383164437648, 0.5312856091329679],\n",
    " [0.600554459474065, 1., 0.49306869139523984, 0.7288934141100247],\n",
    " [0.7536383164437648, 0.49306869139523984, 1., 0.4088417197978041],\n",
    " [0.5312856091329679, 0.7288934141100247, 0.4088417197978041, 1.]\n",
    "]\n",
    "labels = ['dog', 'cat', 'wolf', 'rabbit']\n",
    "df_sim = pd.DataFrame(sim_vals, columns=labels, index=labels)\n",
    "df_sim"
   ]
  },
  {
   "cell_type": "markdown",
   "metadata": {},
   "source": [
    "First we will randomly initialize points for each animal:"
   ]
  },
  {
   "cell_type": "code",
   "execution_count": 178,
   "metadata": {},
   "outputs": [
    {
     "data": {
      "text/html": [
       "<div>\n",
       "<style scoped>\n",
       "    .dataframe tbody tr th:only-of-type {\n",
       "        vertical-align: middle;\n",
       "    }\n",
       "\n",
       "    .dataframe tbody tr th {\n",
       "        vertical-align: top;\n",
       "    }\n",
       "\n",
       "    .dataframe thead th {\n",
       "        text-align: right;\n",
       "    }\n",
       "</style>\n",
       "<table border=\"1\" class=\"dataframe\">\n",
       "  <thead>\n",
       "    <tr style=\"text-align: right;\">\n",
       "      <th></th>\n",
       "      <th>dim1</th>\n",
       "      <th>dim2</th>\n",
       "    </tr>\n",
       "  </thead>\n",
       "  <tbody>\n",
       "    <tr>\n",
       "      <th>dog</th>\n",
       "      <td>0.771321</td>\n",
       "      <td>0.020752</td>\n",
       "    </tr>\n",
       "    <tr>\n",
       "      <th>cat</th>\n",
       "      <td>0.633648</td>\n",
       "      <td>0.748804</td>\n",
       "    </tr>\n",
       "    <tr>\n",
       "      <th>wolf</th>\n",
       "      <td>0.498507</td>\n",
       "      <td>0.224797</td>\n",
       "    </tr>\n",
       "    <tr>\n",
       "      <th>rabbit</th>\n",
       "      <td>0.198063</td>\n",
       "      <td>0.760531</td>\n",
       "    </tr>\n",
       "  </tbody>\n",
       "</table>\n",
       "</div>"
      ],
      "text/plain": [
       "            dim1      dim2\n",
       "dog     0.771321  0.020752\n",
       "cat     0.633648  0.748804\n",
       "wolf    0.498507  0.224797\n",
       "rabbit  0.198063  0.760531"
      ]
     },
     "execution_count": 178,
     "metadata": {},
     "output_type": "execute_result"
    }
   ],
   "source": [
    "# do not change\n",
    "np.random.seed(10)\n",
    "\n",
    "# do not change\n",
    "def create_initial_random_points():\n",
    "    points = np.random.rand(4, 2)\n",
    "    points_df = pd.DataFrame(\n",
    "        points, \n",
    "        columns=['dim1', 'dim2'], \n",
    "        index=['dog', 'cat', 'wolf', 'rabbit']\n",
    "    )\n",
    "    return points_df\n",
    "\n",
    "# do not change\n",
    "df_guesses = create_initial_random_points()\n",
    "df_guesses"
   ]
  },
  {
   "cell_type": "markdown",
   "metadata": {
    "deletable": false,
    "editable": false
   },
   "source": [
    "As discussed in section, NMDS iteratively adjusts each point $x_i$ with respect to each other point $x_j$ (where $i \\neq j$) using the formula:\n",
    "\n",
    "$x_i = x_i + \\text{step\\_size} * (d̂ᵢⱼ - dᵢⱼ) × (x_j - x_i)/d̂ᵢⱼ$,\n",
    "\n",
    "where $dᵢⱼ$ is distance in psychological space, $d̂ᵢⱼ$ is the distance between points we are adjusting, and $(d̂ᵢⱼ - dᵢⱼ) × (x_j - x_i)/d̂ᵢⱼ$ is called the **gradient**.\n",
    "\n",
    "To review only briefly, $(x_j - x_i)/d̂ᵢⱼ$ is a unit vector that points from $x_i$ to $x_j$, and $(d̂ᵢⱼ - dᵢⱼ)$ is the important signed term in the stress that determines (1) whether we step in the direction of $(x_j - x_i)/d̂ᵢⱼ$ or $-(x_j - x_i)/d̂ᵢⱼ$, and (2) the size of the step we take relative to other points.\n",
    "\n",
    "**Exercise 1:**\n",
    "\n",
    "Perform NMDS using the following criteria:\n",
    "\n",
    "- Store gradients for all points on all iterations in a multidimensional numpy array called `directions` with shape `(n_iterations, n_animals, n_animals - 1, 2)`.\n",
    "- Set $\\text{step\\_size}$ to $0.4$.\n",
    "- Run for $100$ iterations.\n",
    "- Store the stress for each iteration in an array called `stress_vals`."
   ]
  },
  {
   "cell_type": "code",
   "execution_count": 179,
   "metadata": {
    "tags": [
     "otter_answer_cell"
    ]
   },
   "outputs": [
    {
     "name": "stdout",
     "output_type": "stream",
     "text": [
      "0.1615034213424213\n",
      "0.09293248150287595\n",
      "0.07289205767606863\n",
      "0.06531480818210283\n",
      "0.06200313834106787\n",
      "0.060306441287781544\n",
      "0.05925134305801186\n",
      "0.05849464217426252\n",
      "0.0578910313908312\n",
      "0.05738045560924361\n",
      "0.056931070082903275\n",
      "0.05652574534898005\n",
      "0.05615281878693984\n",
      "0.055804305945440176\n",
      "0.055473929200291185\n",
      "0.05515675615451018\n",
      "0.05484860880833651\n",
      "0.0545459073271852\n",
      "0.05424542726194481\n",
      "0.0539441968567224\n",
      "0.05363936808156965\n",
      "0.05332813782373726\n",
      "0.053007661223566385\n",
      "0.052674983005149834\n",
      "0.05232696505959684\n",
      "0.05196021906741544\n",
      "0.0515710356809378\n",
      "0.05115531365272295\n",
      "0.050708486248981235\n",
      "0.05022544767529442\n",
      "0.049700480933655145\n",
      "0.049127192158068975\n",
      "0.04849845788043023\n",
      "0.04780639562089573\n",
      "0.04704237170267962\n",
      "0.046197065050504214\n",
      "0.04526061024007379\n",
      "0.044222847145177074\n",
      "0.043073706107402625\n",
      "0.041803754735055\n",
      "0.04040492212410471\n",
      "0.038871395699320015\n",
      "0.037200653005401214\n",
      "0.035394546654322734\n",
      "0.033460311056684865\n",
      "0.03141131664770502\n",
      "0.029267378426758212\n",
      "0.02705444882860243\n",
      "0.02480360072102024\n",
      "0.02254932871405715\n",
      "0.02032733937542815\n",
      "0.018172121780907095\n",
      "0.016114648049991385\n",
      "0.014180527271243599\n",
      "0.012388833818312357\n",
      "0.010751687283961862\n",
      "0.009274521153363453\n",
      "0.00795687720464049\n",
      "0.006793518423958673\n",
      "0.005775660277951589\n",
      "0.004892161101796063\n",
      "0.0041305669284218425\n",
      "0.003477958354301701\n",
      "0.0029215880156654686\n",
      "0.00244932421621106\n",
      "0.0020499305585292256\n",
      "0.001713216270015118\n",
      "0.0014300907062297836\n",
      "0.0011925511043488972\n",
      "0.0009936270505344251\n",
      "0.0008272995430598685\n",
      "0.0006884076111344877\n",
      "0.0005725514288136226\n",
      "0.00047599775629248597\n",
      "0.00039559124493104245\n",
      "0.00032867351235589526\n",
      "0.00027301078199881793\n",
      "0.0002267301560432053\n",
      "0.00018826414406263034\n",
      "0.00015630281752860025\n",
      "0.00012975283977563565\n",
      "0.00010770258608750458\n",
      "8.939258686818881e-05\n",
      "7.419057603348814e-05\n",
      "6.157049178040948e-05\n",
      "5.109484800955035e-05\n",
      "4.239996578536388e-05\n",
      "3.518362170237982e-05\n",
      "2.9194731970106846e-05\n",
      "2.4224746554234604e-05\n",
      "2.010047667558807e-05\n",
      "1.6678121589644252e-05\n",
      "1.3838297322114354e-05\n",
      "1.148190149592236e-05\n",
      "9.526675146239181e-06\n",
      "7.904345087973268e-06\n",
      "6.558249525333261e-06\n",
      "5.441365676525321e-06\n",
      "4.514671688880433e-06\n",
      "3.745786418996662e-06\n"
     ]
    }
   ],
   "source": [
    "# Your code goes here\n",
    "step_size = 0.4\n",
    "n_iterations = 100\n",
    "n_animals = 4\n",
    "stress_vals = []\n",
    "directions = np.ndarray((n_iterations, n_animals, n_animals - 1, 2))\n",
    "\n",
    "df_d = -np.log(df_sim)\n",
    "\n",
    "for iter in range(n_iterations):\n",
    "    gradients = np.zeros((n_animals, n_animals - 1, 2))\n",
    "    points = df_guesses.values\n",
    "    \n",
    "    for i in range(n_animals):\n",
    "        grad_iter = 0\n",
    "        \n",
    "        for j in range(n_animals):\n",
    "            if i == j:\n",
    "                continue\n",
    "            \n",
    "            xi, xj = points[i], points[j]\n",
    "            \n",
    "            d_hat_ij = np.sqrt(np.pow(xi[0] - xj[0], 2)+ np.pow(xi[1] - xj[1],2))\n",
    "            \n",
    "            d_ij = df_d.iloc[i, j]\n",
    "            \n",
    "            unit_vector = (xj - xi) / d_hat_ij\n",
    "            \n",
    "            gradient = (d_hat_ij - d_ij) * unit_vector\n",
    "            gradients[i, grad_iter, :] = gradient\n",
    "            grad_iter += 1\n",
    "\n",
    "\n",
    "    for i in range(n_animals):\n",
    "        total_gradient = np.sum(gradients[i], axis=0)\n",
    "        points[i] += step_size * total_gradient\n",
    "        \n",
    "\n",
    "    df_guesses.iloc[:, :] = points\n",
    "    \n",
    "    stress = 0\n",
    "    for i in range(n_animals):\n",
    "        for j in range(i + 1, n_animals):\n",
    "            xi, xj = points[i], points[j]\n",
    "            \n",
    "            d_hat_ij = np.sqrt(np.pow(xi[0] - xj[0], 2)+ np.pow(xi[1] - xj[1],2))\n",
    "            d_ij = df_d.iloc[i, j]\n",
    "            \n",
    "            stress += (d_ij - d_hat_ij) ** 2\n",
    "\n",
    "    stress_vals.append(np.sqrt(stress))\n",
    "    directions[iter] = gradients\n",
    "\n",
    "# DO NOT CHANGE\n",
    "for stress_val in stress_vals:\n",
    "    print(stress_val)"
   ]
  },
  {
   "cell_type": "code",
   "execution_count": 180,
   "metadata": {
    "deletable": false,
    "editable": false
   },
   "outputs": [
    {
     "data": {
      "text/html": [
       "<p><strong><pre style='display: inline;'>q1</pre></strong> passed! 🍀</p>"
      ],
      "text/plain": [
       "q1 results: All test cases passed!"
      ]
     },
     "execution_count": 180,
     "metadata": {},
     "output_type": "execute_result"
    }
   ],
   "source": [
    "grader.check(\"q1\")"
   ]
  }
 ],
 "metadata": {
  "kernelspec": {
   "display_name": ".venv",
   "language": "python",
   "name": "python3"
  },
  "language_info": {
   "codemirror_mode": {
    "name": "ipython",
    "version": 3
   },
   "file_extension": ".py",
   "mimetype": "text/x-python",
   "name": "python",
   "nbconvert_exporter": "python",
   "pygments_lexer": "ipython3",
   "version": "3.12.3"
  },
  "otter": {
   "OK_FORMAT": true,
   "tests": {
    "q1": {
     "name": "q1",
     "points": [
      3,
      3
     ],
     "suites": [
      {
       "cases": [
        {
         "code": ">>> bool(len(stress_vals) == 100)\nTrue",
         "hidden": false,
         "locked": false
        },
        {
         "code": ">>> bool(directions.shape == (100, 4, 3, 2))\nTrue",
         "hidden": false,
         "locked": false
        }
       ],
       "scored": true,
       "setup": "",
       "teardown": "",
       "type": "doctest"
      }
     ]
    }
   }
  }
 },
 "nbformat": 4,
 "nbformat_minor": 2
}
