{
 "cells": [
  {
   "cell_type": "markdown",
   "metadata": {},
   "source": [
    "# NMDS Gradients\n",
    "\n",
    "In class, we performed NMDS by initializing points for each object (i.e., animal) randomly and then iteratively moving points in a direction that will reduce stress. In this assignment, we will implement the calculation of these directions along with the rest of the NMDS algorithm.\n",
    "\n",
    "You will need to refer to the lecture notebooks from class as well as what you learned in discussion section to complete this assignment."
   ]
  },
  {
   "cell_type": "code",
   "execution_count": 113,
   "metadata": {},
   "outputs": [],
   "source": [
    "!pip install -q otter-grader\n",
    "\n",
    "import otter\n",
    "grader = otter.Notebook(\"hw6.ipynb\")\n",
    "\n",
    "import numpy as np\n",
    "import pandas as pd"
   ]
  },
  {
   "cell_type": "markdown",
   "metadata": {},
   "source": [
    "The human similarity data is loaded below. We want to find a set of points that is related to these similarity ratings in the in the way that Shepard's Law predicts. That set of points is an inferred psychological representation."
   ]
  },
  {
   "cell_type": "code",
   "execution_count": 114,
   "metadata": {},
   "outputs": [
    {
     "data": {
      "text/html": [
       "<div>\n",
       "<style scoped>\n",
       "    .dataframe tbody tr th:only-of-type {\n",
       "        vertical-align: middle;\n",
       "    }\n",
       "\n",
       "    .dataframe tbody tr th {\n",
       "        vertical-align: top;\n",
       "    }\n",
       "\n",
       "    .dataframe thead th {\n",
       "        text-align: right;\n",
       "    }\n",
       "</style>\n",
       "<table border=\"1\" class=\"dataframe\">\n",
       "  <thead>\n",
       "    <tr style=\"text-align: right;\">\n",
       "      <th></th>\n",
       "      <th>dog</th>\n",
       "      <th>cat</th>\n",
       "      <th>wolf</th>\n",
       "      <th>rabbit</th>\n",
       "    </tr>\n",
       "  </thead>\n",
       "  <tbody>\n",
       "    <tr>\n",
       "      <th>dog</th>\n",
       "      <td>1.000000</td>\n",
       "      <td>0.600554</td>\n",
       "      <td>0.753638</td>\n",
       "      <td>0.531286</td>\n",
       "    </tr>\n",
       "    <tr>\n",
       "      <th>cat</th>\n",
       "      <td>0.600554</td>\n",
       "      <td>1.000000</td>\n",
       "      <td>0.493069</td>\n",
       "      <td>0.728893</td>\n",
       "    </tr>\n",
       "    <tr>\n",
       "      <th>wolf</th>\n",
       "      <td>0.753638</td>\n",
       "      <td>0.493069</td>\n",
       "      <td>1.000000</td>\n",
       "      <td>0.408842</td>\n",
       "    </tr>\n",
       "    <tr>\n",
       "      <th>rabbit</th>\n",
       "      <td>0.531286</td>\n",
       "      <td>0.728893</td>\n",
       "      <td>0.408842</td>\n",
       "      <td>1.000000</td>\n",
       "    </tr>\n",
       "  </tbody>\n",
       "</table>\n",
       "</div>"
      ],
      "text/plain": [
       "             dog       cat      wolf    rabbit\n",
       "dog     1.000000  0.600554  0.753638  0.531286\n",
       "cat     0.600554  1.000000  0.493069  0.728893\n",
       "wolf    0.753638  0.493069  1.000000  0.408842\n",
       "rabbit  0.531286  0.728893  0.408842  1.000000"
      ]
     },
     "execution_count": 114,
     "metadata": {},
     "output_type": "execute_result"
    }
   ],
   "source": [
    "sim_vals = [\n",
    " [1., 0.600554459474065, 0.7536383164437648, 0.5312856091329679],\n",
    " [0.600554459474065, 1., 0.49306869139523984, 0.7288934141100247],\n",
    " [0.7536383164437648, 0.49306869139523984, 1., 0.4088417197978041],\n",
    " [0.5312856091329679, 0.7288934141100247, 0.4088417197978041, 1.]\n",
    "]\n",
    "labels = ['dog', 'cat', 'wolf', 'rabbit']\n",
    "df_sim = pd.DataFrame(sim_vals, columns=labels, index=labels)\n",
    "df_sim"
   ]
  },
  {
   "cell_type": "markdown",
   "metadata": {},
   "source": [
    "First we will randomly initialize points for each animal:"
   ]
  },
  {
   "cell_type": "code",
   "execution_count": 115,
   "metadata": {},
   "outputs": [
    {
     "data": {
      "text/html": [
       "<div>\n",
       "<style scoped>\n",
       "    .dataframe tbody tr th:only-of-type {\n",
       "        vertical-align: middle;\n",
       "    }\n",
       "\n",
       "    .dataframe tbody tr th {\n",
       "        vertical-align: top;\n",
       "    }\n",
       "\n",
       "    .dataframe thead th {\n",
       "        text-align: right;\n",
       "    }\n",
       "</style>\n",
       "<table border=\"1\" class=\"dataframe\">\n",
       "  <thead>\n",
       "    <tr style=\"text-align: right;\">\n",
       "      <th></th>\n",
       "      <th>dim1</th>\n",
       "      <th>dim2</th>\n",
       "    </tr>\n",
       "  </thead>\n",
       "  <tbody>\n",
       "    <tr>\n",
       "      <th>dog</th>\n",
       "      <td>0.771321</td>\n",
       "      <td>0.020752</td>\n",
       "    </tr>\n",
       "    <tr>\n",
       "      <th>cat</th>\n",
       "      <td>0.633648</td>\n",
       "      <td>0.748804</td>\n",
       "    </tr>\n",
       "    <tr>\n",
       "      <th>wolf</th>\n",
       "      <td>0.498507</td>\n",
       "      <td>0.224797</td>\n",
       "    </tr>\n",
       "    <tr>\n",
       "      <th>rabbit</th>\n",
       "      <td>0.198063</td>\n",
       "      <td>0.760531</td>\n",
       "    </tr>\n",
       "  </tbody>\n",
       "</table>\n",
       "</div>"
      ],
      "text/plain": [
       "            dim1      dim2\n",
       "dog     0.771321  0.020752\n",
       "cat     0.633648  0.748804\n",
       "wolf    0.498507  0.224797\n",
       "rabbit  0.198063  0.760531"
      ]
     },
     "execution_count": 115,
     "metadata": {},
     "output_type": "execute_result"
    }
   ],
   "source": [
    "# do not change\n",
    "np.random.seed(10)\n",
    "\n",
    "# do not change\n",
    "def create_initial_random_points():\n",
    "    points = np.random.rand(4, 2)\n",
    "    points_df = pd.DataFrame(\n",
    "        points, \n",
    "        columns=['dim1', 'dim2'], \n",
    "        index=['dog', 'cat', 'wolf', 'rabbit']\n",
    "    )\n",
    "    return points_df\n",
    "\n",
    "# do not change\n",
    "df_guesses = create_initial_random_points()\n",
    "df_guesses"
   ]
  },
  {
   "cell_type": "markdown",
   "metadata": {
    "deletable": false,
    "editable": false
   },
   "source": [
    "As discussed in section, NMDS iteratively adjusts each point $x_i$ with respect to each other point $x_j$ (where $i \\neq j$) using the formula:\n",
    "\n",
    "$x_i = x_i + \\text{step\\_size} * (d̂ᵢⱼ - dᵢⱼ) × (x_j - x_i)/d̂ᵢⱼ$,\n",
    "\n",
    "where $dᵢⱼ$ is distance in psychological space, $d̂ᵢⱼ$ is the distance between points we are adjusting, and $(d̂ᵢⱼ - dᵢⱼ) × (x_j - x_i)/d̂ᵢⱼ$ is called the **gradient**.\n",
    "\n",
    "To review only briefly, $(x_j - x_i)/d̂ᵢⱼ$ is a unit vector that points from $x_i$ to $x_j$, and $(d̂ᵢⱼ - dᵢⱼ)$ is the important signed term in the stress that determines (1) whether we step in the direction of $(x_j - x_i)/d̂ᵢⱼ$ or $-(x_j - x_i)/d̂ᵢⱼ$, and (2) the size of the step we take relative to other points.\n",
    "\n",
    "**Exercise 1:**\n",
    "\n",
    "Perform NMDS using the following criteria:\n",
    "\n",
    "- Store gradients for all points on all iterations in a multidimensional numpy array called `directions` with shape `(n_iterations, n_animals, n_animals - 1, 2)`.\n",
    "- Set $\\text{step\\_size}$ to $0.4$.\n",
    "- Run for $100$ iterations.\n",
    "- Store the stress for each iteration in an array called `stress_vals`."
   ]
  },
  {
   "cell_type": "code",
   "execution_count": 116,
   "metadata": {
    "tags": [
     "otter_answer_cell"
    ]
   },
   "outputs": [
    {
     "name": "stdout",
     "output_type": "stream",
     "text": [
      "0.2691402532488104\n",
      "0.02608335510530766\n",
      "0.00863644611828238\n",
      "0.005313252072251314\n",
      "0.004266024167864888\n",
      "0.0038443891641416006\n",
      "0.0036368668607966426\n",
      "0.00351072165417821\n",
      "0.003421623163095012\n",
      "0.0033513715154942034\n",
      "0.003292516685924377\n",
      "0.003241146740784444\n",
      "0.0031951598872577394\n",
      "0.0031531390577189036\n",
      "0.0031141205620522894\n",
      "0.0030773568209189186\n",
      "0.003042267749488096\n",
      "0.003008369888209929\n",
      "0.0029752560061458763\n",
      "0.002942566378830945\n",
      "0.002909976374516819\n",
      "0.002877181808190113\n",
      "0.0028438902837475163\n",
      "0.0028098121483923835\n",
      "0.002774653834592824\n",
      "0.002738111272348268\n",
      "0.0026998643655338035\n",
      "0.0026595717212045595\n",
      "0.002616866114908463\n",
      "0.002571350577663119\n",
      "0.0025225955941837377\n",
      "0.0024701378050366184\n",
      "0.0024134810093358336\n",
      "0.002352100416779865\n",
      "0.0022854514622615983\n",
      "0.0022129847354130728\n",
      "0.002134168819280518\n",
      "0.002048522839303872\n",
      "0.0019556602096256963\n",
      "0.0018553441578268944\n",
      "0.0017475539099486334\n",
      "0.001632557731854966\n",
      "0.0015109854036131146\n",
      "0.0013838885840282663\n",
      "0.0012527739328650285\n",
      "0.0011195924160101074\n",
      "0.0009866708135423908\n",
      "0.000856579439975072\n",
      "0.0007319432014194676\n",
      "0.0006152186087277958\n",
      "0.0005084722254546023\n",
      "0.00041320072608383175\n",
      "0.00033022601002011807\n",
      "0.0002596818817750911\n",
      "0.00020108735369048342\n",
      "0.00015348320337775994\n",
      "0.00011559877945210719\n",
      "8.601674262418614e-05\n",
      "6.331189484972746e-05\n",
      "4.615189257666593e-05\n",
      "3.3358251646307824e-05\n",
      "2.393324024592647e-05\n",
      "1.7061583150172253e-05\n",
      "1.2096194314256997e-05\n",
      "8.535676533280092e-06\n",
      "5.999189116117924e-06\n",
      "4.202215294791943e-06\n",
      "2.9351099878445134e-06\n",
      "2.0451594280448014e-06\n",
      "1.4221781364837744e-06\n",
      "9.872947155537409e-07\n",
      "6.844245339470673e-07\n",
      "4.7390503906789196e-07\n",
      "3.278151386365207e-07\n",
      "2.2657386399548088e-07\n",
      "1.56492433066092e-07\n",
      "1.0802627772436085e-07\n",
      "7.45348870876061e-08\n",
      "5.1406563659376214e-08\n",
      "3.5443387939634834e-08\n",
      "2.4430570767378906e-08\n",
      "1.6835799429841776e-08\n",
      "1.1599847049936337e-08\n",
      "7.991034586986682e-09\n",
      "5.5042415721807845e-09\n",
      "3.790925458081472e-09\n",
      "2.6106834931190515e-09\n",
      "1.7977570986000275e-09\n",
      "1.2378872360961722e-09\n",
      "8.523323748063789e-10\n",
      "5.868383456169013e-10\n",
      "4.0402916258586e-10\n",
      "2.7815973975895774e-10\n",
      "1.914984727752373e-10\n",
      "1.318340619620641e-10\n",
      "9.075753934197133e-11\n",
      "6.247867126976714e-11\n",
      "4.3010636836533945e-11\n",
      "2.9608460425667865e-11\n",
      "2.03822604583785e-11\n"
     ]
    }
   ],
   "source": [
    "# Your code goes here\n",
    "step_size = 0.4\n",
    "n_iterations = 100\n",
    "n_animals = 4\n",
    "stress_vals = []\n",
    "directions = np.ndarray((n_iterations, n_animals, n_animals - 1, 2))\n",
    "\n",
    "df_d = -np.log(df_sim)\n",
    "\n",
    "for iter in range(n_iterations):\n",
    "    gradients = np.zeros((n_animals, n_animals - 1, 2))\n",
    "    points = df_guesses.values\n",
    "    stress = 0\n",
    "    \n",
    "    for i in range(n_animals):\n",
    "        grad_iter = 0\n",
    "        \n",
    "        for j in range(n_animals):\n",
    "            if i == j:\n",
    "                continue\n",
    "            \n",
    "            xi, xj = points[i], points[j]\n",
    "            \n",
    "            d_hat_ij = np.sqrt(np.pow(xi[0] - xj[0], 2)+ np.pow(xi[1] - xj[1],2))\n",
    "            \n",
    "            d_ij = df_d.iloc[i, j]\n",
    "            \n",
    "            unit_vector = (xj - xi) / d_hat_ij\n",
    "            \n",
    "            gradient = (d_hat_ij - d_ij) * unit_vector\n",
    "            gradients[i, grad_iter, :] = gradient\n",
    "            grad_iter += 1\n",
    "            \n",
    "            if i < j:\n",
    "                stress += (d_ij - d_hat_ij) ** 2\n",
    "\n",
    "\n",
    "    for i in range(n_animals):\n",
    "        total_gradient = np.sum(gradients[i], axis=0)\n",
    "        points[i] += step_size * total_gradient\n",
    "\n",
    "    df_guesses.iloc[:, :] = points\n",
    "\n",
    "    stress_vals.append(stress)\n",
    "    directions[iter] = gradients\n",
    "\n",
    "# DO NOT CHANGE\n",
    "for stress_val in stress_vals:\n",
    "    print(stress_val)"
   ]
  },
  {
   "cell_type": "code",
   "execution_count": 117,
   "metadata": {
    "deletable": false,
    "editable": false
   },
   "outputs": [
    {
     "data": {
      "text/html": [
       "<p><strong><pre style='display: inline;'>q1</pre></strong> passed! 💯</p>"
      ],
      "text/plain": [
       "q1 results: All test cases passed!"
      ]
     },
     "execution_count": 117,
     "metadata": {},
     "output_type": "execute_result"
    }
   ],
   "source": [
    "grader.check(\"q1\")"
   ]
  }
 ],
 "metadata": {
  "kernelspec": {
   "display_name": ".venv",
   "language": "python",
   "name": "python3"
  },
  "language_info": {
   "codemirror_mode": {
    "name": "ipython",
    "version": 3
   },
   "file_extension": ".py",
   "mimetype": "text/x-python",
   "name": "python",
   "nbconvert_exporter": "python",
   "pygments_lexer": "ipython3",
   "version": "3.12.3"
  },
  "otter": {
   "OK_FORMAT": true,
   "tests": {
    "q1": {
     "name": "q1",
     "points": [
      3,
      3
     ],
     "suites": [
      {
       "cases": [
        {
         "code": ">>> bool(len(stress_vals) == 100)\nTrue",
         "hidden": false,
         "locked": false
        },
        {
         "code": ">>> bool(directions.shape == (100, 4, 3, 2))\nTrue",
         "hidden": false,
         "locked": false
        }
       ],
       "scored": true,
       "setup": "",
       "teardown": "",
       "type": "doctest"
      }
     ]
    }
   }
  }
 },
 "nbformat": 4,
 "nbformat_minor": 2
}
