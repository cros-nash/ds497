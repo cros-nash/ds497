{
 "cells": [
  {
   "cell_type": "markdown",
   "metadata": {},
   "source": [
    "# Mental Representations"
   ]
  },
  {
   "cell_type": "code",
   "execution_count": 65,
   "metadata": {},
   "outputs": [],
   "source": [
    "import numpy\n",
    "import pandas as pd\n",
    "\n",
    "import matplotlib.pyplot as plt\n",
    "%matplotlib inline\n",
    "\n",
    "import tools\n",
    "from tools import *\n",
    "import importlib\n",
    "importlib.reload(tools)\n",
    "import tools\n",
    "from tools import *"
   ]
  },
  {
   "cell_type": "markdown",
   "metadata": {},
   "source": [
    "Ultimately, we want to be able to infer how our mind represents things.\n",
    "\n",
    "Shepard considered the possibility that the mind represents objects as points in a space.\n",
    "\n",
    "Under this view, the task is to figure out what those points are (using similarity data as a guide).\n",
    "\n",
    "To understand how this works, let's assume we **already know** what the points for a set of three objects: dog, cat, and wolf. You can think of those \"objects\" concretely as photographs of individual animals (e.g., a single photo of a dog, etc) that a participant might see in an experiment, or memories of animals they've seen before.\n",
    "\n",
    "Loaded below are three 2D points that define these three animals."
   ]
  },
  {
   "cell_type": "code",
   "execution_count": 66,
   "metadata": {},
   "outputs": [
    {
     "data": {
      "text/html": [
       "<div>\n",
       "<style scoped>\n",
       "    .dataframe tbody tr th:only-of-type {\n",
       "        vertical-align: middle;\n",
       "    }\n",
       "\n",
       "    .dataframe tbody tr th {\n",
       "        vertical-align: top;\n",
       "    }\n",
       "\n",
       "    .dataframe thead th {\n",
       "        text-align: right;\n",
       "    }\n",
       "</style>\n",
       "<table border=\"1\" class=\"dataframe\">\n",
       "  <thead>\n",
       "    <tr style=\"text-align: right;\">\n",
       "      <th></th>\n",
       "      <th>mind_variable_1</th>\n",
       "      <th>mind_variable_2</th>\n",
       "    </tr>\n",
       "  </thead>\n",
       "  <tbody>\n",
       "    <tr>\n",
       "      <th>dog</th>\n",
       "      <td>0.8</td>\n",
       "      <td>0.7</td>\n",
       "    </tr>\n",
       "    <tr>\n",
       "      <th>cat</th>\n",
       "      <td>0.3</td>\n",
       "      <td>0.4</td>\n",
       "    </tr>\n",
       "    <tr>\n",
       "      <th>wolf</th>\n",
       "      <td>0.7</td>\n",
       "      <td>0.9</td>\n",
       "    </tr>\n",
       "  </tbody>\n",
       "</table>\n",
       "</div>"
      ],
      "text/plain": [
       "      mind_variable_1  mind_variable_2\n",
       "dog               0.8              0.7\n",
       "cat               0.3              0.4\n",
       "wolf              0.7              0.9"
      ]
     },
     "execution_count": 66,
     "metadata": {},
     "output_type": "execute_result"
    }
   ],
   "source": [
    "df_points = load_mental_representation()\n",
    "df_points"
   ]
  },
  {
   "cell_type": "markdown",
   "metadata": {},
   "source": [
    "Each 2D object is defined by a set of two values: \n",
    "- one for some first variable in your head (`mind_variable_1`), \n",
    "- and the other for a second variable in your head (`mind_variable_2`). \n",
    "\n",
    "These variables encode some kind of information about the objects.\n",
    "\n",
    "For example, maybe `mind_variable_1` is a mental scale of \"level of animal loyalty to humans\" and `mind_variable_2` is a mental scale of \"pack behavior\". In that case, the values might mean:\n",
    "- Dog - high loyalty (to owner), strong pack behavior\n",
    "- Cat - lower loyalty, more solitary\n",
    "- Wolf - high loyalty (to pack), strongest pack behavior\n",
    "\n",
    "Because the row indices of the dataframe are strings, we can access the representation (single point) corresponding to each animal using the function below:"
   ]
  },
  {
   "cell_type": "code",
   "execution_count": 67,
   "metadata": {},
   "outputs": [
    {
     "data": {
      "text/plain": [
       "array([0.8, 0.7])"
      ]
     },
     "execution_count": 67,
     "metadata": {},
     "output_type": "execute_result"
    }
   ],
   "source": [
    "def get_point(df, animal):\n",
    "    return df.loc[animal].values\n",
    "\n",
    "get_point(df_points, 'dog')"
   ]
  },
  {
   "cell_type": "markdown",
   "metadata": {},
   "source": [
    "All three points are plotted together in the same 2D space below."
   ]
  },
  {
   "cell_type": "code",
   "execution_count": 68,
   "metadata": {},
   "outputs": [
    {
     "data": {
      "image/png": "[encoded data removed]",
      "text/plain": [
       "<Figure size 400x400 with 1 Axes>"
      ]
     },
     "metadata": {},
     "output_type": "display_data"
    }
   ],
   "source": [
    "plt.figure(figsize=(4, 4))\n",
    "for animal in ['dog', 'cat', 'wolf']:\n",
    "    # each objects is one x and one y\n",
    "    mind_variable_1, mind_variable_2 = get_point(df_points, animal)\n",
    "    plt.scatter(mind_variable_1, mind_variable_2, color='black')\n",
    "    plt.text(mind_variable_1+0.01, mind_variable_2+0.01, animal)\n",
    "plt.xlabel('mind_variable_1')\n",
    "plt.ylabel('mind_variable_2')\n",
    "plt.xlim(0.2, 1)\n",
    "plt.ylim(0.3, 1)\n",
    "plt.show()"
   ]
  },
  {
   "cell_type": "markdown",
   "metadata": {},
   "source": [
    "**Exercise 1**: Just by looking at the plot above, which pair of animals is most \"similar\"?"
   ]
  },
  {
   "cell_type": "code",
   "execution_count": 69,
   "metadata": {},
   "outputs": [],
   "source": [
    "# answer1 = 'dog/cat'\n",
    "# answer1 = 'cat/wolf'\n",
    "answer1 = 'dog/wolf'"
   ]
  },
  {
   "cell_type": "code",
   "execution_count": 70,
   "metadata": {},
   "outputs": [
    {
     "name": "stdout",
     "output_type": "stream",
     "text": [
      "Test passed\n"
     ]
    }
   ],
   "source": [
    "# TEST YOUR SOLUTION\n",
    "\n",
    "# DON'T CHANGE THIS CELL\n",
    "if 'w/g'[::-1] in answer1:\n",
    "    print('Test passed')\n",
    "else:\n",
    "    print('Test failed')"
   ]
  },
  {
   "cell_type": "markdown",
   "metadata": {},
   "source": [
    "### Distance in psychological space\n",
    "\n",
    "In a space, the dissimilarity between objects is naturally represented by distance.\n",
    "\n",
    "**Exercise 2**: define a function called `euclidean_distance` that takes two points $p$ and $q$ as numpy arrays and returns the euclidean distance between those two points.\n",
    "\n",
    "The distance formula is given below:\n",
    "\n",
    "$d(p, q) = \\sqrt{(p_1 - q_1)^2 + (p_2 - q_2)^2}$"
   ]
  },
  {
   "cell_type": "code",
   "execution_count": 71,
   "metadata": {},
   "outputs": [],
   "source": [
    "# Your code here\n",
    "def euclidean_distance(p, q):\n",
    "    return np.sqrt(np.pow(p[0] - q[0], 2)+ np.pow(p[1] - q[1],2))\n"
   ]
  },
  {
   "cell_type": "code",
   "execution_count": 72,
   "metadata": {},
   "outputs": [
    {
     "name": "stdout",
     "output_type": "stream",
     "text": [
      "Test passed\n"
     ]
    }
   ],
   "source": [
    "# TEST YOUR SOLUTION\n",
    "\n",
    "# DON'T CHANGE THIS CELL\n",
    "_ = float(euclidean_distance(np.array([1.1, 3.9]), np.array([0.1, 8])))\n",
    "if bool(numpy.isclose(_, 4.220189569201838, atol=1e-5)):\n",
    "    print('Test passed')\n",
    "else:\n",
    "    print('Test failed')"
   ]
  },
  {
   "cell_type": "markdown",
   "metadata": {},
   "source": [
    "The below code plots these distances."
   ]
  },
  {
   "cell_type": "code",
   "execution_count": 73,
   "metadata": {},
   "outputs": [
    {
     "data": {
      "image/png": "[encoded data removed]",
      "text/plain": [
       "<Figure size 400x400 with 1 Axes>"
      ]
     },
     "metadata": {},
     "output_type": "display_data"
    }
   ],
   "source": [
    "plt.figure(figsize=(4, 4))\n",
    "for animal in ['dog', 'cat', 'wolf']:\n",
    "    x, y = get_point(df_points, animal)\n",
    "    plt.scatter(x, y, color='black')\n",
    "    plt.text(x+0.01,y+0.01, animal)\n",
    "\n",
    "# plot distances with labels\n",
    "for animal1 in ['dog', 'cat', 'wolf']:\n",
    "    x1, y1 = get_point(df_points, animal1)\n",
    "    for animal2 in ['dog', 'cat', 'wolf']:\n",
    "        if animal1 == animal2:\n",
    "            continue\n",
    "        x2, y2 = get_point(df_points, animal2)\n",
    "        plt.plot([x1, x2], [y1, y2], color='black', alpha=0.2, linestyle='dotted')\n",
    "        plt.text(\n",
    "            (x1+x2)/2, (y1+y2)/2, \n",
    "            f'{euclidean_distance(get_point(df_points, animal1), get_point(df_points, animal2)):.2f}'\n",
    "        )\n",
    "plt.xlabel('mind_variable_1')\n",
    "plt.ylabel('mind_variable_2')\n",
    "plt.xlim(0.2, 1)\n",
    "plt.ylim(0.3, 1)\n",
    "plt.show()"
   ]
  },
  {
   "cell_type": "markdown",
   "metadata": {},
   "source": [
    "When we don't know the points above (i.e., the psychological representations), all we can do is collect similarity data. We assume there is some kind of approximate correspondence between similarity judgments and distances above.\n",
    "\n",
    "The below loads similarity data--called a **similarity matrix**--for the three animals.\n",
    "\n",
    "Similarity values were rated on a scale of 1 to 10 and normalize to the range of 0-1. The data below shows averages across multiple participants.\n",
    "\n",
    "Note that matching up the \"dog\" column with the \"wolf\" row gives us their rated similarity score of 0.51."
   ]
  },
  {
   "cell_type": "code",
   "execution_count": 74,
   "metadata": {},
   "outputs": [
    {
     "data": {
      "text/html": [
       "<div>\n",
       "<style scoped>\n",
       "    .dataframe tbody tr th:only-of-type {\n",
       "        vertical-align: middle;\n",
       "    }\n",
       "\n",
       "    .dataframe tbody tr th {\n",
       "        vertical-align: top;\n",
       "    }\n",
       "\n",
       "    .dataframe thead th {\n",
       "        text-align: right;\n",
       "    }\n",
       "</style>\n",
       "<table border=\"1\" class=\"dataframe\">\n",
       "  <thead>\n",
       "    <tr style=\"text-align: right;\">\n",
       "      <th></th>\n",
       "      <th>dog</th>\n",
       "      <th>cat</th>\n",
       "      <th>wolf</th>\n",
       "    </tr>\n",
       "  </thead>\n",
       "  <tbody>\n",
       "    <tr>\n",
       "      <th>dog</th>\n",
       "      <td>1.000000</td>\n",
       "      <td>0.173898</td>\n",
       "      <td>0.511289</td>\n",
       "    </tr>\n",
       "    <tr>\n",
       "      <th>cat</th>\n",
       "      <td>0.173898</td>\n",
       "      <td>1.000000</td>\n",
       "      <td>0.146470</td>\n",
       "    </tr>\n",
       "    <tr>\n",
       "      <th>wolf</th>\n",
       "      <td>0.511289</td>\n",
       "      <td>0.146470</td>\n",
       "      <td>1.000000</td>\n",
       "    </tr>\n",
       "  </tbody>\n",
       "</table>\n",
       "</div>"
      ],
      "text/plain": [
       "           dog       cat      wolf\n",
       "dog   1.000000  0.173898  0.511289\n",
       "cat   0.173898  1.000000  0.146470\n",
       "wolf  0.511289  0.146470  1.000000"
      ]
     },
     "execution_count": 74,
     "metadata": {},
     "output_type": "execute_result"
    }
   ],
   "source": [
    "df_sim = load_sim_data(points=df_points.values)\n",
    "df_sim"
   ]
  },
  {
   "cell_type": "markdown",
   "metadata": {},
   "source": [
    "We want to compare these similarities to the distances between the same object pairs in the 2D psychological representation. To do this, we need to compute all three possible unique distances.\n",
    "\n",
    "**Exercise 3**: Create a function called `get_pairwise_distances` that takes a dataframe like `df_points` and returns a dataframe like `df_sim` but with distance values instead of similarities. This is called a **distance matrix**.\n",
    "\n",
    "You can create a dataframe with the proper indices using:\n",
    "```python\n",
    "pd.DataFrame(\n",
    "    index=['dog','cat','wolf'], \n",
    "    columns=['dog','cat','wolf']\n",
    ")\n",
    "```\n",
    "\n",
    "And you can set values using `my_df.loc[animal1, animal2] = distance`."
   ]
  },
  {
   "cell_type": "code",
   "execution_count": 75,
   "metadata": {},
   "outputs": [],
   "source": [
    "# Your code here\n",
    "\n",
    "df_sim = pd.DataFrame(\n",
    "    index=['dog','cat','wolf'], \n",
    "    columns=['dog','cat','wolf']\n",
    ")\n",
    "\n",
    "def get_pairwise_distances(df):\n",
    "    distances = pd.DataFrame(index=df.index, columns=df.index)\n",
    "    for animal1 in df.index:\n",
    "        point1 = get_point(df, animal1)\n",
    "        for animal2 in df.index:\n",
    "            point2 = get_point(df, animal2)\n",
    "            distances.loc[animal1, animal2] = euclidean_distance(point1, point2)\n",
    "    return distances\n",
    "    \n",
    "    "
   ]
  },
  {
   "cell_type": "code",
   "execution_count": 76,
   "metadata": {},
   "outputs": [
    {
     "name": "stdout",
     "output_type": "stream",
     "text": [
      "Test passed\n"
     ]
    }
   ],
   "source": [
    "# TEST YOUR SOLUTION\n",
    "\n",
    "# DON'T CHANGE THIS CELL\n",
    "_ = get_pairwise_distances(df_points)\n",
    "if np.isclose(_.loc['dog', 'cat'], 0.58309518948453, atol=1e-5):\n",
    "    print('Test passed')\n",
    "else:\n",
    "    print('Test failed')"
   ]
  },
  {
   "cell_type": "markdown",
   "metadata": {},
   "source": [
    "Run the below to see the distance matrix for the animals."
   ]
  },
  {
   "cell_type": "code",
   "execution_count": 77,
   "metadata": {},
   "outputs": [
    {
     "data": {
      "text/html": [
       "<div>\n",
       "<style scoped>\n",
       "    .dataframe tbody tr th:only-of-type {\n",
       "        vertical-align: middle;\n",
       "    }\n",
       "\n",
       "    .dataframe tbody tr th {\n",
       "        vertical-align: top;\n",
       "    }\n",
       "\n",
       "    .dataframe thead th {\n",
       "        text-align: right;\n",
       "    }\n",
       "</style>\n",
       "<table border=\"1\" class=\"dataframe\">\n",
       "  <thead>\n",
       "    <tr style=\"text-align: right;\">\n",
       "      <th></th>\n",
       "      <th>dog</th>\n",
       "      <th>cat</th>\n",
       "      <th>wolf</th>\n",
       "    </tr>\n",
       "  </thead>\n",
       "  <tbody>\n",
       "    <tr>\n",
       "      <th>dog</th>\n",
       "      <td>0.0</td>\n",
       "      <td>0.583095</td>\n",
       "      <td>0.223607</td>\n",
       "    </tr>\n",
       "    <tr>\n",
       "      <th>cat</th>\n",
       "      <td>0.583095</td>\n",
       "      <td>0.0</td>\n",
       "      <td>0.640312</td>\n",
       "    </tr>\n",
       "    <tr>\n",
       "      <th>wolf</th>\n",
       "      <td>0.223607</td>\n",
       "      <td>0.640312</td>\n",
       "      <td>0.0</td>\n",
       "    </tr>\n",
       "  </tbody>\n",
       "</table>\n",
       "</div>"
      ],
      "text/plain": [
       "           dog       cat      wolf\n",
       "dog        0.0  0.583095  0.223607\n",
       "cat   0.583095       0.0  0.640312\n",
       "wolf  0.223607  0.640312       0.0"
      ]
     },
     "execution_count": 77,
     "metadata": {},
     "output_type": "execute_result"
    }
   ],
   "source": [
    "df_dist = get_pairwise_distances(df_points)\n",
    "df_dist"
   ]
  },
  {
   "cell_type": "markdown",
   "metadata": {},
   "source": [
    "Both our similarity and distance matrices are redundant in that the upper \"triangle\" is a reflection of the lower triangle. That is, the value for dog-cat is the same as the one for cat-dog. The diagonal elements are also fixed and not informative (1 for similarity, 0 for distance).\n",
    "\n",
    "**Exercise 4**: Create a function called `flatten_lower_triangle` that takes either a similarity or distance matrix dataframe like the above and returns a 1-dimensional array of the values in the lower triangle. Extract the items by column, such that the output order for the animal distance matrix should be `[dog-cat, dog-wolf, cat-wolf]`.\n",
    "\n",
    "You can use `my_df.values` to extract the raw numpy matrix of values from the dataframe."
   ]
  },
  {
   "cell_type": "code",
   "execution_count": 78,
   "metadata": {},
   "outputs": [],
   "source": [
    "# Your code here\n",
    "def flatten_lower_triangle(matrix):\n",
    "    if type(matrix) == pd.DataFrame:\n",
    "        matrix = matrix.values\n",
    "    flat = []\n",
    "    for i in range(matrix.shape[0]):\n",
    "        for j in range(matrix.shape[1]):\n",
    "            if i > j:\n",
    "                flat.append(matrix[i, j])\n",
    "    return np.array(flat)\n"
   ]
  },
  {
   "cell_type": "code",
   "execution_count": 79,
   "metadata": {},
   "outputs": [
    {
     "name": "stdout",
     "output_type": "stream",
     "text": [
      "Test failed\n"
     ]
    }
   ],
   "source": [
    "# TEST YOUR SOLUTION\n",
    "\n",
    "# DON'T CHANGE THIS CELL\n",
    "_ = flatten_lower_triangle(df_sim)\n",
    "if np.isclose(_[1], 0.5112889476777815, atol=1e-5):\n",
    "    print('Test passed')\n",
    "else:\n",
    "    print('Test failed')"
   ]
  },
  {
   "cell_type": "markdown",
   "metadata": {},
   "source": [
    "Below this function is applied to get the three unique similarity and distance values for each matrix."
   ]
  },
  {
   "cell_type": "code",
   "execution_count": 80,
   "metadata": {},
   "outputs": [
    {
     "name": "stdout",
     "output_type": "stream",
     "text": [
      "[dog-cat, dog-wolf, cat-wolf]\n",
      "Similarities [nan nan nan]\n",
      "Distances [0.58309519 0.2236068  0.64031242]\n"
     ]
    }
   ],
   "source": [
    "print(\"[dog-cat, dog-wolf, cat-wolf]\")\n",
    "\n",
    "similarities = flatten_lower_triangle(df_sim)\n",
    "print('Similarities', similarities)\n",
    "\n",
    "distances = flatten_lower_triangle(df_dist)\n",
    "print('Distances', distances)"
   ]
  },
  {
   "cell_type": "markdown",
   "metadata": {},
   "source": [
    "The below plots distance against similarities so we can see how they are related. Take a look at the result."
   ]
  },
  {
   "cell_type": "code",
   "execution_count": 81,
   "metadata": {},
   "outputs": [
    {
     "data": {
      "text/plain": [
       "(0.1, 0.55)"
      ]
     },
     "execution_count": 81,
     "metadata": {},
     "output_type": "execute_result"
    },
    {
     "data": {
      "image/png": "[encoded data removed]",
      "text/plain": [
       "<Figure size 400x400 with 1 Axes>"
      ]
     },
     "metadata": {},
     "output_type": "display_data"
    }
   ],
   "source": [
    "plt.figure(figsize=(4, 4))\n",
    "# plot the distances against similarities\n",
    "plt.scatter(distances, similarities, color='red')\n",
    "# plot the best fitting line too\n",
    "m, b = np.polyfit(distances, similarities, 1)\n",
    "x_line = np.linspace(0, 1.0, 100)\n",
    "plt.plot(x_line, m*x_line + b, 'k--', alpha=0.4)\n",
    "plt.xlabel('Distance in mental representation')\n",
    "plt.ylabel('Similarity Rating')\n",
    "plt.xlim(0.2, 0.7)\n",
    "plt.ylim(0.1, 0.55)"
   ]
  },
  {
   "cell_type": "markdown",
   "metadata": {},
   "source": [
    "The plot shows that similarity is decreasing with distance in the mental representation as we expect.\n",
    "\n",
    "The trend appears to follow a negatively sloped line, but it's hard to tell given only three points.\n",
    "\n",
    "Shepard predicts that a decreasing exponential function $e^{-distance}$ will better describe the relationship. A more general form of this function is $e^{-\\alpha \\times distance}$, where $\\alpha$ is a slope parameter that controls the shape of the exponential curve.\n",
    "\n",
    "**Exercise 5**: Create a function called `sheps_exp` that takes in a numeric argument `alpha` and a numpy array of distances and returns similarities."
   ]
  },
  {
   "cell_type": "code",
   "execution_count": 82,
   "metadata": {},
   "outputs": [],
   "source": [
    "# Your code here\n",
    "\n"
   ]
  },
  {
   "cell_type": "code",
   "execution_count": 83,
   "metadata": {},
   "outputs": [
    {
     "ename": "NameError",
     "evalue": "name 'sheps_exp' is not defined",
     "output_type": "error",
     "traceback": [
      "\u001b[0;31m---------------------------------------------------------------------------\u001b[0m",
      "\u001b[0;31mNameError\u001b[0m                                 Traceback (most recent call last)",
      "Cell \u001b[0;32mIn[83], line 4\u001b[0m\n\u001b[1;32m      1\u001b[0m \u001b[38;5;66;03m# TEST YOUR SOLUTION\u001b[39;00m\n\u001b[1;32m      2\u001b[0m \n\u001b[1;32m      3\u001b[0m \u001b[38;5;66;03m# DON'T CHANGE THIS CELL\u001b[39;00m\n\u001b[0;32m----> 4\u001b[0m _ \u001b[38;5;241m=\u001b[39m \u001b[43msheps_exp\u001b[49m(\u001b[38;5;241m0.1\u001b[39m, distances)\n\u001b[1;32m      5\u001b[0m \u001b[38;5;28;01mif\u001b[39;00m np\u001b[38;5;241m.\u001b[39misclose(_[\u001b[38;5;241m1\u001b[39m], \u001b[38;5;241m0.97788747\u001b[39m, atol\u001b[38;5;241m=\u001b[39m\u001b[38;5;241m1e-5\u001b[39m):\n\u001b[1;32m      6\u001b[0m     \u001b[38;5;28mprint\u001b[39m(\u001b[38;5;124m'\u001b[39m\u001b[38;5;124mTest passed\u001b[39m\u001b[38;5;124m'\u001b[39m)\n",
      "\u001b[0;31mNameError\u001b[0m: name 'sheps_exp' is not defined"
     ]
    }
   ],
   "source": [
    "# TEST YOUR SOLUTION\n",
    "\n",
    "# DON'T CHANGE THIS CELL\n",
    "_ = sheps_exp(0.1, distances)\n",
    "if np.isclose(_[1], 0.97788747, atol=1e-5):\n",
    "    print('Test passed')\n",
    "else:\n",
    "    print('Test failed')"
   ]
  },
  {
   "cell_type": "markdown",
   "metadata": {},
   "source": [
    "**Exercise 6**: Change the value of `alpha` in the below cell and re-run the cell until the resulting plot shows the best possible fit of the curve to the similarity data."
   ]
  },
  {
   "cell_type": "code",
   "execution_count": null,
   "metadata": {},
   "outputs": [],
   "source": [
    "# set your alpha here:\n",
    "alpha = 1.0\n",
    "\n",
    "# DON'T CHANGE THE BELOW\n",
    "plt.figure(figsize=(4, 4))\n",
    "plt.scatter(distances, similarities, color='red')\n",
    "curve_range = np.linspace(0.2, 0.7, 100)\n",
    "plt.plot(curve_range, np.exp(-alpha*np.linspace(0.2, 0.7, 100)) , 'k--')\n",
    "plt.ylim(np.exp(-alpha*curve_range).min(), np.exp(-alpha*curve_range).max())\n",
    "plt.xlabel('Distance in mental representation')\n",
    "plt.ylabel('Similarity Rating')\n",
    "plt.xlim(0.2, 0.7)\n",
    "plt.ylim(0.1, 0.55)"
   ]
  },
  {
   "cell_type": "code",
   "execution_count": null,
   "metadata": {},
   "outputs": [],
   "source": [
    "# TEST YOUR SOLUTION\n",
    "\n",
    "# DON'T CHANGE THIS CELL\n",
    "if np.isclose(alpha, float(\"0.3\"[::-1]), atol=0.1):\n",
    "    print('Test passed')\n",
    "else:\n",
    "    print('Test failed')"
   ]
  },
  {
   "cell_type": "markdown",
   "metadata": {},
   "source": [
    "The above shows that's Shepard's function perfectly fits the similarity data.\n",
    "\n",
    "In the case of this data, $similarity = e^{-3 \\times distance}$.\n",
    "\n",
    "**Exercise 6**: Use basic algebra to isolate $distance$ in the equation above. Note that the inverse of an exp function is a log function. Uncomment your answer below."
   ]
  },
  {
   "cell_type": "code",
   "execution_count": null,
   "metadata": {},
   "outputs": [],
   "source": [
    "# answer2 = \"distance = exp(similarity) / 3\"\n",
    "# answer2 = \"distance = 3*log(exp(similarity))\"\n",
    "answer2 = \"distance = -(log similarity) / 3\""
   ]
  },
  {
   "cell_type": "code",
   "execution_count": null,
   "metadata": {},
   "outputs": [
    {
     "name": "stdout",
     "output_type": "stream",
     "text": [
      "Test passed\n"
     ]
    }
   ],
   "source": [
    "# TEST YOUR SOLUTION\n",
    "\n",
    "# DON'T CHANGE THIS CELL\n",
    "if \"(-\"[::-1] in answer2:\n",
    "    print('Test passed')\n",
    "else:\n",
    "    print('Test failed')"
   ]
  },
  {
   "cell_type": "markdown",
   "metadata": {},
   "source": [
    "This new equation is important. It means that if we didn't know the psychological distances in the first place, and we usually don't, we'd have to find a set of points such that the distances between them were proportional to $-log(similarity)$, or in other words, negatively correlated with $log(similarity)$.\n",
    "\n",
    "You will learn more about how to do this in your next homework.\n",
    "\n",
    "For now, we will take a simple approach.\n",
    "\n",
    "**Exercise 7**:\n",
    "\n",
    "The below code randomly assigns points to each animal, which are then visualized. The title of the plot shows the correlation between distances for the random points and $log(similarity)$.\n",
    "\n",
    "Run the cell until the correlation value indicates that we've stumbled across a very good approximation of the original psychological representation. Then stop and run the test cell."
   ]
  },
  {
   "cell_type": "code",
   "execution_count": null,
   "metadata": {},
   "outputs": [],
   "source": [
    "df_rnd_points = create_random_points()\n",
    "\n",
    "df_rnd_dist = get_pairwise_distances(df_rnd_points)\n",
    "rnd_distances = flatten_lower_triangle(df_rnd_dist)\n",
    "\n",
    "# compute correlation with -log similarity\n",
    "log_sim = np.log(similarities)\n",
    "r = np.corrcoef(rnd_distances, log_sim)[0, 1]\n",
    "\n",
    "plt.figure(figsize=(4, 4))\n",
    "plt.title(f'Correlation: {r:.2f}')\n",
    "for animal in ['dog', 'cat', 'wolf']:\n",
    "    mind_variable_1, mind_variable_2 = get_point(df_rnd_points, animal)\n",
    "    plt.scatter(mind_variable_1, mind_variable_2, color='black')\n",
    "    plt.text(mind_variable_1+0.01, mind_variable_2+0.01, animal)\n",
    "plt.xlabel('mind_variable_1')\n",
    "plt.ylabel('mind_variable_2')\n",
    "plt.show()"
   ]
  },
  {
   "cell_type": "code",
   "execution_count": null,
   "metadata": {},
   "outputs": [],
   "source": [
    "# TEST YOUR SOLUTION\n",
    "\n",
    "# DON'T CHANGE THIS CELL\n",
    "if np.isclose(r, -1, atol=0.1):\n",
    "    print('Test passed')\n",
    "else:\n",
    "    print('Test failed')"
   ]
  }
 ],
 "metadata": {
  "kernelspec": {
   "display_name": ".venv",
   "language": "python",
   "name": "python3"
  },
  "language_info": {
   "codemirror_mode": {
    "name": "ipython",
    "version": 3
   },
   "file_extension": ".py",
   "mimetype": "text/x-python",
   "name": "python",
   "nbconvert_exporter": "python",
   "pygments_lexer": "ipython3",
   "version": "3.9.19"
  }
 },
 "nbformat": 4,
 "nbformat_minor": 2
}
