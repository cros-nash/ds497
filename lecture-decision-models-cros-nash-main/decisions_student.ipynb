{
 "cells": [
  {
   "cell_type": "markdown",
   "metadata": {},
   "source": [
    "# Models of Decision Making\n",
    "\n",
    "- Please work in groups of two or more and **help your group members**.\n",
    "\n",
    "- Commit and show an instructor your work before leaving."
   ]
  },
  {
   "cell_type": "code",
   "execution_count": 93,
   "metadata": {},
   "outputs": [
    {
     "name": "stdout",
     "output_type": "stream",
     "text": [
      "Note: you may need to restart the kernel to use updated packages.\n"
     ]
    }
   ],
   "source": [
    "# Run this cell first\n",
    "import numpy as np\n",
    "import pandas as pd\n",
    "import matplotlib.pyplot as plt\n",
    "\n",
    "%pip install ipywidgets -q\n",
    "import ipywidgets as widgets\n",
    "\n",
    "from tools import *"
   ]
  },
  {
   "cell_type": "markdown",
   "metadata": {},
   "source": [
    "### Decision Making Under Uncertainty\n",
    "\n",
    "Most of the decisions that people make every day involve **uncertain outcomes**. Decisions of this kind are referred to as **decisions under risk**. \n",
    "\n",
    "For example, making the decision to do an unpaid internship could pay off in that it could lead to a paid position, but there are no guarantees, and you could end up wasting time in the end.\n",
    "\n",
    "- **EXERCISE:** Discuss with your group which option you would choose. Explain your reasoning. Do you think there's an objective, right answer?\n",
    "\n",
    "What kind of mathematical model could account for how people make such decisions?\n",
    "\n",
    "To explore this question, let's start with a kind of decision problem format commonly employed by psychologists, consisting of two options A and B:\n",
    "\n",
    "| Option A | Option B |\n",
    "|-|-|\n",
    "| <span style=\"color:blue\">70%</span> chance of <span style=\"color:green\">$100</span> <br> <span style=\"color:blue\">30%</span> chance of <span style=\"color:green\">$20</span> | <span style=\"color:blue\">40%</span> chance of <span style=\"color:green\">$180</span> <br> <span style=\"color:blue\">60%</span> chance of <span style=\"color:green\">$40</span> |\n",
    "\n",
    "Each of the options above is called a **gamble**. You can choose either **gamble A** or **gamble B**. The outcomes of each are **uncertain**. For example, if you choose gamble A, you are most likely (70%) to win $100, but could also win much less (i.e., $20 with a 30% chance). If you choose gamble B, the possible outcomes and their probabilities are different.\n",
    "\n",
    "If you pick gamble A, you have a pretty good chance of winning a relatively \"big\" reward, but if you pick gamble B and get lucky, you could end up with more money overall.\n",
    "\n",
    "Simplified scenarios like these help psychologists measure how people reason about options with uncertain outcomes. Just like accepting an unpaid internship, the outcome of the gamble we choose above is uncertain.\n",
    "\n",
    "- **EXERCISE:** Discuss with your group which option you would choose. Explain your reasoning. Do you think there's an objective, best choice?\n",
    "\n",
    "You and your group members could pick the same gamble and still end up with a different outcome. Let's simulate the outcomes of making such choices. The `np.random.choice` function takes in a list of items (outcomes in our case) and a list of corresponding probabilities, and randomly samples an item according to those probabilities. For example, to sample an outcome from gamble A, we can write:"
   ]
  },
  {
   "cell_type": "code",
   "execution_count": 94,
   "metadata": {},
   "outputs": [
    {
     "data": {
      "text/plain": [
       "np.float64(100.0)"
      ]
     },
     "execution_count": 94,
     "metadata": {},
     "output_type": "execute_result"
    }
   ],
   "source": [
    "np.random.choice([100., 20.], p=[0.7, 0.3])"
   ]
  },
  {
   "cell_type": "markdown",
   "metadata": {},
   "source": [
    "We can also sample multiple times and see how the results vary:"
   ]
  },
  {
   "cell_type": "code",
   "execution_count": 95,
   "metadata": {},
   "outputs": [
    {
     "name": "stdout",
     "output_type": "stream",
     "text": [
      "100.0\n",
      "100.0\n",
      "20.0\n",
      "100.0\n",
      "20.0\n",
      "100.0\n",
      "100.0\n",
      "100.0\n",
      "20.0\n",
      "100.0\n"
     ]
    }
   ],
   "source": [
    "for i in range(10):\n",
    "    print(np.random.choice([100., 20.], p=[0.7, 0.3]))"
   ]
  },
  {
   "cell_type": "markdown",
   "metadata": {},
   "source": [
    "- **EXERCISE:** Create a function called `simulate_an_outcome_of_a_choice` that takes in a choice of gamble as a string (either `'A'` or `'B'`) and outputs a single (random) outcome from the chosen gamble using `np.random.choice`."
   ]
  },
  {
   "cell_type": "code",
   "execution_count": 96,
   "metadata": {},
   "outputs": [],
   "source": [
    "# Your code here\n",
    "\n",
    "def simulate_an_outcome_of_a_choice(gamble: str) -> str:\n",
    "    if gamble == 'A':\n",
    "        return np.random.choice([100., 20.], p=[0.7, 0.3])\n",
    "    else:\n",
    "        return np.random.choice([180., 40.], p=[0.4, 0.6])"
   ]
  },
  {
   "cell_type": "code",
   "execution_count": 97,
   "metadata": {},
   "outputs": [
    {
     "name": "stdout",
     "output_type": "stream",
     "text": [
      "Test passed\n"
     ]
    }
   ],
   "source": [
    "# TEST YOUR SOLUTION\n",
    "\n",
    "# DON'T CHANGE THIS CELL\n",
    "if simulate_an_outcome_of_a_choice('A') in [100., 20.]:\n",
    "    print('Test passed')\n",
    "else:\n",
    "    print('Test failed')"
   ]
  },
  {
   "cell_type": "markdown",
   "metadata": {},
   "source": [
    "Given the uncertainty involved, which gamble are people more likely to pick, and why?\n",
    "\n",
    "Let's think about Marr's computational level of analysis. What problem are people solving when they make such decisions?\n",
    "\n",
    "Intuitively, it makes a lot of sense that people would want to make the decisions that maximize good outcomes. In this particular context, this means **maximizing earnings** (i.e., more money is better than less money).\n",
    "\n",
    "- **EXERCISE:** Run the cell below to run a choice experiment. On each trial, you'll be shown the same pair of gambles and can pick one or the other by clicking a button. After making your choice, you'll be shown the outcome of that choice. At the end of the experiment, you'll see your total earnings. **Compare your total earnings with your partner.** Who made more money? Was it because of your choices or was it by chance? "
   ]
  },
  {
   "cell_type": "code",
   "execution_count": 98,
   "metadata": {},
   "outputs": [
    {
     "data": {
      "application/vnd.jupyter.widget-view+json": {
       "model_id": "d0becf98b8ec401dbf93c8c2c67314d3",
       "version_major": 2,
       "version_minor": 0
      },
      "text/plain": [
       "Output()"
      ]
     },
     "metadata": {},
     "output_type": "display_data"
    }
   ],
   "source": [
    "experiment = ChoiceExperiment()\n",
    "experiment.run()"
   ]
  },
  {
   "cell_type": "markdown",
   "metadata": {},
   "source": [
    "How can we maximize earnings if we don't know with certainty what the outcomes of our decisions will be?\n",
    "\n",
    "We don't know what the outcome of a particular choice will be, **but** we can simulate what the outcome will be **on average**.\n",
    "\n",
    "Let's see what such an average would look like.\n",
    "\n",
    "- **EXERCISE:** Use a loop and your `simulate_an_outcome_of_a_choice` function to simulate the outcomes of choosing gamble A 1000 times. Store the number of times the outcome is $100 (rather than $20) in a variable called `number_of_100s`. Store the average outcome in a variable called `average_outcome`."
   ]
  },
  {
   "cell_type": "code",
   "execution_count": 99,
   "metadata": {},
   "outputs": [
    {
     "name": "stdout",
     "output_type": "stream",
     "text": [
      "76.72\n",
      "709\n"
     ]
    }
   ],
   "source": [
    "# don't change\n",
    "np.random.seed(0)\n",
    "\n",
    "# Your code here\n",
    "number_of_100s = 0\n",
    "outcome = 0\n",
    "\n",
    "for _ in range(1000):\n",
    "    result = simulate_an_outcome_of_a_choice('A')\n",
    "    if result == 100:\n",
    "        number_of_100s += 1\n",
    "    outcome += result\n",
    "\n",
    "average_outcome = outcome/1000\n",
    "print(average_outcome)\n",
    "print(number_of_100s)"
   ]
  },
  {
   "cell_type": "code",
   "execution_count": 100,
   "metadata": {},
   "outputs": [
    {
     "name": "stdout",
     "output_type": "stream",
     "text": [
      "Test passed\n"
     ]
    }
   ],
   "source": [
    "# TEST YOUR SOLUTION\n",
    "\n",
    "# DON'T CHANGE THIS CELL\n",
    "if np.isclose(average_outcome, 70.0, atol=10) and np.isclose(number_of_100s, 700.0, atol=10):\n",
    "    print('Test passed')\n",
    "else:\n",
    "    print('Test failed')"
   ]
  },
  {
   "cell_type": "markdown",
   "metadata": {},
   "source": [
    "Let's see the results:"
   ]
  },
  {
   "cell_type": "code",
   "execution_count": 101,
   "metadata": {},
   "outputs": [
    {
     "name": "stdout",
     "output_type": "stream",
     "text": [
      "Average outcome: 76.72\n",
      "Number of 100s: 709\n"
     ]
    }
   ],
   "source": [
    "print('Average outcome:', average_outcome)\n",
    "print('Number of 100s:', number_of_100s)"
   ]
  },
  {
   "cell_type": "markdown",
   "metadata": {},
   "source": [
    "On average, we made $76.72.\n",
    "\n",
    "The number of times we won $100 was 709. That's 709 / 1000 choices = 70.9%. This is approximately what we'd expect given that, in gamble A, $100 is awarded with 70% probability.\n",
    "\n",
    "Thus, we can directly compute what we'd make on average in the long run for gamble A as ($100 * 0.7) + ($20 * 0.3) = $76.\n",
    "\n",
    "This quantity is called the **expected value** of gamble A and is defined as: $$V(A) = \\sum_{x_i\\in A} x_i p_i,$$ where each pair $(x_i, p_i)$ is an outcome and its probability from gamble A. We compute and sum these products for all outcomes in $A$.\n",
    "\n",
    "Let's compute this value for each gamble.\n",
    "\n",
    "First, we load the outcomes and probabilities for the two gambles into the numpy arrays below. Gamble A is fully described by arrays `A_outcomes` (100 and 20) and `A_probs` (.7 and .3). The same is true for B.\n",
    "\n",
    "Recall where these values come from:\n",
    "\n",
    "| Option A | Option B |\n",
    "|-|-|\n",
    "| <span style=\"color:blue\">70%</span> chance of <span style=\"color:green\">$100</span> <br> <span style=\"color:blue\">30%</span> chance of <span style=\"color:green\">$20</span> | <span style=\"color:blue\">40%</span> chance of <span style=\"color:green\">$180</span> <br> <span style=\"color:blue\">60%</span> chance of <span style=\"color:green\">$40</span> |"
   ]
  },
  {
   "cell_type": "code",
   "execution_count": 102,
   "metadata": {},
   "outputs": [],
   "source": [
    "A_outcomes = np.array([100., 20.])\n",
    "A_probs = np.array([0.7, 0.3])\n",
    "\n",
    "B_outcomes = np.array([180., 40.])\n",
    "B_probs = np.array([0.4, 0.6])"
   ]
  },
  {
   "cell_type": "markdown",
   "metadata": {},
   "source": [
    "- **EXERCISE:** Create a function called `compute_expected_value` that takes an array of outcomes from a single gamble and an array of probabilities from a single gamble and returns the expected value of that single gamble."
   ]
  },
  {
   "cell_type": "code",
   "execution_count": 103,
   "metadata": {},
   "outputs": [],
   "source": [
    "# Your code here\n",
    "\n",
    "def compute_expected_value(outcomes, probs):\n",
    "    return np.sum(outcomes * probs)"
   ]
  },
  {
   "cell_type": "code",
   "execution_count": 104,
   "metadata": {},
   "outputs": [
    {
     "name": "stdout",
     "output_type": "stream",
     "text": [
      "Test passed\n"
     ]
    }
   ],
   "source": [
    "# TEST YOUR SOLUTION\n",
    "\n",
    "if np.isclose(compute_expected_value(A_outcomes, A_probs), 76.0):\n",
    "    print('Test passed')\n",
    "else:\n",
    "    print('Test failed')"
   ]
  },
  {
   "cell_type": "markdown",
   "metadata": {},
   "source": [
    "- **EXERCISE:** Compute the expected value of gamble A and store the result in `V_A`. Do the same for B and store in `V_B`."
   ]
  },
  {
   "cell_type": "code",
   "execution_count": 105,
   "metadata": {},
   "outputs": [
    {
     "name": "stdout",
     "output_type": "stream",
     "text": [
      "V_A: 76.0\n",
      "V_B: 96.0\n"
     ]
    }
   ],
   "source": [
    "# Your code here\n",
    "V_A = compute_expected_value(A_outcomes, A_probs)\n",
    "V_B = compute_expected_value(B_outcomes, B_probs)\n",
    "\n",
    "\n",
    "# don't change\n",
    "print(f\"V_A: {V_A}\")\n",
    "print(f\"V_B: {V_B}\")"
   ]
  },
  {
   "cell_type": "code",
   "execution_count": 106,
   "metadata": {},
   "outputs": [
    {
     "name": "stdout",
     "output_type": "stream",
     "text": [
      "Test passed\n"
     ]
    }
   ],
   "source": [
    "# TEST YOUR SOLUTION\n",
    "\n",
    "if np.isclose(V_A, 76.0) and np.isclose(V_B, 96.0):\n",
    "    print('Test passed')\n",
    "else:\n",
    "    print('Test failed')"
   ]
  },
  {
   "cell_type": "markdown",
   "metadata": {},
   "source": [
    "Going back to Marr, if we think that the problem people are solving is the problem of maximizing average monetary outcomes, then a cognitive model that solves this problem is:\n",
    "\n",
    "$$\\text{behavior (choose A or not)} = \\text{decide}(A, B) = \\begin{cases}\n",
    "1 & \\text{if } V(A) > V(B), \\\\\n",
    "0 & \\text{if } V(B) > V(A), \\\\\n",
    "0.5 & \\text{if } V(A) = V(B)\n",
    " \\end{cases}$$\n",
    "\n",
    "That is, we choose A if it pays out more than B on average in the long run. If the opposite is true, we choose B. If they pay out exactly the same on average, then we are indifferent to which is chosen (represented here as \"0.5\").\n",
    "\n",
    "Analyzing how people might rationally solve a problem is called **rational analysis**. Models that make solve problems rationally are called **rational models**.\n",
    "\n",
    "- **EXERCISE:** Implement the rational cognitive model above. Create a function called `decide_between_A_and_B` that takes as input `V_A` and `V_B` and outputs a decision as a string for convenience (either `'A'`, `'B'`, or `'Indifferent'`)."
   ]
  },
  {
   "cell_type": "code",
   "execution_count": 107,
   "metadata": {},
   "outputs": [],
   "source": [
    "# Your code here\n",
    "\n",
    "def decide_between_A_and_B(v_a, v_b):\n",
    "    if v_a > v_b: return 'A'\n",
    "    elif v_b > v_a: return 'B'\n",
    "    else: return 'Indifferent'"
   ]
  },
  {
   "cell_type": "code",
   "execution_count": 108,
   "metadata": {},
   "outputs": [
    {
     "name": "stdout",
     "output_type": "stream",
     "text": [
      "Test passed\n"
     ]
    }
   ],
   "source": [
    "# TEST YOUR SOLUTION\n",
    "\n",
    "if decide_between_A_and_B(V_A, V_B) == 'B':\n",
    "    print('Test passed')\n",
    "else:\n",
    "    print('Test failed')"
   ]
  },
  {
   "cell_type": "markdown",
   "metadata": {},
   "source": [
    "Based on this model, we should choose gamble B, because it pays out more than A on average ($96 vs $76).\n",
    "\n",
    "- **EXERCISE:** Confirm this below using `decide_between_A_and_B`. Store the result in a variable called `choice`."
   ]
  },
  {
   "cell_type": "code",
   "execution_count": 109,
   "metadata": {},
   "outputs": [
    {
     "data": {
      "text/plain": [
       "'B'"
      ]
     },
     "execution_count": 109,
     "metadata": {},
     "output_type": "execute_result"
    }
   ],
   "source": [
    "# Your code here\n",
    "\n",
    "choice = decide_between_A_and_B(V_A, V_B)\n",
    "\n",
    "# don't change\n",
    "choice"
   ]
  },
  {
   "cell_type": "code",
   "execution_count": 110,
   "metadata": {},
   "outputs": [
    {
     "name": "stdout",
     "output_type": "stream",
     "text": [
      "Test passed\n"
     ]
    }
   ],
   "source": [
    "# TEST YOUR SOLUTION\n",
    "\n",
    "# DON'T CHANGE THIS CELL\n",
    "if choice == 'B':\n",
    "    print('Test passed')\n",
    "else:\n",
    "    print('Test failed')"
   ]
  },
  {
   "cell_type": "markdown",
   "metadata": {},
   "source": [
    "The above model is surprisingly effective and explains many human decisions.\n",
    "\n",
    "However, let's look at another choice problem:\n",
    "\n",
    "| Gamble A | Gamble B |\n",
    "|-|-|\n",
    "| <span style=\"color:blue\">50%</span> chance of <span style=\"color:green\">$1,000</span> <br> <span style=\"color:blue\">50%</span> chance of <span style=\"color:green\">$0</span> | <span style=\"color:blue\">100%</span> chance of <span style=\"color:green\">$450</span> |\n",
    "\n",
    "In behavioral experiments, **the majority of the participants usually choose gamble B**.\n",
    "\n",
    "Let's see if this choice makes sense under our model.\n",
    "\n",
    "Again, we'll represent the decision problem using numpy arrays.\n",
    "\n",
    "- **EXERCISE:** Fill in the blanks."
   ]
  },
  {
   "cell_type": "code",
   "execution_count": 111,
   "metadata": {},
   "outputs": [],
   "source": [
    "# Fill in the blanks\n",
    "\n",
    "A2_outcomes = np.array([1000, 0.])\n",
    "A2_probs = np.array([0.5, 0.5])\n",
    "\n",
    "B2_outcomes = np.array([450.])\n",
    "B2_probs = np.array([1.0])"
   ]
  },
  {
   "cell_type": "code",
   "execution_count": 112,
   "metadata": {},
   "outputs": [
    {
     "name": "stdout",
     "output_type": "stream",
     "text": [
      "Test passed\n"
     ]
    }
   ],
   "source": [
    "# TEST YOUR SOLUTION\n",
    "\n",
    "# DON'T CHANGE THIS CELL\n",
    "if np.isclose(compute_expected_value(A2_outcomes, A2_probs), 500.0) and np.isclose(compute_expected_value(B2_outcomes, B2_probs), 450.0):\n",
    "    print('Test passed')\n",
    "else:\n",
    "    print('Test failed')"
   ]
  },
  {
   "cell_type": "markdown",
   "metadata": {},
   "source": [
    "Let's look at the expected values of each gamble.\n",
    "\n",
    "- **EXERCISE:** Fill in the blanks."
   ]
  },
  {
   "cell_type": "code",
   "execution_count": 113,
   "metadata": {},
   "outputs": [
    {
     "name": "stdout",
     "output_type": "stream",
     "text": [
      "V_A: 500.0\n",
      "V_B: 450.0\n"
     ]
    }
   ],
   "source": [
    "# Fill in the blanks\n",
    "\n",
    "V_A2 = compute_expected_value(A2_outcomes, A2_probs)\n",
    "V_B2 = compute_expected_value(B2_outcomes, B2_probs)\n",
    "\n",
    "print(f\"V_A: {V_A2}\")\n",
    "print(f\"V_B: {V_B2}\")"
   ]
  },
  {
   "cell_type": "code",
   "execution_count": 114,
   "metadata": {},
   "outputs": [
    {
     "name": "stdout",
     "output_type": "stream",
     "text": [
      "Test passed\n"
     ]
    }
   ],
   "source": [
    "# TEST YOUR SOLUTION\n",
    "if np.isclose(V_A2, 500.0) and np.isclose(V_B2, 450.0):\n",
    "    print('Test passed')\n",
    "else:\n",
    "    print('Test failed')"
   ]
  },
  {
   "cell_type": "markdown",
   "metadata": {},
   "source": [
    "**The expected value model predicts that people will choose gamble A** because it has a higher expected value (500 vs 450). \n",
    "\n",
    "However, as we mentioned before, **most participants choose gamble B rather than gamble A!**\n",
    "\n",
    "Empirical choices made by people that violate what is expected by a rational theory are called **choice anomalies**.\n",
    "\n",
    "Why do people choose gamble B if its EV is lower? That is, why seemingly choose $450 over $500? A popular theory of why this happens has to do with how the mind treats quanitities of money.\n",
    "\n",
    "### From money to utility\n",
    "\n",
    "Imagine you were walking along and found $500 on the street. You'd feel pretty happy. Now, let's say that 10 minutes later, you found another $500. You'd now have exactly twice as much money (i.e., you went from $500 to $1,000), but would you feel exactly twice as happy? You'd definitely feel happier, but perhaps not twice as much. Why not? Going from having no extra spending money to now having an extra $500 is a big deal, whereas going from $500 to $1000 would be somewhat less of a shock. In the same way, a million dollars is much more valuable to someone who makes $30,000/year than to someone who's already a millionaire.\n",
    "\n",
    "This provides a possible explanation for why people choose gamble B. The \"second half\" of the $1000 is worth much less \"happiness\" than the first half, and so the total happiness is not 2 * happiness_from(500); it's less. This makes $1000 seem less appealing than it would be if it were worth 2 * happiness_from(500), rather than less.\n",
    "\n",
    "Thus, what's perhaps more important to us is not the raw monetary values but the \"happiness points\" associated with them. We can think of these points as representing the **psychological value of money**, which is often referred to as **utility**. How does exactly does utility relate to money?\n",
    "\n",
    "Our discussion of \"happiness\" above implies that more utility is obtained by an increase from say $1 to $2 than is obtained by an increase from say $1,001 to $1,002. Both are an increase of $1, but the first is psychologically more valuable. The general pattern we are describing here is that the value of each consecutive dollar **decreases** over the previous dollar.\n",
    "\n",
    "We can describe this relationship using a curve that looks something like the one below. In particular, larger amounts of money *always* provide more utility, as we'd expect, but they also increase utility at a decreasing rate. For example, the curve implies that utility increases rapidly from $0 to $200, but only slowly from $800 to $1,000. This is phenomenon is called the **diminishing marginal utility** of money."
   ]
  },
  {
   "cell_type": "code",
   "execution_count": 115,
   "metadata": {},
   "outputs": [
    {
     "data": {
      "image/png": "[encoded data removed]",
      "text/plain": [
       "<Figure size 640x480 with 1 Axes>"
      ]
     },
     "metadata": {},
     "output_type": "display_data"
    }
   ],
   "source": [
    "plot_utility_curve()"
   ]
  },
  {
   "cell_type": "markdown",
   "metadata": {},
   "source": [
    "If this seems familiar, it should! It's not unlike Fechner's law, a kind of psychophysics for money. We are mapping the objective value of money to a psychological variable called utility, just like we mapped grams to log(grams).\n",
    "\n",
    "However, the curve need not neccessarily be a logarithmic function. In fact, it's more common to use a power function, which is the function plotted above. Given some monetary value $x$ (e.g., $5), the utility of $x$ can be written as $u(x) = x^\\alpha$, where $\\alpha$ is a parameter that determines the shape of the utility function.\n",
    "\n",
    "- **EXERCISE:** Create a function called `power_function` that takes an outcome `x` and a parameter `alpha` as input and returns $u(x)$ as output."
   ]
  },
  {
   "cell_type": "code",
   "execution_count": 116,
   "metadata": {},
   "outputs": [],
   "source": [
    "# Your code here\n",
    "\n",
    "def power_function(x, alpha):\n",
    "    return x ** alpha"
   ]
  },
  {
   "cell_type": "code",
   "execution_count": 117,
   "metadata": {},
   "outputs": [
    {
     "name": "stdout",
     "output_type": "stream",
     "text": [
      "Test passed\n"
     ]
    }
   ],
   "source": [
    "# TEST YOUR SOLUTION\n",
    "\n",
    "# DON'T CHANGE THIS CELL\n",
    "if np.isclose(power_function(0.5, 0.5), 0.7071067811865476):\n",
    "    print('Test passed')\n",
    "else:\n",
    "    print('Test failed')"
   ]
  },
  {
   "cell_type": "markdown",
   "metadata": {},
   "source": [
    "Observe below that when $\\alpha = 1$, the function is linear, and utility = money."
   ]
  },
  {
   "cell_type": "code",
   "execution_count": 118,
   "metadata": {},
   "outputs": [
    {
     "data": {
      "image/png": "[encoded data removed]",
      "text/plain": [
       "<Figure size 640x480 with 1 Axes>"
      ]
     },
     "metadata": {},
     "output_type": "display_data"
    }
   ],
   "source": [
    "plot_utility_curve(alpha=1)"
   ]
  },
  {
   "cell_type": "markdown",
   "metadata": {},
   "source": [
    "When $\\alpha < 1$, the function becomes nonlinear, and we see the familiar the diminishing marginal utility of money:"
   ]
  },
  {
   "cell_type": "code",
   "execution_count": 119,
   "metadata": {},
   "outputs": [
    {
     "data": {
      "image/png": "[encoded data removed]",
      "text/plain": [
       "<Figure size 640x480 with 1 Axes>"
      ]
     },
     "metadata": {},
     "output_type": "display_data"
    }
   ],
   "source": [
    "plot_utility_curve(alpha=0.4)"
   ]
  },
  {
   "cell_type": "markdown",
   "metadata": {},
   "source": [
    "As $\\alpha$ gets further from 1 and closer to 0, the utility of money decreases even faster.\n",
    "\n",
    "The value of $\\alpha$ that's best is the one that best describes behavior. However, the exact value is less important. We'll revisit this parameter later. \n",
    "\n",
    "What's most important is that when $\\alpha < 1$, we can model diminishing marginal utility. When $\\alpha = 1$, we can't because then utility = money, which we suspect isn't true."
   ]
  },
  {
   "cell_type": "code",
   "execution_count": 120,
   "metadata": {},
   "outputs": [
    {
     "data": {
      "image/png": "[encoded data removed]",
      "text/plain": [
       "<Figure size 640x480 with 1 Axes>"
      ]
     },
     "metadata": {},
     "output_type": "display_data"
    }
   ],
   "source": [
    "plot_utility_curves()"
   ]
  },
  {
   "cell_type": "markdown",
   "metadata": {},
   "source": [
    "Let's now convert our outcomes to utilities. That is, we convert the objective outcomes to the quanities our minds might use to represent them. We'll use an $\\alpha$ value of $0.8$ for now.\n",
    "\n",
    "- **EXERCISE:** Fill in the blanks:"
   ]
  },
  {
   "cell_type": "code",
   "execution_count": 121,
   "metadata": {},
   "outputs": [],
   "source": [
    "# Fill in the blanks:\n",
    "\n",
    "A2_utils = power_function(1000, alpha=0.8)\n",
    "B2_utils = power_function(450, alpha=0.8)"
   ]
  },
  {
   "cell_type": "markdown",
   "metadata": {},
   "source": [
    "Notice that the values have now been transformed from:"
   ]
  },
  {
   "cell_type": "code",
   "execution_count": 122,
   "metadata": {},
   "outputs": [
    {
     "name": "stdout",
     "output_type": "stream",
     "text": [
      "[1000.    0.]\n",
      "[450.]\n"
     ]
    }
   ],
   "source": [
    "print(A2_outcomes)\n",
    "print(B2_outcomes)"
   ]
  },
  {
   "cell_type": "markdown",
   "metadata": {},
   "source": [
    "to:"
   ]
  },
  {
   "cell_type": "code",
   "execution_count": 123,
   "metadata": {},
   "outputs": [
    {
     "name": "stdout",
     "output_type": "stream",
     "text": [
      "251.1886431509581\n",
      "132.60808731637425\n"
     ]
    }
   ],
   "source": [
    "print(A2_utils)\n",
    "print(B2_utils)"
   ]
  },
  {
   "cell_type": "markdown",
   "metadata": {},
   "source": [
    "Notice that $1000 is now worth ~251 utility, and $450 is now worth ~133 utility.\n",
    "\n",
    "The first implication is that $1000 is still worth more than $450 (because 251 is greater than 133), which makes logical sense. Let's see if there are any other consequences.\n",
    "\n",
    "Now that we've converted outcomes to utilities, when we compute expected value, we are **computing average** utility, called the **expected utility**: $$V(A) = \\sum_{x_i\\in A} u(x_i) p_i$$\n",
    "\n",
    "Let's compute these expected utilities below.\n",
    "\n",
    "- **EXERCISE:** Fill in the blanks:"
   ]
  },
  {
   "cell_type": "code",
   "execution_count": 124,
   "metadata": {},
   "outputs": [
    {
     "name": "stdout",
     "output_type": "stream",
     "text": [
      "Expected utility of A2: 125.59432157547904\n",
      "Expected utility of B2: 132.60808731637425\n"
     ]
    }
   ],
   "source": [
    "# Fill in the blanks\n",
    "\n",
    "EU_A2 = compute_expected_value(A2_utils, A2_probs[0])\n",
    "EU_B2 = compute_expected_value(B2_utils, B2_probs)\n",
    "\n",
    "print(\"Expected utility of A2:\", EU_A2)\n",
    "print(\"Expected utility of B2:\", EU_B2)"
   ]
  },
  {
   "cell_type": "code",
   "execution_count": 125,
   "metadata": {},
   "outputs": [
    {
     "name": "stdout",
     "output_type": "stream",
     "text": [
      "Test passed\n"
     ]
    }
   ],
   "source": [
    "# TEST YOUR SOLUTION\n",
    "if np.isclose(EU_A2, 125.59432157547904) and np.isclose(EU_B2, 132.60808731637425):\n",
    "    print('Test passed')\n",
    "else:\n",
    "    print('Test failed')"
   ]
  },
  {
   "cell_type": "markdown",
   "metadata": {},
   "source": [
    "Let's remind ourselves what this means.\n",
    "\n",
    "We started with the choice problem:\n",
    "\n",
    "| Gamble A | Gamble B |\n",
    "|-|-|\n",
    "| <span style=\"color:blue\">50%</span> chance of <span style=\"color:green\">$1,000</span> <br> <span style=\"color:blue\">50%</span> chance of <span style=\"color:green\">$0</span> | <span style=\"color:blue\">100%</span> chance of <span style=\"color:green\">$450</span> |\n",
    "\n",
    "People tend to choose gamble B, even though gamble A pays out more on average ($500 vs $450).\n",
    "\n",
    "When we transform money into utility, we get 0.5 * 251 = 126 for gamble A, and 1.0 * 133 = 133 for gamble B. That is, **the value of gamble B is now greater than the value of gamble A!**\n",
    "\n",
    "Let's verify.\n",
    "\n",
    "- **EXERCISE:** Fill in the blanks:"
   ]
  },
  {
   "cell_type": "code",
   "execution_count": 126,
   "metadata": {},
   "outputs": [
    {
     "data": {
      "text/plain": [
       "'B'"
      ]
     },
     "execution_count": 126,
     "metadata": {},
     "output_type": "execute_result"
    }
   ],
   "source": [
    "# Fill in the blanks\n",
    "\n",
    "decide_between_A_and_B(EU_A2, EU_B2)"
   ]
  },
  {
   "cell_type": "code",
   "execution_count": 127,
   "metadata": {},
   "outputs": [
    {
     "name": "stdout",
     "output_type": "stream",
     "text": [
      "Test passed\n"
     ]
    }
   ],
   "source": [
    "# TEST YOUR SOLUTION\n",
    "\n",
    "# DON'T CHANGE THIS CELL\n",
    "if decide_between_A_and_B(EU_A2, EU_B2) == 'B':\n",
    "    print('Test passed')\n",
    "else:\n",
    "    print('Test failed')"
   ]
  },
  {
   "cell_type": "markdown",
   "metadata": {},
   "source": [
    "Thus a model that transforms money into \"happiness points\" (utilities) is one way to **account for why people choose gamble B over gamble A** despite the latter paying out more on average.\n",
    "\n",
    "### Why does this work?\n",
    "\n",
    "Let's think a little more about why this happens. Imagine a slightly different problem:\n",
    "\n",
    "| Gamble A | Gamble B |\n",
    "|-|-|\n",
    "| <span style=\"color:blue\">50%</span> chance of <span style=\"color:green\">$1,000</span> <br> <span style=\"color:blue\">50%</span> chance of <span style=\"color:green\">$0</span> | <span style=\"color:blue\">100%</span> chance of <span style=\"color:green\">$500</span> |\n",
    "\n",
    "The only difference now is that gamble B awards $500. Now the expected values (not utilities) are exactly equal. That is, 1000 * .5 (gamble A) = 500 * 1 (gamble B). In words, you can either get $500 every time, or get $1000 half of the time.\n",
    "\n",
    "In this case, a model based on expected value assumes that people will find the gambles equally attractive. However, empirically, just like the previous problem, most people clearly favor B.\n",
    "\n",
    "To understand how this is possible, think of the $1000 has having two halves. The first half ($500) is worth just as much **utility** as the outcome of B. That is, both are worth $u(\\$500)$. \n",
    "\n",
    "Let's compute this utility:"
   ]
  },
  {
   "cell_type": "code",
   "execution_count": 128,
   "metadata": {},
   "outputs": [
    {
     "data": {
      "text/plain": [
       "144.2699905907214"
      ]
     },
     "execution_count": 128,
     "metadata": {},
     "output_type": "execute_result"
    }
   ],
   "source": [
    "power_function(500, alpha=0.8)"
   ]
  },
  {
   "cell_type": "markdown",
   "metadata": {},
   "source": [
    "The utility of $500, $u(\\$500)$, is ~144.\n",
    "\n",
    "Now let's compute the utility of $1000:"
   ]
  },
  {
   "cell_type": "code",
   "execution_count": 129,
   "metadata": {},
   "outputs": [
    {
     "data": {
      "text/plain": [
       "251.1886431509581"
      ]
     },
     "execution_count": 129,
     "metadata": {},
     "output_type": "execute_result"
    }
   ],
   "source": [
    "power_function(1000, alpha=0.8)"
   ]
  },
  {
   "cell_type": "markdown",
   "metadata": {},
   "source": [
    "The utility of $1000, $u(\\$1000)$, is ~251.\n",
    "\n",
    "Now, when we multiply this utility by .5 (50% chance), we get:"
   ]
  },
  {
   "cell_type": "code",
   "execution_count": 130,
   "metadata": {},
   "outputs": [
    {
     "data": {
      "text/plain": [
       "125.59432157547904"
      ]
     },
     "execution_count": 130,
     "metadata": {},
     "output_type": "execute_result"
    }
   ],
   "source": [
    "power_function(1000, alpha=0.8) / 2"
   ]
  },
  {
   "cell_type": "markdown",
   "metadata": {},
   "source": [
    "125 is less than 144. That is, $u(\\$500) > 0.5 \\times u(\\$1000)$.\n",
    "\n",
    "This is because the \"second half\" of the $1000 is \"worth less\" in utility points than the first. This is the diminishing marginal utility of money at work."
   ]
  },
  {
   "cell_type": "markdown",
   "metadata": {},
   "source": [
    "### From gains to losses\n",
    "\n",
    "So far we've only considered choices between options where the outcomes are positive. What about cases where we stand to lose money?\n",
    "\n",
    "Consider the following choice problem:\n",
    "\n",
    "| Gamble A | Gamble B |\n",
    "|-|-|\n",
    "| <span style=\"color:blue\">50%</span> chance of <span style=\"color:green\">-$100</span> <br> <span style=\"color:blue\">50%</span> chance of <span style=\"color:green\">$100</span> | <span style=\"color:blue\">100%</span> chance of <span style=\"color:green\">$0</span> |\n",
    "\n",
    "In the first gamble, we have the chance to win $100, but we could also lose $100. The other option is that we could just take $0 with certainty, in which case we can't lose, but we also can't win.\n",
    "\n",
    "**Expected value predicts that people will be indifferent**, because both gambles average out to 0.\n",
    "\n",
    "**However, most people have a strong preference for gamble B**.\n",
    "\n",
    "Can expected utility do any better?\n",
    "\n",
    "We can easily extend our utility function to the loss domain by assuming that the utililty of a loss is just negative utility of what we'd get for a gain of the same size: $u(-x) = -u(x)$. That is, more money increases utility, and less money decreases utility.\n",
    "\n",
    "We can implement this by redefining our utility function to be $u(x) = \\text{sign}(x) \\times |x|^\\alpha$.\n",
    "\n",
    "- **EXERCISE:** Create a function called `power_function_with_losses` that implements the above utility function."
   ]
  },
  {
   "cell_type": "code",
   "execution_count": 131,
   "metadata": {},
   "outputs": [],
   "source": [
    "# Your code here\n",
    "\n",
    "def power_function_with_losses(x, alpha):\n",
    "    return np.sign(x) * np.pow(np.abs(x), alpha)"
   ]
  },
  {
   "cell_type": "code",
   "execution_count": 132,
   "metadata": {},
   "outputs": [
    {
     "name": "stdout",
     "output_type": "stream",
     "text": [
      "Test passed\n"
     ]
    }
   ],
   "source": [
    "# TEST YOUR SOLUTION\n",
    "\n",
    "# DON'T CHANGE THIS CELL\n",
    "if np.isclose(power_function_with_losses(-0.5, alpha=0.5), -0.7071067811865476):\n",
    "    print('Test passed')\n",
    "else:\n",
    "    print('Test failed')"
   ]
  },
  {
   "cell_type": "markdown",
   "metadata": {},
   "source": [
    "We can visualize this more general utility function below:"
   ]
  },
  {
   "cell_type": "code",
   "execution_count": 133,
   "metadata": {},
   "outputs": [
    {
     "data": {
      "image/png": "[encoded data removed]",
      "text/plain": [
       "<Figure size 640x480 with 1 Axes>"
      ]
     },
     "metadata": {},
     "output_type": "display_data"
    }
   ],
   "source": [
    "plot_utility_curve_with_losses()"
   ]
  },
  {
   "cell_type": "markdown",
   "metadata": {},
   "source": [
    "Let's apply this function and see what happens.\n",
    "\n",
    "For gamble B, $u(0) = 0$. Nothing happens there.\n",
    "\n",
    "For gamble A, we have possible outcomes 100 and -100.\n",
    "\n",
    "Let's see what their utility values are.\n",
    "\n",
    "- **EXERCISE:** Fill in the blanks:"
   ]
  },
  {
   "cell_type": "code",
   "execution_count": 134,
   "metadata": {},
   "outputs": [
    {
     "name": "stdout",
     "output_type": "stream",
     "text": [
      "39.810717055349734\n",
      "-39.810717055349734\n"
     ]
    }
   ],
   "source": [
    "# Fill in the blanks\n",
    "\n",
    "utility_of_gain = power_function_with_losses(100, 0.8)\n",
    "utility_of_loss = power_function_with_losses(-100, 0.8)\n",
    "\n",
    "print(utility_of_gain)\n",
    "print(utility_of_loss)"
   ]
  },
  {
   "cell_type": "code",
   "execution_count": 135,
   "metadata": {},
   "outputs": [
    {
     "name": "stdout",
     "output_type": "stream",
     "text": [
      "Test passed\n"
     ]
    }
   ],
   "source": [
    "# TEST YOUR SOLUTION\n",
    "\n",
    "if np.isclose(utility_of_gain + utility_of_loss, 0.0):\n",
    "    print('Test passed')\n",
    "else:\n",
    "    print('Test failed')"
   ]
  },
  {
   "cell_type": "markdown",
   "metadata": {},
   "source": [
    "Their utilities have equal magnitudes (39 and -39), and thus their average is still 0.\n",
    "\n",
    "Thus, the averages for both gambles are still 0, which again predicts indifference.\n",
    "\n",
    "This means that **expected utility does not explain human behavior for this choice problem**, since we know that people are not indifferent.\n",
    "\n",
    "Let's verify this.\n",
    "\n",
    "- **EXERCISE:** Fill in the blanks:"
   ]
  },
  {
   "cell_type": "code",
   "execution_count": 136,
   "metadata": {},
   "outputs": [
    {
     "data": {
      "text/plain": [
       "'Indifferent'"
      ]
     },
     "execution_count": 136,
     "metadata": {},
     "output_type": "execute_result"
    }
   ],
   "source": [
    "# Fill in the blanks\n",
    "\n",
    "A3_outcomes = np.array([-100., 100])\n",
    "A3_probs = np.array([0.5, 0.5])\n",
    "\n",
    "B3_outcomes = np.array([0.])\n",
    "B3_probs = np.array([1])\n",
    "\n",
    "A3_utils = power_function_with_losses(A3_outcomes, alpha=0.8)\n",
    "B3_utils = power_function_with_losses(B3_outcomes, alpha=0.8)\n",
    "\n",
    "EU_A3 = compute_expected_value(A3_utils, A3_probs)\n",
    "EU_B3 = compute_expected_value(B3_utils, B3_probs)\n",
    "\n",
    "decide_between_A_and_B(EU_A3, EU_B3)"
   ]
  },
  {
   "cell_type": "code",
   "execution_count": 137,
   "metadata": {},
   "outputs": [
    {
     "name": "stdout",
     "output_type": "stream",
     "text": [
      "Test passed\n"
     ]
    }
   ],
   "source": [
    "# TEST YOUR SOLUTION\n",
    "\n",
    "# DON'T CHANGE THIS CELL\n",
    "if decide_between_A_and_B(EU_A3, EU_B3) == 'Indifferent':\n",
    "    print('Test passed')\n",
    "else:\n",
    "    print('Test failed')"
   ]
  },
  {
   "cell_type": "markdown",
   "metadata": {},
   "source": [
    "Again, let's try to think about how this is possible. The only difference in this new problem is that it involves a loss, which people seem to be avoiding. \n",
    "\n",
    "This is called **loss aversion**. It was one of the discovered behaviors that led Daniel Kahneman and Amos Tversky in 2002 to become the first psychologists to win a Nobel Prize.\n",
    "\n",
    "Kahneman and Tversky proposed that, to people, \"losses loom larger than gains\". That is, we feel more upset about a loss of $100 than we feel good about a gain of $100.\n",
    "\n",
    "Thus, maybe $u(\\$100)$ provides say 50 utility points, whereas $u(\\-$100)$ provides -80 utility points. Such behavior requires an **asymmetric** utility function that treats losses different than gains. We will explore this idea in a later assignment.\n",
    "\n",
    "Importantly, a model incorporating the above could explain people's behavior. That is, the loss (-$100) could drag down the total utility for gamble A to a value below 0, and thus gamble B would be preferred.\n",
    "\n",
    "While explaining losses would be an improvement, it still doesn't give us a perfect model. For example, just as people seem to treat money values subjectively, they also treat probability values subjectively. Moreover, there is a large and growing list of choice anomalies that researchers are still exploring. A full explanation of how the mind makes decisions under risk will require explaining of peoples' many biases."
   ]
  }
 ],
 "metadata": {
  "kernelspec": {
   "display_name": ".venv",
   "language": "python",
   "name": "python3"
  },
  "language_info": {
   "codemirror_mode": {
    "name": "ipython",
    "version": 3
   },
   "file_extension": ".py",
   "mimetype": "text/x-python",
   "name": "python",
   "nbconvert_exporter": "python",
   "pygments_lexer": "ipython3",
   "version": "3.12.6"
  }
 },
 "nbformat": 4,
 "nbformat_minor": 2
}
