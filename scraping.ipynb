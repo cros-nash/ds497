{
  "cells": [
    {
      "cell_type": "markdown",
      "metadata": {
        "id": "hVrF0K2NdUbA"
      },
      "source": [
        "# Web Scraping\n",
        "\n",
        "Our goal is to extract information from the web, sometimes from more than one page.\n",
        "\n",
        "To do this, there are two terms you need to know:\n",
        "\n",
        "- **Crawling** refers to following links on pages to reach other pages.\n",
        "\n",
        "- **Scraping** refers to extracting information/data from one or more of those pages.\n",
        "\n",
        "As we learned previously, web pages are specified using HTML, and thus scraping means we are downloading this HTML.\n",
        "\n",
        "For example, consider a simple web page like what we've seen before.\n",
        "\n",
        "```html\n",
        "<!DOCTYPE html>\n",
        "<html>\n",
        "  <head>\n",
        "    <title>Webpage Title</title>\n",
        "  </head>\n",
        "  <body>\n",
        "    <p>All that's on this page is a single html \"paragraph\" (i.e., sentence).</p>\n",
        "  </body>\n",
        "</html>\n",
        "```\n",
        "\n",
        "Scraping this web page is **nothing more** than automatically downloading the above HTML.\n",
        "\n",
        "Once it's downloaded, we can extract only the bits we want. In this simple example, the title and/or the sentence are our only options.\n",
        "\n",
        "In most cases, the information we want to extract is a very specific, tiny part of a page. Luckily, 99.99% of all websites you encounter will include easy ways to identify this specific content. For example, consider the below.\n",
        "\n",
        "```html\n",
        "<!DOCTYPE html>\n",
        "<html>\n",
        "  <body>\n",
        "    <h1>John Smith</h1>\n",
        "    <p>Age: 25</p>\n",
        "  </body>\n",
        "</html>\n",
        "```\n",
        "\n",
        "The page shows the name of someone and their age using two different HTML elements. The `<h1>` element shows \"John Smith\" in large bold letters (called a heading). However, you don't have to know what a `<h1>` element is to know you want to grab the \"John Smith\" text. You can extract the text from any element whatsover, e.g., `<anytag>text</anytag>`. You could also exact the \"Age: 25\" text from the paragraph `<p>` element.\n",
        "\n",
        "The other common distinction will be as follows:\n",
        "\n",
        "```html\n",
        "<!DOCTYPE html>\n",
        "<html>\n",
        "  <body>\n",
        "    <p class=\"name\">John Smith</p>\n",
        "    <p class=\"age\">Age: 25</p>\n",
        "  </body>\n",
        "</html>\n",
        "```\n",
        "\n",
        "Now we have two paragraph tags. We could just grab both. However, they are also distinguished. One of the elements has `class=\"name\"` inside of the start tag. The other one has `class=\"age\"`. These are called HTML **attributes** and always have the form `<tag attribute=value></tag>`. You can uses these attributes to select the content you want to extract, such as all paragraph elements that have their class attribute set to \"name\". **You do not have to know the difference between attributes** in order to use them to select content.\n",
        "\n",
        "That's just all there is to scraping in theory. We will explore these ideas in practice below.\n",
        "\n",
        "### Scrapy\n",
        "\n",
        "**Scrapy** is an easy web scraping framework for Python that allows us to scrape (and crawl) web pages.\n",
        "\n",
        "To use it, we first have to install it."
      ]
    },
    {
      "cell_type": "code",
      "execution_count": 5,
      "metadata": {
        "colab": {
          "base_uri": "https://localhost:8080/"
        },
        "id": "80USaWNxYAdV",
        "outputId": "1c166b42-7504-411a-d933-f6058c38a120"
      },
      "outputs": [
        {
          "name": "stdout",
          "output_type": "stream",
          "text": [
            "\n",
            "\u001b[1m[\u001b[0m\u001b[34;49mnotice\u001b[0m\u001b[1;39;49m]\u001b[0m\u001b[39;49m A new release of pip is available: \u001b[0m\u001b[31;49m23.0.1\u001b[0m\u001b[39;49m -> \u001b[0m\u001b[32;49m25.0\u001b[0m\n",
            "\u001b[1m[\u001b[0m\u001b[34;49mnotice\u001b[0m\u001b[1;39;49m]\u001b[0m\u001b[39;49m To update, run: \u001b[0m\u001b[32;49mpip install --upgrade pip\u001b[0m\n"
          ]
        }
      ],
      "source": [
        "# install scrapy\n",
        "!pip install -q scrapy"
      ]
    },
    {
      "cell_type": "markdown",
      "metadata": {},
      "source": [
        "Scraping web pages with **Scrapy** requires first creating a Scrapy \"project\".\n",
        "\n",
        "We can create a project called \"tutorial\" using the command:"
      ]
    },
    {
      "cell_type": "code",
      "execution_count": 24,
      "metadata": {
        "colab": {
          "base_uri": "https://localhost:8080/"
        },
        "id": "r-5ygy2kLcXf",
        "outputId": "200364f6-0ef8-419e-f77c-42b808f5043b"
      },
      "outputs": [
        {
          "name": "stdout",
          "output_type": "stream",
          "text": [
            "New Scrapy project 'tutorial', using template directory '/Users/crosbynash/Documents/GitHub/ds497/.venv/lib/python3.9/site-packages/scrapy/templates/project', created in:\n",
            "    /Users/crosbynash/Documents/GitHub/ds497/tutorial\n",
            "\n",
            "You can start your first spider with:\n",
            "    cd tutorial\n",
            "    scrapy genspider example example.com\n"
          ]
        }
      ],
      "source": [
        "!scrapy startproject tutorial"
      ]
    },
    {
      "cell_type": "markdown",
      "metadata": {},
      "source": [
        "The project scrapy creates is a folder. \n",
        "\n",
        "Make sure you can see this folder in the \"Explorer\" tab on the right in this codespace.\n",
        "\n",
        "We can also see this folder by running the following command to show the current folders and files we can access:"
      ]
    },
    {
      "cell_type": "code",
      "execution_count": 7,
      "metadata": {},
      "outputs": [
        {
          "name": "stdout",
          "output_type": "stream",
          "text": [
            "exercise-1.html  scraping.ipynb   \u001b[34mtutorial\u001b[m\u001b[m/        \u001b[34mweb_experiments\u001b[m\u001b[m/\n"
          ]
        }
      ],
      "source": [
        "%ls"
      ]
    },
    {
      "cell_type": "markdown",
      "metadata": {},
      "source": [
        "The output of the above command shows one file and one folder (folders are shown in blue). \n",
        "\n",
        "The file `scraping.ipynb` is the current notebook we are working with.\n",
        "\n",
        "The `tutorial` folder is the project folder created by Scrapy. It contains a bunch of other files and folders that Scrapy creates by default.\n",
        "\n",
        "(You do **NOT** have to know what they all mean!)\n",
        "\n",
        "To see its contents, use the command: "
      ]
    },
    {
      "cell_type": "code",
      "execution_count": 8,
      "metadata": {},
      "outputs": [
        {
          "name": "stdout",
          "output_type": "stream",
          "text": [
            "zsh:1: command not found: tree\n"
          ]
        }
      ],
      "source": [
        "!tree tutorial"
      ]
    },
    {
      "cell_type": "markdown",
      "metadata": {},
      "source": [
        "All folders are shown in blue. \n",
        "\n",
        "The very first, top folder is the project tutorial folder we originally created. Inside that folder is one file (scrapy.cfg) and one folder, which confusingly is also called \"tutorial\". Make sure not to mix up the two tutorial folders (i.e., one is inside of the other). \n",
        "\n",
        "Inside the second tutorial folder (i.e., tutorial/tutorial) are a bunch of other files and folders. Ignore them for now.\n",
        "\n",
        "The only thing we need to know about any of these files and folders is that we need to be \"working\" inside of the top-level `tutorial` project folder.\n",
        "\n",
        "To tell Python we want to \"work\" inside of this folder, use the following command:"
      ]
    },
    {
      "cell_type": "code",
      "execution_count": 25,
      "metadata": {
        "colab": {
          "base_uri": "https://localhost:8080/"
        },
        "id": "K3n-OE5qMEsu",
        "outputId": "e5a3d458-0935-4a60-8266-f2f456cc7225"
      },
      "outputs": [
        {
          "name": "stdout",
          "output_type": "stream",
          "text": [
            "/Users/crosbynash/Documents/GitHub/ds497/tutorial\n"
          ]
        },
        {
          "name": "stderr",
          "output_type": "stream",
          "text": [
            "/Users/crosbynash/Documents/GitHub/ds497/.venv/lib/python3.9/site-packages/IPython/core/magics/osm.py:417: UserWarning: using dhist requires you to install the `pickleshare` library.\n",
            "  self.shell.db['dhist'] = compress_dhist(dhist)[-100:]\n"
          ]
        }
      ],
      "source": [
        "# set project folder as the working directory\n",
        "%cd tutorial/"
      ]
    },
    {
      "cell_type": "markdown",
      "metadata": {},
      "source": [
        "You can see your current **working directory** anytime by running the `%pwd` command.\n",
        "\n",
        "If the output is not `'/workspaces/lab_scraping/tutorial'`, then you're in the wrong directory, and Scrapy won't work correctly.\n",
        "\n",
        "For example, if you see `'/workspaces/lab_scraping/tutorial/tutorial'`, you've gone too deep!"
      ]
    },
    {
      "cell_type": "code",
      "execution_count": 26,
      "metadata": {
        "colab": {
          "base_uri": "https://localhost:8080/",
          "height": 36
        },
        "id": "TZoAvOSxNy0V",
        "outputId": "378ee6d6-a239-420b-aedc-55f6d38a9479"
      },
      "outputs": [
        {
          "data": {
            "text/plain": [
              "'/Users/crosbynash/Documents/GitHub/ds497/tutorial'"
            ]
          },
          "execution_count": 26,
          "metadata": {},
          "output_type": "execute_result"
        }
      ],
      "source": [
        "# check our current working directory\n",
        "%pwd"
      ]
    },
    {
      "cell_type": "markdown",
      "metadata": {},
      "source": [
        "Now if we run `%ls` again as we did before we changed our working directory, we get a different list of files. That's because are no longer working in the folder containing this notebook (`scraping.ipynb`). We are now working inside `tutorial`."
      ]
    },
    {
      "cell_type": "code",
      "execution_count": 27,
      "metadata": {},
      "outputs": [
        {
          "name": "stdout",
          "output_type": "stream",
          "text": [
            "scrapy.cfg  \u001b[34mtutorial\u001b[m\u001b[m/\n"
          ]
        }
      ],
      "source": [
        "%ls"
      ]
    },
    {
      "cell_type": "markdown",
      "metadata": {
        "id": "bYIMcA1OdNtv"
      },
      "source": [
        "### Scraping a demo website\n",
        "\n",
        "Our current goal will be to use this project to scrape a simple demo website that contains pages of quotes: http://quotes.toscrape.com.\n",
        "\n",
        "Click on the website to see what it contains.\n",
        "\n",
        "To turn our project into a functional scraper, we only need **one file** with a **few lines of code**.\n",
        "\n",
        "Basic scrapers in Scrapy are supplied with a single file defining what is called a \"spider\" as a Python class. The spider contains information about which website we want to scrape and what information we want to scrape from it.\n",
        "\n",
        "Spiders in Scrapy are defined in a python `.py` file inside the `my_project_name/my_project_name/spiders/` folder.\n",
        "\n",
        "Because we are already working in the top-level `tutorial` folder, we can create a file for our spider in `tutorial/spiders/`. That is, the full path of the file will be `/workspaces/lab_scraping/my_project_name/my_project_name/spiders/`.\n",
        "\n",
        "To create this file, we can use the `%%writefile` command to create an empty file called `quotes_spider.py` inside of `tutorial/spiders/`."
      ]
    },
    {
      "cell_type": "code",
      "execution_count": 28,
      "metadata": {},
      "outputs": [
        {
          "name": "stdout",
          "output_type": "stream",
          "text": [
            "Writing tutorial/spiders/quotes_spider.py\n"
          ]
        }
      ],
      "source": [
        "%%writefile tutorial/spiders/quotes_spider.py\n",
        "# this dummy line will go inside the file"
      ]
    },
    {
      "cell_type": "markdown",
      "metadata": {},
      "source": [
        "You can see the `quotes_spider.py` file on the right tab inside of tutorial > tutorial > spiders.\n",
        "\n",
        "We can also list the files inside of the `spiders` folder to see that the file now exists:"
      ]
    },
    {
      "cell_type": "code",
      "execution_count": 29,
      "metadata": {},
      "outputs": [
        {
          "name": "stdout",
          "output_type": "stream",
          "text": [
            "__init__.py       quotes_spider.py\n"
          ]
        }
      ],
      "source": [
        "%ls tutorial/spiders"
      ]
    },
    {
      "cell_type": "markdown",
      "metadata": {},
      "source": [
        "Click on the file in the right explorer tab. You can see what's inside. Then close it."
      ]
    },
    {
      "cell_type": "markdown",
      "metadata": {},
      "source": [
        "Now, let's fill the file with some code to do some scraping.\n",
        "\n",
        "We will call `%%writefile` again and create (overwrite) the same file again, but this time we will include the scraping code.\n",
        "\n",
        "Everything that goes underneath the `%%writefile` line will be written to that file."
      ]
    },
    {
      "cell_type": "code",
      "execution_count": 30,
      "metadata": {
        "colab": {
          "base_uri": "https://localhost:8080/"
        },
        "id": "EU14IWM2XngT",
        "outputId": "19a552db-0931-4808-825e-54d9004bc4cd"
      },
      "outputs": [
        {
          "name": "stdout",
          "output_type": "stream",
          "text": [
            "Overwriting tutorial/spiders/quotes_spider.py\n"
          ]
        }
      ],
      "source": [
        "%%writefile tutorial/spiders/quotes_spider.py\n",
        "import scrapy\n",
        "\n",
        "class QuotesSpider(scrapy.Spider):\n",
        "    name = \"quotes\"\n",
        "    start_urls = ['http://quotes.toscrape.com']\n",
        "\n",
        "    def parse(self, response):\n",
        "        print(response.body)"
      ]
    },
    {
      "cell_type": "markdown",
      "metadata": {},
      "source": [
        "Click on the file again. You can see the above is now inside. Close it again."
      ]
    },
    {
      "cell_type": "markdown",
      "metadata": {},
      "source": [
        "That's it -- That's a fully functional scraper! As we will see, currently it just downloads the entire quote web page, but we'll improve it later.\n",
        "\n",
        "Most of this code **will never change**, and thus you can always copy/paste to re-use. It contains the basic form used to define spiders:\n",
        "\n",
        "First, we import Scrapy. We will always do this.\n",
        "\n",
        "Then a **single** \"class\" is defined with a name we choose. In this case, `QuotesSpider` is our way of reminding ourselves that this spider is meant to scrape quotes.\n",
        "\n",
        "The entire line `class QuotesSpider(scrapy.Spider):` will **always be the same**, other than the name `QuotesSpider`.\n",
        "\n",
        "Inside of our new `QuotesSpider` class is the information needed to scrape data from the website. \n",
        "- The `name` variable is another way of naming the spider. We will reference this name (\"quotes\") later when telling Scrapy to deploy our spider to do some scraping.\n",
        "- The `start_urls` variable is a list of webpage addresses from which we want to scrape content. As we said earlier, we want to scrape quotes from http://quotes.toscrape.com.\n",
        "\n",
        "The final major component of our spider is the definition of a method (function) called `parse`. **All spiders contain this function** and the **inputs will always be** `self` and `response`. \n",
        "\n",
        "`response` is a special kind of python object that always contains the **entire downloaded web page** of interest (i.e., http://quotes.toscrape.com). One simple way to inspect this data is to reference `response.body`, which contains the raw HTML for the webpage of interest. The above `parse` function is simple in that it simply prints out all of said HTML: `print(response.body)`.\n",
        "\n",
        "To run this sider and see the scraped data, we can run the command below. All we are doing is telling Scrapy to use the `quotes` spider we just created."
      ]
    },
    {
      "cell_type": "code",
      "execution_count": 31,
      "metadata": {
        "colab": {
          "base_uri": "https://localhost:8080/"
        },
        "id": "pshR0gCKXsIk",
        "outputId": "26da87d9-2959-4d69-d74d-3f5f67f0d350"
      },
      "outputs": [
        {
          "name": "stdout",
          "output_type": "stream",
          "text": [
            "b'<!DOCTYPE html>\\n<html lang=\"en\">\\n<head>\\n\\t<meta charset=\"UTF-8\">\\n\\t<title>Quotes to Scrape</title>\\n    <link rel=\"stylesheet\" href=\"/static/bootstrap.min.css\">\\n    <link rel=\"stylesheet\" href=\"/static/main.css\">\\n    \\n    \\n</head>\\n<body>\\n    <div class=\"container\">\\n        <div class=\"row header-box\">\\n            <div class=\"col-md-8\">\\n                <h1>\\n                    <a href=\"/\" style=\"text-decoration: none\">Quotes to Scrape</a>\\n                </h1>\\n            </div>\\n            <div class=\"col-md-4\">\\n                <p>\\n                \\n                    <a href=\"/login\">Login</a>\\n                \\n                </p>\\n            </div>\\n        </div>\\n    \\n\\n<div class=\"row\">\\n    <div class=\"col-md-8\">\\n\\n    <div class=\"quote\" itemscope itemtype=\"http://schema.org/CreativeWork\">\\n        <span class=\"text\" itemprop=\"text\">\\xe2\\x80\\x9cThe world as we have created it is a process of our thinking. It cannot be changed without changing our thinking.\\xe2\\x80\\x9d</span>\\n        <span>by <small class=\"author\" itemprop=\"author\">Albert Einstein</small>\\n        <a href=\"/author/Albert-Einstein\">(about)</a>\\n        </span>\\n        <div class=\"tags\">\\n            Tags:\\n            <meta class=\"keywords\" itemprop=\"keywords\" content=\"change,deep-thoughts,thinking,world\" /    > \\n            \\n            <a class=\"tag\" href=\"/tag/change/page/1/\">change</a>\\n            \\n            <a class=\"tag\" href=\"/tag/deep-thoughts/page/1/\">deep-thoughts</a>\\n            \\n            <a class=\"tag\" href=\"/tag/thinking/page/1/\">thinking</a>\\n            \\n            <a class=\"tag\" href=\"/tag/world/page/1/\">world</a>\\n            \\n        </div>\\n    </div>\\n\\n    <div class=\"quote\" itemscope itemtype=\"http://schema.org/CreativeWork\">\\n        <span class=\"text\" itemprop=\"text\">\\xe2\\x80\\x9cIt is our choices, Harry, that show what we truly are, far more than our abilities.\\xe2\\x80\\x9d</span>\\n        <span>by <small class=\"author\" itemprop=\"author\">J.K. Rowling</small>\\n        <a href=\"/author/J-K-Rowling\">(about)</a>\\n        </span>\\n        <div class=\"tags\">\\n            Tags:\\n            <meta class=\"keywords\" itemprop=\"keywords\" content=\"abilities,choices\" /    > \\n            \\n            <a class=\"tag\" href=\"/tag/abilities/page/1/\">abilities</a>\\n            \\n            <a class=\"tag\" href=\"/tag/choices/page/1/\">choices</a>\\n            \\n        </div>\\n    </div>\\n\\n    <div class=\"quote\" itemscope itemtype=\"http://schema.org/CreativeWork\">\\n        <span class=\"text\" itemprop=\"text\">\\xe2\\x80\\x9cThere are only two ways to live your life. One is as though nothing is a miracle. The other is as though everything is a miracle.\\xe2\\x80\\x9d</span>\\n        <span>by <small class=\"author\" itemprop=\"author\">Albert Einstein</small>\\n        <a href=\"/author/Albert-Einstein\">(about)</a>\\n        </span>\\n        <div class=\"tags\">\\n            Tags:\\n            <meta class=\"keywords\" itemprop=\"keywords\" content=\"inspirational,life,live,miracle,miracles\" /    > \\n            \\n            <a class=\"tag\" href=\"/tag/inspirational/page/1/\">inspirational</a>\\n            \\n            <a class=\"tag\" href=\"/tag/life/page/1/\">life</a>\\n            \\n            <a class=\"tag\" href=\"/tag/live/page/1/\">live</a>\\n            \\n            <a class=\"tag\" href=\"/tag/miracle/page/1/\">miracle</a>\\n            \\n            <a class=\"tag\" href=\"/tag/miracles/page/1/\">miracles</a>\\n            \\n        </div>\\n    </div>\\n\\n    <div class=\"quote\" itemscope itemtype=\"http://schema.org/CreativeWork\">\\n        <span class=\"text\" itemprop=\"text\">\\xe2\\x80\\x9cThe person, be it gentleman or lady, who has not pleasure in a good novel, must be intolerably stupid.\\xe2\\x80\\x9d</span>\\n        <span>by <small class=\"author\" itemprop=\"author\">Jane Austen</small>\\n        <a href=\"/author/Jane-Austen\">(about)</a>\\n        </span>\\n        <div class=\"tags\">\\n            Tags:\\n            <meta class=\"keywords\" itemprop=\"keywords\" content=\"aliteracy,books,classic,humor\" /    > \\n            \\n            <a class=\"tag\" href=\"/tag/aliteracy/page/1/\">aliteracy</a>\\n            \\n            <a class=\"tag\" href=\"/tag/books/page/1/\">books</a>\\n            \\n            <a class=\"tag\" href=\"/tag/classic/page/1/\">classic</a>\\n            \\n            <a class=\"tag\" href=\"/tag/humor/page/1/\">humor</a>\\n            \\n        </div>\\n    </div>\\n\\n    <div class=\"quote\" itemscope itemtype=\"http://schema.org/CreativeWork\">\\n        <span class=\"text\" itemprop=\"text\">\\xe2\\x80\\x9cImperfection is beauty, madness is genius and it&#39;s better to be absolutely ridiculous than absolutely boring.\\xe2\\x80\\x9d</span>\\n        <span>by <small class=\"author\" itemprop=\"author\">Marilyn Monroe</small>\\n        <a href=\"/author/Marilyn-Monroe\">(about)</a>\\n        </span>\\n        <div class=\"tags\">\\n            Tags:\\n            <meta class=\"keywords\" itemprop=\"keywords\" content=\"be-yourself,inspirational\" /    > \\n            \\n            <a class=\"tag\" href=\"/tag/be-yourself/page/1/\">be-yourself</a>\\n            \\n            <a class=\"tag\" href=\"/tag/inspirational/page/1/\">inspirational</a>\\n            \\n        </div>\\n    </div>\\n\\n    <div class=\"quote\" itemscope itemtype=\"http://schema.org/CreativeWork\">\\n        <span class=\"text\" itemprop=\"text\">\\xe2\\x80\\x9cTry not to become a man of success. Rather become a man of value.\\xe2\\x80\\x9d</span>\\n        <span>by <small class=\"author\" itemprop=\"author\">Albert Einstein</small>\\n        <a href=\"/author/Albert-Einstein\">(about)</a>\\n        </span>\\n        <div class=\"tags\">\\n            Tags:\\n            <meta class=\"keywords\" itemprop=\"keywords\" content=\"adulthood,success,value\" /    > \\n            \\n            <a class=\"tag\" href=\"/tag/adulthood/page/1/\">adulthood</a>\\n            \\n            <a class=\"tag\" href=\"/tag/success/page/1/\">success</a>\\n            \\n            <a class=\"tag\" href=\"/tag/value/page/1/\">value</a>\\n            \\n        </div>\\n    </div>\\n\\n    <div class=\"quote\" itemscope itemtype=\"http://schema.org/CreativeWork\">\\n        <span class=\"text\" itemprop=\"text\">\\xe2\\x80\\x9cIt is better to be hated for what you are than to be loved for what you are not.\\xe2\\x80\\x9d</span>\\n        <span>by <small class=\"author\" itemprop=\"author\">Andr\\xc3\\xa9 Gide</small>\\n        <a href=\"/author/Andre-Gide\">(about)</a>\\n        </span>\\n        <div class=\"tags\">\\n            Tags:\\n            <meta class=\"keywords\" itemprop=\"keywords\" content=\"life,love\" /    > \\n            \\n            <a class=\"tag\" href=\"/tag/life/page/1/\">life</a>\\n            \\n            <a class=\"tag\" href=\"/tag/love/page/1/\">love</a>\\n            \\n        </div>\\n    </div>\\n\\n    <div class=\"quote\" itemscope itemtype=\"http://schema.org/CreativeWork\">\\n        <span class=\"text\" itemprop=\"text\">\\xe2\\x80\\x9cI have not failed. I&#39;ve just found 10,000 ways that won&#39;t work.\\xe2\\x80\\x9d</span>\\n        <span>by <small class=\"author\" itemprop=\"author\">Thomas A. Edison</small>\\n        <a href=\"/author/Thomas-A-Edison\">(about)</a>\\n        </span>\\n        <div class=\"tags\">\\n            Tags:\\n            <meta class=\"keywords\" itemprop=\"keywords\" content=\"edison,failure,inspirational,paraphrased\" /    > \\n            \\n            <a class=\"tag\" href=\"/tag/edison/page/1/\">edison</a>\\n            \\n            <a class=\"tag\" href=\"/tag/failure/page/1/\">failure</a>\\n            \\n            <a class=\"tag\" href=\"/tag/inspirational/page/1/\">inspirational</a>\\n            \\n            <a class=\"tag\" href=\"/tag/paraphrased/page/1/\">paraphrased</a>\\n            \\n        </div>\\n    </div>\\n\\n    <div class=\"quote\" itemscope itemtype=\"http://schema.org/CreativeWork\">\\n        <span class=\"text\" itemprop=\"text\">\\xe2\\x80\\x9cA woman is like a tea bag; you never know how strong it is until it&#39;s in hot water.\\xe2\\x80\\x9d</span>\\n        <span>by <small class=\"author\" itemprop=\"author\">Eleanor Roosevelt</small>\\n        <a href=\"/author/Eleanor-Roosevelt\">(about)</a>\\n        </span>\\n        <div class=\"tags\">\\n            Tags:\\n            <meta class=\"keywords\" itemprop=\"keywords\" content=\"misattributed-eleanor-roosevelt\" /    > \\n            \\n            <a class=\"tag\" href=\"/tag/misattributed-eleanor-roosevelt/page/1/\">misattributed-eleanor-roosevelt</a>\\n            \\n        </div>\\n    </div>\\n\\n    <div class=\"quote\" itemscope itemtype=\"http://schema.org/CreativeWork\">\\n        <span class=\"text\" itemprop=\"text\">\\xe2\\x80\\x9cA day without sunshine is like, you know, night.\\xe2\\x80\\x9d</span>\\n        <span>by <small class=\"author\" itemprop=\"author\">Steve Martin</small>\\n        <a href=\"/author/Steve-Martin\">(about)</a>\\n        </span>\\n        <div class=\"tags\">\\n            Tags:\\n            <meta class=\"keywords\" itemprop=\"keywords\" content=\"humor,obvious,simile\" /    > \\n            \\n            <a class=\"tag\" href=\"/tag/humor/page/1/\">humor</a>\\n            \\n            <a class=\"tag\" href=\"/tag/obvious/page/1/\">obvious</a>\\n            \\n            <a class=\"tag\" href=\"/tag/simile/page/1/\">simile</a>\\n            \\n        </div>\\n    </div>\\n\\n    <nav>\\n        <ul class=\"pager\">\\n            \\n            \\n            <li class=\"next\">\\n                <a href=\"/page/2/\">Next <span aria-hidden=\"true\">&rarr;</span></a>\\n            </li>\\n            \\n        </ul>\\n    </nav>\\n    </div>\\n    <div class=\"col-md-4 tags-box\">\\n        \\n            <h2>Top Ten tags</h2>\\n            \\n            <span class=\"tag-item\">\\n            <a class=\"tag\" style=\"font-size: 28px\" href=\"/tag/love/\">love</a>\\n            </span>\\n            \\n            <span class=\"tag-item\">\\n            <a class=\"tag\" style=\"font-size: 26px\" href=\"/tag/inspirational/\">inspirational</a>\\n            </span>\\n            \\n            <span class=\"tag-item\">\\n            <a class=\"tag\" style=\"font-size: 26px\" href=\"/tag/life/\">life</a>\\n            </span>\\n            \\n            <span class=\"tag-item\">\\n            <a class=\"tag\" style=\"font-size: 24px\" href=\"/tag/humor/\">humor</a>\\n            </span>\\n            \\n            <span class=\"tag-item\">\\n            <a class=\"tag\" style=\"font-size: 22px\" href=\"/tag/books/\">books</a>\\n            </span>\\n            \\n            <span class=\"tag-item\">\\n            <a class=\"tag\" style=\"font-size: 14px\" href=\"/tag/reading/\">reading</a>\\n            </span>\\n            \\n            <span class=\"tag-item\">\\n            <a class=\"tag\" style=\"font-size: 10px\" href=\"/tag/friendship/\">friendship</a>\\n            </span>\\n            \\n            <span class=\"tag-item\">\\n            <a class=\"tag\" style=\"font-size: 8px\" href=\"/tag/friends/\">friends</a>\\n            </span>\\n            \\n            <span class=\"tag-item\">\\n            <a class=\"tag\" style=\"font-size: 8px\" href=\"/tag/truth/\">truth</a>\\n            </span>\\n            \\n            <span class=\"tag-item\">\\n            <a class=\"tag\" style=\"font-size: 6px\" href=\"/tag/simile/\">simile</a>\\n            </span>\\n            \\n        \\n    </div>\\n</div>\\n\\n    </div>\\n    <footer class=\"footer\">\\n        <div class=\"container\">\\n            <p class=\"text-muted\">\\n                Quotes by: <a href=\"https://www.goodreads.com/quotes\">GoodReads.com</a>\\n            </p>\\n            <p class=\"copyright\">\\n                Made with <span class=\\'zyte\\'>\\xe2\\x9d\\xa4</span> by <a class=\\'zyte\\' href=\"https://www.zyte.com\">Zyte</a>\\n            </p>\\n        </div>\\n    </footer>\\n</body>\\n</html>'\n"
          ]
        }
      ],
      "source": [
        "!scrapy crawl quotes -L ERROR"
      ]
    },
    {
      "cell_type": "markdown",
      "metadata": {},
      "source": [
        "That's it. You just scraped the page. The raw web page HTML is below the above cell.\n",
        "\n",
        "The above output is not easy to read (e.g., `b'<!DOCTYPE html>...`). It's the entire webpage rather than just the content we want. One option would be to just save the output as is and then worry about extracting the subset of content we care about at a later time. However, Scrapy makes it easier to filter out only the data we want.\n",
        "\n",
        "Scan your eyes along the output above until you see: \n",
        "```html\n",
        "<title>Quotes to Scrape</title>\n",
        "```\n",
        "This is the title of the webpage surrounded by `<title>` tags. Before trying to extract quotes, let's try to extract this title as an exercise.\n",
        "\n",
        "Rather than looking at the entire `response.body`, we can use what are called **CSS Selectors** to focus in on specific HTML elements such as the `<title>` tag.\n",
        "\n",
        "For example, the CSS selector for the title element in the HTML document is just `\"title\"`.\n",
        "\n",
        "To apply this selector (i.e., to filter the HTML we want to extract), use the `response.css()` method with the selector as the input:"
      ]
    },
    {
      "cell_type": "code",
      "execution_count": 32,
      "metadata": {
        "colab": {
          "base_uri": "https://localhost:8080/"
        },
        "id": "2lGLfCedeM7i",
        "outputId": "fe3765c6-a82b-41c3-d0dd-26d546e28196"
      },
      "outputs": [
        {
          "name": "stdout",
          "output_type": "stream",
          "text": [
            "Overwriting tutorial/spiders/quotes_spider.py\n"
          ]
        }
      ],
      "source": [
        "%%writefile tutorial/spiders/quotes_spider.py\n",
        "import scrapy\n",
        "\n",
        "class QuotesSpider(scrapy.Spider):\n",
        "    name = \"quotes\"\n",
        "    start_urls = ['http://quotes.toscrape.com']\n",
        "\n",
        "    def parse(self, response):\n",
        "        print(response.css(\"title\"))"
      ]
    },
    {
      "cell_type": "code",
      "execution_count": 33,
      "metadata": {},
      "outputs": [
        {
          "name": "stdout",
          "output_type": "stream",
          "text": [
            "[<Selector query='descendant-or-self::title' data='<title>Quotes to Scrape</title>'>]\n"
          ]
        }
      ],
      "source": [
        "!scrapy crawl quotes -L ERROR"
      ]
    },
    {
      "cell_type": "markdown",
      "metadata": {},
      "source": [
        "The result seems to contain what we want (`<title>Quotes to Scrape</title>`) at the end, but there's some other stuff too.\n",
        "\n",
        "The reason is that `response.css(\"title\")` does not return raw text (we'll fix that in a second).\n",
        "\n",
        "Instead, it returns a \"Selector\" Python object that is sometimes used to further select content. Forget that for now.\n",
        "\n",
        "For now, we can just call the `get` method (function) of this selector to return the raw HTML we care about:"
      ]
    },
    {
      "cell_type": "code",
      "execution_count": 34,
      "metadata": {},
      "outputs": [
        {
          "name": "stdout",
          "output_type": "stream",
          "text": [
            "Overwriting tutorial/spiders/quotes_spider.py\n"
          ]
        }
      ],
      "source": [
        "%%writefile tutorial/spiders/quotes_spider.py\n",
        "import scrapy\n",
        "\n",
        "class QuotesSpider(scrapy.Spider):\n",
        "    name = \"quotes\"\n",
        "    start_urls = ['http://quotes.toscrape.com']\n",
        "\n",
        "    def parse(self, response):\n",
        "        print(response.css(\"title\").get())"
      ]
    },
    {
      "cell_type": "code",
      "execution_count": 35,
      "metadata": {
        "colab": {
          "base_uri": "https://localhost:8080/"
        },
        "id": "3tNo8tIneNx1",
        "outputId": "513343c9-9cd9-4d9d-9ec7-1851470e7c60"
      },
      "outputs": [
        {
          "name": "stdout",
          "output_type": "stream",
          "text": [
            "<title>Quotes to Scrape</title>\n"
          ]
        }
      ],
      "source": [
        "!scrapy crawl quotes -L ERROR"
      ]
    },
    {
      "cell_type": "markdown",
      "metadata": {},
      "source": [
        "Now we have the HTML we want!\n",
        "\n",
        "However, technically, we still don't really need the `<title>` tags.\n",
        "\n",
        "Using selectors, we can select not just the title tag, but the text inside those tags.\n",
        "\n",
        "To do this, we use a selector with the format `tag::text`, in our case: `title::text`:"
      ]
    },
    {
      "cell_type": "code",
      "execution_count": 40,
      "metadata": {
        "colab": {
          "base_uri": "https://localhost:8080/"
        },
        "id": "nY8dKEEQfpCo",
        "outputId": "f324f4d6-eec3-4001-cdf6-1a06b6e6cf56"
      },
      "outputs": [
        {
          "name": "stdout",
          "output_type": "stream",
          "text": [
            "Overwriting tutorial/spiders/quotes_spider.py\n"
          ]
        }
      ],
      "source": [
        "%%writefile tutorial/spiders/quotes_spider.py\n",
        "import scrapy\n",
        "\n",
        "class QuotesSpider(scrapy.Spider):\n",
        "    name = \"quotes\"\n",
        "    start_urls = ['http://quotes.toscrape.com']\n",
        "\n",
        "    def parse(self, response):\n",
        "        print(response.css(\"title::text\").get()) # FILL ME IN!"
      ]
    },
    {
      "cell_type": "markdown",
      "metadata": {},
      "source": [
        "Now when we run our spider we will get just the title text:"
      ]
    },
    {
      "cell_type": "code",
      "execution_count": 41,
      "metadata": {
        "id": "gnmpyw3LgMrR"
      },
      "outputs": [
        {
          "name": "stdout",
          "output_type": "stream",
          "text": [
            "Quotes to Scrape\n"
          ]
        }
      ],
      "source": [
        "!scrapy crawl quotes -L ERROR"
      ]
    },
    {
      "cell_type": "markdown",
      "metadata": {},
      "source": [
        "We did it!"
      ]
    },
    {
      "cell_type": "markdown",
      "metadata": {
        "id": "UNzxE6pJkDmB"
      },
      "source": [
        "**Let's try to extact a quote now.**\n",
        "\n",
        "Looking through the full raw HTML page for what we want is too tedious. Let's simplify our lives:\n",
        "\n",
        "Open up Chrome, or another tab in Chrome if you are already using it for this notebook.\n",
        "\n",
        "Then, navigate to http://quotes.toscrape.com. \n",
        "\n",
        "Look at the first quote on the page:\n",
        "\n",
        "> “The world as we have created it is a process of our thinking. It cannot be changed without changing our thinking.”\n",
        "\n",
        "Right click on this quote (on Windows) or control+click (on Mac). Click \"Inspect\".\n",
        "\n",
        "On the right of your screen, you will see the page's HTML, with the following highlighted:\n",
        "\n",
        "```html\n",
        "<span class=\"text\" itemprop=\"text\">...</span>\n",
        "```\n",
        "\n",
        "Click the small gray pointer / triangle icon to the left of that line. It will expand show its full contents:\n",
        "\n",
        "```html\n",
        "<span class=\"text\" itemprop=\"text\">\n",
        "    “The world as we have created it is a process of our thinking. It cannot be changed without changing our thinking.”\n",
        "</span>\n",
        "```\n",
        "\n",
        "What we see is that quotes are inside `<span>` elements with an attribute: `class=\"text\"`.\n",
        "\n",
        "**It does not matter** that we have not seen span elements before. Remember, you can select the text between **any** tags in the document.\n",
        "\n",
        "If you right click on other quotes, you will see that they also have `class=\"text\"`.\n",
        "\n",
        "Thus, rather than call `response.css(\"span\").get()` which could end grabbing text from other span elements on the page that don't contain quotes, we can make sure to only grab the span elements where `class=\"text\"`.\n",
        "\n",
        "To do this, we use the selector format `tag.class`, in our case: `span.text`:\n",
        "\n",
        "```python\n",
        "    response.css(\"span.text\").get()\n",
        "```"
      ]
    },
    {
      "cell_type": "code",
      "execution_count": 45,
      "metadata": {
        "colab": {
          "base_uri": "https://localhost:8080/"
        },
        "id": "M2eIM4z0hHCA",
        "outputId": "8d7e7094-b31f-4cde-bd09-2eb20d9ff37b"
      },
      "outputs": [
        {
          "name": "stdout",
          "output_type": "stream",
          "text": [
            "Overwriting tutorial/spiders/quotes_spider.py\n"
          ]
        }
      ],
      "source": [
        "%%writefile tutorial/spiders/quotes_spider.py\n",
        "import scrapy\n",
        "\n",
        "class QuotesSpider(scrapy.Spider):\n",
        "    name = \"quotes\"\n",
        "    start_urls = ['http://quotes.toscrape.com']\n",
        "\n",
        "    def parse(self, response):\n",
        "        scraped = response.css(\"span.text\").get() # FILL ME IN!\n",
        "        print(scraped)"
      ]
    },
    {
      "cell_type": "markdown",
      "metadata": {},
      "source": [
        "Now we have a quote just as we wanted, though it's wrapped in HTML we don't need."
      ]
    },
    {
      "cell_type": "code",
      "execution_count": 43,
      "metadata": {
        "colab": {
          "base_uri": "https://localhost:8080/"
        },
        "id": "0QNyPiBchSIA",
        "outputId": "bde856bb-5314-4d26-f55a-f8946e1d751f"
      },
      "outputs": [
        {
          "name": "stdout",
          "output_type": "stream",
          "text": [
            "<span class=\"text\" itemprop=\"text\">“The world as we have created it is a process of our thinking. It cannot be changed without changing our thinking.”</span>\n"
          ]
        }
      ],
      "source": [
        "!scrapy crawl quotes -L ERROR"
      ]
    },
    {
      "cell_type": "markdown",
      "metadata": {},
      "source": [
        "Just as before, we can add `::text` to the end of our selector to get just the text. The overall selector format is `tag.class::value`.\n",
        "\n",
        "Thus, the `span.text::text` selector means we are selecting span elements with a class of \"text\", their text (quote) in particular.\n",
        "\n",
        "Note the difference between adding `.text`, which selects from a particular class of elements, and `::text` which selects just the text between the selected tags.\n",
        "\n",
        "Why are both called text? `::text` will never change. `.text` corresponds to what the web page creator decided to call that class of elements. It's their fault :)\n",
        "\n",
        "Were they to have named the class \"quote\", the selector would have been: `span.quote::text`."
      ]
    },
    {
      "cell_type": "code",
      "execution_count": 46,
      "metadata": {
        "colab": {
          "base_uri": "https://localhost:8080/"
        },
        "id": "e7oRiFiVjATD",
        "outputId": "194b6c23-4e93-4012-b2fa-ae175960dccb"
      },
      "outputs": [
        {
          "name": "stdout",
          "output_type": "stream",
          "text": [
            "Overwriting tutorial/spiders/quotes_spider.py\n"
          ]
        }
      ],
      "source": [
        "%%writefile tutorial/spiders/quotes_spider.py\n",
        "import scrapy\n",
        "\n",
        "class QuotesSpider(scrapy.Spider):\n",
        "    name = \"quotes\"\n",
        "    start_urls = ['http://quotes.toscrape.com']\n",
        "\n",
        "    def parse(self, response):\n",
        "        scraped = response.css(\"span.text::text\").get()\n",
        "        print(scraped)"
      ]
    },
    {
      "cell_type": "code",
      "execution_count": 47,
      "metadata": {
        "colab": {
          "base_uri": "https://localhost:8080/"
        },
        "id": "zxPM6MuujNLk",
        "outputId": "31a65449-2786-4c85-a2f6-569222dd2212"
      },
      "outputs": [
        {
          "name": "stdout",
          "output_type": "stream",
          "text": [
            "“The world as we have created it is a process of our thinking. It cannot be changed without changing our thinking.”\n"
          ]
        }
      ],
      "source": [
        "!scrapy crawl quotes -L ERROR"
      ]
    },
    {
      "cell_type": "markdown",
      "metadata": {},
      "source": [
        "If you look back at the webpage in your browser, you'll notice there are **multiple quotes** on each page (all inside `<span class=\"text\">` elements). \n",
        "\n",
        "To retrieve them all, we will use the same selector, but instead of calling `.get()`, we will simply call `.getall()`.\n",
        "\n",
        "Then we will include a simple loop to print out all of them."
      ]
    },
    {
      "cell_type": "code",
      "execution_count": 49,
      "metadata": {
        "colab": {
          "base_uri": "https://localhost:8080/"
        },
        "id": "xcUgivvChZs8",
        "outputId": "7caf23d2-ca04-4b3d-fb85-7e5526a7b496"
      },
      "outputs": [
        {
          "name": "stdout",
          "output_type": "stream",
          "text": [
            "Overwriting tutorial/spiders/quotes_spider.py\n"
          ]
        }
      ],
      "source": [
        "%%writefile tutorial/spiders/quotes_spider.py\n",
        "import scrapy\n",
        "\n",
        "class QuotesSpider(scrapy.Spider):\n",
        "    name = \"quotes\"\n",
        "    start_urls = ['http://quotes.toscrape.com']\n",
        "\n",
        "    def parse(self, response):\n",
        "        scraped = response.css(\"span.text::text\").getall() # FILL ME IN!\n",
        "        for quote in scraped:\n",
        "            print(quote)"
      ]
    },
    {
      "cell_type": "code",
      "execution_count": 50,
      "metadata": {
        "colab": {
          "base_uri": "https://localhost:8080/"
        },
        "id": "c65FominhdJy",
        "outputId": "fe15d86d-2b75-4309-ba63-0f1ed019bf6c"
      },
      "outputs": [
        {
          "name": "stdout",
          "output_type": "stream",
          "text": [
            "“The world as we have created it is a process of our thinking. It cannot be changed without changing our thinking.”\n",
            "“It is our choices, Harry, that show what we truly are, far more than our abilities.”\n",
            "“There are only two ways to live your life. One is as though nothing is a miracle. The other is as though everything is a miracle.”\n",
            "“The person, be it gentleman or lady, who has not pleasure in a good novel, must be intolerably stupid.”\n",
            "“Imperfection is beauty, madness is genius and it's better to be absolutely ridiculous than absolutely boring.”\n",
            "“Try not to become a man of success. Rather become a man of value.”\n",
            "“It is better to be hated for what you are than to be loved for what you are not.”\n",
            "“I have not failed. I've just found 10,000 ways that won't work.”\n",
            "“A woman is like a tea bag; you never know how strong it is until it's in hot water.”\n",
            "“A day without sunshine is like, you know, night.”\n"
          ]
        }
      ],
      "source": [
        "!scrapy crawl quotes -L ERROR"
      ]
    },
    {
      "cell_type": "markdown",
      "metadata": {},
      "source": [
        "Since we don't need the “” symbols, we can drop them:"
      ]
    },
    {
      "cell_type": "code",
      "execution_count": 51,
      "metadata": {},
      "outputs": [
        {
          "name": "stdout",
          "output_type": "stream",
          "text": [
            "Overwriting tutorial/spiders/quotes_spider.py\n"
          ]
        }
      ],
      "source": [
        "%%writefile tutorial/spiders/quotes_spider.py\n",
        "import scrapy\n",
        "\n",
        "class QuotesSpider(scrapy.Spider):\n",
        "    name = \"quotes\"\n",
        "    start_urls = ['http://quotes.toscrape.com']\n",
        "\n",
        "    def parse(self, response):\n",
        "        scraped = response.css(\"span.text::text\").getall()\n",
        "        for quote in scraped:\n",
        "            print(quote[1:-1]) # ONLY CHANGE"
      ]
    },
    {
      "cell_type": "code",
      "execution_count": 52,
      "metadata": {},
      "outputs": [
        {
          "name": "stdout",
          "output_type": "stream",
          "text": [
            "The world as we have created it is a process of our thinking. It cannot be changed without changing our thinking.\n",
            "It is our choices, Harry, that show what we truly are, far more than our abilities.\n",
            "There are only two ways to live your life. One is as though nothing is a miracle. The other is as though everything is a miracle.\n",
            "The person, be it gentleman or lady, who has not pleasure in a good novel, must be intolerably stupid.\n",
            "Imperfection is beauty, madness is genius and it's better to be absolutely ridiculous than absolutely boring.\n",
            "Try not to become a man of success. Rather become a man of value.\n",
            "It is better to be hated for what you are than to be loved for what you are not.\n",
            "I have not failed. I've just found 10,000 ways that won't work.\n",
            "A woman is like a tea bag; you never know how strong it is until it's in hot water.\n",
            "A day without sunshine is like, you know, night.\n"
          ]
        }
      ],
      "source": [
        "!scrapy crawl quotes -L ERROR"
      ]
    },
    {
      "cell_type": "markdown",
      "metadata": {},
      "source": [
        "Now, let's say we want to save our results to a data file that looks like the below, with single column called \"quote\" one row for each quote we scrape:"
      ]
    },
    {
      "cell_type": "code",
      "execution_count": 54,
      "metadata": {},
      "outputs": [
        {
          "data": {
            "text/html": [
              "<div>\n",
              "<style scoped>\n",
              "    .dataframe tbody tr th:only-of-type {\n",
              "        vertical-align: middle;\n",
              "    }\n",
              "\n",
              "    .dataframe tbody tr th {\n",
              "        vertical-align: top;\n",
              "    }\n",
              "\n",
              "    .dataframe thead th {\n",
              "        text-align: right;\n",
              "    }\n",
              "</style>\n",
              "<table border=\"1\" class=\"dataframe\">\n",
              "  <thead>\n",
              "    <tr style=\"text-align: right;\">\n",
              "      <th></th>\n",
              "      <th>quote</th>\n",
              "    </tr>\n",
              "  </thead>\n",
              "  <tbody>\n",
              "    <tr>\n",
              "      <th>0</th>\n",
              "      <td>the first quote</td>\n",
              "    </tr>\n",
              "    <tr>\n",
              "      <th>1</th>\n",
              "      <td>the second quote</td>\n",
              "    </tr>\n",
              "    <tr>\n",
              "      <th>2</th>\n",
              "      <td>the third quote</td>\n",
              "    </tr>\n",
              "    <tr>\n",
              "      <th>3</th>\n",
              "      <td>etc...</td>\n",
              "    </tr>\n",
              "  </tbody>\n",
              "</table>\n",
              "</div>"
            ],
            "text/plain": [
              "              quote\n",
              "0   the first quote\n",
              "1  the second quote\n",
              "2   the third quote\n",
              "3            etc..."
            ]
          },
          "execution_count": 54,
          "metadata": {},
          "output_type": "execute_result"
        }
      ],
      "source": [
        "import pandas as pd\n",
        "pd.DataFrame([\n",
        "    {'quote': 'the first quote'},\n",
        "    {'quote': 'the second quote'},\n",
        "    {'quote': 'the third quote'},\n",
        "    {'quote': 'etc...'},\n",
        "])"
      ]
    },
    {
      "cell_type": "markdown",
      "metadata": {
        "id": "6xckP-Z-lTX4"
      },
      "source": [
        "**To save results to a file**, Scrapy requires that each desired row of saved data be provided as a Python dictionary, e.g., `{'quote': 'the first quote'}` using the `yield` keyword inside of a loop.\n",
        "\n",
        "Put more simply, while before we just called `print(quote)` inside of the loop to see each quote, we will now call `yield {'quote': quote}` inside of the loop to save each quote as a row of data.\n",
        "\n",
        "The code below makes just **two** simple changes:\n",
        "1. Put each quote in a dictionary: `{'quote': quote[1:-1]}`\n",
        "2. Yield each quote in the loop: `yield row_of_data`"
      ]
    },
    {
      "cell_type": "code",
      "execution_count": 55,
      "metadata": {},
      "outputs": [
        {
          "name": "stdout",
          "output_type": "stream",
          "text": [
            "Overwriting tutorial/spiders/quotes_spider.py\n"
          ]
        }
      ],
      "source": [
        "%%writefile tutorial/spiders/quotes_spider.py\n",
        "import scrapy\n",
        "\n",
        "class QuotesSpider(scrapy.Spider):\n",
        "    name = \"quotes\"\n",
        "    start_urls = ['http://quotes.toscrape.com']\n",
        "\n",
        "    def parse(self, response):\n",
        "        scraped = response.css(\"span.text::text\").getall()\n",
        "        for quote in scraped:\n",
        "            row_of_data = {'quote': quote[1:-1]} # NEW!\n",
        "            print(row_of_data)\n",
        "            yield row_of_data  # NEW!"
      ]
    },
    {
      "cell_type": "markdown",
      "metadata": {},
      "source": [
        "Now when we run our spider, we need to add `-O quotes.csv` to our command to tell Scrapy to output results to a data file called `quotes.csv`."
      ]
    },
    {
      "cell_type": "code",
      "execution_count": 56,
      "metadata": {},
      "outputs": [
        {
          "name": "stdout",
          "output_type": "stream",
          "text": [
            "{'quote': 'The world as we have created it is a process of our thinking. It cannot be changed without changing our thinking.'}\n",
            "{'quote': 'It is our choices, Harry, that show what we truly are, far more than our abilities.'}\n",
            "{'quote': 'There are only two ways to live your life. One is as though nothing is a miracle. The other is as though everything is a miracle.'}\n",
            "{'quote': 'The person, be it gentleman or lady, who has not pleasure in a good novel, must be intolerably stupid.'}\n",
            "{'quote': \"Imperfection is beauty, madness is genius and it's better to be absolutely ridiculous than absolutely boring.\"}\n",
            "{'quote': 'Try not to become a man of success. Rather become a man of value.'}\n",
            "{'quote': 'It is better to be hated for what you are than to be loved for what you are not.'}\n",
            "{'quote': \"I have not failed. I've just found 10,000 ways that won't work.\"}\n",
            "{'quote': \"A woman is like a tea bag; you never know how strong it is until it's in hot water.\"}\n",
            "{'quote': 'A day without sunshine is like, you know, night.'}\n"
          ]
        }
      ],
      "source": [
        "!scrapy crawl quotes -L ERROR -O quotes.csv"
      ]
    },
    {
      "cell_type": "markdown",
      "metadata": {},
      "source": [
        "We can read in this file with pandas and show that it has the structure we wanted:"
      ]
    },
    {
      "cell_type": "code",
      "execution_count": 57,
      "metadata": {},
      "outputs": [
        {
          "data": {
            "text/html": [
              "<div>\n",
              "<style scoped>\n",
              "    .dataframe tbody tr th:only-of-type {\n",
              "        vertical-align: middle;\n",
              "    }\n",
              "\n",
              "    .dataframe tbody tr th {\n",
              "        vertical-align: top;\n",
              "    }\n",
              "\n",
              "    .dataframe thead th {\n",
              "        text-align: right;\n",
              "    }\n",
              "</style>\n",
              "<table border=\"1\" class=\"dataframe\">\n",
              "  <thead>\n",
              "    <tr style=\"text-align: right;\">\n",
              "      <th></th>\n",
              "      <th>quote</th>\n",
              "    </tr>\n",
              "  </thead>\n",
              "  <tbody>\n",
              "    <tr>\n",
              "      <th>0</th>\n",
              "      <td>The world as we have created it is a process o...</td>\n",
              "    </tr>\n",
              "    <tr>\n",
              "      <th>1</th>\n",
              "      <td>It is our choices, Harry, that show what we tr...</td>\n",
              "    </tr>\n",
              "    <tr>\n",
              "      <th>2</th>\n",
              "      <td>There are only two ways to live your life. One...</td>\n",
              "    </tr>\n",
              "    <tr>\n",
              "      <th>3</th>\n",
              "      <td>The person, be it gentleman or lady, who has n...</td>\n",
              "    </tr>\n",
              "    <tr>\n",
              "      <th>4</th>\n",
              "      <td>Imperfection is beauty, madness is genius and ...</td>\n",
              "    </tr>\n",
              "    <tr>\n",
              "      <th>5</th>\n",
              "      <td>Try not to become a man of success. Rather bec...</td>\n",
              "    </tr>\n",
              "    <tr>\n",
              "      <th>6</th>\n",
              "      <td>It is better to be hated for what you are than...</td>\n",
              "    </tr>\n",
              "    <tr>\n",
              "      <th>7</th>\n",
              "      <td>I have not failed. I've just found 10,000 ways...</td>\n",
              "    </tr>\n",
              "    <tr>\n",
              "      <th>8</th>\n",
              "      <td>A woman is like a tea bag; you never know how ...</td>\n",
              "    </tr>\n",
              "    <tr>\n",
              "      <th>9</th>\n",
              "      <td>A day without sunshine is like, you know, night.</td>\n",
              "    </tr>\n",
              "  </tbody>\n",
              "</table>\n",
              "</div>"
            ],
            "text/plain": [
              "                                               quote\n",
              "0  The world as we have created it is a process o...\n",
              "1  It is our choices, Harry, that show what we tr...\n",
              "2  There are only two ways to live your life. One...\n",
              "3  The person, be it gentleman or lady, who has n...\n",
              "4  Imperfection is beauty, madness is genius and ...\n",
              "5  Try not to become a man of success. Rather bec...\n",
              "6  It is better to be hated for what you are than...\n",
              "7  I have not failed. I've just found 10,000 ways...\n",
              "8  A woman is like a tea bag; you never know how ...\n",
              "9   A day without sunshine is like, you know, night."
            ]
          },
          "execution_count": 57,
          "metadata": {},
          "output_type": "execute_result"
        }
      ],
      "source": [
        "import pandas as pd\n",
        "pd.read_csv('quotes.csv')"
      ]
    },
    {
      "cell_type": "markdown",
      "metadata": {
        "id": "5cdyaJE_qNRx"
      },
      "source": [
        "We could extract authors along with each quote as well.\n",
        "\n",
        "If again we right-click + \"Inspect\", but now the author text \"Albert Einstein\" for the first quote in Chrome, we see:\n",
        "\n",
        "```html\n",
        "<small class=\"author\">Albert Einstein</small>\n",
        "```\n",
        "\n",
        "To extract both:"
      ]
    },
    {
      "cell_type": "code",
      "execution_count": 60,
      "metadata": {
        "colab": {
          "base_uri": "https://localhost:8080/"
        },
        "id": "tsSIXPFgpUrq",
        "outputId": "7555cbb1-dd48-4455-c8a8-066c64a48379"
      },
      "outputs": [
        {
          "name": "stdout",
          "output_type": "stream",
          "text": [
            "Overwriting tutorial/spiders/quotes_spider.py\n"
          ]
        }
      ],
      "source": [
        "%%writefile tutorial/spiders/quotes_spider.py\n",
        "import scrapy\n",
        "\n",
        "class QuotesSpider(scrapy.Spider):\n",
        "    name = \"quotes\"\n",
        "    start_urls = ['http://quotes.toscrape.com']\n",
        "\n",
        "    def parse(self, response):\n",
        "\n",
        "        quotes = response.css(\"span.text::text\").getall()\n",
        "\n",
        "        authors = response.css(\"small.author::text\").getall() # FILL ME IN!\n",
        "\n",
        "        print(quotes)\n",
        "        print(authors)"
      ]
    },
    {
      "cell_type": "code",
      "execution_count": 61,
      "metadata": {
        "colab": {
          "base_uri": "https://localhost:8080/"
        },
        "id": "_FYiifddqJL3",
        "outputId": "4113682a-7f0f-4afb-92ee-3233fd0789d5"
      },
      "outputs": [
        {
          "name": "stdout",
          "output_type": "stream",
          "text": [
            "['“The world as we have created it is a process of our thinking. It cannot be changed without changing our thinking.”', '“It is our choices, Harry, that show what we truly are, far more than our abilities.”', '“There are only two ways to live your life. One is as though nothing is a miracle. The other is as though everything is a miracle.”', '“The person, be it gentleman or lady, who has not pleasure in a good novel, must be intolerably stupid.”', \"“Imperfection is beauty, madness is genius and it's better to be absolutely ridiculous than absolutely boring.”\", '“Try not to become a man of success. Rather become a man of value.”', '“It is better to be hated for what you are than to be loved for what you are not.”', \"“I have not failed. I've just found 10,000 ways that won't work.”\", \"“A woman is like a tea bag; you never know how strong it is until it's in hot water.”\", '“A day without sunshine is like, you know, night.”']\n",
            "['Albert Einstein', 'J.K. Rowling', 'Albert Einstein', 'Jane Austen', 'Marilyn Monroe', 'Albert Einstein', 'André Gide', 'Thomas A. Edison', 'Eleanor Roosevelt', 'Steve Martin']\n"
          ]
        }
      ],
      "source": [
        "!scrapy crawl quotes -L ERROR"
      ]
    },
    {
      "cell_type": "markdown",
      "metadata": {
        "id": "f06b0QtzqYSK"
      },
      "source": [
        "A better way to do the above is to understand more about how the page is organized.\n",
        "\n",
        "Go pack to the page and \"Inspect\" the white space just a pixel or show away from the thin black line above the quote text. \n",
        "\n",
        "You will see that each quote and related info is grouped together like this:\n",
        "\n",
        "```html\n",
        "<div class=\"quote\">\n",
        "    <span class=\"text\">Quote text.</span>\n",
        "    <span>\n",
        "        by <small class=\"author\">Author Name</small>\n",
        "        <a href=\"/author/Author-Name\">(about)</a>\n",
        "    </span>\n",
        "    <div class=\"tags\">\n",
        "        Tags:\n",
        "        <a class=\"tag\" href=\"/tag/change/page/1/\">change</a>\n",
        "        ...\n",
        "    </div>\n",
        "</div>\n",
        "```\n",
        "\n",
        "Without knowing every detail, we can see that all of the info for one quote is organized inside of one `<div class=\"quote\">` parent element. Inside is the quote, the author name, and other things like tags and links (`<a>`).\n",
        "\n",
        "We can access all information associated with a single quote using one simple selector: `'div.quote'`:"
      ]
    },
    {
      "cell_type": "code",
      "execution_count": 62,
      "metadata": {
        "colab": {
          "base_uri": "https://localhost:8080/"
        },
        "id": "lUXxhSsVqXq4",
        "outputId": "9762d1fa-307e-4433-daf1-16162ceada2b"
      },
      "outputs": [
        {
          "name": "stdout",
          "output_type": "stream",
          "text": [
            "Overwriting tutorial/spiders/quotes_spider.py\n"
          ]
        }
      ],
      "source": [
        "%%writefile tutorial/spiders/quotes_spider.py\n",
        "import scrapy\n",
        "\n",
        "class QuotesSpider(scrapy.Spider):\n",
        "    name = \"quotes\"\n",
        "    start_urls = ['http://quotes.toscrape.com']\n",
        "\n",
        "    def parse(self, response):\n",
        "\n",
        "        quotes = response.css(\"div.quote\").getall() # FILL ME IN!\n",
        "\n",
        "        for quote in quotes:\n",
        "            print(quote)"
      ]
    },
    {
      "cell_type": "code",
      "execution_count": 63,
      "metadata": {
        "colab": {
          "base_uri": "https://localhost:8080/"
        },
        "id": "tOEYI9YJqg8J",
        "outputId": "c24d0ec3-a7cf-4655-d44b-eaa7109f1dae"
      },
      "outputs": [
        {
          "name": "stdout",
          "output_type": "stream",
          "text": [
            "<div class=\"quote\" itemscope itemtype=\"http://schema.org/CreativeWork\">\n",
            "        <span class=\"text\" itemprop=\"text\">“The world as we have created it is a process of our thinking. It cannot be changed without changing our thinking.”</span>\n",
            "        <span>by <small class=\"author\" itemprop=\"author\">Albert Einstein</small>\n",
            "        <a href=\"/author/Albert-Einstein\">(about)</a>\n",
            "        </span>\n",
            "        <div class=\"tags\">\n",
            "            Tags:\n",
            "            <meta class=\"keywords\" itemprop=\"keywords\" content=\"change,deep-thoughts,thinking,world\"> \n",
            "            \n",
            "            <a class=\"tag\" href=\"/tag/change/page/1/\">change</a>\n",
            "            \n",
            "            <a class=\"tag\" href=\"/tag/deep-thoughts/page/1/\">deep-thoughts</a>\n",
            "            \n",
            "            <a class=\"tag\" href=\"/tag/thinking/page/1/\">thinking</a>\n",
            "            \n",
            "            <a class=\"tag\" href=\"/tag/world/page/1/\">world</a>\n",
            "            \n",
            "        </div>\n",
            "    </div>\n",
            "<div class=\"quote\" itemscope itemtype=\"http://schema.org/CreativeWork\">\n",
            "        <span class=\"text\" itemprop=\"text\">“It is our choices, Harry, that show what we truly are, far more than our abilities.”</span>\n",
            "        <span>by <small class=\"author\" itemprop=\"author\">J.K. Rowling</small>\n",
            "        <a href=\"/author/J-K-Rowling\">(about)</a>\n",
            "        </span>\n",
            "        <div class=\"tags\">\n",
            "            Tags:\n",
            "            <meta class=\"keywords\" itemprop=\"keywords\" content=\"abilities,choices\"> \n",
            "            \n",
            "            <a class=\"tag\" href=\"/tag/abilities/page/1/\">abilities</a>\n",
            "            \n",
            "            <a class=\"tag\" href=\"/tag/choices/page/1/\">choices</a>\n",
            "            \n",
            "        </div>\n",
            "    </div>\n",
            "<div class=\"quote\" itemscope itemtype=\"http://schema.org/CreativeWork\">\n",
            "        <span class=\"text\" itemprop=\"text\">“There are only two ways to live your life. One is as though nothing is a miracle. The other is as though everything is a miracle.”</span>\n",
            "        <span>by <small class=\"author\" itemprop=\"author\">Albert Einstein</small>\n",
            "        <a href=\"/author/Albert-Einstein\">(about)</a>\n",
            "        </span>\n",
            "        <div class=\"tags\">\n",
            "            Tags:\n",
            "            <meta class=\"keywords\" itemprop=\"keywords\" content=\"inspirational,life,live,miracle,miracles\"> \n",
            "            \n",
            "            <a class=\"tag\" href=\"/tag/inspirational/page/1/\">inspirational</a>\n",
            "            \n",
            "            <a class=\"tag\" href=\"/tag/life/page/1/\">life</a>\n",
            "            \n",
            "            <a class=\"tag\" href=\"/tag/live/page/1/\">live</a>\n",
            "            \n",
            "            <a class=\"tag\" href=\"/tag/miracle/page/1/\">miracle</a>\n",
            "            \n",
            "            <a class=\"tag\" href=\"/tag/miracles/page/1/\">miracles</a>\n",
            "            \n",
            "        </div>\n",
            "    </div>\n",
            "<div class=\"quote\" itemscope itemtype=\"http://schema.org/CreativeWork\">\n",
            "        <span class=\"text\" itemprop=\"text\">“The person, be it gentleman or lady, who has not pleasure in a good novel, must be intolerably stupid.”</span>\n",
            "        <span>by <small class=\"author\" itemprop=\"author\">Jane Austen</small>\n",
            "        <a href=\"/author/Jane-Austen\">(about)</a>\n",
            "        </span>\n",
            "        <div class=\"tags\">\n",
            "            Tags:\n",
            "            <meta class=\"keywords\" itemprop=\"keywords\" content=\"aliteracy,books,classic,humor\"> \n",
            "            \n",
            "            <a class=\"tag\" href=\"/tag/aliteracy/page/1/\">aliteracy</a>\n",
            "            \n",
            "            <a class=\"tag\" href=\"/tag/books/page/1/\">books</a>\n",
            "            \n",
            "            <a class=\"tag\" href=\"/tag/classic/page/1/\">classic</a>\n",
            "            \n",
            "            <a class=\"tag\" href=\"/tag/humor/page/1/\">humor</a>\n",
            "            \n",
            "        </div>\n",
            "    </div>\n",
            "<div class=\"quote\" itemscope itemtype=\"http://schema.org/CreativeWork\">\n",
            "        <span class=\"text\" itemprop=\"text\">“Imperfection is beauty, madness is genius and it's better to be absolutely ridiculous than absolutely boring.”</span>\n",
            "        <span>by <small class=\"author\" itemprop=\"author\">Marilyn Monroe</small>\n",
            "        <a href=\"/author/Marilyn-Monroe\">(about)</a>\n",
            "        </span>\n",
            "        <div class=\"tags\">\n",
            "            Tags:\n",
            "            <meta class=\"keywords\" itemprop=\"keywords\" content=\"be-yourself,inspirational\"> \n",
            "            \n",
            "            <a class=\"tag\" href=\"/tag/be-yourself/page/1/\">be-yourself</a>\n",
            "            \n",
            "            <a class=\"tag\" href=\"/tag/inspirational/page/1/\">inspirational</a>\n",
            "            \n",
            "        </div>\n",
            "    </div>\n",
            "<div class=\"quote\" itemscope itemtype=\"http://schema.org/CreativeWork\">\n",
            "        <span class=\"text\" itemprop=\"text\">“Try not to become a man of success. Rather become a man of value.”</span>\n",
            "        <span>by <small class=\"author\" itemprop=\"author\">Albert Einstein</small>\n",
            "        <a href=\"/author/Albert-Einstein\">(about)</a>\n",
            "        </span>\n",
            "        <div class=\"tags\">\n",
            "            Tags:\n",
            "            <meta class=\"keywords\" itemprop=\"keywords\" content=\"adulthood,success,value\"> \n",
            "            \n",
            "            <a class=\"tag\" href=\"/tag/adulthood/page/1/\">adulthood</a>\n",
            "            \n",
            "            <a class=\"tag\" href=\"/tag/success/page/1/\">success</a>\n",
            "            \n",
            "            <a class=\"tag\" href=\"/tag/value/page/1/\">value</a>\n",
            "            \n",
            "        </div>\n",
            "    </div>\n",
            "<div class=\"quote\" itemscope itemtype=\"http://schema.org/CreativeWork\">\n",
            "        <span class=\"text\" itemprop=\"text\">“It is better to be hated for what you are than to be loved for what you are not.”</span>\n",
            "        <span>by <small class=\"author\" itemprop=\"author\">André Gide</small>\n",
            "        <a href=\"/author/Andre-Gide\">(about)</a>\n",
            "        </span>\n",
            "        <div class=\"tags\">\n",
            "            Tags:\n",
            "            <meta class=\"keywords\" itemprop=\"keywords\" content=\"life,love\"> \n",
            "            \n",
            "            <a class=\"tag\" href=\"/tag/life/page/1/\">life</a>\n",
            "            \n",
            "            <a class=\"tag\" href=\"/tag/love/page/1/\">love</a>\n",
            "            \n",
            "        </div>\n",
            "    </div>\n",
            "<div class=\"quote\" itemscope itemtype=\"http://schema.org/CreativeWork\">\n",
            "        <span class=\"text\" itemprop=\"text\">“I have not failed. I've just found 10,000 ways that won't work.”</span>\n",
            "        <span>by <small class=\"author\" itemprop=\"author\">Thomas A. Edison</small>\n",
            "        <a href=\"/author/Thomas-A-Edison\">(about)</a>\n",
            "        </span>\n",
            "        <div class=\"tags\">\n",
            "            Tags:\n",
            "            <meta class=\"keywords\" itemprop=\"keywords\" content=\"edison,failure,inspirational,paraphrased\"> \n",
            "            \n",
            "            <a class=\"tag\" href=\"/tag/edison/page/1/\">edison</a>\n",
            "            \n",
            "            <a class=\"tag\" href=\"/tag/failure/page/1/\">failure</a>\n",
            "            \n",
            "            <a class=\"tag\" href=\"/tag/inspirational/page/1/\">inspirational</a>\n",
            "            \n",
            "            <a class=\"tag\" href=\"/tag/paraphrased/page/1/\">paraphrased</a>\n",
            "            \n",
            "        </div>\n",
            "    </div>\n",
            "<div class=\"quote\" itemscope itemtype=\"http://schema.org/CreativeWork\">\n",
            "        <span class=\"text\" itemprop=\"text\">“A woman is like a tea bag; you never know how strong it is until it's in hot water.”</span>\n",
            "        <span>by <small class=\"author\" itemprop=\"author\">Eleanor Roosevelt</small>\n",
            "        <a href=\"/author/Eleanor-Roosevelt\">(about)</a>\n",
            "        </span>\n",
            "        <div class=\"tags\">\n",
            "            Tags:\n",
            "            <meta class=\"keywords\" itemprop=\"keywords\" content=\"misattributed-eleanor-roosevelt\"> \n",
            "            \n",
            "            <a class=\"tag\" href=\"/tag/misattributed-eleanor-roosevelt/page/1/\">misattributed-eleanor-roosevelt</a>\n",
            "            \n",
            "        </div>\n",
            "    </div>\n",
            "<div class=\"quote\" itemscope itemtype=\"http://schema.org/CreativeWork\">\n",
            "        <span class=\"text\" itemprop=\"text\">“A day without sunshine is like, you know, night.”</span>\n",
            "        <span>by <small class=\"author\" itemprop=\"author\">Steve Martin</small>\n",
            "        <a href=\"/author/Steve-Martin\">(about)</a>\n",
            "        </span>\n",
            "        <div class=\"tags\">\n",
            "            Tags:\n",
            "            <meta class=\"keywords\" itemprop=\"keywords\" content=\"humor,obvious,simile\"> \n",
            "            \n",
            "            <a class=\"tag\" href=\"/tag/humor/page/1/\">humor</a>\n",
            "            \n",
            "            <a class=\"tag\" href=\"/tag/obvious/page/1/\">obvious</a>\n",
            "            \n",
            "            <a class=\"tag\" href=\"/tag/simile/page/1/\">simile</a>\n",
            "            \n",
            "        </div>\n",
            "    </div>\n"
          ]
        }
      ],
      "source": [
        "!scrapy crawl quotes -L ERROR"
      ]
    },
    {
      "cell_type": "markdown",
      "metadata": {
        "id": "Jv47QImbs3cs"
      },
      "source": [
        "A common shorthand in Scrapy to do the same as the above (printing out all div quote elements) is below.\n",
        "\n",
        "That is, we are looping through all of the quotes in `response.css('div.quote')`, and only calling `.get()` on the individual quotes."
      ]
    },
    {
      "cell_type": "code",
      "execution_count": 64,
      "metadata": {},
      "outputs": [
        {
          "name": "stdout",
          "output_type": "stream",
          "text": [
            "Overwriting tutorial/spiders/quotes_spider.py\n"
          ]
        }
      ],
      "source": [
        "%%writefile tutorial/spiders/quotes_spider.py\n",
        "import scrapy\n",
        "\n",
        "class QuotesSpider(scrapy.Spider):\n",
        "    name = \"quotes\"\n",
        "    start_urls = ['http://quotes.toscrape.com']\n",
        "\n",
        "    def parse(self, response):\n",
        "\n",
        "        for quote in response.css('div.quote'):\n",
        "            print(quote.get())"
      ]
    },
    {
      "cell_type": "code",
      "execution_count": 65,
      "metadata": {},
      "outputs": [
        {
          "name": "stdout",
          "output_type": "stream",
          "text": [
            "<div class=\"quote\" itemscope itemtype=\"http://schema.org/CreativeWork\">\n",
            "        <span class=\"text\" itemprop=\"text\">“The world as we have created it is a process of our thinking. It cannot be changed without changing our thinking.”</span>\n",
            "        <span>by <small class=\"author\" itemprop=\"author\">Albert Einstein</small>\n",
            "        <a href=\"/author/Albert-Einstein\">(about)</a>\n",
            "        </span>\n",
            "        <div class=\"tags\">\n",
            "            Tags:\n",
            "            <meta class=\"keywords\" itemprop=\"keywords\" content=\"change,deep-thoughts,thinking,world\"> \n",
            "            \n",
            "            <a class=\"tag\" href=\"/tag/change/page/1/\">change</a>\n",
            "            \n",
            "            <a class=\"tag\" href=\"/tag/deep-thoughts/page/1/\">deep-thoughts</a>\n",
            "            \n",
            "            <a class=\"tag\" href=\"/tag/thinking/page/1/\">thinking</a>\n",
            "            \n",
            "            <a class=\"tag\" href=\"/tag/world/page/1/\">world</a>\n",
            "            \n",
            "        </div>\n",
            "    </div>\n",
            "<div class=\"quote\" itemscope itemtype=\"http://schema.org/CreativeWork\">\n",
            "        <span class=\"text\" itemprop=\"text\">“It is our choices, Harry, that show what we truly are, far more than our abilities.”</span>\n",
            "        <span>by <small class=\"author\" itemprop=\"author\">J.K. Rowling</small>\n",
            "        <a href=\"/author/J-K-Rowling\">(about)</a>\n",
            "        </span>\n",
            "        <div class=\"tags\">\n",
            "            Tags:\n",
            "            <meta class=\"keywords\" itemprop=\"keywords\" content=\"abilities,choices\"> \n",
            "            \n",
            "            <a class=\"tag\" href=\"/tag/abilities/page/1/\">abilities</a>\n",
            "            \n",
            "            <a class=\"tag\" href=\"/tag/choices/page/1/\">choices</a>\n",
            "            \n",
            "        </div>\n",
            "    </div>\n",
            "<div class=\"quote\" itemscope itemtype=\"http://schema.org/CreativeWork\">\n",
            "        <span class=\"text\" itemprop=\"text\">“There are only two ways to live your life. One is as though nothing is a miracle. The other is as though everything is a miracle.”</span>\n",
            "        <span>by <small class=\"author\" itemprop=\"author\">Albert Einstein</small>\n",
            "        <a href=\"/author/Albert-Einstein\">(about)</a>\n",
            "        </span>\n",
            "        <div class=\"tags\">\n",
            "            Tags:\n",
            "            <meta class=\"keywords\" itemprop=\"keywords\" content=\"inspirational,life,live,miracle,miracles\"> \n",
            "            \n",
            "            <a class=\"tag\" href=\"/tag/inspirational/page/1/\">inspirational</a>\n",
            "            \n",
            "            <a class=\"tag\" href=\"/tag/life/page/1/\">life</a>\n",
            "            \n",
            "            <a class=\"tag\" href=\"/tag/live/page/1/\">live</a>\n",
            "            \n",
            "            <a class=\"tag\" href=\"/tag/miracle/page/1/\">miracle</a>\n",
            "            \n",
            "            <a class=\"tag\" href=\"/tag/miracles/page/1/\">miracles</a>\n",
            "            \n",
            "        </div>\n",
            "    </div>\n",
            "<div class=\"quote\" itemscope itemtype=\"http://schema.org/CreativeWork\">\n",
            "        <span class=\"text\" itemprop=\"text\">“The person, be it gentleman or lady, who has not pleasure in a good novel, must be intolerably stupid.”</span>\n",
            "        <span>by <small class=\"author\" itemprop=\"author\">Jane Austen</small>\n",
            "        <a href=\"/author/Jane-Austen\">(about)</a>\n",
            "        </span>\n",
            "        <div class=\"tags\">\n",
            "            Tags:\n",
            "            <meta class=\"keywords\" itemprop=\"keywords\" content=\"aliteracy,books,classic,humor\"> \n",
            "            \n",
            "            <a class=\"tag\" href=\"/tag/aliteracy/page/1/\">aliteracy</a>\n",
            "            \n",
            "            <a class=\"tag\" href=\"/tag/books/page/1/\">books</a>\n",
            "            \n",
            "            <a class=\"tag\" href=\"/tag/classic/page/1/\">classic</a>\n",
            "            \n",
            "            <a class=\"tag\" href=\"/tag/humor/page/1/\">humor</a>\n",
            "            \n",
            "        </div>\n",
            "    </div>\n",
            "<div class=\"quote\" itemscope itemtype=\"http://schema.org/CreativeWork\">\n",
            "        <span class=\"text\" itemprop=\"text\">“Imperfection is beauty, madness is genius and it's better to be absolutely ridiculous than absolutely boring.”</span>\n",
            "        <span>by <small class=\"author\" itemprop=\"author\">Marilyn Monroe</small>\n",
            "        <a href=\"/author/Marilyn-Monroe\">(about)</a>\n",
            "        </span>\n",
            "        <div class=\"tags\">\n",
            "            Tags:\n",
            "            <meta class=\"keywords\" itemprop=\"keywords\" content=\"be-yourself,inspirational\"> \n",
            "            \n",
            "            <a class=\"tag\" href=\"/tag/be-yourself/page/1/\">be-yourself</a>\n",
            "            \n",
            "            <a class=\"tag\" href=\"/tag/inspirational/page/1/\">inspirational</a>\n",
            "            \n",
            "        </div>\n",
            "    </div>\n",
            "<div class=\"quote\" itemscope itemtype=\"http://schema.org/CreativeWork\">\n",
            "        <span class=\"text\" itemprop=\"text\">“Try not to become a man of success. Rather become a man of value.”</span>\n",
            "        <span>by <small class=\"author\" itemprop=\"author\">Albert Einstein</small>\n",
            "        <a href=\"/author/Albert-Einstein\">(about)</a>\n",
            "        </span>\n",
            "        <div class=\"tags\">\n",
            "            Tags:\n",
            "            <meta class=\"keywords\" itemprop=\"keywords\" content=\"adulthood,success,value\"> \n",
            "            \n",
            "            <a class=\"tag\" href=\"/tag/adulthood/page/1/\">adulthood</a>\n",
            "            \n",
            "            <a class=\"tag\" href=\"/tag/success/page/1/\">success</a>\n",
            "            \n",
            "            <a class=\"tag\" href=\"/tag/value/page/1/\">value</a>\n",
            "            \n",
            "        </div>\n",
            "    </div>\n",
            "<div class=\"quote\" itemscope itemtype=\"http://schema.org/CreativeWork\">\n",
            "        <span class=\"text\" itemprop=\"text\">“It is better to be hated for what you are than to be loved for what you are not.”</span>\n",
            "        <span>by <small class=\"author\" itemprop=\"author\">André Gide</small>\n",
            "        <a href=\"/author/Andre-Gide\">(about)</a>\n",
            "        </span>\n",
            "        <div class=\"tags\">\n",
            "            Tags:\n",
            "            <meta class=\"keywords\" itemprop=\"keywords\" content=\"life,love\"> \n",
            "            \n",
            "            <a class=\"tag\" href=\"/tag/life/page/1/\">life</a>\n",
            "            \n",
            "            <a class=\"tag\" href=\"/tag/love/page/1/\">love</a>\n",
            "            \n",
            "        </div>\n",
            "    </div>\n",
            "<div class=\"quote\" itemscope itemtype=\"http://schema.org/CreativeWork\">\n",
            "        <span class=\"text\" itemprop=\"text\">“I have not failed. I've just found 10,000 ways that won't work.”</span>\n",
            "        <span>by <small class=\"author\" itemprop=\"author\">Thomas A. Edison</small>\n",
            "        <a href=\"/author/Thomas-A-Edison\">(about)</a>\n",
            "        </span>\n",
            "        <div class=\"tags\">\n",
            "            Tags:\n",
            "            <meta class=\"keywords\" itemprop=\"keywords\" content=\"edison,failure,inspirational,paraphrased\"> \n",
            "            \n",
            "            <a class=\"tag\" href=\"/tag/edison/page/1/\">edison</a>\n",
            "            \n",
            "            <a class=\"tag\" href=\"/tag/failure/page/1/\">failure</a>\n",
            "            \n",
            "            <a class=\"tag\" href=\"/tag/inspirational/page/1/\">inspirational</a>\n",
            "            \n",
            "            <a class=\"tag\" href=\"/tag/paraphrased/page/1/\">paraphrased</a>\n",
            "            \n",
            "        </div>\n",
            "    </div>\n",
            "<div class=\"quote\" itemscope itemtype=\"http://schema.org/CreativeWork\">\n",
            "        <span class=\"text\" itemprop=\"text\">“A woman is like a tea bag; you never know how strong it is until it's in hot water.”</span>\n",
            "        <span>by <small class=\"author\" itemprop=\"author\">Eleanor Roosevelt</small>\n",
            "        <a href=\"/author/Eleanor-Roosevelt\">(about)</a>\n",
            "        </span>\n",
            "        <div class=\"tags\">\n",
            "            Tags:\n",
            "            <meta class=\"keywords\" itemprop=\"keywords\" content=\"misattributed-eleanor-roosevelt\"> \n",
            "            \n",
            "            <a class=\"tag\" href=\"/tag/misattributed-eleanor-roosevelt/page/1/\">misattributed-eleanor-roosevelt</a>\n",
            "            \n",
            "        </div>\n",
            "    </div>\n",
            "<div class=\"quote\" itemscope itemtype=\"http://schema.org/CreativeWork\">\n",
            "        <span class=\"text\" itemprop=\"text\">“A day without sunshine is like, you know, night.”</span>\n",
            "        <span>by <small class=\"author\" itemprop=\"author\">Steve Martin</small>\n",
            "        <a href=\"/author/Steve-Martin\">(about)</a>\n",
            "        </span>\n",
            "        <div class=\"tags\">\n",
            "            Tags:\n",
            "            <meta class=\"keywords\" itemprop=\"keywords\" content=\"humor,obvious,simile\"> \n",
            "            \n",
            "            <a class=\"tag\" href=\"/tag/humor/page/1/\">humor</a>\n",
            "            \n",
            "            <a class=\"tag\" href=\"/tag/obvious/page/1/\">obvious</a>\n",
            "            \n",
            "            <a class=\"tag\" href=\"/tag/simile/page/1/\">simile</a>\n",
            "            \n",
            "        </div>\n",
            "    </div>\n"
          ]
        }
      ],
      "source": [
        "!scrapy crawl quotes -L ERROR"
      ]
    },
    {
      "cell_type": "markdown",
      "metadata": {},
      "source": [
        "The nice thing about this approach is that it allows us to grab information at the level of a single quote rather than at the level of the entire document all at once.\n",
        "\n",
        "For example, below we have the same loop, but we call `.css('span.text::text').get()` on each individual quote.\n",
        "\n",
        "This is why we loop through `response.css('div.quote')` and not `response.css('div.quote').get()`. The former is the previously mentioned \"Selector\" Scrapy object that can be further filtered using `.css()`, where as the latter cannot because we forced it to become a raw text string via `.get()`. (You don't have to use this method if it makes less sense to you.)\n",
        "\n",
        "Check the output and see if it makes sense why it looks that way."
      ]
    },
    {
      "cell_type": "code",
      "execution_count": 66,
      "metadata": {
        "colab": {
          "base_uri": "https://localhost:8080/"
        },
        "id": "8BAxMhLssO7a",
        "outputId": "9a5048f4-3f46-4b21-8814-e55a96e96774"
      },
      "outputs": [
        {
          "name": "stdout",
          "output_type": "stream",
          "text": [
            "Overwriting tutorial/spiders/quotes_spider.py\n"
          ]
        }
      ],
      "source": [
        "%%writefile tutorial/spiders/quotes_spider.py\n",
        "import scrapy\n",
        "\n",
        "class QuotesSpider(scrapy.Spider):\n",
        "    name = \"quotes\"\n",
        "    start_urls = ['http://quotes.toscrape.com']\n",
        "\n",
        "    def parse(self, response):\n",
        "\n",
        "        for quote in response.css('div.quote'):\n",
        "            text = quote.css('span.text::text').get()\n",
        "            print(text)"
      ]
    },
    {
      "cell_type": "code",
      "execution_count": 67,
      "metadata": {
        "colab": {
          "base_uri": "https://localhost:8080/"
        },
        "id": "zsw6MMJVszpI",
        "outputId": "597720d7-231d-44e4-cc62-0765fcf74ec7"
      },
      "outputs": [
        {
          "name": "stdout",
          "output_type": "stream",
          "text": [
            "“The world as we have created it is a process of our thinking. It cannot be changed without changing our thinking.”\n",
            "“It is our choices, Harry, that show what we truly are, far more than our abilities.”\n",
            "“There are only two ways to live your life. One is as though nothing is a miracle. The other is as though everything is a miracle.”\n",
            "“The person, be it gentleman or lady, who has not pleasure in a good novel, must be intolerably stupid.”\n",
            "“Imperfection is beauty, madness is genius and it's better to be absolutely ridiculous than absolutely boring.”\n",
            "“Try not to become a man of success. Rather become a man of value.”\n",
            "“It is better to be hated for what you are than to be loved for what you are not.”\n",
            "“I have not failed. I've just found 10,000 ways that won't work.”\n",
            "“A woman is like a tea bag; you never know how strong it is until it's in hot water.”\n",
            "“A day without sunshine is like, you know, night.”\n"
          ]
        }
      ],
      "source": [
        "!scrapy crawl quotes -L ERROR"
      ]
    },
    {
      "cell_type": "markdown",
      "metadata": {
        "id": "wlG39E-KtThL"
      },
      "source": [
        "Now we can use this idea to extract each quote as a set of properties. We can store them in a dictionary and then save to a file with pandas."
      ]
    },
    {
      "cell_type": "code",
      "execution_count": 68,
      "metadata": {
        "colab": {
          "base_uri": "https://localhost:8080/"
        },
        "id": "kUocF9YSg810",
        "outputId": "1a7d4496-52a7-4fc8-a9a1-230160c6a725"
      },
      "outputs": [
        {
          "name": "stdout",
          "output_type": "stream",
          "text": [
            "Overwriting tutorial/spiders/quotes_spider.py\n"
          ]
        }
      ],
      "source": [
        "%%writefile tutorial/spiders/quotes_spider.py\n",
        "import scrapy\n",
        "\n",
        "class QuotesSpider(scrapy.Spider):\n",
        "    name = \"quotes\"\n",
        "    start_urls = ['http://quotes.toscrape.com']\n",
        "\n",
        "    def parse(self, response):\n",
        "\n",
        "        for quote in response.css('div.quote'): # FILL ME IN!\n",
        "            scraped = {\n",
        "                'author': quote.css('small.author::text').get(),\n",
        "                'quote': quote.css('span.text::text').get(),\n",
        "            }\n",
        "            print(scraped)\n",
        "            yield scraped"
      ]
    },
    {
      "cell_type": "code",
      "execution_count": 69,
      "metadata": {
        "colab": {
          "base_uri": "https://localhost:8080/"
        },
        "id": "Ug291RfOtijM",
        "outputId": "dbde1847-22ed-44bd-aca8-3bf24b52d864"
      },
      "outputs": [
        {
          "name": "stdout",
          "output_type": "stream",
          "text": [
            "{'author': 'Albert Einstein', 'quote': '“The world as we have created it is a process of our thinking. It cannot be changed without changing our thinking.”'}\n",
            "{'author': 'J.K. Rowling', 'quote': '“It is our choices, Harry, that show what we truly are, far more than our abilities.”'}\n",
            "{'author': 'Albert Einstein', 'quote': '“There are only two ways to live your life. One is as though nothing is a miracle. The other is as though everything is a miracle.”'}\n",
            "{'author': 'Jane Austen', 'quote': '“The person, be it gentleman or lady, who has not pleasure in a good novel, must be intolerably stupid.”'}\n",
            "{'author': 'Marilyn Monroe', 'quote': \"“Imperfection is beauty, madness is genius and it's better to be absolutely ridiculous than absolutely boring.”\"}\n",
            "{'author': 'Albert Einstein', 'quote': '“Try not to become a man of success. Rather become a man of value.”'}\n",
            "{'author': 'André Gide', 'quote': '“It is better to be hated for what you are than to be loved for what you are not.”'}\n",
            "{'author': 'Thomas A. Edison', 'quote': \"“I have not failed. I've just found 10,000 ways that won't work.”\"}\n",
            "{'author': 'Eleanor Roosevelt', 'quote': \"“A woman is like a tea bag; you never know how strong it is until it's in hot water.”\"}\n",
            "{'author': 'Steve Martin', 'quote': '“A day without sunshine is like, you know, night.”'}\n"
          ]
        }
      ],
      "source": [
        "!scrapy crawl quotes -L ERROR -O quotes.csv"
      ]
    },
    {
      "cell_type": "code",
      "execution_count": 70,
      "metadata": {
        "colab": {
          "base_uri": "https://localhost:8080/",
          "height": 363
        },
        "id": "Cz6uNL4IuOjy",
        "outputId": "618f64eb-32d9-4db2-ed01-0a2cafa08d7d"
      },
      "outputs": [
        {
          "data": {
            "text/html": [
              "<div>\n",
              "<style scoped>\n",
              "    .dataframe tbody tr th:only-of-type {\n",
              "        vertical-align: middle;\n",
              "    }\n",
              "\n",
              "    .dataframe tbody tr th {\n",
              "        vertical-align: top;\n",
              "    }\n",
              "\n",
              "    .dataframe thead th {\n",
              "        text-align: right;\n",
              "    }\n",
              "</style>\n",
              "<table border=\"1\" class=\"dataframe\">\n",
              "  <thead>\n",
              "    <tr style=\"text-align: right;\">\n",
              "      <th></th>\n",
              "      <th>author</th>\n",
              "      <th>quote</th>\n",
              "    </tr>\n",
              "  </thead>\n",
              "  <tbody>\n",
              "    <tr>\n",
              "      <th>0</th>\n",
              "      <td>Albert Einstein</td>\n",
              "      <td>“The world as we have created it is a process ...</td>\n",
              "    </tr>\n",
              "    <tr>\n",
              "      <th>1</th>\n",
              "      <td>J.K. Rowling</td>\n",
              "      <td>“It is our choices, Harry, that show what we t...</td>\n",
              "    </tr>\n",
              "    <tr>\n",
              "      <th>2</th>\n",
              "      <td>Albert Einstein</td>\n",
              "      <td>“There are only two ways to live your life. On...</td>\n",
              "    </tr>\n",
              "    <tr>\n",
              "      <th>3</th>\n",
              "      <td>Jane Austen</td>\n",
              "      <td>“The person, be it gentleman or lady, who has ...</td>\n",
              "    </tr>\n",
              "    <tr>\n",
              "      <th>4</th>\n",
              "      <td>Marilyn Monroe</td>\n",
              "      <td>“Imperfection is beauty, madness is genius and...</td>\n",
              "    </tr>\n",
              "    <tr>\n",
              "      <th>5</th>\n",
              "      <td>Albert Einstein</td>\n",
              "      <td>“Try not to become a man of success. Rather be...</td>\n",
              "    </tr>\n",
              "    <tr>\n",
              "      <th>6</th>\n",
              "      <td>André Gide</td>\n",
              "      <td>“It is better to be hated for what you are tha...</td>\n",
              "    </tr>\n",
              "    <tr>\n",
              "      <th>7</th>\n",
              "      <td>Thomas A. Edison</td>\n",
              "      <td>“I have not failed. I've just found 10,000 way...</td>\n",
              "    </tr>\n",
              "    <tr>\n",
              "      <th>8</th>\n",
              "      <td>Eleanor Roosevelt</td>\n",
              "      <td>“A woman is like a tea bag; you never know how...</td>\n",
              "    </tr>\n",
              "    <tr>\n",
              "      <th>9</th>\n",
              "      <td>Steve Martin</td>\n",
              "      <td>“A day without sunshine is like, you know, nig...</td>\n",
              "    </tr>\n",
              "  </tbody>\n",
              "</table>\n",
              "</div>"
            ],
            "text/plain": [
              "              author                                              quote\n",
              "0    Albert Einstein  “The world as we have created it is a process ...\n",
              "1       J.K. Rowling  “It is our choices, Harry, that show what we t...\n",
              "2    Albert Einstein  “There are only two ways to live your life. On...\n",
              "3        Jane Austen  “The person, be it gentleman or lady, who has ...\n",
              "4     Marilyn Monroe  “Imperfection is beauty, madness is genius and...\n",
              "5    Albert Einstein  “Try not to become a man of success. Rather be...\n",
              "6         André Gide  “It is better to be hated for what you are tha...\n",
              "7   Thomas A. Edison  “I have not failed. I've just found 10,000 way...\n",
              "8  Eleanor Roosevelt  “A woman is like a tea bag; you never know how...\n",
              "9       Steve Martin  “A day without sunshine is like, you know, nig..."
            ]
          },
          "execution_count": 70,
          "metadata": {},
          "output_type": "execute_result"
        }
      ],
      "source": [
        "pd.read_csv('quotes.csv')"
      ]
    },
    {
      "cell_type": "markdown",
      "metadata": {
        "id": "wvbb1m82Wgim"
      },
      "source": [
        "We now have all of the quotes on one page, but what about the other ones?\n",
        "\n",
        "To access the other pages, we can use Scrapy to **crawl** them.\n",
        "\n",
        "On this website, additional pages of quotes are accessed using the \"Next\" button on the very bottom of the page.\n",
        "\n",
        "Inspect it in Chrome, and you will see:\n",
        "\n",
        "```html\n",
        "<li class=\"next\">\n",
        "  <a href=\"/page/2/\">Next</a>\n",
        "</li>\n",
        "```\n",
        "\n",
        "The link to the next page is `\"/page/2/\"` (as in `http://quotes.toscrape.com/page/2/`).\n",
        "\n",
        "Notice that this link is not the text of the element (\"Next\").\n",
        "\n",
        "Instead, we want the value of the `href` attribute, which is `\"/page/2/\"`. `href` just means URL, like google.com. We'll talk about how to grab attributes in a second.\n",
        "\n",
        "First, notice that the `<a>` element doesn't have a class to help select it, however it is the only one inside of the `<li>` element.\n",
        "\n",
        "We can access is using the following selector format: `'parent child'`, simply separating the two with a space, such as `li.next a`:"
      ]
    },
    {
      "cell_type": "code",
      "execution_count": 71,
      "metadata": {
        "colab": {
          "base_uri": "https://localhost:8080/"
        },
        "id": "YHG5UFf3Vzqo",
        "outputId": "467c5cb6-62ea-425a-ff44-c897efc69fad"
      },
      "outputs": [
        {
          "name": "stdout",
          "output_type": "stream",
          "text": [
            "Overwriting tutorial/spiders/quotes_spider.py\n"
          ]
        }
      ],
      "source": [
        "%%writefile tutorial/spiders/quotes_spider.py\n",
        "import scrapy\n",
        "\n",
        "class QuotesSpider(scrapy.Spider):\n",
        "    name = \"quotes\"\n",
        "    start_urls = ['http://quotes.toscrape.com']\n",
        "\n",
        "    def parse(self, response):\n",
        "        next_page = response.css('li.next a').get()\n",
        "        print(next_page)"
      ]
    },
    {
      "cell_type": "code",
      "execution_count": 72,
      "metadata": {},
      "outputs": [
        {
          "name": "stdout",
          "output_type": "stream",
          "text": [
            "<a href=\"/page/2/\">Next <span aria-hidden=\"true\">→</span></a>\n"
          ]
        }
      ],
      "source": [
        "!scrapy crawl quotes -L ERROR"
      ]
    },
    {
      "cell_type": "markdown",
      "metadata": {},
      "source": [
        "Now, that we have the `<a>` element, we want its `href` attribute value.\n",
        "\n",
        "Just like we used `::text` to select text, we can use `::attr(href)` to grab an attribute (href in particular):"
      ]
    },
    {
      "cell_type": "code",
      "execution_count": 73,
      "metadata": {},
      "outputs": [
        {
          "name": "stdout",
          "output_type": "stream",
          "text": [
            "Overwriting tutorial/spiders/quotes_spider.py\n"
          ]
        }
      ],
      "source": [
        "%%writefile tutorial/spiders/quotes_spider.py\n",
        "import scrapy\n",
        "\n",
        "class QuotesSpider(scrapy.Spider):\n",
        "    name = \"quotes\"\n",
        "    start_urls = ['http://quotes.toscrape.com']\n",
        "\n",
        "    def parse(self, response):\n",
        "        next_page = response.css('li.next a::attr(href)').get()\n",
        "        print(next_page)"
      ]
    },
    {
      "cell_type": "code",
      "execution_count": 74,
      "metadata": {
        "colab": {
          "base_uri": "https://localhost:8080/"
        },
        "id": "5iuq2CiCWe9P",
        "outputId": "49524d1b-775f-470e-d80b-905feca3b9ce"
      },
      "outputs": [
        {
          "name": "stdout",
          "output_type": "stream",
          "text": [
            "/page/2/\n"
          ]
        }
      ],
      "source": [
        "!scrapy crawl quotes -L ERROR"
      ]
    },
    {
      "cell_type": "markdown",
      "metadata": {},
      "source": [
        "Now all we have to do is tell Scrapy to follow this link.\n",
        "\n",
        "We always do this with the same exact block of code, shown below.\n",
        "\n",
        "Note that every time `yield response.follow(url, self.parse)` is called, `parse` is called again on the new page. That is, your scraping code (e.g., `response.css('li.next a::attr(href)').get()`) will be called again on each new page that is found."
      ]
    },
    {
      "cell_type": "code",
      "execution_count": 75,
      "metadata": {
        "colab": {
          "base_uri": "https://localhost:8080/"
        },
        "id": "X4BTABtAXA18",
        "outputId": "8e251f18-e710-4a9c-9927-1103422a1918"
      },
      "outputs": [
        {
          "name": "stdout",
          "output_type": "stream",
          "text": [
            "Overwriting tutorial/spiders/quotes_spider.py\n"
          ]
        }
      ],
      "source": [
        "%%writefile tutorial/spiders/quotes_spider.py\n",
        "import scrapy\n",
        "\n",
        "class QuotesSpider(scrapy.Spider):\n",
        "    name = \"quotes\"\n",
        "    start_urls = ['http://quotes.toscrape.com']\n",
        "\n",
        "    def parse(self, response):\n",
        "\n",
        "        url = response.css('li.next a::attr(href)').get()\n",
        "        print(url)\n",
        "\n",
        "        if url is not None:\n",
        "            yield response.follow(url, self.parse)"
      ]
    },
    {
      "cell_type": "code",
      "execution_count": 76,
      "metadata": {
        "colab": {
          "base_uri": "https://localhost:8080/"
        },
        "id": "GLs7fWkVX3pg",
        "outputId": "db714867-7429-4aab-b572-4509151b48be"
      },
      "outputs": [
        {
          "name": "stdout",
          "output_type": "stream",
          "text": [
            "/page/2/\n",
            "/page/3/\n",
            "/page/4/\n",
            "/page/5/\n",
            "/page/6/\n",
            "/page/7/\n",
            "/page/8/\n",
            "/page/9/\n",
            "/page/10/\n",
            "None\n"
          ]
        }
      ],
      "source": [
        "!scrapy crawl quotes -L ERROR"
      ]
    },
    {
      "cell_type": "markdown",
      "metadata": {},
      "source": [
        "You can see that Scrapy crawled through 9 additional \"next\" pages until there were no more.\n",
        "\n",
        "`next_page is not None:` is a stopping condition for when no more next links are found.\n",
        "\n",
        "To scrape say just the first quote from each page, we can use:"
      ]
    },
    {
      "cell_type": "code",
      "execution_count": 77,
      "metadata": {
        "colab": {
          "base_uri": "https://localhost:8080/"
        },
        "id": "Xv1Je3HtX5z7",
        "outputId": "9d67fc8a-7be4-48bc-fcf9-4db8bcb9d2d5"
      },
      "outputs": [
        {
          "name": "stdout",
          "output_type": "stream",
          "text": [
            "Overwriting tutorial/spiders/quotes_spider.py\n"
          ]
        }
      ],
      "source": [
        "%%writefile tutorial/spiders/quotes_spider.py\n",
        "import scrapy\n",
        "\n",
        "class QuotesSpider(scrapy.Spider):\n",
        "    name = \"quotes\"\n",
        "    start_urls = ['http://quotes.toscrape.com']\n",
        "\n",
        "    def parse(self, response):\n",
        "\n",
        "        # scrape something on the current page\n",
        "        quote_text = response.css('span.text::text').get() # FILL ME IN!\n",
        "        print(quote_text)\n",
        "\n",
        "        # go to next page\n",
        "        url = response.css('li.next a::attr(href)').get() # FILL ME IN!\n",
        "        if url is not None:\n",
        "            yield response.follow(url, self.parse)"
      ]
    },
    {
      "cell_type": "code",
      "execution_count": 78,
      "metadata": {
        "colab": {
          "base_uri": "https://localhost:8080/"
        },
        "id": "70ZOrCnsZY2e",
        "outputId": "68fa529c-6e80-40de-8bf5-4e0a1576d02e"
      },
      "outputs": [
        {
          "name": "stdout",
          "output_type": "stream",
          "text": [
            "“The world as we have created it is a process of our thinking. It cannot be changed without changing our thinking.”\n",
            "“This life is what you make it. No matter what, you're going to mess up sometimes, it's a universal truth. But the good part is you get to decide how you're going to mess it up. Girls will be your friends - they'll act like it anyway. But just remember, some come, some go. The ones that stay with you through everything - they're your true best friends. Don't let go of them. Also remember, sisters make the best friends in the world. As for lovers, well, they'll come and go too. And baby, I hate to say it, most of them - actually pretty much all of them are going to break your heart, but you can't give up because if you give up, you'll never find your soulmate. You'll never find that half who makes you whole and that goes for everything. Just because you fail once, doesn't mean you're gonna fail at everything. Keep trying, hold on, and always, always, always believe in yourself, because if you don't, then who will, sweetie? So keep your head high, keep your chin up, and most importantly, keep smiling, because life's a beautiful thing and there's so much to smile about.”\n",
            "“I love you without knowing how, or when, or from where. I love you simply, without problems or pride: I love you in this way because I do not know any other way of loving but this, in which there is no I or you, so intimate that your hand upon my chest is my hand, so intimate that when I fall asleep your eyes close.”\n",
            "“The more that you read, the more things you will know. The more that you learn, the more places you'll go.”\n",
            "“A reader lives a thousand lives before he dies, said Jojen. The man who never reads lives only one.”\n",
            "“There is nothing I would not do for those who are really my friends. I have no notion of loving people by halves, it is not my nature.”\n",
            "“That's the problem with drinking, I thought, as I poured myself a drink. If something bad happens you drink in an attempt to forget; if something good happens you drink in order to celebrate; and if nothing happens you drink to make something happen.”\n",
            "“If I had a flower for every time I thought of you...I could walk through my garden forever.”\n",
            "“Anyone who has never made a mistake has never tried anything new.”\n",
            "“The truth.\" Dumbledore sighed. \"It is a beautiful and terrible thing, and should therefore be treated with great caution.”\n"
          ]
        }
      ],
      "source": [
        "!scrapy crawl quotes -L ERROR"
      ]
    },
    {
      "cell_type": "markdown",
      "metadata": {},
      "source": [
        "## Additional Exercises\n",
        "\n",
        "Below are some additional exercises. If you run out of time, use them as practice questions for later studying."
      ]
    },
    {
      "cell_type": "markdown",
      "metadata": {},
      "source": [
        "**Exercise 1:**\n",
        "\n",
        "Write your own spider in the below cell that prints out the sets of tags (e.g., 'inspirational', 'life') associated with each quote (quote div element).\n",
        "\n",
        "Your output should look like this:\n",
        "\n",
        "```python\n",
        "['change', 'deep-thoughts', 'thinking', 'world']\n",
        "['abilities', 'choices']\n",
        "['inspirational', 'life', 'live', 'miracle', 'miracles']\n",
        "['aliteracy', 'books', 'classic', 'humor']\n",
        "['be-yourself', 'inspirational']\n",
        "['adulthood', 'success', 'value']\n",
        "['life', 'love']\n",
        "['edison', 'failure', 'inspirational', 'paraphrased']\n",
        "['misattributed-eleanor-roosevelt']\n",
        "['humor', 'obvious', 'simile']\n",
        "```"
      ]
    },
    {
      "cell_type": "code",
      "execution_count": 81,
      "metadata": {},
      "outputs": [
        {
          "name": "stdout",
          "output_type": "stream",
          "text": [
            "Overwriting tutorial/spiders/quotes_spider.py\n"
          ]
        }
      ],
      "source": [
        "%%writefile tutorial/spiders/quotes_spider.py\n",
        "import scrapy\n",
        "\n",
        "class QuotesSpider(scrapy.Spider):\n",
        "    name = \"quotes\"\n",
        "    start_urls = ['http://quotes.toscrape.com']\n",
        "\n",
        "    def parse(self, response):\n",
        "\n",
        "        for quote in response.css('div.quote'):\n",
        "            tag = quote.css('a.tag::text').getall()\n",
        "            print(tag)"
      ]
    },
    {
      "cell_type": "code",
      "execution_count": 82,
      "metadata": {},
      "outputs": [
        {
          "name": "stdout",
          "output_type": "stream",
          "text": [
            "['change', 'deep-thoughts', 'thinking', 'world']\n",
            "['abilities', 'choices']\n",
            "['inspirational', 'life', 'live', 'miracle', 'miracles']\n",
            "['aliteracy', 'books', 'classic', 'humor']\n",
            "['be-yourself', 'inspirational']\n",
            "['adulthood', 'success', 'value']\n",
            "['life', 'love']\n",
            "['edison', 'failure', 'inspirational', 'paraphrased']\n",
            "['misattributed-eleanor-roosevelt']\n",
            "['humor', 'obvious', 'simile']\n"
          ]
        }
      ],
      "source": [
        "!scrapy crawl quotes -L ERROR"
      ]
    },
    {
      "cell_type": "markdown",
      "metadata": {},
      "source": [
        "**Exercise 2:**\n",
        "\n",
        "Write a spider that:\n",
        "1. goes through each quote div on all 10 pages,\n",
        "2. extracts the quote text, author, and tags for each, and\n",
        "3. outputs the results to quotes.csv.\n",
        "\n",
        "Then, load and visualize the data (table) with pandas as we did earlier.\n",
        "\n",
        "Your output should look some like this:\n",
        "\n",
        "```python\n",
        "{'text': '“The world as we...”',   'author': 'Albert Einstein', 'tags': ['change', 'deep-thoughts']}\n",
        "{'text': '“It is our choices...”', 'author': 'J.K. Rowling',    'tags': ['abilities', 'choices']}\n",
        "{'text': '“There are only two..”', 'author': 'Albert Einstein', 'tags': ['inspirational', 'life']}\n",
        "...\n",
        "```"
      ]
    },
    {
      "cell_type": "code",
      "execution_count": 95,
      "metadata": {},
      "outputs": [
        {
          "name": "stdout",
          "output_type": "stream",
          "text": [
            "Overwriting tutorial/spiders/quotes_spider.py\n"
          ]
        }
      ],
      "source": [
        "%%writefile tutorial/spiders/quotes_spider.py\n",
        "import scrapy\n",
        "\n",
        "class QuotesSpider(scrapy.Spider):\n",
        "    name = \"quotes\"\n",
        "    start_urls = ['http://quotes.toscrape.com']\n",
        "\n",
        "    def parse(self, response):\n",
        "\n",
        "        for quote in response.css('div.quote'): # FILL ME IN!\n",
        "            scraped = {\n",
        "                'author': quote.css('small.author::text').get(),\n",
        "                'quote': quote.css('span.text::text').get()[1:-1],\n",
        "                'tags': quote.css('a.tag::text').getall()\n",
        "            }\n",
        "            print(scraped)\n",
        "            yield scraped"
      ]
    },
    {
      "cell_type": "code",
      "execution_count": 96,
      "metadata": {},
      "outputs": [
        {
          "name": "stdout",
          "output_type": "stream",
          "text": [
            "{'author': 'Albert Einstein', 'quote': 'The world as we have created it is a process of our thinking. It cannot be changed without changing our thinking.', 'tags': ['change', 'deep-thoughts', 'thinking', 'world']}\n",
            "{'author': 'J.K. Rowling', 'quote': 'It is our choices, Harry, that show what we truly are, far more than our abilities.', 'tags': ['abilities', 'choices']}\n",
            "{'author': 'Albert Einstein', 'quote': 'There are only two ways to live your life. One is as though nothing is a miracle. The other is as though everything is a miracle.', 'tags': ['inspirational', 'life', 'live', 'miracle', 'miracles']}\n",
            "{'author': 'Jane Austen', 'quote': 'The person, be it gentleman or lady, who has not pleasure in a good novel, must be intolerably stupid.', 'tags': ['aliteracy', 'books', 'classic', 'humor']}\n",
            "{'author': 'Marilyn Monroe', 'quote': \"Imperfection is beauty, madness is genius and it's better to be absolutely ridiculous than absolutely boring.\", 'tags': ['be-yourself', 'inspirational']}\n",
            "{'author': 'Albert Einstein', 'quote': 'Try not to become a man of success. Rather become a man of value.', 'tags': ['adulthood', 'success', 'value']}\n",
            "{'author': 'André Gide', 'quote': 'It is better to be hated for what you are than to be loved for what you are not.', 'tags': ['life', 'love']}\n",
            "{'author': 'Thomas A. Edison', 'quote': \"I have not failed. I've just found 10,000 ways that won't work.\", 'tags': ['edison', 'failure', 'inspirational', 'paraphrased']}\n",
            "{'author': 'Eleanor Roosevelt', 'quote': \"A woman is like a tea bag; you never know how strong it is until it's in hot water.\", 'tags': ['misattributed-eleanor-roosevelt']}\n",
            "{'author': 'Steve Martin', 'quote': 'A day without sunshine is like, you know, night.', 'tags': ['humor', 'obvious', 'simile']}\n"
          ]
        },
        {
          "data": {
            "text/html": [
              "<div>\n",
              "<style scoped>\n",
              "    .dataframe tbody tr th:only-of-type {\n",
              "        vertical-align: middle;\n",
              "    }\n",
              "\n",
              "    .dataframe tbody tr th {\n",
              "        vertical-align: top;\n",
              "    }\n",
              "\n",
              "    .dataframe thead th {\n",
              "        text-align: right;\n",
              "    }\n",
              "</style>\n",
              "<table border=\"1\" class=\"dataframe\">\n",
              "  <thead>\n",
              "    <tr style=\"text-align: right;\">\n",
              "      <th></th>\n",
              "      <th>author</th>\n",
              "      <th>quote</th>\n",
              "      <th>tags</th>\n",
              "    </tr>\n",
              "  </thead>\n",
              "  <tbody>\n",
              "    <tr>\n",
              "      <th>0</th>\n",
              "      <td>Albert Einstein</td>\n",
              "      <td>The world as we have created it is a process o...</td>\n",
              "      <td>change,deep-thoughts,thinking,world</td>\n",
              "    </tr>\n",
              "    <tr>\n",
              "      <th>1</th>\n",
              "      <td>J.K. Rowling</td>\n",
              "      <td>It is our choices, Harry, that show what we tr...</td>\n",
              "      <td>abilities,choices</td>\n",
              "    </tr>\n",
              "    <tr>\n",
              "      <th>2</th>\n",
              "      <td>Albert Einstein</td>\n",
              "      <td>There are only two ways to live your life. One...</td>\n",
              "      <td>inspirational,life,live,miracle,miracles</td>\n",
              "    </tr>\n",
              "    <tr>\n",
              "      <th>3</th>\n",
              "      <td>Jane Austen</td>\n",
              "      <td>The person, be it gentleman or lady, who has n...</td>\n",
              "      <td>aliteracy,books,classic,humor</td>\n",
              "    </tr>\n",
              "    <tr>\n",
              "      <th>4</th>\n",
              "      <td>Marilyn Monroe</td>\n",
              "      <td>Imperfection is beauty, madness is genius and ...</td>\n",
              "      <td>be-yourself,inspirational</td>\n",
              "    </tr>\n",
              "    <tr>\n",
              "      <th>5</th>\n",
              "      <td>Albert Einstein</td>\n",
              "      <td>Try not to become a man of success. Rather bec...</td>\n",
              "      <td>adulthood,success,value</td>\n",
              "    </tr>\n",
              "    <tr>\n",
              "      <th>6</th>\n",
              "      <td>André Gide</td>\n",
              "      <td>It is better to be hated for what you are than...</td>\n",
              "      <td>life,love</td>\n",
              "    </tr>\n",
              "    <tr>\n",
              "      <th>7</th>\n",
              "      <td>Thomas A. Edison</td>\n",
              "      <td>I have not failed. I've just found 10,000 ways...</td>\n",
              "      <td>edison,failure,inspirational,paraphrased</td>\n",
              "    </tr>\n",
              "    <tr>\n",
              "      <th>8</th>\n",
              "      <td>Eleanor Roosevelt</td>\n",
              "      <td>A woman is like a tea bag; you never know how ...</td>\n",
              "      <td>misattributed-eleanor-roosevelt</td>\n",
              "    </tr>\n",
              "    <tr>\n",
              "      <th>9</th>\n",
              "      <td>Steve Martin</td>\n",
              "      <td>A day without sunshine is like, you know, night.</td>\n",
              "      <td>humor,obvious,simile</td>\n",
              "    </tr>\n",
              "  </tbody>\n",
              "</table>\n",
              "</div>"
            ],
            "text/plain": [
              "              author                                              quote  \\\n",
              "0    Albert Einstein  The world as we have created it is a process o...   \n",
              "1       J.K. Rowling  It is our choices, Harry, that show what we tr...   \n",
              "2    Albert Einstein  There are only two ways to live your life. One...   \n",
              "3        Jane Austen  The person, be it gentleman or lady, who has n...   \n",
              "4     Marilyn Monroe  Imperfection is beauty, madness is genius and ...   \n",
              "5    Albert Einstein  Try not to become a man of success. Rather bec...   \n",
              "6         André Gide  It is better to be hated for what you are than...   \n",
              "7   Thomas A. Edison  I have not failed. I've just found 10,000 ways...   \n",
              "8  Eleanor Roosevelt  A woman is like a tea bag; you never know how ...   \n",
              "9       Steve Martin   A day without sunshine is like, you know, night.   \n",
              "\n",
              "                                       tags  \n",
              "0       change,deep-thoughts,thinking,world  \n",
              "1                         abilities,choices  \n",
              "2  inspirational,life,live,miracle,miracles  \n",
              "3             aliteracy,books,classic,humor  \n",
              "4                 be-yourself,inspirational  \n",
              "5                   adulthood,success,value  \n",
              "6                                 life,love  \n",
              "7  edison,failure,inspirational,paraphrased  \n",
              "8           misattributed-eleanor-roosevelt  \n",
              "9                      humor,obvious,simile  "
            ]
          },
          "execution_count": 96,
          "metadata": {},
          "output_type": "execute_result"
        }
      ],
      "source": [
        "# run your spider HERE\n",
        "!scrapy crawl quotes -L ERROR -O quotes.csv\n",
        "pd.read_csv('quotes.csv')"
      ]
    },
    {
      "cell_type": "markdown",
      "metadata": {},
      "source": [
        "**Exercise 3:**\n",
        "\n",
        "Rather than moving through pages by following links, you can alternatively provide a list of pages for Scrapy to scrape.\n",
        "\n",
        "Recall that we originally supplied the starting page to Scrapy:\n",
        "\n",
        "```python\n",
        "start_urls = ['http://quotes.toscrape.com']\n",
        "```\n",
        "\n",
        "You can use this same list to manually supply as many pages to scrape as you want. Scrapy will automatically apply the parse function to all web pages in this list.\n",
        "\n",
        "```python\n",
        "start_urls = [\n",
        "    \"https://quotes.toscrape.com/page/1/\",\n",
        "    \"https://quotes.toscrape.com/page/2/\",\n",
        "]\n",
        "```\n",
        "\n",
        "Write a spider that uses this method to extract only the first author from all 10 pages.\n",
        "\n",
        "Note that the results will be out of order since Scrapy scrapes pages this way in parallel rather than one by one, e.g.:\n",
        "\n",
        "```\n",
        "Albert Einstein\n",
        "Alfred Tennyson\n",
        "Jane Austen\n",
        "Pablo Neruda\n",
        "Dr. Seuss\n",
        "George R.R. Martin\n",
        "Charles Bukowski\n",
        "Albert Einstein\n",
        "Marilyn Monroe\n",
        "J.K. Rowling\n",
        "```"
      ]
    },
    {
      "cell_type": "code",
      "execution_count": 115,
      "metadata": {},
      "outputs": [
        {
          "name": "stdout",
          "output_type": "stream",
          "text": [
            "Overwriting tutorial/spiders/quotes_spider.py\n"
          ]
        }
      ],
      "source": [
        "%%writefile tutorial/spiders/quotes_spider.py\n",
        "import scrapy\n",
        "\n",
        "class QuotesSpider(scrapy.Spider):\n",
        "    name = \"quotes\"\n",
        "    start_urls = ['http://quotes.toscrape.com/page/1/',\n",
        "                  'http://quotes.toscrape.com/page/2/',\n",
        "                  'http://quotes.toscrape.com/page/3/',\n",
        "                  'http://quotes.toscrape.com/page/4/',\n",
        "                  'http://quotes.toscrape.com/page/5/',\n",
        "                  'http://quotes.toscrape.com/page/6/',\n",
        "                  'http://quotes.toscrape.com/page/7/',\n",
        "                  'http://quotes.toscrape.com/page/8/',\n",
        "                  'http://quotes.toscrape.com/page/9/',\n",
        "                  'http://quotes.toscrape.com/page/10/']\n",
        "\n",
        "    def parse(self, response):\n",
        "\n",
        "        author = response.css('small.author::text').get() # FILL ME IN!\n",
        "        print(author)"
      ]
    },
    {
      "cell_type": "code",
      "execution_count": 116,
      "metadata": {},
      "outputs": [
        {
          "name": "stdout",
          "output_type": "stream",
          "text": [
            "Albert Einstein\n",
            "George R.R. Martin\n",
            "Jane Austen\n",
            "Dr. Seuss\n",
            "Pablo Neruda\n",
            "Marilyn Monroe\n",
            "Charles Bukowski\n",
            "Albert Einstein\n",
            "J.K. Rowling\n",
            "Alfred Tennyson\n"
          ]
        }
      ],
      "source": [
        "!scrapy crawl quotes -L ERROR"
      ]
    }
  ],
  "metadata": {
    "colab": {
      "provenance": []
    },
    "kernelspec": {
      "display_name": ".venv",
      "language": "python",
      "name": "python3"
    },
    "language_info": {
      "codemirror_mode": {
        "name": "ipython",
        "version": 3
      },
      "file_extension": ".py",
      "mimetype": "text/x-python",
      "name": "python",
      "nbconvert_exporter": "python",
      "pygments_lexer": "ipython3",
      "version": "3.9.19"
    }
  },
  "nbformat": 4,
  "nbformat_minor": 0
}
