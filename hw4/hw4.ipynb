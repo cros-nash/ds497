{
 "cells": [
  {
   "cell_type": "markdown",
   "metadata": {},
   "source": [
    "# Homework 4: Statistics Exercise"
   ]
  },
  {
   "cell_type": "code",
   "execution_count": null,
   "metadata": {},
   "outputs": [],
   "source": [
    "# You must run this cell before starting your assignment\n",
    "\n",
    "!pip install -q otter-grader\n",
    "\n",
    "import otter\n",
    "grader = otter.Notebook(\"hw4.ipynb\")\n",
    "\n",
    "import numpy as np\n",
    "import pandas as pd\n",
    "\n",
    "from scipy.stats import spearmanr"
   ]
  },
  {
   "cell_type": "markdown",
   "metadata": {},
   "source": [
    "We previously reviewed Shepard and Metzler's (1971) mental rotation data. The same data is loaded again below."
   ]
  },
  {
   "cell_type": "code",
   "execution_count": null,
   "metadata": {},
   "outputs": [],
   "source": [
    "rotations = pd.DataFrame({\n",
    "    'angle': [0, 20, 40, 60, 80, 100, 120, 140, 160, 180],\n",
    "    'rt': [1023, 1167, 1382, 1578, 1842, 1976, 2198, 2445, 2583, 2791]\n",
    "})\n",
    "rotations"
   ]
  },
  {
   "cell_type": "markdown",
   "metadata": {
    "deletable": false,
    "editable": false
   },
   "source": [
    "**Problem 1**: Run a permutation test to assess the potential linear relationship between the variables in this data.\n",
    "\n",
    "Additional specifications:\n",
    "- The observed test statistic for the above data should be a float called `shep_observed`.\n",
    "- Compute correlation using numpy: `np.corrcoef(x, y)[0, 1]`.\n",
    "- Manipulate only the `rt` column, not the `angle` column.\n",
    "- Remember to use `df = df.copy()` where applicable.\n",
    "- Run exactly 10,000 simulations and store the results in a numpy array called `shep_null`.\n",
    "- Store the p-value in a float called `shep_p`."
   ]
  },
  {
   "cell_type": "code",
   "execution_count": null,
   "metadata": {
    "tags": [
     "otter_answer_cell"
    ]
   },
   "outputs": [],
   "source": [
    "np.random.seed(0) # DO NOT change this line\n",
    "\n",
    "# Your code goes here\n"
   ]
  },
  {
   "cell_type": "code",
   "execution_count": null,
   "metadata": {
    "deletable": false,
    "editable": false
   },
   "outputs": [],
   "source": [
    "grader.check(\"q1\")"
   ]
  },
  {
   "cell_type": "markdown",
   "metadata": {},
   "source": [
    "We previously reviewed Hick's (1952) choice data. The same data is loaded again below."
   ]
  },
  {
   "cell_type": "code",
   "execution_count": null,
   "metadata": {},
   "outputs": [],
   "source": [
    "np.random.seed(1)\n",
    "base_rts = {1: 180, 2: 250, 3: 290, 4: 310, 5: 325, 6: 335, 7: 345, 8: 350, 9: 355, 10: 360}\n",
    "hick_data = {'n_alternatives': [], 'rt': []}\n",
    "for n, base_rt in base_rts.items():\n",
    "    hick_data['n_alternatives'].append(n)\n",
    "    noise = np.random.normal(0, base_rt * 0.01)\n",
    "    rt = max(base_rt + noise, 150)\n",
    "    hick_data['rt'].append(round(rt, 1))\n",
    "choices = pd.DataFrame(hick_data)\n",
    "choices"
   ]
  },
  {
   "cell_type": "markdown",
   "metadata": {
    "deletable": false,
    "editable": false
   },
   "source": [
    "**Problem 2**: Run a permutation test to assess the potential nonlinear (monotonic) relationship between the variables in Hick's data.\n",
    "\n",
    "Additional specifications:\n",
    "- The observed test statistic for the above data should be a float called `hick_observed`.\n",
    "- Compute Spearman's rho using: `spearmanr(x, y)[0]`.\n",
    "- Manipulate only the `rt` column, not the `n_alternatives` column.\n",
    "- Run exactly 10,000 simulations and store the results in a numpy array called `hick_null`.\n",
    "- Store the p-value in a float called `hick_p`."
   ]
  },
  {
   "cell_type": "code",
   "execution_count": null,
   "metadata": {
    "tags": [
     "otter_answer_cell"
    ]
   },
   "outputs": [],
   "source": [
    "np.random.seed(0) # DO NOT change this line\n",
    "\n",
    "# Your code goes here\n"
   ]
  },
  {
   "cell_type": "code",
   "execution_count": null,
   "metadata": {
    "deletable": false,
    "editable": false
   },
   "outputs": [],
   "source": [
    "grader.check(\"q2\")"
   ]
  },
  {
   "cell_type": "markdown",
   "metadata": {},
   "source": [
    "We previously reviewed Craik and Tulving's (1975) memory retention data. \n",
    "\n",
    "Below, we load data from a **within-subjects** version of this experiment wherein each participant is exposed to stimuli from both processing conditions. Each row is one participant, and each column is one of two conditions."
   ]
  },
  {
   "cell_type": "code",
   "execution_count": null,
   "metadata": {},
   "outputs": [],
   "source": [
    "mem = pd.DataFrame({\n",
    "    'deep':    [12, 9, 11, 9, 13, 10, 9, 11, 10, 12],\n",
    "    'shallow': [9,  8, 10, 11, 7, 11, 9, 10, 10, 8]\n",
    "})\n",
    "mem"
   ]
  },
  {
   "cell_type": "markdown",
   "metadata": {
    "deletable": false,
    "editable": false
   },
   "source": [
    "**Problem 3**: Run a permutation test to assess the potential relationship between the variables in the above data.\n",
    "\n",
    "**NOTE:** Because we are working with a within-subjects form of this data now, we can't apply the same exact permutation test procedure that we used previously for the between-groups version of the data. In within-subjects designs, observations are said to be \"paired\": each subject has two measurements for each of two conditions. These observations are also said to be \"dependent\" because they both \"depend\" on the same person. We can still break any systematic relationship between condition labels and measurements using shuffling, but we have to do it **within** each participant. That is, we maintain the relationship between individuals and measurements, but remove the relationship between measurements and conditions. To accomplish this, we can \"flip a coin\" for each participant in the data. If heads, we swap their scores for their deep/shallow conditions. If tails, we leave them unchanged. One way to flip a coin in Python is to run `np.random.random() < 0.5` and check if the resulting bool is `True` or `False`.\n",
    "\n",
    "Additional specifications:\n",
    "- The observed test statistic for the above data should be a float called `mem_observed`.\n",
    "- To swap values in Python, either assign simultaneously, e.g., `a, b = b, a` OR use a temporary third variable.\n",
    "- Make sure to use `df = df.copy()` where applicable.\n",
    "- Run exactly 10,000 simulations and store the results in a numpy array called `mem_null`.\n",
    "- Store the p-value in a float called `mem_p`."
   ]
  },
  {
   "cell_type": "code",
   "execution_count": null,
   "metadata": {
    "tags": [
     "otter_answer_cell"
    ]
   },
   "outputs": [],
   "source": [
    "np.random.seed(0) # DO NOT change this line\n",
    "\n",
    "# Your code goes here\n"
   ]
  },
  {
   "cell_type": "code",
   "execution_count": null,
   "metadata": {
    "deletable": false,
    "editable": false
   },
   "outputs": [],
   "source": [
    "grader.check(\"q3\")"
   ]
  },
  {
   "cell_type": "markdown",
   "metadata": {},
   "source": [
    "Note that for parametric within-subjects tests, one can import and make use of `ttest_rel` from `scipy.stats` to perform tests with a single line of code. Such tests go by multiple names: \"repeated-measures t-test\", \"paired-samples t-test\", or \"dependent-samples t-test\"."
   ]
  }
 ],
 "metadata": {
  "kernelspec": {
   "display_name": "Python 3",
   "language": "python",
   "name": "python3"
  },
  "language_info": {
   "codemirror_mode": {
    "name": "ipython",
    "version": 3
   },
   "file_extension": ".py",
   "mimetype": "text/x-python",
   "name": "python",
   "nbconvert_exporter": "python",
   "pygments_lexer": "ipython3",
   "version": "3.12.1"
  },
  "otter": {
   "OK_FORMAT": true,
   "tests": {
    "q1": {
     "name": "q1",
     "points": [
      0.0
     ],
     "suites": [
      {
       "cases": [
        {
         "code": ">>> shep_observed > 0.5 and len(shep_null) == 10000 and (shep_p < 0.99)\nnp.True_",
         "hidden": false,
         "locked": false
        }
       ],
       "scored": true,
       "setup": "",
       "teardown": "",
       "type": "doctest"
      }
     ]
    },
    "q2": {
     "name": "q2",
     "points": [
      0.0
     ],
     "suites": [
      {
       "cases": [
        {
         "code": ">>> hick_observed > 0.5 and len(hick_null) == 10000 and (hick_p < 0.99)\nnp.True_",
         "hidden": false,
         "locked": false
        }
       ],
       "scored": true,
       "setup": "",
       "teardown": "",
       "type": "doctest"
      }
     ]
    },
    "q3": {
     "name": "q3",
     "points": [
      0.0
     ],
     "suites": [
      {
       "cases": [
        {
         "code": ">>> mem_observed > 0.1 and len(mem_null) == 10000 and (mem_p < 0.99)\nnp.True_",
         "hidden": false,
         "locked": false
        }
       ],
       "scored": true,
       "setup": "",
       "teardown": "",
       "type": "doctest"
      }
     ]
    }
   }
  }
 },
 "nbformat": 4,
 "nbformat_minor": 2
}
