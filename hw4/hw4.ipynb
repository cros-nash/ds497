{
 "cells": [
  {
   "cell_type": "markdown",
   "metadata": {},
   "source": [
    "# Homework 4: Statistics Exercise"
   ]
  },
  {
   "cell_type": "code",
   "execution_count": 6,
   "metadata": {},
   "outputs": [],
   "source": [
    "# You must run this cell before starting your assignment\n",
    "\n",
    "!pip install -q otter-grader\n",
    "\n",
    "import otter\n",
    "grader = otter.Notebook(\"hw4.ipynb\")\n",
    "\n",
    "import numpy as np\n",
    "import pandas as pd\n",
    "\n",
    "from scipy.stats import spearmanr"
   ]
  },
  {
   "cell_type": "markdown",
   "metadata": {},
   "source": [
    "We previously reviewed Shepard and Metzler's (1971) mental rotation data. The same data is loaded again below."
   ]
  },
  {
   "cell_type": "code",
   "execution_count": 7,
   "metadata": {},
   "outputs": [
    {
     "data": {
      "text/html": [
       "<div>\n",
       "<style scoped>\n",
       "    .dataframe tbody tr th:only-of-type {\n",
       "        vertical-align: middle;\n",
       "    }\n",
       "\n",
       "    .dataframe tbody tr th {\n",
       "        vertical-align: top;\n",
       "    }\n",
       "\n",
       "    .dataframe thead th {\n",
       "        text-align: right;\n",
       "    }\n",
       "</style>\n",
       "<table border=\"1\" class=\"dataframe\">\n",
       "  <thead>\n",
       "    <tr style=\"text-align: right;\">\n",
       "      <th></th>\n",
       "      <th>angle</th>\n",
       "      <th>rt</th>\n",
       "    </tr>\n",
       "  </thead>\n",
       "  <tbody>\n",
       "    <tr>\n",
       "      <th>0</th>\n",
       "      <td>0</td>\n",
       "      <td>1023</td>\n",
       "    </tr>\n",
       "    <tr>\n",
       "      <th>1</th>\n",
       "      <td>20</td>\n",
       "      <td>1167</td>\n",
       "    </tr>\n",
       "    <tr>\n",
       "      <th>2</th>\n",
       "      <td>40</td>\n",
       "      <td>1382</td>\n",
       "    </tr>\n",
       "    <tr>\n",
       "      <th>3</th>\n",
       "      <td>60</td>\n",
       "      <td>1578</td>\n",
       "    </tr>\n",
       "    <tr>\n",
       "      <th>4</th>\n",
       "      <td>80</td>\n",
       "      <td>1842</td>\n",
       "    </tr>\n",
       "    <tr>\n",
       "      <th>5</th>\n",
       "      <td>100</td>\n",
       "      <td>1976</td>\n",
       "    </tr>\n",
       "    <tr>\n",
       "      <th>6</th>\n",
       "      <td>120</td>\n",
       "      <td>2198</td>\n",
       "    </tr>\n",
       "    <tr>\n",
       "      <th>7</th>\n",
       "      <td>140</td>\n",
       "      <td>2445</td>\n",
       "    </tr>\n",
       "    <tr>\n",
       "      <th>8</th>\n",
       "      <td>160</td>\n",
       "      <td>2583</td>\n",
       "    </tr>\n",
       "    <tr>\n",
       "      <th>9</th>\n",
       "      <td>180</td>\n",
       "      <td>2791</td>\n",
       "    </tr>\n",
       "  </tbody>\n",
       "</table>\n",
       "</div>"
      ],
      "text/plain": [
       "   angle    rt\n",
       "0      0  1023\n",
       "1     20  1167\n",
       "2     40  1382\n",
       "3     60  1578\n",
       "4     80  1842\n",
       "5    100  1976\n",
       "6    120  2198\n",
       "7    140  2445\n",
       "8    160  2583\n",
       "9    180  2791"
      ]
     },
     "execution_count": 7,
     "metadata": {},
     "output_type": "execute_result"
    }
   ],
   "source": [
    "rotations = pd.DataFrame({\n",
    "    'angle': [0, 20, 40, 60, 80, 100, 120, 140, 160, 180],\n",
    "    'rt': [1023, 1167, 1382, 1578, 1842, 1976, 2198, 2445, 2583, 2791]\n",
    "})\n",
    "rotations"
   ]
  },
  {
   "cell_type": "markdown",
   "metadata": {
    "deletable": false,
    "editable": false
   },
   "source": [
    "**Problem 1**: Run a permutation test to assess the potential linear relationship between the variables in this data.\n",
    "\n",
    "Additional specifications:\n",
    "- The observed test statistic for the above data should be a float called `shep_observed`.\n",
    "- Compute correlation using numpy: `np.corrcoef(x, y)[0, 1]`.\n",
    "- Manipulate only the `rt` column, not the `angle` column.\n",
    "- Remember to use `df = df.copy()` where applicable.\n",
    "- Run exactly 10,000 simulations and store the results in a numpy array called `shep_null`.\n",
    "- Store the p-value in a float called `shep_p`."
   ]
  },
  {
   "cell_type": "code",
   "execution_count": 8,
   "metadata": {
    "tags": [
     "otter_answer_cell"
    ]
   },
   "outputs": [],
   "source": [
    "np.random.seed(0) # DO NOT change this line\n",
    "\n",
    "# Your code goes here\n",
    "\n",
    "def one_permutation(df):\n",
    "    df_copy = df.copy()\n",
    "    df_copy['rt'] = df_copy['rt'].sample(frac=1).values\n",
    "    return df_copy\n",
    "\n",
    "def compute_p_value(test_stat: float, null_stats: np.array): \n",
    "    p_value = 0\n",
    "    for x in null_stats: \n",
    "        if x >= test_stat:\n",
    "            p_value += 1\n",
    "    \n",
    "    return p_value / len(null_stats)\n",
    "\n",
    "df = rotations.copy()\n",
    "shep_null = np.zeros(10000)\n",
    "shep_observed = np.corrcoef(df['angle'], df['rt'])[0, 1]\n",
    "\n",
    "for i in range(10000):\n",
    "    permu = one_permutation(rotations)\n",
    "    shep_null[i] = np.corrcoef(permu['angle'], permu['rt'])[0, 1]\n",
    "\n",
    "shep_p = np.float64(compute_p_value(shep_observed, shep_null))"
   ]
  },
  {
   "cell_type": "code",
   "execution_count": 9,
   "metadata": {
    "deletable": false,
    "editable": false
   },
   "outputs": [
    {
     "data": {
      "text/html": [
       "<p><strong><pre style='display: inline;'>q1</pre></strong> passed! ✨</p>"
      ],
      "text/plain": [
       "q1 results: All test cases passed!"
      ]
     },
     "execution_count": 9,
     "metadata": {},
     "output_type": "execute_result"
    }
   ],
   "source": [
    "grader.check(\"q1\")"
   ]
  },
  {
   "cell_type": "markdown",
   "metadata": {},
   "source": [
    "We previously reviewed Hick's (1952) choice data. The same data is loaded again below."
   ]
  },
  {
   "cell_type": "code",
   "execution_count": 10,
   "metadata": {},
   "outputs": [
    {
     "data": {
      "text/html": [
       "<div>\n",
       "<style scoped>\n",
       "    .dataframe tbody tr th:only-of-type {\n",
       "        vertical-align: middle;\n",
       "    }\n",
       "\n",
       "    .dataframe tbody tr th {\n",
       "        vertical-align: top;\n",
       "    }\n",
       "\n",
       "    .dataframe thead th {\n",
       "        text-align: right;\n",
       "    }\n",
       "</style>\n",
       "<table border=\"1\" class=\"dataframe\">\n",
       "  <thead>\n",
       "    <tr style=\"text-align: right;\">\n",
       "      <th></th>\n",
       "      <th>n_alternatives</th>\n",
       "      <th>rt</th>\n",
       "    </tr>\n",
       "  </thead>\n",
       "  <tbody>\n",
       "    <tr>\n",
       "      <th>0</th>\n",
       "      <td>1</td>\n",
       "      <td>182.9</td>\n",
       "    </tr>\n",
       "    <tr>\n",
       "      <th>1</th>\n",
       "      <td>2</td>\n",
       "      <td>248.5</td>\n",
       "    </tr>\n",
       "    <tr>\n",
       "      <th>2</th>\n",
       "      <td>3</td>\n",
       "      <td>288.5</td>\n",
       "    </tr>\n",
       "    <tr>\n",
       "      <th>3</th>\n",
       "      <td>4</td>\n",
       "      <td>306.7</td>\n",
       "    </tr>\n",
       "    <tr>\n",
       "      <th>4</th>\n",
       "      <td>5</td>\n",
       "      <td>327.8</td>\n",
       "    </tr>\n",
       "    <tr>\n",
       "      <th>5</th>\n",
       "      <td>6</td>\n",
       "      <td>327.3</td>\n",
       "    </tr>\n",
       "    <tr>\n",
       "      <th>6</th>\n",
       "      <td>7</td>\n",
       "      <td>351.0</td>\n",
       "    </tr>\n",
       "    <tr>\n",
       "      <th>7</th>\n",
       "      <td>8</td>\n",
       "      <td>347.3</td>\n",
       "    </tr>\n",
       "    <tr>\n",
       "      <th>8</th>\n",
       "      <td>9</td>\n",
       "      <td>356.1</td>\n",
       "    </tr>\n",
       "    <tr>\n",
       "      <th>9</th>\n",
       "      <td>10</td>\n",
       "      <td>359.1</td>\n",
       "    </tr>\n",
       "  </tbody>\n",
       "</table>\n",
       "</div>"
      ],
      "text/plain": [
       "   n_alternatives     rt\n",
       "0               1  182.9\n",
       "1               2  248.5\n",
       "2               3  288.5\n",
       "3               4  306.7\n",
       "4               5  327.8\n",
       "5               6  327.3\n",
       "6               7  351.0\n",
       "7               8  347.3\n",
       "8               9  356.1\n",
       "9              10  359.1"
      ]
     },
     "execution_count": 10,
     "metadata": {},
     "output_type": "execute_result"
    }
   ],
   "source": [
    "np.random.seed(1)\n",
    "base_rts = {1: 180, 2: 250, 3: 290, 4: 310, 5: 325, 6: 335, 7: 345, 8: 350, 9: 355, 10: 360}\n",
    "hick_data = {'n_alternatives': [], 'rt': []}\n",
    "for n, base_rt in base_rts.items():\n",
    "    hick_data['n_alternatives'].append(n)\n",
    "    noise = np.random.normal(0, base_rt * 0.01)\n",
    "    rt = max(base_rt + noise, 150)\n",
    "    hick_data['rt'].append(round(rt, 1))\n",
    "choices = pd.DataFrame(hick_data)\n",
    "choices"
   ]
  },
  {
   "cell_type": "markdown",
   "metadata": {
    "deletable": false,
    "editable": false
   },
   "source": [
    "**Problem 2**: Run a permutation test to assess the potential nonlinear (monotonic) relationship between the variables in Hick's data.\n",
    "\n",
    "Additional specifications:\n",
    "- The observed test statistic for the above data should be a float called `hick_observed`.\n",
    "- Compute Spearman's rho using: `spearmanr(x, y)[0]`.\n",
    "- Manipulate only the `rt` column, not the `n_alternatives` column.\n",
    "- Run exactly 10,000 simulations and store the results in a numpy array called `hick_null`.\n",
    "- Store the p-value in a float called `hick_p`."
   ]
  },
  {
   "cell_type": "code",
   "execution_count": null,
   "metadata": {
    "tags": [
     "otter_answer_cell"
    ]
   },
   "outputs": [],
   "source": [
    "np.random.seed(0) # DO NOT change this line\n",
    "from scipy.stats import spearmanr\n",
    "\n",
    "# Your code goes here\n",
    "df = choices.copy()\n",
    "hick_null = np.zeros(10000)\n",
    "hick_observed = spearmanr(df['n_alternatives'], df['rt'])[0]\n",
    "\n",
    "for i in range(10000):\n",
    "    permu = one_permutation(choices)\n",
    "    shep_null[i] = spearmanr(permu['n_alternatives'], permu['rt'])[0]\n",
    "\n",
    "hick_p = np.float64(compute_p_value(hick_observed, hick_null))"
   ]
  },
  {
   "cell_type": "code",
   "execution_count": 18,
   "metadata": {
    "deletable": false,
    "editable": false
   },
   "outputs": [
    {
     "data": {
      "text/html": [
       "<p><strong><pre style='display: inline;'>q2</pre></strong> passed! 🍀</p>"
      ],
      "text/plain": [
       "q2 results: All test cases passed!"
      ]
     },
     "execution_count": 18,
     "metadata": {},
     "output_type": "execute_result"
    }
   ],
   "source": [
    "grader.check(\"q2\")"
   ]
  },
  {
   "cell_type": "markdown",
   "metadata": {},
   "source": [
    "We previously reviewed Craik and Tulving's (1975) memory retention data. \n",
    "\n",
    "Below, we load data from a **within-subjects** version of this experiment wherein each participant is exposed to stimuli from both processing conditions. Each row is one participant, and each column is one of two conditions."
   ]
  },
  {
   "cell_type": "code",
   "execution_count": 13,
   "metadata": {},
   "outputs": [
    {
     "data": {
      "text/html": [
       "<div>\n",
       "<style scoped>\n",
       "    .dataframe tbody tr th:only-of-type {\n",
       "        vertical-align: middle;\n",
       "    }\n",
       "\n",
       "    .dataframe tbody tr th {\n",
       "        vertical-align: top;\n",
       "    }\n",
       "\n",
       "    .dataframe thead th {\n",
       "        text-align: right;\n",
       "    }\n",
       "</style>\n",
       "<table border=\"1\" class=\"dataframe\">\n",
       "  <thead>\n",
       "    <tr style=\"text-align: right;\">\n",
       "      <th></th>\n",
       "      <th>deep</th>\n",
       "      <th>shallow</th>\n",
       "    </tr>\n",
       "  </thead>\n",
       "  <tbody>\n",
       "    <tr>\n",
       "      <th>0</th>\n",
       "      <td>12</td>\n",
       "      <td>9</td>\n",
       "    </tr>\n",
       "    <tr>\n",
       "      <th>1</th>\n",
       "      <td>9</td>\n",
       "      <td>8</td>\n",
       "    </tr>\n",
       "    <tr>\n",
       "      <th>2</th>\n",
       "      <td>11</td>\n",
       "      <td>10</td>\n",
       "    </tr>\n",
       "    <tr>\n",
       "      <th>3</th>\n",
       "      <td>9</td>\n",
       "      <td>11</td>\n",
       "    </tr>\n",
       "    <tr>\n",
       "      <th>4</th>\n",
       "      <td>13</td>\n",
       "      <td>7</td>\n",
       "    </tr>\n",
       "    <tr>\n",
       "      <th>5</th>\n",
       "      <td>10</td>\n",
       "      <td>11</td>\n",
       "    </tr>\n",
       "    <tr>\n",
       "      <th>6</th>\n",
       "      <td>9</td>\n",
       "      <td>9</td>\n",
       "    </tr>\n",
       "    <tr>\n",
       "      <th>7</th>\n",
       "      <td>11</td>\n",
       "      <td>10</td>\n",
       "    </tr>\n",
       "    <tr>\n",
       "      <th>8</th>\n",
       "      <td>10</td>\n",
       "      <td>10</td>\n",
       "    </tr>\n",
       "    <tr>\n",
       "      <th>9</th>\n",
       "      <td>12</td>\n",
       "      <td>8</td>\n",
       "    </tr>\n",
       "  </tbody>\n",
       "</table>\n",
       "</div>"
      ],
      "text/plain": [
       "   deep  shallow\n",
       "0    12        9\n",
       "1     9        8\n",
       "2    11       10\n",
       "3     9       11\n",
       "4    13        7\n",
       "5    10       11\n",
       "6     9        9\n",
       "7    11       10\n",
       "8    10       10\n",
       "9    12        8"
      ]
     },
     "execution_count": 13,
     "metadata": {},
     "output_type": "execute_result"
    }
   ],
   "source": [
    "mem = pd.DataFrame({\n",
    "    'deep':    [12, 9, 11, 9, 13, 10, 9, 11, 10, 12],\n",
    "    'shallow': [9,  8, 10, 11, 7, 11, 9, 10, 10, 8]\n",
    "})\n",
    "mem"
   ]
  },
  {
   "cell_type": "markdown",
   "metadata": {
    "deletable": false,
    "editable": false
   },
   "source": [
    "**Problem 3**: Run a permutation test to assess the potential relationship between the variables in the above data.\n",
    "\n",
    "**NOTE:** Because we are working with a within-subjects form of this data now, we can't apply the same exact permutation test procedure that we used previously for the between-groups version of the data. In within-subjects designs, observations are said to be \"paired\": each subject has two measurements for each of two conditions. These observations are also said to be \"dependent\" because they both \"depend\" on the same person. We can still break any systematic relationship between condition labels and measurements using shuffling, but we have to do it **within** each participant. That is, we maintain the relationship between individuals and measurements, but remove the relationship between measurements and conditions. To accomplish this, we can \"flip a coin\" for each participant in the data. If heads, we swap their scores for their deep/shallow conditions. If tails, we leave them unchanged. One way to flip a coin in Python is to run `np.random.random() < 0.5` and check if the resulting bool is `True` or `False`.\n",
    "\n",
    "Additional specifications:\n",
    "- The observed test statistic for the above data should be a float called `mem_observed`.\n",
    "- To swap values in Python, either assign simultaneously, e.g., `a, b = b, a` OR use a temporary third variable.\n",
    "- Make sure to use `df = df.copy()` where applicable.\n",
    "- Run exactly 10,000 simulations and store the results in a numpy array called `mem_null`.\n",
    "- Store the p-value in a float called `mem_p`."
   ]
  },
  {
   "cell_type": "code",
   "execution_count": 14,
   "metadata": {
    "tags": [
     "otter_answer_cell"
    ]
   },
   "outputs": [],
   "source": [
    "np.random.seed(0) # DO NOT change this line\n",
    "\n",
    "# Your code goes here\n",
    "\n",
    "def swap(df, i):\n",
    "    if np.random.random() < 0.5: \n",
    "        df.loc[i, 'deep'], df.loc[i, 'shallow'] = df.loc[i, 'shallow'], df.loc[i, 'deep']\n",
    "        \n",
    "df = mem.copy()\n",
    "mem_null = np.zeros(10000)\n",
    "mem_observed = df['deep'].mean() - df['shallow'].mean()\n",
    "\n",
    "for i in range(10000):\n",
    "    permu = df.copy()\n",
    "    for j in range(len(permu)): \n",
    "        swap(permu, j)\n",
    "    mem_null[i] = permu['deep'].mean() - permu['shallow'].mean()\n",
    "    \n",
    "mem_p = np.float64(compute_p_value(mem_observed, mem_null))"
   ]
  },
  {
   "cell_type": "code",
   "execution_count": 15,
   "metadata": {
    "deletable": false,
    "editable": false
   },
   "outputs": [
    {
     "data": {
      "text/html": [
       "<p><strong><pre style='display: inline;'>q3</pre></strong> passed! 🌈</p>"
      ],
      "text/plain": [
       "q3 results: All test cases passed!"
      ]
     },
     "execution_count": 15,
     "metadata": {},
     "output_type": "execute_result"
    }
   ],
   "source": [
    "grader.check(\"q3\")"
   ]
  },
  {
   "cell_type": "markdown",
   "metadata": {},
   "source": [
    "Note that for parametric within-subjects tests, one can import and make use of `ttest_rel` from `scipy.stats` to perform tests with a single line of code. Such tests go by multiple names: \"repeated-measures t-test\", \"paired-samples t-test\", or \"dependent-samples t-test\"."
   ]
  }
 ],
 "metadata": {
  "kernelspec": {
   "display_name": ".venv",
   "language": "python",
   "name": "python3"
  },
  "language_info": {
   "codemirror_mode": {
    "name": "ipython",
    "version": 3
   },
   "file_extension": ".py",
   "mimetype": "text/x-python",
   "name": "python",
   "nbconvert_exporter": "python",
   "pygments_lexer": "ipython3",
   "version": "3.9.19"
  },
  "otter": {
   "OK_FORMAT": true,
   "tests": {
    "q1": {
     "name": "q1",
     "points": [
      0
     ],
     "suites": [
      {
       "cases": [
        {
         "code": ">>> shep_observed > 0.5 and len(shep_null) == 10000 and (shep_p < 0.99)\nnp.True_",
         "hidden": false,
         "locked": false
        }
       ],
       "scored": true,
       "setup": "",
       "teardown": "",
       "type": "doctest"
      }
     ]
    },
    "q2": {
     "name": "q2",
     "points": [
      0
     ],
     "suites": [
      {
       "cases": [
        {
         "code": ">>> hick_observed > 0.5 and len(hick_null) == 10000 and (hick_p < 0.99)\nnp.True_",
         "hidden": false,
         "locked": false
        }
       ],
       "scored": true,
       "setup": "",
       "teardown": "",
       "type": "doctest"
      }
     ]
    },
    "q3": {
     "name": "q3",
     "points": [
      0
     ],
     "suites": [
      {
       "cases": [
        {
         "code": ">>> mem_observed > 0.1 and len(mem_null) == 10000 and (mem_p < 0.99)\nnp.True_",
         "hidden": false,
         "locked": false
        }
       ],
       "scored": true,
       "setup": "",
       "teardown": "",
       "type": "doctest"
      }
     ]
    }
   }
  }
 },
 "nbformat": 4,
 "nbformat_minor": 2
}
