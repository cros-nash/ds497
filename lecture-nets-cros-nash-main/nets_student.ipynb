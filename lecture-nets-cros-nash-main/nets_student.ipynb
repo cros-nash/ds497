{
 "cells": [
  {
   "cell_type": "markdown",
   "id": "de9df3df",
   "metadata": {},
   "source": [
    "# Connectionist Models of Cognition\n",
    "\n",
    "- Please work in groups of two or more and **help your group members**.\n",
    "\n",
    "- Feel free to ask the instructor **questions** as you go.\n",
    "\n",
    "- Commit and show an instructor your work before leaving."
   ]
  },
  {
   "cell_type": "code",
   "execution_count": 143,
   "id": "d32473d1",
   "metadata": {},
   "outputs": [],
   "source": [
    "import numpy as np\n",
    "import pandas as pd\n",
    "import matplotlib.pyplot as plt\n",
    "\n",
    "from tools import *"
   ]
  },
  {
   "cell_type": "markdown",
   "id": "9cace070",
   "metadata": {},
   "source": [
    "### General Models of Learning\n",
    "\n",
    "So far in this class, we've discussed both mental representations and cognitive processes, but we haven't said much about where these two components of the mind might come from in the first place.\n",
    "\n",
    "Understanding how the mind **learns** to represent the world and solve very different kinds of problems requires a *general* theory of learning that could apply just as much to say categorization as it does to decision making.\n",
    "\n",
    "For one possible such theory, we can take inspiration from what the mind physically uses to accomplish everything it does: the brain."
   ]
  },
  {
   "cell_type": "markdown",
   "id": "e1432c71",
   "metadata": {},
   "source": [
    "### Computing Units of the Brain\n",
    "\n",
    "<div>\n",
    "<img width=300 style=\"float:right;margin-right:40px;margin-left:20px\" src=\"https://i.pinimg.com/736x/a3/d8/72/a3d872bcf7126dcb6fdc04362187e2e7.jpg\">\n",
    "\n",
    "In the late 19th century, Camillo Golgi figured out for the first time how to visualize structure of cells—called **neurons**—that make up the brain. One original such visualization is shown on the right, and reveals that neurons are cells with long \"branches\" connecting themselves to other neurons.\n",
    "\n",
    "Later work by several researchers revealed that neurons communicate with each other using electrical signals. The diagram below shows the basic structure of a neuron.\n",
    "\n",
    "<img width=300 style=\"\" src=\"neuron.jpg\">\n",
    "\n",
    "A neuron receives multiple **input signals** through connections to other neurons called **dendrites**. The strength of each of these connections varies, and thus some signals have more influence than others. The neuron then integrates (sums) all these strength-weighted signals in its **cell body**. It then transmits that one integrated signal to other neurons via its **axon**. In simpler terms, information flows from left to right.\n",
    "</div>"
   ]
  },
  {
   "cell_type": "markdown",
   "id": "86a8a558",
   "metadata": {},
   "source": [
    "### Modeling Neurons\n",
    "\n",
    "Most of the above components of biological neurons are relatively easy to model.\n",
    "\n",
    "- For example, we can model the $i$-th input signal as a number $x_i$\n",
    "\n",
    "- Then, we can model the strength of the connection to the $i$-th input as $w_i$\n",
    "\n",
    "- The actual input to a neuron is then the original input $x_i$ weighted by $w_i$, giving the product $x_i w_i$.\n",
    "\n",
    "The stronger the signal received by the neuron, the more we say it is **activated**. \n",
    "\n",
    "We can model the activation of a single neuron with a single input as: $$a = x_1 w_1$$\n",
    "\n",
    "We can visualize this artificial neuron as:\n",
    "\n",
    "<div style=\"text-align:center;\">\n",
    "    <svg width=\"300\" height=\"150\" viewBox=\"0 0 300 150\" transform=\"scale(2, 2)\">\n",
    "        <!-- Input -->\n",
    "        <text x=\"10\" y=\"70\" font-size=\"12\" fill=\"black\">x₁ (input)</text>\n",
    "        <line x1=\"50\" y1=\"75\" x2=\"100\" y2=\"75\" stroke=\"black\" stroke-width=\"2\" />\n",
    "        <!-- Weight -->\n",
    "        <text x=\"75\" y=\"65\" font-size=\"12\" fill=\"black\">w₁</text>\n",
    "        <!-- Cell Body -->\n",
    "        <circle cx=\"120\" cy=\"75\" r=\"20\" fill=\"white\" stroke=\"black\" stroke-width=\"2\" />\n",
    "        <!-- <text x=\"110\" y=\"80\" font-size=\"12\" fill=\"black\">Σ</text> -->\n",
    "        <!-- Output -->\n",
    "        <line x1=\"140\" y1=\"75\" x2=\"200\" y2=\"75\" stroke=\"black\" stroke-width=\"2\" />\n",
    "        <text x=\"210\" y=\"80\" font-size=\"12\" fill=\"black\">a (output)</text>\n",
    "    </svg>\n",
    "</div>"
   ]
  },
  {
   "cell_type": "markdown",
   "id": "6cd88c2a",
   "metadata": {},
   "source": [
    "**Exercise:** Create a model of a neuron using a function called `neuron_with_one_input` that takes a single input as the first argument and a single weight as the second argument and returns the activation of that neuron."
   ]
  },
  {
   "cell_type": "code",
   "execution_count": 144,
   "id": "c7278f70",
   "metadata": {},
   "outputs": [],
   "source": [
    "# Your code here\n",
    "\n",
    "def neuron_with_one_input(input, weight):\n",
    "    return input * weight"
   ]
  },
  {
   "cell_type": "code",
   "execution_count": 145,
   "id": "fa539526",
   "metadata": {},
   "outputs": [
    {
     "data": {
      "text/plain": [
       "'Test passed'"
      ]
     },
     "execution_count": 145,
     "metadata": {},
     "output_type": "execute_result"
    }
   ],
   "source": [
    "# TEST YOUR SOLUTION\n",
    "'Test passed' if np.isclose(neuron_with_one_input(0.5, 0.5), 0.25) else 'Test failed'"
   ]
  },
  {
   "cell_type": "markdown",
   "id": "39ff43f7",
   "metadata": {},
   "source": [
    "**Exercise:** Calculate the activation value of a neuron with an input signal value of 0.9 and a connection strength weight of 0.5. Store the result in `activation_with_one_input`."
   ]
  },
  {
   "cell_type": "code",
   "execution_count": 146,
   "id": "d4897e10",
   "metadata": {},
   "outputs": [
    {
     "data": {
      "text/plain": [
       "0.45"
      ]
     },
     "execution_count": 146,
     "metadata": {},
     "output_type": "execute_result"
    }
   ],
   "source": [
    "# Your code here\n",
    "\n",
    "activation_with_one_input = neuron_with_one_input(0.9, 0.5)\n",
    "\n",
    "# don't change\n",
    "activation_with_one_input"
   ]
  },
  {
   "cell_type": "code",
   "execution_count": 147,
   "id": "bc3e0d6a",
   "metadata": {},
   "outputs": [
    {
     "data": {
      "text/plain": [
       "'Test passed'"
      ]
     },
     "execution_count": 147,
     "metadata": {},
     "output_type": "execute_result"
    }
   ],
   "source": [
    "# TEST YOUR SOLUTION\n",
    "'Test passed' if np.isclose(activation_with_one_input, 0.45) else 'Test failed'"
   ]
  },
  {
   "cell_type": "markdown",
   "id": "b27f157a",
   "metadata": {},
   "source": [
    "In real neurons, signals can either **excite** the neuron (increase its activation value), or **inhibit** the neuron (decrease its activation value). We can model excitation versus inhibition using positive and negative weights respectively.\n",
    "\n",
    "**Exercise:** Calculate the activation value of a neuron with an input signal value of 0.9 and an inhibitory connection strength weight of -0.5. Store the result in `activation_after_inhibition`."
   ]
  },
  {
   "cell_type": "code",
   "execution_count": 148,
   "id": "2a16906e",
   "metadata": {},
   "outputs": [
    {
     "data": {
      "text/plain": [
       "-0.45"
      ]
     },
     "execution_count": 148,
     "metadata": {},
     "output_type": "execute_result"
    }
   ],
   "source": [
    "# Your code here\n",
    "\n",
    "activation_after_inhibition = neuron_with_one_input(0.9, -0.5)\n",
    "\n",
    "# don't change\n",
    "activation_after_inhibition"
   ]
  },
  {
   "cell_type": "code",
   "execution_count": 149,
   "id": "04d1282f",
   "metadata": {},
   "outputs": [
    {
     "data": {
      "text/plain": [
       "'Test passed'"
      ]
     },
     "execution_count": 149,
     "metadata": {},
     "output_type": "execute_result"
    }
   ],
   "source": [
    "# TEST YOUR SOLUTION\n",
    "'Test passed' if np.isclose(activation_after_inhibition, -0.45) else 'Test failed'"
   ]
  },
  {
   "cell_type": "markdown",
   "id": "28283469",
   "metadata": {},
   "source": [
    "Another important feature of real neurons is that they don't always activate. Instead, input signals are accumulated until they reach a particular threshold. Once that threshold is met, the neuron activates, triggering communication with other neurons.\n",
    "\n",
    "We can describe this kind of activation pattern using what is called an **activation function**, or $\\phi$.\n",
    "\n",
    "In particular, we can define our activation function as the \"step\" function:\n",
    "\n",
    "$$\n",
    "\\phi(z) =\n",
    "\\begin{cases} \n",
    "0 & \\text{if } z < t \\\\\n",
    "1 & \\text{if } z \\geq t\n",
    "\\end{cases},\n",
    "$$\n",
    "\n",
    "where $z = x_1 * w_1$ and $t$ is an activation threshold.\n",
    "\n",
    "That is, when the excitation of the neuron is less than $t$, the neuron outputs 0. When equal to or greater than $t$, it outputs 1.\n",
    "\n",
    "**Exercise:** Create a function called `step_function` that `z` and `t` as input and returns $\\phi(z)$."
   ]
  },
  {
   "cell_type": "code",
   "execution_count": 150,
   "id": "57d7a06b",
   "metadata": {},
   "outputs": [],
   "source": [
    "# Your code here\n",
    "\n",
    "def step_function(z, t):\n",
    "    return 0 if z < t else 1"
   ]
  },
  {
   "cell_type": "code",
   "execution_count": 151,
   "id": "ce624d0e",
   "metadata": {},
   "outputs": [
    {
     "data": {
      "text/plain": [
       "'Test passed'"
      ]
     },
     "execution_count": 151,
     "metadata": {},
     "output_type": "execute_result"
    }
   ],
   "source": [
    "# TEST YOUR SOLUTION\n",
    "'Test passed' if np.isclose(step_function(0.5, 0.5), 1) else 'Test failed'"
   ]
  },
  {
   "cell_type": "markdown",
   "id": "fc101968",
   "metadata": {},
   "source": [
    "The function $\\phi$ is visualized below for a threshold of 2. Notice why it's called a \"step\" function. The part of the function that is a vertical line marks the position of the threshold."
   ]
  },
  {
   "cell_type": "code",
   "execution_count": 152,
   "id": "41610211",
   "metadata": {},
   "outputs": [
    {
     "data": {
      "image/png": "[encoded data removed]",
      "text/plain": [
       "<Figure size 640x480 with 1 Axes>"
      ]
     },
     "metadata": {},
     "output_type": "display_data"
    }
   ],
   "source": [
    "plot_step_function(step_function)"
   ]
  },
  {
   "cell_type": "markdown",
   "id": "6b307ca7",
   "metadata": {},
   "source": [
    "The final activation of a neuron is then redefined as: $$a = \\phi(x_1 w_1).$$\n",
    "\n",
    "That is, our artificial neuron outputs 1 when the weighted input signal is \"high enough\", and 0 otherwise.\n",
    "\n",
    "Our diagram is now:\n",
    "\n",
    "<div style=\"text-align:center;\">\n",
    "    <svg width=\"400\" height=\"150\" viewBox=\"0 0 400 150\" transform=\"scale(2, 2)\">\n",
    "        <!-- Input -->\n",
    "        <text x=\"10\" y=\"70\" font-size=\"12\" fill=\"black\">x₁ (input)</text>\n",
    "        <line x1=\"50\" y1=\"75\" x2=\"100\" y2=\"75\" stroke=\"black\" stroke-width=\"2\" />\n",
    "        <!-- Weight -->\n",
    "        <text x=\"75\" y=\"65\" font-size=\"12\" fill=\"black\">w₁</text>\n",
    "        <!-- Cell Body -->\n",
    "        <circle cx=\"120\" cy=\"75\" r=\"20\" fill=\"white\" stroke=\"black\" stroke-width=\"2\" />\n",
    "        <!-- Line to Phi -->\n",
    "        <line x1=\"140\" y1=\"75\" x2=\"170\" y2=\"75\" stroke=\"black\" stroke-width=\"2\" />\n",
    "        <!-- Phi Circle -->\n",
    "        <circle cx=\"190\" cy=\"75\" r=\"20\" fill=\"white\" stroke=\"black\" stroke-width=\"2\" />\n",
    "        <text x=\"185\" y=\"80\" font-size=\"12\" fill=\"black\">φ</text>\n",
    "        <!-- Line to Output -->\n",
    "        <line x1=\"210\" y1=\"75\" x2=\"240\" y2=\"75\" stroke=\"black\" stroke-width=\"2\" />\n",
    "        <!-- Output -->\n",
    "        <text x=\"250\" y=\"80\" font-size=\"12\" fill=\"black\">a (output)</text>\n",
    "    </svg>\n",
    "</div>"
   ]
  },
  {
   "cell_type": "markdown",
   "id": "06bf2e05",
   "metadata": {},
   "source": [
    "**Exercise:** Create a model of a neuron using a function called `neuron_with_step_act` that takes in an input, a weight, and a threshold and returns the activation of that neuron."
   ]
  },
  {
   "cell_type": "code",
   "execution_count": 153,
   "id": "cded508e",
   "metadata": {},
   "outputs": [],
   "source": [
    "# Your code here\n",
    "\n",
    "def neuron_with_step_act(input, weight, threshold):\n",
    "    activation = neuron_with_one_input(input, weight)\n",
    "    return step_function(activation, threshold)"
   ]
  },
  {
   "cell_type": "code",
   "execution_count": 154,
   "id": "3eaf128f",
   "metadata": {},
   "outputs": [
    {
     "data": {
      "text/plain": [
       "'Test passed'"
      ]
     },
     "execution_count": 154,
     "metadata": {},
     "output_type": "execute_result"
    }
   ],
   "source": [
    "# TEST YOUR SOLUTION\n",
    "'Test passed' if np.isclose(neuron_with_step_act(2, 0.5, 1), 1) else 'Test failed'"
   ]
  },
  {
   "cell_type": "markdown",
   "id": "607d94a9",
   "metadata": {},
   "source": [
    "**Exercise:** Fill in the blanks below such that the output of the neuron will be 1."
   ]
  },
  {
   "cell_type": "code",
   "execution_count": 155,
   "metadata": {},
   "outputs": [
    {
     "data": {
      "text/plain": [
       "1"
      ]
     },
     "execution_count": 155,
     "metadata": {},
     "output_type": "execute_result"
    }
   ],
   "source": [
    "output_that_should_be_one = neuron_with_step_act(0.9, 1, 0)\n",
    "\n",
    "# do not change\n",
    "output_that_should_be_one"
   ]
  },
  {
   "cell_type": "code",
   "execution_count": 156,
   "id": "d7a65afe",
   "metadata": {},
   "outputs": [
    {
     "data": {
      "text/plain": [
       "'Test passed'"
      ]
     },
     "execution_count": 156,
     "metadata": {},
     "output_type": "execute_result"
    }
   ],
   "source": [
    "# TEST YOUR SOLUTION\n",
    "'Test passed' if np.isclose(output_that_should_be_one, 1) else 'Test failed'"
   ]
  },
  {
   "cell_type": "markdown",
   "id": "3c9eb0da",
   "metadata": {},
   "source": [
    "**Exercise:** Fill in the blanks below such that the output of the neuron will be 0."
   ]
  },
  {
   "cell_type": "code",
   "execution_count": 157,
   "id": "19f60026",
   "metadata": {},
   "outputs": [
    {
     "data": {
      "text/plain": [
       "0"
      ]
     },
     "execution_count": 157,
     "metadata": {},
     "output_type": "execute_result"
    }
   ],
   "source": [
    "output_that_should_be_zero = neuron_with_step_act(0.9, 1, 1)\n",
    "\n",
    "# do not change\n",
    "output_that_should_be_zero"
   ]
  },
  {
   "cell_type": "code",
   "execution_count": 158,
   "id": "2e642137",
   "metadata": {},
   "outputs": [
    {
     "data": {
      "text/plain": [
       "'Test passed'"
      ]
     },
     "execution_count": 158,
     "metadata": {},
     "output_type": "execute_result"
    }
   ],
   "source": [
    "# TEST YOUR SOLUTION\n",
    "'Test passed' if np.isclose(output_that_should_be_zero, 0) else 'Test failed'"
   ]
  },
  {
   "cell_type": "markdown",
   "id": "60acb64c",
   "metadata": {},
   "source": [
    "The last important property of real neurons that we haven't yet modeled is the integration of multiple signals.\n",
    "\n",
    "Multiple input signals just means multiple values $x_i$ and corresponding weights $w_i$. As we said before, these signals are integrated with a simple sum, implying a modified activation rule as follows: $$a = \\phi(\\sum_i x_i w_i).$$\n",
    "\n",
    "This simplified model of a neuron is called a **perceptron**, and was invented by the psychologist Frank Rosenblatt in 1957.\n",
    "\n",
    "For a simple example of two inputs, we can write: $$a = \\phi(x_1 w_1 + x_2 w_2).$$\n",
    "\n",
    "We can visualize this neuron as:\n",
    "\n",
    "<div style=\"text-align:center;\">\n",
    "    <br><br>\n",
    "    <svg width=\"400\" height=\"220\" viewBox=\"0 0 400 200\" transform=\"scale(2, 2)\">\n",
    "        <!-- First Input -->\n",
    "        <text x=\"10\" y=\"50\" font-size=\"12\" fill=\"black\">x₁ (input)</text>\n",
    "        <line x1=\"50\" y1=\"55\" x2=\"100\" y2=\"75\" stroke=\"black\" stroke-width=\"2\" />\n",
    "        <!-- First Weight -->\n",
    "        <text x=\"65\" y=\"55\" font-size=\"12\" fill=\"black\">w₁</text>\n",
    "        <!-- Second Input -->\n",
    "        <text x=\"10\" y=\"112\" font-size=\"12\" fill=\"black\">x₂ (input)</text>\n",
    "        <line x1=\"50\" y1=\"100\" x2=\"100\" y2=\"85\" stroke=\"black\" stroke-width=\"2\" />\n",
    "        <!-- Second Weight -->\n",
    "        <text x=\"65\" y=\"105\" font-size=\"12\" fill=\"black\">w₂</text>\n",
    "        <!-- Cell Body with Summation -->\n",
    "        <circle cx=\"120\" cy=\"75\" r=\"20\" fill=\"white\" stroke=\"black\" stroke-width=\"2\" />\n",
    "        <text x=\"113\" y=\"80\" font-size=\"16\" fill=\"black\">Σ</text>\n",
    "        <!-- Line to Phi -->\n",
    "        <line x1=\"140\" y1=\"75\" x2=\"170\" y2=\"75\" stroke=\"black\" stroke-width=\"2\" />\n",
    "        <!-- Phi Circle -->\n",
    "        <circle cx=\"190\" cy=\"75\" r=\"20\" fill=\"white\" stroke=\"black\" stroke-width=\"2\" />\n",
    "        <text x=\"185\" y=\"80\" font-size=\"12\" fill=\"black\">φ</text>\n",
    "        <!-- Line to Output -->\n",
    "        <line x1=\"210\" y1=\"75\" x2=\"240\" y2=\"75\" stroke=\"black\" stroke-width=\"2\" />\n",
    "        <!-- Output -->\n",
    "        <text x=\"250\" y=\"80\" font-size=\"12\" fill=\"black\">a (output)</text>\n",
    "    </svg>\n",
    "</div>"
   ]
  },
  {
   "cell_type": "markdown",
   "id": "b9457b95",
   "metadata": {},
   "source": [
    "**Exercise:** Create a model of a neuron using a function called `neuron_with_two_inputs` that takes in two inputs, two weights, and a threshold and returns the activation of that neuron."
   ]
  },
  {
   "cell_type": "code",
   "execution_count": 159,
   "id": "76b024ab",
   "metadata": {},
   "outputs": [],
   "source": [
    "# Your code here\n",
    "\n",
    "def neuron_with_two_inputs(input1, input2, weight1, weight2, threshold):\n",
    "    activations = neuron_with_one_input(input1, weight1) + neuron_with_one_input(input2, weight2)\n",
    "    return step_function(activations, threshold)"
   ]
  },
  {
   "cell_type": "code",
   "execution_count": 160,
   "id": "5c6bd82e",
   "metadata": {},
   "outputs": [
    {
     "data": {
      "text/plain": [
       "'Test passed'"
      ]
     },
     "execution_count": 160,
     "metadata": {},
     "output_type": "execute_result"
    }
   ],
   "source": [
    "# TEST YOUR SOLUTION\n",
    "'Test passed' if np.isclose(neuron_with_two_inputs(0.5, 1, 2, 1.5, 3.6), 0) else 'Test failed'"
   ]
  },
  {
   "cell_type": "markdown",
   "id": "317b6081",
   "metadata": {},
   "source": [
    "Now that we have a complete model of a neuron (the perceptron), let's see how we can use it to model a cognitive process of learning.\n",
    "\n",
    "Let's revisit the problem of learning to categorize a set of stimuli. In the dataframe below, each row is a stimulus (4 total), the first two columns (`feature1` and `feature2`) are (binary) features of those stimuli, and the final column (`category`) is the true category label that needs to be learned."
   ]
  },
  {
   "cell_type": "code",
   "execution_count": 161,
   "id": "fa7139f0",
   "metadata": {},
   "outputs": [
    {
     "data": {
      "text/html": [
       "<div>\n",
       "<style scoped>\n",
       "    .dataframe tbody tr th:only-of-type {\n",
       "        vertical-align: middle;\n",
       "    }\n",
       "\n",
       "    .dataframe tbody tr th {\n",
       "        vertical-align: top;\n",
       "    }\n",
       "\n",
       "    .dataframe thead th {\n",
       "        text-align: right;\n",
       "    }\n",
       "</style>\n",
       "<table border=\"1\" class=\"dataframe\">\n",
       "  <thead>\n",
       "    <tr style=\"text-align: right;\">\n",
       "      <th></th>\n",
       "      <th>feature1</th>\n",
       "      <th>feature2</th>\n",
       "      <th>category</th>\n",
       "    </tr>\n",
       "  </thead>\n",
       "  <tbody>\n",
       "    <tr>\n",
       "      <th>0</th>\n",
       "      <td>0</td>\n",
       "      <td>0</td>\n",
       "      <td>0</td>\n",
       "    </tr>\n",
       "    <tr>\n",
       "      <th>1</th>\n",
       "      <td>0</td>\n",
       "      <td>1</td>\n",
       "      <td>0</td>\n",
       "    </tr>\n",
       "    <tr>\n",
       "      <th>2</th>\n",
       "      <td>1</td>\n",
       "      <td>0</td>\n",
       "      <td>0</td>\n",
       "    </tr>\n",
       "    <tr>\n",
       "      <th>3</th>\n",
       "      <td>1</td>\n",
       "      <td>1</td>\n",
       "      <td>1</td>\n",
       "    </tr>\n",
       "  </tbody>\n",
       "</table>\n",
       "</div>"
      ],
      "text/plain": [
       "   feature1  feature2  category\n",
       "0         0         0         0\n",
       "1         0         1         0\n",
       "2         1         0         0\n",
       "3         1         1         1"
      ]
     },
     "execution_count": 161,
     "metadata": {},
     "output_type": "execute_result"
    }
   ],
   "source": [
    "df_cat = pd.DataFrame({\n",
    "    'feature1': [0, 0, 1, 1],\n",
    "    'feature2': [0, 1, 0, 1],\n",
    "    'category': [0, 0, 0, 1]\n",
    "})\n",
    "df_cat"
   ]
  },
  {
   "cell_type": "markdown",
   "id": "27198844",
   "metadata": {},
   "source": [
    "We can visualize these stimuli below. Note that feature 1 represents the color of the stimulus, whereas feature 2 represents the shape of the stimulus.\n",
    "\n",
    "Also note that there is one example of category 1, and three examples of category 0."
   ]
  },
  {
   "cell_type": "code",
   "execution_count": 162,
   "id": "c5b0dbe3",
   "metadata": {},
   "outputs": [
    {
     "data": {
      "image/png": "[encoded data removed]",
      "text/plain": [
       "<Figure size 640x480 with 1 Axes>"
      ]
     },
     "metadata": {},
     "output_type": "display_data"
    }
   ],
   "source": [
    "plot_stimuli(df_cat)"
   ]
  },
  {
   "cell_type": "markdown",
   "id": "1592b785",
   "metadata": {},
   "source": [
    "Previously, we used categorization models to learn to categorize such stimuli. In contrast, here we will employ the perceptron as a basic model of learning to solve the same problem.\n",
    "\n",
    "Note that we want a model that can take in stimuli (`feature1` and `feature2` value pairs) and output category labels. To accomplish this, note that we can use `feature1` and `feature2` as the inputs to the perceptron. We already know that the output of the perceptron is 0 or 1 because of the step function, so we know it outputs some kind of guess for the category label (which can also only be 0 or 1).\n",
    "\n",
    "Taking the second stimulus as our example (feature1=0, feature2=1), we can model categorization as: $$\\text{predicted category label } \\hat{y} = \\phi(0\\times w_1 + 1\\times w_2).$$\n",
    "\n",
    "What kind of guess for the category label of stimulus 2 will the above spit out? Let's see.\n",
    "\n",
    "**Exercise:** Fill in the blanks to categorize stimulus 2. We'll need to pick some values for the weights and the threshold, so use 1 for all three."
   ]
  },
  {
   "cell_type": "code",
   "execution_count": 163,
   "id": "91457deb",
   "metadata": {},
   "outputs": [
    {
     "data": {
      "text/plain": [
       "1"
      ]
     },
     "execution_count": 163,
     "metadata": {},
     "output_type": "execute_result"
    }
   ],
   "source": [
    "# do not change\n",
    "# inputs for stimulus 2\n",
    "x1 = df_cat['feature1'].values[1]\n",
    "x2 = df_cat['feature2'].values[1]\n",
    "\n",
    "predicted_y = neuron_with_two_inputs(x1, x2, 1, 1, 1)\n",
    "\n",
    "# do not change\n",
    "predicted_y"
   ]
  },
  {
   "cell_type": "code",
   "execution_count": 164,
   "id": "5036b9c7",
   "metadata": {},
   "outputs": [
    {
     "data": {
      "text/plain": [
       "'Test passed'"
      ]
     },
     "execution_count": 164,
     "metadata": {},
     "output_type": "execute_result"
    }
   ],
   "source": [
    "# TEST YOUR SOLUTION\n",
    "'Test passed' if np.isclose(predicted_y, 1) else 'Test failed'"
   ]
  },
  {
   "cell_type": "markdown",
   "id": "5245119d",
   "metadata": {},
   "source": [
    "The above gave an output of 1 instead of what we wanted (0). \n",
    "\n",
    "The reason is that, in addition to the inputs, the output of the perceptron depends on both the values of the weights and the value of the threshold. The process of finding the best values for these parameters (i.e., that helps us categorize correctly) is what define the process of **learning** in a perceptron.\n",
    "\n",
    "### The Perceptron Learning Algorithm\n",
    "\n",
    "Before the perceptron can start learning, it needs start with some set of initial values for $w_1$, $w_2$, and $t$. We can set them all for example at 0.1 to start.\n",
    "\n",
    "The next step is to evaluate the outputs of the model. For example, if the true label $y$ for some stimulus is $1$, but the perceptron outputs $0$, then we say that it has made an **error**. We can measure this error as $y - ŷ$, and this quantity tells us how we should modify our weights:\n",
    "\n",
    "- If $y - ŷ = 0$, then the model categorized correctly, and we don't need to update the weights.\n",
    "- If $y - ŷ = 1$, then the perceptron didn't activate when it was supposed to, and we need to increase weights to increase activation.\n",
    "- If $y - ŷ = -1$, then the perceptron activated when it wasn't supposed to, and we need to decrease weights to decrease activation.\n",
    "\n",
    "The process of updating the weight strengths that connect neurons is called **error-driven learning**.\n",
    "\n",
    "When we do increase or decrease a weight, we adjust it proportionally to its corresponding input $x$ because inputs with larger magnitudes contribute more to whatever error was made. Further, we only want to make small changes to weights at any one time so we don't overdo it. Thus, rather than updating exactly proportionally to $x$, we update by a small fixed proportion of $x$, or $ηx$, where $\\eta$ is called the **learning rate**.\n",
    "\n",
    "We can write out the full rule for updating some weight $w_{\\text{old}}$ to $w_{\\text{new}}$ as: $$w_{\\text{new}} = w_{\\text{old}} + η(y - ŷ)x.$$\n",
    "\n",
    "Let's implement it.\n",
    "\n",
    "**Exercise:** Create a function called `update_weight` that takes a single `old_weight`, `eta`, a single input `x`, `y`, and `predicted_y`, and outputs the new updated weight."
   ]
  },
  {
   "cell_type": "code",
   "execution_count": 165,
   "id": "037696a2",
   "metadata": {},
   "outputs": [],
   "source": [
    "# Your code here\n",
    "\n",
    "def update_weight(old_weight, eta, x, y, predicted_y):\n",
    "    return old_weight + eta*(y - predicted_y)*x"
   ]
  },
  {
   "cell_type": "code",
   "execution_count": 166,
   "id": "5f87b72a",
   "metadata": {},
   "outputs": [
    {
     "data": {
      "text/plain": [
       "'Test passed'"
      ]
     },
     "execution_count": 166,
     "metadata": {},
     "output_type": "execute_result"
    }
   ],
   "source": [
    "# TEST YOUR SOLUTION\n",
    "'Test passed' if np.isclose(update_weight(0.5, 0.1, 1, 1, 0), 0.6) else 'Test failed'"
   ]
  },
  {
   "cell_type": "markdown",
   "id": "d7dc1402",
   "metadata": {},
   "source": [
    "The final parameter we have to update is the threshold $t$. We do that using a very similar rule:\n",
    "\n",
    "$$t_{\\text{new}} = t_{\\text{old}} - η(y - ŷ)$$\n",
    "\n",
    "There are two differences in this update rule as compared to the weight update rule. First, there is a sign flip. This is because it is *smaller* thresholds that cause the neuron to activate more easily, not larger ones (whereas in contrast it is *larger* weights that push the neuron towards activation). Second, it is not a function of any input $x$ because the threshold is independent of the inputs.\n",
    "\n",
    "Let's implement this rule as well.\n",
    "\n",
    "**Exercise:** Create a function called `update_threshold` that takes `old_threshold`, `eta`, `y`, and `predicted_y`, and outputs the new updated threshold."
   ]
  },
  {
   "cell_type": "code",
   "execution_count": 167,
   "id": "bcc647e5",
   "metadata": {},
   "outputs": [],
   "source": [
    "# Your code here\n",
    "\n",
    "def update_threshold(old_threshold, eta, y, predicted_y):\n",
    "    return old_threshold - eta*(y - predicted_y)"
   ]
  },
  {
   "cell_type": "code",
   "execution_count": 168,
   "id": "5706a484",
   "metadata": {},
   "outputs": [
    {
     "data": {
      "text/plain": [
       "'Test passed'"
      ]
     },
     "execution_count": 168,
     "metadata": {},
     "output_type": "execute_result"
    }
   ],
   "source": [
    "# TEST YOUR SOLUTION\n",
    "'Test passed' if np.isclose(update_threshold(0.5, 0.1, 1, 0), 0.4) else 'Test failed'"
   ]
  },
  {
   "cell_type": "markdown",
   "id": "1fc343ed",
   "metadata": {},
   "source": [
    "The final learning algorithm for two weights is as follows:\n",
    "1. Initialize both weights as well as the threshold\n",
    "2. For each stimulus, we check if the perceptron gives the correct output\n",
    "3. If not, update both weights and the threshold\n",
    "4. Go back to 2 and repeat until accuracy stops increasing\n",
    "\n",
    "Before we can implement this algorithm, let's create a function to evaluate the accuracy of a perceptron in categorizing the stimuli in our dataset.\n",
    "\n",
    "**Exercise:** Fill in the blanks below."
   ]
  },
  {
   "cell_type": "code",
   "execution_count": 169,
   "id": "d4d07b60",
   "metadata": {},
   "outputs": [],
   "source": [
    "def evaluate_accuracy(df, weight1, weight2, t):\n",
    "\n",
    "    # to counter #/4 we get right\n",
    "    correct_predictions = 0\n",
    "\n",
    "    # go through each of the four stimuli\n",
    "    for _, row in df.iterrows():\n",
    "\n",
    "        # features and correct category for this stimulus\n",
    "        x1 = row['feature1']\n",
    "        x2 = row['feature2']\n",
    "        y = row['category']\n",
    "\n",
    "        # see what the perceptron outputs for this stimulus\n",
    "        y_pred = neuron_with_two_inputs(x1, x2, weight1, weight2, t)\n",
    "\n",
    "        # if the prediction is correct, tally it up\n",
    "        if y_pred == y:\n",
    "            correct_predictions = correct_predictions + 1\n",
    "    \n",
    "    # return the accuracy %\n",
    "    accuracy = correct_predictions / len(df) * 100\n",
    "    return accuracy"
   ]
  },
  {
   "cell_type": "code",
   "execution_count": 170,
   "id": "dce1094e",
   "metadata": {},
   "outputs": [
    {
     "data": {
      "text/plain": [
       "'Test passed'"
      ]
     },
     "execution_count": 170,
     "metadata": {},
     "output_type": "execute_result"
    }
   ],
   "source": [
    "# TEST YOUR SOLUTION\n",
    "'Test passed' if np.isclose(evaluate_accuracy(df_cat, 1, 1, 1), 50) else 'Test failed'"
   ]
  },
  {
   "cell_type": "markdown",
   "id": "299a07a7",
   "metadata": {},
   "source": [
    "Now, let's implement the entire perceptron learning algorithm.\n",
    "\n",
    "**Exercise:** Fill in the blanks below. Set the learning rate to 0.1."
   ]
  },
  {
   "cell_type": "code",
   "execution_count": 171,
   "id": "f7607587",
   "metadata": {},
   "outputs": [
    {
     "name": "stdout",
     "output_type": "stream",
     "text": [
      "w1: 0.1, w2: 0.1, t: 0.1, Accuracy: 25%\n",
      "w1: 0.1, w2: 0.0, t: 0.2, Accuracy: 25%\n",
      "w1: 0.1, w2: 0.0, t: 0.2, Accuracy: 50%\n",
      "w1: 0.2, w2: 0.1, t: 0.1, Accuracy: 50%\n",
      "w1: 0.2, w2: 0.1, t: 0.1, Accuracy: 25%\n",
      "w1: 0.2, w2: 0.0, t: 0.2, Accuracy: 25%\n",
      "w1: 0.1, w2: 0.0, t: 0.3, Accuracy: 25%\n",
      "w1: 0.2, w2: 0.1, t: 0.2, Accuracy: 25%\n",
      "w1: 0.2, w2: 0.1, t: 0.2, Accuracy: 25%\n",
      "w1: 0.2, w2: 0.1, t: 0.2, Accuracy: 50%\n",
      "w1: 0.1, w2: 0.1, t: 0.3, Accuracy: 50%\n",
      "w1: 0.2, w2: 0.2, t: 0.2, Accuracy: 50%\n",
      "w1: 0.2, w2: 0.2, t: 0.2, Accuracy: 25%\n",
      "w1: 0.2, w2: 0.1, t: 0.3, Accuracy: 25%\n",
      "w1: 0.2, w2: 0.1, t: 0.3, Accuracy: 50%\n",
      "w1: 0.2, w2: 0.1, t: 0.3, Accuracy: 75%\n",
      "w1: 0.2, w2: 0.1, t: 0.3, Accuracy: 25%\n",
      "w1: 0.2, w2: 0.1, t: 0.3, Accuracy: 50%\n",
      "w1: 0.2, w2: 0.1, t: 0.3, Accuracy: 75%\n",
      "w1: 0.2, w2: 0.1, t: 0.3, Accuracy: 100%\n"
     ]
    }
   ],
   "source": [
    "def fit_perceptron(df):\n",
    "\n",
    "    # initial values before learning\n",
    "    curr_w1 = 0.1\n",
    "    curr_w2 = 0.1\n",
    "    curr_t = 0.1\n",
    "\n",
    "    eta = 0.1\n",
    "\n",
    "    # keep learning until all four stimuli are classified correctly\n",
    "    for learning_iteration in range(100):\n",
    "        correct_predictions = 0\n",
    "\n",
    "        # go through each of the four stimuli\n",
    "        for _, row in df.iterrows():\n",
    "\n",
    "            # features and correct category for this stimulus\n",
    "            x1 = row['feature1']\n",
    "            x2 = row['feature2']\n",
    "            y = row['category']\n",
    "            \n",
    "            # see what the perceptron outputs for this stimulus\n",
    "            y_pred = neuron_with_two_inputs(x1, x2, curr_w1, curr_w2, curr_t)\n",
    "            \n",
    "            # if incorrect, update weights and threshold\n",
    "            if y_pred != y:\n",
    "                curr_w1 = update_weight(curr_w1, eta, x1, y, y_pred)\n",
    "                curr_w2 = update_weight(curr_w2, eta, x2, y, y_pred)\n",
    "                curr_t  = update_threshold(curr_t, eta, y, y_pred)\n",
    "\n",
    "            # round params to remove floating point error\n",
    "            curr_w1, curr_w2, curr_t = round(curr_w1, 2), round(curr_w2, 2), round(curr_t, 2)\n",
    "\n",
    "            # check the accuracy after the parameter updates\n",
    "            if y_pred == y:\n",
    "                correct_predictions = correct_predictions + 1\n",
    "            current_accuracy = correct_predictions / len(df) * 100\n",
    "            \n",
    "            # print current parameters and accuracy\n",
    "            print(f'w1: {curr_w1}, w2: {curr_w2}, t: {curr_t}, Accuracy: {current_accuracy:.0f}%')\n",
    "\n",
    "            # exit once all four stimuli are classified correctly\n",
    "            if np.isclose(current_accuracy, 100.00):\n",
    "                return curr_w1, curr_w2, curr_t\n",
    "            \n",
    "    return None, None, None\n",
    "\n",
    "best_w1, best_w2, best_t = fit_perceptron(df_cat)"
   ]
  },
  {
   "cell_type": "code",
   "execution_count": 172,
   "id": "7a5b5b41",
   "metadata": {},
   "outputs": [
    {
     "data": {
      "text/plain": [
       "'Test passed'"
      ]
     },
     "execution_count": 172,
     "metadata": {},
     "output_type": "execute_result"
    }
   ],
   "source": [
    "# TEST YOUR SOLUTION\n",
    "'Test passed' if (best_w1, best_w2, best_t) == (0.2, 0.1, 0.3) else 'Test failed'"
   ]
  },
  {
   "cell_type": "markdown",
   "id": "682d9c68",
   "metadata": {},
   "source": [
    "Notice that, while learning, the perceptron sometimes \"changes its mind\". For example, the first weight often moves back and forth between 0.1 and 0.2. \n",
    "\n",
    "Also notice that, eventually, accuracy reaches 100% (all four stimuli have been correctly categorized by the perceptron) and thus no more learning (parameter updating) is required.\n",
    "\n",
    "Let's think about what this means for a second. The perceptron learned to categorize stimuli without any explicit starting knowledge about prototypes or memory storage.\n",
    "\n",
    "The categorization model we learned can be visualized as:\n",
    "\n",
    "<div style=\"text-align:center;\">\n",
    "    <br><br>\n",
    "    <svg width=\"400\" height=\"220\" viewBox=\"0 0 400 200\" transform=\"scale(2, 2)\">\n",
    "        <!-- First Input -->\n",
    "        <text x=\"10\" y=\"50\" font-size=\"12\" fill=\"black\">x₁ (input)</text>\n",
    "        <line x1=\"50\" y1=\"55\" x2=\"100\" y2=\"75\" stroke=\"black\" stroke-width=\"2\" />\n",
    "        <!-- First Weight -->\n",
    "        <text x=\"65\" y=\"55\" font-size=\"12\" fill=\"black\">0.2</text>\n",
    "        <!-- Second Input -->\n",
    "        <text x=\"10\" y=\"116\" font-size=\"12\" fill=\"black\">x₂ (input)</text>\n",
    "        <line x1=\"50\" y1=\"105\" x2=\"100\" y2=\"85\" stroke=\"black\" stroke-width=\"2\" />\n",
    "        <!-- Second Weight -->\n",
    "        <text x=\"65\" y=\"110\" font-size=\"12\" fill=\"black\">0.1</text>\n",
    "        <!-- Cell Body with Summation -->\n",
    "        <circle cx=\"120\" cy=\"75\" r=\"20\" fill=\"white\" stroke=\"black\" stroke-width=\"2\" />\n",
    "        <text x=\"113\" y=\"80\" font-size=\"16\" fill=\"black\">Σ</text>\n",
    "        <!-- Line to Phi -->\n",
    "        <line x1=\"140\" y1=\"75\" x2=\"170\" y2=\"75\" stroke=\"black\" stroke-width=\"2\" />\n",
    "        <!-- Phi Circle -->\n",
    "        <circle cx=\"190\" cy=\"75\" r=\"20\" fill=\"white\" stroke=\"black\" stroke-width=\"2\" />\n",
    "        <text x=\"185\" y=\"80\" font-size=\"12\" fill=\"black\">φ</text>\n",
    "        <text x=\"175\" y=\"50\" font-size=\"12\" fill=\"black\">t=0.3</text>\n",
    "        <!-- Line to Output -->\n",
    "        <line x1=\"210\" y1=\"75\" x2=\"240\" y2=\"75\" stroke=\"black\" stroke-width=\"2\" />\n",
    "        <!-- Output -->\n",
    "        <text x=\"250\" y=\"80\" font-size=\"12\" fill=\"black\">a (output)</text>\n",
    "    </svg>\n",
    "</div>\n",
    "\n",
    "Importantly, the perceptron didn't just learn any pair of categories, it learned a specific pair. To see what is meant by this, let's look at the data again:"
   ]
  },
  {
   "cell_type": "code",
   "execution_count": 173,
   "id": "aced4316",
   "metadata": {},
   "outputs": [
    {
     "data": {
      "text/html": [
       "<div>\n",
       "<style scoped>\n",
       "    .dataframe tbody tr th:only-of-type {\n",
       "        vertical-align: middle;\n",
       "    }\n",
       "\n",
       "    .dataframe tbody tr th {\n",
       "        vertical-align: top;\n",
       "    }\n",
       "\n",
       "    .dataframe thead th {\n",
       "        text-align: right;\n",
       "    }\n",
       "</style>\n",
       "<table border=\"1\" class=\"dataframe\">\n",
       "  <thead>\n",
       "    <tr style=\"text-align: right;\">\n",
       "      <th></th>\n",
       "      <th>feature1</th>\n",
       "      <th>feature2</th>\n",
       "      <th>category</th>\n",
       "    </tr>\n",
       "  </thead>\n",
       "  <tbody>\n",
       "    <tr>\n",
       "      <th>0</th>\n",
       "      <td>0</td>\n",
       "      <td>0</td>\n",
       "      <td>0</td>\n",
       "    </tr>\n",
       "    <tr>\n",
       "      <th>1</th>\n",
       "      <td>0</td>\n",
       "      <td>1</td>\n",
       "      <td>0</td>\n",
       "    </tr>\n",
       "    <tr>\n",
       "      <th>2</th>\n",
       "      <td>1</td>\n",
       "      <td>0</td>\n",
       "      <td>0</td>\n",
       "    </tr>\n",
       "    <tr>\n",
       "      <th>3</th>\n",
       "      <td>1</td>\n",
       "      <td>1</td>\n",
       "      <td>1</td>\n",
       "    </tr>\n",
       "  </tbody>\n",
       "</table>\n",
       "</div>"
      ],
      "text/plain": [
       "   feature1  feature2  category\n",
       "0         0         0         0\n",
       "1         0         1         0\n",
       "2         1         0         0\n",
       "3         1         1         1"
      ]
     },
     "execution_count": 173,
     "metadata": {},
     "output_type": "execute_result"
    }
   ],
   "source": [
    "df_cat"
   ]
  },
  {
   "cell_type": "markdown",
   "id": "f5201ff4",
   "metadata": {},
   "source": [
    "Observe that the only stimulus labeled as category 1 is the one where both feature1 and feature2 are both 1. This means that category 1 is defined by a strict rule: an exemplar is a member of category 1 only if both feature1 AND feature2 are 1. Otherwise, it is a member of category 0.\n",
    "\n",
    "This kind of category can also be modeled using what is called a **logical operator**. If we call this operator the **AND** operator, then:\n",
    "- $0 \\text{  AND  } 0 = 0$\n",
    "- $0 \\text{  AND  } 1 = 0$\n",
    "- $1 \\text{  AND  } 0 = 0$\n",
    "- $1 \\text{  AND  } 1 = 1$\n",
    "\n",
    "This pattern recreates our dataset exactly.\n",
    "\n",
    "In 1854, a mathematician named George Boole defined this **boolean operator** (along with several others) in a book called \"The Laws of Thought\". That is, Boole, like Aristotle, was trying to provide a mathematical model of how people think logically (think about thoughts like \"I can go to college only if I both get accepted AND have the money\"). His contribution also ended up being a major foundation of computer science.\n",
    "\n",
    "What we now know is that the perceptron can implement this operator, but more importantly, **it can learn how to implement this logic without being explicitly how to do so!**\n",
    "\n",
    "### Learning other sets of categories\n",
    "\n",
    "Another operator called the **OR** operator outputs 1 when at least one of the inputs is 1 (one \"or\" the other). We can represent its behavior using another two-category dataset like the below:"
   ]
  },
  {
   "cell_type": "code",
   "execution_count": 174,
   "id": "7dba5dde",
   "metadata": {},
   "outputs": [
    {
     "data": {
      "text/html": [
       "<div>\n",
       "<style scoped>\n",
       "    .dataframe tbody tr th:only-of-type {\n",
       "        vertical-align: middle;\n",
       "    }\n",
       "\n",
       "    .dataframe tbody tr th {\n",
       "        vertical-align: top;\n",
       "    }\n",
       "\n",
       "    .dataframe thead th {\n",
       "        text-align: right;\n",
       "    }\n",
       "</style>\n",
       "<table border=\"1\" class=\"dataframe\">\n",
       "  <thead>\n",
       "    <tr style=\"text-align: right;\">\n",
       "      <th></th>\n",
       "      <th>feature1</th>\n",
       "      <th>feature2</th>\n",
       "      <th>category</th>\n",
       "    </tr>\n",
       "  </thead>\n",
       "  <tbody>\n",
       "    <tr>\n",
       "      <th>0</th>\n",
       "      <td>0</td>\n",
       "      <td>0</td>\n",
       "      <td>0</td>\n",
       "    </tr>\n",
       "    <tr>\n",
       "      <th>1</th>\n",
       "      <td>0</td>\n",
       "      <td>1</td>\n",
       "      <td>1</td>\n",
       "    </tr>\n",
       "    <tr>\n",
       "      <th>2</th>\n",
       "      <td>1</td>\n",
       "      <td>0</td>\n",
       "      <td>1</td>\n",
       "    </tr>\n",
       "    <tr>\n",
       "      <th>3</th>\n",
       "      <td>1</td>\n",
       "      <td>1</td>\n",
       "      <td>1</td>\n",
       "    </tr>\n",
       "  </tbody>\n",
       "</table>\n",
       "</div>"
      ],
      "text/plain": [
       "   feature1  feature2  category\n",
       "0         0         0         0\n",
       "1         0         1         1\n",
       "2         1         0         1\n",
       "3         1         1         1"
      ]
     },
     "execution_count": 174,
     "metadata": {},
     "output_type": "execute_result"
    }
   ],
   "source": [
    "df_or = pd.DataFrame({\n",
    "    'feature1': [0, 0, 1, 1],\n",
    "    'feature2': [0, 1, 0, 1],\n",
    "    'category': [0, 1, 1, 1]\n",
    "})\n",
    "df_or"
   ]
  },
  {
   "cell_type": "markdown",
   "id": "b37e46aa",
   "metadata": {},
   "source": [
    "Let's run the learning algorithm on it and see what happens.\n",
    "\n",
    "**Exercise:** Fill in the blanks."
   ]
  },
  {
   "cell_type": "code",
   "execution_count": 175,
   "id": "f0516a7f",
   "metadata": {},
   "outputs": [
    {
     "name": "stdout",
     "output_type": "stream",
     "text": [
      "w1: 0.1, w2: 0.1, t: 0.1, Accuracy: 25%\n",
      "w1: 0.1, w2: 0.1, t: 0.1, Accuracy: 50%\n",
      "w1: 0.1, w2: 0.1, t: 0.1, Accuracy: 75%\n",
      "w1: 0.1, w2: 0.1, t: 0.1, Accuracy: 100%\n"
     ]
    }
   ],
   "source": [
    "or_w1, or_w2, or_t = fit_perceptron(df_or)"
   ]
  },
  {
   "cell_type": "code",
   "execution_count": 176,
   "id": "95c2fa45",
   "metadata": {},
   "outputs": [
    {
     "data": {
      "text/plain": [
       "'Test passed'"
      ]
     },
     "execution_count": 176,
     "metadata": {},
     "output_type": "execute_result"
    }
   ],
   "source": [
    "# TEST YOUR SOLUTION\n",
    "'Test passed' if (or_w1, or_w2, or_t) == (0.1, 0.1, 0.1) else 'Test failed'"
   ]
  },
  {
   "cell_type": "markdown",
   "id": "be7125d7",
   "metadata": {},
   "source": [
    "This time, we got lucky. Not only can the perceptron apparently implement the OR operator, it was able to do it using the starting parameters (0.1, 0.1, 0.1). Note that if we had started with different parameters that weren't quite so lucky, learning would still have to take place.\n",
    "\n",
    "Let's try another operator, called the **NAND** operator, which really just the \"opposite\" of the AND operator. That is, it outputs 1 in all cases, except for when both inputs are 1."
   ]
  },
  {
   "cell_type": "code",
   "execution_count": 177,
   "id": "be352c18",
   "metadata": {},
   "outputs": [
    {
     "data": {
      "text/html": [
       "<div>\n",
       "<style scoped>\n",
       "    .dataframe tbody tr th:only-of-type {\n",
       "        vertical-align: middle;\n",
       "    }\n",
       "\n",
       "    .dataframe tbody tr th {\n",
       "        vertical-align: top;\n",
       "    }\n",
       "\n",
       "    .dataframe thead th {\n",
       "        text-align: right;\n",
       "    }\n",
       "</style>\n",
       "<table border=\"1\" class=\"dataframe\">\n",
       "  <thead>\n",
       "    <tr style=\"text-align: right;\">\n",
       "      <th></th>\n",
       "      <th>feature1</th>\n",
       "      <th>feature2</th>\n",
       "      <th>category</th>\n",
       "    </tr>\n",
       "  </thead>\n",
       "  <tbody>\n",
       "    <tr>\n",
       "      <th>0</th>\n",
       "      <td>0</td>\n",
       "      <td>0</td>\n",
       "      <td>1</td>\n",
       "    </tr>\n",
       "    <tr>\n",
       "      <th>1</th>\n",
       "      <td>0</td>\n",
       "      <td>1</td>\n",
       "      <td>1</td>\n",
       "    </tr>\n",
       "    <tr>\n",
       "      <th>2</th>\n",
       "      <td>1</td>\n",
       "      <td>0</td>\n",
       "      <td>1</td>\n",
       "    </tr>\n",
       "    <tr>\n",
       "      <th>3</th>\n",
       "      <td>1</td>\n",
       "      <td>1</td>\n",
       "      <td>0</td>\n",
       "    </tr>\n",
       "  </tbody>\n",
       "</table>\n",
       "</div>"
      ],
      "text/plain": [
       "   feature1  feature2  category\n",
       "0         0         0         1\n",
       "1         0         1         1\n",
       "2         1         0         1\n",
       "3         1         1         0"
      ]
     },
     "execution_count": 177,
     "metadata": {},
     "output_type": "execute_result"
    }
   ],
   "source": [
    "df_nand = pd.DataFrame({\n",
    "    'feature1': [0, 0, 1, 1],\n",
    "    'feature2': [0, 1, 0, 1],\n",
    "    'category': [1, 1, 1, 0]\n",
    "})\n",
    "df_nand"
   ]
  },
  {
   "cell_type": "markdown",
   "id": "8ee7e76e",
   "metadata": {},
   "source": [
    "**Exercise:** Fill in the blanks below."
   ]
  },
  {
   "cell_type": "code",
   "execution_count": 178,
   "id": "af6ec999",
   "metadata": {},
   "outputs": [
    {
     "name": "stdout",
     "output_type": "stream",
     "text": [
      "w1: 0.1, w2: 0.1, t: 0.0, Accuracy: 0%\n",
      "w1: 0.1, w2: 0.1, t: 0.0, Accuracy: 25%\n",
      "w1: 0.1, w2: 0.1, t: 0.0, Accuracy: 50%\n",
      "w1: 0.0, w2: 0.0, t: 0.1, Accuracy: 50%\n",
      "w1: 0.0, w2: 0.0, t: 0.0, Accuracy: 0%\n",
      "w1: 0.0, w2: 0.0, t: 0.0, Accuracy: 25%\n",
      "w1: 0.0, w2: 0.0, t: 0.0, Accuracy: 50%\n",
      "w1: -0.1, w2: -0.1, t: 0.1, Accuracy: 50%\n",
      "w1: -0.1, w2: -0.1, t: 0.0, Accuracy: 0%\n",
      "w1: -0.1, w2: 0.0, t: -0.1, Accuracy: 0%\n",
      "w1: -0.1, w2: 0.0, t: -0.1, Accuracy: 25%\n",
      "w1: -0.2, w2: -0.1, t: 0.0, Accuracy: 25%\n",
      "w1: -0.2, w2: -0.1, t: 0.0, Accuracy: 25%\n",
      "w1: -0.2, w2: 0.0, t: -0.1, Accuracy: 25%\n",
      "w1: -0.1, w2: 0.0, t: -0.2, Accuracy: 25%\n",
      "w1: -0.2, w2: -0.1, t: -0.1, Accuracy: 25%\n",
      "w1: -0.2, w2: -0.1, t: -0.1, Accuracy: 25%\n",
      "w1: -0.2, w2: -0.1, t: -0.1, Accuracy: 50%\n",
      "w1: -0.1, w2: -0.1, t: -0.2, Accuracy: 50%\n",
      "w1: -0.2, w2: -0.2, t: -0.1, Accuracy: 50%\n",
      "w1: -0.2, w2: -0.2, t: -0.1, Accuracy: 25%\n",
      "w1: -0.2, w2: -0.1, t: -0.2, Accuracy: 25%\n",
      "w1: -0.2, w2: -0.1, t: -0.2, Accuracy: 50%\n",
      "w1: -0.2, w2: -0.1, t: -0.2, Accuracy: 75%\n",
      "w1: -0.2, w2: -0.1, t: -0.2, Accuracy: 25%\n",
      "w1: -0.2, w2: -0.1, t: -0.2, Accuracy: 50%\n",
      "w1: -0.2, w2: -0.1, t: -0.2, Accuracy: 75%\n",
      "w1: -0.2, w2: -0.1, t: -0.2, Accuracy: 100%\n"
     ]
    }
   ],
   "source": [
    "nand_w1, nand_w2, nand_t = fit_perceptron(df_nand)"
   ]
  },
  {
   "cell_type": "code",
   "execution_count": 179,
   "id": "ac7e4155",
   "metadata": {},
   "outputs": [
    {
     "data": {
      "text/plain": [
       "'Test passed'"
      ]
     },
     "execution_count": 179,
     "metadata": {},
     "output_type": "execute_result"
    }
   ],
   "source": [
    "# TEST YOUR SOLUTION\n",
    "'Test passed' if (nand_w1, nand_w2, nand_t) == (-0.2, -0.1, -0.2) else 'Test failed'"
   ]
  },
  {
   "cell_type": "markdown",
   "id": "ab370ab7",
   "metadata": {},
   "source": [
    "Yet again, the perceptron was able to learn this operator, though it took a bit more learning. Also notice that this is the first perceptron that made use of negative (inhibitory) weights.\n",
    "\n",
    "Let's try one last operator, the **XOR** operator, which stands for \"exclusive OR\". This operator returns 1 when exactly one input is equal to 1, but not when both inputs are 1."
   ]
  },
  {
   "cell_type": "code",
   "execution_count": 180,
   "id": "27964f66",
   "metadata": {},
   "outputs": [
    {
     "data": {
      "text/html": [
       "<div>\n",
       "<style scoped>\n",
       "    .dataframe tbody tr th:only-of-type {\n",
       "        vertical-align: middle;\n",
       "    }\n",
       "\n",
       "    .dataframe tbody tr th {\n",
       "        vertical-align: top;\n",
       "    }\n",
       "\n",
       "    .dataframe thead th {\n",
       "        text-align: right;\n",
       "    }\n",
       "</style>\n",
       "<table border=\"1\" class=\"dataframe\">\n",
       "  <thead>\n",
       "    <tr style=\"text-align: right;\">\n",
       "      <th></th>\n",
       "      <th>feature1</th>\n",
       "      <th>feature2</th>\n",
       "      <th>category</th>\n",
       "    </tr>\n",
       "  </thead>\n",
       "  <tbody>\n",
       "    <tr>\n",
       "      <th>0</th>\n",
       "      <td>0</td>\n",
       "      <td>0</td>\n",
       "      <td>0</td>\n",
       "    </tr>\n",
       "    <tr>\n",
       "      <th>1</th>\n",
       "      <td>0</td>\n",
       "      <td>1</td>\n",
       "      <td>1</td>\n",
       "    </tr>\n",
       "    <tr>\n",
       "      <th>2</th>\n",
       "      <td>1</td>\n",
       "      <td>0</td>\n",
       "      <td>1</td>\n",
       "    </tr>\n",
       "    <tr>\n",
       "      <th>3</th>\n",
       "      <td>1</td>\n",
       "      <td>1</td>\n",
       "      <td>0</td>\n",
       "    </tr>\n",
       "  </tbody>\n",
       "</table>\n",
       "</div>"
      ],
      "text/plain": [
       "   feature1  feature2  category\n",
       "0         0         0         0\n",
       "1         0         1         1\n",
       "2         1         0         1\n",
       "3         1         1         0"
      ]
     },
     "execution_count": 180,
     "metadata": {},
     "output_type": "execute_result"
    }
   ],
   "source": [
    "df_xor = pd.DataFrame({\n",
    "    'feature1': [0, 0, 1, 1],\n",
    "    'feature2': [0, 1, 0, 1],\n",
    "    'category': [0, 1, 1, 0]\n",
    "})\n",
    "df_xor"
   ]
  },
  {
   "cell_type": "markdown",
   "id": "b6995117",
   "metadata": {},
   "source": [
    "**Exercise:** Fill in the blanks below."
   ]
  },
  {
   "cell_type": "code",
   "execution_count": 181,
   "id": "1ac5b6d4",
   "metadata": {},
   "outputs": [
    {
     "name": "stdout",
     "output_type": "stream",
     "text": [
      "w1: 0.1, w2: 0.1, t: 0.1, Accuracy: 25%\n",
      "w1: 0.1, w2: 0.1, t: 0.1, Accuracy: 50%\n",
      "w1: 0.1, w2: 0.1, t: 0.1, Accuracy: 75%\n",
      "w1: 0.0, w2: 0.0, t: 0.2, Accuracy: 75%\n",
      "w1: 0.0, w2: 0.0, t: 0.2, Accuracy: 25%\n",
      "w1: 0.0, w2: 0.1, t: 0.1, Accuracy: 25%\n",
      "w1: 0.1, w2: 0.1, t: 0.0, Accuracy: 25%\n",
      "w1: 0.0, w2: 0.0, t: 0.1, Accuracy: 25%\n",
      "w1: 0.0, w2: 0.0, t: 0.1, Accuracy: 25%\n",
      "w1: 0.0, w2: 0.1, t: 0.0, Accuracy: 25%\n",
      "w1: 0.0, w2: 0.1, t: 0.0, Accuracy: 50%\n",
      "w1: -0.1, w2: 0.0, t: 0.1, Accuracy: 50%\n",
      "w1: -0.1, w2: 0.0, t: 0.1, Accuracy: 25%\n",
      "w1: -0.1, w2: 0.1, t: 0.0, Accuracy: 25%\n",
      "w1: 0.0, w2: 0.1, t: -0.1, Accuracy: 25%\n",
      "w1: -0.1, w2: 0.0, t: 0.0, Accuracy: 25%\n",
      "w1: -0.1, w2: 0.0, t: 0.1, Accuracy: 0%\n",
      "w1: -0.1, w2: 0.1, t: 0.0, Accuracy: 0%\n",
      "w1: 0.0, w2: 0.1, t: -0.1, Accuracy: 0%\n",
      "w1: -0.1, w2: 0.0, t: 0.0, Accuracy: 0%\n",
      "w1: -0.1, w2: 0.0, t: 0.1, Accuracy: 0%\n",
      "w1: -0.1, w2: 0.1, t: 0.0, Accuracy: 0%\n",
      "w1: 0.0, w2: 0.1, t: -0.1, Accuracy: 0%\n",
      "w1: -0.1, w2: 0.0, t: 0.0, Accuracy: 0%\n",
      "w1: -0.1, w2: 0.0, t: 0.1, Accuracy: 0%\n",
      "w1: -0.1, w2: 0.1, t: 0.0, Accuracy: 0%\n",
      "w1: 0.0, w2: 0.1, t: -0.1, Accuracy: 0%\n",
      "w1: -0.1, w2: 0.0, t: 0.0, Accuracy: 0%\n",
      "w1: -0.1, w2: 0.0, t: 0.1, Accuracy: 0%\n",
      "w1: -0.1, w2: 0.1, t: 0.0, Accuracy: 0%\n",
      "w1: 0.0, w2: 0.1, t: -0.1, Accuracy: 0%\n",
      "w1: -0.1, w2: 0.0, t: 0.0, Accuracy: 0%\n",
      "w1: -0.1, w2: 0.0, t: 0.1, Accuracy: 0%\n",
      "w1: -0.1, w2: 0.1, t: 0.0, Accuracy: 0%\n",
      "w1: 0.0, w2: 0.1, t: -0.1, Accuracy: 0%\n",
      "w1: -0.1, w2: 0.0, t: 0.0, Accuracy: 0%\n",
      "w1: -0.1, w2: 0.0, t: 0.1, Accuracy: 0%\n",
      "w1: -0.1, w2: 0.1, t: 0.0, Accuracy: 0%\n",
      "w1: 0.0, w2: 0.1, t: -0.1, Accuracy: 0%\n",
      "w1: -0.1, w2: 0.0, t: 0.0, Accuracy: 0%\n",
      "w1: -0.1, w2: 0.0, t: 0.1, Accuracy: 0%\n",
      "w1: -0.1, w2: 0.1, t: 0.0, Accuracy: 0%\n",
      "w1: 0.0, w2: 0.1, t: -0.1, Accuracy: 0%\n",
      "w1: -0.1, w2: 0.0, t: 0.0, Accuracy: 0%\n",
      "w1: -0.1, w2: 0.0, t: 0.1, Accuracy: 0%\n",
      "w1: -0.1, w2: 0.1, t: 0.0, Accuracy: 0%\n",
      "w1: 0.0, w2: 0.1, t: -0.1, Accuracy: 0%\n",
      "w1: -0.1, w2: 0.0, t: 0.0, Accuracy: 0%\n",
      "w1: -0.1, w2: 0.0, t: 0.1, Accuracy: 0%\n",
      "w1: -0.1, w2: 0.1, t: 0.0, Accuracy: 0%\n",
      "w1: 0.0, w2: 0.1, t: -0.1, Accuracy: 0%\n",
      "w1: -0.1, w2: 0.0, t: 0.0, Accuracy: 0%\n",
      "w1: -0.1, w2: 0.0, t: 0.1, Accuracy: 0%\n",
      "w1: -0.1, w2: 0.1, t: 0.0, Accuracy: 0%\n",
      "w1: 0.0, w2: 0.1, t: -0.1, Accuracy: 0%\n",
      "w1: -0.1, w2: 0.0, t: 0.0, Accuracy: 0%\n",
      "w1: -0.1, w2: 0.0, t: 0.1, Accuracy: 0%\n",
      "w1: -0.1, w2: 0.1, t: 0.0, Accuracy: 0%\n",
      "w1: 0.0, w2: 0.1, t: -0.1, Accuracy: 0%\n",
      "w1: -0.1, w2: 0.0, t: 0.0, Accuracy: 0%\n",
      "w1: -0.1, w2: 0.0, t: 0.1, Accuracy: 0%\n",
      "w1: -0.1, w2: 0.1, t: 0.0, Accuracy: 0%\n",
      "w1: 0.0, w2: 0.1, t: -0.1, Accuracy: 0%\n",
      "w1: -0.1, w2: 0.0, t: 0.0, Accuracy: 0%\n",
      "w1: -0.1, w2: 0.0, t: 0.1, Accuracy: 0%\n",
      "w1: -0.1, w2: 0.1, t: 0.0, Accuracy: 0%\n",
      "w1: 0.0, w2: 0.1, t: -0.1, Accuracy: 0%\n",
      "w1: -0.1, w2: 0.0, t: 0.0, Accuracy: 0%\n",
      "w1: -0.1, w2: 0.0, t: 0.1, Accuracy: 0%\n",
      "w1: -0.1, w2: 0.1, t: 0.0, Accuracy: 0%\n",
      "w1: 0.0, w2: 0.1, t: -0.1, Accuracy: 0%\n",
      "w1: -0.1, w2: 0.0, t: 0.0, Accuracy: 0%\n",
      "w1: -0.1, w2: 0.0, t: 0.1, Accuracy: 0%\n",
      "w1: -0.1, w2: 0.1, t: 0.0, Accuracy: 0%\n",
      "w1: 0.0, w2: 0.1, t: -0.1, Accuracy: 0%\n",
      "w1: -0.1, w2: 0.0, t: 0.0, Accuracy: 0%\n",
      "w1: -0.1, w2: 0.0, t: 0.1, Accuracy: 0%\n",
      "w1: -0.1, w2: 0.1, t: 0.0, Accuracy: 0%\n",
      "w1: 0.0, w2: 0.1, t: -0.1, Accuracy: 0%\n",
      "w1: -0.1, w2: 0.0, t: 0.0, Accuracy: 0%\n",
      "w1: -0.1, w2: 0.0, t: 0.1, Accuracy: 0%\n",
      "w1: -0.1, w2: 0.1, t: 0.0, Accuracy: 0%\n",
      "w1: 0.0, w2: 0.1, t: -0.1, Accuracy: 0%\n",
      "w1: -0.1, w2: 0.0, t: 0.0, Accuracy: 0%\n",
      "w1: -0.1, w2: 0.0, t: 0.1, Accuracy: 0%\n",
      "w1: -0.1, w2: 0.1, t: 0.0, Accuracy: 0%\n",
      "w1: 0.0, w2: 0.1, t: -0.1, Accuracy: 0%\n",
      "w1: -0.1, w2: 0.0, t: 0.0, Accuracy: 0%\n",
      "w1: -0.1, w2: 0.0, t: 0.1, Accuracy: 0%\n",
      "w1: -0.1, w2: 0.1, t: 0.0, Accuracy: 0%\n",
      "w1: 0.0, w2: 0.1, t: -0.1, Accuracy: 0%\n",
      "w1: -0.1, w2: 0.0, t: 0.0, Accuracy: 0%\n",
      "w1: -0.1, w2: 0.0, t: 0.1, Accuracy: 0%\n",
      "w1: -0.1, w2: 0.1, t: 0.0, Accuracy: 0%\n",
      "w1: 0.0, w2: 0.1, t: -0.1, Accuracy: 0%\n",
      "w1: -0.1, w2: 0.0, t: 0.0, Accuracy: 0%\n",
      "w1: -0.1, w2: 0.0, t: 0.1, Accuracy: 0%\n",
      "w1: -0.1, w2: 0.1, t: 0.0, Accuracy: 0%\n",
      "w1: 0.0, w2: 0.1, t: -0.1, Accuracy: 0%\n",
      "w1: -0.1, w2: 0.0, t: 0.0, Accuracy: 0%\n",
      "w1: -0.1, w2: 0.0, t: 0.1, Accuracy: 0%\n",
      "w1: -0.1, w2: 0.1, t: 0.0, Accuracy: 0%\n",
      "w1: 0.0, w2: 0.1, t: -0.1, Accuracy: 0%\n",
      "w1: -0.1, w2: 0.0, t: 0.0, Accuracy: 0%\n",
      "w1: -0.1, w2: 0.0, t: 0.1, Accuracy: 0%\n",
      "w1: -0.1, w2: 0.1, t: 0.0, Accuracy: 0%\n",
      "w1: 0.0, w2: 0.1, t: -0.1, Accuracy: 0%\n",
      "w1: -0.1, w2: 0.0, t: 0.0, Accuracy: 0%\n",
      "w1: -0.1, w2: 0.0, t: 0.1, Accuracy: 0%\n",
      "w1: -0.1, w2: 0.1, t: 0.0, Accuracy: 0%\n",
      "w1: 0.0, w2: 0.1, t: -0.1, Accuracy: 0%\n",
      "w1: -0.1, w2: 0.0, t: 0.0, Accuracy: 0%\n",
      "w1: -0.1, w2: 0.0, t: 0.1, Accuracy: 0%\n",
      "w1: -0.1, w2: 0.1, t: 0.0, Accuracy: 0%\n",
      "w1: 0.0, w2: 0.1, t: -0.1, Accuracy: 0%\n",
      "w1: -0.1, w2: 0.0, t: 0.0, Accuracy: 0%\n",
      "w1: -0.1, w2: 0.0, t: 0.1, Accuracy: 0%\n",
      "w1: -0.1, w2: 0.1, t: 0.0, Accuracy: 0%\n",
      "w1: 0.0, w2: 0.1, t: -0.1, Accuracy: 0%\n",
      "w1: -0.1, w2: 0.0, t: 0.0, Accuracy: 0%\n",
      "w1: -0.1, w2: 0.0, t: 0.1, Accuracy: 0%\n",
      "w1: -0.1, w2: 0.1, t: 0.0, Accuracy: 0%\n",
      "w1: 0.0, w2: 0.1, t: -0.1, Accuracy: 0%\n",
      "w1: -0.1, w2: 0.0, t: 0.0, Accuracy: 0%\n",
      "w1: -0.1, w2: 0.0, t: 0.1, Accuracy: 0%\n",
      "w1: -0.1, w2: 0.1, t: 0.0, Accuracy: 0%\n",
      "w1: 0.0, w2: 0.1, t: -0.1, Accuracy: 0%\n",
      "w1: -0.1, w2: 0.0, t: 0.0, Accuracy: 0%\n",
      "w1: -0.1, w2: 0.0, t: 0.1, Accuracy: 0%\n",
      "w1: -0.1, w2: 0.1, t: 0.0, Accuracy: 0%\n",
      "w1: 0.0, w2: 0.1, t: -0.1, Accuracy: 0%\n",
      "w1: -0.1, w2: 0.0, t: 0.0, Accuracy: 0%\n",
      "w1: -0.1, w2: 0.0, t: 0.1, Accuracy: 0%\n",
      "w1: -0.1, w2: 0.1, t: 0.0, Accuracy: 0%\n",
      "w1: 0.0, w2: 0.1, t: -0.1, Accuracy: 0%\n",
      "w1: -0.1, w2: 0.0, t: 0.0, Accuracy: 0%\n",
      "w1: -0.1, w2: 0.0, t: 0.1, Accuracy: 0%\n",
      "w1: -0.1, w2: 0.1, t: 0.0, Accuracy: 0%\n",
      "w1: 0.0, w2: 0.1, t: -0.1, Accuracy: 0%\n",
      "w1: -0.1, w2: 0.0, t: 0.0, Accuracy: 0%\n",
      "w1: -0.1, w2: 0.0, t: 0.1, Accuracy: 0%\n",
      "w1: -0.1, w2: 0.1, t: 0.0, Accuracy: 0%\n",
      "w1: 0.0, w2: 0.1, t: -0.1, Accuracy: 0%\n",
      "w1: -0.1, w2: 0.0, t: 0.0, Accuracy: 0%\n",
      "w1: -0.1, w2: 0.0, t: 0.1, Accuracy: 0%\n",
      "w1: -0.1, w2: 0.1, t: 0.0, Accuracy: 0%\n",
      "w1: 0.0, w2: 0.1, t: -0.1, Accuracy: 0%\n",
      "w1: -0.1, w2: 0.0, t: 0.0, Accuracy: 0%\n",
      "w1: -0.1, w2: 0.0, t: 0.1, Accuracy: 0%\n",
      "w1: -0.1, w2: 0.1, t: 0.0, Accuracy: 0%\n",
      "w1: 0.0, w2: 0.1, t: -0.1, Accuracy: 0%\n",
      "w1: -0.1, w2: 0.0, t: 0.0, Accuracy: 0%\n",
      "w1: -0.1, w2: 0.0, t: 0.1, Accuracy: 0%\n",
      "w1: -0.1, w2: 0.1, t: 0.0, Accuracy: 0%\n",
      "w1: 0.0, w2: 0.1, t: -0.1, Accuracy: 0%\n",
      "w1: -0.1, w2: 0.0, t: 0.0, Accuracy: 0%\n",
      "w1: -0.1, w2: 0.0, t: 0.1, Accuracy: 0%\n",
      "w1: -0.1, w2: 0.1, t: 0.0, Accuracy: 0%\n",
      "w1: 0.0, w2: 0.1, t: -0.1, Accuracy: 0%\n",
      "w1: -0.1, w2: 0.0, t: 0.0, Accuracy: 0%\n",
      "w1: -0.1, w2: 0.0, t: 0.1, Accuracy: 0%\n",
      "w1: -0.1, w2: 0.1, t: 0.0, Accuracy: 0%\n",
      "w1: 0.0, w2: 0.1, t: -0.1, Accuracy: 0%\n",
      "w1: -0.1, w2: 0.0, t: 0.0, Accuracy: 0%\n",
      "w1: -0.1, w2: 0.0, t: 0.1, Accuracy: 0%\n",
      "w1: -0.1, w2: 0.1, t: 0.0, Accuracy: 0%\n",
      "w1: 0.0, w2: 0.1, t: -0.1, Accuracy: 0%\n",
      "w1: -0.1, w2: 0.0, t: 0.0, Accuracy: 0%\n",
      "w1: -0.1, w2: 0.0, t: 0.1, Accuracy: 0%\n",
      "w1: -0.1, w2: 0.1, t: 0.0, Accuracy: 0%\n",
      "w1: 0.0, w2: 0.1, t: -0.1, Accuracy: 0%\n",
      "w1: -0.1, w2: 0.0, t: 0.0, Accuracy: 0%\n",
      "w1: -0.1, w2: 0.0, t: 0.1, Accuracy: 0%\n",
      "w1: -0.1, w2: 0.1, t: 0.0, Accuracy: 0%\n",
      "w1: 0.0, w2: 0.1, t: -0.1, Accuracy: 0%\n",
      "w1: -0.1, w2: 0.0, t: 0.0, Accuracy: 0%\n",
      "w1: -0.1, w2: 0.0, t: 0.1, Accuracy: 0%\n",
      "w1: -0.1, w2: 0.1, t: 0.0, Accuracy: 0%\n",
      "w1: 0.0, w2: 0.1, t: -0.1, Accuracy: 0%\n",
      "w1: -0.1, w2: 0.0, t: 0.0, Accuracy: 0%\n",
      "w1: -0.1, w2: 0.0, t: 0.1, Accuracy: 0%\n",
      "w1: -0.1, w2: 0.1, t: 0.0, Accuracy: 0%\n",
      "w1: 0.0, w2: 0.1, t: -0.1, Accuracy: 0%\n",
      "w1: -0.1, w2: 0.0, t: 0.0, Accuracy: 0%\n",
      "w1: -0.1, w2: 0.0, t: 0.1, Accuracy: 0%\n",
      "w1: -0.1, w2: 0.1, t: 0.0, Accuracy: 0%\n",
      "w1: 0.0, w2: 0.1, t: -0.1, Accuracy: 0%\n",
      "w1: -0.1, w2: 0.0, t: 0.0, Accuracy: 0%\n",
      "w1: -0.1, w2: 0.0, t: 0.1, Accuracy: 0%\n",
      "w1: -0.1, w2: 0.1, t: 0.0, Accuracy: 0%\n",
      "w1: 0.0, w2: 0.1, t: -0.1, Accuracy: 0%\n",
      "w1: -0.1, w2: 0.0, t: 0.0, Accuracy: 0%\n",
      "w1: -0.1, w2: 0.0, t: 0.1, Accuracy: 0%\n",
      "w1: -0.1, w2: 0.1, t: 0.0, Accuracy: 0%\n",
      "w1: 0.0, w2: 0.1, t: -0.1, Accuracy: 0%\n",
      "w1: -0.1, w2: 0.0, t: 0.0, Accuracy: 0%\n",
      "w1: -0.1, w2: 0.0, t: 0.1, Accuracy: 0%\n",
      "w1: -0.1, w2: 0.1, t: 0.0, Accuracy: 0%\n",
      "w1: 0.0, w2: 0.1, t: -0.1, Accuracy: 0%\n",
      "w1: -0.1, w2: 0.0, t: 0.0, Accuracy: 0%\n",
      "w1: -0.1, w2: 0.0, t: 0.1, Accuracy: 0%\n",
      "w1: -0.1, w2: 0.1, t: 0.0, Accuracy: 0%\n",
      "w1: 0.0, w2: 0.1, t: -0.1, Accuracy: 0%\n",
      "w1: -0.1, w2: 0.0, t: 0.0, Accuracy: 0%\n",
      "w1: -0.1, w2: 0.0, t: 0.1, Accuracy: 0%\n",
      "w1: -0.1, w2: 0.1, t: 0.0, Accuracy: 0%\n",
      "w1: 0.0, w2: 0.1, t: -0.1, Accuracy: 0%\n",
      "w1: -0.1, w2: 0.0, t: 0.0, Accuracy: 0%\n",
      "w1: -0.1, w2: 0.0, t: 0.1, Accuracy: 0%\n",
      "w1: -0.1, w2: 0.1, t: 0.0, Accuracy: 0%\n",
      "w1: 0.0, w2: 0.1, t: -0.1, Accuracy: 0%\n",
      "w1: -0.1, w2: 0.0, t: 0.0, Accuracy: 0%\n",
      "w1: -0.1, w2: 0.0, t: 0.1, Accuracy: 0%\n",
      "w1: -0.1, w2: 0.1, t: 0.0, Accuracy: 0%\n",
      "w1: 0.0, w2: 0.1, t: -0.1, Accuracy: 0%\n",
      "w1: -0.1, w2: 0.0, t: 0.0, Accuracy: 0%\n",
      "w1: -0.1, w2: 0.0, t: 0.1, Accuracy: 0%\n",
      "w1: -0.1, w2: 0.1, t: 0.0, Accuracy: 0%\n",
      "w1: 0.0, w2: 0.1, t: -0.1, Accuracy: 0%\n",
      "w1: -0.1, w2: 0.0, t: 0.0, Accuracy: 0%\n",
      "w1: -0.1, w2: 0.0, t: 0.1, Accuracy: 0%\n",
      "w1: -0.1, w2: 0.1, t: 0.0, Accuracy: 0%\n",
      "w1: 0.0, w2: 0.1, t: -0.1, Accuracy: 0%\n",
      "w1: -0.1, w2: 0.0, t: 0.0, Accuracy: 0%\n",
      "w1: -0.1, w2: 0.0, t: 0.1, Accuracy: 0%\n",
      "w1: -0.1, w2: 0.1, t: 0.0, Accuracy: 0%\n",
      "w1: 0.0, w2: 0.1, t: -0.1, Accuracy: 0%\n",
      "w1: -0.1, w2: 0.0, t: 0.0, Accuracy: 0%\n",
      "w1: -0.1, w2: 0.0, t: 0.1, Accuracy: 0%\n",
      "w1: -0.1, w2: 0.1, t: 0.0, Accuracy: 0%\n",
      "w1: 0.0, w2: 0.1, t: -0.1, Accuracy: 0%\n",
      "w1: -0.1, w2: 0.0, t: 0.0, Accuracy: 0%\n",
      "w1: -0.1, w2: 0.0, t: 0.1, Accuracy: 0%\n",
      "w1: -0.1, w2: 0.1, t: 0.0, Accuracy: 0%\n",
      "w1: 0.0, w2: 0.1, t: -0.1, Accuracy: 0%\n",
      "w1: -0.1, w2: 0.0, t: 0.0, Accuracy: 0%\n",
      "w1: -0.1, w2: 0.0, t: 0.1, Accuracy: 0%\n",
      "w1: -0.1, w2: 0.1, t: 0.0, Accuracy: 0%\n",
      "w1: 0.0, w2: 0.1, t: -0.1, Accuracy: 0%\n",
      "w1: -0.1, w2: 0.0, t: 0.0, Accuracy: 0%\n",
      "w1: -0.1, w2: 0.0, t: 0.1, Accuracy: 0%\n",
      "w1: -0.1, w2: 0.1, t: 0.0, Accuracy: 0%\n",
      "w1: 0.0, w2: 0.1, t: -0.1, Accuracy: 0%\n",
      "w1: -0.1, w2: 0.0, t: 0.0, Accuracy: 0%\n",
      "w1: -0.1, w2: 0.0, t: 0.1, Accuracy: 0%\n",
      "w1: -0.1, w2: 0.1, t: 0.0, Accuracy: 0%\n",
      "w1: 0.0, w2: 0.1, t: -0.1, Accuracy: 0%\n",
      "w1: -0.1, w2: 0.0, t: 0.0, Accuracy: 0%\n",
      "w1: -0.1, w2: 0.0, t: 0.1, Accuracy: 0%\n",
      "w1: -0.1, w2: 0.1, t: 0.0, Accuracy: 0%\n",
      "w1: 0.0, w2: 0.1, t: -0.1, Accuracy: 0%\n",
      "w1: -0.1, w2: 0.0, t: 0.0, Accuracy: 0%\n",
      "w1: -0.1, w2: 0.0, t: 0.1, Accuracy: 0%\n",
      "w1: -0.1, w2: 0.1, t: 0.0, Accuracy: 0%\n",
      "w1: 0.0, w2: 0.1, t: -0.1, Accuracy: 0%\n",
      "w1: -0.1, w2: 0.0, t: 0.0, Accuracy: 0%\n",
      "w1: -0.1, w2: 0.0, t: 0.1, Accuracy: 0%\n",
      "w1: -0.1, w2: 0.1, t: 0.0, Accuracy: 0%\n",
      "w1: 0.0, w2: 0.1, t: -0.1, Accuracy: 0%\n",
      "w1: -0.1, w2: 0.0, t: 0.0, Accuracy: 0%\n",
      "w1: -0.1, w2: 0.0, t: 0.1, Accuracy: 0%\n",
      "w1: -0.1, w2: 0.1, t: 0.0, Accuracy: 0%\n",
      "w1: 0.0, w2: 0.1, t: -0.1, Accuracy: 0%\n",
      "w1: -0.1, w2: 0.0, t: 0.0, Accuracy: 0%\n",
      "w1: -0.1, w2: 0.0, t: 0.1, Accuracy: 0%\n",
      "w1: -0.1, w2: 0.1, t: 0.0, Accuracy: 0%\n",
      "w1: 0.0, w2: 0.1, t: -0.1, Accuracy: 0%\n",
      "w1: -0.1, w2: 0.0, t: 0.0, Accuracy: 0%\n",
      "w1: -0.1, w2: 0.0, t: 0.1, Accuracy: 0%\n",
      "w1: -0.1, w2: 0.1, t: 0.0, Accuracy: 0%\n",
      "w1: 0.0, w2: 0.1, t: -0.1, Accuracy: 0%\n",
      "w1: -0.1, w2: 0.0, t: 0.0, Accuracy: 0%\n",
      "w1: -0.1, w2: 0.0, t: 0.1, Accuracy: 0%\n",
      "w1: -0.1, w2: 0.1, t: 0.0, Accuracy: 0%\n",
      "w1: 0.0, w2: 0.1, t: -0.1, Accuracy: 0%\n",
      "w1: -0.1, w2: 0.0, t: 0.0, Accuracy: 0%\n",
      "w1: -0.1, w2: 0.0, t: 0.1, Accuracy: 0%\n",
      "w1: -0.1, w2: 0.1, t: 0.0, Accuracy: 0%\n",
      "w1: 0.0, w2: 0.1, t: -0.1, Accuracy: 0%\n",
      "w1: -0.1, w2: 0.0, t: 0.0, Accuracy: 0%\n",
      "w1: -0.1, w2: 0.0, t: 0.1, Accuracy: 0%\n",
      "w1: -0.1, w2: 0.1, t: 0.0, Accuracy: 0%\n",
      "w1: 0.0, w2: 0.1, t: -0.1, Accuracy: 0%\n",
      "w1: -0.1, w2: 0.0, t: 0.0, Accuracy: 0%\n",
      "w1: -0.1, w2: 0.0, t: 0.1, Accuracy: 0%\n",
      "w1: -0.1, w2: 0.1, t: 0.0, Accuracy: 0%\n",
      "w1: 0.0, w2: 0.1, t: -0.1, Accuracy: 0%\n",
      "w1: -0.1, w2: 0.0, t: 0.0, Accuracy: 0%\n",
      "w1: -0.1, w2: 0.0, t: 0.1, Accuracy: 0%\n",
      "w1: -0.1, w2: 0.1, t: 0.0, Accuracy: 0%\n",
      "w1: 0.0, w2: 0.1, t: -0.1, Accuracy: 0%\n",
      "w1: -0.1, w2: 0.0, t: 0.0, Accuracy: 0%\n",
      "w1: -0.1, w2: 0.0, t: 0.1, Accuracy: 0%\n",
      "w1: -0.1, w2: 0.1, t: 0.0, Accuracy: 0%\n",
      "w1: 0.0, w2: 0.1, t: -0.1, Accuracy: 0%\n",
      "w1: -0.1, w2: 0.0, t: 0.0, Accuracy: 0%\n",
      "w1: -0.1, w2: 0.0, t: 0.1, Accuracy: 0%\n",
      "w1: -0.1, w2: 0.1, t: 0.0, Accuracy: 0%\n",
      "w1: 0.0, w2: 0.1, t: -0.1, Accuracy: 0%\n",
      "w1: -0.1, w2: 0.0, t: 0.0, Accuracy: 0%\n",
      "w1: -0.1, w2: 0.0, t: 0.1, Accuracy: 0%\n",
      "w1: -0.1, w2: 0.1, t: 0.0, Accuracy: 0%\n",
      "w1: 0.0, w2: 0.1, t: -0.1, Accuracy: 0%\n",
      "w1: -0.1, w2: 0.0, t: 0.0, Accuracy: 0%\n",
      "w1: -0.1, w2: 0.0, t: 0.1, Accuracy: 0%\n",
      "w1: -0.1, w2: 0.1, t: 0.0, Accuracy: 0%\n",
      "w1: 0.0, w2: 0.1, t: -0.1, Accuracy: 0%\n",
      "w1: -0.1, w2: 0.0, t: 0.0, Accuracy: 0%\n",
      "w1: -0.1, w2: 0.0, t: 0.1, Accuracy: 0%\n",
      "w1: -0.1, w2: 0.1, t: 0.0, Accuracy: 0%\n",
      "w1: 0.0, w2: 0.1, t: -0.1, Accuracy: 0%\n",
      "w1: -0.1, w2: 0.0, t: 0.0, Accuracy: 0%\n",
      "w1: -0.1, w2: 0.0, t: 0.1, Accuracy: 0%\n",
      "w1: -0.1, w2: 0.1, t: 0.0, Accuracy: 0%\n",
      "w1: 0.0, w2: 0.1, t: -0.1, Accuracy: 0%\n",
      "w1: -0.1, w2: 0.0, t: 0.0, Accuracy: 0%\n",
      "w1: -0.1, w2: 0.0, t: 0.1, Accuracy: 0%\n",
      "w1: -0.1, w2: 0.1, t: 0.0, Accuracy: 0%\n",
      "w1: 0.0, w2: 0.1, t: -0.1, Accuracy: 0%\n",
      "w1: -0.1, w2: 0.0, t: 0.0, Accuracy: 0%\n",
      "w1: -0.1, w2: 0.0, t: 0.1, Accuracy: 0%\n",
      "w1: -0.1, w2: 0.1, t: 0.0, Accuracy: 0%\n",
      "w1: 0.0, w2: 0.1, t: -0.1, Accuracy: 0%\n",
      "w1: -0.1, w2: 0.0, t: 0.0, Accuracy: 0%\n",
      "w1: -0.1, w2: 0.0, t: 0.1, Accuracy: 0%\n",
      "w1: -0.1, w2: 0.1, t: 0.0, Accuracy: 0%\n",
      "w1: 0.0, w2: 0.1, t: -0.1, Accuracy: 0%\n",
      "w1: -0.1, w2: 0.0, t: 0.0, Accuracy: 0%\n",
      "w1: -0.1, w2: 0.0, t: 0.1, Accuracy: 0%\n",
      "w1: -0.1, w2: 0.1, t: 0.0, Accuracy: 0%\n",
      "w1: 0.0, w2: 0.1, t: -0.1, Accuracy: 0%\n",
      "w1: -0.1, w2: 0.0, t: 0.0, Accuracy: 0%\n",
      "w1: -0.1, w2: 0.0, t: 0.1, Accuracy: 0%\n",
      "w1: -0.1, w2: 0.1, t: 0.0, Accuracy: 0%\n",
      "w1: 0.0, w2: 0.1, t: -0.1, Accuracy: 0%\n",
      "w1: -0.1, w2: 0.0, t: 0.0, Accuracy: 0%\n",
      "w1: -0.1, w2: 0.0, t: 0.1, Accuracy: 0%\n",
      "w1: -0.1, w2: 0.1, t: 0.0, Accuracy: 0%\n",
      "w1: 0.0, w2: 0.1, t: -0.1, Accuracy: 0%\n",
      "w1: -0.1, w2: 0.0, t: 0.0, Accuracy: 0%\n",
      "w1: -0.1, w2: 0.0, t: 0.1, Accuracy: 0%\n",
      "w1: -0.1, w2: 0.1, t: 0.0, Accuracy: 0%\n",
      "w1: 0.0, w2: 0.1, t: -0.1, Accuracy: 0%\n",
      "w1: -0.1, w2: 0.0, t: 0.0, Accuracy: 0%\n",
      "w1: -0.1, w2: 0.0, t: 0.1, Accuracy: 0%\n",
      "w1: -0.1, w2: 0.1, t: 0.0, Accuracy: 0%\n",
      "w1: 0.0, w2: 0.1, t: -0.1, Accuracy: 0%\n",
      "w1: -0.1, w2: 0.0, t: 0.0, Accuracy: 0%\n",
      "w1: -0.1, w2: 0.0, t: 0.1, Accuracy: 0%\n",
      "w1: -0.1, w2: 0.1, t: 0.0, Accuracy: 0%\n",
      "w1: 0.0, w2: 0.1, t: -0.1, Accuracy: 0%\n",
      "w1: -0.1, w2: 0.0, t: 0.0, Accuracy: 0%\n",
      "w1: -0.1, w2: 0.0, t: 0.1, Accuracy: 0%\n",
      "w1: -0.1, w2: 0.1, t: 0.0, Accuracy: 0%\n",
      "w1: 0.0, w2: 0.1, t: -0.1, Accuracy: 0%\n",
      "w1: -0.1, w2: 0.0, t: 0.0, Accuracy: 0%\n",
      "w1: -0.1, w2: 0.0, t: 0.1, Accuracy: 0%\n",
      "w1: -0.1, w2: 0.1, t: 0.0, Accuracy: 0%\n",
      "w1: 0.0, w2: 0.1, t: -0.1, Accuracy: 0%\n",
      "w1: -0.1, w2: 0.0, t: 0.0, Accuracy: 0%\n",
      "w1: -0.1, w2: 0.0, t: 0.1, Accuracy: 0%\n",
      "w1: -0.1, w2: 0.1, t: 0.0, Accuracy: 0%\n",
      "w1: 0.0, w2: 0.1, t: -0.1, Accuracy: 0%\n",
      "w1: -0.1, w2: 0.0, t: 0.0, Accuracy: 0%\n",
      "w1: -0.1, w2: 0.0, t: 0.1, Accuracy: 0%\n",
      "w1: -0.1, w2: 0.1, t: 0.0, Accuracy: 0%\n",
      "w1: 0.0, w2: 0.1, t: -0.1, Accuracy: 0%\n",
      "w1: -0.1, w2: 0.0, t: 0.0, Accuracy: 0%\n",
      "w1: -0.1, w2: 0.0, t: 0.1, Accuracy: 0%\n",
      "w1: -0.1, w2: 0.1, t: 0.0, Accuracy: 0%\n",
      "w1: 0.0, w2: 0.1, t: -0.1, Accuracy: 0%\n",
      "w1: -0.1, w2: 0.0, t: 0.0, Accuracy: 0%\n",
      "w1: -0.1, w2: 0.0, t: 0.1, Accuracy: 0%\n",
      "w1: -0.1, w2: 0.1, t: 0.0, Accuracy: 0%\n",
      "w1: 0.0, w2: 0.1, t: -0.1, Accuracy: 0%\n",
      "w1: -0.1, w2: 0.0, t: 0.0, Accuracy: 0%\n",
      "w1: -0.1, w2: 0.0, t: 0.1, Accuracy: 0%\n",
      "w1: -0.1, w2: 0.1, t: 0.0, Accuracy: 0%\n",
      "w1: 0.0, w2: 0.1, t: -0.1, Accuracy: 0%\n",
      "w1: -0.1, w2: 0.0, t: 0.0, Accuracy: 0%\n",
      "w1: -0.1, w2: 0.0, t: 0.1, Accuracy: 0%\n",
      "w1: -0.1, w2: 0.1, t: 0.0, Accuracy: 0%\n",
      "w1: 0.0, w2: 0.1, t: -0.1, Accuracy: 0%\n",
      "w1: -0.1, w2: 0.0, t: 0.0, Accuracy: 0%\n",
      "w1: -0.1, w2: 0.0, t: 0.1, Accuracy: 0%\n",
      "w1: -0.1, w2: 0.1, t: 0.0, Accuracy: 0%\n",
      "w1: 0.0, w2: 0.1, t: -0.1, Accuracy: 0%\n",
      "w1: -0.1, w2: 0.0, t: 0.0, Accuracy: 0%\n",
      "w1: -0.1, w2: 0.0, t: 0.1, Accuracy: 0%\n",
      "w1: -0.1, w2: 0.1, t: 0.0, Accuracy: 0%\n",
      "w1: 0.0, w2: 0.1, t: -0.1, Accuracy: 0%\n",
      "w1: -0.1, w2: 0.0, t: 0.0, Accuracy: 0%\n",
      "w1: -0.1, w2: 0.0, t: 0.1, Accuracy: 0%\n",
      "w1: -0.1, w2: 0.1, t: 0.0, Accuracy: 0%\n",
      "w1: 0.0, w2: 0.1, t: -0.1, Accuracy: 0%\n",
      "w1: -0.1, w2: 0.0, t: 0.0, Accuracy: 0%\n",
      "w1: -0.1, w2: 0.0, t: 0.1, Accuracy: 0%\n",
      "w1: -0.1, w2: 0.1, t: 0.0, Accuracy: 0%\n",
      "w1: 0.0, w2: 0.1, t: -0.1, Accuracy: 0%\n",
      "w1: -0.1, w2: 0.0, t: 0.0, Accuracy: 0%\n"
     ]
    }
   ],
   "source": [
    "xor_w1, xor_w2, xor_t = fit_perceptron(df_xor)"
   ]
  },
  {
   "cell_type": "code",
   "execution_count": 182,
   "id": "ef199b56",
   "metadata": {},
   "outputs": [
    {
     "data": {
      "text/plain": [
       "'Test passed'"
      ]
     },
     "execution_count": 182,
     "metadata": {},
     "output_type": "execute_result"
    }
   ],
   "source": [
    "# TEST YOUR SOLUTION\n",
    "'Test passed' if (xor_w1, xor_w2, xor_t) == (None, None, None) else 'Test failed'"
   ]
  },
  {
   "cell_type": "markdown",
   "id": "4c6fd7fc",
   "metadata": {},
   "source": [
    "Unfortunately, the perceptron didn't seem successful this time!\n",
    "\n",
    "The final accuracy (after 100 passes through the data) is still not 100%. It turns out that additional learning doesn't help.\n",
    "\n",
    "In 1969, Marvin Minsky and Seymour Papert proved that perceptrons can't learn such operators. However, that setback is not quite the end of the road for perceptrons.\n",
    "\n",
    "An important feature of boolean operators is that they can be combined. For example, the XOR operator can be built from a combination of the others:\n",
    "\n",
    "$$x_1\\text{ XOR }x_2 = (x_1 \\text{ OR } x_2) \\text{ AND } (x_1 \\text{ NAND } x_2).$$\n",
    "\n",
    "Let's confirm this.\n",
    "\n",
    "**Exercise:** In the below dataframe, fill in the `'OR'` and `'NAND'` columns with respect to feature 1 and feature 2 as inputs. Then, fill in the final `'OR AND NAND'` column based on the filled `'OR'` and `'NAND'` columns."
   ]
  },
  {
   "cell_type": "code",
   "execution_count": 188,
   "id": "19bf4a50",
   "metadata": {},
   "outputs": [
    {
     "data": {
      "text/html": [
       "<div>\n",
       "<style scoped>\n",
       "    .dataframe tbody tr th:only-of-type {\n",
       "        vertical-align: middle;\n",
       "    }\n",
       "\n",
       "    .dataframe tbody tr th {\n",
       "        vertical-align: top;\n",
       "    }\n",
       "\n",
       "    .dataframe thead th {\n",
       "        text-align: right;\n",
       "    }\n",
       "</style>\n",
       "<table border=\"1\" class=\"dataframe\">\n",
       "  <thead>\n",
       "    <tr style=\"text-align: right;\">\n",
       "      <th></th>\n",
       "      <th>feature1</th>\n",
       "      <th>feature2</th>\n",
       "      <th>OR</th>\n",
       "      <th>NAND</th>\n",
       "      <th>OR AND NAND</th>\n",
       "    </tr>\n",
       "  </thead>\n",
       "  <tbody>\n",
       "    <tr>\n",
       "      <th>0</th>\n",
       "      <td>0</td>\n",
       "      <td>0</td>\n",
       "      <td>0</td>\n",
       "      <td>1</td>\n",
       "      <td>0</td>\n",
       "    </tr>\n",
       "    <tr>\n",
       "      <th>1</th>\n",
       "      <td>0</td>\n",
       "      <td>1</td>\n",
       "      <td>1</td>\n",
       "      <td>1</td>\n",
       "      <td>1</td>\n",
       "    </tr>\n",
       "    <tr>\n",
       "      <th>2</th>\n",
       "      <td>1</td>\n",
       "      <td>0</td>\n",
       "      <td>1</td>\n",
       "      <td>1</td>\n",
       "      <td>1</td>\n",
       "    </tr>\n",
       "    <tr>\n",
       "      <th>3</th>\n",
       "      <td>1</td>\n",
       "      <td>1</td>\n",
       "      <td>1</td>\n",
       "      <td>0</td>\n",
       "      <td>0</td>\n",
       "    </tr>\n",
       "  </tbody>\n",
       "</table>\n",
       "</div>"
      ],
      "text/plain": [
       "   feature1  feature2  OR  NAND  OR AND NAND\n",
       "0         0         0   0     1            0\n",
       "1         0         1   1     1            1\n",
       "2         1         0   1     1            1\n",
       "3         1         1   1     0            0"
      ]
     },
     "execution_count": 188,
     "metadata": {},
     "output_type": "execute_result"
    }
   ],
   "source": [
    "df_xor2 = pd.DataFrame({\n",
    "    'feature1':    [0, 0, 1, 1],\n",
    "    'feature2':    [0, 1, 0, 1],\n",
    "    'OR':          [0, 1, 1, 1],\n",
    "    'NAND':        [1, 1, 1, 0],\n",
    "    'OR AND NAND': [0, 1, 1, 0],\n",
    "})\n",
    "df_xor2"
   ]
  },
  {
   "cell_type": "code",
   "execution_count": 189,
   "id": "896f5282",
   "metadata": {},
   "outputs": [
    {
     "data": {
      "text/plain": [
       "'Test passed'"
      ]
     },
     "execution_count": 189,
     "metadata": {},
     "output_type": "execute_result"
    }
   ],
   "source": [
    "# TEST YOUR SOLUTION\n",
    "cond1 = (df_xor2['OR'] == df_or['category']).all()\n",
    "cond2 = (df_xor2['NAND'] == df_nand['category']).all()\n",
    "cond3 = (df_xor2['OR AND NAND'] == df_xor['category']).all()\n",
    "'Test passed' if (cond1 and cond2 and cond3) else 'Test failed'"
   ]
  },
  {
   "cell_type": "markdown",
   "id": "9a45c0a3",
   "metadata": {},
   "source": [
    "While a single perceptron won't do, what the above implies is that we can combine multiple perceptrons together to solve more complex problems. For example, we can combine the perceptrons that have learned AND, OR, and NAND, to implement XOR. This seems perfectly fair to do, since after all, the brain contains billions of neurons, not just one.\n",
    "\n",
    "We can visualize the set of neurons that solves the XOR problem as:\n",
    "\n",
    "<div style=\"text-align:center;\">\n",
    "    <br><br>\n",
    "    <svg width=\"600\" height=\"320\" viewBox=\"0 0 600 300\" transform=\"scale(1.5, 1.5)\">\n",
    "        <!-- Input Layer -->\n",
    "        <text x=\"10\" y=\"100\" font-size=\"12\" fill=\"black\">x₁ (input)</text>\n",
    "        <text x=\"10\" y=\"200\" font-size=\"12\" fill=\"black\">x₂ (input)</text>\n",
    "        <!-- Connections to OR Neuron -->\n",
    "        <line x1=\"70\" y1=\"100\" x2=\"150\" y2=\"80\" stroke=\"black\" stroke-width=\"2\" />\n",
    "        <line x1=\"70\" y1=\"200\" x2=\"150\" y2=\"80\" stroke=\"black\" stroke-width=\"2\" />\n",
    "        <!-- <text x=\"100\" y=\"80\" font-size=\"12\" fill=\"black\">0.1</text> -->\n",
    "        <!-- <text x=\"100\" y=\"180\" font-size=\"12\" fill=\"black\">0.1</text> -->\n",
    "        <!-- Connections to NAND Neuron -->\n",
    "        <line x1=\"70\" y1=\"100\" x2=\"150\" y2=\"220\" stroke=\"black\" stroke-width=\"2\" />\n",
    "        <line x1=\"70\" y1=\"200\" x2=\"150\" y2=\"220\" stroke=\"black\" stroke-width=\"2\" />\n",
    "        <!-- <text x=\"100\" y=\"140\" font-size=\"12\" fill=\"black\">-0.1</text> -->\n",
    "        <!-- <text x=\"100\" y=\"220\" font-size=\"12\" fill=\"black\">-0.1</text> -->\n",
    "        <!-- OR Neuron -->\n",
    "        <circle cx=\"170\" cy=\"80\" r=\"20\" fill=\"white\" stroke=\"black\" stroke-width=\"2\" />\n",
    "        <text x=\"163\" y=\"85\" font-size=\"16\" fill=\"black\">Σ</text>\n",
    "        <line x1=\"190\" y1=\"80\" x2=\"220\" y2=\"80\" stroke=\"black\" stroke-width=\"2\" />\n",
    "        <circle cx=\"240\" cy=\"80\" r=\"20\" fill=\"white\" stroke=\"black\" stroke-width=\"2\" />\n",
    "        <text x=\"235\" y=\"85\" font-size=\"12\" fill=\"black\">φ</text>\n",
    "        <!-- <text x=\"225\" y=\"55\" font-size=\"12\" fill=\"black\">t=0.1</text> -->\n",
    "        <!-- <text x=\"245\" y=\"40\" font-size=\"12\" fill=\"black\">\"OR\"</text> -->\n",
    "        <text x=\"245\" y=\"55\" font-size=\"12\" fill=\"black\">\"OR\"</text>\n",
    "        <!-- NAND Neuron -->\n",
    "        <circle cx=\"170\" cy=\"220\" r=\"20\" fill=\"white\" stroke=\"black\" stroke-width=\"2\" />\n",
    "        <text x=\"163\" y=\"225\" font-size=\"16\" fill=\"black\">Σ</text>\n",
    "        <line x1=\"190\" y1=\"220\" x2=\"220\" y2=\"220\" stroke=\"black\" stroke-width=\"2\" />\n",
    "        <circle cx=\"240\" cy=\"220\" r=\"20\" fill=\"white\" stroke=\"black\" stroke-width=\"2\" />\n",
    "        <text x=\"235\" y=\"225\" font-size=\"12\" fill=\"black\">φ</text>\n",
    "        <!-- <text x=\"225\" y=\"195\" font-size=\"12\" fill=\"black\">t=0.0</text> -->\n",
    "        <!-- <text x=\"245\" y=\"260\" font-size=\"12\" fill=\"black\">\"NAND\"</text> -->\n",
    "        <text x=\"245\" y=\"255\" font-size=\"12\" fill=\"black\">\"NAND\"</text>\n",
    "        <!-- Connections to AND (Output) Neuron -->\n",
    "        <line x1=\"260\" y1=\"80\" x2=\"350\" y2=\"150\" stroke=\"black\" stroke-width=\"2\" />\n",
    "        <line x1=\"260\" y1=\"220\" x2=\"350\" y2=\"150\" stroke=\"black\" stroke-width=\"2\" />\n",
    "        <!-- <text x=\"300\" y=\"100\" font-size=\"12\" fill=\"black\">0.2</text> -->\n",
    "        <!-- <text x=\"300\" y=\"200\" font-size=\"12\" fill=\"black\">0.2</text> -->\n",
    "        <!-- AND (Output) Neuron -->\n",
    "        <circle cx=\"370\" cy=\"150\" r=\"20\" fill=\"white\" stroke=\"black\" stroke-width=\"2\" />\n",
    "        <text x=\"363\" y=\"155\" font-size=\"16\" fill=\"black\">Σ</text>\n",
    "        <line x1=\"390\" y1=\"150\" x2=\"420\" y2=\"150\" stroke=\"black\" stroke-width=\"2\" />\n",
    "        <circle cx=\"440\" cy=\"150\" r=\"20\" fill=\"white\" stroke=\"black\" stroke-width=\"2\" />\n",
    "        <text x=\"435\" y=\"155\" font-size=\"12\" fill=\"black\">φ</text>\n",
    "        <!-- <text x=\"425\" y=\"125\" font-size=\"12\" fill=\"black\">t=0.3</text> -->\n",
    "        <text x=\"445\" y=\"190\" font-size=\"12\" fill=\"black\">\"AND\"</text>\n",
    "        <!-- Output -->\n",
    "        <line x1=\"460\" y1=\"150\" x2=\"500\" y2=\"150\" stroke=\"black\" stroke-width=\"2\" />\n",
    "        <text x=\"510\" y=\"155\" font-size=\"12\" fill=\"black\">XOR Output</text>\n",
    "    </svg>\n",
    "</div>\n",
    "\n",
    "In this new multi-neuron model, we can see that two neurons take in the same two feature inputs, but each processes those inputs in a different way. The first neuron outputs as an OR operator, and the second as a NAND operator. These two neurons form what is called a **layer**, since they both process the same input.\n",
    "\n",
    "The output of these two neurons is then fed into a final third neuron at a second layer, which processes previous outputs as inputs to an AND operator. The output of this configuration of neurons is the output of the XOR operator (with respect to the original inputs).\n",
    "\n",
    "Models that employ a network of multiple neurons are called **artificial neural networks**. Networks like the one above more closely resemble the connected multi-neuron structure originally observed by Golgi.\n",
    "\n",
    "The neural network shown above has three different layers: an **input** layer (the set of inputs to the model), a **hidden layer** (any layer that is not the input layer or final layer), and a final **output** layer (providing final outputs as opposed to intermediate activations).\n",
    "\n",
    "As we will see in a future class, networks such as these, with at least one hidden layer, are extremely general and powerful learning models that have been employed both to model many aspects of cognition as well as many practical engineering problems that also require learning."
   ]
  }
 ],
 "metadata": {
  "kernelspec": {
   "display_name": ".venv",
   "language": "python",
   "name": "python3"
  },
  "language_info": {
   "codemirror_mode": {
    "name": "ipython",
    "version": 3
   },
   "file_extension": ".py",
   "mimetype": "text/x-python",
   "name": "python",
   "nbconvert_exporter": "python",
   "pygments_lexer": "ipython3",
   "version": "3.12.6"
  }
 },
 "nbformat": 4,
 "nbformat_minor": 5
}
