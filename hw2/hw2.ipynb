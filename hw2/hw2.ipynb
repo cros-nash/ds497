{
 "cells": [
  {
   "cell_type": "code",
   "execution_count": 2,
   "metadata": {},
   "outputs": [],
   "source": [
    "# You must run this cell before starting your assignment\n",
    "\n",
    "!pip install -q otter-grader\n",
    "\n",
    "import otter\n",
    "grader = otter.Notebook(\"hw2.ipynb\")\n",
    "\n",
    "import numpy as np\n",
    "import pandas as pd\n",
    "import matplotlib.pyplot as plt"
   ]
  },
  {
   "cell_type": "markdown",
   "metadata": {},
   "source": [
    "### Homework 2\n",
    "#### Part 1: Ebbinghaus"
   ]
  },
  {
   "cell_type": "markdown",
   "metadata": {},
   "source": [
    "In class we discussed Hermann Ebbinghaus' famous experiment that investigated core characteristics of human memory (i.e., forgetting) in the 1880s. \n",
    "\n",
    "Ebbinghaus' raw forgetting data is not available beyond what is summarized in figures in the original work, but several researchers have since replicated his findings. For example, in 2015, Jaap Murre and Joeri Dros provided one of the most faithful and detailed replications. The study involved one subject who spent 70 hours learning and relearning lists of nonsense syllables at various intervals ranging from 20 minutes to 31 days.\n",
    "\n",
    "The replication paper can be found at the link below. Please **read the paper** up through the section \"Relearning phase\" and before \"Results\".\n",
    "\n",
    "https://pmc.ncbi.nlm.nih.gov/articles/PMC4492928/\n",
    "\n"
   ]
  },
  {
   "cell_type": "markdown",
   "metadata": {},
   "source": [
    "**Stimuli**\n",
    "\n",
    "In the experiment, subjects memorized \"lists\" of syllables, each \"list\" being 8 rows of 13 syllables.\n",
    "\n",
    "Below is an example of a single \"list\"."
   ]
  },
  {
   "cell_type": "code",
   "execution_count": 3,
   "metadata": {},
   "outputs": [
    {
     "data": {
      "text/html": [
       "<div>\n",
       "<style scoped>\n",
       "    .dataframe tbody tr th:only-of-type {\n",
       "        vertical-align: middle;\n",
       "    }\n",
       "\n",
       "    .dataframe tbody tr th {\n",
       "        vertical-align: top;\n",
       "    }\n",
       "\n",
       "    .dataframe thead th {\n",
       "        text-align: right;\n",
       "    }\n",
       "</style>\n",
       "<table border=\"1\" class=\"dataframe\">\n",
       "  <thead>\n",
       "    <tr style=\"text-align: right;\">\n",
       "      <th></th>\n",
       "      <th>0</th>\n",
       "      <th>1</th>\n",
       "      <th>2</th>\n",
       "      <th>3</th>\n",
       "      <th>4</th>\n",
       "      <th>5</th>\n",
       "      <th>6</th>\n",
       "      <th>7</th>\n",
       "      <th>8</th>\n",
       "      <th>9</th>\n",
       "      <th>10</th>\n",
       "      <th>11</th>\n",
       "      <th>12</th>\n",
       "    </tr>\n",
       "  </thead>\n",
       "  <tbody>\n",
       "    <tr>\n",
       "      <th>0</th>\n",
       "      <td>jor</td>\n",
       "      <td>bap</td>\n",
       "      <td>paap</td>\n",
       "      <td>toef</td>\n",
       "      <td>beis</td>\n",
       "      <td>kaan</td>\n",
       "      <td>seil</td>\n",
       "      <td>teek</td>\n",
       "      <td>leum</td>\n",
       "      <td>geim</td>\n",
       "      <td>bul</td>\n",
       "      <td>wil</td>\n",
       "      <td>juut</td>\n",
       "    </tr>\n",
       "    <tr>\n",
       "      <th>1</th>\n",
       "      <td>nom</td>\n",
       "      <td>doot</td>\n",
       "      <td>pam</td>\n",
       "      <td>jet</td>\n",
       "      <td>lool</td>\n",
       "      <td>jeit</td>\n",
       "      <td>soet</td>\n",
       "      <td>jof</td>\n",
       "      <td>tan</td>\n",
       "      <td>hies</td>\n",
       "      <td>pel</td>\n",
       "      <td>toos</td>\n",
       "      <td>lein</td>\n",
       "    </tr>\n",
       "    <tr>\n",
       "      <th>2</th>\n",
       "      <td>kien</td>\n",
       "      <td>fiel</td>\n",
       "      <td>sep</td>\n",
       "      <td>joef</td>\n",
       "      <td>bik</td>\n",
       "      <td>raaf</td>\n",
       "      <td>kis</td>\n",
       "      <td>jaat</td>\n",
       "      <td>huuk</td>\n",
       "      <td>pef</td>\n",
       "      <td>duuf</td>\n",
       "      <td>feip</td>\n",
       "      <td>jaat</td>\n",
       "    </tr>\n",
       "    <tr>\n",
       "      <th>3</th>\n",
       "      <td>book</td>\n",
       "      <td>nuuf</td>\n",
       "      <td>gop</td>\n",
       "      <td>paat</td>\n",
       "      <td>hoof</td>\n",
       "      <td>fuuk</td>\n",
       "      <td>bet</td>\n",
       "      <td>rul</td>\n",
       "      <td>koem</td>\n",
       "      <td>jim</td>\n",
       "      <td>ber</td>\n",
       "      <td>set</td>\n",
       "      <td>laaf</td>\n",
       "    </tr>\n",
       "    <tr>\n",
       "      <th>4</th>\n",
       "      <td>ret</td>\n",
       "      <td>jees</td>\n",
       "      <td>war</td>\n",
       "      <td>got</td>\n",
       "      <td>ral</td>\n",
       "      <td>guul</td>\n",
       "      <td>toef</td>\n",
       "      <td>jeuk</td>\n",
       "      <td>feen</td>\n",
       "      <td>kol</td>\n",
       "      <td>leut</td>\n",
       "      <td>fen</td>\n",
       "      <td>woer</td>\n",
       "    </tr>\n",
       "    <tr>\n",
       "      <th>5</th>\n",
       "      <td>tap</td>\n",
       "      <td>wies</td>\n",
       "      <td>bees</td>\n",
       "      <td>lem</td>\n",
       "      <td>loen</td>\n",
       "      <td>huum</td>\n",
       "      <td>pir</td>\n",
       "      <td>sar</td>\n",
       "      <td>lum</td>\n",
       "      <td>lor</td>\n",
       "      <td>woos</td>\n",
       "      <td>reil</td>\n",
       "      <td>tet</td>\n",
       "    </tr>\n",
       "    <tr>\n",
       "      <th>6</th>\n",
       "      <td>joep</td>\n",
       "      <td>nip</td>\n",
       "      <td>weif</td>\n",
       "      <td>rip</td>\n",
       "      <td>naaf</td>\n",
       "      <td>kaam</td>\n",
       "      <td>reur</td>\n",
       "      <td>heim</td>\n",
       "      <td>toel</td>\n",
       "      <td>dis</td>\n",
       "      <td>jur</td>\n",
       "      <td>keen</td>\n",
       "      <td>weun</td>\n",
       "    </tr>\n",
       "    <tr>\n",
       "      <th>7</th>\n",
       "      <td>moek</td>\n",
       "      <td>gies</td>\n",
       "      <td>woor</td>\n",
       "      <td>seir</td>\n",
       "      <td>tiem</td>\n",
       "      <td>nin</td>\n",
       "      <td>dook</td>\n",
       "      <td>niep</td>\n",
       "      <td>peef</td>\n",
       "      <td>wak</td>\n",
       "      <td>sek</td>\n",
       "      <td>ben</td>\n",
       "      <td>mem</td>\n",
       "    </tr>\n",
       "  </tbody>\n",
       "</table>\n",
       "</div>"
      ],
      "text/plain": [
       "     0     1     2     3     4     5     6     7     8     9     10    11  \\\n",
       "0   jor   bap  paap  toef  beis  kaan  seil  teek  leum  geim   bul   wil   \n",
       "1   nom  doot   pam   jet  lool  jeit  soet   jof   tan  hies   pel  toos   \n",
       "2  kien  fiel   sep  joef   bik  raaf   kis  jaat  huuk   pef  duuf  feip   \n",
       "3  book  nuuf   gop  paat  hoof  fuuk   bet   rul  koem   jim   ber   set   \n",
       "4   ret  jees   war   got   ral  guul  toef  jeuk  feen   kol  leut   fen   \n",
       "5   tap  wies  bees   lem  loen  huum   pir   sar   lum   lor  woos  reil   \n",
       "6  joep   nip  weif   rip  naaf  kaam  reur  heim  toel   dis   jur  keen   \n",
       "7  moek  gies  woor  seir  tiem   nin  dook  niep  peef   wak   sek   ben   \n",
       "\n",
       "     12  \n",
       "0  juut  \n",
       "1  lein  \n",
       "2  jaat  \n",
       "3  laaf  \n",
       "4  woer  \n",
       "5   tet  \n",
       "6  weun  \n",
       "7   mem  "
      ]
     },
     "execution_count": 3,
     "metadata": {},
     "output_type": "execute_result"
    }
   ],
   "source": [
    "syllables = pd.read_csv('syllables.csv', header=None).T\n",
    "syllables"
   ]
  },
  {
   "cell_type": "markdown",
   "metadata": {
    "deletable": false,
    "editable": false
   },
   "source": [
    "**Question 1**\n",
    "\n",
    "Below is a single row of a list that the participant had to memorize.\n",
    "\n",
    "Follow the procedure (approximately) from the paper to memorize this single list. In order to keep track of your repetitions, hit the 1 key on your keyboard in the next cell every time you finish reading through the list. Once you get a strong feeling that you have memorized the entire list, try to recite it with your eyes closed. There's nobody to check correctness for you in this exercise, but you should at least know when you stop part way through and can't finish without more practice.\n",
    "\n",
    "When you are done, count up the 1s in the next cell and assign the total to a variable (integer) called `repetitions`."
   ]
  },
  {
   "cell_type": "code",
   "execution_count": 4,
   "metadata": {
    "deletable": false,
    "editable": false
   },
   "outputs": [
    {
     "data": {
      "text/html": [
       "<div>\n",
       "<style scoped>\n",
       "    .dataframe tbody tr th:only-of-type {\n",
       "        vertical-align: middle;\n",
       "    }\n",
       "\n",
       "    .dataframe tbody tr th {\n",
       "        vertical-align: top;\n",
       "    }\n",
       "\n",
       "    .dataframe thead th {\n",
       "        text-align: right;\n",
       "    }\n",
       "</style>\n",
       "<table border=\"1\" class=\"dataframe\">\n",
       "  <thead>\n",
       "    <tr style=\"text-align: right;\">\n",
       "      <th></th>\n",
       "      <th>0</th>\n",
       "      <th>1</th>\n",
       "      <th>2</th>\n",
       "      <th>3</th>\n",
       "      <th>4</th>\n",
       "      <th>5</th>\n",
       "      <th>6</th>\n",
       "      <th>7</th>\n",
       "      <th>8</th>\n",
       "      <th>9</th>\n",
       "      <th>10</th>\n",
       "      <th>11</th>\n",
       "      <th>12</th>\n",
       "    </tr>\n",
       "  </thead>\n",
       "  <tbody>\n",
       "    <tr>\n",
       "      <th>0</th>\n",
       "      <td>jor</td>\n",
       "      <td>bap</td>\n",
       "      <td>paap</td>\n",
       "      <td>toef</td>\n",
       "      <td>beis</td>\n",
       "      <td>kaan</td>\n",
       "      <td>seil</td>\n",
       "      <td>teek</td>\n",
       "      <td>leum</td>\n",
       "      <td>geim</td>\n",
       "      <td>bul</td>\n",
       "      <td>wil</td>\n",
       "      <td>juut</td>\n",
       "    </tr>\n",
       "  </tbody>\n",
       "</table>\n",
       "</div>"
      ],
      "text/plain": [
       "    0    1     2     3     4     5     6     7     8     9    10   11    12\n",
       "0  jor  bap  paap  toef  beis  kaan  seil  teek  leum  geim  bul  wil  juut"
      ]
     },
     "execution_count": 4,
     "metadata": {},
     "output_type": "execute_result"
    }
   ],
   "source": [
    "syllables[0:1]"
   ]
  },
  {
   "cell_type": "code",
   "execution_count": 5,
   "metadata": {
    "tags": [
     "otter_answer_cell"
    ]
   },
   "outputs": [],
   "source": [
    "# start 1s one this comment line: 1111111111 \n",
    "\n",
    "repetitions = 10"
   ]
  },
  {
   "cell_type": "code",
   "execution_count": 6,
   "metadata": {
    "deletable": false,
    "editable": false
   },
   "outputs": [
    {
     "data": {
      "text/html": [
       "<p><strong><pre style='display: inline;'>q1</pre></strong> passed! 🙌</p>"
      ],
      "text/plain": [
       "q1 results: All test cases passed!"
      ]
     },
     "execution_count": 6,
     "metadata": {},
     "output_type": "execute_result"
    }
   ],
   "source": [
    "grader.check(\"q1\")"
   ]
  },
  {
   "cell_type": "markdown",
   "metadata": {},
   "source": [
    "Now let's load in the behavioral data in the following cell.\n",
    "\n",
    "A description of the columns is as follows:\n",
    "- `list` - number of the list being learned (10 unique for each interval)\n",
    "- `interval` - time between learning and relearning in hours\n",
    "- `rep_learn` - number of repetitions needed to learn the list\n",
    "- `rep_relearn` - number of repetitions needed to relearn the list\n",
    "- `sec_learn` - time in seconds needed to learn the list\n",
    "- `sec_relearn` - time in seconds needed to relearn the list"
   ]
  },
  {
   "cell_type": "code",
   "execution_count": 7,
   "metadata": {},
   "outputs": [
    {
     "data": {
      "text/html": [
       "<div>\n",
       "<style scoped>\n",
       "    .dataframe tbody tr th:only-of-type {\n",
       "        vertical-align: middle;\n",
       "    }\n",
       "\n",
       "    .dataframe tbody tr th {\n",
       "        vertical-align: top;\n",
       "    }\n",
       "\n",
       "    .dataframe thead th {\n",
       "        text-align: right;\n",
       "    }\n",
       "</style>\n",
       "<table border=\"1\" class=\"dataframe\">\n",
       "  <thead>\n",
       "    <tr style=\"text-align: right;\">\n",
       "      <th></th>\n",
       "      <th>list</th>\n",
       "      <th>interval</th>\n",
       "      <th>rep_learn</th>\n",
       "      <th>rep_relearn</th>\n",
       "      <th>sec_learn</th>\n",
       "      <th>sec_relearn</th>\n",
       "    </tr>\n",
       "  </thead>\n",
       "  <tbody>\n",
       "    <tr>\n",
       "      <th>0</th>\n",
       "      <td>1</td>\n",
       "      <td>0.333333</td>\n",
       "      <td>24.750000</td>\n",
       "      <td>11.875000</td>\n",
       "      <td>1405.0</td>\n",
       "      <td>670.0</td>\n",
       "    </tr>\n",
       "    <tr>\n",
       "      <th>1</th>\n",
       "      <td>1</td>\n",
       "      <td>1.000000</td>\n",
       "      <td>28.125000</td>\n",
       "      <td>17.125000</td>\n",
       "      <td>1690.0</td>\n",
       "      <td>1280.0</td>\n",
       "    </tr>\n",
       "    <tr>\n",
       "      <th>2</th>\n",
       "      <td>1</td>\n",
       "      <td>9.000000</td>\n",
       "      <td>28.125000</td>\n",
       "      <td>19.000000</td>\n",
       "      <td>1815.0</td>\n",
       "      <td>1240.0</td>\n",
       "    </tr>\n",
       "    <tr>\n",
       "      <th>3</th>\n",
       "      <td>1</td>\n",
       "      <td>24.000000</td>\n",
       "      <td>27.500000</td>\n",
       "      <td>16.375000</td>\n",
       "      <td>1670.0</td>\n",
       "      <td>1105.0</td>\n",
       "    </tr>\n",
       "    <tr>\n",
       "      <th>4</th>\n",
       "      <td>1</td>\n",
       "      <td>48.000000</td>\n",
       "      <td>27.375000</td>\n",
       "      <td>18.875000</td>\n",
       "      <td>1710.0</td>\n",
       "      <td>1195.0</td>\n",
       "    </tr>\n",
       "    <tr>\n",
       "      <th>...</th>\n",
       "      <td>...</td>\n",
       "      <td>...</td>\n",
       "      <td>...</td>\n",
       "      <td>...</td>\n",
       "      <td>...</td>\n",
       "      <td>...</td>\n",
       "    </tr>\n",
       "    <tr>\n",
       "      <th>64</th>\n",
       "      <td>10</td>\n",
       "      <td>1.000000</td>\n",
       "      <td>34.250000</td>\n",
       "      <td>22.250000</td>\n",
       "      <td>2065.0</td>\n",
       "      <td>1325.0</td>\n",
       "    </tr>\n",
       "    <tr>\n",
       "      <th>65</th>\n",
       "      <td>10</td>\n",
       "      <td>24.000000</td>\n",
       "      <td>33.625000</td>\n",
       "      <td>21.875000</td>\n",
       "      <td>1980.0</td>\n",
       "      <td>1275.0</td>\n",
       "    </tr>\n",
       "    <tr>\n",
       "      <th>66</th>\n",
       "      <td>10</td>\n",
       "      <td>48.000000</td>\n",
       "      <td>29.125000</td>\n",
       "      <td>23.875000</td>\n",
       "      <td>1695.0</td>\n",
       "      <td>1375.0</td>\n",
       "    </tr>\n",
       "    <tr>\n",
       "      <th>67</th>\n",
       "      <td>10</td>\n",
       "      <td>144.000000</td>\n",
       "      <td>32.250000</td>\n",
       "      <td>21.750000</td>\n",
       "      <td>1890.0</td>\n",
       "      <td>1275.0</td>\n",
       "    </tr>\n",
       "    <tr>\n",
       "      <th>68</th>\n",
       "      <td>10</td>\n",
       "      <td>744.000000</td>\n",
       "      <td>28.857143</td>\n",
       "      <td>26.571429</td>\n",
       "      <td>1710.0</td>\n",
       "      <td>1395.0</td>\n",
       "    </tr>\n",
       "  </tbody>\n",
       "</table>\n",
       "<p>69 rows × 6 columns</p>\n",
       "</div>"
      ],
      "text/plain": [
       "    list    interval  rep_learn  rep_relearn  sec_learn  sec_relearn\n",
       "0      1    0.333333  24.750000    11.875000     1405.0        670.0\n",
       "1      1    1.000000  28.125000    17.125000     1690.0       1280.0\n",
       "2      1    9.000000  28.125000    19.000000     1815.0       1240.0\n",
       "3      1   24.000000  27.500000    16.375000     1670.0       1105.0\n",
       "4      1   48.000000  27.375000    18.875000     1710.0       1195.0\n",
       "..   ...         ...        ...          ...        ...          ...\n",
       "64    10    1.000000  34.250000    22.250000     2065.0       1325.0\n",
       "65    10   24.000000  33.625000    21.875000     1980.0       1275.0\n",
       "66    10   48.000000  29.125000    23.875000     1695.0       1375.0\n",
       "67    10  144.000000  32.250000    21.750000     1890.0       1275.0\n",
       "68    10  744.000000  28.857143    26.571429     1710.0       1395.0\n",
       "\n",
       "[69 rows x 6 columns]"
      ]
     },
     "execution_count": 7,
     "metadata": {},
     "output_type": "execute_result"
    }
   ],
   "source": [
    "# load the data\n",
    "df = pd.read_csv('data.csv')\n",
    "\n",
    "# process the raw data a bit\n",
    "df = df.pivot_table(\n",
    "    index=[\"list\", \"interval\"], \n",
    "    columns=\"phase\", \n",
    "    values=[\"repetitions\", \"seconds\"],\n",
    "    aggfunc=\"first\"\n",
    ")\n",
    "df.columns = [\"rep_learn\", \"rep_relearn\", \"sec_learn\", \"sec_relearn\"]\n",
    "df.reset_index(inplace=True)\n",
    "df"
   ]
  },
  {
   "cell_type": "markdown",
   "metadata": {
    "deletable": false,
    "editable": false
   },
   "source": [
    "**Question 2**\n",
    "\n",
    "Based on the data in the `rep_learn`, assign to a float variable called `most_difficult` the value from rep_learn corresponding to the list that was the most difficult to learn."
   ]
  },
  {
   "cell_type": "code",
   "execution_count": 8,
   "metadata": {
    "tags": [
     "otter_answer_cell"
    ]
   },
   "outputs": [
    {
     "name": "stdout",
     "output_type": "stream",
     "text": [
      "36.0\n"
     ]
    }
   ],
   "source": [
    "most_difficult = df['rep_learn'].max()"
   ]
  },
  {
   "cell_type": "code",
   "execution_count": 9,
   "metadata": {
    "deletable": false,
    "editable": false
   },
   "outputs": [
    {
     "data": {
      "text/html": [
       "<p><strong><pre style='display: inline;'>q2</pre></strong> passed! 🎉</p>"
      ],
      "text/plain": [
       "q2 results: All test cases passed!"
      ]
     },
     "execution_count": 9,
     "metadata": {},
     "output_type": "execute_result"
    }
   ],
   "source": [
    "grader.check(\"q2\")"
   ]
  },
  {
   "cell_type": "markdown",
   "metadata": {
    "deletable": false,
    "editable": false
   },
   "source": [
    "**Question 3**\n",
    "\n",
    "Assign a python list variable called `ind_vars` to a list of one or more independent variables used in the study. Assign another python list variable called `dep_vars` to a list of one or more dependent variables used in the study. Use the string names of columns in the data to identify a particular variable. Each variable should be a list of strings."
   ]
  },
  {
   "cell_type": "code",
   "execution_count": null,
   "metadata": {
    "tags": [
     "otter_answer_cell"
    ]
   },
   "outputs": [],
   "source": [
    "ind_vars = [\"interval\"]\n",
    "dep_vars = [\"rep_learn\", \"rep_relearn\", \"sec_learn\", \"sec_relearn\"]"
   ]
  },
  {
   "cell_type": "code",
   "execution_count": 11,
   "metadata": {
    "deletable": false,
    "editable": false
   },
   "outputs": [
    {
     "data": {
      "text/html": [
       "<p><strong><pre style='display: inline;'>q3</pre></strong> passed! 🎉</p>"
      ],
      "text/plain": [
       "q3 results: All test cases passed!"
      ]
     },
     "execution_count": 11,
     "metadata": {},
     "output_type": "execute_result"
    }
   ],
   "source": [
    "grader.check(\"q3\")"
   ]
  },
  {
   "cell_type": "markdown",
   "metadata": {
    "deletable": false,
    "editable": false
   },
   "source": [
    "**Question 4**\n",
    "\n",
    "Create a scatter plot of `rep_relearn` and `sec_relearn`. Based on your interpretation of the plot and class lecture, assign `answer4` to a string with the letter (`'a'`, `'b'`, or `'c'`) corresponding to one of the following options:\n",
    "\n",
    "- A. The two cannot possibly provide an operational definition of the same psychological variable.\n",
    "- B. `rep_relearn` is an obviously better operational definition of the psychological variable of interest.\n",
    "- C. Both can act as equally good operational definitions of the same psychological variable."
   ]
  },
  {
   "cell_type": "code",
   "execution_count": null,
   "metadata": {
    "tags": [
     "otter_answer_cell"
    ]
   },
   "outputs": [
    {
     "data": {
      "image/png": "[encoded data removed]",
      "text/plain": [
       "<Figure size 640x480 with 1 Axes>"
      ]
     },
     "metadata": {},
     "output_type": "display_data"
    }
   ],
   "source": [
    "# Your plotting code here:\n",
    "df.plot.scatter(x=\"rep_relearn\",\n",
    "                 y=\"sec_relearn\")\n",
    "\n",
    "answer4 = \"c\""
   ]
  },
  {
   "cell_type": "code",
   "execution_count": 13,
   "metadata": {
    "deletable": false,
    "editable": false
   },
   "outputs": [
    {
     "data": {
      "text/html": [
       "<p><strong><pre style='display: inline;'>q4</pre></strong> passed! 🍀</p>"
      ],
      "text/plain": [
       "q4 results: All test cases passed!"
      ]
     },
     "execution_count": 13,
     "metadata": {},
     "output_type": "execute_result"
    }
   ],
   "source": [
    "grader.check(\"q4\")"
   ]
  },
  {
   "cell_type": "markdown",
   "metadata": {
    "deletable": false,
    "editable": false
   },
   "source": [
    "**Question:**\n",
    "\n",
    "As mentioned in the paper linked above, Ebbinghaus was interested in measuring a quantity called **savings**, which represents an amount of retained knowledge.\n",
    "\n",
    "Create a function call `savings` using the template code below that calculates savings for a given single list and single interval. The function should return a single float. Refer to the paper for how savings should be calculated. It should be expressed as a proportion."
   ]
  },
  {
   "cell_type": "code",
   "execution_count": 14,
   "metadata": {
    "tags": [
     "otter_answer_cell"
    ]
   },
   "outputs": [
    {
     "data": {
      "text/plain": [
       "np.float64(0.40454545454545454)"
      ]
     },
     "execution_count": 14,
     "metadata": {},
     "output_type": "execute_result"
    }
   ],
   "source": [
    "# Complete the function:\n",
    "\n",
    "def savings(df, list_num, interval): # don't change this line!\n",
    "    row = df[(df[\"list\"] == list_num) & (df[\"interval\"] == interval)]\n",
    "    rep_learn = row.iloc[0][\"rep_learn\"]\n",
    "    rep_relearn = row.iloc[0][\"rep_relearn\"]\n",
    "    return (rep_learn - rep_relearn) / rep_learn\n",
    "\n",
    "# Test it:\n",
    "savings(df, 1, 24)"
   ]
  },
  {
   "cell_type": "code",
   "execution_count": 15,
   "metadata": {
    "deletable": false,
    "editable": false
   },
   "outputs": [
    {
     "data": {
      "text/html": [
       "<p><strong><pre style='display: inline;'>q5</pre></strong> passed! 🎉</p>"
      ],
      "text/plain": [
       "q5 results: All test cases passed!"
      ]
     },
     "execution_count": 15,
     "metadata": {},
     "output_type": "execute_result"
    }
   ],
   "source": [
    "grader.check(\"q5\")"
   ]
  },
  {
   "cell_type": "markdown",
   "metadata": {
    "deletable": false,
    "editable": false
   },
   "source": [
    "**Question 6**\n",
    "\n",
    "In the end, we are most interested in the overall effect of interval length on retention across all (stimuli) lists. Create a new dataframe called `df_avg` with averages of each behavioral measure by interval (i.e., averaged across lists). The column names should not change, and there should be a total of 5 columns."
   ]
  },
  {
   "cell_type": "code",
   "execution_count": 16,
   "metadata": {
    "tags": [
     "otter_answer_cell"
    ]
   },
   "outputs": [
    {
     "data": {
      "text/html": [
       "<div>\n",
       "<style scoped>\n",
       "    .dataframe tbody tr th:only-of-type {\n",
       "        vertical-align: middle;\n",
       "    }\n",
       "\n",
       "    .dataframe tbody tr th {\n",
       "        vertical-align: top;\n",
       "    }\n",
       "\n",
       "    .dataframe thead th {\n",
       "        text-align: right;\n",
       "    }\n",
       "</style>\n",
       "<table border=\"1\" class=\"dataframe\">\n",
       "  <thead>\n",
       "    <tr style=\"text-align: right;\">\n",
       "      <th></th>\n",
       "      <th>interval</th>\n",
       "      <th>rep_learn</th>\n",
       "      <th>rep_relearn</th>\n",
       "      <th>sec_learn</th>\n",
       "      <th>sec_relearn</th>\n",
       "    </tr>\n",
       "  </thead>\n",
       "  <tbody>\n",
       "    <tr>\n",
       "      <th>0</th>\n",
       "      <td>0.333333</td>\n",
       "      <td>30.767857</td>\n",
       "      <td>16.255357</td>\n",
       "      <td>1840.000000</td>\n",
       "      <td>1065.500000</td>\n",
       "    </tr>\n",
       "    <tr>\n",
       "      <th>1</th>\n",
       "      <td>1.000000</td>\n",
       "      <td>30.637500</td>\n",
       "      <td>19.212500</td>\n",
       "      <td>1842.000000</td>\n",
       "      <td>1224.500000</td>\n",
       "    </tr>\n",
       "    <tr>\n",
       "      <th>2</th>\n",
       "      <td>9.000000</td>\n",
       "      <td>31.068122</td>\n",
       "      <td>22.479497</td>\n",
       "      <td>1785.555556</td>\n",
       "      <td>1301.111111</td>\n",
       "    </tr>\n",
       "    <tr>\n",
       "      <th>3</th>\n",
       "      <td>24.000000</td>\n",
       "      <td>31.212500</td>\n",
       "      <td>21.325000</td>\n",
       "      <td>1860.500000</td>\n",
       "      <td>1275.000000</td>\n",
       "    </tr>\n",
       "    <tr>\n",
       "      <th>4</th>\n",
       "      <td>48.000000</td>\n",
       "      <td>31.412500</td>\n",
       "      <td>24.187500</td>\n",
       "      <td>1860.000000</td>\n",
       "      <td>1415.000000</td>\n",
       "    </tr>\n",
       "    <tr>\n",
       "      <th>5</th>\n",
       "      <td>144.000000</td>\n",
       "      <td>31.212500</td>\n",
       "      <td>25.962500</td>\n",
       "      <td>1883.000000</td>\n",
       "      <td>1535.500000</td>\n",
       "    </tr>\n",
       "    <tr>\n",
       "      <th>6</th>\n",
       "      <td>744.000000</td>\n",
       "      <td>29.385119</td>\n",
       "      <td>28.229167</td>\n",
       "      <td>1683.500000</td>\n",
       "      <td>1532.000000</td>\n",
       "    </tr>\n",
       "  </tbody>\n",
       "</table>\n",
       "</div>"
      ],
      "text/plain": [
       "     interval  rep_learn  rep_relearn    sec_learn  sec_relearn\n",
       "0    0.333333  30.767857    16.255357  1840.000000  1065.500000\n",
       "1    1.000000  30.637500    19.212500  1842.000000  1224.500000\n",
       "2    9.000000  31.068122    22.479497  1785.555556  1301.111111\n",
       "3   24.000000  31.212500    21.325000  1860.500000  1275.000000\n",
       "4   48.000000  31.412500    24.187500  1860.000000  1415.000000\n",
       "5  144.000000  31.212500    25.962500  1883.000000  1535.500000\n",
       "6  744.000000  29.385119    28.229167  1683.500000  1532.000000"
      ]
     },
     "execution_count": 16,
     "metadata": {},
     "output_type": "execute_result"
    }
   ],
   "source": [
    "# Your code here:\n",
    "\n",
    "df_avg = df.groupby(\"interval\")[[\"rep_learn\", \"rep_relearn\", \"sec_learn\", \"sec_relearn\"]].mean()\n",
    "\n",
    "# do not change this code or write code after it!\n",
    "df_avg.reset_index(inplace=True)\n",
    "df_avg.sort_values('interval', inplace=True)\n",
    "df_avg"
   ]
  },
  {
   "cell_type": "code",
   "execution_count": 17,
   "metadata": {
    "deletable": false,
    "editable": false
   },
   "outputs": [
    {
     "data": {
      "text/html": [
       "<p><strong><pre style='display: inline;'>q6</pre></strong> passed! 🌈</p>"
      ],
      "text/plain": [
       "q6 results: All test cases passed!"
      ]
     },
     "execution_count": 17,
     "metadata": {},
     "output_type": "execute_result"
    }
   ],
   "source": [
    "grader.check(\"q6\")"
   ]
  },
  {
   "cell_type": "markdown",
   "metadata": {
    "deletable": false,
    "editable": false
   },
   "source": [
    "**Question 7.** \n",
    "\n",
    "Add two columns to `df_avg` called `rep_savings` and `sec_savings` that contain the savings for repetitions and seconds, respectively."
   ]
  },
  {
   "cell_type": "code",
   "execution_count": 18,
   "metadata": {
    "tags": [
     "otter_answer_cell"
    ]
   },
   "outputs": [
    {
     "data": {
      "text/html": [
       "<div>\n",
       "<style scoped>\n",
       "    .dataframe tbody tr th:only-of-type {\n",
       "        vertical-align: middle;\n",
       "    }\n",
       "\n",
       "    .dataframe tbody tr th {\n",
       "        vertical-align: top;\n",
       "    }\n",
       "\n",
       "    .dataframe thead th {\n",
       "        text-align: right;\n",
       "    }\n",
       "</style>\n",
       "<table border=\"1\" class=\"dataframe\">\n",
       "  <thead>\n",
       "    <tr style=\"text-align: right;\">\n",
       "      <th></th>\n",
       "      <th>interval</th>\n",
       "      <th>rep_learn</th>\n",
       "      <th>rep_relearn</th>\n",
       "      <th>sec_learn</th>\n",
       "      <th>sec_relearn</th>\n",
       "      <th>rep_savings</th>\n",
       "      <th>sec_savings</th>\n",
       "    </tr>\n",
       "  </thead>\n",
       "  <tbody>\n",
       "    <tr>\n",
       "      <th>0</th>\n",
       "      <td>0.333333</td>\n",
       "      <td>30.767857</td>\n",
       "      <td>16.255357</td>\n",
       "      <td>1840.000000</td>\n",
       "      <td>1065.500000</td>\n",
       "      <td>0.471677</td>\n",
       "      <td>0.420924</td>\n",
       "    </tr>\n",
       "    <tr>\n",
       "      <th>1</th>\n",
       "      <td>1.000000</td>\n",
       "      <td>30.637500</td>\n",
       "      <td>19.212500</td>\n",
       "      <td>1842.000000</td>\n",
       "      <td>1224.500000</td>\n",
       "      <td>0.372909</td>\n",
       "      <td>0.335233</td>\n",
       "    </tr>\n",
       "    <tr>\n",
       "      <th>2</th>\n",
       "      <td>9.000000</td>\n",
       "      <td>31.068122</td>\n",
       "      <td>22.479497</td>\n",
       "      <td>1785.555556</td>\n",
       "      <td>1301.111111</td>\n",
       "      <td>0.276445</td>\n",
       "      <td>0.271313</td>\n",
       "    </tr>\n",
       "    <tr>\n",
       "      <th>3</th>\n",
       "      <td>24.000000</td>\n",
       "      <td>31.212500</td>\n",
       "      <td>21.325000</td>\n",
       "      <td>1860.500000</td>\n",
       "      <td>1275.000000</td>\n",
       "      <td>0.316780</td>\n",
       "      <td>0.314700</td>\n",
       "    </tr>\n",
       "    <tr>\n",
       "      <th>4</th>\n",
       "      <td>48.000000</td>\n",
       "      <td>31.412500</td>\n",
       "      <td>24.187500</td>\n",
       "      <td>1860.000000</td>\n",
       "      <td>1415.000000</td>\n",
       "      <td>0.230004</td>\n",
       "      <td>0.239247</td>\n",
       "    </tr>\n",
       "    <tr>\n",
       "      <th>5</th>\n",
       "      <td>144.000000</td>\n",
       "      <td>31.212500</td>\n",
       "      <td>25.962500</td>\n",
       "      <td>1883.000000</td>\n",
       "      <td>1535.500000</td>\n",
       "      <td>0.168202</td>\n",
       "      <td>0.184546</td>\n",
       "    </tr>\n",
       "    <tr>\n",
       "      <th>6</th>\n",
       "      <td>744.000000</td>\n",
       "      <td>29.385119</td>\n",
       "      <td>28.229167</td>\n",
       "      <td>1683.500000</td>\n",
       "      <td>1532.000000</td>\n",
       "      <td>0.039338</td>\n",
       "      <td>0.089991</td>\n",
       "    </tr>\n",
       "  </tbody>\n",
       "</table>\n",
       "</div>"
      ],
      "text/plain": [
       "     interval  rep_learn  rep_relearn    sec_learn  sec_relearn  rep_savings  \\\n",
       "0    0.333333  30.767857    16.255357  1840.000000  1065.500000     0.471677   \n",
       "1    1.000000  30.637500    19.212500  1842.000000  1224.500000     0.372909   \n",
       "2    9.000000  31.068122    22.479497  1785.555556  1301.111111     0.276445   \n",
       "3   24.000000  31.212500    21.325000  1860.500000  1275.000000     0.316780   \n",
       "4   48.000000  31.412500    24.187500  1860.000000  1415.000000     0.230004   \n",
       "5  144.000000  31.212500    25.962500  1883.000000  1535.500000     0.168202   \n",
       "6  744.000000  29.385119    28.229167  1683.500000  1532.000000     0.039338   \n",
       "\n",
       "   sec_savings  \n",
       "0     0.420924  \n",
       "1     0.335233  \n",
       "2     0.271313  \n",
       "3     0.314700  \n",
       "4     0.239247  \n",
       "5     0.184546  \n",
       "6     0.089991  "
      ]
     },
     "execution_count": 18,
     "metadata": {},
     "output_type": "execute_result"
    }
   ],
   "source": [
    "# Your code here:\n",
    "df_avg[\"rep_savings\"] = (df_avg[\"rep_learn\"] - df_avg[\"rep_relearn\"]) / df_avg[\"rep_learn\"]\n",
    "df_avg[\"sec_savings\"] = (df_avg[\"sec_learn\"] - df_avg[\"sec_relearn\"]) / df_avg[\"sec_learn\"]\n",
    "\n",
    "# for inspection\n",
    "df_avg"
   ]
  },
  {
   "cell_type": "code",
   "execution_count": 19,
   "metadata": {
    "deletable": false,
    "editable": false
   },
   "outputs": [
    {
     "data": {
      "text/html": [
       "<p><strong><pre style='display: inline;'>q7</pre></strong> passed! 🎉</p>"
      ],
      "text/plain": [
       "q7 results: All test cases passed!"
      ]
     },
     "execution_count": 19,
     "metadata": {},
     "output_type": "execute_result"
    }
   ],
   "source": [
    "grader.check(\"q7\")"
   ]
  },
  {
   "cell_type": "markdown",
   "metadata": {
    "deletable": false,
    "editable": false
   },
   "source": [
    "**Question 8**\n",
    "\n",
    "Which interval corresponds to the largest reduction in effort required to relearn a list? Assign your answer as a float assigned to `biggest_reduction`."
   ]
  },
  {
   "cell_type": "code",
   "execution_count": 20,
   "metadata": {
    "tags": [
     "otter_answer_cell"
    ]
   },
   "outputs": [],
   "source": [
    "biggest_reduction = df_avg.loc[df_avg[\"rep_savings\"].idxmax(), \"interval\"]"
   ]
  },
  {
   "cell_type": "code",
   "execution_count": 21,
   "metadata": {
    "deletable": false,
    "editable": false
   },
   "outputs": [
    {
     "data": {
      "text/html": [
       "<p><strong><pre style='display: inline;'>q8</pre></strong> passed! 🙌</p>"
      ],
      "text/plain": [
       "q8 results: All test cases passed!"
      ]
     },
     "execution_count": 21,
     "metadata": {},
     "output_type": "execute_result"
    }
   ],
   "source": [
    "grader.check(\"q8\")"
   ]
  },
  {
   "cell_type": "markdown",
   "metadata": {},
   "source": [
    "Now, run the cell below to plot savings as a function of time intervals.\n",
    "\n",
    "The result shows the mathematical relationship that Ebbinghaus discovered between savings and elapsed time."
   ]
  },
  {
   "cell_type": "code",
   "execution_count": 22,
   "metadata": {},
   "outputs": [
    {
     "data": {
      "image/png": "[encoded data removed]",
      "text/plain": [
       "<Figure size 640x480 with 1 Axes>"
      ]
     },
     "metadata": {},
     "output_type": "display_data"
    },
    {
     "data": {
      "image/png": "[encoded data removed]",
      "text/plain": [
       "<Figure size 640x480 with 1 Axes>"
      ]
     },
     "metadata": {},
     "output_type": "display_data"
    }
   ],
   "source": [
    "plt.plot(df_avg.interval, df_avg.rep_savings, label='rep_savings')\n",
    "plt.scatter(df_avg.interval, df_avg.rep_savings)\n",
    "plt.xlabel('Interval (hours)')\n",
    "plt.ylabel('Savings')\n",
    "plt.title('Savings (in terms of learning repititions) vs. Interval')\n",
    "plt.legend()\n",
    "plt.show()\n",
    "\n",
    "plt.plot(df_avg.interval, df_avg.sec_savings, label='sec_savings')\n",
    "plt.scatter(df_avg.interval, df_avg.sec_savings)\n",
    "plt.xlabel('Interval (hours)')\n",
    "plt.ylabel('Savings')\n",
    "plt.title('Savings (in terms of learning time) vs. Interval')\n",
    "plt.legend()\n",
    "plt.show()"
   ]
  },
  {
   "cell_type": "markdown",
   "metadata": {
    "deletable": false,
    "editable": false
   },
   "source": [
    "We can define the rate of forgetting as:\n",
    "\n",
    "$$\\frac{|\\text{savings at earlier interval} - \\text{savings at later interval}|}{\\text{earlier interval} - \\text{later interval}}$$\n",
    "\n",
    "That is, the rate that we forget is the reduction in savings (retention)\n",
    "between two intervals per unit of time.\n",
    "\n",
    "To find where forgetting is most rapid, find the pair of consecutive intervals for which the rate of forgetting is highest. For ease, assign a float variable `later_interval` to the later of the two."
   ]
  },
  {
   "cell_type": "code",
   "execution_count": 23,
   "metadata": {
    "tags": [
     "otter_answer_cell"
    ]
   },
   "outputs": [],
   "source": [
    "# Your code here:\n",
    "intervals = df_avg[\"interval\"].diff().iloc[1:]\n",
    "savings = df_avg[\"rep_savings\"].diff().abs().iloc[1:]\n",
    "later_interval = df_avg.loc[(savings / intervals).idxmax(), \"interval\"]"
   ]
  },
  {
   "cell_type": "code",
   "execution_count": 24,
   "metadata": {
    "deletable": false,
    "editable": false
   },
   "outputs": [
    {
     "data": {
      "text/html": [
       "<p><strong><pre style='display: inline;'>q9</pre></strong> passed! 🙌</p>"
      ],
      "text/plain": [
       "q9 results: All test cases passed!"
      ]
     },
     "execution_count": 24,
     "metadata": {},
     "output_type": "execute_result"
    }
   ],
   "source": [
    "grader.check(\"q9\")"
   ]
  },
  {
   "cell_type": "markdown",
   "metadata": {},
   "source": [
    "#### Part 2: Study Designs\n",
    "\n",
    "Suppose you want to conduct a study using an experimental design. Before manipulating your independent variable, you decide to assign participants to one of two groups (group 1 and group 2). \n",
    "\n",
    "You start with group 1 and ask 10 of your friends (most from your university) to participate in your study. \n",
    "\n",
    "After running out of willing friends, you turn to Reddit to ask for volunteers in your town. You get 10 volunteers from Reddit and assign them to group 2.\n",
    "\n",
    "Run the cell below to see your current group assignment as well as a categorical variable noting whether or not the person has finished college or not.\n",
    "\n",
    "Also shown is the percent (as a proportion) that have finished college by group."
   ]
  },
  {
   "cell_type": "code",
   "execution_count": 25,
   "metadata": {},
   "outputs": [
    {
     "data": {
      "text/html": [
       "<div>\n",
       "<style scoped>\n",
       "    .dataframe tbody tr th:only-of-type {\n",
       "        vertical-align: middle;\n",
       "    }\n",
       "\n",
       "    .dataframe tbody tr th {\n",
       "        vertical-align: top;\n",
       "    }\n",
       "\n",
       "    .dataframe thead th {\n",
       "        text-align: right;\n",
       "    }\n",
       "</style>\n",
       "<table border=\"1\" class=\"dataframe\">\n",
       "  <thead>\n",
       "    <tr style=\"text-align: right;\">\n",
       "      <th></th>\n",
       "      <th>group</th>\n",
       "      <th>finished_college</th>\n",
       "    </tr>\n",
       "  </thead>\n",
       "  <tbody>\n",
       "    <tr>\n",
       "      <th>0</th>\n",
       "      <td>1</td>\n",
       "      <td>1</td>\n",
       "    </tr>\n",
       "    <tr>\n",
       "      <th>1</th>\n",
       "      <td>1</td>\n",
       "      <td>1</td>\n",
       "    </tr>\n",
       "    <tr>\n",
       "      <th>2</th>\n",
       "      <td>1</td>\n",
       "      <td>1</td>\n",
       "    </tr>\n",
       "    <tr>\n",
       "      <th>3</th>\n",
       "      <td>1</td>\n",
       "      <td>1</td>\n",
       "    </tr>\n",
       "    <tr>\n",
       "      <th>4</th>\n",
       "      <td>1</td>\n",
       "      <td>0</td>\n",
       "    </tr>\n",
       "    <tr>\n",
       "      <th>5</th>\n",
       "      <td>1</td>\n",
       "      <td>1</td>\n",
       "    </tr>\n",
       "    <tr>\n",
       "      <th>6</th>\n",
       "      <td>1</td>\n",
       "      <td>1</td>\n",
       "    </tr>\n",
       "    <tr>\n",
       "      <th>7</th>\n",
       "      <td>1</td>\n",
       "      <td>1</td>\n",
       "    </tr>\n",
       "    <tr>\n",
       "      <th>8</th>\n",
       "      <td>1</td>\n",
       "      <td>1</td>\n",
       "    </tr>\n",
       "    <tr>\n",
       "      <th>9</th>\n",
       "      <td>1</td>\n",
       "      <td>1</td>\n",
       "    </tr>\n",
       "    <tr>\n",
       "      <th>10</th>\n",
       "      <td>2</td>\n",
       "      <td>0</td>\n",
       "    </tr>\n",
       "    <tr>\n",
       "      <th>11</th>\n",
       "      <td>2</td>\n",
       "      <td>0</td>\n",
       "    </tr>\n",
       "    <tr>\n",
       "      <th>12</th>\n",
       "      <td>2</td>\n",
       "      <td>0</td>\n",
       "    </tr>\n",
       "    <tr>\n",
       "      <th>13</th>\n",
       "      <td>2</td>\n",
       "      <td>1</td>\n",
       "    </tr>\n",
       "    <tr>\n",
       "      <th>14</th>\n",
       "      <td>2</td>\n",
       "      <td>1</td>\n",
       "    </tr>\n",
       "    <tr>\n",
       "      <th>15</th>\n",
       "      <td>2</td>\n",
       "      <td>1</td>\n",
       "    </tr>\n",
       "    <tr>\n",
       "      <th>16</th>\n",
       "      <td>2</td>\n",
       "      <td>1</td>\n",
       "    </tr>\n",
       "    <tr>\n",
       "      <th>17</th>\n",
       "      <td>2</td>\n",
       "      <td>1</td>\n",
       "    </tr>\n",
       "    <tr>\n",
       "      <th>18</th>\n",
       "      <td>2</td>\n",
       "      <td>0</td>\n",
       "    </tr>\n",
       "    <tr>\n",
       "      <th>19</th>\n",
       "      <td>2</td>\n",
       "      <td>0</td>\n",
       "    </tr>\n",
       "  </tbody>\n",
       "</table>\n",
       "</div>"
      ],
      "text/plain": [
       "    group  finished_college\n",
       "0       1                 1\n",
       "1       1                 1\n",
       "2       1                 1\n",
       "3       1                 1\n",
       "4       1                 0\n",
       "5       1                 1\n",
       "6       1                 1\n",
       "7       1                 1\n",
       "8       1                 1\n",
       "9       1                 1\n",
       "10      2                 0\n",
       "11      2                 0\n",
       "12      2                 0\n",
       "13      2                 1\n",
       "14      2                 1\n",
       "15      2                 1\n",
       "16      2                 1\n",
       "17      2                 1\n",
       "18      2                 0\n",
       "19      2                 0"
      ]
     },
     "execution_count": 25,
     "metadata": {},
     "output_type": "execute_result"
    }
   ],
   "source": [
    "people = pd.DataFrame({\n",
    "    'group': [1, 1, 1, 1, 1, 1, 1, 1, 1, 1, 2, 2, 2, 2, 2, 2, 2, 2, 2, 2],\n",
    "    'finished_college': [1, 1, 1, 1, 0, 1, 1, 1, 1, 1, 0, 0, 0, 1, 1, 1, 1, 1, 0, 0],\n",
    "})\n",
    "people"
   ]
  },
  {
   "cell_type": "code",
   "execution_count": 26,
   "metadata": {},
   "outputs": [
    {
     "data": {
      "text/html": [
       "<div>\n",
       "<style scoped>\n",
       "    .dataframe tbody tr th:only-of-type {\n",
       "        vertical-align: middle;\n",
       "    }\n",
       "\n",
       "    .dataframe tbody tr th {\n",
       "        vertical-align: top;\n",
       "    }\n",
       "\n",
       "    .dataframe thead th {\n",
       "        text-align: right;\n",
       "    }\n",
       "</style>\n",
       "<table border=\"1\" class=\"dataframe\">\n",
       "  <thead>\n",
       "    <tr style=\"text-align: right;\">\n",
       "      <th></th>\n",
       "      <th>finished_college</th>\n",
       "    </tr>\n",
       "    <tr>\n",
       "      <th>group</th>\n",
       "      <th></th>\n",
       "    </tr>\n",
       "  </thead>\n",
       "  <tbody>\n",
       "    <tr>\n",
       "      <th>1</th>\n",
       "      <td>0.9</td>\n",
       "    </tr>\n",
       "    <tr>\n",
       "      <th>2</th>\n",
       "      <td>0.5</td>\n",
       "    </tr>\n",
       "  </tbody>\n",
       "</table>\n",
       "</div>"
      ],
      "text/plain": [
       "       finished_college\n",
       "group                  \n",
       "1                   0.9\n",
       "2                   0.5"
      ]
     },
     "execution_count": 26,
     "metadata": {},
     "output_type": "execute_result"
    }
   ],
   "source": [
    "# percent (as a proportion) that have finished college by group\n",
    "people.groupby('group').mean()"
   ]
  },
  {
   "cell_type": "markdown",
   "metadata": {
    "deletable": false,
    "editable": false
   },
   "source": [
    "**Question 10**\n",
    "\n",
    "The `np.random.permutation()` function takes an array and returns an array with the same elements but with their order shuffled (e.g., 1, 2, 3 --> 3, 1, 2).\n",
    "\n",
    "Based on what you have observed above, use the permutation function to modify the `people` dataframe below so that we can better ensure we are using an experimental design. The dataframe should maintain the same column names and no new column names should be added."
   ]
  },
  {
   "cell_type": "code",
   "execution_count": 27,
   "metadata": {
    "tags": [
     "otter_answer_cell"
    ]
   },
   "outputs": [
    {
     "data": {
      "text/html": [
       "<div>\n",
       "<style scoped>\n",
       "    .dataframe tbody tr th:only-of-type {\n",
       "        vertical-align: middle;\n",
       "    }\n",
       "\n",
       "    .dataframe tbody tr th {\n",
       "        vertical-align: top;\n",
       "    }\n",
       "\n",
       "    .dataframe thead th {\n",
       "        text-align: right;\n",
       "    }\n",
       "</style>\n",
       "<table border=\"1\" class=\"dataframe\">\n",
       "  <thead>\n",
       "    <tr style=\"text-align: right;\">\n",
       "      <th></th>\n",
       "      <th>finished_college</th>\n",
       "    </tr>\n",
       "    <tr>\n",
       "      <th>group</th>\n",
       "      <th></th>\n",
       "    </tr>\n",
       "  </thead>\n",
       "  <tbody>\n",
       "    <tr>\n",
       "      <th>1</th>\n",
       "      <td>0.7</td>\n",
       "    </tr>\n",
       "    <tr>\n",
       "      <th>2</th>\n",
       "      <td>0.7</td>\n",
       "    </tr>\n",
       "  </tbody>\n",
       "</table>\n",
       "</div>"
      ],
      "text/plain": [
       "       finished_college\n",
       "group                  \n",
       "1                   0.7\n",
       "2                   0.7"
      ]
     },
     "execution_count": 27,
     "metadata": {},
     "output_type": "execute_result"
    }
   ],
   "source": [
    "# do not change these lines\n",
    "# just redefining the same exact data\n",
    "people = pd.DataFrame({\n",
    "    'group': [1, 1, 1, 1, 1, 1, 1, 1, 1, 1, 2, 2, 2, 2, 2, 2, 2, 2, 2, 2],\n",
    "    'finished_college': [1, 1, 1, 1, 0, 1, 1, 1, 1, 1, 0, 0, 0, 1, 1, 1, 1, 1, 0, 0],\n",
    "})\n",
    "np.random.seed(1) # do not change this line either\n",
    "\n",
    "# YOUR CODE HERE:\n",
    "people[\"group\"] = np.random.permutation(people[\"group\"])\n",
    "\n",
    "# do not change the below\n",
    "people.groupby('group').mean() "
   ]
  },
  {
   "cell_type": "code",
   "execution_count": 28,
   "metadata": {
    "deletable": false,
    "editable": false
   },
   "outputs": [
    {
     "data": {
      "text/html": [
       "<p><strong><pre style='display: inline;'>q10</pre></strong> passed! ✨</p>"
      ],
      "text/plain": [
       "q10 results: All test cases passed!"
      ]
     },
     "execution_count": 28,
     "metadata": {},
     "output_type": "execute_result"
    }
   ],
   "source": [
    "grader.check(\"q10\")"
   ]
  },
  {
   "cell_type": "markdown",
   "metadata": {
    "deletable": false,
    "editable": false
   },
   "source": [
    "**Question 10**\n",
    "\n",
    "What kind of study is the above (in Part 1 of this assignment) by Jaap Murre and Joeri Dros?\n",
    "\n",
    "Uncomment one of the two lines below to provide your answer."
   ]
  },
  {
   "cell_type": "code",
   "execution_count": 29,
   "metadata": {
    "tags": [
     "otter_answer_cell"
    ]
   },
   "outputs": [],
   "source": [
    "# answer10 = \"A standard experimental study\"\n",
    "answer10 = \"A repeated measures study\""
   ]
  },
  {
   "cell_type": "code",
   "execution_count": 30,
   "metadata": {
    "deletable": false,
    "editable": false
   },
   "outputs": [
    {
     "data": {
      "text/html": [
       "<p><strong><pre style='display: inline;'>q11</pre></strong> passed! ✨</p>"
      ],
      "text/plain": [
       "q11 results: All test cases passed!"
      ]
     },
     "execution_count": 30,
     "metadata": {},
     "output_type": "execute_result"
    }
   ],
   "source": [
    "grader.check(\"q11\")"
   ]
  }
 ],
 "metadata": {
  "kernelspec": {
   "display_name": "Python 3",
   "language": "python",
   "name": "python3"
  },
  "language_info": {
   "codemirror_mode": {
    "name": "ipython",
    "version": 3
   },
   "file_extension": ".py",
   "mimetype": "text/x-python",
   "name": "python",
   "nbconvert_exporter": "python",
   "pygments_lexer": "ipython3",
   "version": "3.9.21"
  },
  "otter": {
   "OK_FORMAT": true,
   "tests": {
    "q1": {
     "name": "q1",
     "points": [
      0.25
     ],
     "suites": [
      {
       "cases": [
        {
         "code": ">>> isinstance(repetitions, int)\nTrue",
         "hidden": false,
         "locked": false
        }
       ],
       "scored": true,
       "setup": "",
       "teardown": "",
       "type": "doctest"
      }
     ]
    },
    "q10": {
     "name": "q10",
     "points": [
      0
     ],
     "suites": [
      {
       "cases": [
        {
         "code": ">>> people['group'].value_counts().loc[1] == 10 and people['finished_college'].value_counts().loc[1] == 14\nnp.True_",
         "hidden": false,
         "locked": false
        }
       ],
       "scored": true,
       "setup": "",
       "teardown": "",
       "type": "doctest"
      }
     ]
    },
    "q11": {
     "name": "q11",
     "points": [
      0
     ],
     "suites": [
      {
       "cases": [
        {
         "code": ">>> isinstance(answer10, str)\nTrue",
         "hidden": false,
         "locked": false
        }
       ],
       "scored": true,
       "setup": "",
       "teardown": "",
       "type": "doctest"
      }
     ]
    },
    "q2": {
     "name": "q2",
     "points": [
      0
     ],
     "suites": [
      {
       "cases": [
        {
         "code": ">>> isinstance(most_difficult, float)\nTrue",
         "hidden": false,
         "locked": false
        }
       ],
       "scored": true,
       "setup": "",
       "teardown": "",
       "type": "doctest"
      }
     ]
    },
    "q3": {
     "name": "q3",
     "points": [
      0,
      0
     ],
     "suites": [
      {
       "cases": [
        {
         "code": ">>> isinstance(ind_vars, list) and all((isinstance(i, str) for i in ind_vars))\nTrue",
         "hidden": false,
         "locked": false
        },
        {
         "code": ">>> isinstance(dep_vars, list) and all((isinstance(i, str) for i in dep_vars))\nTrue",
         "hidden": false,
         "locked": false
        }
       ],
       "scored": true,
       "setup": "",
       "teardown": "",
       "type": "doctest"
      }
     ]
    },
    "q4": {
     "name": "q4",
     "points": [
      0
     ],
     "suites": [
      {
       "cases": [
        {
         "code": ">>> isinstance(answer4, str)\nTrue",
         "hidden": false,
         "locked": false
        }
       ],
       "scored": true,
       "setup": "",
       "teardown": "",
       "type": "doctest"
      }
     ]
    },
    "q5": {
     "name": "q5",
     "points": [
      0
     ],
     "suites": [
      {
       "cases": [
        {
         "code": ">>> isinstance(savings(df, 1, 1), float)\nTrue",
         "hidden": false,
         "locked": false
        }
       ],
       "scored": true,
       "setup": "",
       "teardown": "",
       "type": "doctest"
      }
     ]
    },
    "q6": {
     "name": "q6",
     "points": [
      0
     ],
     "suites": [
      {
       "cases": [
        {
         "code": ">>> df_avg.shape == (7, 5)\nTrue",
         "hidden": false,
         "locked": false
        }
       ],
       "scored": true,
       "setup": "",
       "teardown": "",
       "type": "doctest"
      }
     ]
    },
    "q7": {
     "name": "q7",
     "points": [
      0
     ],
     "suites": [
      {
       "cases": [
        {
         "code": ">>> 'rep_savings' in df_avg.columns and 'sec_savings' in df_avg.columns\nTrue",
         "hidden": false,
         "locked": false
        }
       ],
       "scored": true,
       "setup": "",
       "teardown": "",
       "type": "doctest"
      }
     ]
    },
    "q8": {
     "name": "q8",
     "points": [
      0
     ],
     "suites": [
      {
       "cases": [
        {
         "code": ">>> isinstance(biggest_reduction, float)\nTrue",
         "hidden": false,
         "locked": false
        }
       ],
       "scored": true,
       "setup": "",
       "teardown": "",
       "type": "doctest"
      }
     ]
    },
    "q9": {
     "name": "q9",
     "points": [
      0
     ],
     "suites": [
      {
       "cases": [
        {
         "code": ">>> isinstance(later_interval, float)\nTrue",
         "hidden": false,
         "locked": false
        }
       ],
       "scored": true,
       "setup": "",
       "teardown": "",
       "type": "doctest"
      }
     ]
    }
   }
  }
 },
 "nbformat": 4,
 "nbformat_minor": 2
}
