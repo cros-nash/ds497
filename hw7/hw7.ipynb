{
 "cells": [
  {
   "cell_type": "markdown",
   "metadata": {},
   "source": [
    "# Extending PCA to higher dimensions"
   ]
  },
  {
   "cell_type": "code",
   "execution_count": 6,
   "metadata": {},
   "outputs": [],
   "source": [
    "!pip install -q otter-grader\n",
    "\n",
    "import otter\n",
    "grader = otter.Notebook(\"hw7.ipynb\")\n",
    "\n",
    "import numpy as np\n",
    "import pandas as pd\n",
    "from scipy.stats import zscore\n",
    "import matplotlib.pyplot as plt\n",
    "import plotly.graph_objects as go\n",
    "import plotly.io as pio\n",
    "pio.renderers.default = 'colab'\n",
    "from sklearn.decomposition import PCA\n",
    "# f"
   ]
  },
  {
   "cell_type": "markdown",
   "metadata": {},
   "source": [
    "In this assignment, we will extend PCA to cases of more than just two input dimensions.\n",
    "\n",
    "**You will need to refer to the class lab notebook on PCA to complete this assignment.**\n",
    "\n",
    "The following cell loads the same face rating data that we worked with last time:"
   ]
  },
  {
   "cell_type": "code",
   "execution_count": 7,
   "metadata": {},
   "outputs": [
    {
     "data": {
      "text/html": [
       "<div>\n",
       "<style scoped>\n",
       "    .dataframe tbody tr th:only-of-type {\n",
       "        vertical-align: middle;\n",
       "    }\n",
       "\n",
       "    .dataframe tbody tr th {\n",
       "        vertical-align: top;\n",
       "    }\n",
       "\n",
       "    .dataframe thead th {\n",
       "        text-align: right;\n",
       "    }\n",
       "</style>\n",
       "<table border=\"1\" class=\"dataframe\">\n",
       "  <thead>\n",
       "    <tr style=\"text-align: right;\">\n",
       "      <th></th>\n",
       "      <th>aggressive</th>\n",
       "      <th>attractive</th>\n",
       "      <th>caring</th>\n",
       "      <th>confident</th>\n",
       "      <th>dominant</th>\n",
       "      <th>emot_stable</th>\n",
       "      <th>intelligent</th>\n",
       "      <th>mean</th>\n",
       "      <th>responsible</th>\n",
       "      <th>sociable</th>\n",
       "      <th>trustworthy</th>\n",
       "      <th>unhappy</th>\n",
       "      <th>weird</th>\n",
       "      <th>stimulus</th>\n",
       "    </tr>\n",
       "  </thead>\n",
       "  <tbody>\n",
       "    <tr>\n",
       "      <th>0</th>\n",
       "      <td>-0.838576</td>\n",
       "      <td>2.150772</td>\n",
       "      <td>1.299035</td>\n",
       "      <td>1.241495</td>\n",
       "      <td>-0.240222</td>\n",
       "      <td>1.313222</td>\n",
       "      <td>0.881080</td>\n",
       "      <td>-0.485750</td>\n",
       "      <td>1.863745</td>\n",
       "      <td>1.670497</td>\n",
       "      <td>2.050984</td>\n",
       "      <td>-0.796445</td>\n",
       "      <td>-1.174697</td>\n",
       "      <td>AF01NES</td>\n",
       "    </tr>\n",
       "    <tr>\n",
       "      <th>1</th>\n",
       "      <td>-0.416323</td>\n",
       "      <td>0.112142</td>\n",
       "      <td>0.448366</td>\n",
       "      <td>-1.203330</td>\n",
       "      <td>-0.153719</td>\n",
       "      <td>-0.532231</td>\n",
       "      <td>-0.163642</td>\n",
       "      <td>-0.066824</td>\n",
       "      <td>-0.398276</td>\n",
       "      <td>-0.374984</td>\n",
       "      <td>-0.197564</td>\n",
       "      <td>0.961431</td>\n",
       "      <td>0.271219</td>\n",
       "      <td>AF02NES</td>\n",
       "    </tr>\n",
       "    <tr>\n",
       "      <th>2</th>\n",
       "      <td>-0.859174</td>\n",
       "      <td>-0.225465</td>\n",
       "      <td>1.006182</td>\n",
       "      <td>0.337651</td>\n",
       "      <td>-1.241176</td>\n",
       "      <td>-0.035868</td>\n",
       "      <td>-1.075934</td>\n",
       "      <td>-0.532297</td>\n",
       "      <td>0.056728</td>\n",
       "      <td>0.288781</td>\n",
       "      <td>0.278320</td>\n",
       "      <td>-0.369184</td>\n",
       "      <td>0.656796</td>\n",
       "      <td>AF03NES</td>\n",
       "    </tr>\n",
       "    <tr>\n",
       "      <th>3</th>\n",
       "      <td>-0.395726</td>\n",
       "      <td>-0.653967</td>\n",
       "      <td>0.016058</td>\n",
       "      <td>-0.581011</td>\n",
       "      <td>-0.437941</td>\n",
       "      <td>-0.264958</td>\n",
       "      <td>-0.987648</td>\n",
       "      <td>0.631387</td>\n",
       "      <td>-0.541278</td>\n",
       "      <td>-0.645909</td>\n",
       "      <td>-0.042902</td>\n",
       "      <td>0.692867</td>\n",
       "      <td>0.830306</td>\n",
       "      <td>AF04NES</td>\n",
       "    </tr>\n",
       "    <tr>\n",
       "      <th>4</th>\n",
       "      <td>-1.528599</td>\n",
       "      <td>0.501689</td>\n",
       "      <td>1.173527</td>\n",
       "      <td>0.219114</td>\n",
       "      <td>-0.833380</td>\n",
       "      <td>0.740495</td>\n",
       "      <td>0.733936</td>\n",
       "      <td>-0.776671</td>\n",
       "      <td>0.953736</td>\n",
       "      <td>0.830630</td>\n",
       "      <td>1.146806</td>\n",
       "      <td>-1.309159</td>\n",
       "      <td>-0.239671</td>\n",
       "      <td>AF05NES</td>\n",
       "    </tr>\n",
       "  </tbody>\n",
       "</table>\n",
       "</div>"
      ],
      "text/plain": [
       "   aggressive  attractive    caring  confident  dominant  emot_stable  \\\n",
       "0   -0.838576    2.150772  1.299035   1.241495 -0.240222     1.313222   \n",
       "1   -0.416323    0.112142  0.448366  -1.203330 -0.153719    -0.532231   \n",
       "2   -0.859174   -0.225465  1.006182   0.337651 -1.241176    -0.035868   \n",
       "3   -0.395726   -0.653967  0.016058  -0.581011 -0.437941    -0.264958   \n",
       "4   -1.528599    0.501689  1.173527   0.219114 -0.833380     0.740495   \n",
       "\n",
       "   intelligent      mean  responsible  sociable  trustworthy   unhappy  \\\n",
       "0     0.881080 -0.485750     1.863745  1.670497     2.050984 -0.796445   \n",
       "1    -0.163642 -0.066824    -0.398276 -0.374984    -0.197564  0.961431   \n",
       "2    -1.075934 -0.532297     0.056728  0.288781     0.278320 -0.369184   \n",
       "3    -0.987648  0.631387    -0.541278 -0.645909    -0.042902  0.692867   \n",
       "4     0.733936 -0.776671     0.953736  0.830630     1.146806 -1.309159   \n",
       "\n",
       "      weird stimulus  \n",
       "0 -1.174697  AF01NES  \n",
       "1  0.271219  AF02NES  \n",
       "2  0.656796  AF03NES  \n",
       "3  0.830306  AF04NES  \n",
       "4 -0.239671  AF05NES  "
      ]
     },
     "execution_count": 7,
     "metadata": {},
     "output_type": "execute_result"
    }
   ],
   "source": [
    "ratings = pd.read_csv('face_ratings.csv')\n",
    "stim = ratings['stimulus'].copy()\n",
    "ratings = ratings.drop(columns=['stimulus']).apply(zscore)\n",
    "ratings['stimulus'] = stim\n",
    "ratings.head()"
   ]
  },
  {
   "cell_type": "markdown",
   "metadata": {},
   "source": [
    "Recall that so far we've been working with just two the 13 dimensions:"
   ]
  },
  {
   "cell_type": "code",
   "execution_count": 8,
   "metadata": {},
   "outputs": [],
   "source": [
    "x = ratings['responsible'].values\n",
    "y = ratings['trustworthy'].values"
   ]
  },
  {
   "cell_type": "markdown",
   "metadata": {
    "deletable": false,
    "editable": false
   },
   "source": [
    "We previously defined the first principal component as the line that maximizes variance explained by the points projected onto it.\n",
    "\n",
    "Another way to define the first principal component is as the line that minimizes the sum of squared distances between the original points and their projections.\n",
    "\n",
    "Note that the slope we found before was approximately 1. We'd expect to find the same slope when minimizes the sum of squared distances.\n",
    "\n",
    "**Question 1:** Find the slope (in `slopes_to_try`) that minimizes the sum of squared distances between the original points and their projections. Store the sum for each candidate slope in a numpy array called `sum_per_slope`. Store the best slope in `best_slope_min_distance`."
   ]
  },
  {
   "cell_type": "code",
   "execution_count": 9,
   "metadata": {
    "tags": [
     "otter_answer_cell"
    ]
   },
   "outputs": [
    {
     "data": {
      "text/plain": [
       "np.float64(1.0050251256281406)"
      ]
     },
     "execution_count": 9,
     "metadata": {},
     "output_type": "execute_result"
    }
   ],
   "source": [
    "# do not change\n",
    "slopes_to_try = np.linspace(0, 2, 200)\n",
    "\n",
    "# do not change\n",
    "def project_point_onto_line(x, y, slope):\n",
    "  x_p = (x + slope*y) / (slope**2 + 1)\n",
    "  y_p = x_p * slope\n",
    "  return x_p, y_p\n",
    "\n",
    "# Your code here\n",
    "\n",
    "sum_per_slope = np.array([\n",
    "    np.sum((x - project_point_onto_line(x, y, slope)[0])**2 +\n",
    "           (y - project_point_onto_line(x, y, slope)[1])**2)\n",
    "    for slope in slopes_to_try\n",
    "])\n",
    "\n",
    "best_slope_min_distance = slopes_to_try[np.argmin(sum_per_slope)]\n",
    "\n",
    "# do not change\n",
    "best_slope_min_distance"
   ]
  },
  {
   "cell_type": "code",
   "execution_count": 10,
   "metadata": {
    "deletable": false,
    "editable": false
   },
   "outputs": [
    {
     "data": {
      "text/html": [
       "<p><strong><pre style='display: inline;'>q1</pre></strong> passed! 🌈</p>"
      ],
      "text/plain": [
       "q1 results: All test cases passed!"
      ]
     },
     "execution_count": 10,
     "metadata": {},
     "output_type": "execute_result"
    }
   ],
   "source": [
    "grader.check(\"q1\")"
   ]
  },
  {
   "cell_type": "markdown",
   "metadata": {},
   "source": [
    "Let's extend the process above to three dimensions ($x$, $y$, $z$) to understand how responsible, trustworthy, and now **caring** ratings relate to one another.\n",
    "\n",
    "First we can load our third dimension:"
   ]
  },
  {
   "cell_type": "code",
   "execution_count": 11,
   "metadata": {},
   "outputs": [],
   "source": [
    "z = ratings['caring'].values"
   ]
  },
  {
   "cell_type": "markdown",
   "metadata": {},
   "source": [
    "We can see these points in 3D space using the plot below. **Click and drag** your mouse to **rotate** the plot below and see how the points are related to each other in the space."
   ]
  },
  {
   "cell_type": "code",
   "execution_count": 15,
   "metadata": {},
   "outputs": [
    {
     "data": {
      "text/html": [
       "<html>\n",
       "<head><meta charset=\"utf-8\" /></head>\n",
       "<body>\n",
       "    <div>            <script src=\"https://cdnjs.cloudflare.com/ajax/libs/mathjax/2.7.5/MathJax.js?config=TeX-AMS-MML_SVG\"></script><script type=\"text/javascript\">if (window.MathJax && window.MathJax.Hub && window.MathJax.Hub.Config) {window.MathJax.Hub.Config({SVG: {font: \"STIX-Web\"}});}</script>                <script type=\"text/javascript\">window.PlotlyConfig = {MathJaxConfig: 'local'};</script>\n",
       "        <script charset=\"utf-8\" src=\"https://cdn.plot.ly/plotly-3.0.1.min.js\"></script>                <div id=\"78a23cef-8d6f-4c20-8075-7b0addb11079\" class=\"plotly-graph-div\" style=\"height:800px; width:800px;\"></div>            <script type=\"text/javascript\">                window.PLOTLYENV=window.PLOTLYENV || {};                                if (document.getElementById(\"78a23cef-8d6f-4c20-8075-7b0addb11079\")) {                    Plotly.newPlot(                        \"78a23cef-8d6f-4c20-8075-7b0addb11079\",                        [{\"marker\":{\"color\":\"blue\",\"opacity\":0.7,\"size\":4},\"mode\":\"markers\",\"name\":\"Original Data\",\"x\":{\"dtype\":\"f8\",\"bdata\":\"n0gl4uXR\\u002fT\\u002fx5d1xXH3Zv2aboh5tC60\\u002fwKMfwCVS4b\\u002fmW4OtAYXuP4QPI+Vvafg\\u002fdhg6O41H6D9FroBhCVzqPyp1fmST8+Q\\u002fUQWBzhR56r+3\\u002fQHPp8f8P2pOW0\\u002f9TvS\\u002fkVE8OAOw7T9vG05KJ33gv4HKQtW79vE\\u002fFgXP2f55879vG05KJ33gv6OpFXE24PQ\\u002fkdlOI3lr8z\\u002fKbbFZPEHeP\\u002f98r1gWpOm\\u002fOORUIwBa7z\\u002fx5d1xXH3Zv9mcUEPtsMa\\u002fBvbCi0EF8r\\u002f+60\\u002f3I9yuv1vfNz4X3+I\\u002fX4R8Y21W0L8\\u002fUX2tepbyPw3nw9P2qvQ\\u002f5luDrQGF7j8qdX5kk\\u002fPkPzWZJWiw2QHA4xuyM1N73r8yIg6qUVDfv\\u002fqvvF3sdf2\\u002fOQxQS00a1T+CbzqomGTov+MbsjNTe96\\u002fJHSlmGvg\\u002fb+BykLVu\\u002fbxP\\u002ftpa2S5kMk\\u002fdhg6O41H6D9oFWbo+QDzP9vcIb2buua\\u002fhYfLaPNccz\\u002fr5h51U8bRP\\u002fdq3E04A\\u002fe\\u002fmvdZKYE68r8hvpYa5wTKv4WHy2jzXHM\\u002fMiIOqlFQ379fhHxjbVbQvz9Rfa16lvI\\u002fOotsVPm9vL9ltMKrIvziv9v45Om+TPA\\u002fNsx+0Z4Q5b+mQE+PvzzGP3tIgINC7do\\u002fRJDdPaottT\\u002fMbf6rtUr1P0IWhGbrjQTA6N\\u002f1Dy8B\\u002fL\\u002fb3CG9m7rmv6ilwjpnqtO\\u002f\"},\"y\":{\"dtype\":\"f8\",\"bdata\":\"vCT\\u002fXGpoAECH+hSRw0nJvzsp86v8z9E\\u002f6+JSRDL3pb\\u002f7ciF2UVnyP4B1MjiUG\\u002fc\\u002fG1drUkiq2D82GndK4XbtP85+dGOTj+s\\u002fQ49MSyTQ+b9nZed7RajpP2OpZnpDMva\\u002foI9MZ7N98z98XUEpodPYvw9g+HmYntU\\u002fSPrFyeMa8L\\u002fq4ySScQ7PP0R2GvY5ccc\\u002fBvFrJGyh+D\\u002fq4ySScQ7PP6Fkcq7sMvK\\u002fta25vyRK0D9da3B5QbzSv\\u002ffhBz3JTde\\u002fIHGsVEvbzb\\u002fg6a2PbSLoP1pudKOVnOY\\u002fqDySXgg2ur+hCHWRSEHwPzY83FXQ0vQ\\u002fgFPNLKW\\u002f7z9VF9lcXOfXP54xjGaywgHAKlnUxFl88L\\u002f8zh6T9Ur0v3c7W0u72gPA6+JSRDL3pb98XUEpodPYv7g62kCm4uK\\u002ftH0+Vc8XA8CAdTI4lBv3P1mnrVdY+5A\\u002f7pTg8ouswb8mC4ZTiwP1PxHtGPsZN+i\\u002ftwdZMLLfwj+TmNmOA3LwP49OrK2oHrS\\u002faw8zCrgS579RIU1ZWPvgv3dOq6gfO+Y\\u002fOsTC2FPh6r9cYyHCFyqdP3K9BGDkD\\u002fQ\\u002fz5ufcIRh1j+VSyfaAOvev8CHAYvjg+g\\u002fENDt7Shl3b+PXw\\u002fT+BKxv93ssbnBAsw\\u002fPZnoH42W2b8G8WskbKH4P45By1d93Pi\\u002fXX0y\\u002fIPn\\u002f79eGMAxCAfkv3LJgS+lv5+\\u002f\"},\"z\":{\"dtype\":\"f8\",\"bdata\":\"\\u002ft\\u002f\\u002fcNnI9D\\u002fRyUq6BrLcP2mL1E9SGfA\\u002f4zgWMJlxkD+aYJAZxMbyPzKnguri\\u002f\\u002fI\\u002fMYqz\\u002fnwd9D\\u002fjOBYwmXGQP+Yqh4U3lOA\\u002fSRUOWuYoAMCqJzie9Ie5P262vCBWfPK\\u002fwGqicGxD\\u002fT8G\\u002fa7xdLXyv5pgkBnExvI\\u002f0pFAZNFg879ur4F2i83bP6vvx1yW0+Y\\u002fyXSR4zV09T+t4cI13Ja\\u002fv+GY3sgPR+6\\u002fDAUK46dy1j8c1J3xsAfov2\\u002f831spTu8\\u002fskWY\\u002fp2Z67\\u002fVUEd3cPftP9\\u002f+If7TRec\\u002fE3lGkj\\u002f80T8xirP+fB30P\\u002fzCMIVz5vU\\u002fwGqicGxD\\u002fT\\u002fjtT3qWqStP+Et9jTS8ADAHSH81k6I27\\u002f98r9+q4T6v5MbuNYPYwHAbq+BdovN2z\\u002fSkUBk0WDzv+M4FjCZcZA\\u002fld2dY2Tb+78xirP+fB30Pw1SaMhF8+k\\u002f3rHDGDbF0z9gnZ39t0LJP2D6YskrSsy\\u002fZhLxd4ZU8j8E9xBp1OfDPx0h\\u002fNZOiNu\\u002fS3RCocA13r9XD10aUsjhvw1SaMhF8+k\\u002fn+eM1i0M9L8Zmv8Z5ULqv1hcu\\u002f\\u002fvSNW\\u002f+EsAN0jvxr9hOv9ig2Wav2E6\\u002f2KDZZq\\u002freHCNdyWv7+op3pvnjuIv7yrm13NrOK\\u002fnKVzomSUwb824SDCrsTwP9borScDCPC\\u002fXdx8Eo\\u002ff\\u002f7+CcNw0LOzovw7fp2xNuZ4\\u002f\"},\"type\":\"scatter3d\"}],                        {\"template\":{\"data\":{\"histogram2dcontour\":[{\"type\":\"histogram2dcontour\",\"colorbar\":{\"outlinewidth\":0,\"ticks\":\"\"},\"colorscale\":[[0.0,\"#0d0887\"],[0.1111111111111111,\"#46039f\"],[0.2222222222222222,\"#7201a8\"],[0.3333333333333333,\"#9c179e\"],[0.4444444444444444,\"#bd3786\"],[0.5555555555555556,\"#d8576b\"],[0.6666666666666666,\"#ed7953\"],[0.7777777777777778,\"#fb9f3a\"],[0.8888888888888888,\"#fdca26\"],[1.0,\"#f0f921\"]]}],\"choropleth\":[{\"type\":\"choropleth\",\"colorbar\":{\"outlinewidth\":0,\"ticks\":\"\"}}],\"histogram2d\":[{\"type\":\"histogram2d\",\"colorbar\":{\"outlinewidth\":0,\"ticks\":\"\"},\"colorscale\":[[0.0,\"#0d0887\"],[0.1111111111111111,\"#46039f\"],[0.2222222222222222,\"#7201a8\"],[0.3333333333333333,\"#9c179e\"],[0.4444444444444444,\"#bd3786\"],[0.5555555555555556,\"#d8576b\"],[0.6666666666666666,\"#ed7953\"],[0.7777777777777778,\"#fb9f3a\"],[0.8888888888888888,\"#fdca26\"],[1.0,\"#f0f921\"]]}],\"heatmap\":[{\"type\":\"heatmap\",\"colorbar\":{\"outlinewidth\":0,\"ticks\":\"\"},\"colorscale\":[[0.0,\"#0d0887\"],[0.1111111111111111,\"#46039f\"],[0.2222222222222222,\"#7201a8\"],[0.3333333333333333,\"#9c179e\"],[0.4444444444444444,\"#bd3786\"],[0.5555555555555556,\"#d8576b\"],[0.6666666666666666,\"#ed7953\"],[0.7777777777777778,\"#fb9f3a\"],[0.8888888888888888,\"#fdca26\"],[1.0,\"#f0f921\"]]}],\"contourcarpet\":[{\"type\":\"contourcarpet\",\"colorbar\":{\"outlinewidth\":0,\"ticks\":\"\"}}],\"contour\":[{\"type\":\"contour\",\"colorbar\":{\"outlinewidth\":0,\"ticks\":\"\"},\"colorscale\":[[0.0,\"#0d0887\"],[0.1111111111111111,\"#46039f\"],[0.2222222222222222,\"#7201a8\"],[0.3333333333333333,\"#9c179e\"],[0.4444444444444444,\"#bd3786\"],[0.5555555555555556,\"#d8576b\"],[0.6666666666666666,\"#ed7953\"],[0.7777777777777778,\"#fb9f3a\"],[0.8888888888888888,\"#fdca26\"],[1.0,\"#f0f921\"]]}],\"surface\":[{\"type\":\"surface\",\"colorbar\":{\"outlinewidth\":0,\"ticks\":\"\"},\"colorscale\":[[0.0,\"#0d0887\"],[0.1111111111111111,\"#46039f\"],[0.2222222222222222,\"#7201a8\"],[0.3333333333333333,\"#9c179e\"],[0.4444444444444444,\"#bd3786\"],[0.5555555555555556,\"#d8576b\"],[0.6666666666666666,\"#ed7953\"],[0.7777777777777778,\"#fb9f3a\"],[0.8888888888888888,\"#fdca26\"],[1.0,\"#f0f921\"]]}],\"mesh3d\":[{\"type\":\"mesh3d\",\"colorbar\":{\"outlinewidth\":0,\"ticks\":\"\"}}],\"scatter\":[{\"fillpattern\":{\"fillmode\":\"overlay\",\"size\":10,\"solidity\":0.2},\"type\":\"scatter\"}],\"parcoords\":[{\"type\":\"parcoords\",\"line\":{\"colorbar\":{\"outlinewidth\":0,\"ticks\":\"\"}}}],\"scatterpolargl\":[{\"type\":\"scatterpolargl\",\"marker\":{\"colorbar\":{\"outlinewidth\":0,\"ticks\":\"\"}}}],\"bar\":[{\"error_x\":{\"color\":\"#2a3f5f\"},\"error_y\":{\"color\":\"#2a3f5f\"},\"marker\":{\"line\":{\"color\":\"#E5ECF6\",\"width\":0.5},\"pattern\":{\"fillmode\":\"overlay\",\"size\":10,\"solidity\":0.2}},\"type\":\"bar\"}],\"scattergeo\":[{\"type\":\"scattergeo\",\"marker\":{\"colorbar\":{\"outlinewidth\":0,\"ticks\":\"\"}}}],\"scatterpolar\":[{\"type\":\"scatterpolar\",\"marker\":{\"colorbar\":{\"outlinewidth\":0,\"ticks\":\"\"}}}],\"histogram\":[{\"marker\":{\"pattern\":{\"fillmode\":\"overlay\",\"size\":10,\"solidity\":0.2}},\"type\":\"histogram\"}],\"scattergl\":[{\"type\":\"scattergl\",\"marker\":{\"colorbar\":{\"outlinewidth\":0,\"ticks\":\"\"}}}],\"scatter3d\":[{\"type\":\"scatter3d\",\"line\":{\"colorbar\":{\"outlinewidth\":0,\"ticks\":\"\"}},\"marker\":{\"colorbar\":{\"outlinewidth\":0,\"ticks\":\"\"}}}],\"scattermap\":[{\"type\":\"scattermap\",\"marker\":{\"colorbar\":{\"outlinewidth\":0,\"ticks\":\"\"}}}],\"scattermapbox\":[{\"type\":\"scattermapbox\",\"marker\":{\"colorbar\":{\"outlinewidth\":0,\"ticks\":\"\"}}}],\"scatterternary\":[{\"type\":\"scatterternary\",\"marker\":{\"colorbar\":{\"outlinewidth\":0,\"ticks\":\"\"}}}],\"scattercarpet\":[{\"type\":\"scattercarpet\",\"marker\":{\"colorbar\":{\"outlinewidth\":0,\"ticks\":\"\"}}}],\"carpet\":[{\"aaxis\":{\"endlinecolor\":\"#2a3f5f\",\"gridcolor\":\"white\",\"linecolor\":\"white\",\"minorgridcolor\":\"white\",\"startlinecolor\":\"#2a3f5f\"},\"baxis\":{\"endlinecolor\":\"#2a3f5f\",\"gridcolor\":\"white\",\"linecolor\":\"white\",\"minorgridcolor\":\"white\",\"startlinecolor\":\"#2a3f5f\"},\"type\":\"carpet\"}],\"table\":[{\"cells\":{\"fill\":{\"color\":\"#EBF0F8\"},\"line\":{\"color\":\"white\"}},\"header\":{\"fill\":{\"color\":\"#C8D4E3\"},\"line\":{\"color\":\"white\"}},\"type\":\"table\"}],\"barpolar\":[{\"marker\":{\"line\":{\"color\":\"#E5ECF6\",\"width\":0.5},\"pattern\":{\"fillmode\":\"overlay\",\"size\":10,\"solidity\":0.2}},\"type\":\"barpolar\"}],\"pie\":[{\"automargin\":true,\"type\":\"pie\"}]},\"layout\":{\"autotypenumbers\":\"strict\",\"colorway\":[\"#636efa\",\"#EF553B\",\"#00cc96\",\"#ab63fa\",\"#FFA15A\",\"#19d3f3\",\"#FF6692\",\"#B6E880\",\"#FF97FF\",\"#FECB52\"],\"font\":{\"color\":\"#2a3f5f\"},\"hovermode\":\"closest\",\"hoverlabel\":{\"align\":\"left\"},\"paper_bgcolor\":\"white\",\"plot_bgcolor\":\"#E5ECF6\",\"polar\":{\"bgcolor\":\"#E5ECF6\",\"angularaxis\":{\"gridcolor\":\"white\",\"linecolor\":\"white\",\"ticks\":\"\"},\"radialaxis\":{\"gridcolor\":\"white\",\"linecolor\":\"white\",\"ticks\":\"\"}},\"ternary\":{\"bgcolor\":\"#E5ECF6\",\"aaxis\":{\"gridcolor\":\"white\",\"linecolor\":\"white\",\"ticks\":\"\"},\"baxis\":{\"gridcolor\":\"white\",\"linecolor\":\"white\",\"ticks\":\"\"},\"caxis\":{\"gridcolor\":\"white\",\"linecolor\":\"white\",\"ticks\":\"\"}},\"coloraxis\":{\"colorbar\":{\"outlinewidth\":0,\"ticks\":\"\"}},\"colorscale\":{\"sequential\":[[0.0,\"#0d0887\"],[0.1111111111111111,\"#46039f\"],[0.2222222222222222,\"#7201a8\"],[0.3333333333333333,\"#9c179e\"],[0.4444444444444444,\"#bd3786\"],[0.5555555555555556,\"#d8576b\"],[0.6666666666666666,\"#ed7953\"],[0.7777777777777778,\"#fb9f3a\"],[0.8888888888888888,\"#fdca26\"],[1.0,\"#f0f921\"]],\"sequentialminus\":[[0.0,\"#0d0887\"],[0.1111111111111111,\"#46039f\"],[0.2222222222222222,\"#7201a8\"],[0.3333333333333333,\"#9c179e\"],[0.4444444444444444,\"#bd3786\"],[0.5555555555555556,\"#d8576b\"],[0.6666666666666666,\"#ed7953\"],[0.7777777777777778,\"#fb9f3a\"],[0.8888888888888888,\"#fdca26\"],[1.0,\"#f0f921\"]],\"diverging\":[[0,\"#8e0152\"],[0.1,\"#c51b7d\"],[0.2,\"#de77ae\"],[0.3,\"#f1b6da\"],[0.4,\"#fde0ef\"],[0.5,\"#f7f7f7\"],[0.6,\"#e6f5d0\"],[0.7,\"#b8e186\"],[0.8,\"#7fbc41\"],[0.9,\"#4d9221\"],[1,\"#276419\"]]},\"xaxis\":{\"gridcolor\":\"white\",\"linecolor\":\"white\",\"ticks\":\"\",\"title\":{\"standoff\":15},\"zerolinecolor\":\"white\",\"automargin\":true,\"zerolinewidth\":2},\"yaxis\":{\"gridcolor\":\"white\",\"linecolor\":\"white\",\"ticks\":\"\",\"title\":{\"standoff\":15},\"zerolinecolor\":\"white\",\"automargin\":true,\"zerolinewidth\":2},\"scene\":{\"xaxis\":{\"backgroundcolor\":\"#E5ECF6\",\"gridcolor\":\"white\",\"linecolor\":\"white\",\"showbackground\":true,\"ticks\":\"\",\"zerolinecolor\":\"white\",\"gridwidth\":2},\"yaxis\":{\"backgroundcolor\":\"#E5ECF6\",\"gridcolor\":\"white\",\"linecolor\":\"white\",\"showbackground\":true,\"ticks\":\"\",\"zerolinecolor\":\"white\",\"gridwidth\":2},\"zaxis\":{\"backgroundcolor\":\"#E5ECF6\",\"gridcolor\":\"white\",\"linecolor\":\"white\",\"showbackground\":true,\"ticks\":\"\",\"zerolinecolor\":\"white\",\"gridwidth\":2}},\"shapedefaults\":{\"line\":{\"color\":\"#2a3f5f\"}},\"annotationdefaults\":{\"arrowcolor\":\"#2a3f5f\",\"arrowhead\":0,\"arrowwidth\":1},\"geo\":{\"bgcolor\":\"white\",\"landcolor\":\"#E5ECF6\",\"subunitcolor\":\"white\",\"showland\":true,\"showlakes\":true,\"lakecolor\":\"white\"},\"title\":{\"x\":0.05},\"mapbox\":{\"style\":\"light\"}}},\"scene\":{\"xaxis\":{\"title\":{\"text\":\"Responsible\"}},\"yaxis\":{\"title\":{\"text\":\"Trustworthy\"}},\"zaxis\":{\"title\":{\"text\":\"Caring\"}},\"aspectmode\":\"cube\"},\"legend\":{\"yanchor\":\"top\",\"y\":0.99,\"xanchor\":\"left\",\"x\":0.01},\"width\":800,\"height\":800},                        {\"responsive\": true}                    ).then(function(){\n",
       "                            \n",
       "var gd = document.getElementById('78a23cef-8d6f-4c20-8075-7b0addb11079');\n",
       "var x = new MutationObserver(function (mutations, observer) {{\n",
       "        var display = window.getComputedStyle(gd).display;\n",
       "        if (!display || display === 'none') {{\n",
       "            console.log([gd, 'removed!']);\n",
       "            Plotly.purge(gd);\n",
       "            observer.disconnect();\n",
       "        }}\n",
       "}});\n",
       "\n",
       "// Listen for the removal of the full notebook cells\n",
       "var notebookContainer = gd.closest('#notebook-container');\n",
       "if (notebookContainer) {{\n",
       "    x.observe(notebookContainer, {childList: true});\n",
       "}}\n",
       "\n",
       "// Listen for the clearing of the current output cell\n",
       "var outputEl = gd.closest('.output');\n",
       "if (outputEl) {{\n",
       "    x.observe(outputEl, {childList: true});\n",
       "}}\n",
       "\n",
       "                        })                };            </script>        </div>\n",
       "</body>\n",
       "</html>"
      ]
     },
     "metadata": {},
     "output_type": "display_data"
    }
   ],
   "source": [
    "fig = go.Figure()\n",
    "\n",
    "# x, y, z data points in 3D\n",
    "fig.add_trace(go.Scatter3d(\n",
    "    x=x, y=y, z=z,\n",
    "    mode='markers',\n",
    "    marker=dict(size=4,opacity=0.7, color='blue'),\n",
    "    name='Original Data'\n",
    "))\n",
    "\n",
    "# Formatting\n",
    "fig.update_layout(\n",
    "    scene=dict(\n",
    "        xaxis_title='Responsible',\n",
    "        yaxis_title='Trustworthy',\n",
    "        zaxis_title='Caring',\n",
    "        aspectmode='cube',\n",
    "    ),\n",
    "    width=800, height=800,\n",
    "    legend=dict(yanchor=\"top\", y=0.99, xanchor=\"left\", x=0.01)\n",
    ")\n",
    "fig.show()"
   ]
  },
  {
   "cell_type": "markdown",
   "metadata": {},
   "source": [
    "All three sets of ratings are clearly correlated. We can further quantify what we see by computing correlation coefficients:"
   ]
  },
  {
   "cell_type": "code",
   "execution_count": 13,
   "metadata": {},
   "outputs": [
    {
     "name": "stdout",
     "output_type": "stream",
     "text": [
      "Correlation between responsible and trustworthy dimensions: 0.8833615858402782\n",
      "Correlation between responsible and caring dimensions: 0.766116004115042\n",
      "Correlation between caring and trustworthy dimensions: 0.8311240682181321\n"
     ]
    }
   ],
   "source": [
    "print('Correlation between responsible and trustworthy dimensions:', np.corrcoef(x, y)[0, 1])\n",
    "print('Correlation between responsible and caring dimensions:', np.corrcoef(x, z)[0, 1])\n",
    "print('Correlation between caring and trustworthy dimensions:', np.corrcoef(z, y)[0, 1])"
   ]
  },
  {
   "cell_type": "markdown",
   "metadata": {},
   "source": [
    "Importantly, the correlations are not perfect, and the points are distributed across all three dimensions of the space to some extent.\n",
    "\n",
    "Nonetheless, as in the original 2D case, it's reasonable to suspect that a single dimension may capture all three existing dimensions to a large extent (even if not fully).\n",
    "\n",
    "So far, we've explored the application of PCA to two dimensions where we searched for a single slope $\\text{m}$ to define a line that maximizes the variance of projected points. That is, our task has been to find a single dimension that explains as much of the variation in ratings as possible. \n",
    "\n",
    "Let's extend this idea to three dimensions ($x$, $y$, $z$).\n",
    "\n",
    "First, we need to recompute total variance with variation in \"caring\" ratings included."
   ]
  },
  {
   "cell_type": "markdown",
   "metadata": {
    "deletable": false,
    "editable": false
   },
   "source": [
    "**Question 2:** Compute `total_variance` for all three rating dimensions."
   ]
  },
  {
   "cell_type": "code",
   "execution_count": 16,
   "metadata": {
    "tags": [
     "otter_answer_cell"
    ]
   },
   "outputs": [
    {
     "data": {
      "text/plain": [
       "np.float64(3.0)"
      ]
     },
     "execution_count": 16,
     "metadata": {},
     "output_type": "execute_result"
    }
   ],
   "source": [
    "# Your code here\n",
    "total_variance = np.var(x) + np.var(y) + np.var(z)\n",
    "\n",
    "# do not change\n",
    "total_variance"
   ]
  },
  {
   "cell_type": "code",
   "execution_count": 17,
   "metadata": {
    "deletable": false,
    "editable": false
   },
   "outputs": [
    {
     "data": {
      "text/html": [
       "<p><strong><pre style='display: inline;'>q2</pre></strong> passed! 🎉</p>"
      ],
      "text/plain": [
       "q2 results: All test cases passed!"
      ]
     },
     "execution_count": 17,
     "metadata": {},
     "output_type": "execute_result"
    }
   ],
   "source": [
    "grader.check(\"q2\")"
   ]
  },
  {
   "cell_type": "markdown",
   "metadata": {},
   "source": [
    "\n",
    "\n",
    "Our goal is still to find a single dimension (a line; PC1) that captures as much of this total variance as possible. In 3D space, lines are defined by **two** slopes (`n_dimensions - 1`) rather than one:\n",
    "- $\\text{m}_{\\text{xy}}$ (relating trustworthy to responsible)\n",
    "- $\\text{m}_{\\text{xz}}$ (relating caring to responsible)\n",
    "\n",
    "Our line equation then becomes:\n",
    "- $y = \\text{m}_{\\text{xy}} x$\n",
    "- $z = \\text{m}_{\\text{xz}} x.$\n",
    "\n",
    "In two dimensions, we varied the slope parameter $\\text{m}$ and projected points onto the line defined by that slope. Similarly, in three dimensions, we want to vary $\\text{m}_{\\text{xy}}$ and $\\text{m}_{\\text{xz}}$, and project points onto the line defined by those slopes.\n",
    "\n",
    "To project points onto a line in 3D, we can extend our original projection formula from:\n",
    "$$x_p = (x + \\text{m}y) / (\\text{m}^2 + 1)$$\n",
    "to:\n",
    "$$x_p = (x + \\text{m}_{\\text{xy}}y + \\text{m}_{\\text{xz}}z) / (\\text{m}_{\\text{xy}}^2 + \\text{m}_{\\text{xz}}^2 + 1).$$\n",
    "\n",
    "Hopefully you can see from the pattern that the projection formula can be generalized to any number of dimensions.\n",
    "\n",
    "Just as before, once we obtain $x_p$, we can easily compute $y_p = \\text{m}_{\\text{xy}} x_p$ and $z_p = \\text{m}_{\\text{xz}} x_p$."
   ]
  },
  {
   "cell_type": "markdown",
   "metadata": {
    "deletable": false,
    "editable": false
   },
   "source": [
    "**Question 3:** Create a function called `project_point_onto_line_3d` that takes `x`, `y`, `z`, `slope_xy`, and `slope_xz` and returns `x_p`, `y_p`, and `z_p`."
   ]
  },
  {
   "cell_type": "code",
   "execution_count": 18,
   "metadata": {
    "tags": [
     "otter_answer_cell"
    ]
   },
   "outputs": [],
   "source": [
    "# Your code here\n",
    "def project_point_onto_line_3d(x, y, z, slope_xy, slope_xz):\n",
    "    x_p = (x + slope_xy * y + slope_xz * z) / (1 + slope_xy**2 + slope_xz**2)\n",
    "    y_p = slope_xy * x_p\n",
    "    z_p = slope_xz * x_p\n",
    "    return x_p, y_p, z_p\n"
   ]
  },
  {
   "cell_type": "code",
   "execution_count": 19,
   "metadata": {
    "deletable": false,
    "editable": false
   },
   "outputs": [
    {
     "data": {
      "text/html": [
       "<p><strong><pre style='display: inline;'>q3</pre></strong> passed! 🍀</p>"
      ],
      "text/plain": [
       "q3 results: All test cases passed!"
      ]
     },
     "execution_count": 19,
     "metadata": {},
     "output_type": "execute_result"
    }
   ],
   "source": [
    "grader.check(\"q3\")"
   ]
  },
  {
   "cell_type": "markdown",
   "metadata": {
    "deletable": false,
    "editable": false
   },
   "source": [
    "Now, we can find PC1 by finding the best **pair** of slopes that minimizes the sum of squared distances between the original points and their projections.\n",
    "\n",
    "**Question 4:** Create a function called `find_best_slopes` that takes as input `x`, `y`, and `z` and returns as output `best_slope_xy`, `best_slope_xz`, and `min_distance_sum`. Unlike the single-slope case, you will need to make use of a nested loop to find the best slope values. For both, search only the slopes in `np.linspace(-1.4, 1.4, 500)`."
   ]
  },
  {
   "cell_type": "code",
   "execution_count": 20,
   "metadata": {
    "tags": [
     "otter_answer_cell"
    ]
   },
   "outputs": [],
   "source": [
    "# Your code here\n",
    "def find_best_slopes(x, y, z):\n",
    "    min_distance_sum = float('inf')\n",
    "    best_slope_xy = None\n",
    "    best_slope_xz = None\n",
    "    \n",
    "    for slope_xy in np.linspace(-1.4, 1.4, 500):\n",
    "        for slope_xz in np.linspace(-1.4, 1.4, 500):\n",
    "            x_p = (x + slope_xy * y + slope_xz * z) / (1 + slope_xy**2 + slope_xz**2)\n",
    "            y_p = slope_xy * x_p\n",
    "            z_p = slope_xz * x_p\n",
    "            distance_sum = np.sum((x - x_p)**2 + (y - y_p)**2 + (z - z_p)**2)\n",
    "            if distance_sum < min_distance_sum:\n",
    "                min_distance_sum = distance_sum\n",
    "                best_slope_xy = slope_xy\n",
    "                best_slope_xz = slope_xz\n",
    "                \n",
    "    return best_slope_xy, best_slope_xz, min_distance_sum\n",
    "\n",
    "\n",
    "# do not change\n",
    "best_slope_xy, best_slope_xz, min_distance_sum = find_best_slopes(x, y, z)"
   ]
  },
  {
   "cell_type": "code",
   "execution_count": 21,
   "metadata": {
    "deletable": false,
    "editable": false
   },
   "outputs": [
    {
     "data": {
      "text/html": [
       "<p><strong><pre style='display: inline;'>q4</pre></strong> passed! ✨</p>"
      ],
      "text/plain": [
       "q4 results: All test cases passed!"
      ]
     },
     "execution_count": 21,
     "metadata": {},
     "output_type": "execute_result"
    }
   ],
   "source": [
    "grader.check(\"q4\")"
   ]
  },
  {
   "cell_type": "markdown",
   "metadata": {},
   "source": [
    "We can see the best pair of slopes and correponding minimum sum:"
   ]
  },
  {
   "cell_type": "code",
   "execution_count": 22,
   "metadata": {},
   "outputs": [
    {
     "name": "stdout",
     "output_type": "stream",
     "text": [
      "Best slopes that minimize the sum of squared distances:\n",
      "slope_xy = 1.0240480961923848, slope_xz = 0.9791583166332667\n",
      "Sum of squared distances: 22.792760784022335\n"
     ]
    }
   ],
   "source": [
    "print(f\"Best slopes that minimize the sum of squared distances:\")\n",
    "print(f\"slope_xy = {best_slope_xy}, slope_xz = {best_slope_xz}\")\n",
    "print(f\"Sum of squared distances: {min_distance_sum}\")"
   ]
  },
  {
   "cell_type": "markdown",
   "metadata": {},
   "source": [
    "As in the 2D case, we can now project our points onto PC1:"
   ]
  },
  {
   "cell_type": "code",
   "execution_count": 23,
   "metadata": {},
   "outputs": [],
   "source": [
    "x_p, y_p, z_p = project_point_onto_line_3d(x, y, z, best_slope_xy, best_slope_xz)"
   ]
  },
  {
   "cell_type": "markdown",
   "metadata": {},
   "source": [
    "We can then visualize the projection of these points onto PC1 below. **Click and drag** your mouse to **rotate** the plot below and visualize the projection.\n",
    "\n",
    "Note that the blue dots are the original points, the red line is PC1, and the blue lines are the shortest paths between the original points and their projections onto PC1."
   ]
  },
  {
   "cell_type": "code",
   "execution_count": 24,
   "metadata": {},
   "outputs": [
    {
     "data": {
      "text/html": [
       "<html>\n",
       "<head><meta charset=\"utf-8\" /></head>\n",
       "<body>\n",
       "    <div>            <script src=\"https://cdnjs.cloudflare.com/ajax/libs/mathjax/2.7.5/MathJax.js?config=TeX-AMS-MML_SVG\"></script><script type=\"text/javascript\">if (window.MathJax && window.MathJax.Hub && window.MathJax.Hub.Config) {window.MathJax.Hub.Config({SVG: {font: \"STIX-Web\"}});}</script>                <script type=\"text/javascript\">window.PlotlyConfig = {MathJaxConfig: 'local'};</script>\n",
       "        <script charset=\"utf-8\" src=\"https://cdn.plot.ly/plotly-3.0.1.min.js\"></script>                <div id=\"5103e09d-6ed2-4049-a48b-06e9268f3aaf\" class=\"plotly-graph-div\" style=\"height:800px; width:800px;\"></div>            <script type=\"text/javascript\">                window.PLOTLYENV=window.PLOTLYENV || {};                                if (document.getElementById(\"5103e09d-6ed2-4049-a48b-06e9268f3aaf\")) {                    Plotly.newPlot(                        \"5103e09d-6ed2-4049-a48b-06e9268f3aaf\",                        [{\"marker\":{\"color\":\"blue\",\"opacity\":0.7,\"size\":4},\"mode\":\"markers\",\"name\":\"Original Data\",\"x\":{\"dtype\":\"f8\",\"bdata\":\"n0gl4uXR\\u002fT\\u002fx5d1xXH3Zv2aboh5tC60\\u002fwKMfwCVS4b\\u002fmW4OtAYXuP4QPI+Vvafg\\u002fdhg6O41H6D9FroBhCVzqPyp1fmST8+Q\\u002fUQWBzhR56r+3\\u002fQHPp8f8P2pOW0\\u002f9TvS\\u002fkVE8OAOw7T9vG05KJ33gv4HKQtW79vE\\u002fFgXP2f55879vG05KJ33gv6OpFXE24PQ\\u002fkdlOI3lr8z\\u002fKbbFZPEHeP\\u002f98r1gWpOm\\u002fOORUIwBa7z\\u002fx5d1xXH3Zv9mcUEPtsMa\\u002fBvbCi0EF8r\\u002f+60\\u002f3I9yuv1vfNz4X3+I\\u002fX4R8Y21W0L8\\u002fUX2tepbyPw3nw9P2qvQ\\u002f5luDrQGF7j8qdX5kk\\u002fPkPzWZJWiw2QHA4xuyM1N73r8yIg6qUVDfv\\u002fqvvF3sdf2\\u002fOQxQS00a1T+CbzqomGTov+MbsjNTe96\\u002fJHSlmGvg\\u002fb+BykLVu\\u002fbxP\\u002ftpa2S5kMk\\u002fdhg6O41H6D9oFWbo+QDzP9vcIb2buua\\u002fhYfLaPNccz\\u002fr5h51U8bRP\\u002fdq3E04A\\u002fe\\u002fmvdZKYE68r8hvpYa5wTKv4WHy2jzXHM\\u002fMiIOqlFQ379fhHxjbVbQvz9Rfa16lvI\\u002fOotsVPm9vL9ltMKrIvziv9v45Om+TPA\\u002fNsx+0Z4Q5b+mQE+PvzzGP3tIgINC7do\\u002fRJDdPaottT\\u002fMbf6rtUr1P0IWhGbrjQTA6N\\u002f1Dy8B\\u002fL\\u002fb3CG9m7rmv6ilwjpnqtO\\u002f\"},\"y\":{\"dtype\":\"f8\",\"bdata\":\"vCT\\u002fXGpoAECH+hSRw0nJvzsp86v8z9E\\u002f6+JSRDL3pb\\u002f7ciF2UVnyP4B1MjiUG\\u002fc\\u002fG1drUkiq2D82GndK4XbtP85+dGOTj+s\\u002fQ49MSyTQ+b9nZed7RajpP2OpZnpDMva\\u002foI9MZ7N98z98XUEpodPYvw9g+HmYntU\\u002fSPrFyeMa8L\\u002fq4ySScQ7PP0R2GvY5ccc\\u002fBvFrJGyh+D\\u002fq4ySScQ7PP6Fkcq7sMvK\\u002fta25vyRK0D9da3B5QbzSv\\u002ffhBz3JTde\\u002fIHGsVEvbzb\\u002fg6a2PbSLoP1pudKOVnOY\\u002fqDySXgg2ur+hCHWRSEHwPzY83FXQ0vQ\\u002fgFPNLKW\\u002f7z9VF9lcXOfXP54xjGaywgHAKlnUxFl88L\\u002f8zh6T9Ur0v3c7W0u72gPA6+JSRDL3pb98XUEpodPYv7g62kCm4uK\\u002ftH0+Vc8XA8CAdTI4lBv3P1mnrVdY+5A\\u002f7pTg8ouswb8mC4ZTiwP1PxHtGPsZN+i\\u002ftwdZMLLfwj+TmNmOA3LwP49OrK2oHrS\\u002faw8zCrgS579RIU1ZWPvgv3dOq6gfO+Y\\u002fOsTC2FPh6r9cYyHCFyqdP3K9BGDkD\\u002fQ\\u002fz5ufcIRh1j+VSyfaAOvev8CHAYvjg+g\\u002fENDt7Shl3b+PXw\\u002fT+BKxv93ssbnBAsw\\u002fPZnoH42W2b8G8WskbKH4P45By1d93Pi\\u002fXX0y\\u002fIPn\\u002f79eGMAxCAfkv3LJgS+lv5+\\u002f\"},\"z\":{\"dtype\":\"f8\",\"bdata\":\"\\u002ft\\u002f\\u002fcNnI9D\\u002fRyUq6BrLcP2mL1E9SGfA\\u002f4zgWMJlxkD+aYJAZxMbyPzKnguri\\u002f\\u002fI\\u002fMYqz\\u002fnwd9D\\u002fjOBYwmXGQP+Yqh4U3lOA\\u002fSRUOWuYoAMCqJzie9Ie5P262vCBWfPK\\u002fwGqicGxD\\u002fT8G\\u002fa7xdLXyv5pgkBnExvI\\u002f0pFAZNFg879ur4F2i83bP6vvx1yW0+Y\\u002fyXSR4zV09T+t4cI13Ja\\u002fv+GY3sgPR+6\\u002fDAUK46dy1j8c1J3xsAfov2\\u002f831spTu8\\u002fskWY\\u002fp2Z67\\u002fVUEd3cPftP9\\u002f+If7TRec\\u002fE3lGkj\\u002f80T8xirP+fB30P\\u002fzCMIVz5vU\\u002fwGqicGxD\\u002fT\\u002fjtT3qWqStP+Et9jTS8ADAHSH81k6I27\\u002f98r9+q4T6v5MbuNYPYwHAbq+BdovN2z\\u002fSkUBk0WDzv+M4FjCZcZA\\u002fld2dY2Tb+78xirP+fB30Pw1SaMhF8+k\\u002f3rHDGDbF0z9gnZ39t0LJP2D6YskrSsy\\u002fZhLxd4ZU8j8E9xBp1OfDPx0h\\u002fNZOiNu\\u002fS3RCocA13r9XD10aUsjhvw1SaMhF8+k\\u002fn+eM1i0M9L8Zmv8Z5ULqv1hcu\\u002f\\u002fvSNW\\u002f+EsAN0jvxr9hOv9ig2Wav2E6\\u002f2KDZZq\\u002freHCNdyWv7+op3pvnjuIv7yrm13NrOK\\u002fnKVzomSUwb824SDCrsTwP9borScDCPC\\u002fXdx8Eo\\u002ff\\u002f7+CcNw0LOzovw7fp2xNuZ4\\u002f\"},\"type\":\"scatter3d\"},{\"line\":{\"color\":\"red\",\"width\":6},\"mode\":\"lines\",\"name\":\"PC1\",\"x\":{\"dtype\":\"f8\",\"bdata\":\"oNmUuwHpBMAmLed+3XwEwKyAOUK5EATAMtSLBZWkA8C3J97IcDgDwD57MIxMzALAw86CTyhgAsBJItUSBPQBwM91J9bfhwHAVMl5mbsbAcDaHMxcl68AwGBwHiBzQwDAzIfhxp2u\\u002f7\\u002fYLoZNVdb+v+PVKtQM\\u002fv2\\u002f73zPWsQl\\u002fb\\u002f7I3The038vwbLGGgzdfu\\u002fEXK97uqc+r8eGWJ1osT5vynABvxZ7Pi\\u002fNGerghEU+L9ADlAJyTv3v0y19I+AY\\u002fa\\u002fV1yZFjiL9b9jAz6d77L0v26q4iOn2vO\\u002felGHql4C87+G+CsxFiryv5Gf0LfNUfG\\u002fnUZ1PoV58L9Q2zOKeULvv2gpfZfoke2\\u002fgHfGpFfh67+WxQ+yxjDqv64TWb81gOi\\u002fxGGizKTP5r\\u002fcr+vZEx\\u002flv\\u002fX9NOeCbuO\\u002fCkx+9PG94b8jmscBYQ3gv3HQIR6gudy\\u002foWy0OH5Y2b\\u002fSCEdTXPfVv\\u002f2k2W06ltK\\u002fUoLYEDFqzr+8uv1F7afHvxPzInup5cC\\u002f1VaQYMtGtL+iHmsrDwmbv6IeaysPCZs\\u002f+laQYMtGtD8m8yJ7qeXAP7y6\\u002fUXtp8c\\u002fZILYEDFqzj8GpdltOpbSP9IIR1Nc99U\\u002fpmy0OH5Y2T960CEeoLncPyOaxwFhDeA\\u002fDUx+9PG94T\\u002f3\\u002fTTngm7jP+Gv69kTH+U\\u002fx2GizKTP5j+xE1m\\u002fNYDoP5vFD7LGMOo\\u002fgHfGpFfh6z9rKX2X6JHtP1XbM4p5Qu8\\u002fn0Z1PoV58D+Sn9C3zVHxP4f4KzEWKvI\\u002ffFGHql4C8z9vquIjp9rzP2QDPp3vsvQ\\u002fWVyZFjiL9T9MtfSPgGP2P0EOUAnJO\\u002fc\\u002fNmerghEU+D8rwAb8Wez4Px4ZYnWixPk\\u002fE3K97uqc+j8IyxhoM3X7P\\u002fsjdOF7Tfw\\u002f8HzPWsQl\\u002fT\\u002fl1SrUDP79P9guhk1V1v4\\u002fzYfhxp2u\\u002fz9hcB4gc0MAQNwczFyXrwBAVsl5mbsbAUDOdSfW34cBQEki1RIE9AFAw86CTyhgAkA+ezCMTMwCQLkn3shwOANAM9SLBZWkA0CugDlCuRAEQCYt537dfARAoNmUuwHpBEA=\"},\"y\":{\"dtype\":\"f8\",\"bdata\":\"+4ARhLxpBcBxcZKG\\u002fvoEwOlhE4lAjATAYFKUi4IdBMDXQhWOxK4DwE4zlpAGQAPAxSMXk0jRAsA8FJiVimICwLMEGZjM8wHAKvWZmg6FAcCh5RqdUBYBwBjWm5+SpwDAj8YcotQ4AMANbjtJLZT\\u002fv\\u002fpOPU6xtv6\\u002f6S8\\u002fUzXZ\\u002fb\\u002fXEEFYufv8v8XxQl09Hvy\\u002fstJEYsFA+7+is0ZnRWP6v4+USGzJhfm\\u002ffXVKcU2o+L9rVkx20cr3v1o3TntV7fa\\u002fRxhQgNkP9r82+VGFXTL1vyPaU4rhVPS\\u002fErtVj2V3878BnFeU6Znyv+58WZltvPG\\u002f3V1bnvHe8L\\u002fKPl2jdQHwv3E\\u002fvlDzR+6\\u002fTgHCWvuM7L8pw8VkA9LqvwaFyW4LF+m\\u002f4UbNeBNc57++CNGCG6Hlv5vK1Iwj5uO\\u002fdozYlisr4r9TTtygM3Dgv1wgwFV3at2\\u002fFqTHaYf02b\\u002fRJ899l37Wv4ar1pGnCNO\\u002feF68S28lz7\\u002f2ZctzjznIv2Ft2puvTcG\\u002fmenSh5\\u002fDtL9T4sNff6+bv1Piw19\\u002fr5s\\u002fvunSh5\\u002fDtD90bdqbr03BP\\u002fZly3OPOcg\\u002fi168S28lzz+Qq9aRpwjTP9Enz32XftY\\u002fG6THaYf02T9lIMBVd2rdP1NO3KAzcOA\\u002feIzYlisr4j+eytSMI+bjP8MI0YIboeU\\u002f40bNeBNc5z8IhcluCxfpPy7DxWQD0uo\\u002fTgHCWvuM7D9zP75Q80fuP8w+XaN1AfA\\u002f311bnvHe8D\\u002fvfFmZbbzxPwKcV5TpmfI\\u002fFLtVj2V38z8l2lOK4VT0Pzf5UYVdMvU\\u002fShhQgNkP9j9aN057Ve32P21WTHbRyvc\\u002ff3VKcU2o+D+SlEhsyYX5P6KzRmdFY\\u002fo\\u002ftdJEYsFA+z\\u002fH8UJdPR78P9cQQVi5+\\u002fw\\u002f6i8\\u002fUzXZ\\u002fT\\u002f9Tj1Osbb+Pw1uO0ktlP8\\u002fkMYcotQ4AEAZ1pufkqcAQKLlGp1QFgFALPWZmg6FAUCzBBmYzPMBQDwUmJWKYgJAxSMXk0jRAkBOM5aQBkADQNhCFY7ErgNAYVKUi4IdBEDqYROJQIwEQHFxkob++gRA+4ARhLxpBUA=\"},\"z\":{\"dtype\":\"f8\",\"bdata\":\"qVmx63B5BMDm4HSrjQ8EwCRoOGuqpQPAYe\\u002f7Ksc7A8Cedr\\u002fq49ECwNz9gqoAaALAGYVGah3+AcBWDAoqOpQBwJOTzelWKgHA0BqRqXPAAMANolRpkFYAwJVSMFJa2f+\\u002fD2G30ZMF\\u002f7+Kbz5RzTH+vwR+xdAGXv2\\u002ff4xMUECK\\u002fL\\u002f6mtPPebb7v3SpWk+z4vq\\u002f7bfhzuwO+r9qxmhOJjv5v+PU781fZ\\u002fi\\u002fXeN2TZmT97\\u002fY8f3M0r\\u002f2v1MAhUwM7PW\\u002fzQ4MzEUY9b9IHZNLf0T0v8ErGsu4cPO\\u002fPDqhSvKc8r+3SCjKK8nxvzFXr0ll9fC\\u002frGU2yZ4h8L9L6HqRsJvuv0EFiZAj9Oy\\u002fNyKXj5ZM678qP6WOCaXpvyBcs418\\u002fee\\u002fFHnBjO9V5r8Kls+LYq7kv\\u002f+y3YrVBuO\\u002f88\\u002friUhf4b\\u002fR2fMRd2\\u002ffv7kTEBBdINy\\u002fpE0sDkPR2L+Qh0gMKYLVv3fBZAoPM9K\\u002fvPYBEerHzb+cajoNtinHv2recgmCi8C\\u002fcaRWC5zas7\\u002fHMB4P0Hiav8cwHg\\u002fQeJo\\u002flaRWC5zasz983nIJgovAP5xqOg22Kcc\\u002fzvYBEerHzT+AwWQKDzPSP5CHSAwpgtU\\u002fqU0sDkPR2D\\u002fCExAQXSDcP9HZ8xF3b98\\u002f9c\\u002friUhf4T8Cs92K1QbjPw6Wz4tiruQ\\u002fFnnBjO9V5j8iXLONfP3nPy8\\u002fpY4Jpek\\u002fNyKXj5ZM6z9DBYmQI\\u002fTsP1DoepGwm+4\\u002frmU2yZ4h8D8yV69JZfXwP7hIKMoryfE\\u002fPjqhSvKc8j\\u002fCKxrLuHDzP0kdk0t\\u002fRPQ\\u002fzw4MzEUY9T9TAIVMDOz1P9nx\\u002fczSv\\u002fY\\u002fX+N2TZmT9z\\u002fm1O\\u002fNX2f4P2rGaE4mO\\u002fk\\u002f8LfhzuwO+j92qVpPs+L6P\\u002fqa0895tvs\\u002fgIxMUECK\\u002fD8GfsXQBl79P4pvPlHNMf4\\u002fEWG30ZMF\\u002fz+XUjBSWtn\\u002fPw+iVGmQVgBA0hqRqXPAAECSk83pVioBQFYMCio6lAFAGYVGah3+AUDc\\u002fYKqAGgCQJ92v+rj0QJAYu\\u002f7Ksc7A0AlaDhrqqUDQObgdKuNDwRAqVmx63B5BEA=\"},\"type\":\"scatter3d\"},{\"line\":{\"color\":\"blue\",\"width\":1},\"mode\":\"lines\",\"showlegend\":false,\"x\":[1.8637446245016134,1.741028130252641],\"y\":[2.050984121834146,1.7828965422026042],\"z\":[1.2990354932826444,1.7047421732293397],\"type\":\"scatter3d\"},{\"line\":{\"color\":\"blue\",\"width\":1},\"mode\":\"lines\",\"showlegend\":false,\"x\":[-0.39827643508723926,-0.053723657285788436],\"y\":[-0.19756359657363395,-0.05501560896400379],\"z\":[0.4483658618220519,-0.052603965831335135],\"type\":\"scatter3d\"},{\"line\":{\"color\":\"blue\",\"width\":1},\"mode\":\"lines\",\"showlegend\":false,\"x\":[0.05672780035938878,0.44122517941025513],\"y\":[0.2783195189664586,0.4518358049672152],\"z\":[1.0061820143098095,0.4320293039275565],\"type\":\"scatter3d\"},{\"line\":{\"color\":\"blue\",\"width\":1},\"mode\":\"lines\",\"showlegend\":false,\"x\":[-0.5412777664579309,-0.18936043086973625],\"y\":[-0.04290158351927239,-0.1939141887263231],\"z\":[0.016058343467698754,-0.18541384072736103],\"type\":\"scatter3d\"},{\"line\":{\"color\":\"blue\",\"width\":1},\"mode\":\"lines\",\"showlegend\":false,\"x\":[0.9537361515930314,1.0896992897325732],\"y\":[1.1468062033156332,1.1159044830728355],\"z\":[1.17352685914924,1.0669881221710127],\"type\":\"scatter3d\"},{\"line\":{\"color\":\"blue\",\"width\":1},\"mode\":\"lines\",\"showlegend\":false,\"x\":[1.5257414770757984,1.3857131324369127],\"y\":[1.4442331500243597,1.4190368951408066],\"z\":[1.1874722633896906,1.3568325380935384],\"type\":\"scatter3d\"},{\"line\":{\"color\":\"blue\",\"width\":1},\"mode\":\"lines\",\"showlegend\":false,\"x\":[0.7587343365455712,0.792835151736604],\"y\":[0.385393219459148,0.8119013277302699],\"z\":[1.2571992825766183,0.7763111325420937],\"type\":\"scatter3d\"},{\"line\":{\"color\":\"blue\",\"width\":1},\"mode\":\"lines\",\"showlegend\":false,\"x\":[0.8237349418972789,0.592654044325545],\"y\":[0.9207617239379207,0.6069062457922916],\"z\":[0.016058343467698754,0.5803021363876981],\"type\":\"scatter3d\"},{\"line\":{\"color\":\"blue\",\"width\":1},\"mode\":\"lines\",\"showlegend\":false,\"x\":[0.6547333681843714,0.6796566379357954],\"y\":[0.8612763349992407,0.6960010861426683],\"z\":[0.5180928810089795,0.6654914494898391],\"type\":\"scatter3d\"},{\"line\":{\"color\":\"blue\",\"width\":1},\"mode\":\"lines\",\"showlegend\":false,\"x\":[-0.8272804291993144,-1.482086413114058],\"y\":[-1.613315862786252,-1.5177277697420515],\"z\":[-2.019970611147674,-1.4511972373697974],\"type\":\"scatter3d\"},{\"line\":{\"color\":\"blue\",\"width\":1},\"mode\":\"lines\",\"showlegend\":false,\"x\":[1.7987440191499056,0.9035863760044126],\"y\":[0.8017909450528976,0.9253159080926951],\"z\":[0.09973076689507701,0.8847541148612346],\"type\":\"scatter3d\"},{\"line\":{\"color\":\"blue\",\"width\":1},\"mode\":\"lines\",\"showlegend\":false,\"x\":[-1.269284543978666,-1.2705861434436794],\"y\":[-1.3872713834085395,-1.3011413212419243],\"z\":[-1.1553555754466305,-1.2441049893518674],\"type\":\"scatter3d\"},{\"line\":{\"color\":\"blue\",\"width\":1},\"mode\":\"lines\",\"showlegend\":false,\"x\":[0.9277359102584787,1.318756490749112],\"y\":[1.2181886706466472,1.3504700736929784],\"z\":[1.8289608382971636,1.2912713855310947],\"type\":\"scatter3d\"},{\"line\":{\"color\":\"blue\",\"width\":1},\"mode\":\"lines\",\"showlegend\":false,\"x\":[-0.5152775241157154,-0.6841246101971457],\"y\":[-0.387916841782008,-0.7005765046307444],\"z\":[-1.169300979687081,-0.6698663016880269],\"type\":\"scatter3d\"},{\"line\":{\"color\":\"blue\",\"width\":1},\"mode\":\"lines\",\"showlegend\":false,\"x\":[1.122737725305939,0.8704238130958576],\"y\":[0.3378049079051388,0.8913558486813291],\"z\":[1.17352685914924,0.852282715588449],\"type\":\"scatter3d\"},{\"line\":{\"color\":\"blue\",\"width\":1},\"mode\":\"lines\",\"showlegend\":false,\"x\":[-1.2172840603018975,-1.1418237828593831],\"y\":[-1.0065648919841284,-1.1692824710243384],\"z\":[-1.2111371914007703,-1.1180262531164222],\"type\":\"scatter3d\"},{\"line\":{\"color\":\"blue\",\"width\":1},\"mode\":\"lines\",\"showlegend\":false,\"x\":[-0.5152775241157154,0.05272014629087231],\"y\":[0.24262828479712023,0.0539879654401518],\"z\":[0.4344204575816012,0.05162136969483009],\"type\":\"scatter3d\"},{\"line\":{\"color\":\"blue\",\"width\":1},\"mode\":\"lines\",\"showlegend\":false,\"x\":[1.3047394196861226,0.7284463443590233],\"y\":[0.18314289585844012,0.7459640921191601],\"z\":[0.7133285343293115,0.7132642963002382],\"type\":\"scatter3d\"},{\"line\":{\"color\":\"blue\",\"width\":1},\"mode\":\"lines\",\"showlegend\":false,\"x\":[1.2137385729998622,1.3643210397317165],\"y\":[1.5394097731323781,1.3971303633324792],\"z\":[1.3408717049963335,1.3358862926110557],\"type\":\"scatter3d\"},{\"line\":{\"color\":\"blue\",\"width\":1},\"mode\":\"lines\",\"showlegend\":false,\"x\":[0.4727316738041877,0.19962947861909353],\"y\":[0.24262828479712023,0.2044301875237611],\"z\":[-0.12339569389849343,0.19546886423504833],\"type\":\"scatter3d\"},{\"line\":{\"color\":\"blue\",\"width\":1},\"mode\":\"lines\",\"showlegend\":false,\"x\":[-0.8012801868570988,-0.961792956978909],\"y\":[-1.1374327482538222,-0.984922246525496],\"z\":[-0.9461745188935106,-0.9417475727052004],\"type\":\"scatter3d\"},{\"line\":{\"color\":\"blue\",\"width\":1},\"mode\":\"lines\",\"showlegend\":false,\"x\":[0.979736393935247,0.5266366387832581],\"y\":[0.254525363189454,0.539301247331152],\"z\":[0.3507480351618859,0.5156606447084167],\"type\":\"scatter3d\"},{\"line\":{\"color\":\"blue\",\"width\":1},\"mode\":\"lines\",\"showlegend\":false,\"x\":[-0.39827643508723926,-0.47660184079557066],\"y\":[-0.2927402196816525,-0.4880632077084902],\"z\":[-0.7509388655731786,-0.46666865613770714],\"type\":\"scatter3d\"},{\"line\":{\"color\":\"blue\",\"width\":1},\"mode\":\"lines\",\"showlegend\":false,\"x\":[-0.1772743776975634,0.13558056467934387],\"y\":[-0.36412268600500347,0.1388410191405706],\"z\":[0.978291205828908,0.13275483747961409],\"type\":\"scatter3d\"},{\"line\":{\"color\":\"blue\",\"width\":1},\"mode\":\"lines\",\"showlegend\":false,\"x\":[-1.1262832126079743,-0.7347392205536943],\"y\":[-0.23325482973530942,-0.7524083000058874],\"z\":[-0.8625020954661322,-0.7194260183617938],\"type\":\"scatter3d\"},{\"line\":{\"color\":\"blue\",\"width\":1},\"mode\":\"lines\",\"showlegend\":false,\"x\":[-0.06027328866908731,0.5416606902641473],\"y\":[0.7542026334988883,0.5546865986472531],\"z\":[0.9364549951228819,0.5303715696654557],\"type\":\"scatter3d\"},{\"line\":{\"color\":\"blue\",\"width\":1},\"mode\":\"lines\",\"showlegend\":false,\"x\":[0.5897327628326637,0.6734850556003444],\"y\":[0.706614321944879,0.6896810890015551],\"z\":[0.7272739375620992,0.6594484933192953],\"type\":\"scatter3d\"},{\"line\":{\"color\":\"blue\",\"width\":1},\"mode\":\"lines\",\"showlegend\":false,\"x\":[-0.25527510371654744,-0.02825015072841749],\"y\":[-0.10238697346561543,-0.028929513070583845],\"z\":[0.2810210159749584,-0.027661370031873325],\"type\":\"scatter3d\"},{\"line\":{\"color\":\"blue\",\"width\":1},\"mode\":\"lines\",\"showlegend\":false,\"x\":[1.161738088315431,1.141542803824041],\"y\":[1.015938347045939,1.1689947349781262],\"z\":[1.2571992825766183,1.1177511301571674],\"type\":\"scatter3d\"},{\"line\":{\"color\":\"blue\",\"width\":1},\"mode\":\"lines\",\"showlegend\":false,\"x\":[1.291739299018846,1.3183171215773288],\"y\":[1.3014682153623318,1.3500201385290882],\"z\":[1.368762512469572,1.290841173552471],\"type\":\"scatter3d\"},{\"line\":{\"color\":\"blue\",\"width\":1},\"mode\":\"lines\",\"showlegend\":false,\"x\":[0.9537361515930314,1.250432212530626],\"y\":[0.9921441912689346,1.280502726659619],\"z\":[1.8289608382971636,1.224371100285499],\"type\":\"scatter3d\"},{\"line\":{\"color\":\"blue\",\"width\":1},\"mode\":\"lines\",\"showlegend\":false,\"x\":[0.6547333681843714,0.3637328047239897],\"y\":[0.3734961420744772,0.37247988620031813],\"z\":[0.057894555181387884,0.3561520007778385],\"type\":\"scatter3d\"},{\"line\":{\"color\":\"blue\",\"width\":1},\"mode\":\"lines\",\"showlegend\":false,\"x\":[-2.2312935005640164,-2.1873203572392232],\"y\":[-2.2200668345960386,-2.2399212475936734],\"z\":[-2.11758843780784,-2.1417329189320333],\"type\":\"scatter3d\"},{\"line\":{\"color\":\"blue\",\"width\":1},\"mode\":\"lines\",\"showlegend\":false,\"x\":[-0.47627716110622326,-0.6492739299044965],\"y\":[-1.030359047761133,-0.6648877318260475],\"z\":[-0.4301945781194421,-0.6357419682391524],\"type\":\"scatter3d\"},{\"line\":{\"color\":\"blue\",\"width\":1},\"mode\":\"lines\",\"showlegend\":false,\"x\":[-0.48927728278116256,-1.1341678792299348],\"y\":[-1.2683006045235166,-1.1614424574879694],\"z\":[-1.6573901129879112,-1.110529911406305],\"type\":\"scatter3d\"},{\"line\":{\"color\":\"blue\",\"width\":1},\"mode\":\"lines\",\"showlegend\":false,\"x\":[-1.8412898694614328,-2.16492424518727],\"y\":[-2.4818025481430896,-2.2169865516847596],\"z\":[-2.1733700537619796,-2.119803579556113],\"type\":\"scatter3d\"},{\"line\":{\"color\":\"blue\",\"width\":1},\"mode\":\"lines\",\"showlegend\":false,\"x\":[0.3297303424334959,0.2364691855355469],\"y\":[-0.04290158351927239,0.24215581925584062],\"z\":[0.4344204575816012,0.23154076964462572],\"type\":\"scatter3d\"},{\"line\":{\"color\":\"blue\",\"width\":1},\"mode\":\"lines\",\"showlegend\":false,\"x\":[-0.7622798238476067,-0.779876466123585],\"y\":[-0.387916841782008,-0.798631010399102],\"z\":[-1.2111371914007703,-0.7636225277514703],\"type\":\"scatter3d\"},{\"line\":{\"color\":\"blue\",\"width\":1},\"mode\":\"lines\",\"showlegend\":false,\"x\":[-0.47627716110622326,-0.35409457669148187],\"y\":[-0.5901671663903789,-0.3626098771329604],\"z\":[0.016058343467698754,-0.34671464964220056],\"type\":\"scatter3d\"},{\"line\":{\"color\":\"blue\",\"width\":1},\"mode\":\"lines\",\"showlegend\":false,\"x\":[-1.8672901118036487,-2.0004105449270257],\"y\":[-2.386625925035071,-2.0485166101356915],\"z\":[-1.7410625354076263,-1.9587186217461823],\"type\":\"scatter3d\"},{\"line\":{\"color\":\"blue\",\"width\":1},\"mode\":\"lines\",\"showlegend\":false,\"x\":[1.122737725305939,1.2744119681471708],\"y\":[1.4442331500243597,1.3050591497459005],\"z\":[1.2571992825766183,1.247851077428272],\"type\":\"scatter3d\"},{\"line\":{\"color\":\"blue\",\"width\":1},\"mode\":\"lines\",\"showlegend\":false,\"x\":[0.19972913173008053,0.33608700054382046],\"y\":[0.016583805419407713,0.3441692530619083],\"z\":[0.8109463609894775,0.329082381694811],\"type\":\"scatter3d\"},{\"line\":{\"color\":\"blue\",\"width\":1},\"mode\":\"lines\",\"showlegend\":false,\"x\":[0.7587343365455712,0.30584604312974645],\"y\":[-0.13807820662729092,0.31320105819499083],\"z\":[0.3089118234481968,0.299471696739868],\"type\":\"scatter3d\"},{\"line\":{\"color\":\"blue\",\"width\":1},\"mode\":\"lines\",\"showlegend\":false,\"x\":[1.1877383306576466,0.9063975366293063],\"y\":[1.3133652937546656,0.9281946717787085],\"z\":[0.19734859355524303,0.8875066861664913],\"type\":\"scatter3d\"},{\"line\":{\"color\":\"blue\",\"width\":1},\"mode\":\"lines\",\"showlegend\":false,\"x\":[-0.7102793401708384,-0.5658030902315409],\"y\":[-0.7567262558217484,-0.5794095773713775],\"z\":[-0.22101352055865942,-0.5540108013770159],\"type\":\"scatter3d\"},{\"line\":{\"color\":\"blue\",\"width\":1},\"mode\":\"lines\",\"showlegend\":false,\"x\":[0.00472731668262039,0.42477659802523554],\"y\":[0.1474516616891017,0.43499166651482035],\"z\":[1.1456360516760014,0.4159235386675954],\"type\":\"scatter3d\"},{\"line\":{\"color\":\"blue\",\"width\":1},\"mode\":\"lines\",\"showlegend\":false,\"x\":[0.27772985875672757,0.49296449879699134],\"y\":[1.02783542443061,0.5048193564834922],\"z\":[0.15551238184155391,0.4826902888020241],\"type\":\"scatter3d\"},{\"line\":{\"color\":\"blue\",\"width\":1},\"mode\":\"lines\",\"showlegend\":false,\"x\":[-1.4382861176915733,-0.6450691909047432],\"y\":[-0.0785928176886108,-0.6605818768583643],\"z\":[-0.4301945781194421,-0.6316248630782717],\"type\":\"scatter3d\"},{\"line\":{\"color\":\"blue\",\"width\":1},\"mode\":\"lines\",\"showlegend\":false,\"x\":[-1.1392833342829136,-0.77802450650616],\"y\":[-0.7210350226600729,-0.7967345146786527],\"z\":[-0.47203078983313124,-0.7618091660899996],\"type\":\"scatter3d\"},{\"line\":{\"color\":\"blue\",\"width\":1},\"mode\":\"lines\",\"showlegend\":false,\"x\":[-0.20327462003977906,-0.4292175149305571],\"y\":[-0.5306817764440358,-0.43953937901706347],\"z\":[-0.5557032122528466,-0.4202718993889183],\"type\":\"scatter3d\"},{\"line\":{\"color\":\"blue\",\"width\":1},\"mode\":\"lines\",\"showlegend\":false,\"x\":[0.00472731668262039,0.5021557660771857],\"y\":[0.6947172445602082,0.5142316562433705],\"z\":[0.8109463609894775,0.4916899945998256],\"type\":\"scatter3d\"},{\"line\":{\"color\":\"blue\",\"width\":1},\"mode\":\"lines\",\"showlegend\":false,\"x\":[-0.48927728278116256,-0.8566606026515518],\"y\":[-0.840005801545096,-0.8772616592283426],\"z\":[-1.2529734021067964,-0.8388063536183332],\"type\":\"scatter3d\"},{\"line\":{\"color\":\"blue\",\"width\":1},\"mode\":\"lines\",\"showlegend\":false,\"x\":[-0.25527510371654744,-0.34237627195881554],\"y\":[0.028480883811741506,-0.35060976948087125],\"z\":[-0.8206658847601062,-0.3352405741063673],\"type\":\"scatter3d\"},{\"line\":{\"color\":\"blue\",\"width\":1},\"mode\":\"lines\",\"showlegend\":false,\"x\":[1.161738088315431,0.7049638027214562],\"y\":[1.2538799048159857,0.7219168400614512],\"z\":[-0.3325767514592761,0.6902711703601274],\"type\":\"scatter3d\"},{\"line\":{\"color\":\"blue\",\"width\":1},\"mode\":\"lines\",\"showlegend\":false,\"x\":[-0.1122737723458557,0.023407039533837253],\"y\":[0.34970198629747257,0.023969934272125924],\"z\":[-0.17917730985263325,0.022919197427320407],\"type\":\"scatter3d\"},{\"line\":{\"color\":\"blue\",\"width\":1},\"mode\":\"lines\",\"showlegend\":false,\"x\":[-0.5932782511423623,-0.37016039222483055],\"y\":[-0.4830934648900265,-0.37906204494366413],\"z\":[-0.025777867238327427,-0.3624456265351748],\"type\":\"scatter3d\"},{\"line\":{\"color\":\"blue\",\"width\":1},\"mode\":\"lines\",\"showlegend\":false,\"x\":[1.0187367569447392,0.5912096868265352],\"y\":[0.7660997118912221,0.6054271542452094],\"z\":[-0.025777867238327427,0.578887881730351],\"type\":\"scatter3d\"},{\"line\":{\"color\":\"blue\",\"width\":1},\"mode\":\"lines\",\"showlegend\":false,\"x\":[-0.658278855486407,-0.4154541328966467],\"y\":[-0.45929930911302197,-0.42544501384806904],\"z\":[-0.12339569389849343,-0.40679536940541405],\"type\":\"scatter3d\"},{\"line\":{\"color\":\"blue\",\"width\":1},\"mode\":\"lines\",\"showlegend\":false,\"x\":[0.1737288903955278,0.031203895033296295],\"y\":[-0.06669573929627702,0.03195428930263408],\"z\":[-0.01183246400553968,0.030553553333203552],\"type\":\"scatter3d\"},{\"line\":{\"color\":\"blue\",\"width\":1},\"mode\":\"lines\",\"showlegend\":false,\"x\":[0.4207311901274193,0.024405234669591283],\"y\":[0.2188341290201156,0.02499213410052334],\"z\":[-0.5835940197260849,0.02389658849611684],\"type\":\"scatter3d\"},{\"line\":{\"color\":\"blue\",\"width\":1},\"mode\":\"lines\",\"showlegend\":false,\"x\":[0.08272804270160444,-0.15334688013020145],\"y\":[-0.39981392017434186,-0.15703458065437464],\"z\":[-0.13734109813894413,-0.1501508730092514],\"type\":\"scatter3d\"},{\"line\":{\"color\":\"blue\",\"width\":1},\"mode\":\"lines\",\"showlegend\":false,\"x\":[1.3307396620283383,1.3078778025667397],\"y\":[1.5394097731323781,1.3393297737707495],\"z\":[1.0480182250158356,1.2806194275232647],\"type\":\"scatter3d\"},{\"line\":{\"color\":\"blue\",\"width\":1},\"mode\":\"lines\",\"showlegend\":false,\"x\":[-2.569296646982168,-1.709624210399663],\"y\":[-1.553830473847572,-1.7507374178641841],\"z\":[-1.0019561338399874,-1.6739927639304117],\"type\":\"scatter3d\"},{\"line\":{\"color\":\"blue\",\"width\":1},\"mode\":\"lines\",\"showlegend\":false,\"x\":[-1.7502890227751724,-1.9095486498297949],\"y\":[-1.9940223552183263,-1.9554696594449403],\"z\":[-1.9920798036744352,-1.8697504414966692],\"type\":\"scatter3d\"},{\"line\":{\"color\":\"blue\",\"width\":1},\"mode\":\"lines\",\"showlegend\":false,\"x\":[-0.7102793401708384,-0.7028556436872341],\"y\":[-0.6258583995520544,-0.7197579838159852],\"z\":[-0.778829673046417,-0.6882069489089833],\"type\":\"scatter3d\"},{\"line\":{\"color\":\"blue\",\"width\":1},\"mode\":\"lines\",\"showlegend\":false,\"x\":[-0.3072755884009788,-0.10296091241881415],\"y\":[-0.031004506134601546,-0.1054369263447175],\"z\":[0.030003747708149446,-0.10081503368303127],\"type\":\"scatter3d\"}],                        {\"template\":{\"data\":{\"histogram2dcontour\":[{\"type\":\"histogram2dcontour\",\"colorbar\":{\"outlinewidth\":0,\"ticks\":\"\"},\"colorscale\":[[0.0,\"#0d0887\"],[0.1111111111111111,\"#46039f\"],[0.2222222222222222,\"#7201a8\"],[0.3333333333333333,\"#9c179e\"],[0.4444444444444444,\"#bd3786\"],[0.5555555555555556,\"#d8576b\"],[0.6666666666666666,\"#ed7953\"],[0.7777777777777778,\"#fb9f3a\"],[0.8888888888888888,\"#fdca26\"],[1.0,\"#f0f921\"]]}],\"choropleth\":[{\"type\":\"choropleth\",\"colorbar\":{\"outlinewidth\":0,\"ticks\":\"\"}}],\"histogram2d\":[{\"type\":\"histogram2d\",\"colorbar\":{\"outlinewidth\":0,\"ticks\":\"\"},\"colorscale\":[[0.0,\"#0d0887\"],[0.1111111111111111,\"#46039f\"],[0.2222222222222222,\"#7201a8\"],[0.3333333333333333,\"#9c179e\"],[0.4444444444444444,\"#bd3786\"],[0.5555555555555556,\"#d8576b\"],[0.6666666666666666,\"#ed7953\"],[0.7777777777777778,\"#fb9f3a\"],[0.8888888888888888,\"#fdca26\"],[1.0,\"#f0f921\"]]}],\"heatmap\":[{\"type\":\"heatmap\",\"colorbar\":{\"outlinewidth\":0,\"ticks\":\"\"},\"colorscale\":[[0.0,\"#0d0887\"],[0.1111111111111111,\"#46039f\"],[0.2222222222222222,\"#7201a8\"],[0.3333333333333333,\"#9c179e\"],[0.4444444444444444,\"#bd3786\"],[0.5555555555555556,\"#d8576b\"],[0.6666666666666666,\"#ed7953\"],[0.7777777777777778,\"#fb9f3a\"],[0.8888888888888888,\"#fdca26\"],[1.0,\"#f0f921\"]]}],\"contourcarpet\":[{\"type\":\"contourcarpet\",\"colorbar\":{\"outlinewidth\":0,\"ticks\":\"\"}}],\"contour\":[{\"type\":\"contour\",\"colorbar\":{\"outlinewidth\":0,\"ticks\":\"\"},\"colorscale\":[[0.0,\"#0d0887\"],[0.1111111111111111,\"#46039f\"],[0.2222222222222222,\"#7201a8\"],[0.3333333333333333,\"#9c179e\"],[0.4444444444444444,\"#bd3786\"],[0.5555555555555556,\"#d8576b\"],[0.6666666666666666,\"#ed7953\"],[0.7777777777777778,\"#fb9f3a\"],[0.8888888888888888,\"#fdca26\"],[1.0,\"#f0f921\"]]}],\"surface\":[{\"type\":\"surface\",\"colorbar\":{\"outlinewidth\":0,\"ticks\":\"\"},\"colorscale\":[[0.0,\"#0d0887\"],[0.1111111111111111,\"#46039f\"],[0.2222222222222222,\"#7201a8\"],[0.3333333333333333,\"#9c179e\"],[0.4444444444444444,\"#bd3786\"],[0.5555555555555556,\"#d8576b\"],[0.6666666666666666,\"#ed7953\"],[0.7777777777777778,\"#fb9f3a\"],[0.8888888888888888,\"#fdca26\"],[1.0,\"#f0f921\"]]}],\"mesh3d\":[{\"type\":\"mesh3d\",\"colorbar\":{\"outlinewidth\":0,\"ticks\":\"\"}}],\"scatter\":[{\"fillpattern\":{\"fillmode\":\"overlay\",\"size\":10,\"solidity\":0.2},\"type\":\"scatter\"}],\"parcoords\":[{\"type\":\"parcoords\",\"line\":{\"colorbar\":{\"outlinewidth\":0,\"ticks\":\"\"}}}],\"scatterpolargl\":[{\"type\":\"scatterpolargl\",\"marker\":{\"colorbar\":{\"outlinewidth\":0,\"ticks\":\"\"}}}],\"bar\":[{\"error_x\":{\"color\":\"#2a3f5f\"},\"error_y\":{\"color\":\"#2a3f5f\"},\"marker\":{\"line\":{\"color\":\"#E5ECF6\",\"width\":0.5},\"pattern\":{\"fillmode\":\"overlay\",\"size\":10,\"solidity\":0.2}},\"type\":\"bar\"}],\"scattergeo\":[{\"type\":\"scattergeo\",\"marker\":{\"colorbar\":{\"outlinewidth\":0,\"ticks\":\"\"}}}],\"scatterpolar\":[{\"type\":\"scatterpolar\",\"marker\":{\"colorbar\":{\"outlinewidth\":0,\"ticks\":\"\"}}}],\"histogram\":[{\"marker\":{\"pattern\":{\"fillmode\":\"overlay\",\"size\":10,\"solidity\":0.2}},\"type\":\"histogram\"}],\"scattergl\":[{\"type\":\"scattergl\",\"marker\":{\"colorbar\":{\"outlinewidth\":0,\"ticks\":\"\"}}}],\"scatter3d\":[{\"type\":\"scatter3d\",\"line\":{\"colorbar\":{\"outlinewidth\":0,\"ticks\":\"\"}},\"marker\":{\"colorbar\":{\"outlinewidth\":0,\"ticks\":\"\"}}}],\"scattermap\":[{\"type\":\"scattermap\",\"marker\":{\"colorbar\":{\"outlinewidth\":0,\"ticks\":\"\"}}}],\"scattermapbox\":[{\"type\":\"scattermapbox\",\"marker\":{\"colorbar\":{\"outlinewidth\":0,\"ticks\":\"\"}}}],\"scatterternary\":[{\"type\":\"scatterternary\",\"marker\":{\"colorbar\":{\"outlinewidth\":0,\"ticks\":\"\"}}}],\"scattercarpet\":[{\"type\":\"scattercarpet\",\"marker\":{\"colorbar\":{\"outlinewidth\":0,\"ticks\":\"\"}}}],\"carpet\":[{\"aaxis\":{\"endlinecolor\":\"#2a3f5f\",\"gridcolor\":\"white\",\"linecolor\":\"white\",\"minorgridcolor\":\"white\",\"startlinecolor\":\"#2a3f5f\"},\"baxis\":{\"endlinecolor\":\"#2a3f5f\",\"gridcolor\":\"white\",\"linecolor\":\"white\",\"minorgridcolor\":\"white\",\"startlinecolor\":\"#2a3f5f\"},\"type\":\"carpet\"}],\"table\":[{\"cells\":{\"fill\":{\"color\":\"#EBF0F8\"},\"line\":{\"color\":\"white\"}},\"header\":{\"fill\":{\"color\":\"#C8D4E3\"},\"line\":{\"color\":\"white\"}},\"type\":\"table\"}],\"barpolar\":[{\"marker\":{\"line\":{\"color\":\"#E5ECF6\",\"width\":0.5},\"pattern\":{\"fillmode\":\"overlay\",\"size\":10,\"solidity\":0.2}},\"type\":\"barpolar\"}],\"pie\":[{\"automargin\":true,\"type\":\"pie\"}]},\"layout\":{\"autotypenumbers\":\"strict\",\"colorway\":[\"#636efa\",\"#EF553B\",\"#00cc96\",\"#ab63fa\",\"#FFA15A\",\"#19d3f3\",\"#FF6692\",\"#B6E880\",\"#FF97FF\",\"#FECB52\"],\"font\":{\"color\":\"#2a3f5f\"},\"hovermode\":\"closest\",\"hoverlabel\":{\"align\":\"left\"},\"paper_bgcolor\":\"white\",\"plot_bgcolor\":\"#E5ECF6\",\"polar\":{\"bgcolor\":\"#E5ECF6\",\"angularaxis\":{\"gridcolor\":\"white\",\"linecolor\":\"white\",\"ticks\":\"\"},\"radialaxis\":{\"gridcolor\":\"white\",\"linecolor\":\"white\",\"ticks\":\"\"}},\"ternary\":{\"bgcolor\":\"#E5ECF6\",\"aaxis\":{\"gridcolor\":\"white\",\"linecolor\":\"white\",\"ticks\":\"\"},\"baxis\":{\"gridcolor\":\"white\",\"linecolor\":\"white\",\"ticks\":\"\"},\"caxis\":{\"gridcolor\":\"white\",\"linecolor\":\"white\",\"ticks\":\"\"}},\"coloraxis\":{\"colorbar\":{\"outlinewidth\":0,\"ticks\":\"\"}},\"colorscale\":{\"sequential\":[[0.0,\"#0d0887\"],[0.1111111111111111,\"#46039f\"],[0.2222222222222222,\"#7201a8\"],[0.3333333333333333,\"#9c179e\"],[0.4444444444444444,\"#bd3786\"],[0.5555555555555556,\"#d8576b\"],[0.6666666666666666,\"#ed7953\"],[0.7777777777777778,\"#fb9f3a\"],[0.8888888888888888,\"#fdca26\"],[1.0,\"#f0f921\"]],\"sequentialminus\":[[0.0,\"#0d0887\"],[0.1111111111111111,\"#46039f\"],[0.2222222222222222,\"#7201a8\"],[0.3333333333333333,\"#9c179e\"],[0.4444444444444444,\"#bd3786\"],[0.5555555555555556,\"#d8576b\"],[0.6666666666666666,\"#ed7953\"],[0.7777777777777778,\"#fb9f3a\"],[0.8888888888888888,\"#fdca26\"],[1.0,\"#f0f921\"]],\"diverging\":[[0,\"#8e0152\"],[0.1,\"#c51b7d\"],[0.2,\"#de77ae\"],[0.3,\"#f1b6da\"],[0.4,\"#fde0ef\"],[0.5,\"#f7f7f7\"],[0.6,\"#e6f5d0\"],[0.7,\"#b8e186\"],[0.8,\"#7fbc41\"],[0.9,\"#4d9221\"],[1,\"#276419\"]]},\"xaxis\":{\"gridcolor\":\"white\",\"linecolor\":\"white\",\"ticks\":\"\",\"title\":{\"standoff\":15},\"zerolinecolor\":\"white\",\"automargin\":true,\"zerolinewidth\":2},\"yaxis\":{\"gridcolor\":\"white\",\"linecolor\":\"white\",\"ticks\":\"\",\"title\":{\"standoff\":15},\"zerolinecolor\":\"white\",\"automargin\":true,\"zerolinewidth\":2},\"scene\":{\"xaxis\":{\"backgroundcolor\":\"#E5ECF6\",\"gridcolor\":\"white\",\"linecolor\":\"white\",\"showbackground\":true,\"ticks\":\"\",\"zerolinecolor\":\"white\",\"gridwidth\":2},\"yaxis\":{\"backgroundcolor\":\"#E5ECF6\",\"gridcolor\":\"white\",\"linecolor\":\"white\",\"showbackground\":true,\"ticks\":\"\",\"zerolinecolor\":\"white\",\"gridwidth\":2},\"zaxis\":{\"backgroundcolor\":\"#E5ECF6\",\"gridcolor\":\"white\",\"linecolor\":\"white\",\"showbackground\":true,\"ticks\":\"\",\"zerolinecolor\":\"white\",\"gridwidth\":2}},\"shapedefaults\":{\"line\":{\"color\":\"#2a3f5f\"}},\"annotationdefaults\":{\"arrowcolor\":\"#2a3f5f\",\"arrowhead\":0,\"arrowwidth\":1},\"geo\":{\"bgcolor\":\"white\",\"landcolor\":\"#E5ECF6\",\"subunitcolor\":\"white\",\"showland\":true,\"showlakes\":true,\"lakecolor\":\"white\"},\"title\":{\"x\":0.05},\"mapbox\":{\"style\":\"light\"}}},\"scene\":{\"xaxis\":{\"title\":{\"text\":\"Responsible\"}},\"yaxis\":{\"title\":{\"text\":\"Trustworthy\"}},\"zaxis\":{\"title\":{\"text\":\"Caring\"}},\"aspectmode\":\"cube\"},\"legend\":{\"yanchor\":\"top\",\"y\":0.99,\"xanchor\":\"left\",\"x\":0.01},\"width\":800,\"height\":800},                        {\"responsive\": true}                    ).then(function(){\n",
       "                            \n",
       "var gd = document.getElementById('5103e09d-6ed2-4049-a48b-06e9268f3aaf');\n",
       "var x = new MutationObserver(function (mutations, observer) {{\n",
       "        var display = window.getComputedStyle(gd).display;\n",
       "        if (!display || display === 'none') {{\n",
       "            console.log([gd, 'removed!']);\n",
       "            Plotly.purge(gd);\n",
       "            observer.disconnect();\n",
       "        }}\n",
       "}});\n",
       "\n",
       "// Listen for the removal of the full notebook cells\n",
       "var notebookContainer = gd.closest('#notebook-container');\n",
       "if (notebookContainer) {{\n",
       "    x.observe(notebookContainer, {childList: true});\n",
       "}}\n",
       "\n",
       "// Listen for the clearing of the current output cell\n",
       "var outputEl = gd.closest('.output');\n",
       "if (outputEl) {{\n",
       "    x.observe(outputEl, {childList: true});\n",
       "}}\n",
       "\n",
       "                        })                };            </script>        </div>\n",
       "</body>\n",
       "</html>"
      ]
     },
     "metadata": {},
     "output_type": "display_data"
    }
   ],
   "source": [
    "fig = go.Figure()\n",
    "# Add original data points\n",
    "fig.add_trace(go.Scatter3d(\n",
    "    x=x, y=y, z=z,\n",
    "    mode='markers',\n",
    "    marker=dict(size=4,opacity=0.7, color='blue'),\n",
    "    name='Original Data'\n",
    "))\n",
    "# Range for pc1 line\n",
    "data_range = max(np.max(x) - np.min(x), np.max(y) - np.min(y), np.max(z) - np.min(z))\n",
    "# PC1 endpoints\n",
    "line_dir = np.array([1.0, best_slope_xy, best_slope_xz])\n",
    "line_dir = line_dir / np.sqrt(np.sum(line_dir**2))  # normalize\n",
    "# Scale to cover the data range\n",
    "t_values = np.linspace(-data_range, data_range, 100)\n",
    "line_points = np.outer(t_values, line_dir)\n",
    "# PC1 line\n",
    "fig.add_trace(go.Scatter3d(\n",
    "    x=line_points[:, 0], \n",
    "    y=line_points[:, 1], \n",
    "    z=line_points[:, 2],\n",
    "    mode='lines',\n",
    "    line=dict(color='red', width=6),\n",
    "    name='PC1'\n",
    "))\n",
    "# Projection lines\n",
    "for i in range(0, len(x)):\n",
    "    fig.add_trace(go.Scatter3d(\n",
    "        x=[x[i], x_p[i]],\n",
    "        y=[y[i], y_p[i]],\n",
    "        z=[z[i], z_p[i]],\n",
    "        mode='lines',\n",
    "        line=dict(color='blue', width=1),\n",
    "        showlegend=False\n",
    "    ))\n",
    "# Formatting\n",
    "fig.update_layout(\n",
    "    scene=dict(\n",
    "        xaxis_title='Responsible',\n",
    "        yaxis_title='Trustworthy',\n",
    "        zaxis_title='Caring',\n",
    "        aspectmode='cube',\n",
    "    ),\n",
    "    width=800, height=800,\n",
    "    legend=dict(yanchor=\"top\", y=0.99, xanchor=\"left\", x=0.01)\n",
    ")\n",
    "fig.show()"
   ]
  },
  {
   "cell_type": "markdown",
   "metadata": {
    "deletable": false,
    "editable": false
   },
   "source": [
    "As before in the 2D case, we will need to compute variance explained by PC1. Recall that to do that, we need to compute variance along PC1 and then divide by the total variance. Our formula for finding the positions of points along our new dimension now changes from the 2D case: $\\text{sign}{(x_p)} \\times \\sqrt{x_p^2 + y_p^2}$, to the 3D case: $\\text{sign}{(x_p)} \\times \\sqrt{x_p^2 + y_p^2 + z_p^2}$.\n",
    "\n",
    "**Question 5:** Create a function called `compute_variance_along_line_in_3d` that takes as input `x`, `y`, and `z`, and outputs `variance_along_line`."
   ]
  },
  {
   "cell_type": "code",
   "execution_count": 26,
   "metadata": {
    "tags": [
     "otter_answer_cell"
    ]
   },
   "outputs": [
    {
     "name": "stdout",
     "output_type": "stream",
     "text": [
      "Variance explained by PC1: 0.8849\n"
     ]
    }
   ],
   "source": [
    "# Your code here\n",
    "def compute_variance_along_line_in_3d(x, y, z):\n",
    "    slope_xy, slope_xz, _ = find_best_slopes(x, y, z)\n",
    "    x_p, y_p, z_p = project_point_onto_line_3d(x, y, z, slope_xy, slope_xz)\n",
    "    projections_1d = np.sign(x_p) * np.sqrt(x_p**2 + y_p**2 + z_p**2)\n",
    "    variance_along_line = np.var(projections_1d)\n",
    "    return variance_along_line\n",
    "\n",
    "\n",
    "# do not change\n",
    "variance_along_PC1 = compute_variance_along_line_in_3d(x_p, y_p, z_p)\n",
    "variance_explained_by_PC1 = variance_along_PC1 / total_variance\n",
    "print(f\"Variance explained by PC1: {variance_explained_by_PC1:.4f}\")"
   ]
  },
  {
   "cell_type": "code",
   "execution_count": 27,
   "metadata": {
    "deletable": false,
    "editable": false
   },
   "outputs": [
    {
     "data": {
      "text/html": [
       "<p><strong><pre style='display: inline;'>q5</pre></strong> passed! ✨</p>"
      ],
      "text/plain": [
       "q5 results: All test cases passed!"
      ]
     },
     "execution_count": 27,
     "metadata": {},
     "output_type": "execute_result"
    }
   ],
   "source": [
    "grader.check(\"q5\")"
   ]
  },
  {
   "cell_type": "markdown",
   "metadata": {
    "deletable": false,
    "editable": false
   },
   "source": [
    "Note that ~88% of the total variance is explained by a single dimension (PC1).\n",
    "\n",
    "We can now move on to finding PC2. Recall that PC2 is the line that maximizes variance (and now equivalently, minimizes squared distance) for the residual variation after removing PC1.\n",
    "\n",
    "**Question 6:** Create a function called `compute_residuals_3d` that takes as input `x`, `y`, `z`, `x_p`, `y_p`, `z_p` and returns as output `x_res`, `y_res`, `z_res`."
   ]
  },
  {
   "cell_type": "code",
   "execution_count": 28,
   "metadata": {
    "tags": [
     "otter_answer_cell"
    ]
   },
   "outputs": [],
   "source": [
    "# Your code here\n",
    "def compute_residuals_3d(x, y, z, x_p, y_p, z_p):\n",
    "    x_res = x - x_p\n",
    "    y_res = y - y_p\n",
    "    z_res = z - z_p\n",
    "    return x_res, y_res, z_res\n"
   ]
  },
  {
   "cell_type": "code",
   "execution_count": 29,
   "metadata": {
    "deletable": false,
    "editable": false
   },
   "outputs": [
    {
     "data": {
      "text/html": [
       "<p><strong><pre style='display: inline;'>q6</pre></strong> passed! 🎉</p>"
      ],
      "text/plain": [
       "q6 results: All test cases passed!"
      ]
     },
     "execution_count": 29,
     "metadata": {},
     "output_type": "execute_result"
    }
   ],
   "source": [
    "grader.check(\"q6\")"
   ]
  },
  {
   "cell_type": "markdown",
   "metadata": {},
   "source": [
    "We can now apply our function to compute residuals:"
   ]
  },
  {
   "cell_type": "code",
   "execution_count": 30,
   "metadata": {},
   "outputs": [],
   "source": [
    "# what's left after removing PC1 values\n",
    "x_res, y_res, z_res = compute_residuals_3d(x, y, z, x_p, y_p, z_p)"
   ]
  },
  {
   "cell_type": "markdown",
   "metadata": {},
   "source": [
    "In the below plot, the residuals are plotted as green points.\n",
    "\n",
    "Move the plot around and notice that the green points fall on a 2D plane. Why? Recall that by computing residuals, we are removing variation along PC1. Note that unlike the blue points, the green points do not vary along PC1. Instead, their value on PC1 is held constant at 0. Removing variability along one dimension means these points now fall along a plane."
   ]
  },
  {
   "cell_type": "code",
   "execution_count": 31,
   "metadata": {},
   "outputs": [
    {
     "data": {
      "text/html": [
       "<html>\n",
       "<head><meta charset=\"utf-8\" /></head>\n",
       "<body>\n",
       "    <div>            <script src=\"https://cdnjs.cloudflare.com/ajax/libs/mathjax/2.7.5/MathJax.js?config=TeX-AMS-MML_SVG\"></script><script type=\"text/javascript\">if (window.MathJax && window.MathJax.Hub && window.MathJax.Hub.Config) {window.MathJax.Hub.Config({SVG: {font: \"STIX-Web\"}});}</script>                <script type=\"text/javascript\">window.PlotlyConfig = {MathJaxConfig: 'local'};</script>\n",
       "        <script charset=\"utf-8\" src=\"https://cdn.plot.ly/plotly-3.0.1.min.js\"></script>                <div id=\"217abcb0-7e67-43eb-9c41-80e46cd1fdf8\" class=\"plotly-graph-div\" style=\"height:1000px; width:1000px;\"></div>            <script type=\"text/javascript\">                window.PLOTLYENV=window.PLOTLYENV || {};                                if (document.getElementById(\"217abcb0-7e67-43eb-9c41-80e46cd1fdf8\")) {                    Plotly.newPlot(                        \"217abcb0-7e67-43eb-9c41-80e46cd1fdf8\",                        [{\"marker\":{\"color\":\"blue\",\"opacity\":0.7,\"size\":4},\"mode\":\"markers\",\"name\":\"Original data\",\"x\":{\"dtype\":\"f8\",\"bdata\":\"n0gl4uXR\\u002fT\\u002fx5d1xXH3Zv2aboh5tC60\\u002fwKMfwCVS4b\\u002fmW4OtAYXuP4QPI+Vvafg\\u002fdhg6O41H6D9FroBhCVzqPyp1fmST8+Q\\u002fUQWBzhR56r+3\\u002fQHPp8f8P2pOW0\\u002f9TvS\\u002fkVE8OAOw7T9vG05KJ33gv4HKQtW79vE\\u002fFgXP2f55879vG05KJ33gv6OpFXE24PQ\\u002fkdlOI3lr8z\\u002fKbbFZPEHeP\\u002f98r1gWpOm\\u002fOORUIwBa7z\\u002fx5d1xXH3Zv9mcUEPtsMa\\u002fBvbCi0EF8r\\u002f+60\\u002f3I9yuv1vfNz4X3+I\\u002fX4R8Y21W0L8\\u002fUX2tepbyPw3nw9P2qvQ\\u002f5luDrQGF7j8qdX5kk\\u002fPkPzWZJWiw2QHA4xuyM1N73r8yIg6qUVDfv\\u002fqvvF3sdf2\\u002fOQxQS00a1T+CbzqomGTov+MbsjNTe96\\u002fJHSlmGvg\\u002fb+BykLVu\\u002fbxP\\u002ftpa2S5kMk\\u002fdhg6O41H6D9oFWbo+QDzP9vcIb2buua\\u002fhYfLaPNccz\\u002fr5h51U8bRP\\u002fdq3E04A\\u002fe\\u002fmvdZKYE68r8hvpYa5wTKv4WHy2jzXHM\\u002fMiIOqlFQ379fhHxjbVbQvz9Rfa16lvI\\u002fOotsVPm9vL9ltMKrIvziv9v45Om+TPA\\u002fNsx+0Z4Q5b+mQE+PvzzGP3tIgINC7do\\u002fRJDdPaottT\\u002fMbf6rtUr1P0IWhGbrjQTA6N\\u002f1Dy8B\\u002fL\\u002fb3CG9m7rmv6ilwjpnqtO\\u002f\"},\"y\":{\"dtype\":\"f8\",\"bdata\":\"vCT\\u002fXGpoAECH+hSRw0nJvzsp86v8z9E\\u002f6+JSRDL3pb\\u002f7ciF2UVnyP4B1MjiUG\\u002fc\\u002fG1drUkiq2D82GndK4XbtP85+dGOTj+s\\u002fQ49MSyTQ+b9nZed7RajpP2OpZnpDMva\\u002foI9MZ7N98z98XUEpodPYvw9g+HmYntU\\u002fSPrFyeMa8L\\u002fq4ySScQ7PP0R2GvY5ccc\\u002fBvFrJGyh+D\\u002fq4ySScQ7PP6Fkcq7sMvK\\u002fta25vyRK0D9da3B5QbzSv\\u002ffhBz3JTde\\u002fIHGsVEvbzb\\u002fg6a2PbSLoP1pudKOVnOY\\u002fqDySXgg2ur+hCHWRSEHwPzY83FXQ0vQ\\u002fgFPNLKW\\u002f7z9VF9lcXOfXP54xjGaywgHAKlnUxFl88L\\u002f8zh6T9Ur0v3c7W0u72gPA6+JSRDL3pb98XUEpodPYv7g62kCm4uK\\u002ftH0+Vc8XA8CAdTI4lBv3P1mnrVdY+5A\\u002f7pTg8ouswb8mC4ZTiwP1PxHtGPsZN+i\\u002ftwdZMLLfwj+TmNmOA3LwP49OrK2oHrS\\u002faw8zCrgS579RIU1ZWPvgv3dOq6gfO+Y\\u002fOsTC2FPh6r9cYyHCFyqdP3K9BGDkD\\u002fQ\\u002fz5ufcIRh1j+VSyfaAOvev8CHAYvjg+g\\u002fENDt7Shl3b+PXw\\u002fT+BKxv93ssbnBAsw\\u002fPZnoH42W2b8G8WskbKH4P45By1d93Pi\\u002fXX0y\\u002fIPn\\u002f79eGMAxCAfkv3LJgS+lv5+\\u002f\"},\"z\":{\"dtype\":\"f8\",\"bdata\":\"\\u002ft\\u002f\\u002fcNnI9D\\u002fRyUq6BrLcP2mL1E9SGfA\\u002f4zgWMJlxkD+aYJAZxMbyPzKnguri\\u002f\\u002fI\\u002fMYqz\\u002fnwd9D\\u002fjOBYwmXGQP+Yqh4U3lOA\\u002fSRUOWuYoAMCqJzie9Ie5P262vCBWfPK\\u002fwGqicGxD\\u002fT8G\\u002fa7xdLXyv5pgkBnExvI\\u002f0pFAZNFg879ur4F2i83bP6vvx1yW0+Y\\u002fyXSR4zV09T+t4cI13Ja\\u002fv+GY3sgPR+6\\u002fDAUK46dy1j8c1J3xsAfov2\\u002f831spTu8\\u002fskWY\\u002fp2Z67\\u002fVUEd3cPftP9\\u002f+If7TRec\\u002fE3lGkj\\u002f80T8xirP+fB30P\\u002fzCMIVz5vU\\u002fwGqicGxD\\u002fT\\u002fjtT3qWqStP+Et9jTS8ADAHSH81k6I27\\u002f98r9+q4T6v5MbuNYPYwHAbq+BdovN2z\\u002fSkUBk0WDzv+M4FjCZcZA\\u002fld2dY2Tb+78xirP+fB30Pw1SaMhF8+k\\u002f3rHDGDbF0z9gnZ39t0LJP2D6YskrSsy\\u002fZhLxd4ZU8j8E9xBp1OfDPx0h\\u002fNZOiNu\\u002fS3RCocA13r9XD10aUsjhvw1SaMhF8+k\\u002fn+eM1i0M9L8Zmv8Z5ULqv1hcu\\u002f\\u002fvSNW\\u002f+EsAN0jvxr9hOv9ig2Wav2E6\\u002f2KDZZq\\u002freHCNdyWv7+op3pvnjuIv7yrm13NrOK\\u002fnKVzomSUwb824SDCrsTwP9borScDCPC\\u002fXdx8Eo\\u002ff\\u002f7+CcNw0LOzovw7fp2xNuZ4\\u002f\"},\"type\":\"scatter3d\"},{\"line\":{\"color\":\"red\",\"width\":6},\"mode\":\"lines\",\"name\":\"PC1\",\"x\":{\"dtype\":\"f8\",\"bdata\":\"89HlrZsXCcCUnEiY1pUIwDRnq4IRFAjA1TEObUySB8B1\\u002fHBXhxAHwBbH00HCjgbAtpE2LP0MBsBXXJkWOIsFwPgm\\u002fABzCQXAmPFe662HBMA5vMHV6AUEwNmGJMAjhAPAelGHql4CA8AbHOqUmYACwLvmTH\\u002fU\\u002fgHAXLGvaQ99AcD8exJUSvsAwJ1GdT6FeQDAeyKwUYDv\\u002f7+8t3Um9uv+v\\u002f1MO\\u002ftr6P2\\u002fPuIA0OHk\\u002fL9\\u002fd8akV+H7v8EMjHnN3fq\\u002fAqJRTkPa+b9DNxcjudb4v4TM3Pcu0\\u002fe\\u002fxWGizKTP9r8G92ehGsz1v0mMLXaQyPS\\u002fiiHzSgbF87\\u002fLtrgffMHyvwxMfvTxvfG\\u002fTeFDyWe68L8b7RI8u23vv50XnuWmZu2\\u002fIkIpj5Jf67+hbLQ4fljpvyaXP+JpUee\\u002fqsHKi1VK5b8q7FU1QUPjv64W4d4sPOG\\u002fW4LYEDFq3r9k1+5jCFzav2MsBbffTda\\u002fbIEbCrc\\u002f0r\\u002fprGO6HGPMv+dWkGDLRsS\\u002f8QF6DfRUuL\\u002feq6azojigv96rprOiOKA\\u002f8QF6DfRUuD\\u002fnVpBgy0bEP9asY7ocY8w\\u002fbIEbCrc\\u002f0j9jLAW3303WP2TX7mMIXNo\\u002fW4LYEDFq3j+pFuHeLDzhPyrsVTVBQ+M\\u002fpcHKi1VK5T8mlz\\u002fiaVHnP6FstDh+WOk\\u002fIkIpj5Jf6z+dF57lpmbtPxntEjy7be8\\u002fTeFDyWe68D8KTH708b3xP8u2uB98wfI\\u002fiCHzSgbF8z9JjC12kMj0Pwb3Z6EazPU\\u002fxGGizKTP9j+CzNz3LtP3P0U3FyO51vg\\u002fAqJRTkPa+T\\u002fADIx5zd36P353xqRX4fs\\u002fPOIA0OHk\\u002fD\\u002f+TDv7a+j9P7y3dSb26\\u002f4\\u002feiKwUYDv\\u002fz+cRnU+hXkAQP17ElRK+wBAXLGvaQ99AUC75kx\\u002f1P4BQBoc6pSZgAJAeVGHql4CA0DahiTAI4QDQDm8wdXoBQRAmPFe662HBED3JvwAcwkFQFZcmRY4iwVAt5E2LP0MBkAWx9NBwo4GQHX8cFeHEAdA1DEObUySB0AzZ6uCERQIQJScSJjWlQhA89HlrZsXCUA=\"},\"y\":{\"dtype\":\"f8\",\"bdata\":\"XzRIaxWyCcDvVEluMS0JwH11SnFNqAjADJZLdGkjCMCatkx3hZ4HwCrXTXqhGQfAuPdOfb2UBsBHGFCA2Q8GwNc4UYP1igXAZVlShhEGBcD0eVOJLYEEwIOaVIxJ\\u002fAPAErtVj2V3A8Ch21aSgfICwDD8V5WdbQLAvxxZmLnoAcBNPVqb1WMBwN1dW57x3gDAa35coQ1aAMD0PbtIU6r\\u002fvxJ\\u002fvU6LoP6\\u002fL8C\\u002fVMOW\\u002fb9NAcJa+4z8v2xCxGAzg\\u002fu\\u002fiYPGZmt5+r+nxMhso2\\u002f5v8UFy3LbZfi\\u002f4kbNeBNc978AiM9+S1L2vx7J0YSDSPW\\u002fPArUirs+9L9aS9aQ8zTzv3eM2JYrK\\u002fK\\u002flc3anGMh8b+yDt2imxfwv6CfvlGnG+6\\u002f3iHDXRcI7L8WpMdph\\u002fTpv1QmzHX34Oe\\u002fkajQgWfN5b\\u002fKKtWN17njvwit2ZlHpuG\\u002fgV68S28l37\\u002f8YsVjT\\u002f7av25nznsv19a\\u002f6WvXkw+w0r\\u002fI4MBX3xHNv6vp0oefw8S\\u002fQ+XJb7\\u002fquL8U7tuff5ygvxTu259\\u002fnKA\\u002fQ+XJb7\\u002fquD+r6dKHn8PEP7XgwFffEc0\\u002f6WvXkw+w0j9uZ857L9fWP\\u002fxixWNP\\u002fto\\u002fgV68S28l3z8DrdmZR6bhP8oq1Y3XueM\\u002fjajQgWfN5T9UJsx19+DnPxakx2mH9Ok\\u002f3iHDXRcI7D+gn75RpxvuP7EO3aKbF\\u002fA\\u002flc3anGMh8T92jNiWKyvyP1pL1pDzNPM\\u002fOwrUirs+9D8eydGEg0j1PwCIz35LUvY\\u002f4UbNeBNc9z\\u002fCBcty22X4P6jEyGyjb\\u002fk\\u002fiYPGZmt5+j9rQsRgM4P7P0wBwlr7jPw\\u002fLcC\\u002fVMOW\\u002fT8Tf71Oi6D+P\\u002fQ9u0hTqv8\\u002fa35coQ1aAEDbXVue8d4AQE49WpvVYwFAvxxZmLnoAUAw\\u002fFeVnW0CQKDbVpKB8gJAEbtVj2V3A0CEmlSMSfwDQPR5U4ktgQRAZVlShhEGBUDWOFGD9YoFQEYYUIDZDwZAufdOfb2UBkAq1016oRkHQJq2THeFngdAC5ZLdGkjCEB8dUpxTagIQO9USW4xLQlAXzRIaxWyCUA=\"},\"z\":{\"dtype\":\"f8\",\"bdata\":\"l2tutLqRCMB7p\\u002fIAqhIIwF3jdk2ZkwfAQR\\u002f7mYgUB8AjW3\\u002fmd5UGwAeXAzNnFgbA6dKHf1aXBcDNDgzMRRgFwLBKkBg1mQTAk4YUZSQaBMB2wpixE5sDwFn+HP4CHAPAPDqhSvKcAsAgdiWX4R0CwAKyqePQngHA5u0tMMAfAcDIKbJ8r6AAwKxlNsmeIQDAHkN1KxxF\\u002f7\\u002fkun3E+kb+v6oyhl3ZSP2\\u002fcKqO9rdK\\u002fL82IpePlkz7v\\u002f2Znyh1Tvq\\u002fwxGowVNQ+b+JibBaMlL4v08BufMQVPe\\u002fFXnBjO9V9r\\u002fb8Mklzlf1v6Jo0r6sWfS\\u002faODaV4tb878uWOPwaV3yv\\u002fTP64lIX\\u002fG\\u002fukf0Iidh8L8Af\\u002fl3C8buv4xuCqrIyey\\u002fGl4b3IXN6r+kTSwOQ9HovzI9PUAA1ea\\u002fwSxOcr3Y5L9KHF+ketziv9kLcNY34OC\\u002fxfYBEerH3b\\u002fi1SN1ZM\\u002fZv\\u002fW0Rdne1tW\\u002fEpRnPVne0b9c5hJDp8vLv4OkVguc2sO\\u002fecU0pyHTt78cB\\u002fHeLMSfvxwH8d4sxJ8\\u002fecU0pyHTtz+DpFYLnNrDP0rmEkOny8s\\u002fEpRnPVne0T\\u002f1tEXZ3tbVP+LVI3Vkz9k\\u002fxfYBEerH3T\\u002fUC3DWN+DgP0ocX6R63OI\\u002fvCxOcr3Y5D8yPT1AANXmP6RNLA5D0eg\\u002fGl4b3IXN6j+MbgqqyMnsP\\u002f5++XcLxu4\\u002fukf0Iidh8D\\u002fzz+uJSF\\u002fxPy5Y4\\u002fBpXfI\\u002fZ+DaV4tb8z+iaNK+rFn0P9vwySXOV\\u002fU\\u002fFHnBjO9V9j9NAbnzEFT3P4qJsFoyUvg\\u002fwxGowVNQ+T\\u002f8mZ8odU76PzUil4+WTPs\\u002fbaqO9rdK\\u002fD+rMoZd2Uj9P+S6fcT6Rv4\\u002fHUN1KxxF\\u002fz+rZTbJniEAQMkpsnyvoABA5u0tMMAfAUACsqnj0J4BQB92JZfhHQJAOzqhSvKcAkBa\\u002fhz+AhwDQHbCmLETmwNAk4YUZSQaBECvSpAYNZkEQMwODMxFGAVA6tKHf1aXBUAHlwMzZxYGQCNbf+Z3lQZAPx\\u002f7mYgUB0Bc43ZNmZMHQHun8gCqEghAl2tutLqRCEA=\"},\"type\":\"scatter3d\"},{\"marker\":{\"color\":\"green\",\"opacity\":0.7,\"size\":4},\"mode\":\"markers\",\"name\":\"Residuals\",\"x\":{\"dtype\":\"f8\",\"bdata\":\"4KZ6IVlqvz\\u002fNzRkYJw3Wv7j0GuWam9i\\u002fzcrPSdCF1r+gq+J3PWfBvwhXXuRy7ME\\u002fsFwGfKl1ob+khOYQD5TNP+CN91F8hZm\\u002fFXLErSv05D\\u002frYEKkIaXsPwBQn8hNU1U\\u002fDktRL3sG2b9cUF8EyJzFP8ooUUDpJdA\\u002fYD\\u002fDX11Rs78kN1NzCS3iv\\u002fMd7iz+cOI\\u002f6G77SElGw79aSjKhgXrRP7S7IbWui8Q\\u002fggSNHZb\\u002f3D9ElfY\\u002fIg20P2amebzQBdS\\u002f7mA0iA4P2b8X0jsMC0Pjv\\u002fj2Zk7KcLW\\u002f0986VicPzb9AHLKZEq6UP4ATwHo3N5u\\u002fNA6leRH90r+ug8vTwJ\\u002fSPwDx9tilg6a\\u002fWrAmFMIkxj9n2qea8aLkP3Cl5vRsttQ\\u002fCCPdkvbftz\\u002fgAmGs2gSSPxi7M5xbR7+\\u002fgN1YIRcKwT8QB1PED2rDvxG7jbUsdMG\\u002fAZU9Lh\\u002f83D8ieVjRfAHSP1jdRKAyfsK\\u002fGcqEYRbi2r\\u002fWOfgFz4zLv6Tb5XYIYum\\u002fKFGsWN0e17\\u002f54yhgsuvMP0D6jyLe1d+\\u002fUhz8UzWD1z9YPwsdQ0y2P6TpkTbKO90\\u002fvOfbJP1dwb\\u002fYJ5pBII\\u002fMvx7+E4CaXNs\\u002fJHYXaeEUz788v\\u002fhQQj7CPyjUT4pnXdk\\u002fPfJ7\\u002fLM3zj8Ab9pqGWmXP66fDMVvguu\\u002f0OnilJ5ixD8A2MxZT2h+v4LWt7n7Jsq\\u002f\"},\"y\":{\"dtype\":\"f8\",\"bdata\":\"GM2+zlgo0T\\u002fEbXIwAz\\u002fCvz4r2RrINca\\u002fC\\u002fNSjGFUwz\\u002fA8lRXs6SfP4B\\u002f0woMzZk\\u002f\\u002fzUgquhL278wlJNJNRbUP8yvVka9J8U\\u002fYAiDFXZ4uL+o2378VJ+\\u002fv2BDNaieDLa\\u002fgPv51ZjuwL9ora2snQLUP3y4aXawtuG\\u002fuCI7\\u002fO3TxD+zLiyxXSXIP7fu7ZihAuK\\u002fOAz+MTY2wj9E9B11s46jP4wfnNB2hcO\\u002fO\\u002f9EocQ50r\\u002fyut36VwDJP3ebFVdHGOC\\u002fZlgNveec4D84kVvOvYnJP+AY1AbyVpE\\u002fczsLrhvOsr\\u002fAak4KWpfDv6B4UTTM26i\\u002f8KDBW3d00r8Av5tvfKZQPwBEBhq3VJQ\\u002fQE5kzeFj17+ALtQ2Dlu7v2jBD8u+8tC\\u002fQbeZZ2E+0r8+to0UJEnaP\\u002fLbqeWYIM2\\u002fsM99QJWj1b8QItMhdNDBP6tIEfQo99S\\u002fbpPxbMLh3L\\u002faETGuoqbYP4BmfRtQssa\\u002fRClBMQ5n0r88sWMxjLzgP99x+ISnn+I\\u002fQCqLugphsz9kVjqwG1W3v3gtnNkmGsc\\u002fwP6qJDMToz9jG4dxBUPYP\\u002fmeuWfXBeE\\u002fKU2tP8vY1D\\u002fUEm2azaG6v3gmOhrrkMQ\\u002fmPT7pVlVob8N8JTWIEG5v6qxYoLQz8g\\u002fnP2wtWQTz79Aw+uuOJzJPzANdCo\\u002fNMk\\u002foOUJzy29o784hoWbzQm4PyaIkMoADrM\\u002f\"},\"z\":{\"dtype\":\"f8\",\"bdata\":\"aPKIJhn32b\\u002fPukHg8QfgP5YMQIF1X+I\\u002fufIVLdfJyT9AIRRnH0a7P\\u002fAbjPSYrcW\\u002fkKlbF9\\u002fG3j8h\\u002f7H\\u002fSA7iv\\u002fwejc\\u002f03cK\\u002fIsXmN2Qz4r\\u002ftjcNI6R7pv\\u002fAcQxZIuLY\\u002f1BnhgsA04T9woR\\u002fevPbfvxICqJhDj9Q\\u002fMMbUUh7Wt79QY9q+x3\\u002fYPwBgpe\\u002fw1hA\\u002fAPFtcpVrdD8SX0LkRmjUvwBfmVH9IXK\\u002foKVZPNsbxb+oJzCtezHSv0ZxNEmiDus\\u002f2GUAIFFQwr8cY\\u002fJVRf3ZPyAJ3CACXbE\\u002fqwkwxHPB0z94iBDjb9nBPyA6TyKn8rM\\u002f3jsIlMxY4z8sBKhlphbTvwCtOrNUuZg\\u002fytAre2BPyj\\u002fo3Cj34H\\u002fhv4CgwJ0Qbau\\u002fqiJbLPb3yT\\u002fwqjaLFKTcv\\u002fjbUTesN9c\\u002fyLpMlifcyz+AiRvbJiWDP5E5DATc1t4\\u002f4OPbW1hVgz+8uJpsxhXmv6pksdPTT9U\\u002fakxbDs5Z5z\\u002fhnJeae\\u002fDUv647KbN3yMk\\u002fbx5HmrqL0j\\u002fkbc0x0FXBv\\u002fu7K0GybtQ\\u002f1K4VgraB2r8GJHpSNRHfvzjvT8iVXfC\\u002f8JyzYEzeyb83C\\u002fPt9ovVP0SeGvxrWeO\\u002fffN\\u002fZDgj0j9tII68nrOlv9Ag3iSQcOO\\u002f4MMY4QI8ij+YzONO4MXNvz56fvZSgeU\\u002fEODkIfpQv79g2HEEDTO3v3+L43mrvsA\\u002f\"},\"type\":\"scatter3d\"}],                        {\"template\":{\"data\":{\"histogram2dcontour\":[{\"type\":\"histogram2dcontour\",\"colorbar\":{\"outlinewidth\":0,\"ticks\":\"\"},\"colorscale\":[[0.0,\"#0d0887\"],[0.1111111111111111,\"#46039f\"],[0.2222222222222222,\"#7201a8\"],[0.3333333333333333,\"#9c179e\"],[0.4444444444444444,\"#bd3786\"],[0.5555555555555556,\"#d8576b\"],[0.6666666666666666,\"#ed7953\"],[0.7777777777777778,\"#fb9f3a\"],[0.8888888888888888,\"#fdca26\"],[1.0,\"#f0f921\"]]}],\"choropleth\":[{\"type\":\"choropleth\",\"colorbar\":{\"outlinewidth\":0,\"ticks\":\"\"}}],\"histogram2d\":[{\"type\":\"histogram2d\",\"colorbar\":{\"outlinewidth\":0,\"ticks\":\"\"},\"colorscale\":[[0.0,\"#0d0887\"],[0.1111111111111111,\"#46039f\"],[0.2222222222222222,\"#7201a8\"],[0.3333333333333333,\"#9c179e\"],[0.4444444444444444,\"#bd3786\"],[0.5555555555555556,\"#d8576b\"],[0.6666666666666666,\"#ed7953\"],[0.7777777777777778,\"#fb9f3a\"],[0.8888888888888888,\"#fdca26\"],[1.0,\"#f0f921\"]]}],\"heatmap\":[{\"type\":\"heatmap\",\"colorbar\":{\"outlinewidth\":0,\"ticks\":\"\"},\"colorscale\":[[0.0,\"#0d0887\"],[0.1111111111111111,\"#46039f\"],[0.2222222222222222,\"#7201a8\"],[0.3333333333333333,\"#9c179e\"],[0.4444444444444444,\"#bd3786\"],[0.5555555555555556,\"#d8576b\"],[0.6666666666666666,\"#ed7953\"],[0.7777777777777778,\"#fb9f3a\"],[0.8888888888888888,\"#fdca26\"],[1.0,\"#f0f921\"]]}],\"contourcarpet\":[{\"type\":\"contourcarpet\",\"colorbar\":{\"outlinewidth\":0,\"ticks\":\"\"}}],\"contour\":[{\"type\":\"contour\",\"colorbar\":{\"outlinewidth\":0,\"ticks\":\"\"},\"colorscale\":[[0.0,\"#0d0887\"],[0.1111111111111111,\"#46039f\"],[0.2222222222222222,\"#7201a8\"],[0.3333333333333333,\"#9c179e\"],[0.4444444444444444,\"#bd3786\"],[0.5555555555555556,\"#d8576b\"],[0.6666666666666666,\"#ed7953\"],[0.7777777777777778,\"#fb9f3a\"],[0.8888888888888888,\"#fdca26\"],[1.0,\"#f0f921\"]]}],\"surface\":[{\"type\":\"surface\",\"colorbar\":{\"outlinewidth\":0,\"ticks\":\"\"},\"colorscale\":[[0.0,\"#0d0887\"],[0.1111111111111111,\"#46039f\"],[0.2222222222222222,\"#7201a8\"],[0.3333333333333333,\"#9c179e\"],[0.4444444444444444,\"#bd3786\"],[0.5555555555555556,\"#d8576b\"],[0.6666666666666666,\"#ed7953\"],[0.7777777777777778,\"#fb9f3a\"],[0.8888888888888888,\"#fdca26\"],[1.0,\"#f0f921\"]]}],\"mesh3d\":[{\"type\":\"mesh3d\",\"colorbar\":{\"outlinewidth\":0,\"ticks\":\"\"}}],\"scatter\":[{\"fillpattern\":{\"fillmode\":\"overlay\",\"size\":10,\"solidity\":0.2},\"type\":\"scatter\"}],\"parcoords\":[{\"type\":\"parcoords\",\"line\":{\"colorbar\":{\"outlinewidth\":0,\"ticks\":\"\"}}}],\"scatterpolargl\":[{\"type\":\"scatterpolargl\",\"marker\":{\"colorbar\":{\"outlinewidth\":0,\"ticks\":\"\"}}}],\"bar\":[{\"error_x\":{\"color\":\"#2a3f5f\"},\"error_y\":{\"color\":\"#2a3f5f\"},\"marker\":{\"line\":{\"color\":\"#E5ECF6\",\"width\":0.5},\"pattern\":{\"fillmode\":\"overlay\",\"size\":10,\"solidity\":0.2}},\"type\":\"bar\"}],\"scattergeo\":[{\"type\":\"scattergeo\",\"marker\":{\"colorbar\":{\"outlinewidth\":0,\"ticks\":\"\"}}}],\"scatterpolar\":[{\"type\":\"scatterpolar\",\"marker\":{\"colorbar\":{\"outlinewidth\":0,\"ticks\":\"\"}}}],\"histogram\":[{\"marker\":{\"pattern\":{\"fillmode\":\"overlay\",\"size\":10,\"solidity\":0.2}},\"type\":\"histogram\"}],\"scattergl\":[{\"type\":\"scattergl\",\"marker\":{\"colorbar\":{\"outlinewidth\":0,\"ticks\":\"\"}}}],\"scatter3d\":[{\"type\":\"scatter3d\",\"line\":{\"colorbar\":{\"outlinewidth\":0,\"ticks\":\"\"}},\"marker\":{\"colorbar\":{\"outlinewidth\":0,\"ticks\":\"\"}}}],\"scattermap\":[{\"type\":\"scattermap\",\"marker\":{\"colorbar\":{\"outlinewidth\":0,\"ticks\":\"\"}}}],\"scattermapbox\":[{\"type\":\"scattermapbox\",\"marker\":{\"colorbar\":{\"outlinewidth\":0,\"ticks\":\"\"}}}],\"scatterternary\":[{\"type\":\"scatterternary\",\"marker\":{\"colorbar\":{\"outlinewidth\":0,\"ticks\":\"\"}}}],\"scattercarpet\":[{\"type\":\"scattercarpet\",\"marker\":{\"colorbar\":{\"outlinewidth\":0,\"ticks\":\"\"}}}],\"carpet\":[{\"aaxis\":{\"endlinecolor\":\"#2a3f5f\",\"gridcolor\":\"white\",\"linecolor\":\"white\",\"minorgridcolor\":\"white\",\"startlinecolor\":\"#2a3f5f\"},\"baxis\":{\"endlinecolor\":\"#2a3f5f\",\"gridcolor\":\"white\",\"linecolor\":\"white\",\"minorgridcolor\":\"white\",\"startlinecolor\":\"#2a3f5f\"},\"type\":\"carpet\"}],\"table\":[{\"cells\":{\"fill\":{\"color\":\"#EBF0F8\"},\"line\":{\"color\":\"white\"}},\"header\":{\"fill\":{\"color\":\"#C8D4E3\"},\"line\":{\"color\":\"white\"}},\"type\":\"table\"}],\"barpolar\":[{\"marker\":{\"line\":{\"color\":\"#E5ECF6\",\"width\":0.5},\"pattern\":{\"fillmode\":\"overlay\",\"size\":10,\"solidity\":0.2}},\"type\":\"barpolar\"}],\"pie\":[{\"automargin\":true,\"type\":\"pie\"}]},\"layout\":{\"autotypenumbers\":\"strict\",\"colorway\":[\"#636efa\",\"#EF553B\",\"#00cc96\",\"#ab63fa\",\"#FFA15A\",\"#19d3f3\",\"#FF6692\",\"#B6E880\",\"#FF97FF\",\"#FECB52\"],\"font\":{\"color\":\"#2a3f5f\"},\"hovermode\":\"closest\",\"hoverlabel\":{\"align\":\"left\"},\"paper_bgcolor\":\"white\",\"plot_bgcolor\":\"#E5ECF6\",\"polar\":{\"bgcolor\":\"#E5ECF6\",\"angularaxis\":{\"gridcolor\":\"white\",\"linecolor\":\"white\",\"ticks\":\"\"},\"radialaxis\":{\"gridcolor\":\"white\",\"linecolor\":\"white\",\"ticks\":\"\"}},\"ternary\":{\"bgcolor\":\"#E5ECF6\",\"aaxis\":{\"gridcolor\":\"white\",\"linecolor\":\"white\",\"ticks\":\"\"},\"baxis\":{\"gridcolor\":\"white\",\"linecolor\":\"white\",\"ticks\":\"\"},\"caxis\":{\"gridcolor\":\"white\",\"linecolor\":\"white\",\"ticks\":\"\"}},\"coloraxis\":{\"colorbar\":{\"outlinewidth\":0,\"ticks\":\"\"}},\"colorscale\":{\"sequential\":[[0.0,\"#0d0887\"],[0.1111111111111111,\"#46039f\"],[0.2222222222222222,\"#7201a8\"],[0.3333333333333333,\"#9c179e\"],[0.4444444444444444,\"#bd3786\"],[0.5555555555555556,\"#d8576b\"],[0.6666666666666666,\"#ed7953\"],[0.7777777777777778,\"#fb9f3a\"],[0.8888888888888888,\"#fdca26\"],[1.0,\"#f0f921\"]],\"sequentialminus\":[[0.0,\"#0d0887\"],[0.1111111111111111,\"#46039f\"],[0.2222222222222222,\"#7201a8\"],[0.3333333333333333,\"#9c179e\"],[0.4444444444444444,\"#bd3786\"],[0.5555555555555556,\"#d8576b\"],[0.6666666666666666,\"#ed7953\"],[0.7777777777777778,\"#fb9f3a\"],[0.8888888888888888,\"#fdca26\"],[1.0,\"#f0f921\"]],\"diverging\":[[0,\"#8e0152\"],[0.1,\"#c51b7d\"],[0.2,\"#de77ae\"],[0.3,\"#f1b6da\"],[0.4,\"#fde0ef\"],[0.5,\"#f7f7f7\"],[0.6,\"#e6f5d0\"],[0.7,\"#b8e186\"],[0.8,\"#7fbc41\"],[0.9,\"#4d9221\"],[1,\"#276419\"]]},\"xaxis\":{\"gridcolor\":\"white\",\"linecolor\":\"white\",\"ticks\":\"\",\"title\":{\"standoff\":15},\"zerolinecolor\":\"white\",\"automargin\":true,\"zerolinewidth\":2},\"yaxis\":{\"gridcolor\":\"white\",\"linecolor\":\"white\",\"ticks\":\"\",\"title\":{\"standoff\":15},\"zerolinecolor\":\"white\",\"automargin\":true,\"zerolinewidth\":2},\"scene\":{\"xaxis\":{\"backgroundcolor\":\"#E5ECF6\",\"gridcolor\":\"white\",\"linecolor\":\"white\",\"showbackground\":true,\"ticks\":\"\",\"zerolinecolor\":\"white\",\"gridwidth\":2},\"yaxis\":{\"backgroundcolor\":\"#E5ECF6\",\"gridcolor\":\"white\",\"linecolor\":\"white\",\"showbackground\":true,\"ticks\":\"\",\"zerolinecolor\":\"white\",\"gridwidth\":2},\"zaxis\":{\"backgroundcolor\":\"#E5ECF6\",\"gridcolor\":\"white\",\"linecolor\":\"white\",\"showbackground\":true,\"ticks\":\"\",\"zerolinecolor\":\"white\",\"gridwidth\":2}},\"shapedefaults\":{\"line\":{\"color\":\"#2a3f5f\"}},\"annotationdefaults\":{\"arrowcolor\":\"#2a3f5f\",\"arrowhead\":0,\"arrowwidth\":1},\"geo\":{\"bgcolor\":\"white\",\"landcolor\":\"#E5ECF6\",\"subunitcolor\":\"white\",\"showland\":true,\"showlakes\":true,\"lakecolor\":\"white\"},\"title\":{\"x\":0.05},\"mapbox\":{\"style\":\"light\"}}},\"scene\":{\"xaxis\":{\"title\":{\"text\":\"Responsible\"}},\"yaxis\":{\"title\":{\"text\":\"Trustworthy\"}},\"zaxis\":{\"title\":{\"text\":\"Caring\"}},\"aspectmode\":\"cube\"},\"legend\":{\"yanchor\":\"top\",\"y\":0.99,\"xanchor\":\"left\",\"x\":0.01},\"width\":1000,\"height\":1000},                        {\"responsive\": true}                    ).then(function(){\n",
       "                            \n",
       "var gd = document.getElementById('217abcb0-7e67-43eb-9c41-80e46cd1fdf8');\n",
       "var x = new MutationObserver(function (mutations, observer) {{\n",
       "        var display = window.getComputedStyle(gd).display;\n",
       "        if (!display || display === 'none') {{\n",
       "            console.log([gd, 'removed!']);\n",
       "            Plotly.purge(gd);\n",
       "            observer.disconnect();\n",
       "        }}\n",
       "}});\n",
       "\n",
       "// Listen for the removal of the full notebook cells\n",
       "var notebookContainer = gd.closest('#notebook-container');\n",
       "if (notebookContainer) {{\n",
       "    x.observe(notebookContainer, {childList: true});\n",
       "}}\n",
       "\n",
       "// Listen for the clearing of the current output cell\n",
       "var outputEl = gd.closest('.output');\n",
       "if (outputEl) {{\n",
       "    x.observe(outputEl, {childList: true});\n",
       "}}\n",
       "\n",
       "                        })                };            </script>        </div>\n",
       "</body>\n",
       "</html>"
      ]
     },
     "metadata": {},
     "output_type": "display_data"
    }
   ],
   "source": [
    "fig = go.Figure()\n",
    "\n",
    "# Add original data points (blue)\n",
    "fig.add_trace(go.Scatter3d(\n",
    "    x=x, y=y, z=z,\n",
    "    mode='markers',\n",
    "    marker=dict(size=4, opacity=0.7, color='blue'),\n",
    "    name='Original data'\n",
    "))\n",
    "\n",
    "# Add PC1 line (red)\n",
    "line_dir = np.array([1.0, best_slope_xy, best_slope_xz])\n",
    "line_dir = line_dir / np.sqrt(np.sum(line_dir**2))  # normalize\n",
    "t_values = np.linspace(-data_range*1.2, data_range*1.2, 100)\n",
    "line_points = np.outer(t_values, line_dir)\n",
    "\n",
    "fig.add_trace(go.Scatter3d(\n",
    "    x=line_points[:, 0], \n",
    "    y=line_points[:, 1], \n",
    "    z=line_points[:, 2],\n",
    "    mode='lines',\n",
    "    line=dict(color='red', width=6),\n",
    "    name=f'PC1'\n",
    "))\n",
    "\n",
    "# Add residual points (green)\n",
    "fig.add_trace(go.Scatter3d(\n",
    "    x=x_res, y=y_res, z=z_res,\n",
    "    mode='markers',\n",
    "    marker=dict(size=4, opacity=0.7, color='green'),\n",
    "    name='Residuals'\n",
    "))\n",
    "\n",
    "# Update layout\n",
    "fig.update_layout(\n",
    "    scene=dict(\n",
    "        xaxis_title='Responsible',\n",
    "        yaxis_title='Trustworthy',\n",
    "        zaxis_title='Caring',\n",
    "        aspectmode='cube'\n",
    "    ),\n",
    "    width=1000, height=1000,\n",
    "    legend=dict(yanchor=\"top\", y=0.99, xanchor=\"left\", x=0.01)\n",
    ")\n",
    "\n",
    "fig.show()"
   ]
  },
  {
   "cell_type": "markdown",
   "metadata": {},
   "source": [
    "After removing the variability we've already explained using PC1 (which was most of the total variance in the data), there's still some visible remaining variability across the 2D plane of green points.\n",
    "\n",
    "To complete the PCA analysis, we'd find a second dimension (PC2) to explain most of the remaining variance (i.e., in the green points), giving us two new slopes.\n",
    "\n",
    "If we were to then compute new residuals after removing variation along PC2, our points would then lie along a line rather than a plane. This final line would be a **third** principal component.\n",
    "\n",
    "In general, given M input dimensions, there will be M principal components. Whereas each of the original dimensions explains the same amount of variance, the first principal component explains the most variance, the second explains the second most, and so on.\n",
    "\n",
    "We can perform PCA for the entire 13-dimensional set of ratings using `scikit-learn` and print out the varianced explained values for all 13 principal components:"
   ]
  },
  {
   "cell_type": "code",
   "execution_count": 32,
   "metadata": {},
   "outputs": [
    {
     "data": {
      "text/plain": [
       "array([0.62551994, 0.18460995, 0.06174318, 0.05031116, 0.02113982,\n",
       "       0.01500076, 0.01225332, 0.00795414, 0.00667045, 0.00453747,\n",
       "       0.00393348, 0.00326147, 0.00306487])"
      ]
     },
     "execution_count": 32,
     "metadata": {},
     "output_type": "execute_result"
    }
   ],
   "source": [
    "pca = PCA()\n",
    "ratings_matrix = ratings.drop(columns=['stimulus']).values\n",
    "pca.fit(ratings_matrix)\n",
    "\n",
    "explained_variance = pca.explained_variance_ratio_\n",
    "explained_variance"
   ]
  },
  {
   "cell_type": "markdown",
   "metadata": {},
   "source": [
    "Notice that a single dimension (PC1) explains ~63% of the total variance. Previous work has shown that this dimension tends to capture a general shared dimension of \"social dependability\" (trustworthy, repsonsible, caring, etc) much like what we found in our 2D analysis. PC2 explains ~18%. Previous work has shown that this dimension tends to capture a general shared dimension of \"dominance\" (competence, aggressiveness, etc)."
   ]
  }
 ],
 "metadata": {
  "kernelspec": {
   "display_name": ".venv",
   "language": "python",
   "name": "python3"
  },
  "language_info": {
   "codemirror_mode": {
    "name": "ipython",
    "version": 3
   },
   "file_extension": ".py",
   "mimetype": "text/x-python",
   "name": "python",
   "nbconvert_exporter": "python",
   "pygments_lexer": "ipython3",
   "version": "3.9.19"
  },
  "otter": {
   "OK_FORMAT": true,
   "tests": {
    "q1": {
     "name": "q1",
     "points": [
      0
     ],
     "suites": [
      {
       "cases": [
        {
         "code": ">>> bool(np.isclose(best_slope_min_distance, 1.0050251256281406))\nTrue",
         "hidden": false,
         "locked": false
        }
       ],
       "scored": true,
       "setup": "",
       "teardown": "",
       "type": "doctest"
      }
     ]
    },
    "q2": {
     "name": "q2",
     "points": [
      0
     ],
     "suites": [
      {
       "cases": [
        {
         "code": ">>> isinstance(total_variance, float)\nTrue",
         "hidden": false,
         "locked": false
        }
       ],
       "scored": true,
       "setup": "",
       "teardown": "",
       "type": "doctest"
      }
     ]
    },
    "q3": {
     "name": "q3",
     "points": [
      0
     ],
     "suites": [
      {
       "cases": [
        {
         "code": ">>> len(project_point_onto_line_3d(x, y, z, 1.0, 1.0)) == 3\nTrue",
         "hidden": false,
         "locked": false
        }
       ],
       "scored": true,
       "setup": "",
       "teardown": "",
       "type": "doctest"
      }
     ]
    },
    "q4": {
     "name": "q4",
     "points": [
      0
     ],
     "suites": [
      {
       "cases": [
        {
         "code": ">>> isinstance(best_slope_xy, float) and isinstance(best_slope_xz, float) and isinstance(min_distance_sum, float)\nTrue",
         "hidden": false,
         "locked": false
        }
       ],
       "scored": true,
       "setup": "",
       "teardown": "",
       "type": "doctest"
      }
     ]
    },
    "q5": {
     "name": "q5",
     "points": [
      0
     ],
     "suites": [
      {
       "cases": [
        {
         "code": ">>> isinstance(compute_variance_along_line_in_3d(x_p, y_p, z_p), float)\nTrue",
         "hidden": false,
         "locked": false
        }
       ],
       "scored": true,
       "setup": "",
       "teardown": "",
       "type": "doctest"
      }
     ]
    },
    "q6": {
     "name": "q6",
     "points": [
      0
     ],
     "suites": [
      {
       "cases": [
        {
         "code": ">>> len(compute_residuals_3d(x, y, z, x_p, y_p, z_p)) == 3\nTrue",
         "hidden": false,
         "locked": false
        }
       ],
       "scored": true,
       "setup": "",
       "teardown": "",
       "type": "doctest"
      }
     ]
    }
   }
  }
 },
 "nbformat": 4,
 "nbformat_minor": 2
}
