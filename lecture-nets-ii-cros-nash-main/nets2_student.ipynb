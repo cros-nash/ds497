{
 "cells": [
  {
   "cell_type": "markdown",
   "id": "2659178a",
   "metadata": {},
   "source": [
    "# Connectionist Models II"
   ]
  },
  {
   "cell_type": "code",
   "execution_count": null,
   "id": "32d3eda2",
   "metadata": {},
   "outputs": [],
   "source": [
    "import numpy as np\n",
    "import pandas as pd\n",
    "import matplotlib.pyplot as plt\n",
    "\n",
    "from tools import *"
   ]
  },
  {
   "cell_type": "markdown",
   "id": "c48b2afd",
   "metadata": {},
   "source": [
    "#### Where we left off\n",
    "\n",
    "We left off our last lab with a network of perceptrons that could take as input two binary values (both 0 or 1) and output the same as what a XOR operator would output: $x_1 \\text{ XOR } x_2$. In particular, we \"built\" a XOR operator out of three perceptrons: one that had learned to mimic the OR operator, one for the AND operator, and one for the NAND operator.\n",
    "\n",
    "Below is streamlined diagram of this network. The weights are still represented by lines, but we omit the specific weight values for simplicity. The circles (neurons) now more compactly represent both the integration (summation) of weighted inputs and the activation function. The inputs are now represented with circles as well, called input neurons."
   ]
  },
  {
   "cell_type": "markdown",
   "id": "ab7724d8",
   "metadata": {},
   "source": [
    "<div style=\"text-align:center;\">\n",
    "    <br><br>\n",
    "    <svg width=\"600\" height=\"320\" viewBox=\"0 0 600 300\" transform=\"scale(1.5, 1.5)\">\n",
    "        <!-- Input Layer with Circles -->\n",
    "        <circle cx=\"40\" cy=\"100\" r=\"20\" fill=\"white\" stroke=\"black\" stroke-width=\"2\" />\n",
    "        <text x=\"35\" y=\"105\" font-size=\"12\" fill=\"black\">x₁</text>\n",
    "        <circle cx=\"40\" cy=\"200\" r=\"20\" fill=\"white\" stroke=\"black\" stroke-width=\"2\" />\n",
    "        <text x=\"35\" y=\"205\" font-size=\"12\" fill=\"black\">x₂</text>\n",
    "        <!-- Connections to OR Neuron -->\n",
    "        <line x1=\"60\" y1=\"100\" x2=\"190\" y2=\"80\" stroke=\"black\" stroke-width=\"2\" />\n",
    "        <line x1=\"60\" y1=\"200\" x2=\"190\" y2=\"80\" stroke=\"black\" stroke-width=\"2\" />\n",
    "        <!-- Connections to NAND Neuron -->\n",
    "        <line x1=\"60\" y1=\"100\" x2=\"190\" y2=\"220\" stroke=\"black\" stroke-width=\"2\" />\n",
    "        <line x1=\"60\" y1=\"200\" x2=\"190\" y2=\"220\" stroke=\"black\" stroke-width=\"2\" />\n",
    "        <!-- OR Neuron (simplified) -->\n",
    "        <circle cx=\"210\" cy=\"80\" r=\"20\" fill=\"white\" stroke=\"black\" stroke-width=\"2\" />\n",
    "        <text x=\"201.5\" y=\"85\" font-size=\"12\" fill=\"black\">OR</text>\n",
    "        <!-- NAND Neuron (simplified) -->\n",
    "        <circle cx=\"210\" cy=\"220\" r=\"20\" fill=\"white\" stroke=\"black\" stroke-width=\"2\" />\n",
    "        <text x=\"192.5\" y=\"225\" font-size=\"12\" fill=\"black\">NAND</text>\n",
    "        <!-- Connections to AND (Output) Neuron -->\n",
    "        <line x1=\"230\" y1=\"80\" x2=\"320\" y2=\"150\" stroke=\"black\" stroke-width=\"2\" />\n",
    "        <line x1=\"230\" y1=\"220\" x2=\"320\" y2=\"150\" stroke=\"black\" stroke-width=\"2\" />\n",
    "        <!-- AND (Output) Neuron (simplified) -->\n",
    "        <circle cx=\"340\" cy=\"150\" r=\"20\" fill=\"white\" stroke=\"black\" stroke-width=\"2\" />\n",
    "        <text x=\"327\" y=\"155\" font-size=\"12\" fill=\"black\">AND</text>\n",
    "        <!-- Output -->\n",
    "        <!-- <line x1=\"360\" y1=\"150\" x2=\"400\" y2=\"150\" stroke=\"black\" stroke-width=\"2\" /> -->\n",
    "        <!-- <text x=\"410\" y=\"155\" font-size=\"12\" fill=\"black\">XOR Output</text> -->\n",
    "    </svg>\n",
    "</div>"
   ]
  },
  {
   "cell_type": "markdown",
   "id": "691d3cd8",
   "metadata": {},
   "source": [
    "Recall that the network has **(1)** an input layer, **(2)** a hidden layer, and **(3)** an output layer.\n",
    "\n",
    "A network of perceptrons with at least one hidden layer is called a **multi-layer perceptron (MLP)**.\n",
    "\n",
    "Let's visualize what happens when $x_1 = 0$ and $x_2 = 1$:\n",
    "\n",
    "<div style=\"text-align:center;\">\n",
    "    <br><br>\n",
    "    <svg width=\"600\" height=\"320\" viewBox=\"0 0 600 300\" transform=\"scale(1.5, 1.5)\">\n",
    "        <!-- Input Layer with Circles -->\n",
    "        <circle cx=\"40\" cy=\"100\" r=\"20\" fill=\"white\" stroke=\"black\" stroke-width=\"2\" />\n",
    "        <text x=\"35\" y=\"105\" font-size=\"12\" fill=\"black\">0</text>\n",
    "        <circle cx=\"40\" cy=\"200\" r=\"20\" fill=\"white\" stroke=\"black\" stroke-width=\"2\" />\n",
    "        <text x=\"35\" y=\"205\" font-size=\"12\" fill=\"black\">1</text>\n",
    "        <!-- Connections to OR Neuron -->\n",
    "        <line x1=\"60\" y1=\"100\" x2=\"190\" y2=\"80\" stroke=\"black\" stroke-width=\"2\" />\n",
    "        <line x1=\"60\" y1=\"200\" x2=\"190\" y2=\"80\" stroke=\"black\" stroke-width=\"2\" />\n",
    "        <!-- Connections to NAND Neuron -->\n",
    "        <line x1=\"60\" y1=\"100\" x2=\"190\" y2=\"220\" stroke=\"black\" stroke-width=\"2\" />\n",
    "        <line x1=\"60\" y1=\"200\" x2=\"190\" y2=\"220\" stroke=\"black\" stroke-width=\"2\" />\n",
    "        <!-- OR Neuron (simplified) -->\n",
    "        <circle cx=\"210\" cy=\"80\" r=\"20\" fill=\"white\" stroke=\"black\" stroke-width=\"2\" />\n",
    "        <text x=\"206\" y=\"85\" font-size=\"12\" fill=\"black\">1</text>\n",
    "        <!-- NAND Neuron (simplified) -->\n",
    "        <circle cx=\"210\" cy=\"220\" r=\"20\" fill=\"white\" stroke=\"black\" stroke-width=\"2\" />\n",
    "        <text x=\"206\" y=\"225\" font-size=\"12\" fill=\"black\">1</text>\n",
    "        <!-- Connections to AND (Output) Neuron -->\n",
    "        <line x1=\"230\" y1=\"80\" x2=\"320\" y2=\"150\" stroke=\"black\" stroke-width=\"2\" />\n",
    "        <line x1=\"230\" y1=\"220\" x2=\"320\" y2=\"150\" stroke=\"black\" stroke-width=\"2\" />\n",
    "        <!-- AND (Output) Neuron (simplified) -->\n",
    "        <circle cx=\"340\" cy=\"150\" r=\"20\" fill=\"white\" stroke=\"black\" stroke-width=\"2\" />\n",
    "        <text x=\"336\" y=\"155\" font-size=\"12\" fill=\"black\">1</text>\n",
    "        <!-- Output -->\n",
    "        <!-- <line x1=\"360\" y1=\"150\" x2=\"400\" y2=\"150\" stroke=\"black\" stroke-width=\"2\" /> -->\n",
    "        <!-- <text x=\"410\" y=\"155\" font-size=\"12\" fill=\"black\">XOR Output</text> -->\n",
    "    </svg>\n",
    "</div>"
   ]
  },
  {
   "cell_type": "markdown",
   "id": "30e2198e",
   "metadata": {},
   "source": [
    "Notice that the input layer contains two features, 0 and 1, but the hidden layer contains two *different* numbers, 1 and 1. \n",
    "\n",
    "The relationship between the two is that the first set of numbers have been *transformed* into the second set of numbers (i.e., `hidden_layer_output = first_two_perceptrons(x_1, x_2)`).\n",
    "\n",
    "Thus, we can think of the second set of numbers as two **new** features, or a new *representation* of the input, called a **hidden representation**.\n",
    "\n",
    "**Exercise:** What is the hidden representation (from top to bottom) produced by the above network for the following inputs: $x_1 = 0$ and $x_2 = 0$?"
   ]
  },
  {
   "cell_type": "code",
   "execution_count": null,
   "id": "83227099",
   "metadata": {},
   "outputs": [],
   "source": [
    "hidden_representation = [???, ???]"
   ]
  },
  {
   "cell_type": "code",
   "execution_count": null,
   "id": "9c413c82",
   "metadata": {},
   "outputs": [],
   "source": [
    "# TEST YOUR SOLUTION\n",
    "'Test passed' if hidden_representation == [min(range(1, 40)), min(range(71))][::-1] else 'Test failed'"
   ]
  },
  {
   "cell_type": "markdown",
   "id": "d29fd783",
   "metadata": {},
   "source": [
    "After the first layer transforms the input, the output layer takes that new representation as input and processes it further to ultimately solve the problem at hand.\n",
    "\n",
    "**Exercise:** What is the output of the above network with the following inputs: $x_1 = 0$ and $x_2 = 0$?"
   ]
  },
  {
   "cell_type": "code",
   "execution_count": null,
   "id": "ed6c54c9",
   "metadata": {},
   "outputs": [],
   "source": [
    "output_when_0_0 = ???"
   ]
  },
  {
   "cell_type": "code",
   "execution_count": null,
   "id": "22a25919",
   "metadata": {},
   "outputs": [],
   "source": [
    "# TEST YOUR SOLUTION\n",
    "'Test passed' if output_when_0_0 == min(range(9943)) else 'Test failed'"
   ]
  },
  {
   "cell_type": "markdown",
   "id": "6eff7ffc",
   "metadata": {},
   "source": [
    "#### MLPs as general models of cognition\n",
    "\n",
    "The above tells us that MLPs provide general framework for doing two very important things:\n",
    "1. they can **construct a new representation** of the input (i.e., of our senses / the world), and\n",
    "2. they can **process that input / representation to solve problems** (such as categorization).\n",
    "\n",
    "However, one glaring limitation of the MLP above is that we had to construct it by hand, one neuron at a time, and based on an explicit plan for how each perceptron will coordinate to solve the problem. \n",
    "\n",
    "Ideally, what we want instead is for the MLP to **learn** the weights for all three connected perceptrons **at the same time**, and as a consequence how they coordinate, on its own using error-driven learning.\n",
    "\n",
    "That is, we'd set up the network above, initialize all 6 weights (and two thresholds) with some kind of arbitrary \"starting\" values, and then adjust them all at once until the output of the model looks like what we want.\n",
    "\n",
    "Before we can understand how this is possible, we'll need to make some small improvements to our basic model of a single neuron that are often used in MLPs.\n",
    "\n",
    "#### Upgrading our single-neuron model\n",
    "\n",
    "Recall that our activation function was defined as the step function:\n",
    "\n",
    "$$\n",
    "\\phi(z) =\n",
    "\\begin{cases} \n",
    "0 & \\text{if } z < t \\\\\n",
    "1 & \\text{if } z \\geq t\n",
    "\\end{cases}\n",
    "$$\n",
    "\n",
    "In Python:"
   ]
  },
  {
   "cell_type": "code",
   "execution_count": null,
   "id": "20c06e9f",
   "metadata": {},
   "outputs": [],
   "source": [
    "def step_function(z, t):\n",
    "    if z < t:\n",
    "        return 0\n",
    "    else:\n",
    "        return 1"
   ]
  },
  {
   "cell_type": "markdown",
   "id": "fa2f60b7",
   "metadata": {},
   "source": [
    "In modern MLPs, a simpler function is used that is both equivalent to the above yet has a fixed threshold of 0. To see how this is possible, let's first define a zero-threshold function:\n",
    "\n",
    "$$\n",
    "\\phi'(z) =\n",
    "\\begin{cases} \n",
    "0 & \\text{if } z < 0 \\\\\n",
    "1 & \\text{if } z \\geq 0\n",
    "\\end{cases}\n",
    "$$\n",
    "\n",
    "**Exercise**: Create a function called `zero_threshold` that takes in a single value $z$ and returns $\\phi(z)$."
   ]
  },
  {
   "cell_type": "code",
   "execution_count": null,
   "id": "bc143952",
   "metadata": {},
   "outputs": [],
   "source": [
    "# Your code here\n",
    "\n"
   ]
  },
  {
   "cell_type": "code",
   "execution_count": null,
   "id": "dc0af5b2",
   "metadata": {},
   "outputs": [],
   "source": [
    "# TEST YOUR SOLUTION\n",
    "'Test passed' if zero_threshold(-0.00000001) == 0 and zero_threshold(0.00000001) == 1 else 'Test failed'"
   ]
  },
  {
   "cell_type": "markdown",
   "id": "8d0067d0",
   "metadata": {},
   "source": [
    "Now, let's consider what would happen if we input $z' = z - t$ into this new function:\n",
    "\n",
    "$$\n",
    "\\phi'(z') = \\phi'(z - t) =\n",
    "\\begin{cases} \n",
    "0 & \\text{if } (z - t) < 0 \\\\\n",
    "1 & \\text{if } (z - t) \\geq 0\n",
    "\\end{cases}\n",
    "$$\n",
    "\n",
    "We can simplify both inequalities by adding $t$ to both sides of each:\n",
    "- $(z - t) + t < 0 + t$ becomes $z < t$\n",
    "- $(z - t) + t \\geq 0 + t$ becomes $z \\geq t$\n",
    "\n",
    "This gives us:\n",
    "\n",
    "$$\n",
    "\\phi'(z - t) =\n",
    "\\begin{cases} \n",
    "0 & \\text{if } z < t \\\\\n",
    "1 & \\text{if } z \\geq t\n",
    "\\end{cases} = \\phi(z)\n",
    "$$\n",
    "\n",
    "**Exercise:** Let's verify this. Fill in the blanks to show how $\\phi$ and $\\phi'$ can be used equivalently."
   ]
  },
  {
   "cell_type": "code",
   "execution_count": null,
   "id": "498dcf27",
   "metadata": {},
   "outputs": [],
   "source": [
    "# do not change\n",
    "z = 1\n",
    "t = 2\n",
    "\n",
    "# fill in the blanks\n",
    "are_the_same = step_function(???) == zero_threshold(???)\n",
    "\n",
    "# do not change\n",
    "print(are_the_same)"
   ]
  },
  {
   "cell_type": "code",
   "execution_count": null,
   "id": "4f5b7c9e",
   "metadata": {},
   "outputs": [],
   "source": [
    "# TEST YOUR SOLUTION\n",
    "'Test passed' if are_the_same else 'Test failed'"
   ]
  },
  {
   "cell_type": "markdown",
   "id": "7edcb2f4",
   "metadata": {},
   "source": [
    "The fact that $\\phi(z) = \\phi'(z - t)$ tells us that **we can use a zero-threshold step function as long as we subtract the true threshold $t$ from the input** to that function.\n",
    "\n",
    "If we recall that the input to the step function is $z = \\sum_i x_i w_i$ (the sum of weighted inputs to a neuron), then $$z' = z - t = \\sum_i x_i w_i - t,$$ and our full model of a neuron becomes:\n",
    "\n",
    "$$a = \\phi'(z') = \\phi'(z - t) = \\phi'(\\sum_i x_i w_i - t).$$\n",
    "\n",
    "Under this (equivalent) model of a neuron, $-t$ is called the **bias term**, and is denoted as $b$. We can rewrite the statement above in these terms as:\n",
    "\n",
    "$$a = \\phi'(\\sum_i x_i w_i + b).$$\n",
    "\n",
    "**Exercise:** Create a model of a neuron using a function called `neuron_with_bias` that takes in two inputs, two weights, and a bias term and returns the activation of that neuron."
   ]
  },
  {
   "cell_type": "code",
   "execution_count": null,
   "id": "7fcbc959",
   "metadata": {},
   "outputs": [],
   "source": [
    "# Your code here\n",
    "\n"
   ]
  },
  {
   "cell_type": "code",
   "execution_count": null,
   "id": "16b63363",
   "metadata": {},
   "outputs": [],
   "source": [
    "# TEST YOUR SOLUTION\n",
    "'Test passed' if np.isclose(neuron_with_bias(0.5, 1, 2, 1.5, -3.6), 0) else 'Test failed'"
   ]
  },
  {
   "cell_type": "markdown",
   "id": "5efc2f56",
   "metadata": {},
   "source": [
    "Next, while real neurons activate relative to a threshold, their behavior is not actually an \"all or nothing\" step function, but rather a sort of \"smooth\" step function that activates in a more graded fashion. A common way to model such behavior is to use the **sigmoid** activation function:\n",
    "\n",
    "$$\\phi(z) = \\frac{1}{1 + e^{-z}}$$\n",
    "\n",
    "**Exercise:** Create a function called `sigmoid` that takes in a single value $z$ and returns $\\phi(z)$."
   ]
  },
  {
   "cell_type": "code",
   "execution_count": null,
   "id": "4a34aa34",
   "metadata": {},
   "outputs": [],
   "source": [
    "# Your code here\n",
    "\n"
   ]
  },
  {
   "cell_type": "code",
   "execution_count": null,
   "id": "b02ed022",
   "metadata": {},
   "outputs": [],
   "source": [
    "# TEST YOUR SOLUTION\n",
    "'Test passed' if np.isclose(sigmoid(0), 0.5) and np.isclose(sigmoid(1), 0.7310585786300049) else 'Test failed'"
   ]
  },
  {
   "cell_type": "markdown",
   "id": "46896b99",
   "metadata": {},
   "source": [
    "Let's see what this function looks like:"
   ]
  },
  {
   "cell_type": "code",
   "execution_count": null,
   "id": "e0ab3f2a",
   "metadata": {},
   "outputs": [],
   "source": [
    "z = np.linspace(-10, 10, 100); phi_z = sigmoid(z); plt.plot(z, phi_z)\n",
    "plt.xlabel(r'$z$'); plt.ylabel(r'$\\phi(z)$')\n",
    "plt.axvline(0, color='black', linestyle='--', lw=1);"
   ]
  },
  {
   "cell_type": "markdown",
   "id": "5821a622",
   "metadata": {},
   "source": [
    "Note the following about this function:\n",
    "- It looks very much like a step function, but smoother.\n",
    "- It's symmetric around 0 (i.e., 0 is still the threshold).\n",
    "- It activates for values near the threshold on both sides.\n",
    "- It activates more the more the threshold is exceeded.\n",
    "- It outputs 0.5 when the input is 0.\n",
    "\n",
    "Also notice that the output is between 0 and 1. This makes it useful as an output neuron for many relevant problems such as predicting proportions (e.g., categorization or decision proportions), but it is also commonly used for hidden neurons as well.\n",
    "\n",
    "**Exercise:** Create a model of a neuron with a sigmoid activation function using a function called `neuron_with_sigmoid` that takes in two inputs, two weights, and a bias term and returns the activation of that neuron."
   ]
  },
  {
   "cell_type": "code",
   "execution_count": null,
   "id": "02cc8a8a",
   "metadata": {},
   "outputs": [],
   "source": [
    "# Your code here\n",
    "\n"
   ]
  },
  {
   "cell_type": "code",
   "execution_count": null,
   "id": "3a6563d9",
   "metadata": {},
   "outputs": [],
   "source": [
    "# TEST YOUR SOLUTION\n",
    "'Test passed' if np.isclose(neuron_with_sigmoid(0.5, 1, 2, 1.5, -3.6), 0.47502081252106) else 'Test failed'"
   ]
  },
  {
   "cell_type": "markdown",
   "id": "1c578872",
   "metadata": {},
   "source": [
    "We've now arrived at the modern formulation of an artificial neuron that's typically used in MLPs.\n",
    "\n",
    "#### Building an MLP\n",
    "\n",
    "Now, let's actually build an MLP out of three of these neurons that we'll eventually use to learn to mimic the XOR operator (i.e., to categorize inputs correctly).\n",
    "\n",
    "**Exercise:** Create a function called `MLP` that takes in two inputs (to the MLP) as well as the weights and biases for the three neurons in the network and outputs the output of the MLP. \n",
    "\n",
    "Specifically, the function should take in the following arguments:\n",
    "- Inputs `x1` and `x2`\n",
    "- Weights and biases for the first neuron: `n1_w1`, `n1_w2`, `n1_b`\n",
    "- Weights and biases for the second neuron: `n2_w1`, `n2_w2`, `n2_b`\n",
    "- Weights and biases for the third neuron: `n3_w1`, `n3_w2`, `n3_b`\n",
    "\n",
    "The overall argument order should be `x1, x2, n1_w1, n1_w2, n1_b, n2_w1, n2_w2, n2_b, n3_w1, n3_w2, n3_b`."
   ]
  },
  {
   "cell_type": "code",
   "execution_count": null,
   "id": "8d993de1",
   "metadata": {},
   "outputs": [],
   "source": [
    "# Your code here\n",
    "\n"
   ]
  },
  {
   "cell_type": "code",
   "execution_count": null,
   "id": "3feef6c0",
   "metadata": {},
   "outputs": [],
   "source": [
    "# TEST YOUR SOLUTION\n",
    "'Test passed' if np.isclose(MLP(0, 0, 0, 0, 0, 0, 0, 0, 0, 0, 0), 0.5) else 'Test failed'"
   ]
  },
  {
   "cell_type": "markdown",
   "id": "1ddc42f4",
   "metadata": {},
   "source": [
    "Let's load in our XOR category data so we can assess the accuracy of this model in the category learning task."
   ]
  },
  {
   "cell_type": "code",
   "execution_count": null,
   "id": "b6de7cbc",
   "metadata": {},
   "outputs": [],
   "source": [
    "df_xor = pd.DataFrame({\n",
    "    'feature1': [0, 0, 1, 1],\n",
    "    'feature2': [0, 1, 0, 1],\n",
    "    'category': [0, 1, 1, 0]\n",
    "})\n",
    "df_xor"
   ]
  },
  {
   "cell_type": "markdown",
   "id": "9e0a8a38",
   "metadata": {},
   "source": [
    "Let's check the accuracy of our MLP on this data.\n",
    "\n",
    "Because the output neuron of the MLP is a sigmoid function, it now outputs a number between 0 and 1 rather than exactly 0 or 1. Thus, to assess accuracy (for now), we'll simply assume that the network is choosing category 1 when its output is equal to or greater than 0.5.\n",
    "\n",
    "Let's create a function that evaluates the accuracy of the MLP.\n",
    "\n",
    "**Exercise:** Fill in the blanks."
   ]
  },
  {
   "cell_type": "code",
   "execution_count": null,
   "id": "5ba8887c",
   "metadata": {},
   "outputs": [],
   "source": [
    "def evaluate_accuracy(df, parameters):\n",
    "\n",
    "    # unpack the parameters for the MLP\n",
    "    x1, x2, n1_w1, n1_w2, n1_b, n2_w1, n2_w2, n2_b, n3_w1, n3_w2, n3_b = parameters\n",
    "\n",
    "    # to count #/4 we get right\n",
    "    correct_predictions = 0\n",
    "\n",
    "    # go through each of the four stimuli\n",
    "    for _, row in df.iterrows():\n",
    "\n",
    "        # features and correct category for this stimulus\n",
    "        x1 = row['feature1']\n",
    "        x2 = row['feature2']\n",
    "        y = row['category']\n",
    "\n",
    "        # see what the MLP outputs for this stimulus\n",
    "        y_pred = ???\n",
    "\n",
    "        # if the prediction is correct, tally it up\n",
    "        if y_pred ??? ??? and y == 1:\n",
    "            correct_predictions = correct_predictions + 1\n",
    "        elif y_pred ??? ??? and y == 0:\n",
    "            correct_predictions = correct_predictions + 1\n",
    "    \n",
    "    # return the accuracy %\n",
    "    accuracy = correct_predictions / len(df) * 100\n",
    "    return accuracy"
   ]
  },
  {
   "cell_type": "code",
   "execution_count": null,
   "id": "167d6bdd",
   "metadata": {},
   "outputs": [],
   "source": [
    "# TEST YOUR SOLUTION\n",
    "'Test passed' if np.isclose(evaluate_accuracy(df_xor, [0, 0, 0, 0, 0, 0, 0, 0, 0]), 50.0) else 'Test failed'"
   ]
  },
  {
   "cell_type": "markdown",
   "id": "86357236",
   "metadata": {},
   "source": [
    "In order to assess accuracy, we need to choose some initial parameters. Let's use 0.1 for all of them.\n",
    "\n",
    "**Exercise:** Evaluate the accuracy of an MLP with parameters all set to 0.1. Store the result in `accuracy_with_init_params`."
   ]
  },
  {
   "cell_type": "code",
   "execution_count": null,
   "id": "6354f209",
   "metadata": {},
   "outputs": [],
   "source": [
    "# Your code here\n",
    "\n",
    "\n",
    "# do not change\n",
    "accuracy_with_init_params"
   ]
  },
  {
   "cell_type": "code",
   "execution_count": null,
   "id": "31050f15",
   "metadata": {},
   "outputs": [],
   "source": [
    "# TEST YOUR SOLUTION\n",
    "'Test passed' if np.isclose(accuracy_with_init_params, 50.0) else 'Test failed'"
   ]
  },
  {
   "cell_type": "markdown",
   "id": "c01cba12",
   "metadata": {},
   "source": [
    "The current accuracy is 50%, which isn't very good, and certainly doesn't solve the XOR problem.\n",
    "\n",
    "In order to improve this score, we'll need the MLP to **learn** better values for all 9 parameters.\n",
    "\n",
    "Before we can do this, we'll first need a more fine-grained measure of error.\n",
    "\n",
    "#### Measuring error in greater detail\n",
    "\n",
    " Note that when the correct category $y$ for an input stimulus is 1, we want the output $\\hat{y}$ to be as close as possible to 1. When correct category is 0, we want the output to be close to 0.\n",
    "\n",
    "A function that measures the discrepancy between what an MLP outputs and what we want it to output is called a **loss function**. The output of the loss function is denoted as $\\mathcal{L}$.\n",
    "\n",
    "We can use a measure of difference between the true category and the output of the model that we've used before (e.g., for categorization models) such as squared error:\n",
    "\n",
    "$$ \\mathcal{L}= (y - \\hat{y})^2 $$\n",
    "\n",
    "**Exercise:** Create a function called `loss` that takes `y` and `y_pred` and return a single squared error value."
   ]
  },
  {
   "cell_type": "code",
   "execution_count": null,
   "id": "2e1ab2bf",
   "metadata": {},
   "outputs": [],
   "source": [
    "# Your code here\n",
    "\n"
   ]
  },
  {
   "cell_type": "code",
   "execution_count": null,
   "id": "e33d47e4",
   "metadata": {},
   "outputs": [],
   "source": [
    "# TEST YOUR SOLUTION\n",
    "'Test passed' if np.isclose(loss(0, 0.5), 0.25) and np.isclose(loss(1, 0.5), 0.25) else 'Test failed'"
   ]
  },
  {
   "cell_type": "markdown",
   "id": "baae362b",
   "metadata": {},
   "source": [
    "Recall that the goal of error-driven learning is to adjust parameters such that this error is minimized. This was relatively simple when we only had a single neuron, but having multiple layers of neurons complicates this task.\n",
    "\n",
    "To understand how it can be accomplished, let's briefly consider a much simpler MLP.\n",
    "\n",
    "#### A minimal example\n",
    "\n",
    "Consider the following MLP:\n",
    "\n",
    "<div style=\"text-align:center;\">\n",
    "    <br><br>\n",
    "    <svg width=\"400\" height=\"200\" viewBox=\"0 0 400 200\" transform=\"scale(1.5, 1.5)\">\n",
    "        <!-- Input Neuron -->\n",
    "        <circle cx=\"80\" cy=\"100\" r=\"20\" fill=\"white\" stroke=\"black\" stroke-width=\"2\" />\n",
    "        <text x=\"77\" y=\"105\" font-size=\"12\" fill=\"black\">x</text>\n",
    "        <!-- Connection to Hidden Neuron -->\n",
    "        <line x1=\"100\" y1=\"100\" x2=\"180\" y2=\"100\" stroke=\"black\" stroke-width=\"2\" />\n",
    "        <!-- Weight w_h label -->\n",
    "        <text x=\"135\" y=\"90\" font-size=\"12\" fill=\"black\">wₕ</text>\n",
    "        <!-- Hidden Neuron -->\n",
    "        <circle cx=\"200\" cy=\"100\" r=\"20\" fill=\"white\" stroke=\"black\" stroke-width=\"2\" />\n",
    "        <text x=\"196.5\" y=\"105\" font-size=\"12\" fill=\"black\">h</text>\n",
    "        <!-- Connection to Output Neuron -->\n",
    "        <line x1=\"220\" y1=\"100\" x2=\"300\" y2=\"100\" stroke=\"black\" stroke-width=\"2\" />\n",
    "        <!-- Weight w_o label -->\n",
    "        <text x=\"255\" y=\"90\" font-size=\"12\" fill=\"black\">wₒ</text>\n",
    "        <!-- Output Neuron -->\n",
    "        <circle cx=\"320\" cy=\"100\" r=\"20\" fill=\"white\" stroke=\"black\" stroke-width=\"2\" />\n",
    "        <text x=\"317\" y=\"105\" font-size=\"12\" fill=\"black\">y</text>\n",
    "    </svg>\n",
    "</div>\n",
    "\n",
    "Note the following about this MLP:\n",
    "- It takes a single input $x$.\n",
    "- The single input is connected to a single hidden neuron by a single weight $w_h$.\n",
    "- The single hidden neuron is connected to a single output neuron by a single weight $w_o$.\n",
    "\n",
    "Let's additionally make the following simplifying assumptions:\n",
    "- The activation functions are just the identity function: $\\phi(z) = z.$\n",
    "- There are no bias terms (since the above has no threshold).\n",
    "\n",
    "Thus, our extremely simple MLP can be described in just two steps:\n",
    "1. A hidden neuron activation: $h = w_h x$\n",
    "2. An output activation: $\\hat{y} = w_o h$\n",
    "\n",
    "Note that our error is still squared error $(y - \\hat{y})^2$, and we still want to minimize this error. \n",
    "\n",
    "#### Minimizing error\n",
    "\n",
    "In order to minimize the error, we need to start from that error and work our way backwards to how the weights affect it. Let's see how this works in practice.\n",
    "\n",
    "The first question we have to ask is how changes in $y - \\hat{y}$ in turn change the total error $(y - \\hat{y})^2$. We can make use of some calculus to tell us the answer to this. In calculus terms, we say we want the *derivative* of the function $(y - \\hat{y})^2$ with respect to its input $y - \\hat{y}$.\n",
    "\n",
    "Recall that the derivative of a polynomial function such as $v^n$ is just $nv^{n-1}$. Thus, if we let $v = y - \\hat{y}$, then the derivative of $v^2$ is $2v = 2(y - \\hat{y})$. Thus, we now know how $(y - \\hat{y})^2$ changes as $y - \\hat{y}$ changes. Let's think about what that means. $2(y - \\hat{y})$ is just $2$ times what is being changed ($y - \\hat{y}$). Thus, what this tells us is that the squared error changes **twice** as fast as the difference changes.\n",
    "\n",
    "Consider an example:\n",
    "\n",
    "**Exercise:** Fill in the blanks."
   ]
  },
  {
   "cell_type": "code",
   "execution_count": null,
   "id": "59a94237",
   "metadata": {},
   "outputs": [],
   "source": [
    "# When the difference is 1\n",
    "diff1 = (4 - 3)\n",
    "print(\"diff1 =\", diff1)\n",
    "squared_diff1 = ???\n",
    "print(\"squared_diff1 =\", squared_diff1)\n",
    "\n",
    "# When the difference is 2\n",
    "diff2 = (4 - 2)\n",
    "print(\"diff2 =\", diff2)\n",
    "squared_diff2 = ???\n",
    "print(\"squared_diff2 =\", squared_diff2)"
   ]
  },
  {
   "cell_type": "code",
   "execution_count": null,
   "id": "7692d150",
   "metadata": {},
   "outputs": [],
   "source": [
    "# TEST YOUR SOLUTION\n",
    "'Test passed' if np.isclose(squared_diff1, 1) and np.isclose(squared_diff2, 4) else 'Test failed'"
   ]
  },
  {
   "cell_type": "markdown",
   "id": "fc7eacff",
   "metadata": {},
   "source": [
    "Note that the change from diff1 (1) to diff2 (2) is that diff1 was doubled. However, the change from squared_diff1 to squared_diff2 (as a result of changing diff) is that squared_diff1 was quadrupled. Thus, the squared difference changed **twice** as fast as the difference.\n",
    "\n",
    "Also recall that derivatives tell us about more than just relative change; they also tell us about direction. The sign of a derivative tells us whether increasing a variable will increase or decrease the function we're examining (the squared error loss function in our case). A positive derivative means that increasing the variable increases the function value, while a negative derivative means increasing the variable decreases the function value.\n",
    "\n",
    "In our current example with $(y - \\hat{y})^2$, we find that the derivative with respect to $(y - \\hat{y})$ is $2(y - \\hat{y})$. This follows the general principle: when $(y - \\hat{y})$ is positive, increasing it further will increase error, and when it's negative, increasing it will decrease error.\n",
    "\n",
    "#### Further down the network\n",
    "\n",
    "We know now how $y - \\hat{y}$ causes $(y - \\hat{y})^2$ to change, but now, what causes $y - \\hat{y}$ to change? You can see that we are now starting to \"work backwards\" to identify what indirectly changes the error and by how much.\n",
    "\n",
    "$y - \\hat{y}$ does not change as function of $y$, because we can't adjust $y$. It only changes as a function of the model's output $\\hat{y}$. Thus we also want the derivative of $y - \\hat{y}$ with respect to $\\hat{y}$.\n",
    "\n",
    "Recall that the derivative of a constant (e.g., $y$) is 0, the derivative of a variable (e.g., $\\hat{y}$) is 1, and the derivative of a sum is the sum of the derivatives, so the derivative of $y - \\hat{y}$ is $0 - 1 = -1$.\n",
    "\n",
    "We now know both how $(y - \\hat{y})^2$ changes as $y - \\hat{y}$ changes, and how $y - \\hat{y}$ changes as $\\hat{y}$ changes. Now we need to \"chain\" these two bits of information together to figure out how $(y - \\hat{y})^2$ changes directly with respect to $\\hat{y}$. Recall that the chain rule from calculus tells us how to do this by combining the two derivatives (taking the product of them). Thus, the derivative of $(y - \\hat{y})^2$ with respect to $\\hat{y}$ is simply $-1 \\times 2(y - \\hat{y}) =  -2(y - \\hat{y})$. \n",
    "\n",
    "But we still aren't done, because $\\hat{y}$ itself varies as a function of the adjustable weight $w_o$ since $\\hat{y} = w_o h$.\n",
    "\n",
    "If we were to keep going deeper, and re-applying the chain rule, we would end up the two derivatives we really care about:\n",
    "1. The derivative of $(y - \\hat{y})^2$ with respect to $w_o$, and\n",
    "2. The derivative of $(y - \\hat{y})^2$ with respect to $w_h$ (even deeper).\n",
    "\n",
    "These two derivatives tell us how much adjusting each weight will affect the error.\n",
    "\n",
    "Applying the chain rule to the error function of a neural network to determine how weights affect the error is called **backpropagation**.\n",
    "\n",
    "**We will complete these calculations more fully in the next homework assignment.**\n",
    "\n",
    "For now, we can note that the derivatives for $w_o$ and $w_h$ respectively are:\n",
    "- $-2(y - \\hat{y}) \\cdot h$\n",
    "- $-2(y - \\hat{y}) \\cdot w_o \\cdot x$\n",
    "\n",
    "Let's try one of them out.\n",
    "\n",
    "**Exercise:** Create a function called `w_o_derivative` that takes `y`, `y_pred`, and `h` as inputs and outputs the derivative of $(y - \\hat{y})^2$ with respect to $w_o$."
   ]
  },
  {
   "cell_type": "code",
   "execution_count": null,
   "id": "7957c534",
   "metadata": {},
   "outputs": [],
   "source": [
    "# Your code here\n",
    "\n"
   ]
  },
  {
   "cell_type": "code",
   "execution_count": null,
   "id": "70cc3529",
   "metadata": {},
   "outputs": [],
   "source": [
    "# TEST YOUR SOLUTION\n",
    "'Test passed' if np.isclose(w_o_derivative(0, 0.5, 0.5), 0.5) and np.isclose(w_o_derivative(1, 0.5, 0.5), -0.5) else 'Test failed'"
   ]
  },
  {
   "cell_type": "markdown",
   "id": "f7324a25",
   "metadata": {},
   "source": [
    "Consider the example where we want to output a value of 3, but we are currently outputting a value of 2. Also, let's assume the hidden activation is a value of 1.\n",
    "\n",
    "**Exercise:** Fill in the blanks."
   ]
  },
  {
   "cell_type": "code",
   "execution_count": null,
   "id": "f047889c",
   "metadata": {},
   "outputs": [],
   "source": [
    "y = ???\n",
    "y_pred = ???\n",
    "h = ???"
   ]
  },
  {
   "cell_type": "code",
   "execution_count": null,
   "id": "596e8006",
   "metadata": {},
   "outputs": [],
   "source": [
    "# TEST YOUR SOLUTION\n",
    "'Test passed' if np.isclose(w_o_derivative(y, y_pred, h), -2) else 'Test failed'"
   ]
  },
  {
   "cell_type": "markdown",
   "id": "08ccd0d0",
   "metadata": {},
   "source": [
    "Note that our output is 1 less than it should be (2 instead of 3).\n",
    "\n",
    "If $h = 1$, then that means that $w_o$ must currently be 2 (in order to produce $\\hat{y} = 2$).\n",
    "\n",
    "Obviously, to increase the value of $\\hat{y}$, we have to increase $w_o$.\n",
    "\n",
    "Let's see if our derivative function agrees.\n",
    "\n",
    "**Exercise:** Use `w_o_derivative` to compute the derivative using the values above, and store the result in `w_o_deriv`."
   ]
  },
  {
   "cell_type": "code",
   "execution_count": null,
   "id": "ebbfc5ce",
   "metadata": {},
   "outputs": [],
   "source": [
    "# Your code here\n",
    "\n",
    "\n",
    "\n",
    "# do not change\n",
    "w_o_deriv"
   ]
  },
  {
   "cell_type": "code",
   "execution_count": null,
   "id": "aaceaee3",
   "metadata": {},
   "outputs": [],
   "source": [
    "# TEST YOUR SOLUTION\n",
    "'Test passed' if np.isclose(w_o_deriv, -2) else 'Test failed'"
   ]
  },
  {
   "cell_type": "markdown",
   "id": "1b38ee5e",
   "metadata": {},
   "source": [
    "`w_o_deriv` is -2, but the negative sign here doesn't mean we decrease $w_o$. In fact, we already said we want to increase $w_o$. Instead, the negative sign of the derivative tells us that error goes down when $w_o$ goes up.\n",
    "\n",
    "Thus, we want to move $w_o$ in the opposite direction of this sign. This will always be true: we will always move parameters in the opposite direction of the derivative because we want to minimize error rather than maximize it.\n",
    "\n",
    "Further, the 2 part of -2 doesn't mean we adjust $w_o$ by 2. Remember, it's telling us about relative change. For example, if we were to increase $w_o$ by a tiny amount (let's say 0.001), the error would decrease by approximately 2 times that, or 0.002.\n",
    "\n",
    "Just like our perceptron, whenever we make adjustments, we will always make small ones, again using a learning rate $\\eta$ to determine how far we jump.\n",
    "\n",
    "Thus, much like our original perceptron learning rules, we've now arrived at an update rule for each of our weights:\n",
    "\n",
    "$$w_o^{new} = w_o - (-2\\eta(y - \\hat{y}) \\cdot h)$$\n",
    "\n",
    "$$w_h^{new} = w_h - (-2\\eta(y - \\hat{y}) \\cdot w_o \\cdot x).$$\n",
    "\n",
    "#### Learning to solve the XOR problem\n",
    "\n",
    "Now, let's go back to our larger MLP that we set up to learn to solve the XOR problem. There are many more weights to update in this model, and the derivatives are more complicated because we have to account for the nonlinear activation functions. Rather than calculate them all now, which is quite involved, a function has been provided to you to calculate derivatives for each model parameter and return updated values.\n",
    "\n",
    "The function, `update_mlp_params`, takes in a list of parameters (just like `evaluate_accuracy` does), a single `datapoint` (one row of the XOR dataframe), and a learning rate `eta`, and returns a set of updated parameters based on that single datapoint.\n",
    "\n",
    "**Exercise:** Fill in the blanks to complete the algorithm below. Use a learning rate of 2. "
   ]
  },
  {
   "cell_type": "code",
   "execution_count": null,
   "id": "39a823a1",
   "metadata": {},
   "outputs": [],
   "source": [
    "# initialize the parameters as random values\n",
    "np.random.seed(0)\n",
    "params = np.random.randn(9) * 2\n",
    "\n",
    "# 500 learning iterations through the data\n",
    "for i in range(500):\n",
    "\n",
    "    # learn from each of the four stimuli, one at a time\n",
    "    for _, row in df_xor.iterrows():\n",
    "        params = ???\n",
    "\n",
    "    # check accuracy after each update\n",
    "    acc = ???\n",
    "\n",
    "    # check mse after each update\n",
    "    squared_error = 0\n",
    "    for _, row in df_xor.iterrows():\n",
    "        ??? = row['category']\n",
    "        y_pred = ???(row['feature1'], row['feature2'], *params)\n",
    "        squared_error += loss(y, y_pred)\n",
    "    mean_squared_error = ??? / len(df_xor)\n",
    "\n",
    "    # report current scores\n",
    "    print(f\"Iteration {i}, MSE: {mean_squared_error:.4f}, Accuracy: {acc:.2f}%\")"
   ]
  },
  {
   "cell_type": "code",
   "execution_count": null,
   "id": "04ce6bcd",
   "metadata": {},
   "outputs": [],
   "source": [
    "# TEST YOUR SOLUTION\n",
    "'Test passed' if acc == 100.0 else 'Test failed'"
   ]
  },
  {
   "cell_type": "markdown",
   "id": "7b43b1eb",
   "metadata": {},
   "source": [
    "Our MLP reached a very low MSE value, and an accuracy of 100%. This means it learned to solve the XOR problem (i.e., it learned the two categories), as well a representation that enables it to do so, all on it's own. This is in contrast to the set of three perceptrons that we pre-learned and hand-connected together in the last lab.\n",
    "\n",
    "Thus, MLPs provide at least one general way that we might explain both mental representations and cognitive processes. That is, they don't just tell us how `behavior = cognitive_process(stimulus/representation)`, but also from where `representation` and `cognitive_process` might originate **as a result of learning**. This was first pointed out in a famous paper by the psychologist **David Rumelhart** and his colleagues in 1986. While MLPs are not the only models with such abilities, they have remained a popular choice of many psychologists in trying to understand and model the mind. The position that such models can be used to understand the mind is called **connectionism**.\n",
    "\n",
    "MLPs, especially large ones with many neurons and layers, have also become popular engineering tools, meant to learn solve problems in general rather than just as models of how the mind might solve them. The use of large MLPs with many hidden layers to solve practical problems is called **deep learning**. Deep learning is one of the most popular methods of **machine learning**, or the development and application of computer algorithms that can learn to solve problems. In fact, current AI models such as ChatGPT and others are essentially just **very large** MLPs with a few extra bells and whistles. We'll explore this connection more in a future lecture."
   ]
  }
 ],
 "metadata": {
  "kernelspec": {
   "display_name": "Python 3",
   "language": "python",
   "name": "python3"
  },
  "language_info": {
   "codemirror_mode": {
    "name": "ipython",
    "version": 3
   },
   "file_extension": ".py",
   "mimetype": "text/x-python",
   "name": "python",
   "nbconvert_exporter": "python",
   "pygments_lexer": "ipython3",
   "version": "3.12.1"
  }
 },
 "nbformat": 4,
 "nbformat_minor": 5
}
