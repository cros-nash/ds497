{
 "cells": [
  {
   "cell_type": "markdown",
   "id": "2659178a",
   "metadata": {},
   "source": [
    "# Connectionist Models II"
   ]
  },
  {
   "cell_type": "code",
   "execution_count": 86,
   "id": "32d3eda2",
   "metadata": {},
   "outputs": [],
   "source": [
    "import numpy as np\n",
    "import pandas as pd\n",
    "import matplotlib.pyplot as plt\n",
    "\n",
    "from tools import *"
   ]
  },
  {
   "cell_type": "markdown",
   "id": "c48b2afd",
   "metadata": {},
   "source": [
    "#### Where we left off\n",
    "\n",
    "We left off our last lab with a network of perceptrons that could take as input two binary values (both 0 or 1) and output the same as what a XOR operator would output: $x_1 \\text{ XOR } x_2$. In particular, we \"built\" a XOR operator out of three perceptrons: one that had learned to mimic the OR operator, one for the AND operator, and one for the NAND operator.\n",
    "\n",
    "Below is streamlined diagram of this network. The weights are still represented by lines, but we omit the specific weight values for simplicity. The circles (neurons) now more compactly represent both the integration (summation) of weighted inputs and the activation function. The inputs are now represented with circles as well, called input neurons."
   ]
  },
  {
   "cell_type": "markdown",
   "id": "ab7724d8",
   "metadata": {},
   "source": [
    "<div style=\"text-align:center;\">\n",
    "    <br><br>\n",
    "    <svg width=\"600\" height=\"320\" viewBox=\"0 0 600 300\" transform=\"scale(1.5, 1.5)\">\n",
    "        <!-- Input Layer with Circles -->\n",
    "        <circle cx=\"40\" cy=\"100\" r=\"20\" fill=\"white\" stroke=\"black\" stroke-width=\"2\" />\n",
    "        <text x=\"35\" y=\"105\" font-size=\"12\" fill=\"black\">x₁</text>\n",
    "        <circle cx=\"40\" cy=\"200\" r=\"20\" fill=\"white\" stroke=\"black\" stroke-width=\"2\" />\n",
    "        <text x=\"35\" y=\"205\" font-size=\"12\" fill=\"black\">x₂</text>\n",
    "        <!-- Connections to OR Neuron -->\n",
    "        <line x1=\"60\" y1=\"100\" x2=\"190\" y2=\"80\" stroke=\"black\" stroke-width=\"2\" />\n",
    "        <line x1=\"60\" y1=\"200\" x2=\"190\" y2=\"80\" stroke=\"black\" stroke-width=\"2\" />\n",
    "        <!-- Connections to NAND Neuron -->\n",
    "        <line x1=\"60\" y1=\"100\" x2=\"190\" y2=\"220\" stroke=\"black\" stroke-width=\"2\" />\n",
    "        <line x1=\"60\" y1=\"200\" x2=\"190\" y2=\"220\" stroke=\"black\" stroke-width=\"2\" />\n",
    "        <!-- OR Neuron (simplified) -->\n",
    "        <circle cx=\"210\" cy=\"80\" r=\"20\" fill=\"white\" stroke=\"black\" stroke-width=\"2\" />\n",
    "        <text x=\"201.5\" y=\"85\" font-size=\"12\" fill=\"black\">OR</text>\n",
    "        <!-- NAND Neuron (simplified) -->\n",
    "        <circle cx=\"210\" cy=\"220\" r=\"20\" fill=\"white\" stroke=\"black\" stroke-width=\"2\" />\n",
    "        <text x=\"192.5\" y=\"225\" font-size=\"12\" fill=\"black\">NAND</text>\n",
    "        <!-- Connections to AND (Output) Neuron -->\n",
    "        <line x1=\"230\" y1=\"80\" x2=\"320\" y2=\"150\" stroke=\"black\" stroke-width=\"2\" />\n",
    "        <line x1=\"230\" y1=\"220\" x2=\"320\" y2=\"150\" stroke=\"black\" stroke-width=\"2\" />\n",
    "        <!-- AND (Output) Neuron (simplified) -->\n",
    "        <circle cx=\"340\" cy=\"150\" r=\"20\" fill=\"white\" stroke=\"black\" stroke-width=\"2\" />\n",
    "        <text x=\"327\" y=\"155\" font-size=\"12\" fill=\"black\">AND</text>\n",
    "        <!-- Output -->\n",
    "        <!-- <line x1=\"360\" y1=\"150\" x2=\"400\" y2=\"150\" stroke=\"black\" stroke-width=\"2\" /> -->\n",
    "        <!-- <text x=\"410\" y=\"155\" font-size=\"12\" fill=\"black\">XOR Output</text> -->\n",
    "    </svg>\n",
    "</div>"
   ]
  },
  {
   "cell_type": "markdown",
   "id": "691d3cd8",
   "metadata": {},
   "source": [
    "Recall that the network has **(1)** an input layer, **(2)** a hidden layer, and **(3)** an output layer.\n",
    "\n",
    "A network of perceptrons with at least one hidden layer is called a **multi-layer perceptron (MLP)**.\n",
    "\n",
    "Let's visualize what happens when $x_1 = 0$ and $x_2 = 1$:\n",
    "\n",
    "<div style=\"text-align:center;\">\n",
    "    <br><br>\n",
    "    <svg width=\"600\" height=\"320\" viewBox=\"0 0 600 300\" transform=\"scale(1.5, 1.5)\">\n",
    "        <!-- Input Layer with Circles -->\n",
    "        <circle cx=\"40\" cy=\"100\" r=\"20\" fill=\"white\" stroke=\"black\" stroke-width=\"2\" />\n",
    "        <text x=\"35\" y=\"105\" font-size=\"12\" fill=\"black\">0</text>\n",
    "        <circle cx=\"40\" cy=\"200\" r=\"20\" fill=\"white\" stroke=\"black\" stroke-width=\"2\" />\n",
    "        <text x=\"35\" y=\"205\" font-size=\"12\" fill=\"black\">1</text>\n",
    "        <!-- Connections to OR Neuron -->\n",
    "        <line x1=\"60\" y1=\"100\" x2=\"190\" y2=\"80\" stroke=\"black\" stroke-width=\"2\" />\n",
    "        <line x1=\"60\" y1=\"200\" x2=\"190\" y2=\"80\" stroke=\"black\" stroke-width=\"2\" />\n",
    "        <!-- Connections to NAND Neuron -->\n",
    "        <line x1=\"60\" y1=\"100\" x2=\"190\" y2=\"220\" stroke=\"black\" stroke-width=\"2\" />\n",
    "        <line x1=\"60\" y1=\"200\" x2=\"190\" y2=\"220\" stroke=\"black\" stroke-width=\"2\" />\n",
    "        <!-- OR Neuron (simplified) -->\n",
    "        <circle cx=\"210\" cy=\"80\" r=\"20\" fill=\"white\" stroke=\"black\" stroke-width=\"2\" />\n",
    "        <text x=\"206\" y=\"85\" font-size=\"12\" fill=\"black\">1</text>\n",
    "        <!-- NAND Neuron (simplified) -->\n",
    "        <circle cx=\"210\" cy=\"220\" r=\"20\" fill=\"white\" stroke=\"black\" stroke-width=\"2\" />\n",
    "        <text x=\"206\" y=\"225\" font-size=\"12\" fill=\"black\">1</text>\n",
    "        <!-- Connections to AND (Output) Neuron -->\n",
    "        <line x1=\"230\" y1=\"80\" x2=\"320\" y2=\"150\" stroke=\"black\" stroke-width=\"2\" />\n",
    "        <line x1=\"230\" y1=\"220\" x2=\"320\" y2=\"150\" stroke=\"black\" stroke-width=\"2\" />\n",
    "        <!-- AND (Output) Neuron (simplified) -->\n",
    "        <circle cx=\"340\" cy=\"150\" r=\"20\" fill=\"white\" stroke=\"black\" stroke-width=\"2\" />\n",
    "        <text x=\"336\" y=\"155\" font-size=\"12\" fill=\"black\">1</text>\n",
    "        <!-- Output -->\n",
    "        <!-- <line x1=\"360\" y1=\"150\" x2=\"400\" y2=\"150\" stroke=\"black\" stroke-width=\"2\" /> -->\n",
    "        <!-- <text x=\"410\" y=\"155\" font-size=\"12\" fill=\"black\">XOR Output</text> -->\n",
    "    </svg>\n",
    "</div>"
   ]
  },
  {
   "cell_type": "markdown",
   "id": "30e2198e",
   "metadata": {},
   "source": [
    "Notice that the input layer contains two features, 0 and 1, but the hidden layer contains two *different* numbers, 1 and 1. \n",
    "\n",
    "The relationship between the two is that the first set of numbers have been *transformed* into the second set of numbers (i.e., `hidden_layer_output = first_two_perceptrons(x_1, x_2)`).\n",
    "\n",
    "Thus, we can think of the second set of numbers as two **new** features, or a new *representation* of the input, called a **hidden representation**.\n",
    "\n",
    "**Exercise:** What is the hidden representation (from top to bottom) produced by the above network for the following inputs: $x_1 = 0$ and $x_2 = 0$?"
   ]
  },
  {
   "cell_type": "code",
   "execution_count": 87,
   "id": "83227099",
   "metadata": {},
   "outputs": [],
   "source": [
    "hidden_representation = [0, 1]"
   ]
  },
  {
   "cell_type": "code",
   "execution_count": 88,
   "id": "9c413c82",
   "metadata": {},
   "outputs": [
    {
     "data": {
      "text/plain": [
       "'Test passed'"
      ]
     },
     "execution_count": 88,
     "metadata": {},
     "output_type": "execute_result"
    }
   ],
   "source": [
    "# TEST YOUR SOLUTION\n",
    "'Test passed' if hidden_representation == [min(range(1, 40)), min(range(71))][::-1] else 'Test failed'"
   ]
  },
  {
   "cell_type": "markdown",
   "id": "d29fd783",
   "metadata": {},
   "source": [
    "After the first layer transforms the input, the output layer takes that new representation as input and processes it further to ultimately solve the problem at hand.\n",
    "\n",
    "**Exercise:** What is the output of the above network with the following inputs: $x_1 = 0$ and $x_2 = 0$?"
   ]
  },
  {
   "cell_type": "code",
   "execution_count": 89,
   "id": "ed6c54c9",
   "metadata": {},
   "outputs": [],
   "source": [
    "output_when_0_0 = 0"
   ]
  },
  {
   "cell_type": "code",
   "execution_count": 90,
   "id": "22a25919",
   "metadata": {},
   "outputs": [
    {
     "data": {
      "text/plain": [
       "'Test passed'"
      ]
     },
     "execution_count": 90,
     "metadata": {},
     "output_type": "execute_result"
    }
   ],
   "source": [
    "# TEST YOUR SOLUTION\n",
    "'Test passed' if output_when_0_0 == min(range(9943)) else 'Test failed'"
   ]
  },
  {
   "cell_type": "markdown",
   "id": "6eff7ffc",
   "metadata": {},
   "source": [
    "#### MLPs as general models of cognition\n",
    "\n",
    "The above tells us that MLPs provide general framework for doing two very important things:\n",
    "1. they can **construct a new representation** of the input (i.e., of our senses / the world), and\n",
    "2. they can **process that input / representation to solve problems** (such as categorization).\n",
    "\n",
    "However, one glaring limitation of the MLP above is that we had to construct it by hand, one neuron at a time, and based on an explicit plan for how each perceptron will coordinate to solve the problem. \n",
    "\n",
    "Ideally, what we want instead is for the MLP to **learn** the weights for all three connected perceptrons **at the same time**, and as a consequence how they coordinate, on its own using error-driven learning.\n",
    "\n",
    "That is, we'd set up the network above, initialize all 6 weights (and two thresholds) with some kind of arbitrary \"starting\" values, and then adjust them all at once until the output of the model looks like what we want.\n",
    "\n",
    "Before we can understand how this is possible, we'll need to make some small improvements to our basic model of a single neuron that are often used in MLPs.\n",
    "\n",
    "#### Upgrading our single-neuron model\n",
    "\n",
    "Recall that our activation function was defined as the step function:\n",
    "\n",
    "$$\n",
    "\\phi(z) =\n",
    "\\begin{cases} \n",
    "0 & \\text{if } z < t \\\\\n",
    "1 & \\text{if } z \\geq t\n",
    "\\end{cases}\n",
    "$$\n",
    "\n",
    "In Python:"
   ]
  },
  {
   "cell_type": "code",
   "execution_count": 91,
   "id": "20c06e9f",
   "metadata": {},
   "outputs": [],
   "source": [
    "def step_function(z, t):\n",
    "    if z < t:\n",
    "        return 0\n",
    "    else:\n",
    "        return 1"
   ]
  },
  {
   "cell_type": "markdown",
   "id": "fa2f60b7",
   "metadata": {},
   "source": [
    "In modern MLPs, a simpler function is used that is both equivalent to the above yet has a fixed threshold of 0. To see how this is possible, let's first define a zero-threshold function:\n",
    "\n",
    "$$\n",
    "\\phi'(z) =\n",
    "\\begin{cases} \n",
    "0 & \\text{if } z < 0 \\\\\n",
    "1 & \\text{if } z \\geq 0\n",
    "\\end{cases}\n",
    "$$\n",
    "\n",
    "**Exercise**: Create a function called `zero_threshold` that takes in a single value $z$ and returns $\\phi(z)$."
   ]
  },
  {
   "cell_type": "code",
   "execution_count": 92,
   "id": "bc143952",
   "metadata": {},
   "outputs": [],
   "source": [
    "# Your code here\n",
    "\n",
    "def zero_threshold(z):\n",
    "    return 0 if z < 0 else 1"
   ]
  },
  {
   "cell_type": "code",
   "execution_count": 93,
   "id": "dc0af5b2",
   "metadata": {},
   "outputs": [
    {
     "data": {
      "text/plain": [
       "'Test passed'"
      ]
     },
     "execution_count": 93,
     "metadata": {},
     "output_type": "execute_result"
    }
   ],
   "source": [
    "# TEST YOUR SOLUTION\n",
    "'Test passed' if zero_threshold(-0.00000001) == 0 and zero_threshold(0.00000001) == 1 else 'Test failed'"
   ]
  },
  {
   "cell_type": "markdown",
   "id": "8d0067d0",
   "metadata": {},
   "source": [
    "Now, let's consider what would happen if we input $z' = z - t$ into this new function:\n",
    "\n",
    "$$\n",
    "\\phi'(z') = \\phi'(z - t) =\n",
    "\\begin{cases} \n",
    "0 & \\text{if } (z - t) < 0 \\\\\n",
    "1 & \\text{if } (z - t) \\geq 0\n",
    "\\end{cases}\n",
    "$$\n",
    "\n",
    "We can simplify both inequalities by adding $t$ to both sides of each:\n",
    "- $(z - t) + t < 0 + t$ becomes $z < t$\n",
    "- $(z - t) + t \\geq 0 + t$ becomes $z \\geq t$\n",
    "\n",
    "This gives us:\n",
    "\n",
    "$$\n",
    "\\phi'(z - t) =\n",
    "\\begin{cases} \n",
    "0 & \\text{if } z < t \\\\\n",
    "1 & \\text{if } z \\geq t\n",
    "\\end{cases} = \\phi(z)\n",
    "$$\n",
    "\n",
    "**Exercise:** Let's verify this. Fill in the blanks to show how $\\phi$ and $\\phi'$ can be used equivalently."
   ]
  },
  {
   "cell_type": "code",
   "execution_count": 94,
   "id": "498dcf27",
   "metadata": {},
   "outputs": [
    {
     "name": "stdout",
     "output_type": "stream",
     "text": [
      "True\n"
     ]
    }
   ],
   "source": [
    "# do not change\n",
    "z = 1\n",
    "t = 2\n",
    "\n",
    "# fill in the blanks\n",
    "are_the_same = step_function(z, t) == zero_threshold(z - t)\n",
    "\n",
    "# do not change\n",
    "print(are_the_same)"
   ]
  },
  {
   "cell_type": "code",
   "execution_count": 95,
   "id": "4f5b7c9e",
   "metadata": {},
   "outputs": [
    {
     "data": {
      "text/plain": [
       "'Test passed'"
      ]
     },
     "execution_count": 95,
     "metadata": {},
     "output_type": "execute_result"
    }
   ],
   "source": [
    "# TEST YOUR SOLUTION\n",
    "'Test passed' if are_the_same else 'Test failed'"
   ]
  },
  {
   "cell_type": "markdown",
   "id": "7edcb2f4",
   "metadata": {},
   "source": [
    "The fact that $\\phi(z) = \\phi'(z - t)$ tells us that **we can use a zero-threshold step function as long as we subtract the true threshold $t$ from the input** to that function.\n",
    "\n",
    "If we recall that the input to the step function is $z = \\sum_i x_i w_i$ (the sum of weighted inputs to a neuron), then $$z' = z - t = \\sum_i x_i w_i - t,$$ and our full model of a neuron becomes:\n",
    "\n",
    "$$a = \\phi'(z') = \\phi'(z - t) = \\phi'(\\sum_i x_i w_i - t).$$\n",
    "\n",
    "Under this (equivalent) model of a neuron, $-t$ is called the **bias term**, and is denoted as $b$. We can rewrite the statement above in these terms as:\n",
    "\n",
    "$$a = \\phi'(\\sum_i x_i w_i + b).$$\n",
    "\n",
    "**Exercise:** Create a model of a neuron using a function called `neuron_with_bias` that takes in two inputs, two weights, and a bias term and returns the activation of that neuron."
   ]
  },
  {
   "cell_type": "code",
   "execution_count": 96,
   "id": "7fcbc959",
   "metadata": {},
   "outputs": [],
   "source": [
    "# Your code here\n",
    "\n",
    "def neuron_with_bias(x1, x2, w1, w2, b):\n",
    "    return zero_threshold((x1*w1) + (x2*w2) + b)"
   ]
  },
  {
   "cell_type": "code",
   "execution_count": 97,
   "id": "16b63363",
   "metadata": {},
   "outputs": [
    {
     "data": {
      "text/plain": [
       "'Test passed'"
      ]
     },
     "execution_count": 97,
     "metadata": {},
     "output_type": "execute_result"
    }
   ],
   "source": [
    "# TEST YOUR SOLUTION\n",
    "'Test passed' if np.isclose(neuron_with_bias(0.5, 1, 2, 1.5, -3.6), 0) else 'Test failed'"
   ]
  },
  {
   "cell_type": "markdown",
   "id": "5efc2f56",
   "metadata": {},
   "source": [
    "Next, while real neurons activate relative to a threshold, their behavior is not actually an \"all or nothing\" step function, but rather a sort of \"smooth\" step function that activates in a more graded fashion. A common way to model such behavior is to use the **sigmoid** activation function:\n",
    "\n",
    "$$\\phi(z) = \\frac{1}{1 + e^{-z}}$$\n",
    "\n",
    "**Exercise:** Create a function called `sigmoid` that takes in a single value $z$ and returns $\\phi(z)$."
   ]
  },
  {
   "cell_type": "code",
   "execution_count": 98,
   "id": "4a34aa34",
   "metadata": {},
   "outputs": [],
   "source": [
    "# Your code here\n",
    "\n",
    "def sigmoid(z):\n",
    "    return 1 / (1 + np.exp(-z))"
   ]
  },
  {
   "cell_type": "code",
   "execution_count": 99,
   "id": "b02ed022",
   "metadata": {},
   "outputs": [
    {
     "data": {
      "text/plain": [
       "'Test passed'"
      ]
     },
     "execution_count": 99,
     "metadata": {},
     "output_type": "execute_result"
    }
   ],
   "source": [
    "# TEST YOUR SOLUTION\n",
    "'Test passed' if np.isclose(sigmoid(0), 0.5) and np.isclose(sigmoid(1), 0.7310585786300049) else 'Test failed'"
   ]
  },
  {
   "cell_type": "markdown",
   "id": "46896b99",
   "metadata": {},
   "source": [
    "Let's see what this function looks like:"
   ]
  },
  {
   "cell_type": "code",
   "execution_count": 100,
   "id": "e0ab3f2a",
   "metadata": {},
   "outputs": [
    {
     "data": {
      "image/png": "[encoded data removed]",
      "text/plain": [
       "<Figure size 640x480 with 1 Axes>"
      ]
     },
     "metadata": {},
     "output_type": "display_data"
    }
   ],
   "source": [
    "z = np.linspace(-10, 10, 100); phi_z = sigmoid(z); plt.plot(z, phi_z)\n",
    "plt.xlabel(r'$z$'); plt.ylabel(r'$\\phi(z)$')\n",
    "plt.axvline(0, color='black', linestyle='--', lw=1);"
   ]
  },
  {
   "cell_type": "markdown",
   "id": "5821a622",
   "metadata": {},
   "source": [
    "Note the following about this function:\n",
    "- It looks very much like a step function, but smoother.\n",
    "- It's symmetric around 0 (i.e., 0 is still the threshold).\n",
    "- It activates for values near the threshold on both sides.\n",
    "- It activates more the more the threshold is exceeded.\n",
    "- It outputs 0.5 when the input is 0.\n",
    "\n",
    "Also notice that the output is between 0 and 1. This makes it useful as an output neuron for many relevant problems such as predicting proportions (e.g., categorization or decision proportions), but it is also commonly used for hidden neurons as well.\n",
    "\n",
    "**Exercise:** Create a model of a neuron with a sigmoid activation function using a function called `neuron_with_sigmoid` that takes in two inputs, two weights, and a bias term and returns the activation of that neuron."
   ]
  },
  {
   "cell_type": "code",
   "execution_count": 101,
   "id": "02cc8a8a",
   "metadata": {},
   "outputs": [],
   "source": [
    "# Your code here\n",
    "\n",
    "def neuron_with_sigmoid(x1, x2, w1, w2, b):\n",
    "    return sigmoid((x1*w1) + (x2*w2) + b)"
   ]
  },
  {
   "cell_type": "code",
   "execution_count": 102,
   "id": "3a6563d9",
   "metadata": {},
   "outputs": [
    {
     "name": "stdout",
     "output_type": "stream",
     "text": [
      "0.24973989440488234\n"
     ]
    },
    {
     "data": {
      "text/plain": [
       "'Test failed'"
      ]
     },
     "execution_count": 102,
     "metadata": {},
     "output_type": "execute_result"
    }
   ],
   "source": [
    "# TEST YOUR SOLUTION\n",
    "print(neuron_with_sigmoid(0.5, 1, 2, 1.5, -3.6))\n",
    "'Test passed' if np.isclose(neuron_with_sigmoid(0.5, 1, 2, 1.5, -3.6), 0.47502081252106) else 'Test failed'"
   ]
  },
  {
   "cell_type": "markdown",
   "id": "1c578872",
   "metadata": {},
   "source": [
    "We've now arrived at the modern formulation of an artificial neuron that's typically used in MLPs.\n",
    "\n",
    "#### Building an MLP\n",
    "\n",
    "Now, let's actually build an MLP out of three of these neurons that we'll eventually use to learn to mimic the XOR operator (i.e., to categorize inputs correctly).\n",
    "\n",
    "**Exercise:** Create a function called `MLP` that takes in two inputs (to the MLP) as well as the weights and biases for the three neurons in the network and outputs the output of the MLP. \n",
    "\n",
    "Specifically, the function should take in the following arguments:\n",
    "- Inputs `x1` and `x2`\n",
    "- Weights and biases for the first neuron: `n1_w1`, `n1_w2`, `n1_b`\n",
    "- Weights and biases for the second neuron: `n2_w1`, `n2_w2`, `n2_b`\n",
    "- Weights and biases for the third neuron: `n3_w1`, `n3_w2`, `n3_b`\n",
    "\n",
    "The overall argument order should be `x1, x2, n1_w1, n1_w2, n1_b, n2_w1, n2_w2, n2_b, n3_w1, n3_w2, n3_b`."
   ]
  },
  {
   "cell_type": "code",
   "execution_count": 103,
   "id": "8d993de1",
   "metadata": {},
   "outputs": [],
   "source": [
    "# Your code here\n",
    "\n",
    "def MLP(x1, x2, n1_w1, n1_w2, n1_b, n2_w1, n2_w2, n2_b, n3_w1, n3_w2, n3_b):\n",
    "    a1 = neuron_with_sigmoid(x1, x2, n1_w1, n1_w2, n1_b)\n",
    "    a2 = neuron_with_sigmoid(x1, x2, n2_w1, n2_w2, n2_b)\n",
    "    return neuron_with_sigmoid(a1, a2, n3_w1, n3_w2, n3_b)"
   ]
  },
  {
   "cell_type": "code",
   "execution_count": 104,
   "id": "3feef6c0",
   "metadata": {},
   "outputs": [
    {
     "data": {
      "text/plain": [
       "'Test passed'"
      ]
     },
     "execution_count": 104,
     "metadata": {},
     "output_type": "execute_result"
    }
   ],
   "source": [
    "# TEST YOUR SOLUTION\n",
    "'Test passed' if np.isclose(MLP(0, 0, 0, 0, 0, 0, 0, 0, 0, 0, 0), 0.5) else 'Test failed'"
   ]
  },
  {
   "cell_type": "markdown",
   "id": "1ddc42f4",
   "metadata": {},
   "source": [
    "Let's load in our XOR category data so we can assess the accuracy of this model in the category learning task."
   ]
  },
  {
   "cell_type": "code",
   "execution_count": 105,
   "id": "b6de7cbc",
   "metadata": {},
   "outputs": [
    {
     "data": {
      "text/html": [
       "<div>\n",
       "<style scoped>\n",
       "    .dataframe tbody tr th:only-of-type {\n",
       "        vertical-align: middle;\n",
       "    }\n",
       "\n",
       "    .dataframe tbody tr th {\n",
       "        vertical-align: top;\n",
       "    }\n",
       "\n",
       "    .dataframe thead th {\n",
       "        text-align: right;\n",
       "    }\n",
       "</style>\n",
       "<table border=\"1\" class=\"dataframe\">\n",
       "  <thead>\n",
       "    <tr style=\"text-align: right;\">\n",
       "      <th></th>\n",
       "      <th>feature1</th>\n",
       "      <th>feature2</th>\n",
       "      <th>category</th>\n",
       "    </tr>\n",
       "  </thead>\n",
       "  <tbody>\n",
       "    <tr>\n",
       "      <th>0</th>\n",
       "      <td>0</td>\n",
       "      <td>0</td>\n",
       "      <td>0</td>\n",
       "    </tr>\n",
       "    <tr>\n",
       "      <th>1</th>\n",
       "      <td>0</td>\n",
       "      <td>1</td>\n",
       "      <td>1</td>\n",
       "    </tr>\n",
       "    <tr>\n",
       "      <th>2</th>\n",
       "      <td>1</td>\n",
       "      <td>0</td>\n",
       "      <td>1</td>\n",
       "    </tr>\n",
       "    <tr>\n",
       "      <th>3</th>\n",
       "      <td>1</td>\n",
       "      <td>1</td>\n",
       "      <td>0</td>\n",
       "    </tr>\n",
       "  </tbody>\n",
       "</table>\n",
       "</div>"
      ],
      "text/plain": [
       "   feature1  feature2  category\n",
       "0         0         0         0\n",
       "1         0         1         1\n",
       "2         1         0         1\n",
       "3         1         1         0"
      ]
     },
     "execution_count": 105,
     "metadata": {},
     "output_type": "execute_result"
    }
   ],
   "source": [
    "df_xor = pd.DataFrame({\n",
    "    'feature1': [0, 0, 1, 1],\n",
    "    'feature2': [0, 1, 0, 1],\n",
    "    'category': [0, 1, 1, 0]\n",
    "})\n",
    "df_xor"
   ]
  },
  {
   "cell_type": "markdown",
   "id": "9e0a8a38",
   "metadata": {},
   "source": [
    "Let's check the accuracy of our MLP on this data.\n",
    "\n",
    "Because the output neuron of the MLP is a sigmoid function, it now outputs a number between 0 and 1 rather than exactly 0 or 1. Thus, to assess accuracy (for now), we'll simply assume that the network is choosing category 1 when its output is equal to or greater than 0.5.\n",
    "\n",
    "Let's create a function that evaluates the accuracy of the MLP.\n",
    "\n",
    "**Exercise:** Fill in the blanks."
   ]
  },
  {
   "cell_type": "code",
   "execution_count": 106,
   "id": "5ba8887c",
   "metadata": {},
   "outputs": [],
   "source": [
    "def evaluate_accuracy(df, parameters):\n",
    "\n",
    "    # unpack the parameters for the MLP\n",
    "    n1_w1, n1_w2, n1_b, n2_w1, n2_w2, n2_b, n3_w1, n3_w2, n3_b = parameters\n",
    "\n",
    "    # to count #/4 we get right\n",
    "    correct_predictions = 0\n",
    "\n",
    "    # go through each of the four stimuli\n",
    "    for _, row in df.iterrows():\n",
    "\n",
    "        # features and correct category for this stimulus\n",
    "        x1 = row['feature1']\n",
    "        x2 = row['feature2']\n",
    "        y = row['category']\n",
    "\n",
    "        # see what the MLP outputs for this stimulus\n",
    "        y_pred = MLP(x1, x2, n1_w1, n1_w2, n1_b, n2_w1, n2_w2, n2_b, n3_w1, n3_w2, n3_b)\n",
    "\n",
    "        # if the prediction is correct, tally it up\n",
    "        if y_pred >= 0.5 and y == 1:\n",
    "            correct_predictions = correct_predictions + 1\n",
    "        elif y_pred < 0.5 and y == 0:\n",
    "            correct_predictions = correct_predictions + 1\n",
    "    \n",
    "    # return the accuracy %\n",
    "    accuracy = correct_predictions / len(df) * 100\n",
    "    return accuracy"
   ]
  },
  {
   "cell_type": "code",
   "execution_count": 107,
   "id": "167d6bdd",
   "metadata": {},
   "outputs": [
    {
     "data": {
      "text/plain": [
       "'Test passed'"
      ]
     },
     "execution_count": 107,
     "metadata": {},
     "output_type": "execute_result"
    }
   ],
   "source": [
    "# TEST YOUR SOLUTION\n",
    "'Test passed' if np.isclose(evaluate_accuracy(df_xor, [0, 0, 0, 0, 0, 0, 0, 0, 0]), 50.0) else 'Test failed'"
   ]
  },
  {
   "cell_type": "markdown",
   "id": "86357236",
   "metadata": {},
   "source": [
    "In order to assess accuracy, we need to choose some initial parameters. Let's use 0.1 for all of them.\n",
    "\n",
    "**Exercise:** Evaluate the accuracy of an MLP with parameters all set to 0.1. Store the result in `accuracy_with_init_params`."
   ]
  },
  {
   "cell_type": "code",
   "execution_count": 108,
   "id": "6354f209",
   "metadata": {},
   "outputs": [
    {
     "data": {
      "text/plain": [
       "50.0"
      ]
     },
     "execution_count": 108,
     "metadata": {},
     "output_type": "execute_result"
    }
   ],
   "source": [
    "# Your code here\n",
    "accuracy_with_init_params = evaluate_accuracy(df_xor, [0.1] * 9)\n",
    "\n",
    "# do not change\n",
    "accuracy_with_init_params"
   ]
  },
  {
   "cell_type": "code",
   "execution_count": 109,
   "id": "31050f15",
   "metadata": {},
   "outputs": [
    {
     "data": {
      "text/plain": [
       "'Test passed'"
      ]
     },
     "execution_count": 109,
     "metadata": {},
     "output_type": "execute_result"
    }
   ],
   "source": [
    "# TEST YOUR SOLUTION\n",
    "'Test passed' if np.isclose(accuracy_with_init_params, 50.0) else 'Test failed'"
   ]
  },
  {
   "cell_type": "markdown",
   "id": "c01cba12",
   "metadata": {},
   "source": [
    "The current accuracy is 50%, which isn't very good, and certainly doesn't solve the XOR problem.\n",
    "\n",
    "In order to improve this score, we'll need the MLP to **learn** better values for all 9 parameters.\n",
    "\n",
    "Before we can do this, we'll first need a more fine-grained measure of error.\n",
    "\n",
    "#### Measuring error in greater detail\n",
    "\n",
    " Note that when the correct category $y$ for an input stimulus is 1, we want the output $\\hat{y}$ to be as close as possible to 1. When correct category is 0, we want the output to be close to 0.\n",
    "\n",
    "A function that measures the discrepancy between what an MLP outputs and what we want it to output is called a **loss function**. The output of the loss function is denoted as $\\mathcal{L}$.\n",
    "\n",
    "We can use a measure of difference between the true category and the output of the model that we've used before (e.g., for categorization models) such as squared error:\n",
    "\n",
    "$$ \\mathcal{L}= (y - \\hat{y})^2 $$\n",
    "\n",
    "**Exercise:** Create a function called `loss` that takes `y` and `y_pred` and return a single squared error value."
   ]
  },
  {
   "cell_type": "code",
   "execution_count": 110,
   "id": "2e1ab2bf",
   "metadata": {},
   "outputs": [],
   "source": [
    "# Your code here\n",
    "\n",
    "def loss(y, y_pred):\n",
    "    return np.pow((y - y_pred), 2)"
   ]
  },
  {
   "cell_type": "code",
   "execution_count": 111,
   "id": "e33d47e4",
   "metadata": {},
   "outputs": [
    {
     "data": {
      "text/plain": [
       "'Test passed'"
      ]
     },
     "execution_count": 111,
     "metadata": {},
     "output_type": "execute_result"
    }
   ],
   "source": [
    "# TEST YOUR SOLUTION\n",
    "'Test passed' if np.isclose(loss(0, 0.5), 0.25) and np.isclose(loss(1, 0.5), 0.25) else 'Test failed'"
   ]
  },
  {
   "cell_type": "markdown",
   "id": "baae362b",
   "metadata": {},
   "source": [
    "Recall that the goal of error-driven learning is to adjust parameters such that this error is minimized. This was relatively simple when we only had a single neuron, but having multiple layers of neurons complicates this task.\n",
    "\n",
    "To understand how it can be accomplished, let's briefly consider a much simpler MLP.\n",
    "\n",
    "#### A minimal example\n",
    "\n",
    "Consider the following MLP:\n",
    "\n",
    "<div style=\"text-align:center;\">\n",
    "    <br><br>\n",
    "    <svg width=\"400\" height=\"200\" viewBox=\"0 0 400 200\" transform=\"scale(1.5, 1.5)\">\n",
    "        <!-- Input Neuron -->\n",
    "        <circle cx=\"80\" cy=\"100\" r=\"20\" fill=\"white\" stroke=\"black\" stroke-width=\"2\" />\n",
    "        <text x=\"77\" y=\"105\" font-size=\"12\" fill=\"black\">x</text>\n",
    "        <!-- Connection to Hidden Neuron -->\n",
    "        <line x1=\"100\" y1=\"100\" x2=\"180\" y2=\"100\" stroke=\"black\" stroke-width=\"2\" />\n",
    "        <!-- Weight w_h label -->\n",
    "        <text x=\"135\" y=\"90\" font-size=\"12\" fill=\"black\">wₕ</text>\n",
    "        <!-- Hidden Neuron -->\n",
    "        <circle cx=\"200\" cy=\"100\" r=\"20\" fill=\"white\" stroke=\"black\" stroke-width=\"2\" />\n",
    "        <text x=\"196.5\" y=\"105\" font-size=\"12\" fill=\"black\">h</text>\n",
    "        <!-- Connection to Output Neuron -->\n",
    "        <line x1=\"220\" y1=\"100\" x2=\"300\" y2=\"100\" stroke=\"black\" stroke-width=\"2\" />\n",
    "        <!-- Weight w_o label -->\n",
    "        <text x=\"255\" y=\"90\" font-size=\"12\" fill=\"black\">wₒ</text>\n",
    "        <!-- Output Neuron -->\n",
    "        <circle cx=\"320\" cy=\"100\" r=\"20\" fill=\"white\" stroke=\"black\" stroke-width=\"2\" />\n",
    "        <text x=\"317\" y=\"105\" font-size=\"12\" fill=\"black\">y</text>\n",
    "    </svg>\n",
    "</div>\n",
    "\n",
    "Note the following about this MLP:\n",
    "- It takes a single input $x$.\n",
    "- The single input is connected to a single hidden neuron by a single weight $w_h$.\n",
    "- The single hidden neuron is connected to a single output neuron by a single weight $w_o$.\n",
    "\n",
    "Let's additionally make the following simplifying assumptions:\n",
    "- The activation functions are just the identity function: $\\phi(z) = z.$\n",
    "- There are no bias terms (since the above has no threshold).\n",
    "\n",
    "Thus, our extremely simple MLP can be described in just two steps:\n",
    "1. A hidden neuron activation: $h = w_h x$\n",
    "2. An output activation: $\\hat{y} = w_o h$\n",
    "\n",
    "Note that our error is still squared error $(y - \\hat{y})^2$, and we still want to minimize this error. \n",
    "\n",
    "#### Minimizing error\n",
    "\n",
    "In order to minimize the error, we need to start from that error and work our way backwards to how the weights affect it. Let's see how this works in practice.\n",
    "\n",
    "The first question we have to ask is how changes in $y - \\hat{y}$ in turn change the total error $(y - \\hat{y})^2$. We can make use of some calculus to tell us the answer to this. In calculus terms, we say we want the *derivative* of the function $(y - \\hat{y})^2$ with respect to its input $y - \\hat{y}$.\n",
    "\n",
    "Recall that the derivative of a polynomial function such as $v^n$ is just $nv^{n-1}$. Thus, if we let $v = y - \\hat{y}$, then the derivative of $v^2$ is $2v = 2(y - \\hat{y})$. Thus, we now know how $(y - \\hat{y})^2$ changes as $y - \\hat{y}$ changes. Let's think about what that means. $2(y - \\hat{y})$ is just $2$ times what is being changed ($y - \\hat{y}$). Thus, what this tells us is that the squared error changes **twice** as fast as the difference changes.\n",
    "\n",
    "Consider an example:\n",
    "\n",
    "**Exercise:** Fill in the blanks."
   ]
  },
  {
   "cell_type": "code",
   "execution_count": 112,
   "id": "59a94237",
   "metadata": {},
   "outputs": [
    {
     "name": "stdout",
     "output_type": "stream",
     "text": [
      "diff1 = 1\n",
      "squared_diff1 = 1\n",
      "diff2 = 2\n",
      "squared_diff2 = 4\n"
     ]
    }
   ],
   "source": [
    "# When the difference is 1\n",
    "diff1 = (4 - 3)\n",
    "print(\"diff1 =\", diff1)\n",
    "squared_diff1 = diff1 ** 2\n",
    "print(\"squared_diff1 =\", squared_diff1)\n",
    "\n",
    "# When the difference is 2\n",
    "diff2 = (4 - 2)\n",
    "print(\"diff2 =\", diff2)\n",
    "squared_diff2 = diff2 ** 2\n",
    "print(\"squared_diff2 =\", squared_diff2)"
   ]
  },
  {
   "cell_type": "code",
   "execution_count": 113,
   "id": "7692d150",
   "metadata": {},
   "outputs": [
    {
     "data": {
      "text/plain": [
       "'Test passed'"
      ]
     },
     "execution_count": 113,
     "metadata": {},
     "output_type": "execute_result"
    }
   ],
   "source": [
    "# TEST YOUR SOLUTION\n",
    "'Test passed' if np.isclose(squared_diff1, 1) and np.isclose(squared_diff2, 4) else 'Test failed'"
   ]
  },
  {
   "cell_type": "markdown",
   "id": "fc7eacff",
   "metadata": {},
   "source": [
    "Note that the change from diff1 (1) to diff2 (2) is that diff1 was doubled. However, the change from squared_diff1 to squared_diff2 (as a result of changing diff) is that squared_diff1 was quadrupled. Thus, the squared difference changed **twice** as fast as the difference.\n",
    "\n",
    "Also recall that derivatives tell us about more than just relative change; they also tell us about direction. The sign of a derivative tells us whether increasing a variable will increase or decrease the function we're examining (the squared error loss function in our case). A positive derivative means that increasing the variable increases the function value, while a negative derivative means increasing the variable decreases the function value.\n",
    "\n",
    "In our current example with $(y - \\hat{y})^2$, we find that the derivative with respect to $(y - \\hat{y})$ is $2(y - \\hat{y})$. This follows the general principle: when $(y - \\hat{y})$ is positive, increasing it further will increase error, and when it's negative, increasing it will decrease error.\n",
    "\n",
    "#### Further down the network\n",
    "\n",
    "We know now how $y - \\hat{y}$ causes $(y - \\hat{y})^2$ to change, but now, what causes $y - \\hat{y}$ to change? You can see that we are now starting to \"work backwards\" to identify what indirectly changes the error and by how much.\n",
    "\n",
    "$y - \\hat{y}$ does not change as function of $y$, because we can't adjust $y$. It only changes as a function of the model's output $\\hat{y}$. Thus we also want the derivative of $y - \\hat{y}$ with respect to $\\hat{y}$.\n",
    "\n",
    "Recall that the derivative of a constant (e.g., $y$) is 0, the derivative of a variable (e.g., $\\hat{y}$) is 1, and the derivative of a sum is the sum of the derivatives, so the derivative of $y - \\hat{y}$ is $0 - 1 = -1$.\n",
    "\n",
    "We now know both how $(y - \\hat{y})^2$ changes as $y - \\hat{y}$ changes, and how $y - \\hat{y}$ changes as $\\hat{y}$ changes. Now we need to \"chain\" these two bits of information together to figure out how $(y - \\hat{y})^2$ changes directly with respect to $\\hat{y}$. Recall that the chain rule from calculus tells us how to do this by combining the two derivatives (taking the product of them). Thus, the derivative of $(y - \\hat{y})^2$ with respect to $\\hat{y}$ is simply $-1 \\times 2(y - \\hat{y}) =  -2(y - \\hat{y})$. \n",
    "\n",
    "But we still aren't done, because $\\hat{y}$ itself varies as a function of the adjustable weight $w_o$ since $\\hat{y} = w_o h$.\n",
    "\n",
    "If we were to keep going deeper, and re-applying the chain rule, we would end up the two derivatives we really care about:\n",
    "1. The derivative of $(y - \\hat{y})^2$ with respect to $w_o$, and\n",
    "2. The derivative of $(y - \\hat{y})^2$ with respect to $w_h$ (even deeper).\n",
    "\n",
    "These two derivatives tell us how much adjusting each weight will affect the error.\n",
    "\n",
    "Applying the chain rule to the error function of a neural network to determine how weights affect the error is called **backpropagation**.\n",
    "\n",
    "**We will complete these calculations more fully in the next homework assignment.**\n",
    "\n",
    "For now, we can note that the derivatives for $w_o$ and $w_h$ respectively are:\n",
    "- $-2(y - \\hat{y}) \\cdot h$\n",
    "- $-2(y - \\hat{y}) \\cdot w_o \\cdot x$\n",
    "\n",
    "Let's try one of them out.\n",
    "\n",
    "**Exercise:** Create a function called `w_o_derivative` that takes `y`, `y_pred`, and `h` as inputs and outputs the derivative of $(y - \\hat{y})^2$ with respect to $w_o$."
   ]
  },
  {
   "cell_type": "code",
   "execution_count": 114,
   "id": "7957c534",
   "metadata": {},
   "outputs": [],
   "source": [
    "# Your code here\n",
    "\n",
    "def w_o_derivative(y, y_pred, h):\n",
    "    return -2 * (y - y_pred) * h"
   ]
  },
  {
   "cell_type": "code",
   "execution_count": 115,
   "id": "70cc3529",
   "metadata": {},
   "outputs": [
    {
     "data": {
      "text/plain": [
       "'Test passed'"
      ]
     },
     "execution_count": 115,
     "metadata": {},
     "output_type": "execute_result"
    }
   ],
   "source": [
    "# TEST YOUR SOLUTION\n",
    "'Test passed' if np.isclose(w_o_derivative(0, 0.5, 0.5), 0.5) and np.isclose(w_o_derivative(1, 0.5, 0.5), -0.5) else 'Test failed'"
   ]
  },
  {
   "cell_type": "markdown",
   "id": "f7324a25",
   "metadata": {},
   "source": [
    "Consider the example where we want to output a value of 3, but we are currently outputting a value of 2. Also, let's assume the hidden activation is a value of 1.\n",
    "\n",
    "**Exercise:** Fill in the blanks."
   ]
  },
  {
   "cell_type": "code",
   "execution_count": 116,
   "id": "f047889c",
   "metadata": {},
   "outputs": [],
   "source": [
    "y = 3\n",
    "y_pred = 2\n",
    "h = 1"
   ]
  },
  {
   "cell_type": "code",
   "execution_count": 117,
   "id": "596e8006",
   "metadata": {},
   "outputs": [
    {
     "data": {
      "text/plain": [
       "'Test passed'"
      ]
     },
     "execution_count": 117,
     "metadata": {},
     "output_type": "execute_result"
    }
   ],
   "source": [
    "# TEST YOUR SOLUTION\n",
    "'Test passed' if np.isclose(w_o_derivative(y, y_pred, h), -2) else 'Test failed'"
   ]
  },
  {
   "cell_type": "markdown",
   "id": "08ccd0d0",
   "metadata": {},
   "source": [
    "Note that our output is 1 less than it should be (2 instead of 3).\n",
    "\n",
    "If $h = 1$, then that means that $w_o$ must currently be 2 (in order to produce $\\hat{y} = 2$).\n",
    "\n",
    "Obviously, to increase the value of $\\hat{y}$, we have to increase $w_o$.\n",
    "\n",
    "Let's see if our derivative function agrees.\n",
    "\n",
    "**Exercise:** Use `w_o_derivative` to compute the derivative using the values above, and store the result in `w_o_deriv`."
   ]
  },
  {
   "cell_type": "code",
   "execution_count": 118,
   "id": "ebbfc5ce",
   "metadata": {},
   "outputs": [
    {
     "data": {
      "text/plain": [
       "-2"
      ]
     },
     "execution_count": 118,
     "metadata": {},
     "output_type": "execute_result"
    }
   ],
   "source": [
    "# Your code here\n",
    "\n",
    "w_o_deriv = w_o_derivative(3, 2, 1)\n",
    "\n",
    "# do not change\n",
    "w_o_deriv"
   ]
  },
  {
   "cell_type": "code",
   "execution_count": 119,
   "id": "aaceaee3",
   "metadata": {},
   "outputs": [
    {
     "data": {
      "text/plain": [
       "'Test passed'"
      ]
     },
     "execution_count": 119,
     "metadata": {},
     "output_type": "execute_result"
    }
   ],
   "source": [
    "# TEST YOUR SOLUTION\n",
    "'Test passed' if np.isclose(w_o_deriv, -2) else 'Test failed'"
   ]
  },
  {
   "cell_type": "markdown",
   "id": "1b38ee5e",
   "metadata": {},
   "source": [
    "`w_o_deriv` is -2, but the negative sign here doesn't mean we decrease $w_o$. In fact, we already said we want to increase $w_o$. Instead, the negative sign of the derivative tells us that error goes down when $w_o$ goes up.\n",
    "\n",
    "Thus, we want to move $w_o$ in the opposite direction of this sign. This will always be true: we will always move parameters in the opposite direction of the derivative because we want to minimize error rather than maximize it.\n",
    "\n",
    "Further, the 2 part of -2 doesn't mean we adjust $w_o$ by 2. Remember, it's telling us about relative change. For example, if we were to increase $w_o$ by a tiny amount (let's say 0.001), the error would decrease by approximately 2 times that, or 0.002.\n",
    "\n",
    "Just like our perceptron, whenever we make adjustments, we will always make small ones, again using a learning rate $\\eta$ to determine how far we jump.\n",
    "\n",
    "Thus, much like our original perceptron learning rules, we've now arrived at an update rule for each of our weights:\n",
    "\n",
    "$$w_o^{new} = w_o - (-2\\eta(y - \\hat{y}) \\cdot h)$$\n",
    "\n",
    "$$w_h^{new} = w_h - (-2\\eta(y - \\hat{y}) \\cdot w_o \\cdot x).$$\n",
    "\n",
    "#### Learning to solve the XOR problem\n",
    "\n",
    "Now, let's go back to our larger MLP that we set up to learn to solve the XOR problem. There are many more weights to update in this model, and the derivatives are more complicated because we have to account for the nonlinear activation functions. Rather than calculate them all now, which is quite involved, a function has been provided to you to calculate derivatives for each model parameter and return updated values.\n",
    "\n",
    "The function, `update_mlp_params`, takes in a list of parameters (just like `evaluate_accuracy` does), a single `datapoint` (one row of the XOR dataframe), and a learning rate `eta`, and returns a set of updated parameters based on that single datapoint.\n",
    "\n",
    "**Exercise:** Fill in the blanks to complete the algorithm below. Use a learning rate of 2. "
   ]
  },
  {
   "cell_type": "code",
   "execution_count": 121,
   "id": "39a823a1",
   "metadata": {},
   "outputs": [
    {
     "name": "stdout",
     "output_type": "stream",
     "text": [
      "Iteration 0, MSE: 0.2914, Accuracy: 50.00%\n",
      "Iteration 1, MSE: 0.2690, Accuracy: 50.00%\n",
      "Iteration 2, MSE: 0.2597, Accuracy: 50.00%\n",
      "Iteration 3, MSE: 0.2540, Accuracy: 50.00%\n",
      "Iteration 4, MSE: 0.2494, Accuracy: 50.00%\n",
      "Iteration 5, MSE: 0.2451, Accuracy: 75.00%\n",
      "Iteration 6, MSE: 0.2412, Accuracy: 75.00%\n",
      "Iteration 7, MSE: 0.2376, Accuracy: 75.00%\n",
      "Iteration 8, MSE: 0.2342, Accuracy: 75.00%\n",
      "Iteration 9, MSE: 0.2311, Accuracy: 75.00%\n",
      "Iteration 10, MSE: 0.2282, Accuracy: 75.00%\n",
      "Iteration 11, MSE: 0.2255, Accuracy: 75.00%\n",
      "Iteration 12, MSE: 0.2230, Accuracy: 75.00%\n",
      "Iteration 13, MSE: 0.2206, Accuracy: 75.00%\n",
      "Iteration 14, MSE: 0.2183, Accuracy: 75.00%\n",
      "Iteration 15, MSE: 0.2162, Accuracy: 75.00%\n",
      "Iteration 16, MSE: 0.2143, Accuracy: 75.00%\n",
      "Iteration 17, MSE: 0.2124, Accuracy: 75.00%\n",
      "Iteration 18, MSE: 0.2106, Accuracy: 75.00%\n",
      "Iteration 19, MSE: 0.2089, Accuracy: 75.00%\n",
      "Iteration 20, MSE: 0.2074, Accuracy: 75.00%\n",
      "Iteration 21, MSE: 0.2059, Accuracy: 75.00%\n",
      "Iteration 22, MSE: 0.2045, Accuracy: 75.00%\n",
      "Iteration 23, MSE: 0.2031, Accuracy: 75.00%\n",
      "Iteration 24, MSE: 0.2019, Accuracy: 75.00%\n",
      "Iteration 25, MSE: 0.2007, Accuracy: 75.00%\n",
      "Iteration 26, MSE: 0.1996, Accuracy: 75.00%\n",
      "Iteration 27, MSE: 0.1985, Accuracy: 75.00%\n",
      "Iteration 28, MSE: 0.1975, Accuracy: 75.00%\n",
      "Iteration 29, MSE: 0.1965, Accuracy: 75.00%\n",
      "Iteration 30, MSE: 0.1956, Accuracy: 75.00%\n",
      "Iteration 31, MSE: 0.1948, Accuracy: 75.00%\n",
      "Iteration 32, MSE: 0.1940, Accuracy: 75.00%\n",
      "Iteration 33, MSE: 0.1932, Accuracy: 75.00%\n",
      "Iteration 34, MSE: 0.1925, Accuracy: 75.00%\n",
      "Iteration 35, MSE: 0.1918, Accuracy: 75.00%\n",
      "Iteration 36, MSE: 0.1911, Accuracy: 75.00%\n",
      "Iteration 37, MSE: 0.1905, Accuracy: 75.00%\n",
      "Iteration 38, MSE: 0.1899, Accuracy: 75.00%\n",
      "Iteration 39, MSE: 0.1893, Accuracy: 75.00%\n",
      "Iteration 40, MSE: 0.1888, Accuracy: 75.00%\n",
      "Iteration 41, MSE: 0.1882, Accuracy: 75.00%\n",
      "Iteration 42, MSE: 0.1877, Accuracy: 75.00%\n",
      "Iteration 43, MSE: 0.1873, Accuracy: 75.00%\n",
      "Iteration 44, MSE: 0.1868, Accuracy: 75.00%\n",
      "Iteration 45, MSE: 0.1864, Accuracy: 75.00%\n",
      "Iteration 46, MSE: 0.1859, Accuracy: 75.00%\n",
      "Iteration 47, MSE: 0.1855, Accuracy: 75.00%\n",
      "Iteration 48, MSE: 0.1852, Accuracy: 75.00%\n",
      "Iteration 49, MSE: 0.1848, Accuracy: 75.00%\n",
      "Iteration 50, MSE: 0.1844, Accuracy: 75.00%\n",
      "Iteration 51, MSE: 0.1841, Accuracy: 75.00%\n",
      "Iteration 52, MSE: 0.1837, Accuracy: 75.00%\n",
      "Iteration 53, MSE: 0.1834, Accuracy: 75.00%\n",
      "Iteration 54, MSE: 0.1831, Accuracy: 75.00%\n",
      "Iteration 55, MSE: 0.1828, Accuracy: 75.00%\n",
      "Iteration 56, MSE: 0.1825, Accuracy: 75.00%\n",
      "Iteration 57, MSE: 0.1822, Accuracy: 75.00%\n",
      "Iteration 58, MSE: 0.1820, Accuracy: 75.00%\n",
      "Iteration 59, MSE: 0.1817, Accuracy: 75.00%\n",
      "Iteration 60, MSE: 0.1814, Accuracy: 75.00%\n",
      "Iteration 61, MSE: 0.1812, Accuracy: 75.00%\n",
      "Iteration 62, MSE: 0.1810, Accuracy: 75.00%\n",
      "Iteration 63, MSE: 0.1807, Accuracy: 75.00%\n",
      "Iteration 64, MSE: 0.1805, Accuracy: 75.00%\n",
      "Iteration 65, MSE: 0.1803, Accuracy: 75.00%\n",
      "Iteration 66, MSE: 0.1801, Accuracy: 75.00%\n",
      "Iteration 67, MSE: 0.1799, Accuracy: 75.00%\n",
      "Iteration 68, MSE: 0.1797, Accuracy: 75.00%\n",
      "Iteration 69, MSE: 0.1795, Accuracy: 75.00%\n",
      "Iteration 70, MSE: 0.1793, Accuracy: 75.00%\n",
      "Iteration 71, MSE: 0.1791, Accuracy: 75.00%\n",
      "Iteration 72, MSE: 0.1789, Accuracy: 75.00%\n",
      "Iteration 73, MSE: 0.1787, Accuracy: 75.00%\n",
      "Iteration 74, MSE: 0.1786, Accuracy: 75.00%\n",
      "Iteration 75, MSE: 0.1784, Accuracy: 75.00%\n",
      "Iteration 76, MSE: 0.1782, Accuracy: 75.00%\n",
      "Iteration 77, MSE: 0.1781, Accuracy: 75.00%\n",
      "Iteration 78, MSE: 0.1779, Accuracy: 75.00%\n",
      "Iteration 79, MSE: 0.1778, Accuracy: 75.00%\n",
      "Iteration 80, MSE: 0.1776, Accuracy: 75.00%\n",
      "Iteration 81, MSE: 0.1775, Accuracy: 75.00%\n",
      "Iteration 82, MSE: 0.1773, Accuracy: 75.00%\n",
      "Iteration 83, MSE: 0.1772, Accuracy: 75.00%\n",
      "Iteration 84, MSE: 0.1771, Accuracy: 75.00%\n",
      "Iteration 85, MSE: 0.1769, Accuracy: 75.00%\n",
      "Iteration 86, MSE: 0.1768, Accuracy: 75.00%\n",
      "Iteration 87, MSE: 0.1767, Accuracy: 75.00%\n",
      "Iteration 88, MSE: 0.1765, Accuracy: 75.00%\n",
      "Iteration 89, MSE: 0.1764, Accuracy: 75.00%\n",
      "Iteration 90, MSE: 0.1763, Accuracy: 75.00%\n",
      "Iteration 91, MSE: 0.1762, Accuracy: 75.00%\n",
      "Iteration 92, MSE: 0.1761, Accuracy: 75.00%\n",
      "Iteration 93, MSE: 0.1759, Accuracy: 75.00%\n",
      "Iteration 94, MSE: 0.1758, Accuracy: 75.00%\n",
      "Iteration 95, MSE: 0.1757, Accuracy: 75.00%\n",
      "Iteration 96, MSE: 0.1756, Accuracy: 75.00%\n",
      "Iteration 97, MSE: 0.1755, Accuracy: 75.00%\n",
      "Iteration 98, MSE: 0.1754, Accuracy: 75.00%\n",
      "Iteration 99, MSE: 0.1753, Accuracy: 75.00%\n",
      "Iteration 100, MSE: 0.1752, Accuracy: 75.00%\n",
      "Iteration 101, MSE: 0.1751, Accuracy: 75.00%\n",
      "Iteration 102, MSE: 0.1750, Accuracy: 75.00%\n",
      "Iteration 103, MSE: 0.1749, Accuracy: 75.00%\n",
      "Iteration 104, MSE: 0.1748, Accuracy: 75.00%\n",
      "Iteration 105, MSE: 0.1747, Accuracy: 75.00%\n",
      "Iteration 106, MSE: 0.1746, Accuracy: 75.00%\n",
      "Iteration 107, MSE: 0.1745, Accuracy: 75.00%\n",
      "Iteration 108, MSE: 0.1744, Accuracy: 75.00%\n",
      "Iteration 109, MSE: 0.1743, Accuracy: 75.00%\n",
      "Iteration 110, MSE: 0.1742, Accuracy: 75.00%\n",
      "Iteration 111, MSE: 0.1742, Accuracy: 75.00%\n",
      "Iteration 112, MSE: 0.1741, Accuracy: 75.00%\n",
      "Iteration 113, MSE: 0.1740, Accuracy: 75.00%\n",
      "Iteration 114, MSE: 0.1739, Accuracy: 75.00%\n",
      "Iteration 115, MSE: 0.1738, Accuracy: 75.00%\n",
      "Iteration 116, MSE: 0.1737, Accuracy: 75.00%\n",
      "Iteration 117, MSE: 0.1736, Accuracy: 75.00%\n",
      "Iteration 118, MSE: 0.1736, Accuracy: 75.00%\n",
      "Iteration 119, MSE: 0.1735, Accuracy: 75.00%\n",
      "Iteration 120, MSE: 0.1734, Accuracy: 75.00%\n",
      "Iteration 121, MSE: 0.1733, Accuracy: 75.00%\n",
      "Iteration 122, MSE: 0.1732, Accuracy: 75.00%\n",
      "Iteration 123, MSE: 0.1732, Accuracy: 75.00%\n",
      "Iteration 124, MSE: 0.1731, Accuracy: 75.00%\n",
      "Iteration 125, MSE: 0.1730, Accuracy: 75.00%\n",
      "Iteration 126, MSE: 0.1729, Accuracy: 75.00%\n",
      "Iteration 127, MSE: 0.1728, Accuracy: 75.00%\n",
      "Iteration 128, MSE: 0.1728, Accuracy: 75.00%\n",
      "Iteration 129, MSE: 0.1727, Accuracy: 75.00%\n",
      "Iteration 130, MSE: 0.1726, Accuracy: 75.00%\n",
      "Iteration 131, MSE: 0.1725, Accuracy: 75.00%\n",
      "Iteration 132, MSE: 0.1724, Accuracy: 75.00%\n",
      "Iteration 133, MSE: 0.1724, Accuracy: 75.00%\n",
      "Iteration 134, MSE: 0.1723, Accuracy: 75.00%\n",
      "Iteration 135, MSE: 0.1722, Accuracy: 75.00%\n",
      "Iteration 136, MSE: 0.1721, Accuracy: 75.00%\n",
      "Iteration 137, MSE: 0.1721, Accuracy: 75.00%\n",
      "Iteration 138, MSE: 0.1720, Accuracy: 75.00%\n",
      "Iteration 139, MSE: 0.1719, Accuracy: 75.00%\n",
      "Iteration 140, MSE: 0.1718, Accuracy: 75.00%\n",
      "Iteration 141, MSE: 0.1717, Accuracy: 75.00%\n",
      "Iteration 142, MSE: 0.1717, Accuracy: 75.00%\n",
      "Iteration 143, MSE: 0.1716, Accuracy: 75.00%\n",
      "Iteration 144, MSE: 0.1715, Accuracy: 75.00%\n",
      "Iteration 145, MSE: 0.1714, Accuracy: 75.00%\n",
      "Iteration 146, MSE: 0.1713, Accuracy: 75.00%\n",
      "Iteration 147, MSE: 0.1713, Accuracy: 75.00%\n",
      "Iteration 148, MSE: 0.1712, Accuracy: 75.00%\n",
      "Iteration 149, MSE: 0.1711, Accuracy: 75.00%\n",
      "Iteration 150, MSE: 0.1710, Accuracy: 75.00%\n",
      "Iteration 151, MSE: 0.1709, Accuracy: 75.00%\n",
      "Iteration 152, MSE: 0.1708, Accuracy: 75.00%\n",
      "Iteration 153, MSE: 0.1707, Accuracy: 75.00%\n",
      "Iteration 154, MSE: 0.1706, Accuracy: 75.00%\n",
      "Iteration 155, MSE: 0.1706, Accuracy: 75.00%\n",
      "Iteration 156, MSE: 0.1705, Accuracy: 75.00%\n",
      "Iteration 157, MSE: 0.1704, Accuracy: 75.00%\n",
      "Iteration 158, MSE: 0.1703, Accuracy: 75.00%\n",
      "Iteration 159, MSE: 0.1702, Accuracy: 75.00%\n",
      "Iteration 160, MSE: 0.1701, Accuracy: 75.00%\n",
      "Iteration 161, MSE: 0.1699, Accuracy: 75.00%\n",
      "Iteration 162, MSE: 0.1698, Accuracy: 75.00%\n",
      "Iteration 163, MSE: 0.1697, Accuracy: 75.00%\n",
      "Iteration 164, MSE: 0.1696, Accuracy: 75.00%\n",
      "Iteration 165, MSE: 0.1695, Accuracy: 75.00%\n",
      "Iteration 166, MSE: 0.1694, Accuracy: 75.00%\n",
      "Iteration 167, MSE: 0.1692, Accuracy: 75.00%\n",
      "Iteration 168, MSE: 0.1691, Accuracy: 75.00%\n",
      "Iteration 169, MSE: 0.1689, Accuracy: 75.00%\n",
      "Iteration 170, MSE: 0.1688, Accuracy: 75.00%\n",
      "Iteration 171, MSE: 0.1686, Accuracy: 75.00%\n",
      "Iteration 172, MSE: 0.1685, Accuracy: 75.00%\n",
      "Iteration 173, MSE: 0.1683, Accuracy: 75.00%\n",
      "Iteration 174, MSE: 0.1681, Accuracy: 75.00%\n",
      "Iteration 175, MSE: 0.1680, Accuracy: 75.00%\n",
      "Iteration 176, MSE: 0.1678, Accuracy: 75.00%\n",
      "Iteration 177, MSE: 0.1675, Accuracy: 75.00%\n",
      "Iteration 178, MSE: 0.1673, Accuracy: 75.00%\n",
      "Iteration 179, MSE: 0.1671, Accuracy: 75.00%\n",
      "Iteration 180, MSE: 0.1668, Accuracy: 75.00%\n",
      "Iteration 181, MSE: 0.1666, Accuracy: 75.00%\n",
      "Iteration 182, MSE: 0.1663, Accuracy: 75.00%\n",
      "Iteration 183, MSE: 0.1660, Accuracy: 75.00%\n",
      "Iteration 184, MSE: 0.1657, Accuracy: 75.00%\n",
      "Iteration 185, MSE: 0.1653, Accuracy: 75.00%\n",
      "Iteration 186, MSE: 0.1650, Accuracy: 75.00%\n",
      "Iteration 187, MSE: 0.1645, Accuracy: 75.00%\n",
      "Iteration 188, MSE: 0.1641, Accuracy: 75.00%\n",
      "Iteration 189, MSE: 0.1636, Accuracy: 75.00%\n",
      "Iteration 190, MSE: 0.1631, Accuracy: 75.00%\n",
      "Iteration 191, MSE: 0.1626, Accuracy: 75.00%\n",
      "Iteration 192, MSE: 0.1620, Accuracy: 75.00%\n",
      "Iteration 193, MSE: 0.1614, Accuracy: 75.00%\n",
      "Iteration 194, MSE: 0.1607, Accuracy: 75.00%\n",
      "Iteration 195, MSE: 0.1599, Accuracy: 75.00%\n",
      "Iteration 196, MSE: 0.1591, Accuracy: 75.00%\n",
      "Iteration 197, MSE: 0.1583, Accuracy: 75.00%\n",
      "Iteration 198, MSE: 0.1574, Accuracy: 75.00%\n",
      "Iteration 199, MSE: 0.1564, Accuracy: 75.00%\n",
      "Iteration 200, MSE: 0.1554, Accuracy: 75.00%\n",
      "Iteration 201, MSE: 0.1544, Accuracy: 75.00%\n",
      "Iteration 202, MSE: 0.1534, Accuracy: 75.00%\n",
      "Iteration 203, MSE: 0.1524, Accuracy: 75.00%\n",
      "Iteration 204, MSE: 0.1513, Accuracy: 75.00%\n",
      "Iteration 205, MSE: 0.1503, Accuracy: 75.00%\n",
      "Iteration 206, MSE: 0.1494, Accuracy: 75.00%\n",
      "Iteration 207, MSE: 0.1485, Accuracy: 75.00%\n",
      "Iteration 208, MSE: 0.1476, Accuracy: 75.00%\n",
      "Iteration 209, MSE: 0.1469, Accuracy: 75.00%\n",
      "Iteration 210, MSE: 0.1462, Accuracy: 75.00%\n",
      "Iteration 211, MSE: 0.1456, Accuracy: 75.00%\n",
      "Iteration 212, MSE: 0.1450, Accuracy: 75.00%\n",
      "Iteration 213, MSE: 0.1445, Accuracy: 75.00%\n",
      "Iteration 214, MSE: 0.1441, Accuracy: 75.00%\n",
      "Iteration 215, MSE: 0.1437, Accuracy: 50.00%\n",
      "Iteration 216, MSE: 0.1434, Accuracy: 50.00%\n",
      "Iteration 217, MSE: 0.1431, Accuracy: 50.00%\n",
      "Iteration 218, MSE: 0.1428, Accuracy: 50.00%\n",
      "Iteration 219, MSE: 0.1425, Accuracy: 50.00%\n",
      "Iteration 220, MSE: 0.1423, Accuracy: 50.00%\n",
      "Iteration 221, MSE: 0.1421, Accuracy: 75.00%\n",
      "Iteration 222, MSE: 0.1419, Accuracy: 75.00%\n",
      "Iteration 223, MSE: 0.1418, Accuracy: 75.00%\n",
      "Iteration 224, MSE: 0.1416, Accuracy: 75.00%\n",
      "Iteration 225, MSE: 0.1414, Accuracy: 75.00%\n",
      "Iteration 226, MSE: 0.1413, Accuracy: 75.00%\n",
      "Iteration 227, MSE: 0.1412, Accuracy: 75.00%\n",
      "Iteration 228, MSE: 0.1410, Accuracy: 75.00%\n",
      "Iteration 229, MSE: 0.1409, Accuracy: 75.00%\n",
      "Iteration 230, MSE: 0.1408, Accuracy: 75.00%\n",
      "Iteration 231, MSE: 0.1406, Accuracy: 75.00%\n",
      "Iteration 232, MSE: 0.1405, Accuracy: 75.00%\n",
      "Iteration 233, MSE: 0.1404, Accuracy: 75.00%\n",
      "Iteration 234, MSE: 0.1403, Accuracy: 75.00%\n",
      "Iteration 235, MSE: 0.1402, Accuracy: 75.00%\n",
      "Iteration 236, MSE: 0.1401, Accuracy: 75.00%\n",
      "Iteration 237, MSE: 0.1400, Accuracy: 75.00%\n",
      "Iteration 238, MSE: 0.1398, Accuracy: 75.00%\n",
      "Iteration 239, MSE: 0.1397, Accuracy: 75.00%\n",
      "Iteration 240, MSE: 0.1396, Accuracy: 75.00%\n",
      "Iteration 241, MSE: 0.1396, Accuracy: 75.00%\n",
      "Iteration 242, MSE: 0.1395, Accuracy: 75.00%\n",
      "Iteration 243, MSE: 0.1394, Accuracy: 75.00%\n",
      "Iteration 244, MSE: 0.1393, Accuracy: 75.00%\n",
      "Iteration 245, MSE: 0.1392, Accuracy: 75.00%\n",
      "Iteration 246, MSE: 0.1391, Accuracy: 75.00%\n",
      "Iteration 247, MSE: 0.1390, Accuracy: 75.00%\n",
      "Iteration 248, MSE: 0.1389, Accuracy: 75.00%\n",
      "Iteration 249, MSE: 0.1388, Accuracy: 75.00%\n",
      "Iteration 250, MSE: 0.1388, Accuracy: 75.00%\n",
      "Iteration 251, MSE: 0.1387, Accuracy: 75.00%\n",
      "Iteration 252, MSE: 0.1386, Accuracy: 75.00%\n",
      "Iteration 253, MSE: 0.1385, Accuracy: 75.00%\n",
      "Iteration 254, MSE: 0.1385, Accuracy: 75.00%\n",
      "Iteration 255, MSE: 0.1384, Accuracy: 75.00%\n",
      "Iteration 256, MSE: 0.1383, Accuracy: 75.00%\n",
      "Iteration 257, MSE: 0.1383, Accuracy: 75.00%\n",
      "Iteration 258, MSE: 0.1382, Accuracy: 75.00%\n",
      "Iteration 259, MSE: 0.1381, Accuracy: 75.00%\n",
      "Iteration 260, MSE: 0.1381, Accuracy: 75.00%\n",
      "Iteration 261, MSE: 0.1380, Accuracy: 75.00%\n",
      "Iteration 262, MSE: 0.1379, Accuracy: 75.00%\n",
      "Iteration 263, MSE: 0.1379, Accuracy: 75.00%\n",
      "Iteration 264, MSE: 0.1378, Accuracy: 75.00%\n",
      "Iteration 265, MSE: 0.1377, Accuracy: 75.00%\n",
      "Iteration 266, MSE: 0.1377, Accuracy: 75.00%\n",
      "Iteration 267, MSE: 0.1376, Accuracy: 75.00%\n",
      "Iteration 268, MSE: 0.1376, Accuracy: 75.00%\n",
      "Iteration 269, MSE: 0.1375, Accuracy: 75.00%\n",
      "Iteration 270, MSE: 0.1375, Accuracy: 75.00%\n",
      "Iteration 271, MSE: 0.1374, Accuracy: 75.00%\n",
      "Iteration 272, MSE: 0.1374, Accuracy: 75.00%\n",
      "Iteration 273, MSE: 0.1373, Accuracy: 75.00%\n",
      "Iteration 274, MSE: 0.1373, Accuracy: 75.00%\n",
      "Iteration 275, MSE: 0.1372, Accuracy: 75.00%\n",
      "Iteration 276, MSE: 0.1372, Accuracy: 75.00%\n",
      "Iteration 277, MSE: 0.1371, Accuracy: 75.00%\n",
      "Iteration 278, MSE: 0.1371, Accuracy: 75.00%\n",
      "Iteration 279, MSE: 0.1370, Accuracy: 75.00%\n",
      "Iteration 280, MSE: 0.1370, Accuracy: 75.00%\n",
      "Iteration 281, MSE: 0.1369, Accuracy: 75.00%\n",
      "Iteration 282, MSE: 0.1369, Accuracy: 75.00%\n",
      "Iteration 283, MSE: 0.1368, Accuracy: 75.00%\n",
      "Iteration 284, MSE: 0.1368, Accuracy: 75.00%\n",
      "Iteration 285, MSE: 0.1368, Accuracy: 75.00%\n",
      "Iteration 286, MSE: 0.1367, Accuracy: 75.00%\n",
      "Iteration 287, MSE: 0.1367, Accuracy: 75.00%\n",
      "Iteration 288, MSE: 0.1366, Accuracy: 75.00%\n",
      "Iteration 289, MSE: 0.1366, Accuracy: 75.00%\n",
      "Iteration 290, MSE: 0.1366, Accuracy: 75.00%\n",
      "Iteration 291, MSE: 0.1365, Accuracy: 75.00%\n",
      "Iteration 292, MSE: 0.1365, Accuracy: 75.00%\n",
      "Iteration 293, MSE: 0.1364, Accuracy: 75.00%\n",
      "Iteration 294, MSE: 0.1364, Accuracy: 75.00%\n",
      "Iteration 295, MSE: 0.1364, Accuracy: 75.00%\n",
      "Iteration 296, MSE: 0.1363, Accuracy: 75.00%\n",
      "Iteration 297, MSE: 0.1363, Accuracy: 75.00%\n",
      "Iteration 298, MSE: 0.1362, Accuracy: 75.00%\n",
      "Iteration 299, MSE: 0.1362, Accuracy: 75.00%\n",
      "Iteration 300, MSE: 0.1362, Accuracy: 75.00%\n",
      "Iteration 301, MSE: 0.1361, Accuracy: 75.00%\n",
      "Iteration 302, MSE: 0.1361, Accuracy: 75.00%\n",
      "Iteration 303, MSE: 0.1361, Accuracy: 75.00%\n",
      "Iteration 304, MSE: 0.1360, Accuracy: 75.00%\n",
      "Iteration 305, MSE: 0.1360, Accuracy: 75.00%\n",
      "Iteration 306, MSE: 0.1360, Accuracy: 75.00%\n",
      "Iteration 307, MSE: 0.1359, Accuracy: 75.00%\n",
      "Iteration 308, MSE: 0.1359, Accuracy: 75.00%\n",
      "Iteration 309, MSE: 0.1359, Accuracy: 75.00%\n",
      "Iteration 310, MSE: 0.1358, Accuracy: 75.00%\n",
      "Iteration 311, MSE: 0.1358, Accuracy: 75.00%\n",
      "Iteration 312, MSE: 0.1358, Accuracy: 75.00%\n",
      "Iteration 313, MSE: 0.1357, Accuracy: 75.00%\n",
      "Iteration 314, MSE: 0.1357, Accuracy: 75.00%\n",
      "Iteration 315, MSE: 0.1357, Accuracy: 75.00%\n",
      "Iteration 316, MSE: 0.1356, Accuracy: 75.00%\n",
      "Iteration 317, MSE: 0.1356, Accuracy: 75.00%\n",
      "Iteration 318, MSE: 0.1356, Accuracy: 75.00%\n",
      "Iteration 319, MSE: 0.1355, Accuracy: 75.00%\n",
      "Iteration 320, MSE: 0.1355, Accuracy: 75.00%\n",
      "Iteration 321, MSE: 0.1355, Accuracy: 75.00%\n",
      "Iteration 322, MSE: 0.1354, Accuracy: 75.00%\n",
      "Iteration 323, MSE: 0.1354, Accuracy: 75.00%\n",
      "Iteration 324, MSE: 0.1354, Accuracy: 75.00%\n",
      "Iteration 325, MSE: 0.1353, Accuracy: 75.00%\n",
      "Iteration 326, MSE: 0.1353, Accuracy: 75.00%\n",
      "Iteration 327, MSE: 0.1353, Accuracy: 75.00%\n",
      "Iteration 328, MSE: 0.1352, Accuracy: 75.00%\n",
      "Iteration 329, MSE: 0.1352, Accuracy: 75.00%\n",
      "Iteration 330, MSE: 0.1352, Accuracy: 75.00%\n",
      "Iteration 331, MSE: 0.1352, Accuracy: 75.00%\n",
      "Iteration 332, MSE: 0.1351, Accuracy: 75.00%\n",
      "Iteration 333, MSE: 0.1351, Accuracy: 75.00%\n",
      "Iteration 334, MSE: 0.1351, Accuracy: 75.00%\n",
      "Iteration 335, MSE: 0.1350, Accuracy: 75.00%\n",
      "Iteration 336, MSE: 0.1350, Accuracy: 75.00%\n",
      "Iteration 337, MSE: 0.1350, Accuracy: 75.00%\n",
      "Iteration 338, MSE: 0.1349, Accuracy: 75.00%\n",
      "Iteration 339, MSE: 0.1349, Accuracy: 75.00%\n",
      "Iteration 340, MSE: 0.1349, Accuracy: 75.00%\n",
      "Iteration 341, MSE: 0.1348, Accuracy: 75.00%\n",
      "Iteration 342, MSE: 0.1348, Accuracy: 75.00%\n",
      "Iteration 343, MSE: 0.1348, Accuracy: 75.00%\n",
      "Iteration 344, MSE: 0.1347, Accuracy: 75.00%\n",
      "Iteration 345, MSE: 0.1347, Accuracy: 75.00%\n",
      "Iteration 346, MSE: 0.1347, Accuracy: 75.00%\n",
      "Iteration 347, MSE: 0.1346, Accuracy: 75.00%\n",
      "Iteration 348, MSE: 0.1346, Accuracy: 75.00%\n",
      "Iteration 349, MSE: 0.1346, Accuracy: 75.00%\n",
      "Iteration 350, MSE: 0.1345, Accuracy: 75.00%\n",
      "Iteration 351, MSE: 0.1345, Accuracy: 75.00%\n",
      "Iteration 352, MSE: 0.1344, Accuracy: 75.00%\n",
      "Iteration 353, MSE: 0.1344, Accuracy: 75.00%\n",
      "Iteration 354, MSE: 0.1344, Accuracy: 75.00%\n",
      "Iteration 355, MSE: 0.1343, Accuracy: 75.00%\n",
      "Iteration 356, MSE: 0.1343, Accuracy: 75.00%\n",
      "Iteration 357, MSE: 0.1342, Accuracy: 75.00%\n",
      "Iteration 358, MSE: 0.1342, Accuracy: 75.00%\n",
      "Iteration 359, MSE: 0.1342, Accuracy: 75.00%\n",
      "Iteration 360, MSE: 0.1341, Accuracy: 75.00%\n",
      "Iteration 361, MSE: 0.1341, Accuracy: 75.00%\n",
      "Iteration 362, MSE: 0.1340, Accuracy: 75.00%\n",
      "Iteration 363, MSE: 0.1340, Accuracy: 75.00%\n",
      "Iteration 364, MSE: 0.1339, Accuracy: 75.00%\n",
      "Iteration 365, MSE: 0.1339, Accuracy: 75.00%\n",
      "Iteration 366, MSE: 0.1338, Accuracy: 75.00%\n",
      "Iteration 367, MSE: 0.1338, Accuracy: 75.00%\n",
      "Iteration 368, MSE: 0.1337, Accuracy: 75.00%\n",
      "Iteration 369, MSE: 0.1336, Accuracy: 75.00%\n",
      "Iteration 370, MSE: 0.1336, Accuracy: 75.00%\n",
      "Iteration 371, MSE: 0.1335, Accuracy: 75.00%\n",
      "Iteration 372, MSE: 0.1335, Accuracy: 75.00%\n",
      "Iteration 373, MSE: 0.1334, Accuracy: 75.00%\n",
      "Iteration 374, MSE: 0.1333, Accuracy: 75.00%\n",
      "Iteration 375, MSE: 0.1332, Accuracy: 75.00%\n",
      "Iteration 376, MSE: 0.1332, Accuracy: 75.00%\n",
      "Iteration 377, MSE: 0.1331, Accuracy: 75.00%\n",
      "Iteration 378, MSE: 0.1330, Accuracy: 75.00%\n",
      "Iteration 379, MSE: 0.1329, Accuracy: 75.00%\n",
      "Iteration 380, MSE: 0.1328, Accuracy: 75.00%\n",
      "Iteration 381, MSE: 0.1327, Accuracy: 75.00%\n",
      "Iteration 382, MSE: 0.1326, Accuracy: 75.00%\n",
      "Iteration 383, MSE: 0.1325, Accuracy: 75.00%\n",
      "Iteration 384, MSE: 0.1324, Accuracy: 75.00%\n",
      "Iteration 385, MSE: 0.1322, Accuracy: 75.00%\n",
      "Iteration 386, MSE: 0.1321, Accuracy: 75.00%\n",
      "Iteration 387, MSE: 0.1319, Accuracy: 75.00%\n",
      "Iteration 388, MSE: 0.1318, Accuracy: 75.00%\n",
      "Iteration 389, MSE: 0.1316, Accuracy: 75.00%\n",
      "Iteration 390, MSE: 0.1314, Accuracy: 75.00%\n",
      "Iteration 391, MSE: 0.1312, Accuracy: 75.00%\n",
      "Iteration 392, MSE: 0.1310, Accuracy: 75.00%\n",
      "Iteration 393, MSE: 0.1307, Accuracy: 75.00%\n",
      "Iteration 394, MSE: 0.1304, Accuracy: 75.00%\n",
      "Iteration 395, MSE: 0.1301, Accuracy: 75.00%\n",
      "Iteration 396, MSE: 0.1298, Accuracy: 75.00%\n",
      "Iteration 397, MSE: 0.1294, Accuracy: 75.00%\n",
      "Iteration 398, MSE: 0.1290, Accuracy: 75.00%\n",
      "Iteration 399, MSE: 0.1285, Accuracy: 75.00%\n",
      "Iteration 400, MSE: 0.1280, Accuracy: 75.00%\n",
      "Iteration 401, MSE: 0.1273, Accuracy: 75.00%\n",
      "Iteration 402, MSE: 0.1266, Accuracy: 75.00%\n",
      "Iteration 403, MSE: 0.1258, Accuracy: 75.00%\n",
      "Iteration 404, MSE: 0.1249, Accuracy: 75.00%\n",
      "Iteration 405, MSE: 0.1238, Accuracy: 75.00%\n",
      "Iteration 406, MSE: 0.1225, Accuracy: 75.00%\n",
      "Iteration 407, MSE: 0.1209, Accuracy: 75.00%\n",
      "Iteration 408, MSE: 0.1191, Accuracy: 75.00%\n",
      "Iteration 409, MSE: 0.1169, Accuracy: 75.00%\n",
      "Iteration 410, MSE: 0.1142, Accuracy: 75.00%\n",
      "Iteration 411, MSE: 0.1110, Accuracy: 75.00%\n",
      "Iteration 412, MSE: 0.1070, Accuracy: 75.00%\n",
      "Iteration 413, MSE: 0.1024, Accuracy: 75.00%\n",
      "Iteration 414, MSE: 0.0968, Accuracy: 100.00%\n",
      "Iteration 415, MSE: 0.0905, Accuracy: 100.00%\n",
      "Iteration 416, MSE: 0.0835, Accuracy: 100.00%\n",
      "Iteration 417, MSE: 0.0761, Accuracy: 100.00%\n",
      "Iteration 418, MSE: 0.0687, Accuracy: 100.00%\n",
      "Iteration 419, MSE: 0.0618, Accuracy: 100.00%\n",
      "Iteration 420, MSE: 0.0556, Accuracy: 100.00%\n",
      "Iteration 421, MSE: 0.0503, Accuracy: 100.00%\n",
      "Iteration 422, MSE: 0.0459, Accuracy: 100.00%\n",
      "Iteration 423, MSE: 0.0422, Accuracy: 100.00%\n",
      "Iteration 424, MSE: 0.0392, Accuracy: 100.00%\n",
      "Iteration 425, MSE: 0.0367, Accuracy: 100.00%\n",
      "Iteration 426, MSE: 0.0346, Accuracy: 100.00%\n",
      "Iteration 427, MSE: 0.0328, Accuracy: 100.00%\n",
      "Iteration 428, MSE: 0.0312, Accuracy: 100.00%\n",
      "Iteration 429, MSE: 0.0298, Accuracy: 100.00%\n",
      "Iteration 430, MSE: 0.0285, Accuracy: 100.00%\n",
      "Iteration 431, MSE: 0.0274, Accuracy: 100.00%\n",
      "Iteration 432, MSE: 0.0264, Accuracy: 100.00%\n",
      "Iteration 433, MSE: 0.0254, Accuracy: 100.00%\n",
      "Iteration 434, MSE: 0.0245, Accuracy: 100.00%\n",
      "Iteration 435, MSE: 0.0237, Accuracy: 100.00%\n",
      "Iteration 436, MSE: 0.0230, Accuracy: 100.00%\n",
      "Iteration 437, MSE: 0.0223, Accuracy: 100.00%\n",
      "Iteration 438, MSE: 0.0216, Accuracy: 100.00%\n",
      "Iteration 439, MSE: 0.0210, Accuracy: 100.00%\n",
      "Iteration 440, MSE: 0.0204, Accuracy: 100.00%\n",
      "Iteration 441, MSE: 0.0199, Accuracy: 100.00%\n",
      "Iteration 442, MSE: 0.0193, Accuracy: 100.00%\n",
      "Iteration 443, MSE: 0.0188, Accuracy: 100.00%\n",
      "Iteration 444, MSE: 0.0184, Accuracy: 100.00%\n",
      "Iteration 445, MSE: 0.0179, Accuracy: 100.00%\n",
      "Iteration 446, MSE: 0.0175, Accuracy: 100.00%\n",
      "Iteration 447, MSE: 0.0171, Accuracy: 100.00%\n",
      "Iteration 448, MSE: 0.0167, Accuracy: 100.00%\n",
      "Iteration 449, MSE: 0.0164, Accuracy: 100.00%\n",
      "Iteration 450, MSE: 0.0160, Accuracy: 100.00%\n",
      "Iteration 451, MSE: 0.0157, Accuracy: 100.00%\n",
      "Iteration 452, MSE: 0.0153, Accuracy: 100.00%\n",
      "Iteration 453, MSE: 0.0150, Accuracy: 100.00%\n",
      "Iteration 454, MSE: 0.0147, Accuracy: 100.00%\n",
      "Iteration 455, MSE: 0.0145, Accuracy: 100.00%\n",
      "Iteration 456, MSE: 0.0142, Accuracy: 100.00%\n",
      "Iteration 457, MSE: 0.0139, Accuracy: 100.00%\n",
      "Iteration 458, MSE: 0.0137, Accuracy: 100.00%\n",
      "Iteration 459, MSE: 0.0134, Accuracy: 100.00%\n",
      "Iteration 460, MSE: 0.0132, Accuracy: 100.00%\n",
      "Iteration 461, MSE: 0.0129, Accuracy: 100.00%\n",
      "Iteration 462, MSE: 0.0127, Accuracy: 100.00%\n",
      "Iteration 463, MSE: 0.0125, Accuracy: 100.00%\n",
      "Iteration 464, MSE: 0.0123, Accuracy: 100.00%\n",
      "Iteration 465, MSE: 0.0121, Accuracy: 100.00%\n",
      "Iteration 466, MSE: 0.0119, Accuracy: 100.00%\n",
      "Iteration 467, MSE: 0.0117, Accuracy: 100.00%\n",
      "Iteration 468, MSE: 0.0115, Accuracy: 100.00%\n",
      "Iteration 469, MSE: 0.0114, Accuracy: 100.00%\n",
      "Iteration 470, MSE: 0.0112, Accuracy: 100.00%\n",
      "Iteration 471, MSE: 0.0110, Accuracy: 100.00%\n",
      "Iteration 472, MSE: 0.0109, Accuracy: 100.00%\n",
      "Iteration 473, MSE: 0.0107, Accuracy: 100.00%\n",
      "Iteration 474, MSE: 0.0105, Accuracy: 100.00%\n",
      "Iteration 475, MSE: 0.0104, Accuracy: 100.00%\n",
      "Iteration 476, MSE: 0.0103, Accuracy: 100.00%\n",
      "Iteration 477, MSE: 0.0101, Accuracy: 100.00%\n",
      "Iteration 478, MSE: 0.0100, Accuracy: 100.00%\n",
      "Iteration 479, MSE: 0.0098, Accuracy: 100.00%\n",
      "Iteration 480, MSE: 0.0097, Accuracy: 100.00%\n",
      "Iteration 481, MSE: 0.0096, Accuracy: 100.00%\n",
      "Iteration 482, MSE: 0.0095, Accuracy: 100.00%\n",
      "Iteration 483, MSE: 0.0093, Accuracy: 100.00%\n",
      "Iteration 484, MSE: 0.0092, Accuracy: 100.00%\n",
      "Iteration 485, MSE: 0.0091, Accuracy: 100.00%\n",
      "Iteration 486, MSE: 0.0090, Accuracy: 100.00%\n",
      "Iteration 487, MSE: 0.0089, Accuracy: 100.00%\n",
      "Iteration 488, MSE: 0.0088, Accuracy: 100.00%\n",
      "Iteration 489, MSE: 0.0087, Accuracy: 100.00%\n",
      "Iteration 490, MSE: 0.0086, Accuracy: 100.00%\n",
      "Iteration 491, MSE: 0.0085, Accuracy: 100.00%\n",
      "Iteration 492, MSE: 0.0084, Accuracy: 100.00%\n",
      "Iteration 493, MSE: 0.0083, Accuracy: 100.00%\n",
      "Iteration 494, MSE: 0.0082, Accuracy: 100.00%\n",
      "Iteration 495, MSE: 0.0081, Accuracy: 100.00%\n",
      "Iteration 496, MSE: 0.0080, Accuracy: 100.00%\n",
      "Iteration 497, MSE: 0.0079, Accuracy: 100.00%\n",
      "Iteration 498, MSE: 0.0078, Accuracy: 100.00%\n",
      "Iteration 499, MSE: 0.0078, Accuracy: 100.00%\n"
     ]
    }
   ],
   "source": [
    "# initialize the parameters as random values\n",
    "np.random.seed(0)\n",
    "params = np.random.randn(9) * 2\n",
    "\n",
    "# 500 learning iterations through the data\n",
    "for i in range(500):\n",
    "\n",
    "    # learn from each of the four stimuli, one at a time\n",
    "    for _, row in df_xor.iterrows():\n",
    "        params = update_mlp_params(params, row, 2)\n",
    "\n",
    "    # check accuracy after each update\n",
    "    acc = evaluate_accuracy(df_xor, params)\n",
    "\n",
    "    # check mse after each update\n",
    "    squared_error = 0\n",
    "    for _, row in df_xor.iterrows():\n",
    "        y = row['category']\n",
    "        y_pred = MLP(row['feature1'], row['feature2'], *params)\n",
    "        squared_error += loss(y, y_pred)\n",
    "    mean_squared_error = squared_error / len(df_xor)\n",
    "\n",
    "    # report current scores\n",
    "    print(f\"Iteration {i}, MSE: {mean_squared_error:.4f}, Accuracy: {acc:.2f}%\")"
   ]
  },
  {
   "cell_type": "code",
   "execution_count": 122,
   "id": "04ce6bcd",
   "metadata": {},
   "outputs": [
    {
     "data": {
      "text/plain": [
       "'Test passed'"
      ]
     },
     "execution_count": 122,
     "metadata": {},
     "output_type": "execute_result"
    }
   ],
   "source": [
    "# TEST YOUR SOLUTION\n",
    "'Test passed' if acc == 100.0 else 'Test failed'"
   ]
  },
  {
   "cell_type": "markdown",
   "id": "7b43b1eb",
   "metadata": {},
   "source": [
    "Our MLP reached a very low MSE value, and an accuracy of 100%. This means it learned to solve the XOR problem (i.e., it learned the two categories), as well a representation that enables it to do so, all on it's own. This is in contrast to the set of three perceptrons that we pre-learned and hand-connected together in the last lab.\n",
    "\n",
    "Thus, MLPs provide at least one general way that we might explain both mental representations and cognitive processes. That is, they don't just tell us how `behavior = cognitive_process(stimulus/representation)`, but also from where `representation` and `cognitive_process` might originate **as a result of learning**. This was first pointed out in a famous paper by the psychologist **David Rumelhart** and his colleagues in 1986. While MLPs are not the only models with such abilities, they have remained a popular choice of many psychologists in trying to understand and model the mind. The position that such models can be used to understand the mind is called **connectionism**.\n",
    "\n",
    "MLPs, especially large ones with many neurons and layers, have also become popular engineering tools, meant to learn solve problems in general rather than just as models of how the mind might solve them. The use of large MLPs with many hidden layers to solve practical problems is called **deep learning**. Deep learning is one of the most popular methods of **machine learning**, or the development and application of computer algorithms that can learn to solve problems. In fact, current AI models such as ChatGPT and others are essentially just **very large** MLPs with a few extra bells and whistles. We'll explore this connection more in a future lecture."
   ]
  }
 ],
 "metadata": {
  "kernelspec": {
   "display_name": ".venv",
   "language": "python",
   "name": "python3"
  },
  "language_info": {
   "codemirror_mode": {
    "name": "ipython",
    "version": 3
   },
   "file_extension": ".py",
   "mimetype": "text/x-python",
   "name": "python",
   "nbconvert_exporter": "python",
   "pygments_lexer": "ipython3",
   "version": "3.12.3"
  }
 },
 "nbformat": 4,
 "nbformat_minor": 5
}
