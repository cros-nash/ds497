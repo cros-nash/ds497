{
 "cells": [
  {
   "cell_type": "markdown",
   "metadata": {},
   "source": [
    "## Statistics Refresher\n",
    "\n",
    "The following exercises are meant to refresh your stats knowledge in the context of cognitive psychology data."
   ]
  },
  {
   "cell_type": "code",
   "execution_count": 10,
   "metadata": {},
   "outputs": [],
   "source": [
    "# Run the following before beginning the exercise.\n",
    "\n",
    "import numpy as np\n",
    "import pandas as pd\n",
    "import matplotlib.pyplot as plt\n",
    "%matplotlib inline\n",
    "!pip install ipywidgets -q\n",
    "from tools import *"
   ]
  },
  {
   "cell_type": "markdown",
   "metadata": {},
   "source": [
    "### Levels of Processing\n",
    "\n",
    "In 1972, Craik and Lockhart proposed their Levels of Processing theory of memory, which posited that memory recall performance is determined by the \"depth\" of mental processing of the stimuli to be recalled.\n",
    "\n",
    "Craik and Tulving (1975) conducted an experiment to test this theory. Participants were divided into groups, each representing a condition corresponding the \"depth\" of mental processing required for a task. For example, in one group, participants might see the word \"TABLE\" and be asked \"Is the word in upper case letters?\". This was the \"shallow\" processing condition. In another group, they might see the word \"SHARK\" and be asked \"Is the word a type of fish?\". This was the \"deep\" processing condition. Craik and Tulving then measured the total number of words that each participant correctly recalled on a later memory recall test.\n",
    "\n",
    "**Exercise 1: Demo**\n",
    "\n",
    "Run the below cell to begin a *similar* demo experiment. This version of the experiment shows you stimuli from both conditions. You will see stimuli one at a time as changing output of the cell. Each will be shown for 3 seconds only (in contrast to the original study) for the sake of simplicity. Once all have been shown, you'll be given a retention test using input windows that will pop up near the top of this notebook.\n",
    "\n",
    "**Don't start until you are ready and focused.**"
   ]
  },
  {
   "cell_type": "code",
   "execution_count": 11,
   "metadata": {},
   "outputs": [
    {
     "name": "stdout",
     "output_type": "stream",
     "text": [
      "\n",
      "\n",
      "PIANO - Does this make music?\n",
      "\n",
      "\n"
     ]
    },
    {
     "ename": "KeyboardInterrupt",
     "evalue": "",
     "output_type": "error",
     "traceback": [
      "\u001b[0;31m---------------------------------------------------------------------------\u001b[0m",
      "\u001b[0;31mKeyboardInterrupt\u001b[0m                         Traceback (most recent call last)",
      "Cell \u001b[0;32mIn[11], line 3\u001b[0m\n\u001b[1;32m      1\u001b[0m \u001b[38;5;66;03m# DON'T run until you read the above\u001b[39;00m\n\u001b[0;32m----> 3\u001b[0m results \u001b[38;5;241m=\u001b[39m \u001b[43mlevels_experiment\u001b[49m\u001b[43m(\u001b[49m\u001b[43m)\u001b[49m\n",
      "File \u001b[0;32m~/Documents/GitHub/ds497/lab2/tools.py:181\u001b[0m, in \u001b[0;36mlevels_experiment\u001b[0;34m()\u001b[0m\n\u001b[1;32m    179\u001b[0m     clear_output(wait\u001b[38;5;241m=\u001b[39m\u001b[38;5;28;01mTrue\u001b[39;00m)\n\u001b[1;32m    180\u001b[0m     \u001b[38;5;28mprint\u001b[39m(\u001b[38;5;124mf\u001b[39m\u001b[38;5;124m\"\u001b[39m\u001b[38;5;130;01m\\n\u001b[39;00m\u001b[38;5;130;01m\\n\u001b[39;00m\u001b[38;5;132;01m{\u001b[39;00mitem\u001b[38;5;132;01m}\u001b[39;00m\u001b[38;5;130;01m\\n\u001b[39;00m\u001b[38;5;130;01m\\n\u001b[39;00m\u001b[38;5;124m\"\u001b[39m)\n\u001b[0;32m--> 181\u001b[0m     \u001b[43mtime\u001b[49m\u001b[38;5;241;43m.\u001b[39;49m\u001b[43msleep\u001b[49m\u001b[43m(\u001b[49m\u001b[38;5;241;43m3\u001b[39;49m\u001b[43m)\u001b[49m\n\u001b[1;32m    183\u001b[0m \u001b[38;5;66;03m# Test phase\u001b[39;00m\n\u001b[1;32m    184\u001b[0m clear_output(wait\u001b[38;5;241m=\u001b[39m\u001b[38;5;28;01mTrue\u001b[39;00m)\n",
      "\u001b[0;31mKeyboardInterrupt\u001b[0m: "
     ]
    }
   ],
   "source": [
    "# DON'T run until you read the above\n",
    "\n",
    "results = levels_experiment()"
   ]
  },
  {
   "cell_type": "code",
   "execution_count": 12,
   "metadata": {},
   "outputs": [
    {
     "ename": "NameError",
     "evalue": "name 'results' is not defined",
     "output_type": "error",
     "traceback": [
      "\u001b[0;31m---------------------------------------------------------------------------\u001b[0m",
      "\u001b[0;31mNameError\u001b[0m                                 Traceback (most recent call last)",
      "Cell \u001b[0;32mIn[12], line 4\u001b[0m\n\u001b[1;32m      1\u001b[0m \u001b[38;5;66;03m# RUN THIS CELL TO VALIDATE YOUR DATA\u001b[39;00m\n\u001b[1;32m      2\u001b[0m \n\u001b[1;32m      3\u001b[0m \u001b[38;5;66;03m# DO NOT MODIFY\u001b[39;00m\n\u001b[0;32m----> 4\u001b[0m d_, s_, f_ \u001b[38;5;241m=\u001b[39m \u001b[43mresults\u001b[49m\n\u001b[1;32m      5\u001b[0m \u001b[38;5;28;01mif\u001b[39;00m d_ \u001b[38;5;241m>\u001b[39m\u001b[38;5;241m=\u001b[39m \u001b[38;5;241m1\u001b[39m \u001b[38;5;129;01mand\u001b[39;00m s_ \u001b[38;5;241m>\u001b[39m\u001b[38;5;241m=\u001b[39m \u001b[38;5;241m1\u001b[39m \u001b[38;5;129;01mand\u001b[39;00m f_ \u001b[38;5;241m<\u001b[39m\u001b[38;5;241m=\u001b[39m \u001b[38;5;241m8\u001b[39m:\n\u001b[1;32m      6\u001b[0m     \u001b[38;5;28mprint\u001b[39m(\u001b[38;5;124m'\u001b[39m\u001b[38;5;124mData looks good. Good job!\u001b[39m\u001b[38;5;124m'\u001b[39m)\n",
      "\u001b[0;31mNameError\u001b[0m: name 'results' is not defined"
     ]
    }
   ],
   "source": [
    "# RUN THIS CELL TO VALIDATE YOUR DATA\n",
    "\n",
    "# DO NOT MODIFY\n",
    "d_, s_, f_ = results\n",
    "if d_ >= 1 and s_ >= 1 and f_ <= 8:\n",
    "    print('Data looks good. Good job!')\n",
    "else:\n",
    "    raise ValueError('Your accuracy is too low. Please try again.')"
   ]
  },
  {
   "cell_type": "markdown",
   "metadata": {},
   "source": [
    "As mentioned, Craik and Tulving's original study was a between-groups design (unlike the demo you just did).\n",
    "\n",
    "Data of the more classic between-groups form is loaded and displayed in the next cell. Each row of the data represents one participant. Memory recall performance (# words recalled) is given in the `score` column. Experimental condition is given in the `condition` column."
   ]
  },
  {
   "cell_type": "code",
   "execution_count": 13,
   "metadata": {},
   "outputs": [
    {
     "data": {
      "text/html": [
       "<div>\n",
       "<style scoped>\n",
       "    .dataframe tbody tr th:only-of-type {\n",
       "        vertical-align: middle;\n",
       "    }\n",
       "\n",
       "    .dataframe tbody tr th {\n",
       "        vertical-align: top;\n",
       "    }\n",
       "\n",
       "    .dataframe thead th {\n",
       "        text-align: right;\n",
       "    }\n",
       "</style>\n",
       "<table border=\"1\" class=\"dataframe\">\n",
       "  <thead>\n",
       "    <tr style=\"text-align: right;\">\n",
       "      <th></th>\n",
       "      <th>score</th>\n",
       "      <th>condition</th>\n",
       "    </tr>\n",
       "  </thead>\n",
       "  <tbody>\n",
       "    <tr>\n",
       "      <th>0</th>\n",
       "      <td>12</td>\n",
       "      <td>deep</td>\n",
       "    </tr>\n",
       "    <tr>\n",
       "      <th>1</th>\n",
       "      <td>9</td>\n",
       "      <td>deep</td>\n",
       "    </tr>\n",
       "    <tr>\n",
       "      <th>2</th>\n",
       "      <td>11</td>\n",
       "      <td>deep</td>\n",
       "    </tr>\n",
       "    <tr>\n",
       "      <th>3</th>\n",
       "      <td>9</td>\n",
       "      <td>deep</td>\n",
       "    </tr>\n",
       "    <tr>\n",
       "      <th>4</th>\n",
       "      <td>13</td>\n",
       "      <td>deep</td>\n",
       "    </tr>\n",
       "    <tr>\n",
       "      <th>5</th>\n",
       "      <td>10</td>\n",
       "      <td>deep</td>\n",
       "    </tr>\n",
       "    <tr>\n",
       "      <th>6</th>\n",
       "      <td>9</td>\n",
       "      <td>deep</td>\n",
       "    </tr>\n",
       "    <tr>\n",
       "      <th>7</th>\n",
       "      <td>11</td>\n",
       "      <td>deep</td>\n",
       "    </tr>\n",
       "    <tr>\n",
       "      <th>8</th>\n",
       "      <td>10</td>\n",
       "      <td>deep</td>\n",
       "    </tr>\n",
       "    <tr>\n",
       "      <th>9</th>\n",
       "      <td>12</td>\n",
       "      <td>deep</td>\n",
       "    </tr>\n",
       "    <tr>\n",
       "      <th>10</th>\n",
       "      <td>9</td>\n",
       "      <td>shallow</td>\n",
       "    </tr>\n",
       "    <tr>\n",
       "      <th>11</th>\n",
       "      <td>8</td>\n",
       "      <td>shallow</td>\n",
       "    </tr>\n",
       "    <tr>\n",
       "      <th>12</th>\n",
       "      <td>10</td>\n",
       "      <td>shallow</td>\n",
       "    </tr>\n",
       "    <tr>\n",
       "      <th>13</th>\n",
       "      <td>11</td>\n",
       "      <td>shallow</td>\n",
       "    </tr>\n",
       "    <tr>\n",
       "      <th>14</th>\n",
       "      <td>7</td>\n",
       "      <td>shallow</td>\n",
       "    </tr>\n",
       "    <tr>\n",
       "      <th>15</th>\n",
       "      <td>11</td>\n",
       "      <td>shallow</td>\n",
       "    </tr>\n",
       "    <tr>\n",
       "      <th>16</th>\n",
       "      <td>9</td>\n",
       "      <td>shallow</td>\n",
       "    </tr>\n",
       "    <tr>\n",
       "      <th>17</th>\n",
       "      <td>10</td>\n",
       "      <td>shallow</td>\n",
       "    </tr>\n",
       "    <tr>\n",
       "      <th>18</th>\n",
       "      <td>10</td>\n",
       "      <td>shallow</td>\n",
       "    </tr>\n",
       "    <tr>\n",
       "      <th>19</th>\n",
       "      <td>8</td>\n",
       "      <td>shallow</td>\n",
       "    </tr>\n",
       "  </tbody>\n",
       "</table>\n",
       "</div>"
      ],
      "text/plain": [
       "    score condition\n",
       "0      12      deep\n",
       "1       9      deep\n",
       "2      11      deep\n",
       "3       9      deep\n",
       "4      13      deep\n",
       "5      10      deep\n",
       "6       9      deep\n",
       "7      11      deep\n",
       "8      10      deep\n",
       "9      12      deep\n",
       "10      9   shallow\n",
       "11      8   shallow\n",
       "12     10   shallow\n",
       "13     11   shallow\n",
       "14      7   shallow\n",
       "15     11   shallow\n",
       "16      9   shallow\n",
       "17     10   shallow\n",
       "18     10   shallow\n",
       "19      8   shallow"
      ]
     },
     "execution_count": 13,
     "metadata": {},
     "output_type": "execute_result"
    }
   ],
   "source": [
    "mem = load_craik_tulving()\n",
    "mem"
   ]
  },
  {
   "cell_type": "markdown",
   "metadata": {},
   "source": [
    "**Exercise 2**\n",
    "\n",
    "Which of the following would Craik and Tulving expect to be the result of the experiment?\n",
    "\n",
    "Uncomment your answer below."
   ]
  },
  {
   "cell_type": "code",
   "execution_count": 14,
   "metadata": {},
   "outputs": [],
   "source": [
    "answer1 = 'Mean \"score\" for the \"shallow\" condition will be lower than the mean for the \"deep\" condition'\n",
    "# answer1 = 'Mean \"score\" for the \"deep\" condition will be lower than the mean for the \"shallow\" condition'\n",
    "# answer1 = 'Mean \"score\" for the \"shallow\" condition will be the same as the mean for the \"deep\" condition'"
   ]
  },
  {
   "cell_type": "code",
   "execution_count": 15,
   "metadata": {},
   "outputs": [
    {
     "name": "stdout",
     "output_type": "stream",
     "text": [
      "CORRECT\n"
     ]
    }
   ],
   "source": [
    "# RUN THIS CELL TO TEST YOUR SOLUTION\n",
    "\n",
    "# DO NOT MODIFY\n",
    "if 'l eb lliw noitidnoc \"w'[::-1] in answer1:\n",
    "    print('CORRECT')\n",
    "else:\n",
    "    print('INCORRECT')"
   ]
  },
  {
   "cell_type": "markdown",
   "metadata": {},
   "source": [
    "**Exercise 3**\n",
    "\n",
    "In the cell below, calculate the mean scores for each group and store the difference between the mean for the deep group and the mean for the shallow group in a variable called `difference`."
   ]
  },
  {
   "cell_type": "code",
   "execution_count": 16,
   "metadata": {},
   "outputs": [],
   "source": [
    "# Your code goes here.\n",
    "mean_deep = mem[mem['condition'] == \"deep\"][\"score\"].mean()\n",
    "mean_shallow = mem[mem['condition'] == \"shallow\"][\"score\"].mean()\n",
    "difference = mean_deep - mean_shallow"
   ]
  },
  {
   "cell_type": "code",
   "execution_count": 17,
   "metadata": {},
   "outputs": [
    {
     "name": "stdout",
     "output_type": "stream",
     "text": [
      "CORRECT\n"
     ]
    }
   ],
   "source": [
    "# RUN THIS CELL TO TEST YOUR SOLUTION\n",
    "\n",
    "# DO NOT MODIFY\n",
    "if bool(difference == float('999999999999992.1'[::-1])):\n",
    "    print('CORRECT')\n",
    "else:\n",
    "    print('INCORRECT')"
   ]
  },
  {
   "cell_type": "markdown",
   "metadata": {},
   "source": [
    "**Exercise 4**\n",
    "\n",
    "Does `difference` provide evidence for or against the Levels of Processing theory?\n",
    "\n",
    "Uncomment your answer below."
   ]
  },
  {
   "cell_type": "code",
   "execution_count": 18,
   "metadata": {},
   "outputs": [],
   "source": [
    "answer2 = 'Evidence for'\n",
    "# answer2 = 'Evidence against'"
   ]
  },
  {
   "cell_type": "code",
   "execution_count": 19,
   "metadata": {},
   "outputs": [
    {
     "name": "stdout",
     "output_type": "stream",
     "text": [
      "CORRECT\n"
     ]
    }
   ],
   "source": [
    "# RUN THIS CELL TO TEST YOUR SOLUTION\n",
    "\n",
    "# DO NOT MODIFY\n",
    "if 'f e'[::-1] in answer2:\n",
    "    print('CORRECT')\n",
    "else:\n",
    "    print('INCORRECT')"
   ]
  },
  {
   "cell_type": "markdown",
   "metadata": {},
   "source": [
    "**Hypothesis Testing**\n",
    "\n",
    "A non-zero and in particular positive difference appears to supports Craik and Tulving's theory because it indicates that retention was better in the deep processing condition.\n",
    "\n",
    "However, Craik and Tulving's data, like all experiments, comes from a sample of participants from a larger population. Whenever we study just a sample of people, we're going to see at least *some* difference between groups purely by chance (even having originally randomly assigned participants into those groups). In fact, this would be true even if processing depth had absolutely no effect on memory (i.e., if the theory was completely wrong). To support Craik and Tulving's theory, we'd ideally hope to see a difference between the groups that is larger that the kinds of differences we'd expect purely due to chance.\n",
    "\n",
    "To help us make a good guess about whether the difference between the groups was due to the experimental manipulation or due to chance, we employ statistical **hypothesis testing**, which involves two hypotheses:\n",
    "\n",
    "1. The **null hypothesis** asserts that there is no systematic relationship between the variables of interest, and that any difference we observe in a sample is just due to random chance. In the case of Craik and Tulving, the null hypothesis is that processing depth has no effect on memory recall scores (`mean_deep - mean_shallow = 0`).\n",
    "\n",
    "2. The **alternative hypothesis** asserts that there is a systematic relationship between the variables of interest, and that the difference we observe in a sample is due to more than just chance. In the case of Craik and Tulving, the alternative hypothesis is that processing depth positively impacts memory recall (`mean_deep - mean_shallow > 0`).\n",
    "\n",
    "The quantity `mean_deep - mean_shallow` mentioned above is called a **test statistic** and can be used to help us choose between the two competing hypotheses.\n",
    "\n",
    "**Exercise 5**\n",
    "\n",
    "Create a function called `test_statistic` that takes two numpy arrays (first for deep scores, second for shallow scores) as input and returns the test statistic discussed above. Then compute the statistic on the above data and store the result in `test_stat`."
   ]
  },
  {
   "cell_type": "code",
   "execution_count": 20,
   "metadata": {},
   "outputs": [],
   "source": [
    "# Your code goes here.\n",
    "deep_score = mem[mem['condition'] == \"deep\"][\"score\"]\n",
    "shallow_score = mem[mem['condition'] == \"shallow\"][\"score\"]\n",
    "\n",
    "def test_statistic(deep_score: np.array, shallow_score: np.array): return deep_score.mean() - shallow_score.mean()\n",
    "\n",
    "test_stat = test_statistic(deep_score, shallow_score)"
   ]
  },
  {
   "cell_type": "code",
   "execution_count": 21,
   "metadata": {},
   "outputs": [
    {
     "name": "stdout",
     "output_type": "stream",
     "text": [
      "CORRECT\n"
     ]
    }
   ],
   "source": [
    "# RUN THIS CELL TO TEST YOUR SOLUTION\n",
    "\n",
    "# DO NOT MODIFY\n",
    "if bool(test_stat == float('999999999999992.1'[::-1])):\n",
    "    print('CORRECT')\n",
    "else:\n",
    "    print('INCORRECT')"
   ]
  },
  {
   "cell_type": "markdown",
   "metadata": {},
   "source": [
    "### Simulation under the null hypothesis\n",
    "\n",
    "While `test_stat` is not 0, it might still be consistent with the null hypothesis since differences due to chance would still be expected when working with samples.\n",
    "\n",
    "What we want to know is how likely it would be that we'd observe `test_stat` by chance if the null hypothesis is true. If the null hypothesis is true, then there is no relationship between processing depth and memory recall, and thus no relationship between the `score` and `condition` columns above. We can \"simulate\" a world where the null hypothesis is true by creating samples that have no such relationship but are otherwise identical to our sample. A simple way to do this is to simply shuffle the `condition` column of the data. This breaks any systematic relationship that may have existed between the two columns.\n",
    "\n",
    "**Exercise 6**\n",
    "\n",
    "Create a function called `one_permutation` that takes in a dataframe and returns the same dataframe with the values of the `condition` column shuffled. The first line of your function should be `df = df.copy()` to prevent editing the original dataframe in place. You can shuffle a column in pandas using `df['my_column'].sample(frac=1)`."
   ]
  },
  {
   "cell_type": "code",
   "execution_count": 22,
   "metadata": {},
   "outputs": [
    {
     "data": {
      "text/html": [
       "<div>\n",
       "<style scoped>\n",
       "    .dataframe tbody tr th:only-of-type {\n",
       "        vertical-align: middle;\n",
       "    }\n",
       "\n",
       "    .dataframe tbody tr th {\n",
       "        vertical-align: top;\n",
       "    }\n",
       "\n",
       "    .dataframe thead th {\n",
       "        text-align: right;\n",
       "    }\n",
       "</style>\n",
       "<table border=\"1\" class=\"dataframe\">\n",
       "  <thead>\n",
       "    <tr style=\"text-align: right;\">\n",
       "      <th></th>\n",
       "      <th>example</th>\n",
       "    </tr>\n",
       "  </thead>\n",
       "  <tbody>\n",
       "    <tr>\n",
       "      <th>0</th>\n",
       "      <td>1</td>\n",
       "    </tr>\n",
       "    <tr>\n",
       "      <th>1</th>\n",
       "      <td>2</td>\n",
       "    </tr>\n",
       "    <tr>\n",
       "      <th>2</th>\n",
       "      <td>3</td>\n",
       "    </tr>\n",
       "  </tbody>\n",
       "</table>\n",
       "</div>"
      ],
      "text/plain": [
       "   example\n",
       "0        1\n",
       "1        2\n",
       "2        3"
      ]
     },
     "execution_count": 22,
     "metadata": {},
     "output_type": "execute_result"
    }
   ],
   "source": [
    "# run multiple times to see how .sample() works\n",
    "pd.DataFrame({\"example\": [1, 2, 3]}).sample(frac=1)"
   ]
  },
  {
   "cell_type": "code",
   "execution_count": 23,
   "metadata": {},
   "outputs": [
    {
     "data": {
      "text/html": [
       "<div>\n",
       "<style scoped>\n",
       "    .dataframe tbody tr th:only-of-type {\n",
       "        vertical-align: middle;\n",
       "    }\n",
       "\n",
       "    .dataframe tbody tr th {\n",
       "        vertical-align: top;\n",
       "    }\n",
       "\n",
       "    .dataframe thead th {\n",
       "        text-align: right;\n",
       "    }\n",
       "</style>\n",
       "<table border=\"1\" class=\"dataframe\">\n",
       "  <thead>\n",
       "    <tr style=\"text-align: right;\">\n",
       "      <th></th>\n",
       "      <th>score</th>\n",
       "      <th>condition</th>\n",
       "    </tr>\n",
       "  </thead>\n",
       "  <tbody>\n",
       "    <tr>\n",
       "      <th>0</th>\n",
       "      <td>12</td>\n",
       "      <td>deep</td>\n",
       "    </tr>\n",
       "    <tr>\n",
       "      <th>1</th>\n",
       "      <td>9</td>\n",
       "      <td>shallow</td>\n",
       "    </tr>\n",
       "    <tr>\n",
       "      <th>2</th>\n",
       "      <td>11</td>\n",
       "      <td>deep</td>\n",
       "    </tr>\n",
       "    <tr>\n",
       "      <th>3</th>\n",
       "      <td>9</td>\n",
       "      <td>shallow</td>\n",
       "    </tr>\n",
       "    <tr>\n",
       "      <th>4</th>\n",
       "      <td>13</td>\n",
       "      <td>deep</td>\n",
       "    </tr>\n",
       "    <tr>\n",
       "      <th>5</th>\n",
       "      <td>10</td>\n",
       "      <td>shallow</td>\n",
       "    </tr>\n",
       "    <tr>\n",
       "      <th>6</th>\n",
       "      <td>9</td>\n",
       "      <td>deep</td>\n",
       "    </tr>\n",
       "    <tr>\n",
       "      <th>7</th>\n",
       "      <td>11</td>\n",
       "      <td>shallow</td>\n",
       "    </tr>\n",
       "    <tr>\n",
       "      <th>8</th>\n",
       "      <td>10</td>\n",
       "      <td>deep</td>\n",
       "    </tr>\n",
       "    <tr>\n",
       "      <th>9</th>\n",
       "      <td>12</td>\n",
       "      <td>deep</td>\n",
       "    </tr>\n",
       "    <tr>\n",
       "      <th>10</th>\n",
       "      <td>9</td>\n",
       "      <td>shallow</td>\n",
       "    </tr>\n",
       "    <tr>\n",
       "      <th>11</th>\n",
       "      <td>8</td>\n",
       "      <td>deep</td>\n",
       "    </tr>\n",
       "    <tr>\n",
       "      <th>12</th>\n",
       "      <td>10</td>\n",
       "      <td>shallow</td>\n",
       "    </tr>\n",
       "    <tr>\n",
       "      <th>13</th>\n",
       "      <td>11</td>\n",
       "      <td>shallow</td>\n",
       "    </tr>\n",
       "    <tr>\n",
       "      <th>14</th>\n",
       "      <td>7</td>\n",
       "      <td>deep</td>\n",
       "    </tr>\n",
       "    <tr>\n",
       "      <th>15</th>\n",
       "      <td>11</td>\n",
       "      <td>shallow</td>\n",
       "    </tr>\n",
       "    <tr>\n",
       "      <th>16</th>\n",
       "      <td>9</td>\n",
       "      <td>deep</td>\n",
       "    </tr>\n",
       "    <tr>\n",
       "      <th>17</th>\n",
       "      <td>10</td>\n",
       "      <td>shallow</td>\n",
       "    </tr>\n",
       "    <tr>\n",
       "      <th>18</th>\n",
       "      <td>10</td>\n",
       "      <td>shallow</td>\n",
       "    </tr>\n",
       "    <tr>\n",
       "      <th>19</th>\n",
       "      <td>8</td>\n",
       "      <td>deep</td>\n",
       "    </tr>\n",
       "  </tbody>\n",
       "</table>\n",
       "</div>"
      ],
      "text/plain": [
       "    score condition\n",
       "0      12      deep\n",
       "1       9   shallow\n",
       "2      11      deep\n",
       "3       9   shallow\n",
       "4      13      deep\n",
       "5      10   shallow\n",
       "6       9      deep\n",
       "7      11   shallow\n",
       "8      10      deep\n",
       "9      12      deep\n",
       "10      9   shallow\n",
       "11      8      deep\n",
       "12     10   shallow\n",
       "13     11   shallow\n",
       "14      7      deep\n",
       "15     11   shallow\n",
       "16      9      deep\n",
       "17     10   shallow\n",
       "18     10   shallow\n",
       "19      8      deep"
      ]
     },
     "execution_count": 23,
     "metadata": {},
     "output_type": "execute_result"
    }
   ],
   "source": [
    "np.random.seed(1)\n",
    "\n",
    "# Your code goes here.\n",
    "def one_permutation(df):\n",
    "    df_copy = df.copy()\n",
    "    df_copy['condition'] = df_copy['condition'].sample(frac=1).values\n",
    "    return df_copy\n",
    "\n",
    "# see the output\n",
    "one_permutation(mem)"
   ]
  },
  {
   "cell_type": "code",
   "execution_count": 24,
   "metadata": {},
   "outputs": [
    {
     "name": "stdout",
     "output_type": "stream",
     "text": [
      "CORRECT\n"
     ]
    }
   ],
   "source": [
    "# RUN THIS CELL TO TEST YOUR SOLUTION\n",
    "\n",
    "# DO NOT MODIFY\n",
    "np.random.seed(1)\n",
    "d_ = one_permutation(mem)\n",
    "tt_ = test_statistic(\n",
    "    d_[d_.condition=='deep'].score.values, \n",
    "    d_[d_.condition=='shallow'].score.values\n",
    ")\n",
    "if bool(tt_ == -0.09999999999999964):\n",
    "    print('CORRECT')\n",
    "else:\n",
    "    print('INCORRECT')"
   ]
  },
  {
   "cell_type": "markdown",
   "metadata": {},
   "source": [
    "To see if our original test statistic (i.e., a difference that big) would be possible if the null hypothesis were true (i.e., by chance), and also how likely it would be, we can apply `one_permutation` 10,000 times to see what kind of outcomes we'd expect under the null hypothesis.\n",
    "\n",
    "**Exercise 7**\n",
    "\n",
    "Apply `one_permutation` and `test_statistic` 10,000 times below and record the 10,000 resulting values in a numpy array called `null_stats`."
   ]
  },
  {
   "cell_type": "code",
   "execution_count": 25,
   "metadata": {},
   "outputs": [],
   "source": [
    "# do not modify\n",
    "np.random.seed(0)\n",
    "\n",
    "# Your code goes here.\n",
    "null_stats = np.zeros(10000)\n",
    "for i in range(10000):\n",
    "    p_mem = one_permutation(mem)\n",
    "    null_stats[i] = test_statistic(\n",
    "        p_mem[p_mem['condition'] == 'deep']['score'].values,\n",
    "        p_mem[p_mem['condition'] == 'shallow']['score'].values\n",
    "    )\n"
   ]
  },
  {
   "cell_type": "code",
   "execution_count": 26,
   "metadata": {},
   "outputs": [
    {
     "name": "stdout",
     "output_type": "stream",
     "text": [
      "CORRECT\n"
     ]
    }
   ],
   "source": [
    "# RUN THIS CELL TO TEST YOUR SOLUTION\n",
    "\n",
    "# DO NOT MODIFY\n",
    "if str(min(null_stats))[:5]==\"92.2-\"[::-1] and str(max(null_stats))[:5]==\"992.2\"[::-1]:\n",
    "    print('CORRECT')\n",
    "else:\n",
    "    print('INCORRECT')"
   ]
  },
  {
   "cell_type": "markdown",
   "metadata": {},
   "source": [
    "Now run the cell below to see a histogram of the 10,000 values. Under the null hypothesis, differences near 0 are the most common (most likely), but differences greater than or less than 0 do occur, and differences as large as 1 or 2 are at least possible. "
   ]
  },
  {
   "cell_type": "code",
   "execution_count": 27,
   "metadata": {},
   "outputs": [
    {
     "data": {
      "image/png": "[encoded data removed]",
      "text/plain": [
       "<Figure size 640x480 with 1 Axes>"
      ]
     },
     "metadata": {},
     "output_type": "display_data"
    }
   ],
   "source": [
    "plt.hist(null_stats, bins=10)\n",
    "plt.xlabel('Test statistic under null hypothesis')\n",
    "plt.ylabel('Frequency')\n",
    "plt.show()"
   ]
  },
  {
   "cell_type": "markdown",
   "metadata": {},
   "source": [
    "### P-values\n",
    "\n",
    "This means that it's at least possible that `test_stat` (from the original experimental data) was due to chance as it is consistent with the null hypothesis, even if not all that likely.\n",
    "\n",
    "To see exactly how likely such differences (i.e., as big as `test_stat`) are under the null, we can simply compute the proportion of 10,000 values in `null_stats` that are equal to or greater than `test_stat`.\n",
    "\n",
    "This proportion is an estimate of what is called a **P-value**, or the chance, based on the null hypothesis, that the test statistic will be equal to the observed value in the sample or even further in the direction that supports the alternative.\n",
    "\n",
    "For example, if 4,000 of the total 10,000 values were >= `test_stat`, the p-value would be 0.40. This means that, if the null hypothesis were true, we'd expect to see a difference like `test_stat` (or even bigger) 40% of the time (if we somehow had the money to re-run our experiment 10,000 times).\n",
    "\n",
    "**Exercise 8**\n",
    "\n",
    "Create a function called `compute_p_value` that takes a test statistic for a real sample of data and a numpy array of simulated test statistics and returns the p-value. Then compute the p-value for `test_stat` and `null_stats` and store the result in a variable called `p_value`."
   ]
  },
  {
   "cell_type": "code",
   "execution_count": 28,
   "metadata": {},
   "outputs": [],
   "source": [
    "# Your code goes here.\n",
    "\n",
    "def compute_p_value(test_stat: float, null_stats: np.array): \n",
    "    p_value = 0\n",
    "    for x in null_stats: \n",
    "        if x >= test_stat:\n",
    "            p_value += 1\n",
    "    \n",
    "    return p_value / len(null_stats)\n",
    "\n",
    "p_value = compute_p_value(test_stat, null_stats)"
   ]
  },
  {
   "cell_type": "code",
   "execution_count": 29,
   "metadata": {},
   "outputs": [
    {
     "name": "stdout",
     "output_type": "stream",
     "text": [
      "CORRECT\n"
     ]
    }
   ],
   "source": [
    "# RUN THIS CELL TO TEST YOUR SOLUTION\n",
    "\n",
    "# DO NOT MODIFY\n",
    "if bool(p_value == float('7330.0'[::-1])):\n",
    "    print('CORRECT')\n",
    "else:\n",
    "    print('INCORRECT')"
   ]
  },
  {
   "cell_type": "markdown",
   "metadata": {},
   "source": [
    "The proportion (p-value) just calculated refers to all of the values in the histogram below to the right of the red line."
   ]
  },
  {
   "cell_type": "code",
   "execution_count": 30,
   "metadata": {},
   "outputs": [
    {
     "data": {
      "image/png": "[encoded data removed]",
      "text/plain": [
       "<Figure size 640x480 with 1 Axes>"
      ]
     },
     "metadata": {},
     "output_type": "display_data"
    }
   ],
   "source": [
    "plt.hist(null_stats, bins=10)\n",
    "plt.xlabel('Test statistic under null hypothesis')\n",
    "plt.ylabel('Frequency')\n",
    "plt.axvline(test_stat, color='red')\n",
    "plt.show()"
   ]
  },
  {
   "cell_type": "markdown",
   "metadata": {},
   "source": [
    "If the null hypothesis were true, the chance that we see a difference between groups like the one we observed is very low (less than 4%). Based on this information, we can either decide to reject the null hypothesis (in favor of the alternative hypothesis), or, we say that we \"fail to reject\" the null hypothesis. Our p-value indicates that our experimental results could certaintly be due to chance, though we'd only expect that misleading result about 4 times if we re-ran out experiment 100 times. Thus, whether or not to reject is a hard call.\n",
    "\n",
    "It is common to select what is called a **p-value cutoff** for rejecting the null hypothesis before we analyze our data. In many cases, the value is selected to be 0.05. Since 0.04 < 0.05, we could reject the null in this case."
   ]
  },
  {
   "cell_type": "markdown",
   "metadata": {},
   "source": [
    "### Types of Tests\n",
    "\n",
    "Hypothesis tests that involve permutation and simulation like the above are called **permutation tests**.\n",
    "\n",
    "More common in psychology are **parametric tests** which rely on basic assumptions about the data that avoid the need to run simulations. One of these you've heard of before that can be used for tests of differences between groups is the **independent samples t-test**. T-tests use a test statistic called a t-statistic that, like ours above, is proportional to the difference between groups, but different in that the difference is relative to the variation in the data. We will not review it in detail today, but you can use this test or other parametric tests in your projects (if they involve differences between groups) later in the course using their simple Python implementations.\n",
    "\n",
    "A similar dataset is loaded below, and an independent samples t-test is performed. The output is the test statistic and the p-value."
   ]
  },
  {
   "cell_type": "code",
   "execution_count": 31,
   "metadata": {},
   "outputs": [],
   "source": [
    "# load more craik-style data\n",
    "mem2 = load_craik_tulving(v=2)\n",
    "\n",
    "# scores for the two groups\n",
    "deep_scores2 = mem2[mem2.condition == 'deep']['score'].values\n",
    "shallow_scores2 = mem2[mem2.condition == 'shallow']['score'].values"
   ]
  },
  {
   "cell_type": "code",
   "execution_count": 32,
   "metadata": {},
   "outputs": [
    {
     "name": "stdout",
     "output_type": "stream",
     "text": [
      "3.307475463158256 0.0039161414885950105\n"
     ]
    }
   ],
   "source": [
    "# import t-test function\n",
    "from scipy.stats import ttest_ind\n",
    "\n",
    "# run the t-test\n",
    "t_stat, pval = ttest_ind(deep_scores2, shallow_scores2, equal_var=True)\n",
    "\n",
    "# print the results\n",
    "print(t_stat, pval)"
   ]
  },
  {
   "cell_type": "markdown",
   "metadata": {},
   "source": [
    "### Mental Rotation\n",
    "\n",
    "In 1971, Shepard and Metzler ran an experiment using pairs of shape stimuli. In some conditions (within-subjects), one of the shapes was the same as the other but rotated somewhere in the range of 0-180 degress with respect to the other shape. Participants were tasked to indicate whether or not the shapes were identical up to a rotational transformation (are they the same if you rotate one of them). Reaction time was recorded. Shepard and Metzler suspected that people solve this problem by \"mentally rotating\" the shapes in their minds at a constant rate, such that larger differences in rotation between the stimuli will take longer to mentally align.\n",
    "\n",
    "Data of this form for a single participant are loaded and dispalyed below. `angle` is the angle of difference between the unrotated shape and its rotated counterpart. `rt` is how long in milliseconds it took the participant to determine whether the shapes were the same."
   ]
  },
  {
   "cell_type": "code",
   "execution_count": 33,
   "metadata": {},
   "outputs": [
    {
     "data": {
      "text/html": [
       "<div>\n",
       "<style scoped>\n",
       "    .dataframe tbody tr th:only-of-type {\n",
       "        vertical-align: middle;\n",
       "    }\n",
       "\n",
       "    .dataframe tbody tr th {\n",
       "        vertical-align: top;\n",
       "    }\n",
       "\n",
       "    .dataframe thead th {\n",
       "        text-align: right;\n",
       "    }\n",
       "</style>\n",
       "<table border=\"1\" class=\"dataframe\">\n",
       "  <thead>\n",
       "    <tr style=\"text-align: right;\">\n",
       "      <th></th>\n",
       "      <th>angle</th>\n",
       "      <th>rt</th>\n",
       "    </tr>\n",
       "  </thead>\n",
       "  <tbody>\n",
       "    <tr>\n",
       "      <th>0</th>\n",
       "      <td>0</td>\n",
       "      <td>1023</td>\n",
       "    </tr>\n",
       "    <tr>\n",
       "      <th>1</th>\n",
       "      <td>20</td>\n",
       "      <td>1167</td>\n",
       "    </tr>\n",
       "    <tr>\n",
       "      <th>2</th>\n",
       "      <td>40</td>\n",
       "      <td>1382</td>\n",
       "    </tr>\n",
       "    <tr>\n",
       "      <th>3</th>\n",
       "      <td>60</td>\n",
       "      <td>1578</td>\n",
       "    </tr>\n",
       "    <tr>\n",
       "      <th>4</th>\n",
       "      <td>80</td>\n",
       "      <td>1842</td>\n",
       "    </tr>\n",
       "    <tr>\n",
       "      <th>5</th>\n",
       "      <td>100</td>\n",
       "      <td>1976</td>\n",
       "    </tr>\n",
       "    <tr>\n",
       "      <th>6</th>\n",
       "      <td>120</td>\n",
       "      <td>2198</td>\n",
       "    </tr>\n",
       "    <tr>\n",
       "      <th>7</th>\n",
       "      <td>140</td>\n",
       "      <td>2445</td>\n",
       "    </tr>\n",
       "    <tr>\n",
       "      <th>8</th>\n",
       "      <td>160</td>\n",
       "      <td>2583</td>\n",
       "    </tr>\n",
       "    <tr>\n",
       "      <th>9</th>\n",
       "      <td>180</td>\n",
       "      <td>2791</td>\n",
       "    </tr>\n",
       "  </tbody>\n",
       "</table>\n",
       "</div>"
      ],
      "text/plain": [
       "   angle    rt\n",
       "0      0  1023\n",
       "1     20  1167\n",
       "2     40  1382\n",
       "3     60  1578\n",
       "4     80  1842\n",
       "5    100  1976\n",
       "6    120  2198\n",
       "7    140  2445\n",
       "8    160  2583\n",
       "9    180  2791"
      ]
     },
     "execution_count": 33,
     "metadata": {},
     "output_type": "execute_result"
    }
   ],
   "source": [
    "rotations = load_shepard()\n",
    "rotations"
   ]
  },
  {
   "cell_type": "markdown",
   "metadata": {},
   "source": [
    "Below is a scatter plot of angle against reaction time. \n",
    "\n",
    "**Interpretation:** Note the strong linear relationship, indicating that time to process the stimuli increases at a **constant rate** with angle of stimulus difference."
   ]
  },
  {
   "cell_type": "code",
   "execution_count": 34,
   "metadata": {},
   "outputs": [
    {
     "data": {
      "image/png": "[encoded data removed]",
      "text/plain": [
       "<Figure size 640x480 with 1 Axes>"
      ]
     },
     "metadata": {},
     "output_type": "display_data"
    }
   ],
   "source": [
    "plt.scatter(rotations['angle'], rotations['rt'])\n",
    "plt.xlabel('Angle')\n",
    "plt.ylabel('Reaction Time')\n",
    "plt.show()"
   ]
  },
  {
   "cell_type": "markdown",
   "metadata": {},
   "source": [
    "**Correlation**\n",
    "\n",
    "Statistical tests that concern differences between groups are essentially testing for a relationship for a categorical variable (e.g., one of two categories of processing condition) and a numerical variable (e.g., reaction time or number of items recalled). When the variables that we suspect might be related are both numeric, we can instead measure the **correlation**, also known as the \"linear correlation\" between two numeric variables.\n",
    "\n",
    "Linear correlation is measured using the **correlation coefficient** *r*. Assuming x and y have already standardized (i.e., `x_standardized = (x - x_mean) / x_std`, same for `y`)  *r* is just the average product of corresponding x and y values:\n",
    "\n",
    "$r = \\frac{\\sum x_i y_i}{n}$.\n",
    "\n",
    "The value of *r* ranges from -1 to 1, where values closer to 0 represent weaker correlation, 0 represent no correlation, positive values representing positive correlation (i.e., x goes up when y goes up), and negative values representing negative correlation (e.g., y goes down when x goes up).\n",
    "\n",
    "**Exercise 9**\n",
    "\n",
    "- Create a function called `standardize` that takes a single input array and returns an array of the standardized values from the same array.\n",
    "- Create function called `correlation` that takes two numpy arrays as input and makes use of `standardize` to compute and return the correlation coefficient."
   ]
  },
  {
   "cell_type": "code",
   "execution_count": 63,
   "metadata": {},
   "outputs": [],
   "source": [
    "# Your code goes here.\n",
    "def standardize(array: np.array): return (array - np.mean(array)) / np.std(array)\n",
    "\n",
    "def correlation(arr1: np.array, arr2: np.array):\n",
    "    arr1_standardized = standardize(arr1)\n",
    "    arr2_standardized = standardize(arr2)\n",
    "    \n",
    "    return np.mean(arr1_standardized * arr2_standardized)"
   ]
  },
  {
   "cell_type": "code",
   "execution_count": 64,
   "metadata": {},
   "outputs": [
    {
     "name": "stdout",
     "output_type": "stream",
     "text": [
      "CORRECT\n"
     ]
    }
   ],
   "source": [
    "# RUN THIS CELL TO TEST YOUR SOLUTION\n",
    "\n",
    "# DO NOT MODIFY\n",
    "if bool(correlation(np.array([1, 2]), np.array([99, 100])) == 1.0):\n",
    "    print('CORRECT')\n",
    "else:\n",
    "    print('INCORRECT')"
   ]
  },
  {
   "cell_type": "markdown",
   "metadata": {},
   "source": [
    "Run the cell below and move the slider control to to see datasets that would produce coefficients ranging from -1 to 1."
   ]
  },
  {
   "cell_type": "code",
   "execution_count": 37,
   "metadata": {},
   "outputs": [
    {
     "data": {
      "application/vnd.jupyter.widget-view+json": {
       "model_id": "122da9b554814477a0d13beeff5fda5b",
       "version_major": 2,
       "version_minor": 0
      },
      "text/plain": [
       "interactive(children=(FloatSlider(value=1.0, description='strength', max=1.0, min=-1.0, step=0.01), Output()),…"
      ]
     },
     "metadata": {},
     "output_type": "display_data"
    }
   ],
   "source": [
    "explore_pearson()"
   ]
  },
  {
   "cell_type": "markdown",
   "metadata": {},
   "source": [
    "We can compute the correlation between angle and rt in perform hypothesis testing with Shepard and Metzler's data by using the `pearsonr` function from scipy. The null hypothesis is that there is no relationship (r = 0)."
   ]
  },
  {
   "cell_type": "code",
   "execution_count": 38,
   "metadata": {},
   "outputs": [
    {
     "data": {
      "text/plain": [
       "PearsonRResult(statistic=np.float64(0.9989362301597046), pvalue=np.float64(5.59518247415802e-12))"
      ]
     },
     "execution_count": 38,
     "metadata": {},
     "output_type": "execute_result"
    }
   ],
   "source": [
    "from scipy.stats import pearsonr\n",
    "pearsonr(rotations['angle'], rotations['rt'])"
   ]
  },
  {
   "cell_type": "markdown",
   "metadata": {},
   "source": [
    "### Nonlinear Correlation\n",
    "\n",
    "In 1952, Hick showed that reaction time was related to the number of choices in a decision-making task. \n",
    "\n",
    "In one condition of his within-subjects experiment, you would expect to see one of two colored\n",
    "shapes (e.g., red or blue) and be tasked to press a button corresponding to the color of the shape \n",
    "(e.g, \"r\" button for red and \"b\" button for blue). In another condition, there could be more choices\n",
    "(red, blue, green, yellow, etc.), as well as a button for each.\n",
    "\n",
    "Hick found that the more choices involved, the longer the reaction time. This is known as Hick's Law.\n",
    "However, the relationship is not linear as in the case of Shepard and Metzler's experiment.\n",
    "\n",
    "The below cell loads a dataset of this form. The `n_alternatives` column describes the number of alternatives on a particular trial and the `rt` column contains reaction times for the corresponding trial."
   ]
  },
  {
   "cell_type": "code",
   "execution_count": 39,
   "metadata": {},
   "outputs": [
    {
     "data": {
      "text/html": [
       "<div>\n",
       "<style scoped>\n",
       "    .dataframe tbody tr th:only-of-type {\n",
       "        vertical-align: middle;\n",
       "    }\n",
       "\n",
       "    .dataframe tbody tr th {\n",
       "        vertical-align: top;\n",
       "    }\n",
       "\n",
       "    .dataframe thead th {\n",
       "        text-align: right;\n",
       "    }\n",
       "</style>\n",
       "<table border=\"1\" class=\"dataframe\">\n",
       "  <thead>\n",
       "    <tr style=\"text-align: right;\">\n",
       "      <th></th>\n",
       "      <th>n_alternatives</th>\n",
       "      <th>rt</th>\n",
       "    </tr>\n",
       "  </thead>\n",
       "  <tbody>\n",
       "    <tr>\n",
       "      <th>0</th>\n",
       "      <td>1</td>\n",
       "      <td>182.9</td>\n",
       "    </tr>\n",
       "    <tr>\n",
       "      <th>1</th>\n",
       "      <td>2</td>\n",
       "      <td>248.5</td>\n",
       "    </tr>\n",
       "    <tr>\n",
       "      <th>2</th>\n",
       "      <td>3</td>\n",
       "      <td>288.5</td>\n",
       "    </tr>\n",
       "    <tr>\n",
       "      <th>3</th>\n",
       "      <td>4</td>\n",
       "      <td>306.7</td>\n",
       "    </tr>\n",
       "    <tr>\n",
       "      <th>4</th>\n",
       "      <td>5</td>\n",
       "      <td>327.8</td>\n",
       "    </tr>\n",
       "    <tr>\n",
       "      <th>5</th>\n",
       "      <td>6</td>\n",
       "      <td>327.3</td>\n",
       "    </tr>\n",
       "    <tr>\n",
       "      <th>6</th>\n",
       "      <td>7</td>\n",
       "      <td>351.0</td>\n",
       "    </tr>\n",
       "    <tr>\n",
       "      <th>7</th>\n",
       "      <td>8</td>\n",
       "      <td>347.3</td>\n",
       "    </tr>\n",
       "    <tr>\n",
       "      <th>8</th>\n",
       "      <td>9</td>\n",
       "      <td>356.1</td>\n",
       "    </tr>\n",
       "    <tr>\n",
       "      <th>9</th>\n",
       "      <td>10</td>\n",
       "      <td>359.1</td>\n",
       "    </tr>\n",
       "  </tbody>\n",
       "</table>\n",
       "</div>"
      ],
      "text/plain": [
       "   n_alternatives     rt\n",
       "0               1  182.9\n",
       "1               2  248.5\n",
       "2               3  288.5\n",
       "3               4  306.7\n",
       "4               5  327.8\n",
       "5               6  327.3\n",
       "6               7  351.0\n",
       "7               8  347.3\n",
       "8               9  356.1\n",
       "9              10  359.1"
      ]
     },
     "execution_count": 39,
     "metadata": {},
     "output_type": "execute_result"
    }
   ],
   "source": [
    "choices = load_hick()\n",
    "choices"
   ]
  },
  {
   "cell_type": "markdown",
   "metadata": {},
   "source": [
    "The cell below plots the nonlinear relationship between the two variables."
   ]
  },
  {
   "cell_type": "code",
   "execution_count": 40,
   "metadata": {},
   "outputs": [
    {
     "data": {
      "text/plain": [
       "<Axes: xlabel='n_alternatives', ylabel='rt'>"
      ]
     },
     "execution_count": 40,
     "metadata": {},
     "output_type": "execute_result"
    },
    {
     "data": {
      "image/png": "[encoded data removed]",
      "text/plain": [
       "<Figure size 640x480 with 1 Axes>"
      ]
     },
     "metadata": {},
     "output_type": "display_data"
    }
   ],
   "source": [
    "choices.plot(kind='scatter', x='n_alternatives', y='rt')"
   ]
  },
  {
   "cell_type": "markdown",
   "metadata": {},
   "source": [
    "Because you could make a passable approximation of the above using a straight line, the standard correlation coefficient is still a relatively high value. However it's still an underestimate."
   ]
  },
  {
   "cell_type": "code",
   "execution_count": 41,
   "metadata": {},
   "outputs": [
    {
     "data": {
      "text/plain": [
       "np.float64(0.8096888163109112)"
      ]
     },
     "execution_count": 41,
     "metadata": {},
     "output_type": "execute_result"
    }
   ],
   "source": [
    "correlation(choices['n_alternatives'], choices['rt'])"
   ]
  },
  {
   "cell_type": "markdown",
   "metadata": {},
   "source": [
    "One way to better assess the strength of the relationship that Hick found is to transform the variables into ranks (we'll see why later). That is, values such as [400, 200] would be transformed into [2, 1]. (Note that the `n_alternatives` variable is already of this form)\n",
    "\n",
    "**Exercise 10**\n",
    "\n",
    "Use the .rank() rank pandas method to add a new column called `rt_ranks` with the rank-transformed values from the `rt` column onto the `choices` dataframe."
   ]
  },
  {
   "cell_type": "code",
   "execution_count": 44,
   "metadata": {},
   "outputs": [],
   "source": [
    "# Your code goes here.\n",
    "choices[\"rt_ranks\"] = choices[\"rt\"].rank()\n"
   ]
  },
  {
   "cell_type": "code",
   "execution_count": 45,
   "metadata": {},
   "outputs": [
    {
     "name": "stdout",
     "output_type": "stream",
     "text": [
      "CORRECT\n"
     ]
    }
   ],
   "source": [
    "# RUN THIS CELL TO TEST YOUR SOLUTION\n",
    "\n",
    "# DO NOT MODIFY\n",
    "if choices['rt_ranks'].mean() == 5.5:\n",
    "    print('CORRECT')\n",
    "else:\n",
    "    print('INCORRECT')"
   ]
  },
  {
   "cell_type": "markdown",
   "metadata": {},
   "source": [
    "Now let's try another scatter plot, but this time plotting rt ranks against `n_alternatives`."
   ]
  },
  {
   "cell_type": "code",
   "execution_count": 46,
   "metadata": {},
   "outputs": [
    {
     "data": {
      "image/png": "[encoded data removed]",
      "text/plain": [
       "<Figure size 640x480 with 1 Axes>"
      ]
     },
     "metadata": {},
     "output_type": "display_data"
    }
   ],
   "source": [
    "plt.scatter(\n",
    "    choices['rt_ranks'].values, \n",
    "    choices['n_alternatives'].values\n",
    ")\n",
    "plt.xlabel('RT Ranks')\n",
    "plt.ylabel('Number of Alternatives')\n",
    "plt.show()"
   ]
  },
  {
   "cell_type": "markdown",
   "metadata": {},
   "source": [
    "Transforming our variables into ranks turned the non-linear relationship into a linear one. Now we have a set of data where the correlation coefficient applies.\n",
    "\n",
    "Correlation between variables converted to ranks is way to quantify non-linear correlation. The resulting score, which also varies between -1 and 1, is called **Spearman's** *rho*.\n",
    "\n",
    "Note: Transforming values into ranks also has the effect of creating equally spaced intervals between values. This is also useful in cases where variables rating scales. For example, when people rate the similarity between two stimuli as being a \"7 out of 10\", we know that 7 is greater than 6, but we don't know if the \"mental interval\" between 6-7 is the same as the one between 7-8.\n",
    "\n",
    "**Question 11**\n",
    "\n",
    "Create a function called `spearman` that takes two numpy arrays and returns the linear correlation between rank-transformed versions of the input arrays. You can transform an array using `pd.Series(my_array).rank()`."
   ]
  },
  {
   "cell_type": "code",
   "execution_count": 65,
   "metadata": {},
   "outputs": [
    {
     "data": {
      "text/plain": [
       "np.float64(0.9757575757575758)"
      ]
     },
     "execution_count": 65,
     "metadata": {},
     "output_type": "execute_result"
    }
   ],
   "source": [
    "# Your code goes here.\n",
    "def spearman(arr1: np.array, arr2: np.array): \n",
    "    rank_1 = pd.Series(arr1).rank()\n",
    "    rank_2 = pd.Series(arr2).rank()\n",
    "    return correlation(rank_1, rank_2)\n",
    "\n",
    "\n",
    "spearman(choices['rt'], choices['n_alternatives'])"
   ]
  },
  {
   "cell_type": "code",
   "execution_count": 66,
   "metadata": {},
   "outputs": [
    {
     "name": "stdout",
     "output_type": "stream",
     "text": [
      "CORRECT\n"
     ]
    }
   ],
   "source": [
    "# RUN THIS CELL TO TEST YOUR SOLUTION\n",
    "\n",
    "# DO NOT MODIFY\n",
    "if spearman(choices['rt'], choices['n_alternatives'])==0.9757575757575758:\n",
    "    print('CORRECT')\n",
    "else:\n",
    "    print('INCORRECT')"
   ]
  },
  {
   "cell_type": "markdown",
   "metadata": {},
   "source": [
    "Running the cell below shows that the spearman (nonlinear) correlation is higher than the linear correlation."
   ]
  },
  {
   "cell_type": "code",
   "execution_count": 67,
   "metadata": {},
   "outputs": [
    {
     "data": {
      "text/plain": [
       "np.float64(0.9757575757575758)"
      ]
     },
     "execution_count": 67,
     "metadata": {},
     "output_type": "execute_result"
    }
   ],
   "source": [
    "spearman(choices['rt'], choices['n_alternatives'])"
   ]
  },
  {
   "cell_type": "markdown",
   "metadata": {},
   "source": [
    "Again, we can do hypothesis testing using scipy."
   ]
  },
  {
   "cell_type": "code",
   "execution_count": 68,
   "metadata": {},
   "outputs": [
    {
     "data": {
      "text/plain": [
       "SignificanceResult(statistic=np.float64(0.9757575757575757), pvalue=np.float64(1.4675461874042197e-06))"
      ]
     },
     "execution_count": 68,
     "metadata": {},
     "output_type": "execute_result"
    }
   ],
   "source": [
    "from scipy.stats import spearmanr\n",
    "spearmanr(choices['rt'], choices['n_alternatives'])"
   ]
  },
  {
   "cell_type": "markdown",
   "metadata": {},
   "source": [
    "Run the cell below and move the slider control to to see datasets that would produce coefficients ranging from -1 to 1."
   ]
  },
  {
   "cell_type": "code",
   "execution_count": 69,
   "metadata": {},
   "outputs": [
    {
     "data": {
      "application/vnd.jupyter.widget-view+json": {
       "model_id": "8347e0e7e3c44d688f9f02a4ca676375",
       "version_major": 2,
       "version_minor": 0
      },
      "text/plain": [
       "interactive(children=(FloatSlider(value=1.0, description='strength', max=1.0, min=-1.0, step=0.01), Output()),…"
      ]
     },
     "metadata": {},
     "output_type": "display_data"
    }
   ],
   "source": [
    "explore_spearman()"
   ]
  }
 ],
 "metadata": {
  "kernelspec": {
   "display_name": ".venv",
   "language": "python",
   "name": "python3"
  },
  "language_info": {
   "codemirror_mode": {
    "name": "ipython",
    "version": 3
   },
   "file_extension": ".py",
   "mimetype": "text/x-python",
   "name": "python",
   "nbconvert_exporter": "python",
   "pygments_lexer": "ipython3",
   "version": "3.9.19"
  }
 },
 "nbformat": 4,
 "nbformat_minor": 2
}
