{
 "cells": [
  {
   "cell_type": "markdown",
   "metadata": {},
   "source": [
    "# Non-metric Multidimensional Scaling\n",
    "\n",
    "Today we will get a better feel for how Shepard's **Non-metric Multidimensional Scaling (NMDS)** algorithm works.\n",
    "\n",
    "**We will be working in groups of two.**\n",
    "\n",
    "Feel free to ask any questions and please show me your work before you leave."
   ]
  },
  {
   "cell_type": "code",
   "execution_count": 77,
   "metadata": {},
   "outputs": [],
   "source": [
    "# Run this cell before beginning the exercise.\n",
    "\n",
    "import numpy as np\n",
    "import pandas as pd\n",
    "import matplotlib.pyplot as plt\n",
    "\n",
    "from tools import *"
   ]
  },
  {
   "cell_type": "markdown",
   "metadata": {},
   "source": [
    "First, we will load a reference mental representation, this time with four animals and two dimensions. Our goal will be to recover these 2D points using only human similarity data. We don't usually have the \"true\" mental representation for comparison, but it's useful to have one in this exercise to prove to ourselves that NMDS actually works."
   ]
  },
  {
   "cell_type": "code",
   "execution_count": 78,
   "metadata": {},
   "outputs": [
    {
     "data": {
      "text/html": [
       "<div>\n",
       "<style scoped>\n",
       "    .dataframe tbody tr th:only-of-type {\n",
       "        vertical-align: middle;\n",
       "    }\n",
       "\n",
       "    .dataframe tbody tr th {\n",
       "        vertical-align: top;\n",
       "    }\n",
       "\n",
       "    .dataframe thead th {\n",
       "        text-align: right;\n",
       "    }\n",
       "</style>\n",
       "<table border=\"1\" class=\"dataframe\">\n",
       "  <thead>\n",
       "    <tr style=\"text-align: right;\">\n",
       "      <th></th>\n",
       "      <th>size</th>\n",
       "      <th>fur_length</th>\n",
       "    </tr>\n",
       "  </thead>\n",
       "  <tbody>\n",
       "    <tr>\n",
       "      <th>dog</th>\n",
       "      <td>0.8</td>\n",
       "      <td>0.6</td>\n",
       "    </tr>\n",
       "    <tr>\n",
       "      <th>cat</th>\n",
       "      <td>0.3</td>\n",
       "      <td>0.7</td>\n",
       "    </tr>\n",
       "    <tr>\n",
       "      <th>wolf</th>\n",
       "      <td>1.0</td>\n",
       "      <td>0.8</td>\n",
       "    </tr>\n",
       "    <tr>\n",
       "      <th>rabbit</th>\n",
       "      <td>0.2</td>\n",
       "      <td>0.4</td>\n",
       "    </tr>\n",
       "  </tbody>\n",
       "</table>\n",
       "</div>"
      ],
      "text/plain": [
       "        size  fur_length\n",
       "dog      0.8         0.6\n",
       "cat      0.3         0.7\n",
       "wolf     1.0         0.8\n",
       "rabbit   0.2         0.4"
      ]
     },
     "execution_count": 78,
     "metadata": {},
     "output_type": "execute_result"
    }
   ],
   "source": [
    "df_real_points = load_mental_representation()\n",
    "df_real_points"
   ]
  },
  {
   "cell_type": "markdown",
   "metadata": {},
   "source": [
    "We can plot all four points to see how they are related in 2D space:"
   ]
  },
  {
   "cell_type": "code",
   "execution_count": 79,
   "metadata": {},
   "outputs": [
    {
     "data": {
      "image/png": "[encoded data removed]",
      "text/plain": [
       "<Figure size 400x400 with 1 Axes>"
      ]
     },
     "metadata": {},
     "output_type": "display_data"
    }
   ],
   "source": [
    "plt.figure(figsize=(4, 4))\n",
    "plt.scatter(df_real_points['size'], df_real_points['fur_length'], s=100)\n",
    "for i, animal in enumerate(df_real_points.index):\n",
    "    plt.annotate(animal, (df_real_points.iloc[i, 0], df_real_points.iloc[i, 1]), \n",
    "                 fontsize=12, xytext=(5, 5), textcoords='offset points')\n",
    "plt.xlabel('Size (smaller → larger)')\n",
    "plt.ylabel('Fur Length (shorter → longer)')\n",
    "plt.grid(True)\n",
    "plt.show()"
   ]
  },
  {
   "cell_type": "markdown",
   "metadata": {},
   "source": [
    "We want to recover these points using only what we can observe from people: similarity ratings. The similarity data for the same set of animals is loaded below."
   ]
  },
  {
   "cell_type": "code",
   "execution_count": 80,
   "metadata": {},
   "outputs": [
    {
     "data": {
      "text/html": [
       "<div>\n",
       "<style scoped>\n",
       "    .dataframe tbody tr th:only-of-type {\n",
       "        vertical-align: middle;\n",
       "    }\n",
       "\n",
       "    .dataframe tbody tr th {\n",
       "        vertical-align: top;\n",
       "    }\n",
       "\n",
       "    .dataframe thead th {\n",
       "        text-align: right;\n",
       "    }\n",
       "</style>\n",
       "<table border=\"1\" class=\"dataframe\">\n",
       "  <thead>\n",
       "    <tr style=\"text-align: right;\">\n",
       "      <th></th>\n",
       "      <th>dog</th>\n",
       "      <th>cat</th>\n",
       "      <th>wolf</th>\n",
       "      <th>rabbit</th>\n",
       "    </tr>\n",
       "  </thead>\n",
       "  <tbody>\n",
       "    <tr>\n",
       "      <th>dog</th>\n",
       "      <td>1.000000</td>\n",
       "      <td>0.600554</td>\n",
       "      <td>0.753638</td>\n",
       "      <td>0.531286</td>\n",
       "    </tr>\n",
       "    <tr>\n",
       "      <th>cat</th>\n",
       "      <td>0.600554</td>\n",
       "      <td>1.000000</td>\n",
       "      <td>0.493069</td>\n",
       "      <td>0.728893</td>\n",
       "    </tr>\n",
       "    <tr>\n",
       "      <th>wolf</th>\n",
       "      <td>0.753638</td>\n",
       "      <td>0.493069</td>\n",
       "      <td>1.000000</td>\n",
       "      <td>0.408842</td>\n",
       "    </tr>\n",
       "    <tr>\n",
       "      <th>rabbit</th>\n",
       "      <td>0.531286</td>\n",
       "      <td>0.728893</td>\n",
       "      <td>0.408842</td>\n",
       "      <td>1.000000</td>\n",
       "    </tr>\n",
       "  </tbody>\n",
       "</table>\n",
       "</div>"
      ],
      "text/plain": [
       "             dog       cat      wolf    rabbit\n",
       "dog     1.000000  0.600554  0.753638  0.531286\n",
       "cat     0.600554  1.000000  0.493069  0.728893\n",
       "wolf    0.753638  0.493069  1.000000  0.408842\n",
       "rabbit  0.531286  0.728893  0.408842  1.000000"
      ]
     },
     "execution_count": 80,
     "metadata": {},
     "output_type": "execute_result"
    }
   ],
   "source": [
    "df_sim = load_sim_data()\n",
    "df_sim"
   ]
  },
  {
   "cell_type": "markdown",
   "metadata": {},
   "source": [
    "The functions you created last time are already loaded and accessible: `get_pairwise_distances`, and `flatten_lower_triangle`.\n",
    "\n",
    "**Exercise 1**: Using the functions mentioned above, compute distances between points in `df_real_points` and store them in a dataframe called `df_real_distances`. Then store the unique distances in an array called `real_distances`. Next, store the unique similarity values in an array called `similarities`."
   ]
  },
  {
   "cell_type": "code",
   "execution_count": 81,
   "metadata": {},
   "outputs": [
    {
     "name": "stdout",
     "output_type": "stream",
     "text": [
      "Real Distances: \n",
      "              dog       cat      wolf    rabbit\n",
      "dog     0.000000  0.509902  0.282843  0.632456\n",
      "cat     0.509902  0.000000  0.707107  0.316228\n",
      "wolf    0.282843  0.707107  0.000000  0.894427\n",
      "rabbit  0.632456  0.316228  0.894427  0.000000 \n",
      "\n",
      "Unique Distances: \n",
      " [0.50990195 0.28284271 0.70710678 0.63245553 0.31622777 0.89442719] \n",
      "\n",
      "Unique Similarities: \n",
      " [0.60055446 0.75363832 0.49306869 0.53128561 0.72889341 0.40884172] \n",
      "\n"
     ]
    }
   ],
   "source": [
    "# Your solution here\n",
    "df_real_distances = get_pairwise_distances(df_real_points).astype('float')\n",
    "real_distances = flatten_lower_triangle(df_real_distances)\n",
    "similarities = np.exp(-real_distances)\n",
    "\n",
    "# don't change the below\n",
    "try:\n",
    "    print(\"Real Distances:\", '\\n', df_real_distances, '\\n')\n",
    "    print(\"Unique Distances:\", '\\n', real_distances, '\\n')\n",
    "    print(\"Unique Similarities:\", '\\n', similarities, '\\n')\n",
    "except:\n",
    "    print(\"Code not working yet.\")"
   ]
  },
  {
   "cell_type": "code",
   "execution_count": 82,
   "metadata": {},
   "outputs": [
    {
     "name": "stdout",
     "output_type": "stream",
     "text": [
      "Test passed\n"
     ]
    }
   ],
   "source": [
    "# TEST YOUR SOLUTION\n",
    "\n",
    "# DON'T CHANGE THIS CELL\n",
    "test1 = np.isclose(df_real_distances.at['cat', 'dog'], 0.509902, atol=1e-5)\n",
    "test2 = np.isclose(real_distances[-1], 0.89442719, atol=1e-5)\n",
    "test3 = np.isclose(similarities[-1],0.40884172, atol=1e-5)\n",
    "if test1 and test2 and test3:\n",
    "    print('Test passed')\n",
    "else:\n",
    "    print('Test failed')"
   ]
  },
  {
   "cell_type": "markdown",
   "metadata": {},
   "source": [
    "**Exercise 2**: Use a scatter plot to verify the relationship between similarity and distance in psychological space. Also plot the curve for Shepard's Law for comparison. Fill in the blanks below. Make sure that the data follow what you'd expect from Shepard's law."
   ]
  },
  {
   "cell_type": "code",
   "execution_count": 83,
   "metadata": {},
   "outputs": [
    {
     "data": {
      "image/png": "[encoded data removed]",
      "text/plain": [
       "<Figure size 400x400 with 1 Axes>"
      ]
     },
     "metadata": {},
     "output_type": "display_data"
    }
   ],
   "source": [
    "fig1 = plt.figure(figsize=(4, 4))\n",
    "\n",
    "# relationship between similarity and distance\n",
    "plt.scatter(real_distances,similarities)\n",
    "\n",
    "# Shepard's Law\n",
    "dist = np.linspace(0.2, 1, 100)\n",
    "y = np.exp(-dist)\n",
    "plt.plot(dist, y)\n",
    "plt.xlabel('Distance in mental representation')\n",
    "plt.ylabel('Similarity Rating')\n",
    "plt.grid()\n",
    "plt.show()"
   ]
  },
  {
   "cell_type": "code",
   "execution_count": 84,
   "metadata": {},
   "outputs": [
    {
     "name": "stdout",
     "output_type": "stream",
     "text": [
      "Test passed\n"
     ]
    }
   ],
   "source": [
    "# TEST YOUR SOLUTION\n",
    "\n",
    "# DON'T CHANGE THIS CELL\n",
    "if np.isclose(y[0], 0.81873075, atol=1e-5):\n",
    "    print('Test passed')\n",
    "else:\n",
    "    print('Test failed')"
   ]
  },
  {
   "cell_type": "markdown",
   "metadata": {},
   "source": [
    "Now let's assume we don't have the points in `df_real_points` and try to recover them from the similarity data.\n",
    "\n",
    "NMDS begins by randomly placing a point representing each object into a space (in our case a 2D space) and then iteratively adjusts them based on criteria we will review below.\n",
    "\n",
    "**Exercise 3**: Create a function called `create_initial_random_points` that outputs a dataframe with the same index names as `df_real_points` but with random points and columns: `[\"dim1\", \"dim2\"]`. Values on each dimension should be between 0 and 1 (this is for simplicity and not strictly required for NMDS). You can generate uniform random values using `np.random.rand()`."
   ]
  },
  {
   "cell_type": "code",
   "execution_count": 85,
   "metadata": {},
   "outputs": [
    {
     "name": "stdout",
     "output_type": "stream",
     "text": [
      "            dim1      dim2\n",
      "dog     0.548814  0.715189\n",
      "cat     0.602763  0.544883\n",
      "wolf    0.423655  0.645894\n",
      "rabbit  0.437587  0.891773\n"
     ]
    }
   ],
   "source": [
    "# Your code here\n",
    "def create_initial_random_points():\n",
    "    df = pd.DataFrame(\n",
    "        index=['dog','cat','wolf','rabbit'], \n",
    "        columns=['dim1','dim2']\n",
    "    )\n",
    "    \n",
    "    for ind in df.index:\n",
    "        for col in df.columns:\n",
    "            df.loc[ind,col] = np.random.rand()\n",
    "    \n",
    "    return df\n",
    "\n",
    "\n",
    "\n",
    "# don't change the below\n",
    "try:\n",
    "    np.random.seed(0)\n",
    "    print(create_initial_random_points())\n",
    "except:\n",
    "    print(\"Code not working yet.\")"
   ]
  },
  {
   "cell_type": "code",
   "execution_count": 86,
   "metadata": {},
   "outputs": [
    {
     "name": "stdout",
     "output_type": "stream",
     "text": [
      "Test passed\n"
     ]
    }
   ],
   "source": [
    "# TEST YOUR SOLUTION\n",
    "\n",
    "# DON'T CHANGE THIS CELL\n",
    "np.random.seed(0)\n",
    "_ = create_initial_random_points().loc['dog', 'dim1']\n",
    "if np.isclose(_, float(\"8423729305318845.0\"[::-1]), atol=1e-5):\n",
    "    print('Test passed')\n",
    "else:\n",
    "    print('Test failed')"
   ]
  },
  {
   "cell_type": "markdown",
   "metadata": {},
   "source": [
    "In order to assess randomly generated sets of points and begin improving them, we need a way to measure the extent to which a particular configuration of points is a good one.\n",
    "\n",
    "All we really need is a measure that captures the difference between:\n",
    "1. the distance between two points (i.e., animals) in psychological space, and\n",
    "2. the distance between our current guesses for those two points.\n",
    "\n",
    "In order words, we want our point distances to exactly match the \"real\" (psychological) distances.\n",
    "\n",
    "Given our current guess for the points, such as the random ones above, we can calculate $\\hat{d}_{ij}$: the distance the points for object $i$ (e.g., animal $i$) and object $j$. That's item 2 above.\n",
    "\n",
    "**Exercise 4**: Use our existing set of functions to:\n",
    "- Create a set of random points for the animals in a dataframe called `df_guesses`.\n",
    "- Compute distances between points in `df_guesses` and store them in a dataframe called `df_guessed_dist`.\n",
    "- Store the unique distances in an array called `guessed_distances`.\n",
    "\n",
    "You shouldn't have to write any new code."
   ]
  },
  {
   "cell_type": "code",
   "execution_count": 87,
   "metadata": {},
   "outputs": [
    {
     "name": "stdout",
     "output_type": "stream",
     "text": [
      "Initial Point Guesses: \n",
      "             dim1      dim2\n",
      "dog     0.513943  0.773165\n",
      "cat     0.870428  0.008047\n",
      "wolf    0.309736  0.957604\n",
      "rabbit  0.513117  0.318284 \n",
      "\n",
      "Distances between above: \n",
      "              dog       cat      wolf    rabbit\n",
      "dog          0.0  0.844089   0.27517  0.454881\n",
      "cat     0.844089       0.0  1.102739    0.4732\n",
      "wolf     0.27517  1.102739       0.0   0.67089\n",
      "rabbit  0.454881    0.4732   0.67089       0.0 \n",
      "\n",
      "Unique Distances: \n",
      " [0.84408933 0.27516958 1.10273902 0.45488138 0.47320019 0.67088966] \n",
      "\n"
     ]
    }
   ],
   "source": [
    "# do not change\n",
    "np.random.seed(14)\n",
    "\n",
    "# Your code goes here\n",
    "df_guesses = create_initial_random_points()\n",
    "df_guessed_dist = get_pairwise_distances(df_guesses)\n",
    "guessed_distances = flatten_lower_triangle(df_guessed_dist)\n",
    "\n",
    "\n",
    "# don't change the below\n",
    "try:\n",
    "    print(\"Initial Point Guesses:\", '\\n', df_guesses, '\\n')\n",
    "    print(\"Distances between above:\", '\\n', df_guessed_dist, '\\n')\n",
    "    print(\"Unique Distances:\", '\\n', guessed_distances, '\\n')\n",
    "except:\n",
    "    print(\"Code not working yet.\")"
   ]
  },
  {
   "cell_type": "code",
   "execution_count": 88,
   "metadata": {},
   "outputs": [
    {
     "name": "stdout",
     "output_type": "stream",
     "text": [
      "Test passed\n"
     ]
    }
   ],
   "source": [
    "# TEST YOUR SOLUTION\n",
    "\n",
    "# DON'T CHANGE THIS CELL\n",
    "test1 = np.isclose(df_guesses.at['dog', 'dim1'], 0.513943, atol=1e-5)\n",
    "test2 = np.isclose(df_guessed_dist.at['dog', 'cat'], 0.844089, atol=1e-5)\n",
    "test3 = np.isclose(guessed_distances[0], 0.844089, atol=1e-5)\n",
    "if test1 and test2 and test3:\n",
    "    print('Test passed')\n",
    "else:\n",
    "    print('Test failed')"
   ]
  },
  {
   "cell_type": "markdown",
   "metadata": {},
   "source": [
    "Recall that what we want is a measure that captures the difference between:\n",
    "1. the distance between two points (i.e., animals) in psychological space, and\n",
    "2. the distance between our current guesses for those two points.\n",
    "\n",
    "We now have item 2.\n",
    "\n",
    "To obtain the item 1 (psychological distances), remember that Shepard's Law tells us that similarity $s = e^{-d}$ and inversely that psychological distance $d = -log(s)$.\n",
    "\n",
    "If we say that the similarity between object $i$ and object $j$ is $s_{ij}$, then psychological distance $d_{ij} = -log(s_{ij})$. (Make sure not to confuse $\\hat{d}_{ij}$ and $d_{ij}$.)\n",
    "\n",
    "**Exercise 5**: Create a function called `sim_to_dist` that takes in an array of similarity values and returns an array of psychological distances."
   ]
  },
  {
   "cell_type": "code",
   "execution_count": 89,
   "metadata": {},
   "outputs": [
    {
     "name": "stdout",
     "output_type": "stream",
     "text": [
      "Psychological Distances: [0.50990195 0.28284271 0.70710678 0.63245553 0.31622777 0.89442719]\n"
     ]
    }
   ],
   "source": [
    "# Your code here\n",
    "\n",
    "def sim_to_dist(similarities):\n",
    "    return -np.log(similarities)\n",
    "\n",
    "# don't change the below\n",
    "try:\n",
    "    print('Psychological Distances:', sim_to_dist(similarities))\n",
    "except:\n",
    "    print(\"Code not working yet.\")"
   ]
  },
  {
   "cell_type": "code",
   "execution_count": 90,
   "metadata": {},
   "outputs": [
    {
     "name": "stdout",
     "output_type": "stream",
     "text": [
      "Test passed\n"
     ]
    }
   ],
   "source": [
    "# TEST YOUR SOLUTION\n",
    "\n",
    "# DON'T CHANGE THIS CELL\n",
    "if np.isclose(sim_to_dist(similarities)[1], 0.28284271, atol=1e-5):\n",
    "    print('Test passed')\n",
    "else:\n",
    "    print('Test failed')"
   ]
  },
  {
   "cell_type": "markdown",
   "metadata": {},
   "source": [
    "\n",
    "Thus, the difference we are interested in is just $-log(s_{ij}) - \\hat{d}_{ij}$.\n",
    "\n",
    "NMDS uses a very similar measure, called **stress**:\n",
    "\n",
    "$Stress = \\sqrt{\\sum_{i<j} \\left( -log(s_{ij}) - \\hat{d}_{ij} \\right)^2}$\n",
    "\n",
    "Because the sign of the difference doesn't matter, the stress measure squares this difference to make it positive. It also sums up these squared differences for all pairs of objects $i$ and $j$. Note that $i<j$ just means that we work with unique similarities/distances rather than double counting $(i, j)$ and $(j, i)$. We then take the square root of the sum to get us back on the scale of distances rather than squared distances.\n",
    "\n",
    "**Exercise 6**: Create a function called `stress` that takes in a one-dimensional array of unique similarity values and a one-dimensional array of unique point distances and returns the measure of stress discussed above as a float. You can reuse your `sim_to_dist` function above."
   ]
  },
  {
   "cell_type": "code",
   "execution_count": null,
   "metadata": {},
   "outputs": [
    {
     "name": "stdout",
     "output_type": "stream",
     "text": [
      "Stress: 0.6118879829822872\n"
     ]
    }
   ],
   "source": [
    "# Your answer here\n",
    "def stress(similarities, unique_distances):\n",
    "    return np.sqrt(\n",
    "            np.sum(\n",
    "                np.pow(\n",
    "                    sim_to_dist(similarities)-unique_distances, 2\n",
    "                    )\n",
    "                )\n",
    "            ).astype(\"float\")\n",
    "\n",
    "\n",
    "# don't change the below\n",
    "try:\n",
    "    print('Stress:', stress(similarities, guessed_distances))\n",
    "except:\n",
    "    print(\"Code not working yet.\")"
   ]
  },
  {
   "cell_type": "code",
   "execution_count": 92,
   "metadata": {},
   "outputs": [
    {
     "name": "stdout",
     "output_type": "stream",
     "text": [
      "Test passed\n"
     ]
    }
   ],
   "source": [
    "# TEST YOUR SOLUTION\n",
    "\n",
    "# DON'T CHANGE THIS CELL\n",
    "if np.isclose(stress(similarities, guessed_distances), 0.6118879829822872, atol=1e-5):\n",
    "    print('Test passed')\n",
    "else:\n",
    "    print('Test failed')"
   ]
  },
  {
   "cell_type": "markdown",
   "metadata": {},
   "source": [
    "Shepard didn't always know the relationship between similarity and distance. In that case, stress is expressed more generally as:\n",
    "\n",
    "$Stress = \\sqrt{\\sum_{i<j} \\left( f(s_{ij}) - \\hat{d}_{ij} \\right)^2}$\n",
    "\n",
    "where $f$ is an arbitrary monotonic function.\n",
    "\n",
    "If we didn't yet know that $f(s) = -log(s)$, that is, the inverse of $e^{-d}$, holds for psychological similarity, then we'd have to infer it on our own from the data. Shepard did this as an additional step in the NMDS algorithm which looks for the function $f$ that best fits the data.\n",
    "\n",
    "Since, we already know the form of this function, we'll skip that step for simplicity, but it's important to note that this is how Shepard discoverd his universal law.\n",
    "\n",
    "**Exercise 7**: Apply your stress function to distances for the randomly guessed points and store the result in a float called `stress_for_guessed`."
   ]
  },
  {
   "cell_type": "code",
   "execution_count": 101,
   "metadata": {},
   "outputs": [
    {
     "name": "stdout",
     "output_type": "stream",
     "text": [
      "Stress for guessed points: 5.551115123125783e-17\n"
     ]
    }
   ],
   "source": [
    "# Your code here\n",
    "stress_for_guessed = stress(np.exp(-guessed_distances),guessed_distances)\n",
    "\n",
    "try:\n",
    "    print('Stress for guessed points:', stress_for_guessed)\n",
    "except:\n",
    "    print(\"Code not working yet.\")"
   ]
  },
  {
   "cell_type": "code",
   "execution_count": 102,
   "metadata": {},
   "outputs": [
    {
     "name": "stdout",
     "output_type": "stream",
     "text": [
      "Test failed\n"
     ]
    }
   ],
   "source": [
    "# TEST YOUR SOLUTION\n",
    "\n",
    "# DON'T CHANGE THIS CELL\n",
    "if np.isclose(stress_for_guessed, 0.6118879829822872, atol=1e-5):\n",
    "    print('Test passed')\n",
    "else:\n",
    "    print('Test failed')"
   ]
  },
  {
   "cell_type": "markdown",
   "metadata": {},
   "source": [
    "**Exercise 8**: Apply your stress function to the real psychological distances and store the result in a float called `stress_for_real`."
   ]
  },
  {
   "cell_type": "code",
   "execution_count": 103,
   "metadata": {},
   "outputs": [
    {
     "name": "stdout",
     "output_type": "stream",
     "text": [
      "Stress for real points: 0.00\n"
     ]
    }
   ],
   "source": [
    "# Your code here\n",
    "\n",
    "stress_for_real = stress(similarities, real_distances)\n",
    "\n",
    "try:\n",
    "    print(f\"Stress for real points: {stress_for_real:.2f}\")\n",
    "except:\n",
    "    print(\"Code not working yet.\")"
   ]
  },
  {
   "cell_type": "code",
   "execution_count": 104,
   "metadata": {},
   "outputs": [
    {
     "name": "stdout",
     "output_type": "stream",
     "text": [
      "Test passed\n"
     ]
    }
   ],
   "source": [
    "# TEST YOUR SOLUTION\n",
    "\n",
    "# DON'T CHANGE THIS CELL\n",
    "if np.isclose(stress_for_real, 0, atol=1e-5):\n",
    "    print('Test passed')\n",
    "else:\n",
    "    print('Test failed')"
   ]
  },
  {
   "cell_type": "markdown",
   "metadata": {},
   "source": [
    "Let's see our current guesses for the points and try to determine how they could be improved. Observe the plots below. Ignore the code."
   ]
  },
  {
   "cell_type": "code",
   "execution_count": null,
   "metadata": {},
   "outputs": [],
   "source": [
    "fig, (ax1, ax2) = plt.subplots(1, 2, figsize=(8, 4))\n",
    "\n",
    "# real points\n",
    "ax1.scatter(df_real_points['size'], df_real_points['fur_length'], s=100, color='blue')\n",
    "for i, label in enumerate(df_real_points.index):\n",
    "    ax1.annotate(label, (df_real_points.iloc[i, 0], df_real_points.iloc[i, 1]),\n",
    "                fontsize=12, xytext=(5, 5), textcoords='offset points')\n",
    "ax1.set_title('Real Points')\n",
    "ax1.grid(True)\n",
    "\n",
    "# guess points\n",
    "ax2.scatter(df_guesses['dim1'], df_guesses['dim2'], s=100, color='red')\n",
    "for i, label in enumerate(df_guesses.index):\n",
    "    ax2.annotate(label, (df_guesses.iloc[i, 0], df_guesses.iloc[i, 1]),\n",
    "                fontsize=12, xytext=(5, 5), textcoords='offset points')\n",
    "ax2.set_title('Guessed Points')\n",
    "ax2.grid(True)\n",
    "\n",
    "plt.tight_layout()\n",
    "plt.show()"
   ]
  },
  {
   "cell_type": "markdown",
   "metadata": {},
   "source": [
    "**Exercise 9**: Select the two biggest issues with the guessed points from the below options.\n",
    "\n",
    "Remember, we are only comparing the **distances** between points in the two plots, not the exact locations of the points themselves."
   ]
  },
  {
   "cell_type": "code",
   "execution_count": null,
   "metadata": {},
   "outputs": [],
   "source": [
    "# answer1 = \"dog too close to wolf; dog too close to cat\"\n",
    "# answer1 = \"dog too close to rabbit; dog too far from cat\"\n",
    "# answer1 = \"dog too close to cat; dog too far from rabbit\""
   ]
  },
  {
   "cell_type": "code",
   "execution_count": null,
   "metadata": {},
   "outputs": [],
   "source": [
    "# TEST YOUR SOLUTION\n",
    "\n",
    "# DON'T CHANGE THIS CELL\n",
    "if ';ti'[::-1] in answer1:\n",
    "    print('Test passed')\n",
    "else:\n",
    "    print('Test failed')"
   ]
  },
  {
   "cell_type": "markdown",
   "metadata": {},
   "source": [
    "The biggest issue seems to be that dog is too far from cat relative to the other points. Now imagine drawing a line from dog to cat. To move the dog point towards the cat, we would take a step along that line. We'd take the largest step in that direction than in any other since that's the largest discrepency.\n",
    "\n",
    "The second biggest issue seems to be that dog is too close to rabbit relative to other points. Instead of moving the dog point down towards rabbit, we'd move it straight up away from it. We'd take a smaller step than the above since it's not as big of a discrepency.\n",
    "\n",
    "NMDS calculates these directions for each point. You'll learn how to do this in more detail in a later assignment.\n",
    "\n",
    "For the dog point, the directions can be visualized with the code below. We want to take a big step toward cat and a small step away from rabbit. After we take those steps, the stress value will be reduced."
   ]
  },
  {
   "cell_type": "code",
   "execution_count": null,
   "metadata": {},
   "outputs": [],
   "source": [
    "_, directions = get_gradient_for_one_point(df_guesses, df_sim, df_guessed_dist, 'dog')\n",
    "# points\n",
    "plt.figure(figsize=(4, 4))\n",
    "plt.scatter(df_guesses['dim1'], df_guesses['dim2'])\n",
    "for animal in df_guesses.index:\n",
    "    dist, y = df_guesses.loc[animal]\n",
    "    plt.text(dist, y, animal)\n",
    "# arrows\n",
    "dog_x, dog_y = df_guesses.loc['dog']\n",
    "for animal in directions.index:\n",
    "    if animal == 'dog':\n",
    "        continue\n",
    "    dist, y = directions.loc[animal] * -0.5\n",
    "    plt.arrow(dog_x, dog_y, dist, y, head_width=0.01, head_length=0.01, fc='r', ec='r')\n",
    "plt.show()"
   ]
  },
  {
   "cell_type": "markdown",
   "metadata": {},
   "source": [
    "NMDS performs these point movements iteratively. On each iteration, it computes these directions for each point (e.g., three directions for each of the four animals) and uses them to make small steps in each direction. It then re-evaluates stress and begins again, calculating directions and taking another step.\n",
    "\n",
    "**Exercise 10**:\n",
    "\n",
    "Below we're going to perform NMDS using a function called `update_points`. \n",
    "\n",
    "Note that we already created random initial points and called them `df_guesses_new`.\n",
    "\n",
    "You can call `update_points(df_guesses_new, df_sim)` to move each point in a direction that will reduce stress and return the new resulting points as a similar dataframe.\n",
    "\n",
    "Create a loop below to update the points 100 times. Store the resulting stress values for each iteration in an array called `stress_vals`. Also print them out one by one in your loop so you can see if it's being reduced over time."
   ]
  },
  {
   "cell_type": "code",
   "execution_count": null,
   "metadata": {},
   "outputs": [],
   "source": [
    "# do not change\n",
    "np.random.seed(10)\n",
    "df_guesses_new = create_initial_random_points()\n",
    "# do not change\n",
    "\n",
    "# Your code here\n",
    "\n"
   ]
  },
  {
   "cell_type": "code",
   "execution_count": null,
   "metadata": {},
   "outputs": [],
   "source": [
    "# TEST YOUR SOLUTION\n",
    "\n",
    "# DON'T CHANGE THIS CELL\n",
    "if len(stress_vals)==100 and np.isclose(stress_vals[-1], 0., atol=1e-5) and np.isclose(stress_vals[10], 0.05693107008290327, atol=1e-5):\n",
    "    print('Test passed')\n",
    "else:\n",
    "    print('Test failed')"
   ]
  },
  {
   "cell_type": "markdown",
   "metadata": {},
   "source": [
    "Run the below cell to visualize how stress decreases across the 100 iterations."
   ]
  },
  {
   "cell_type": "code",
   "execution_count": null,
   "metadata": {},
   "outputs": [],
   "source": [
    "plt.plot(stress_vals)\n",
    "plt.xlabel('Iteration')\n",
    "plt.ylabel('Stress')\n",
    "plt.show()"
   ]
  },
  {
   "cell_type": "markdown",
   "metadata": {},
   "source": [
    "**Question 11:** Based on the above, by what earliest iteration has a stable configuration of points been found?"
   ]
  },
  {
   "cell_type": "code",
   "execution_count": null,
   "metadata": {},
   "outputs": [],
   "source": [
    "# answer2 = 20\n",
    "# answer2 = 40\n",
    "# answer2 = 60\n",
    "# answer2 = 80\n",
    "# answer2 = 100"
   ]
  },
  {
   "cell_type": "code",
   "execution_count": null,
   "metadata": {},
   "outputs": [],
   "source": [
    "# TEST YOUR SOLUTION\n",
    "\n",
    "# DON'T CHANGE THIS CELL\n",
    "if answer2 % 16 == 0:\n",
    "    print('Test passed')\n",
    "else:\n",
    "    print('Test failed')"
   ]
  },
  {
   "cell_type": "markdown",
   "metadata": {},
   "source": [
    "We can now compare the original points from the psychological representation to those found by the NDMS algorithm:"
   ]
  },
  {
   "cell_type": "code",
   "execution_count": null,
   "metadata": {},
   "outputs": [],
   "source": [
    "fig, (ax1, ax2) = plt.subplots(1, 2, figsize=(8, 4))\n",
    "\n",
    "# real points\n",
    "ax1.scatter(df_real_points['size'], df_real_points['fur_length'], s=100, color='blue')\n",
    "for i, label in enumerate(df_real_points.index):\n",
    "    ax1.annotate(label, (df_real_points.iloc[i, 0], df_real_points.iloc[i, 1]),\n",
    "                fontsize=12, xytext=(5, 5), textcoords='offset points')\n",
    "ax1.set_title('Psychological Representation')\n",
    "ax1.grid(True)\n",
    "\n",
    "# guess points\n",
    "ax2.scatter(df_guesses_new['dim1'], df_guesses_new['dim2'], s=100, color='red')\n",
    "for i, label in enumerate(df_guesses_new.index):\n",
    "    ax2.annotate(label, (df_guesses_new.iloc[i, 0], df_guesses_new.iloc[i, 1]),\n",
    "                fontsize=12, xytext=(5, 5), textcoords='offset points')\n",
    "ax2.set_title('NMDS: Inferred Psychological Representation')\n",
    "ax2.grid(True)\n",
    "\n",
    "plt.tight_layout()\n",
    "plt.show()"
   ]
  },
  {
   "cell_type": "markdown",
   "metadata": {},
   "source": [
    "NMDS can successfully recover points that have the same distances as the points in the psychological space (those indicated only by human similarity judgments).\n",
    "\n",
    "However, the specific (x, y) dimensions of the found points will amost always not have the same meaning as those for the original points. In the original representations, the first dimension represented size and the second represented fur length. The NMDS space will almost certaintly not have those same dimensions. Because simililarity ratings only tell us about distance, and not about exact location in space, NMDS can only infer the overal configuration of the points (in this case, a rough diamond shape). In particular, NMDS will correctly return the above diamond configuration, but one that is arbitrarily rotated in space. Thus, it's up to the researcher to further rotate the configuration and interpret the meaning of the dimensions."
   ]
  }
 ],
 "metadata": {
  "kernelspec": {
   "display_name": ".venv",
   "language": "python",
   "name": "python3"
  },
  "language_info": {
   "codemirror_mode": {
    "name": "ipython",
    "version": 3
   },
   "file_extension": ".py",
   "mimetype": "text/x-python",
   "name": "python",
   "nbconvert_exporter": "python",
   "pygments_lexer": "ipython3",
   "version": "3.9.19"
  }
 },
 "nbformat": 4,
 "nbformat_minor": 2
}
