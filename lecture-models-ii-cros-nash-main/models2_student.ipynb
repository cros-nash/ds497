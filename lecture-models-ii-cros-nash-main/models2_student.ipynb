{
 "cells": [
  {
   "cell_type": "markdown",
   "metadata": {},
   "source": [
    "# Cognitive Models II\n",
    "\n",
    "- Please work in groups of two or more.\n",
    "\n",
    "- Move chairs together and discuss as you work. No need to whisper!\n",
    "\n",
    "- Commit and show an instructor your work before leaving."
   ]
  },
  {
   "cell_type": "code",
   "execution_count": 61,
   "metadata": {},
   "outputs": [],
   "source": [
    "# Run this cell first\n",
    "import numpy as np\n",
    "import pandas as pd\n",
    "import matplotlib.pyplot as plt\n",
    "\n",
    "from tools import *"
   ]
  },
  {
   "cell_type": "markdown",
   "metadata": {},
   "source": [
    "### Categorization Review\n",
    "\n",
    "Recall that explaining the cognitive process of categorization requires explaining both how the mind learns categories and how the mind then uses that knowledge to categorize a new stimulus. \n",
    "\n",
    "We examined a cognitive model called the prototype model which posits that learning a category consists of computing the average of previously seen exemplars from that category (called a prototype), and that categorization of new stimulus is based on the distance between that stimulus and each prototype.\n",
    "\n",
    "The prototype model appeared to give decent predictions of how people categorize new stimuli, but is that enough to convince us that the mind makes use of prototypes? Another way to test this model is to test it against alternative accounts.\n",
    "\n",
    "### From Prototypes to Memories\n",
    "\n",
    "When people learn categories, they are also likely to remember particular exemplars from those categories (e.g., a particular cat). Thus, it's reasonable to suspect that category learning might rely on such memories.\n",
    "\n",
    "**Exemplar Theory** posits that people learn categories by storing previously encountered exemplars from those categories. Thus, the category representation under exemplar theory is a collection of exemplars rather than a prototype. In this case, categorization of a new stimulus depends how close it is to members of existing categories.\n",
    "\n",
    "**Exercise:** Pick either prototype or exemplar theory and make a case to your partner that it's the better theory of the two."
   ]
  },
  {
   "cell_type": "markdown",
   "metadata": {},
   "source": [
    "### Category Learning Data\n",
    "\n",
    "We previously examined a set of stimuli (exemplars) that come from two categories, A and B. Study participants were tasked to learn which exemplars come from which category in the learning phase of an experiment. \n",
    "\n",
    "We'll load this data again in order to explore exemplar theory:"
   ]
  },
  {
   "cell_type": "code",
   "execution_count": 62,
   "metadata": {},
   "outputs": [
    {
     "data": {
      "text/html": [
       "<div>\n",
       "<style scoped>\n",
       "    .dataframe tbody tr th:only-of-type {\n",
       "        vertical-align: middle;\n",
       "    }\n",
       "\n",
       "    .dataframe tbody tr th {\n",
       "        vertical-align: top;\n",
       "    }\n",
       "\n",
       "    .dataframe thead th {\n",
       "        text-align: right;\n",
       "    }\n",
       "</style>\n",
       "<table border=\"1\" class=\"dataframe\">\n",
       "  <thead>\n",
       "    <tr style=\"text-align: right;\">\n",
       "      <th></th>\n",
       "      <th>stimulus</th>\n",
       "      <th>category</th>\n",
       "      <th>size</th>\n",
       "      <th>color</th>\n",
       "    </tr>\n",
       "  </thead>\n",
       "  <tbody>\n",
       "    <tr>\n",
       "      <th>0</th>\n",
       "      <td>A1</td>\n",
       "      <td>A</td>\n",
       "      <td>0.35</td>\n",
       "      <td>0.40</td>\n",
       "    </tr>\n",
       "    <tr>\n",
       "      <th>1</th>\n",
       "      <td>A2</td>\n",
       "      <td>A</td>\n",
       "      <td>0.28</td>\n",
       "      <td>0.32</td>\n",
       "    </tr>\n",
       "    <tr>\n",
       "      <th>2</th>\n",
       "      <td>A3</td>\n",
       "      <td>A</td>\n",
       "      <td>0.40</td>\n",
       "      <td>0.45</td>\n",
       "    </tr>\n",
       "    <tr>\n",
       "      <th>3</th>\n",
       "      <td>A4</td>\n",
       "      <td>A</td>\n",
       "      <td>0.30</td>\n",
       "      <td>0.25</td>\n",
       "    </tr>\n",
       "    <tr>\n",
       "      <th>4</th>\n",
       "      <td>A5</td>\n",
       "      <td>A</td>\n",
       "      <td>0.36</td>\n",
       "      <td>0.37</td>\n",
       "    </tr>\n",
       "    <tr>\n",
       "      <th>5</th>\n",
       "      <td>B1</td>\n",
       "      <td>B</td>\n",
       "      <td>0.45</td>\n",
       "      <td>0.50</td>\n",
       "    </tr>\n",
       "    <tr>\n",
       "      <th>6</th>\n",
       "      <td>B2</td>\n",
       "      <td>B</td>\n",
       "      <td>0.38</td>\n",
       "      <td>0.58</td>\n",
       "    </tr>\n",
       "    <tr>\n",
       "      <th>7</th>\n",
       "      <td>B3</td>\n",
       "      <td>B</td>\n",
       "      <td>0.50</td>\n",
       "      <td>0.54</td>\n",
       "    </tr>\n",
       "    <tr>\n",
       "      <th>8</th>\n",
       "      <td>B4</td>\n",
       "      <td>B</td>\n",
       "      <td>0.43</td>\n",
       "      <td>0.62</td>\n",
       "    </tr>\n",
       "    <tr>\n",
       "      <th>9</th>\n",
       "      <td>B5</td>\n",
       "      <td>B</td>\n",
       "      <td>0.48</td>\n",
       "      <td>0.45</td>\n",
       "    </tr>\n",
       "  </tbody>\n",
       "</table>\n",
       "</div>"
      ],
      "text/plain": [
       "  stimulus category  size  color\n",
       "0       A1        A  0.35   0.40\n",
       "1       A2        A  0.28   0.32\n",
       "2       A3        A  0.40   0.45\n",
       "3       A4        A  0.30   0.25\n",
       "4       A5        A  0.36   0.37\n",
       "5       B1        B  0.45   0.50\n",
       "6       B2        B  0.38   0.58\n",
       "7       B3        B  0.50   0.54\n",
       "8       B4        B  0.43   0.62\n",
       "9       B5        B  0.48   0.45"
      ]
     },
     "execution_count": 62,
     "metadata": {},
     "output_type": "execute_result"
    }
   ],
   "source": [
    "learning_stims = load_learning_phase_stimuli()\n",
    "learning_stims\n",
    "\n",
    "learning_stims"
   ]
  },
  {
   "cell_type": "markdown",
   "metadata": {},
   "source": [
    "The first five stimuli (A1-A5) are members of category A. The second five stimuli (B1-B5) are members of category B.\n",
    "\n",
    "Each stimulus is defined by its size (radius) and color (shade). You can think of these as the dimensions you might infer by running NMDS on similarity data for the same set of 10 shape stimuli, though some studies use the physical size and color values directly.\n",
    "\n",
    "Let's recall what the psychological space of stimuli look like:"
   ]
  },
  {
   "cell_type": "code",
   "execution_count": 63,
   "metadata": {},
   "outputs": [
    {
     "data": {
      "image/png": "[encoded data removed]",
      "text/plain": [
       "<Figure size 600x600 with 1 Axes>"
      ]
     },
     "metadata": {},
     "output_type": "display_data"
    }
   ],
   "source": [
    "plot_stimuli(learning_stims)"
   ]
  },
  {
   "cell_type": "markdown",
   "metadata": {},
   "source": [
    "There are multiple formalizations of exemplar theory that can be applied to this data, such as the **context model** or the **generalized context model**. We will review a simple version of the latter today. We will refer to it simply as the **exemplar model** for now.\n",
    "\n",
    "Whereas in prototype models categories are learned by computing averages of exemplars, in the exemplar model, categories are learned by simply storing all encountered exemplars.\n",
    "\n",
    "**Exercise:** Create a function called `store_exemplars` that takes in a dataframe like `learning_stims` and a category label and returns a numpy array (matrix) of all exemplars within that category."
   ]
  },
  {
   "cell_type": "code",
   "execution_count": 64,
   "metadata": {},
   "outputs": [
    {
     "name": "stdout",
     "output_type": "stream",
     "text": [
      "[[0.35 0.4]\n",
      " [0.28 0.32]\n",
      " [0.4 0.45]\n",
      " [0.3 0.25]\n",
      " [0.36 0.37]]\n"
     ]
    }
   ],
   "source": [
    "# Your code here\n",
    "\n",
    "def store_exemplars(df, label):\n",
    "    return df[df['category'] == label].to_numpy()[:,-2:]\n",
    "\n",
    "print(store_exemplars(learning_stims, 'A'))"
   ]
  },
  {
   "cell_type": "code",
   "execution_count": 65,
   "metadata": {},
   "outputs": [
    {
     "name": "stdout",
     "output_type": "stream",
     "text": [
      "Test passed\n"
     ]
    }
   ],
   "source": [
    "# TEST YOUR SOLUTION\n",
    "\n",
    "# DON'T CHANGE THIS CELL\n",
    "if np.isclose(store_exemplars(learning_stims, 'A')[1, 1], 0.32):\n",
    "    print('Test passed')\n",
    "else:\n",
    "    print('Test failed')"
   ]
  },
  {
   "cell_type": "markdown",
   "metadata": {},
   "source": [
    "**Exercise:** Store examplars from category A in `category_A_exemplars` and examplars from category B in `category_B_exemplars`."
   ]
  },
  {
   "cell_type": "code",
   "execution_count": 66,
   "metadata": {},
   "outputs": [],
   "source": [
    "# Your code here\n",
    "\n",
    "category_A_exemplars = store_exemplars(learning_stims, 'A')\n",
    "category_B_exemplars = store_exemplars(learning_stims, 'B')"
   ]
  },
  {
   "cell_type": "code",
   "execution_count": 67,
   "metadata": {},
   "outputs": [
    {
     "name": "stdout",
     "output_type": "stream",
     "text": [
      "Test passed\n"
     ]
    }
   ],
   "source": [
    "# TEST YOUR SOLUTION\n",
    "\n",
    "# DON'T CHANGE THIS CELL\n",
    "if np.isclose(np.mean(category_A_exemplars), 0.34800000000000003) and \\\n",
    "   np.isclose(np.mean(category_B_exemplars), 0.49300000000000005):\n",
    "    print('Test passed')\n",
    "else:\n",
    "    print('Test failed')"
   ]
  },
  {
   "cell_type": "markdown",
   "metadata": {},
   "source": [
    "Recall that in the testing phase of the experiment (i.e., after phase where categories were learned), participants are shown new stimuli and asked to categorize them.\n",
    "\n",
    "The testing phase data is loaded again below. Recall that the `categorization` column shows the categorizations of a single participant."
   ]
  },
  {
   "cell_type": "code",
   "execution_count": 68,
   "metadata": {},
   "outputs": [
    {
     "data": {
      "text/html": [
       "<div>\n",
       "<style scoped>\n",
       "    .dataframe tbody tr th:only-of-type {\n",
       "        vertical-align: middle;\n",
       "    }\n",
       "\n",
       "    .dataframe tbody tr th {\n",
       "        vertical-align: top;\n",
       "    }\n",
       "\n",
       "    .dataframe thead th {\n",
       "        text-align: right;\n",
       "    }\n",
       "</style>\n",
       "<table border=\"1\" class=\"dataframe\">\n",
       "  <thead>\n",
       "    <tr style=\"text-align: right;\">\n",
       "      <th></th>\n",
       "      <th>stimulus</th>\n",
       "      <th>size</th>\n",
       "      <th>color</th>\n",
       "      <th>categorization</th>\n",
       "    </tr>\n",
       "  </thead>\n",
       "  <tbody>\n",
       "    <tr>\n",
       "      <th>0</th>\n",
       "      <td>Test1</td>\n",
       "      <td>0.30</td>\n",
       "      <td>0.45</td>\n",
       "      <td>A</td>\n",
       "    </tr>\n",
       "    <tr>\n",
       "      <th>1</th>\n",
       "      <td>Test2</td>\n",
       "      <td>0.60</td>\n",
       "      <td>0.55</td>\n",
       "      <td>B</td>\n",
       "    </tr>\n",
       "    <tr>\n",
       "      <th>2</th>\n",
       "      <td>Test3</td>\n",
       "      <td>0.45</td>\n",
       "      <td>0.50</td>\n",
       "      <td>B</td>\n",
       "    </tr>\n",
       "    <tr>\n",
       "      <th>3</th>\n",
       "      <td>Test4</td>\n",
       "      <td>0.35</td>\n",
       "      <td>0.35</td>\n",
       "      <td>A</td>\n",
       "    </tr>\n",
       "    <tr>\n",
       "      <th>4</th>\n",
       "      <td>Test5</td>\n",
       "      <td>0.55</td>\n",
       "      <td>0.35</td>\n",
       "      <td>B</td>\n",
       "    </tr>\n",
       "    <tr>\n",
       "      <th>5</th>\n",
       "      <td>Test6</td>\n",
       "      <td>0.40</td>\n",
       "      <td>0.60</td>\n",
       "      <td>B</td>\n",
       "    </tr>\n",
       "    <tr>\n",
       "      <th>6</th>\n",
       "      <td>Test7</td>\n",
       "      <td>0.25</td>\n",
       "      <td>0.55</td>\n",
       "      <td>A</td>\n",
       "    </tr>\n",
       "    <tr>\n",
       "      <th>7</th>\n",
       "      <td>Test8</td>\n",
       "      <td>0.50</td>\n",
       "      <td>0.40</td>\n",
       "      <td>B</td>\n",
       "    </tr>\n",
       "    <tr>\n",
       "      <th>8</th>\n",
       "      <td>Test9</td>\n",
       "      <td>0.35</td>\n",
       "      <td>0.60</td>\n",
       "      <td>B</td>\n",
       "    </tr>\n",
       "  </tbody>\n",
       "</table>\n",
       "</div>"
      ],
      "text/plain": [
       "  stimulus  size  color categorization\n",
       "0    Test1  0.30   0.45              A\n",
       "1    Test2  0.60   0.55              B\n",
       "2    Test3  0.45   0.50              B\n",
       "3    Test4  0.35   0.35              A\n",
       "4    Test5  0.55   0.35              B\n",
       "5    Test6  0.40   0.60              B\n",
       "6    Test7  0.25   0.55              A\n",
       "7    Test8  0.50   0.40              B\n",
       "8    Test9  0.35   0.60              B"
      ]
     },
     "execution_count": 68,
     "metadata": {},
     "output_type": "execute_result"
    }
   ],
   "source": [
    "test_data = load_test_phase_data()\n",
    "\n",
    "test_data"
   ]
  },
  {
   "cell_type": "markdown",
   "metadata": {},
   "source": [
    "Whereas in the case of prototype models we are interested in the distances, $d(z, P_A)$ and $d(z, P_B)$, between a **new** stimulus $z$ and prototypes $P_A$ and $P_B$, in the case of exemplar models we are interested in distances $d(z, x)$ between a new stimulus $z$ and a particular exemplar $x$. We will explain how these quantities relate the full model a bit later on.\n",
    "\n",
    "**Exercise:** Create a function called `stimulus_to_exemplar_distance` that takes in a stimulus and exemplar as two numpy arrays and returns the Euclidean distance between them."
   ]
  },
  {
   "cell_type": "code",
   "execution_count": 69,
   "metadata": {},
   "outputs": [],
   "source": [
    "# Your code here\n",
    "\n",
    "def stimulus_to_exemplar_distance(arr1, arr2):\n",
    "    return np.linalg.norm(arr2 - arr1)"
   ]
  },
  {
   "cell_type": "code",
   "execution_count": 70,
   "metadata": {},
   "outputs": [
    {
     "name": "stdout",
     "output_type": "stream",
     "text": [
      "Test passed\n"
     ]
    }
   ],
   "source": [
    "# TEST YOUR SOLUTION\n",
    "\n",
    "# DON'T CHANGE THIS CELL\n",
    "if np.isclose(stimulus_to_exemplar_distance(np.array([0, 0]), np.array([1, 1])), np.sqrt(2)):\n",
    "    print('Test passed')\n",
    "else:\n",
    "    print('Test failed')"
   ]
  },
  {
   "cell_type": "markdown",
   "metadata": {},
   "source": [
    "**Exercise:** Use the function above to compute the distance (called `distance`) between the first new test stimulus (\"Test1\") and the first exemplar of category A."
   ]
  },
  {
   "cell_type": "code",
   "execution_count": 71,
   "metadata": {},
   "outputs": [],
   "source": [
    "# Your code here\n",
    "vals = test_data[test_data['stimulus'] == \"Test1\"].values\n",
    "first_stim = [vals[-1][1],vals[-1][2]]\n",
    "\n",
    "distance = stimulus_to_exemplar_distance(first_stim, category_A_exemplars[0])"
   ]
  },
  {
   "cell_type": "code",
   "execution_count": 72,
   "metadata": {},
   "outputs": [
    {
     "name": "stdout",
     "output_type": "stream",
     "text": [
      "Test passed\n"
     ]
    }
   ],
   "source": [
    "# TEST YOUR SOLUTION\n",
    "\n",
    "# DON'T CHANGE THIS CELL\n",
    "if np.isclose(distance, 0.07071067811865474):\n",
    "    print('Test passed')\n",
    "else:\n",
    "    print('Test failed')"
   ]
  },
  {
   "cell_type": "markdown",
   "metadata": {},
   "source": [
    "As we did with the prototype model, we can convert distances to similarity using Shepard's law: $e^{-d(z, x)}$.\n",
    "\n",
    "**Exercise:** Create a function called `stimulus_to_exemplar_similarity` that takes in a stimulus and exemplar as two numpy arrays and returns a similarity value. Make sure to reuse your `stimulus_to_exemplar_distance` function. "
   ]
  },
  {
   "cell_type": "code",
   "execution_count": 73,
   "metadata": {},
   "outputs": [],
   "source": [
    "# Your code here\n",
    "\n",
    "def stimulus_to_exemplar_similarity(arr1, arr2):\n",
    "    dist = stimulus_to_exemplar_distance(arr1, arr2)\n",
    "    return np.exp(-dist)"
   ]
  },
  {
   "cell_type": "code",
   "execution_count": 74,
   "metadata": {},
   "outputs": [
    {
     "name": "stdout",
     "output_type": "stream",
     "text": [
      "Test passed\n"
     ]
    }
   ],
   "source": [
    "# TEST YOUR SOLUTION\n",
    "\n",
    "# DON'T CHANGE THIS CELL\n",
    "if np.isclose(stimulus_to_exemplar_similarity(np.array([0, 0]), np.array([1, 1])), 0.2431167344342142):\n",
    "    print('Test passed')\n",
    "else:\n",
    "    print('Test failed')"
   ]
  },
  {
   "cell_type": "markdown",
   "metadata": {},
   "source": [
    "**Exercise:** Use the function above to compute the similarity (called `similarity`) between the first new test stimulus (\"Test1\") and the first exemplar of category A."
   ]
  },
  {
   "cell_type": "code",
   "execution_count": 75,
   "metadata": {},
   "outputs": [],
   "source": [
    "# Your code here\n",
    "\n",
    "similarity = stimulus_to_exemplar_similarity(first_stim, category_A_exemplars[0])"
   ]
  },
  {
   "cell_type": "code",
   "execution_count": 76,
   "metadata": {},
   "outputs": [
    {
     "name": "stdout",
     "output_type": "stream",
     "text": [
      "Test passed\n"
     ]
    }
   ],
   "source": [
    "# TEST YOUR SOLUTION\n",
    "\n",
    "# DON'T CHANGE THIS CELL\n",
    "if np.isclose(similarity, 0.9317314234233945):\n",
    "    print('Test passed')\n",
    "else:\n",
    "    print('Test failed')"
   ]
  },
  {
   "cell_type": "markdown",
   "metadata": {},
   "source": [
    "In the prototype model, we could assign category membership by simply comparing (1) the similarity $s(z, P_A)$ of the new stimulus to prototype A to (2) the similarity $s(z, P_B)$ of the new stimulus to prototype B. That is, we assign the new stimulus to the category with higher stimulus-to-prototype similarity.\n",
    "\n",
    "In the case of exemplar theory, we need to define what it means for a new stimulus to be \"similar to a category\". For example, is the similarity to the nearest exemplar within that category? Traditionally, in exemplar models, it is defined as the sum of the similarity to all exemplars within a category.\n",
    "\n",
    "**Exercise:** Discuss with your partner why other definitions might also make for reasonable hypotheses. Which do you think is the best guess?\n",
    "\n",
    "Formally, given the example of category A, we define this similarity as $s(z, A) = \\sum_{i=1}^{n_A} e^{-d(z, x_i^A)}$ where $x_i^A$ is the $i$-th exemplar in category $A$ and $n_A$ is the number of exemplars in category $A$.\n",
    "\n",
    "**Exercise:** Create a function called `similarity_to_category_exemplars` that takes in a stimulus as a numpy array and a set of exemplars as a numpy array (matrix) and returns e.g., $s(z, A)$."
   ]
  },
  {
   "cell_type": "code",
   "execution_count": 77,
   "metadata": {},
   "outputs": [],
   "source": [
    "# Your code here\n",
    "\n",
    "def similarity_to_category_exemplars(arr1, exemplars):\n",
    "    res = 0\n",
    "    for i in range(len(exemplars)):\n",
    "        res += stimulus_to_exemplar_similarity(arr1, exemplars[i])\n",
    "    return res"
   ]
  },
  {
   "cell_type": "code",
   "execution_count": 78,
   "metadata": {},
   "outputs": [
    {
     "name": "stdout",
     "output_type": "stream",
     "text": [
      "Test passed\n"
     ]
    }
   ],
   "source": [
    "# TEST YOUR SOLUTION\n",
    "\n",
    "# DON'T CHANGE THIS CELL\n",
    "if np.isclose(similarity_to_category_exemplars(np.array([0, 0]), category_A_exemplars), 3.062497409891418):\n",
    "    print('Test passed')\n",
    "else:\n",
    "    print('Test failed')"
   ]
  },
  {
   "cell_type": "markdown",
   "metadata": {},
   "source": [
    "We now have enough to define a basic exemplar model as:\n",
    "\n",
    "$$\\text{behavior (choose A or not)} = \\text{categorize}(z) = \\begin{cases} \n",
    "1 & \\text{if } s(z, A) > s(z, B) \\\\ \n",
    "0 & \\text{if } s(z, B) > s(z, A)\n",
    "\\end{cases}$$\n",
    "\n",
    "**Exercise:** Create a function called `categorize` that takes in a single stimulus as a numpy array along with two sets of category exemplars (each is a matrix), and returns a category label as a string (either `\"A\"` or `\"B\"`) for convenience."
   ]
  },
  {
   "cell_type": "code",
   "execution_count": 79,
   "metadata": {},
   "outputs": [],
   "source": [
    "# Your code here\n",
    "\n",
    "def categorize(arr, cat_a, cat_b):\n",
    "    return \"A\" if similarity_to_category_exemplars(arr, cat_a) > similarity_to_category_exemplars(arr, cat_b) else \"B\""
   ]
  },
  {
   "cell_type": "code",
   "execution_count": 80,
   "metadata": {},
   "outputs": [
    {
     "name": "stdout",
     "output_type": "stream",
     "text": [
      "Test passed\n"
     ]
    }
   ],
   "source": [
    "# TEST YOUR SOLUTION\n",
    "\n",
    "# DON'T CHANGE THIS CELL\n",
    "if categorize(np.array([0, 0]), category_A_exemplars, category_B_exemplars) == 'A':\n",
    "    print('Test passed')\n",
    "else:\n",
    "    print('Test failed')"
   ]
  },
  {
   "cell_type": "markdown",
   "metadata": {},
   "source": [
    "We are now in a position to assess the accuracy of the exemplar model in predicting the categorizations of a single participant.\n",
    "\n",
    "**Exercise:** Compute predicted categorizations of each of the test stimuli using the exemplar model and compare them to the empirical categorizations. Store the proportion correctly predicted in a variable called `accuracy`."
   ]
  },
  {
   "cell_type": "code",
   "execution_count": 81,
   "metadata": {},
   "outputs": [],
   "source": [
    "# Your code here\n",
    "\n",
    "result = 0\n",
    "\n",
    "for _, row in test_data.iterrows():\n",
    "    size, color, categorization = row[\"size\"], row[\"color\"], row[\"categorization\"]\n",
    "    result += 1 if categorize([size, color], category_A_exemplars, category_B_exemplars) == categorization else 0\n",
    "\n",
    "accuracy = result/len(test_data[\"size\"])"
   ]
  },
  {
   "cell_type": "code",
   "execution_count": 82,
   "metadata": {},
   "outputs": [
    {
     "name": "stdout",
     "output_type": "stream",
     "text": [
      "Test passed\n"
     ]
    }
   ],
   "source": [
    "# TEST YOUR SOLUTION\n",
    "\n",
    "# DON'T CHANGE THIS CELL\n",
    "if np.isclose(accuracy, 0.8888888888888888):\n",
    "    print('Test passed')\n",
    "else:\n",
    "    print('Test failed')"
   ]
  },
  {
   "cell_type": "markdown",
   "metadata": {},
   "source": [
    "The accuracy in predicting categorizations for this participant was ~88%. That's 9/10. Not bad!\n",
    "\n",
    "Recall that accuracy for the prototype model was ~78%. At least for this participant, the exemplar model appears to make better predictions.\n",
    "\n",
    "Now let's look at multiple participants. Recall that the `prop_chose_A` column in `test_props` below gives the proportion that multiple participants chose A over B. The task of our model is to predict these proportions."
   ]
  },
  {
   "cell_type": "code",
   "execution_count": 83,
   "metadata": {},
   "outputs": [
    {
     "data": {
      "text/html": [
       "<div>\n",
       "<style scoped>\n",
       "    .dataframe tbody tr th:only-of-type {\n",
       "        vertical-align: middle;\n",
       "    }\n",
       "\n",
       "    .dataframe tbody tr th {\n",
       "        vertical-align: top;\n",
       "    }\n",
       "\n",
       "    .dataframe thead th {\n",
       "        text-align: right;\n",
       "    }\n",
       "</style>\n",
       "<table border=\"1\" class=\"dataframe\">\n",
       "  <thead>\n",
       "    <tr style=\"text-align: right;\">\n",
       "      <th></th>\n",
       "      <th>stimulus</th>\n",
       "      <th>size</th>\n",
       "      <th>color</th>\n",
       "      <th>prop_chose_A</th>\n",
       "    </tr>\n",
       "  </thead>\n",
       "  <tbody>\n",
       "    <tr>\n",
       "      <th>0</th>\n",
       "      <td>Test1</td>\n",
       "      <td>0.30</td>\n",
       "      <td>0.45</td>\n",
       "      <td>0.85</td>\n",
       "    </tr>\n",
       "    <tr>\n",
       "      <th>1</th>\n",
       "      <td>Test2</td>\n",
       "      <td>0.60</td>\n",
       "      <td>0.55</td>\n",
       "      <td>0.10</td>\n",
       "    </tr>\n",
       "    <tr>\n",
       "      <th>2</th>\n",
       "      <td>Test3</td>\n",
       "      <td>0.45</td>\n",
       "      <td>0.50</td>\n",
       "      <td>0.40</td>\n",
       "    </tr>\n",
       "    <tr>\n",
       "      <th>3</th>\n",
       "      <td>Test4</td>\n",
       "      <td>0.35</td>\n",
       "      <td>0.35</td>\n",
       "      <td>0.70</td>\n",
       "    </tr>\n",
       "    <tr>\n",
       "      <th>4</th>\n",
       "      <td>Test5</td>\n",
       "      <td>0.55</td>\n",
       "      <td>0.35</td>\n",
       "      <td>0.15</td>\n",
       "    </tr>\n",
       "    <tr>\n",
       "      <th>5</th>\n",
       "      <td>Test6</td>\n",
       "      <td>0.40</td>\n",
       "      <td>0.60</td>\n",
       "      <td>0.30</td>\n",
       "    </tr>\n",
       "    <tr>\n",
       "      <th>6</th>\n",
       "      <td>Test7</td>\n",
       "      <td>0.25</td>\n",
       "      <td>0.55</td>\n",
       "      <td>0.60</td>\n",
       "    </tr>\n",
       "    <tr>\n",
       "      <th>7</th>\n",
       "      <td>Test8</td>\n",
       "      <td>0.50</td>\n",
       "      <td>0.40</td>\n",
       "      <td>0.25</td>\n",
       "    </tr>\n",
       "    <tr>\n",
       "      <th>8</th>\n",
       "      <td>Test9</td>\n",
       "      <td>0.35</td>\n",
       "      <td>0.60</td>\n",
       "      <td>0.50</td>\n",
       "    </tr>\n",
       "  </tbody>\n",
       "</table>\n",
       "</div>"
      ],
      "text/plain": [
       "  stimulus  size  color  prop_chose_A\n",
       "0    Test1  0.30   0.45          0.85\n",
       "1    Test2  0.60   0.55          0.10\n",
       "2    Test3  0.45   0.50          0.40\n",
       "3    Test4  0.35   0.35          0.70\n",
       "4    Test5  0.55   0.35          0.15\n",
       "5    Test6  0.40   0.60          0.30\n",
       "6    Test7  0.25   0.55          0.60\n",
       "7    Test8  0.50   0.40          0.25\n",
       "8    Test9  0.35   0.60          0.50"
      ]
     },
     "execution_count": 83,
     "metadata": {},
     "output_type": "execute_result"
    }
   ],
   "source": [
    "test_props = load_test_phase_data(with_proportions=True)\n",
    "test_props"
   ]
  },
  {
   "cell_type": "markdown",
   "metadata": {},
   "source": [
    "**Exercise:** Think back to the similarity-choice rule from the previous lab. Use this rule to create a function called `categorize_prob` that takes in a single stimulus as a numpy array along with two sets of category exemplars (each is a matrix), and returns the probability $P(\\text{categorize } z \\text{ as A})$ of assigning category A to the single stimulus $z$."
   ]
  },
  {
   "cell_type": "code",
   "execution_count": 84,
   "metadata": {},
   "outputs": [],
   "source": [
    "# Your code here\n",
    "\n",
    "def categorize_prob(stim, cat_a, cat_b):\n",
    "    sim_a = similarity_to_category_exemplars(stim, cat_a)\n",
    "    sim_b = similarity_to_category_exemplars(stim, cat_b)\n",
    "    return sim_a / (sim_a + sim_b)"
   ]
  },
  {
   "cell_type": "code",
   "execution_count": 85,
   "metadata": {},
   "outputs": [
    {
     "name": "stdout",
     "output_type": "stream",
     "text": [
      "Test passed\n"
     ]
    }
   ],
   "source": [
    "# TEST YOUR SOLUTION\n",
    "\n",
    "# DON'T CHANGE THIS CELL\n",
    "if np.isclose(categorize_prob(np.array([0, 0]), category_A_exemplars, category_B_exemplars), 0.5528057658479283):\n",
    "    print('Test passed')\n",
    "else:\n",
    "    print('Test failed')"
   ]
  },
  {
   "cell_type": "markdown",
   "metadata": {},
   "source": [
    "Now let's apply this function to get predictions for all test stimuli.\n",
    "\n",
    "**Exercise:** Compute $P(\\text{categorize } z \\text{ as A})$ for all test stimuli and store the result in a numpy array called `predictions`. Also store the empirical proportions in an array called `empirical`."
   ]
  },
  {
   "cell_type": "code",
   "execution_count": 86,
   "metadata": {},
   "outputs": [],
   "source": [
    "# Your code here\n",
    "\n",
    "predictions = []\n",
    "\n",
    "for _, row in test_data.iterrows():\n",
    "    size, color = row[\"size\"], row[\"color\"]\n",
    "    predictions.append(categorize_prob(np.array([size,color]), category_A_exemplars, category_B_exemplars))\n",
    "    \n",
    "empirical = test_props['prop_chose_A'].values"
   ]
  },
  {
   "cell_type": "code",
   "execution_count": 87,
   "metadata": {},
   "outputs": [
    {
     "name": "stdout",
     "output_type": "stream",
     "text": [
      "Test passed\n"
     ]
    }
   ],
   "source": [
    "# TEST YOUR SOLUTION\n",
    "\n",
    "# DON'T CHANGE THIS CELL\n",
    "if np.isclose(np.mean(predictions), 0.4891573776875513) and \\\n",
    "   np.isclose(np.mean(empirical), 0.42777777777777776):\n",
    "    print('Test passed')\n",
    "else:\n",
    "    print('Test failed')"
   ]
  },
  {
   "cell_type": "markdown",
   "metadata": {},
   "source": [
    "We compare the predicted proportions of the model with the empirical proportions using a measure of error such as mean squared error (i.e., mean squared difference). Lower values / errors indicate better correpondence between the predicted and empirical proportions.\n",
    "\n",
    "**Exercise:** Create a function called `mse` that takes in an array of predicted proportions and an array of empirical proportions and returns the mean squared error."
   ]
  },
  {
   "cell_type": "code",
   "execution_count": 88,
   "metadata": {},
   "outputs": [],
   "source": [
    "# Your code here\n",
    "\n",
    "def mse(predicted, empirical):\n",
    "    error = predicted - empirical\n",
    "    return np.mean(np.pow(error, 2))"
   ]
  },
  {
   "cell_type": "code",
   "execution_count": 89,
   "metadata": {},
   "outputs": [
    {
     "name": "stdout",
     "output_type": "stream",
     "text": [
      "Test passed\n"
     ]
    }
   ],
   "source": [
    "# TEST YOUR SOLUTION\n",
    "\n",
    "# DON'T CHANGE THIS CELL\n",
    "if np.isclose(mse(np.array([1, 2, 3]), np.array([1, 2, 3])), 0.0):\n",
    "    print('Test passed')\n",
    "else:\n",
    "    print('Test failed')"
   ]
  },
  {
   "cell_type": "markdown",
   "metadata": {},
   "source": [
    "Let's look at the MSE for our current set of predictions:"
   ]
  },
  {
   "cell_type": "code",
   "execution_count": 90,
   "metadata": {},
   "outputs": [
    {
     "data": {
      "text/plain": [
       "np.float64(0.054497886581867466)"
      ]
     },
     "execution_count": 90,
     "metadata": {},
     "output_type": "execute_result"
    }
   ],
   "source": [
    "mse(predictions, empirical)"
   ]
  },
  {
   "cell_type": "markdown",
   "metadata": {},
   "source": [
    "To understand whether or not this error is a good value or not, let's manually compare the empirical and predicted proportions: "
   ]
  },
  {
   "cell_type": "code",
   "execution_count": 91,
   "metadata": {},
   "outputs": [
    {
     "name": "stdout",
     "output_type": "stream",
     "text": [
      "[0.85 0.1  0.4  0.7  0.15 0.3  0.6  0.25 0.5 ]\n",
      "[np.float64(0.5162322241627367), np.float64(0.45991345457682087), np.float64(0.4726162970527469), np.float64(0.5362504731353684), np.float64(0.4977417996774857), np.float64(0.4606513748293824), np.float64(0.4963265897826771), np.float64(0.4930107455238622), np.float64(0.46967344044688136)]\n"
     ]
    }
   ],
   "source": [
    "print(empirical)\n",
    "print(predictions)"
   ]
  },
  {
   "cell_type": "markdown",
   "metadata": {},
   "source": [
    "Notice that the predictions are all close to 0.5. The first prediction is still correct in some sense, since both .85 and .51 favor category A, but the exact proportion isn't much like people. This is an issue since we want our predicted proportions to match the degree to which people think an exemplar is typical of a category.\n",
    "\n",
    "Part of the reason for the predictions being off is simply due to the scaling of the similarities. That is, `similarity = exp(-distance)` can be thought of as `similarity = exp(-c * distance)` where `c` is (currently) 1. Implicitly, `c` scales the psychological distance before converting to similarity. Recall that we once fit this parameter early on when discussing Shepard's law.\n",
    "\n",
    "To see why this parameter matters, let's look at some examples:\n",
    "\n",
    "When `c = 1`:\n",
    "- distance = 0.2  →  similarity = exp(-0.2) ≈ 0.82\n",
    "- distance = 0.4  →  similarity = exp(-0.4) ≈ 0.67\n",
    "\n",
    "When `c = 5`:\n",
    "- distance = 0.2  →  similarity = exp(-1.0) ≈ 0.37\n",
    "- distance = 0.4  →  similarity = exp(-2.0) ≈ 0.14\n",
    "\n",
    "That is, when `c` is higher, the same distances lead to **more differentiated similarities** (0.82 - 0.67 < 0.37 - 0.14).\n",
    "\n",
    "These more differentiated similarities in turn affect the final probabilities through the choice rule: `P(A) = sim_A / (sim_A + sim_B)`. In particular, larger values of `c` pull the probabilities away from 0.5:\n",
    "\n",
    "When `c = 1`:\n",
    "- sim_A = 0.82, sim_B = 0.67\n",
    "- P(A) = 0.82 / (0.82 + 0.67) ≈ 0.55\n",
    "\n",
    "When `c = 5`:\n",
    "- sim_A = 0.37, sim_B = 0.14\n",
    "- P(A) = 0.37 / (0.37 + 0.14) ≈ 0.73\n",
    "\n",
    "The visualization below shows what happens to the predicted proportions for the test stimuli as `c` varies (values of 1, 5, 10,  and 50)."
   ]
  },
  {
   "cell_type": "code",
   "execution_count": 92,
   "metadata": {},
   "outputs": [
    {
     "data": {
      "text/plain": [
       "Text(0.5, 1.0, 'Probability of choosing A as a function of c')"
      ]
     },
     "execution_count": 92,
     "metadata": {},
     "output_type": "execute_result"
    },
    {
     "data": {
      "image/png": "[encoded data removed]",
      "text/plain": [
       "<Figure size 640x480 with 1 Axes>"
      ]
     },
     "metadata": {},
     "output_type": "display_data"
    }
   ],
   "source": [
    "for c in [1, 5, 10, 50]:\n",
    "    preds = predict_exemplar_props(learning_stims, test_data, c=c)\n",
    "    plt.plot(preds, label=f'c={c}')\n",
    "plt.xticks(range(len(test_data)), test_data['stimulus'].values)\n",
    "plt.xlabel('Stimulus')\n",
    "plt.ylabel('Probability of choosing A')\n",
    "plt.legend()\n",
    "plt.title('Probability of choosing A as a function of c')"
   ]
  },
  {
   "cell_type": "markdown",
   "metadata": {},
   "source": [
    "The $c$ parameter is an example of a **model parameter** that can we vary freely. In exemplar models, this parameter is called the **sensitivity parameter**. We can adjust such parameters to better predict behavior. In doing so, it is often said that such as parameters are **\"fitted to the data\"**.\n",
    "\n",
    "A preloaded function called `predict_exemplar_props` is provided that can be used to make exemplar model predictions with a given $c$ parameter using a call like: `predict_exemplar_props(learning_stims, test_data, c=1)`.\n",
    "\n",
    "**Exercise:** Evaluate values of $c$ in the range `np.arange(1, 101, 1)`. Store the best $c$ parameter in `best_c` and the lowest MSE value in `lowest_mse`."
   ]
  },
  {
   "cell_type": "code",
   "execution_count": 93,
   "metadata": {},
   "outputs": [],
   "source": [
    "# Your code here\n",
    "lowest_mse = np.inf\n",
    "best_c = 0\n",
    "for c in np.arange(1, 101, 1):\n",
    "    predictions = predict_exemplar_props(learning_stims, test_data, c)\n",
    "    current_mse = mse(predictions, empirical)\n",
    "    if current_mse < lowest_mse:\n",
    "        best_c = c\n",
    "        lowest_mse = current_mse"
   ]
  },
  {
   "cell_type": "code",
   "execution_count": 94,
   "metadata": {},
   "outputs": [
    {
     "name": "stdout",
     "output_type": "stream",
     "text": [
      "Test passed\n"
     ]
    }
   ],
   "source": [
    "# TEST YOUR SOLUTION\n",
    "\n",
    "# DON'T CHANGE THIS CELL\n",
    "if np.isclose(best_c, 8) and np.isclose(lowest_mse, 0.030768310957434566):\n",
    "    print('Test passed')\n",
    "else:\n",
    "    print('Test failed')"
   ]
  },
  {
   "cell_type": "markdown",
   "metadata": {},
   "source": [
    "Let's look at the new lowest MSE value:"
   ]
  },
  {
   "cell_type": "code",
   "execution_count": 95,
   "metadata": {},
   "outputs": [
    {
     "data": {
      "text/plain": [
       "np.float64(0.030768310957434566)"
      ]
     },
     "execution_count": 95,
     "metadata": {},
     "output_type": "execute_result"
    }
   ],
   "source": [
    "lowest_mse"
   ]
  },
  {
   "cell_type": "markdown",
   "metadata": {},
   "source": [
    "Note that this value is less than the error we computed when $c$ had been defaulted to 1.\n",
    "\n",
    "We can also look at the new predicted proportions and see that they look better:"
   ]
  },
  {
   "cell_type": "code",
   "execution_count": 96,
   "metadata": {},
   "outputs": [
    {
     "data": {
      "text/plain": [
       "array([0.63344651, 0.23352515, 0.31713519, 0.75886502, 0.46274454,\n",
       "       0.23256291, 0.4695144 , 0.43368329, 0.27923814])"
      ]
     },
     "execution_count": 96,
     "metadata": {},
     "output_type": "execute_result"
    }
   ],
   "source": [
    "predict_exemplar_props(learning_stims, test_data, c=8)"
   ]
  },
  {
   "cell_type": "markdown",
   "metadata": {},
   "source": [
    "A similar parameter can be fitted in a prototype model, similarily included in the similarity calculations (i.e., to each prototype).\n",
    "\n",
    "A preloaded function called `predict_prototype_props` is provided that can be used to make prototype model predictions with a given $c$ parameter using a call like: `predict_prototype_props(learning_stims, test_data, c=1)`.\n",
    "\n",
    "**Exercise:** Evaluate values of $c$ in the range `np.arange(1, 101, 1)`. Store the best $c$ parameter in `best_c_pt` and the lowest MSE value in `lowest_mse_pt`."
   ]
  },
  {
   "cell_type": "code",
   "execution_count": 97,
   "metadata": {},
   "outputs": [],
   "source": [
    "# Your code here\n",
    "\n",
    "lowest_mse_pt = np.inf\n",
    "best_c_pt = 0\n",
    "\n",
    "for c in np.arange(1, 101, 1):\n",
    "    predictions = predict_prototype_props(learning_stims, test_data, c)\n",
    "    current_mse = mse(predictions, empirical)\n",
    "    if current_mse < lowest_mse_pt:\n",
    "        best_c_pt = c\n",
    "        lowest_mse_pt = current_mse"
   ]
  },
  {
   "cell_type": "code",
   "execution_count": 98,
   "metadata": {},
   "outputs": [
    {
     "name": "stdout",
     "output_type": "stream",
     "text": [
      "Test passed\n"
     ]
    }
   ],
   "source": [
    "# TEST YOUR SOLUTION\n",
    "\n",
    "# DON'T CHANGE THIS CELL\n",
    "if np.isclose(best_c_pt, 6) and np.isclose(lowest_mse_pt, 0.035680009623367176):\n",
    "    print('Test passed')\n",
    "else:\n",
    "    print('Test failed')"
   ]
  },
  {
   "cell_type": "markdown",
   "metadata": {},
   "source": [
    "We can examine the best MSE for the prototype model now as well:"
   ]
  },
  {
   "cell_type": "code",
   "execution_count": 99,
   "metadata": {},
   "outputs": [
    {
     "data": {
      "text/plain": [
       "np.float64(0.035680009623367176)"
      ]
     },
     "execution_count": 99,
     "metadata": {},
     "output_type": "execute_result"
    }
   ],
   "source": [
    "lowest_mse_pt"
   ]
  },
  {
   "cell_type": "markdown",
   "metadata": {},
   "source": [
    "**Exercise:** Based on the MSE scores for both models, **discuss with your partner** which model appears to better fit human categorization behavior in the data provided. Does the evidence agree with your initial prediction of the best model? Is the evidence enough to convince you that one of the models is best?\n",
    "\n",
    "The fact that both models make decent and comparable predictions, even if one seems \"better\", illustrates the problem that **different mathematical models can explain the same behavior**. This is sometimes called the **identifiability problem**: which model is the right one if they both explain behavior? This apparent comparability is despite the fact that one of the models is based on abstraction (computing summary prototyptes) while the other is based on memory: two seemingly very different mechanisms. As a result, researchers try their best to create conditions that will **differentiate** two theories / models.\n",
    "\n",
    "Researchers eventually discovered that only exemplar models can predict behavior well when categories are not as nicely clustered as in our example data above. Nonethess, comparison of these models (and many others!) is still an active area of research, and a true winner has not yet been established.\n",
    "\n",
    "**Exercise:** Discuss with your partner an idea for your own model you could test. Could you use a different measure of central tendency than a standard prototype model? Could you use a different distance metric? Could you combine the two models somehow?"
   ]
  }
 ],
 "metadata": {
  "kernelspec": {
   "display_name": ".venv",
   "language": "python",
   "name": "python3"
  },
  "language_info": {
   "codemirror_mode": {
    "name": "ipython",
    "version": 3
   },
   "file_extension": ".py",
   "mimetype": "text/x-python",
   "name": "python",
   "nbconvert_exporter": "python",
   "pygments_lexer": "ipython3",
   "version": "3.9.21"
  }
 },
 "nbformat": 4,
 "nbformat_minor": 2
}
