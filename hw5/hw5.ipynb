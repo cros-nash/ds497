{
 "cells": [
  {
   "cell_type": "markdown",
   "metadata": {},
   "source": [
    "# Homework 5: Psychophysics"
   ]
  },
  {
   "cell_type": "code",
   "execution_count": 1,
   "metadata": {},
   "outputs": [],
   "source": [
    "# You must run this cell before starting your assignment\n",
    "\n",
    "!pip install -q otter-grader\n",
    "\n",
    "import otter\n",
    "grader = otter.Notebook(\"hw5.ipynb\")\n",
    "\n",
    "import numpy as np\n",
    "import pandas as pd\n",
    "import matplotlib.pyplot as plt"
   ]
  },
  {
   "cell_type": "markdown",
   "metadata": {},
   "source": [
    "### Investigating the Perception of Size\n",
    "\n",
    "The data loaded below corresponds to a study investigating human visual perception of size differences in polygons. Ten participants were shown pairs of polygons (triangles, pentagons, heptagons, and nonagons) of different sizes on a screen and asked to identify the larger shape by pressing designated keys on a keyboard.\n",
    "\n",
    "Data Columns:\n",
    "- `id` - ID of the individual participant (10 total)\n",
    "- `polygon` - within-subjects polygon condition (# of sides: 3, 5, 7, or 9)\n",
    "- `R` - Reference stimulus\n",
    "- `Rc` - Comparison stimulus\n",
    "- `correct` - binary: whether (1) or not (0) R and Rc were correctly discriminated\n",
    "\n",
    "The experiment made use of a stimulus comparison procedure called the **staircase method**, which involves adjusting the comparison polygon size based on the participant's responses. In particular, the comparison polygons in the experiment started at twice the size of their corresponding reference polygons. Each time the participant correctly responded that the polygons were different, the comparison size would be decreased in steps of 10%. If they responded incorrectly, the size would instead be increased.\n",
    "\n",
    "Trials corresponding to just noticeable differences (JND) are those where **reversals** occurred: when a detectable increase in size occurs as the result of an incorrect response in the previous trial (i.e., when the correct column shows 1 but showed 0 in the previous column). There are exactly two such trials for every combination of participant and polygon condition. Taking the average of `Rc` for these two trials will provide an estimate of the size of the comparison shape needed to allow a detection of a difference.\n",
    "\n",
    "Within each participant and polygon condition, the rows of the data correspond to the exact order of trials in the original experiment as described in the staircase procedure above."
   ]
  },
  {
   "cell_type": "code",
   "execution_count": 2,
   "metadata": {},
   "outputs": [
    {
     "data": {
      "text/html": [
       "<div>\n",
       "<style scoped>\n",
       "    .dataframe tbody tr th:only-of-type {\n",
       "        vertical-align: middle;\n",
       "    }\n",
       "\n",
       "    .dataframe tbody tr th {\n",
       "        vertical-align: top;\n",
       "    }\n",
       "\n",
       "    .dataframe thead th {\n",
       "        text-align: right;\n",
       "    }\n",
       "</style>\n",
       "<table border=\"1\" class=\"dataframe\">\n",
       "  <thead>\n",
       "    <tr style=\"text-align: right;\">\n",
       "      <th></th>\n",
       "      <th>id</th>\n",
       "      <th>polygon</th>\n",
       "      <th>R</th>\n",
       "      <th>Rc</th>\n",
       "      <th>correct</th>\n",
       "    </tr>\n",
       "  </thead>\n",
       "  <tbody>\n",
       "    <tr>\n",
       "      <th>0</th>\n",
       "      <td>1</td>\n",
       "      <td>9</td>\n",
       "      <td>5.5</td>\n",
       "      <td>11.00</td>\n",
       "      <td>1</td>\n",
       "    </tr>\n",
       "    <tr>\n",
       "      <th>1</th>\n",
       "      <td>1</td>\n",
       "      <td>9</td>\n",
       "      <td>5.5</td>\n",
       "      <td>10.45</td>\n",
       "      <td>1</td>\n",
       "    </tr>\n",
       "    <tr>\n",
       "      <th>2</th>\n",
       "      <td>1</td>\n",
       "      <td>9</td>\n",
       "      <td>5.5</td>\n",
       "      <td>9.90</td>\n",
       "      <td>1</td>\n",
       "    </tr>\n",
       "    <tr>\n",
       "      <th>3</th>\n",
       "      <td>1</td>\n",
       "      <td>9</td>\n",
       "      <td>5.5</td>\n",
       "      <td>9.35</td>\n",
       "      <td>1</td>\n",
       "    </tr>\n",
       "    <tr>\n",
       "      <th>4</th>\n",
       "      <td>1</td>\n",
       "      <td>9</td>\n",
       "      <td>5.5</td>\n",
       "      <td>8.80</td>\n",
       "      <td>1</td>\n",
       "    </tr>\n",
       "    <tr>\n",
       "      <th>...</th>\n",
       "      <td>...</td>\n",
       "      <td>...</td>\n",
       "      <td>...</td>\n",
       "      <td>...</td>\n",
       "      <td>...</td>\n",
       "    </tr>\n",
       "    <tr>\n",
       "      <th>3156</th>\n",
       "      <td>10</td>\n",
       "      <td>9</td>\n",
       "      <td>2.0</td>\n",
       "      <td>2.00</td>\n",
       "      <td>0</td>\n",
       "    </tr>\n",
       "    <tr>\n",
       "      <th>3157</th>\n",
       "      <td>10</td>\n",
       "      <td>9</td>\n",
       "      <td>2.0</td>\n",
       "      <td>2.20</td>\n",
       "      <td>1</td>\n",
       "    </tr>\n",
       "    <tr>\n",
       "      <th>3158</th>\n",
       "      <td>10</td>\n",
       "      <td>9</td>\n",
       "      <td>2.0</td>\n",
       "      <td>2.00</td>\n",
       "      <td>1</td>\n",
       "    </tr>\n",
       "    <tr>\n",
       "      <th>3159</th>\n",
       "      <td>10</td>\n",
       "      <td>9</td>\n",
       "      <td>2.0</td>\n",
       "      <td>2.00</td>\n",
       "      <td>0</td>\n",
       "    </tr>\n",
       "    <tr>\n",
       "      <th>3160</th>\n",
       "      <td>10</td>\n",
       "      <td>9</td>\n",
       "      <td>2.0</td>\n",
       "      <td>2.20</td>\n",
       "      <td>1</td>\n",
       "    </tr>\n",
       "  </tbody>\n",
       "</table>\n",
       "<p>3161 rows × 5 columns</p>\n",
       "</div>"
      ],
      "text/plain": [
       "      id  polygon    R     Rc  correct\n",
       "0      1        9  5.5  11.00        1\n",
       "1      1        9  5.5  10.45        1\n",
       "2      1        9  5.5   9.90        1\n",
       "3      1        9  5.5   9.35        1\n",
       "4      1        9  5.5   8.80        1\n",
       "...   ..      ...  ...    ...      ...\n",
       "3156  10        9  2.0   2.00        0\n",
       "3157  10        9  2.0   2.20        1\n",
       "3158  10        9  2.0   2.00        1\n",
       "3159  10        9  2.0   2.00        0\n",
       "3160  10        9  2.0   2.20        1\n",
       "\n",
       "[3161 rows x 5 columns]"
      ]
     },
     "execution_count": 2,
     "metadata": {},
     "output_type": "execute_result"
    }
   ],
   "source": [
    "df = pd.read_csv('jnd_data.csv')\n",
    "df"
   ]
  },
  {
   "cell_type": "markdown",
   "metadata": {
    "deletable": false,
    "editable": false
   },
   "source": [
    "**Question 1**\n",
    "\n",
    "For every participant and polygon condition, calculate Weber's constant $k$ for each of the 5 unique reference stimulus sizes (R). Take the average of these to get an overall estimate of $k$ for each participant and polygon condition.\n",
    "\n",
    "Store your results in a table called `k_df` with columns `id`, `polygon` and `k`, in that order. There should be exactly 40 rows."
   ]
  },
  {
   "cell_type": "code",
   "execution_count": null,
   "metadata": {
    "tags": [
     "otter_answer_cell"
    ]
   },
   "outputs": [],
   "source": [
    "# Your code here\n",
    "\n",
    "\n",
    "# Do not edit this code!\n",
    "k_df = k_df.sort_values(['id', 'polygon']).reset_index(drop=True)\n",
    "k_df"
   ]
  },
  {
   "cell_type": "code",
   "execution_count": null,
   "metadata": {
    "deletable": false,
    "editable": false
   },
   "outputs": [],
   "source": [
    "grader.check(\"q1\")"
   ]
  },
  {
   "cell_type": "markdown",
   "metadata": {
    "deletable": false,
    "editable": false
   },
   "source": [
    "**Question 2**\n",
    "\n",
    "For every participant and polygon condition, use your estimated $k$ values from above to calculate 10 consecutive JNDs on the size scale (each new R value is the previous R value + the JND you had calculated for it), starting from the smallest reference R in the experiment.\n",
    "\n",
    "Store your results in a table called `f_df` with exactly 40 rows and with exactly the ordered columns:\n",
    "```python\n",
    "\"id\", \"polygon\", \"0\", \"1\", \"2\", \"3\", \"4\", \"5\", \"6\", \"7\", \"8\", \"9\", \"10\"\n",
    "```\n",
    "\n",
    "Each column represents one sensation unit. The \"0\" column always corresponds to the smallest reference R, which is the same for all participants and polygon conditions."
   ]
  },
  {
   "cell_type": "code",
   "execution_count": null,
   "metadata": {
    "tags": [
     "otter_answer_cell"
    ]
   },
   "outputs": [],
   "source": [
    "# Your code here\n",
    "\n",
    "\n",
    "# Do not edit this code!\n",
    "f_df = f_df.sort_values(['id', 'polygon']).reset_index(drop=True)\n",
    "f_df"
   ]
  },
  {
   "cell_type": "code",
   "execution_count": null,
   "metadata": {
    "deletable": false,
    "editable": false
   },
   "outputs": [],
   "source": [
    "grader.check(\"q2\")"
   ]
  },
  {
   "cell_type": "markdown",
   "metadata": {},
   "source": [
    "Run the following code below to create a Fechner-style visualization for the first row of `f_df` and make sure it looks like what you'd expect."
   ]
  },
  {
   "cell_type": "code",
   "execution_count": null,
   "metadata": {},
   "outputs": [],
   "source": [
    "# DO NOT EDIT THIS CELL\n",
    "\n",
    "plt.figure(figsize=(10, 6))\n",
    "\n",
    "row = f_df.iloc[0]\n",
    "sizes = row.index[2:]\n",
    "values = row[2:]\n",
    "plt.plot(values, sizes, marker='o', alpha=1.0, label=f'Participant {row[\"id\"]}, Polygon {row[\"polygon\"]}')\n",
    "\n",
    "plt.ylabel('Equal Sensation Units')\n",
    "plt.xlabel('Size (R)')\n",
    "plt.title('Fechner Curve for participant 1 and 3-sided polygons')\n",
    "plt.show()"
   ]
  }
 ],
 "metadata": {
  "kernelspec": {
   "display_name": ".venv",
   "language": "python",
   "name": "python3"
  },
  "language_info": {
   "codemirror_mode": {
    "name": "ipython",
    "version": 3
   },
   "file_extension": ".py",
   "mimetype": "text/x-python",
   "name": "python",
   "nbconvert_exporter": "python",
   "pygments_lexer": "ipython3",
   "version": "3.12.3"
  },
  "otter": {
   "OK_FORMAT": true,
   "tests": {
    "q1": {
     "name": "q1",
     "points": [
      3,
      15
     ],
     "suites": [
      {
       "cases": [
        {
         "code": ">>> k_df.shape == (40, 3)\nTrue",
         "hidden": false,
         "locked": false
        },
        {
         "code": ">>> bool(np.isclose(k_df['k'].mean(), 0.13725000000000004, atol=0.001))\nTrue",
         "hidden": false,
         "locked": false
        }
       ],
       "scored": true,
       "setup": "",
       "teardown": "",
       "type": "doctest"
      }
     ]
    },
    "q2": {
     "name": "q2",
     "points": [
      3,
      15
     ],
     "suites": [
      {
       "cases": [
        {
         "code": ">>> f_df.shape == (40, 13)\nTrue",
         "hidden": false,
         "locked": false
        },
        {
         "code": ">>> bool(np.isclose(f_df['4'].mean(), 0.8419962901250002, atol=0.001))\nTrue",
         "hidden": false,
         "locked": false
        }
       ],
       "scored": true,
       "setup": "",
       "teardown": "",
       "type": "doctest"
      }
     ]
    }
   }
  }
 },
 "nbformat": 4,
 "nbformat_minor": 2
}
