{
 "cells": [
  {
   "cell_type": "markdown",
   "metadata": {},
   "source": [
    "# Ratings Data & Latent Dimensions\n",
    "\n",
    "Today will be our final class focused on mental representations.\n",
    "\n",
    "- Please work in **groups of two or more**.\n",
    "- Move chairs together and discuss as you work.\n",
    "- Commit and **show an instructor your work before leaving**."
   ]
  },
  {
   "cell_type": "code",
   "execution_count": 6,
   "metadata": {},
   "outputs": [],
   "source": [
    "# Run this cell first\n",
    "import numpy as np\n",
    "import pandas as pd\n",
    "import matplotlib.pyplot as plt\n",
    "from scipy.stats import zscore\n",
    "\n",
    "from tools import *"
   ]
  },
  {
   "cell_type": "markdown",
   "metadata": {},
   "source": [
    "Previously we've been inferring spatial representations from similarity judgments. However, the information gained from such judgments can be sensitive to context. For example, stray dogs and cars, which are not very similar in general, may be thought of as more similar in contexts relating to potential danger.\n",
    "\n",
    "The most popular alternative to similarity data is **ratings** data. For example, how *dangerous* on a scale from 0 to 10 is a car? Ratings data can be seen as the continuous version of feature norms, which we discussed in the previous lab on feature representations. Thus, ratings data is even more directly related to spatial representations, such as those inferred via NMDS. You can think of each kind of rating (e.g., how dangerous) as a different dimension of the space.\n",
    "\n",
    "Researchers have used ratings for example to understand how the mind represents socially relevant information about faces, which we will explore today. The faces below are from a subset of 66 individuals/faces from the KDEF dataset (Lundqvist, D., Flykt, A., & Öhman, A., 1998). Participants rated each face on 13 different dimensions (e.g., how confident).\n",
    "\n",
    "<img src=\"selected_faces/AF01NES.JPG\" width=\"140\"/>\n",
    "<img src=\"selected_faces/AM01NES.JPG\" width=\"140\"/>\n",
    "<img src=\"selected_faces/AF02NES.JPG\" width=\"140\"/>\n",
    "<img src=\"selected_faces/AM02NES.JPG\" width=\"140\"/>\n",
    "<img src=\"selected_faces/AF03NES.JPG\" width=\"140\"/>\n",
    "<img src=\"selected_faces/AM03NES.JPG\" width=\"140\"/>\n",
    "\n",
    "**Exercise:** Discuss with your partner which face (1-6) you think people rated as most:\n",
    "- aggressive\n",
    "- attractive\n",
    "- caring\n",
    "- confident\n",
    "- dominant \n",
    "- emotionally stable\n",
    "- intelligent \n",
    "- mean \n",
    "- responsible\n",
    "- sociable \n",
    "- trustworthy \n",
    "- unhappy \n",
    "- weird\n",
    "\n",
    "Try out your answers below."
   ]
  },
  {
   "cell_type": "code",
   "execution_count": 7,
   "metadata": {},
   "outputs": [
    {
     "name": "stdout",
     "output_type": "stream",
     "text": [
      "All answers are correct! Great job!\n"
     ]
    }
   ],
   "source": [
    "# Each can be 1, 2, 3, 4, 5, or 6\n",
    "\n",
    "answers = {\n",
    "    'most_aggressive': 6,\n",
    "    'most_attractive': 1,\n",
    "    'most_caring': 1,\n",
    "    'most_confident': 1,\n",
    "    'most_dominant': 6,\n",
    "    'most_emot_stable': 1,\n",
    "    'most_intelligent': 1,\n",
    "    'most_mean': 6,\n",
    "    'most_responsible': 1,\n",
    "    'most_sociable': 1,\n",
    "    'most_trustworthy': 1,\n",
    "    'most_unhappy': 4,\n",
    "    'most_weird': 6\n",
    "}\n",
    "\n",
    "# don't change\n",
    "incorrect = check_face_answers(answers)"
   ]
  },
  {
   "cell_type": "code",
   "execution_count": 8,
   "metadata": {},
   "outputs": [
    {
     "name": "stdout",
     "output_type": "stream",
     "text": [
      "Test passed\n"
     ]
    }
   ],
   "source": [
    "# TEST YOUR SOLUTION\n",
    "\n",
    "# DON'T CHANGE THIS CELL\n",
    "if len(incorrect) == 0:\n",
    "    print('Test passed')\n",
    "else:\n",
    "    print('Test failed')"
   ]
  },
  {
   "cell_type": "markdown",
   "metadata": {},
   "source": [
    "Let's load the ratings data in the next cell.\n",
    "\n",
    "The stimulus column shows the name of the face stimulus (66 total).\n",
    "\n",
    "The remaining 13 columns provide average ratings. Each average rating is z-score normalized. That is, each column of ratings has a mean of 0 and standard deviation of 1. That means that the lowest ratings are negative numbers, and the highest ratings are positive numbers."
   ]
  },
  {
   "cell_type": "code",
   "execution_count": 9,
   "metadata": {},
   "outputs": [
    {
     "data": {
      "text/html": [
       "<div>\n",
       "<style scoped>\n",
       "    .dataframe tbody tr th:only-of-type {\n",
       "        vertical-align: middle;\n",
       "    }\n",
       "\n",
       "    .dataframe tbody tr th {\n",
       "        vertical-align: top;\n",
       "    }\n",
       "\n",
       "    .dataframe thead th {\n",
       "        text-align: right;\n",
       "    }\n",
       "</style>\n",
       "<table border=\"1\" class=\"dataframe\">\n",
       "  <thead>\n",
       "    <tr style=\"text-align: right;\">\n",
       "      <th></th>\n",
       "      <th>aggressive</th>\n",
       "      <th>attractive</th>\n",
       "      <th>caring</th>\n",
       "      <th>confident</th>\n",
       "      <th>dominant</th>\n",
       "      <th>emot_stable</th>\n",
       "      <th>intelligent</th>\n",
       "      <th>mean</th>\n",
       "      <th>responsible</th>\n",
       "      <th>sociable</th>\n",
       "      <th>trustworthy</th>\n",
       "      <th>unhappy</th>\n",
       "      <th>weird</th>\n",
       "      <th>stimulus</th>\n",
       "    </tr>\n",
       "  </thead>\n",
       "  <tbody>\n",
       "    <tr>\n",
       "      <th>0</th>\n",
       "      <td>-0.838576</td>\n",
       "      <td>2.150772</td>\n",
       "      <td>1.299035</td>\n",
       "      <td>1.241495</td>\n",
       "      <td>-0.240222</td>\n",
       "      <td>1.313222</td>\n",
       "      <td>0.881080</td>\n",
       "      <td>-0.485750</td>\n",
       "      <td>1.863745</td>\n",
       "      <td>1.670497</td>\n",
       "      <td>2.050984</td>\n",
       "      <td>-0.796445</td>\n",
       "      <td>-1.174697</td>\n",
       "      <td>AF01NES</td>\n",
       "    </tr>\n",
       "    <tr>\n",
       "      <th>1</th>\n",
       "      <td>-0.416323</td>\n",
       "      <td>0.112142</td>\n",
       "      <td>0.448366</td>\n",
       "      <td>-1.203330</td>\n",
       "      <td>-0.153719</td>\n",
       "      <td>-0.532231</td>\n",
       "      <td>-0.163642</td>\n",
       "      <td>-0.066824</td>\n",
       "      <td>-0.398276</td>\n",
       "      <td>-0.374984</td>\n",
       "      <td>-0.197564</td>\n",
       "      <td>0.961431</td>\n",
       "      <td>0.271219</td>\n",
       "      <td>AF02NES</td>\n",
       "    </tr>\n",
       "    <tr>\n",
       "      <th>2</th>\n",
       "      <td>-0.859174</td>\n",
       "      <td>-0.225465</td>\n",
       "      <td>1.006182</td>\n",
       "      <td>0.337651</td>\n",
       "      <td>-1.241176</td>\n",
       "      <td>-0.035868</td>\n",
       "      <td>-1.075934</td>\n",
       "      <td>-0.532297</td>\n",
       "      <td>0.056728</td>\n",
       "      <td>0.288781</td>\n",
       "      <td>0.278320</td>\n",
       "      <td>-0.369184</td>\n",
       "      <td>0.656796</td>\n",
       "      <td>AF03NES</td>\n",
       "    </tr>\n",
       "    <tr>\n",
       "      <th>3</th>\n",
       "      <td>-0.395726</td>\n",
       "      <td>-0.653967</td>\n",
       "      <td>0.016058</td>\n",
       "      <td>-0.581011</td>\n",
       "      <td>-0.437941</td>\n",
       "      <td>-0.264958</td>\n",
       "      <td>-0.987648</td>\n",
       "      <td>0.631387</td>\n",
       "      <td>-0.541278</td>\n",
       "      <td>-0.645909</td>\n",
       "      <td>-0.042902</td>\n",
       "      <td>0.692867</td>\n",
       "      <td>0.830306</td>\n",
       "      <td>AF04NES</td>\n",
       "    </tr>\n",
       "    <tr>\n",
       "      <th>4</th>\n",
       "      <td>-1.528599</td>\n",
       "      <td>0.501689</td>\n",
       "      <td>1.173527</td>\n",
       "      <td>0.219114</td>\n",
       "      <td>-0.833380</td>\n",
       "      <td>0.740495</td>\n",
       "      <td>0.733936</td>\n",
       "      <td>-0.776671</td>\n",
       "      <td>0.953736</td>\n",
       "      <td>0.830630</td>\n",
       "      <td>1.146806</td>\n",
       "      <td>-1.309159</td>\n",
       "      <td>-0.239671</td>\n",
       "      <td>AF05NES</td>\n",
       "    </tr>\n",
       "    <tr>\n",
       "      <th>...</th>\n",
       "      <td>...</td>\n",
       "      <td>...</td>\n",
       "      <td>...</td>\n",
       "      <td>...</td>\n",
       "      <td>...</td>\n",
       "      <td>...</td>\n",
       "      <td>...</td>\n",
       "      <td>...</td>\n",
       "      <td>...</td>\n",
       "      <td>...</td>\n",
       "      <td>...</td>\n",
       "      <td>...</td>\n",
       "      <td>...</td>\n",
       "      <td>...</td>\n",
       "    </tr>\n",
       "    <tr>\n",
       "      <th>61</th>\n",
       "      <td>-1.013657</td>\n",
       "      <td>0.501689</td>\n",
       "      <td>1.048018</td>\n",
       "      <td>0.856250</td>\n",
       "      <td>-0.302009</td>\n",
       "      <td>1.835039</td>\n",
       "      <td>-0.045927</td>\n",
       "      <td>-1.114140</td>\n",
       "      <td>1.330740</td>\n",
       "      <td>1.196378</td>\n",
       "      <td>1.539410</td>\n",
       "      <td>-1.223707</td>\n",
       "      <td>-1.540996</td>\n",
       "      <td>AM31NES</td>\n",
       "    </tr>\n",
       "    <tr>\n",
       "      <th>62</th>\n",
       "      <td>-0.241243</td>\n",
       "      <td>-1.381121</td>\n",
       "      <td>-1.001956</td>\n",
       "      <td>-2.670224</td>\n",
       "      <td>-2.340991</td>\n",
       "      <td>-2.072229</td>\n",
       "      <td>-2.150085</td>\n",
       "      <td>-1.265418</td>\n",
       "      <td>-2.569297</td>\n",
       "      <td>-1.661876</td>\n",
       "      <td>-1.553830</td>\n",
       "      <td>1.608428</td>\n",
       "      <td>2.218385</td>\n",
       "      <td>AM32NES</td>\n",
       "    </tr>\n",
       "    <tr>\n",
       "      <th>63</th>\n",
       "      <td>1.643447</td>\n",
       "      <td>-1.043514</td>\n",
       "      <td>-1.992080</td>\n",
       "      <td>-0.447657</td>\n",
       "      <td>-0.005430</td>\n",
       "      <td>-1.041321</td>\n",
       "      <td>-0.104784</td>\n",
       "      <td>0.712845</td>\n",
       "      <td>-1.750289</td>\n",
       "      <td>-1.228397</td>\n",
       "      <td>-1.994022</td>\n",
       "      <td>1.034676</td>\n",
       "      <td>1.080932</td>\n",
       "      <td>AM33NES</td>\n",
       "    </tr>\n",
       "    <tr>\n",
       "      <th>64</th>\n",
       "      <td>1.921516</td>\n",
       "      <td>-0.121586</td>\n",
       "      <td>-0.778830</td>\n",
       "      <td>0.233931</td>\n",
       "      <td>1.551611</td>\n",
       "      <td>-0.595867</td>\n",
       "      <td>-0.193071</td>\n",
       "      <td>0.852487</td>\n",
       "      <td>-0.710279</td>\n",
       "      <td>-0.225976</td>\n",
       "      <td>-0.625858</td>\n",
       "      <td>1.388693</td>\n",
       "      <td>0.030233</td>\n",
       "      <td>AM34NES</td>\n",
       "    </tr>\n",
       "    <tr>\n",
       "      <th>65</th>\n",
       "      <td>-0.364829</td>\n",
       "      <td>-0.472178</td>\n",
       "      <td>0.030004</td>\n",
       "      <td>-0.136497</td>\n",
       "      <td>-0.091932</td>\n",
       "      <td>0.638677</td>\n",
       "      <td>0.616221</td>\n",
       "      <td>-0.078461</td>\n",
       "      <td>-0.307276</td>\n",
       "      <td>0.099134</td>\n",
       "      <td>-0.031005</td>\n",
       "      <td>-1.089425</td>\n",
       "      <td>0.088069</td>\n",
       "      <td>AM35NES</td>\n",
       "    </tr>\n",
       "  </tbody>\n",
       "</table>\n",
       "<p>66 rows × 14 columns</p>\n",
       "</div>"
      ],
      "text/plain": [
       "    aggressive  attractive    caring  confident  dominant  emot_stable  \\\n",
       "0    -0.838576    2.150772  1.299035   1.241495 -0.240222     1.313222   \n",
       "1    -0.416323    0.112142  0.448366  -1.203330 -0.153719    -0.532231   \n",
       "2    -0.859174   -0.225465  1.006182   0.337651 -1.241176    -0.035868   \n",
       "3    -0.395726   -0.653967  0.016058  -0.581011 -0.437941    -0.264958   \n",
       "4    -1.528599    0.501689  1.173527   0.219114 -0.833380     0.740495   \n",
       "..         ...         ...       ...        ...       ...          ...   \n",
       "61   -1.013657    0.501689  1.048018   0.856250 -0.302009     1.835039   \n",
       "62   -0.241243   -1.381121 -1.001956  -2.670224 -2.340991    -2.072229   \n",
       "63    1.643447   -1.043514 -1.992080  -0.447657 -0.005430    -1.041321   \n",
       "64    1.921516   -0.121586 -0.778830   0.233931  1.551611    -0.595867   \n",
       "65   -0.364829   -0.472178  0.030004  -0.136497 -0.091932     0.638677   \n",
       "\n",
       "    intelligent      mean  responsible  sociable  trustworthy   unhappy  \\\n",
       "0      0.881080 -0.485750     1.863745  1.670497     2.050984 -0.796445   \n",
       "1     -0.163642 -0.066824    -0.398276 -0.374984    -0.197564  0.961431   \n",
       "2     -1.075934 -0.532297     0.056728  0.288781     0.278320 -0.369184   \n",
       "3     -0.987648  0.631387    -0.541278 -0.645909    -0.042902  0.692867   \n",
       "4      0.733936 -0.776671     0.953736  0.830630     1.146806 -1.309159   \n",
       "..          ...       ...          ...       ...          ...       ...   \n",
       "61    -0.045927 -1.114140     1.330740  1.196378     1.539410 -1.223707   \n",
       "62    -2.150085 -1.265418    -2.569297 -1.661876    -1.553830  1.608428   \n",
       "63    -0.104784  0.712845    -1.750289 -1.228397    -1.994022  1.034676   \n",
       "64    -0.193071  0.852487    -0.710279 -0.225976    -0.625858  1.388693   \n",
       "65     0.616221 -0.078461    -0.307276  0.099134    -0.031005 -1.089425   \n",
       "\n",
       "       weird stimulus  \n",
       "0  -1.174697  AF01NES  \n",
       "1   0.271219  AF02NES  \n",
       "2   0.656796  AF03NES  \n",
       "3   0.830306  AF04NES  \n",
       "4  -0.239671  AF05NES  \n",
       "..       ...      ...  \n",
       "61 -1.540996  AM31NES  \n",
       "62  2.218385  AM32NES  \n",
       "63  1.080932  AM33NES  \n",
       "64  0.030233  AM34NES  \n",
       "65  0.088069  AM35NES  \n",
       "\n",
       "[66 rows x 14 columns]"
      ]
     },
     "execution_count": 9,
     "metadata": {},
     "output_type": "execute_result"
    }
   ],
   "source": [
    "ratings = pd.read_csv('face_ratings.csv')\n",
    "stim = ratings['stimulus'].copy()\n",
    "ratings = ratings.drop(columns=['stimulus']).apply(zscore)\n",
    "ratings['stimulus'] = stim\n",
    "ratings"
   ]
  },
  {
   "cell_type": "markdown",
   "metadata": {},
   "source": [
    "Each of the 13 rating dimensions appear to measure something different about faces (e.g., confident vs. unhappy etc).\n",
    "\n",
    "Let's look at a scatter plot of two of them.\n",
    "\n",
    "**Exercise:** Discuss with your partner what relationship you see. What does that relationship imply for the measurement of these two variables?"
   ]
  },
  {
   "cell_type": "code",
   "execution_count": 10,
   "metadata": {},
   "outputs": [
    {
     "data": {
      "image/png": "[encoded data removed]",
      "text/plain": [
       "<Figure size 500x500 with 1 Axes>"
      ]
     },
     "metadata": {},
     "output_type": "display_data"
    }
   ],
   "source": [
    "plt.figure(figsize=(5, 5))\n",
    "plt.scatter(ratings['responsible'], ratings['trustworthy'])\n",
    "plt.xlabel('responsible')\n",
    "plt.ylabel('trustworthy')\n",
    "plt.show()"
   ]
  },
  {
   "cell_type": "markdown",
   "metadata": {},
   "source": [
    "The \"responsible\" and \"trustworthy\" dimensions are correlated. This indicates that they are probably measuring something similar. \n",
    "\n",
    "This is common in ratings data. It suggests that there may exist some single dimension representing faces that explains most of why we think they're both \"responsible\" and \"trustworthy\".\n",
    "\n",
    "**Exercise:** Discuss with your partner what you think that single dimension is."
   ]
  },
  {
   "cell_type": "markdown",
   "metadata": {},
   "source": [
    "Were we to have a single dimension that could it explain the above data, we'd want it to capture as much of the variation in ratings among faces as possible. Variation is measured using variance.\n",
    "\n",
    "**Exercise:** Create a function called `compute_variance` that takes a ratings dataframe and a column name and computes/returns the variance for the data in that column. Recall that variance is the average squared difference from the mean. Do not use premade functions like `np.var`. \n",
    "\n",
    "Before writing the function, **discuss with your partner** what you think the variance of each column should be without doing any calculation given that each column is normalized."
   ]
  },
  {
   "cell_type": "code",
   "execution_count": 41,
   "metadata": {},
   "outputs": [],
   "source": [
    "# Your code here\n",
    "def compute_variance(ratings, col_name):\n",
    "    mean = ratings[col_name].sum() / len(ratings[col_name])\n",
    "    sq_diff = 0\n",
    "    \n",
    "    for item in ratings[col_name]:\n",
    "        sq_diff += (mean - item) ** 2\n",
    "\n",
    "    return sq_diff / len(ratings[col_name])\n"
   ]
  },
  {
   "cell_type": "code",
   "execution_count": 42,
   "metadata": {},
   "outputs": [
    {
     "name": "stdout",
     "output_type": "stream",
     "text": [
      "Test passed\n"
     ]
    }
   ],
   "source": [
    "# TEST YOUR SOLUTION\n",
    "\n",
    "# DON'T CHANGE THIS CELL\n",
    "if np.isclose(compute_variance(ratings, 'responsible'), 1.0):\n",
    "    print('Test passed')\n",
    "else:\n",
    "    print('Test failed')"
   ]
  },
  {
   "cell_type": "markdown",
   "metadata": {},
   "source": [
    "The variance of the `responsible` column is 1 since the variable is z-score normalized:"
   ]
  },
  {
   "cell_type": "code",
   "execution_count": 35,
   "metadata": {},
   "outputs": [
    {
     "data": {
      "text/plain": [
       "np.float64(1.0)"
      ]
     },
     "execution_count": 35,
     "metadata": {},
     "output_type": "execute_result"
    }
   ],
   "source": [
    "responsibility_variance = compute_variance(ratings, 'responsible')\n",
    "responsibility_variance"
   ]
  },
  {
   "cell_type": "markdown",
   "metadata": {},
   "source": [
    "The same is true for `trustworthy`:"
   ]
  },
  {
   "cell_type": "code",
   "execution_count": 36,
   "metadata": {},
   "outputs": [
    {
     "data": {
      "text/plain": [
       "np.float64(1.0000000000000002)"
      ]
     },
     "execution_count": 36,
     "metadata": {},
     "output_type": "execute_result"
    }
   ],
   "source": [
    "trustworthy_variance = compute_variance(ratings, 'trustworthy')\n",
    "trustworthy_variance"
   ]
  },
  {
   "cell_type": "markdown",
   "metadata": {},
   "source": [
    "We want a single dimension that explains as much of the variance in the two above dimensions as possible. In other words, it must explain the **total variance**, which is the sum of the variances for both the `responsible` and `trustworthy` columns.\n",
    "\n",
    "**Exercise:** Create a function called `compute_total_variance` that takes in a ratings dataframe and two column names and returns the total variance. Re-use your `compute_variance` function from above.\n",
    "\n",
    "Before writing the function, **discuss with your partner** what you think the total variance will be without doing any calculation."
   ]
  },
  {
   "cell_type": "code",
   "execution_count": 43,
   "metadata": {},
   "outputs": [],
   "source": [
    "# Your code here\n",
    "\n",
    "def compute_total_variance(ratings, col1, col2):\n",
    "    return compute_variance(ratings, col1) + compute_variance(ratings, col2)"
   ]
  },
  {
   "cell_type": "code",
   "execution_count": 44,
   "metadata": {},
   "outputs": [
    {
     "name": "stdout",
     "output_type": "stream",
     "text": [
      "Test passed\n"
     ]
    }
   ],
   "source": [
    "# TEST YOUR SOLUTION\n",
    "\n",
    "# DON'T CHANGE THIS CELL\n",
    "if np.isclose(compute_total_variance(ratings, 'responsible', 'trustworthy'), 2.0):\n",
    "    print('Test passed')\n",
    "else:\n",
    "    print('Test failed')"
   ]
  },
  {
   "cell_type": "markdown",
   "metadata": {},
   "source": [
    "The total variance is 2.0 as we'd expect:"
   ]
  },
  {
   "cell_type": "code",
   "execution_count": 45,
   "metadata": {},
   "outputs": [
    {
     "data": {
      "text/plain": [
       "np.float64(2.0)"
      ]
     },
     "execution_count": 45,
     "metadata": {},
     "output_type": "execute_result"
    }
   ],
   "source": [
    "total_variance = compute_total_variance(ratings, 'responsible', 'trustworthy')\n",
    "total_variance"
   ]
  },
  {
   "cell_type": "markdown",
   "metadata": {},
   "source": [
    "The amount of variance we can \"explain\" using a single dimension is called **variance explained**. It's just the variance of that single dimension divided by the total variance.\n",
    "\n",
    "**Exercise:** Create a function called `compute_variance_explained` that takes in two numeric values representing variance (e.g., of a single dimension) and total variance and returns variance explained.\n",
    "\n",
    "Before writing the function, **discuss with your partner** what you think the explained variance for responsible or trustworthy will be without doing any calculation."
   ]
  },
  {
   "cell_type": "code",
   "execution_count": 46,
   "metadata": {},
   "outputs": [],
   "source": [
    "# Your code here\n",
    "\n",
    "def compute_variance_explained(var1, var2):\n",
    "    return var1 / var2"
   ]
  },
  {
   "cell_type": "code",
   "execution_count": 47,
   "metadata": {},
   "outputs": [
    {
     "name": "stdout",
     "output_type": "stream",
     "text": [
      "Test passed\n"
     ]
    }
   ],
   "source": [
    "# TEST YOUR SOLUTION\n",
    "\n",
    "# DON'T CHANGE THIS CELL\n",
    "if np.isclose(compute_variance_explained(responsibility_variance, total_variance), 0.5):\n",
    "    print('Test passed')\n",
    "else:\n",
    "    print('Test failed')"
   ]
  },
  {
   "cell_type": "markdown",
   "metadata": {},
   "source": [
    "We said we want a single dimension that explains as much of the variance in the two above dimensions as possible.\n",
    "\n",
    "One way to do that is to just take one of the two dimensions and disregard the other, since they are correlated.\n",
    "\n",
    "As you can see below, doing this only allows us to explain half of the total variance."
   ]
  },
  {
   "cell_type": "code",
   "execution_count": 48,
   "metadata": {},
   "outputs": [
    {
     "data": {
      "text/plain": [
       "np.float64(0.5)"
      ]
     },
     "execution_count": 48,
     "metadata": {},
     "output_type": "execute_result"
    }
   ],
   "source": [
    "responsibility_explained = compute_variance_explained(responsibility_variance, total_variance)\n",
    "responsibility_explained"
   ]
  },
  {
   "cell_type": "code",
   "execution_count": 49,
   "metadata": {},
   "outputs": [
    {
     "data": {
      "text/plain": [
       "np.float64(0.5000000000000001)"
      ]
     },
     "execution_count": 49,
     "metadata": {},
     "output_type": "execute_result"
    }
   ],
   "source": [
    "trustworthy_explained = compute_variance_explained(trustworthy_variance, total_variance)\n",
    "trustworthy_explained"
   ]
  },
  {
   "cell_type": "markdown",
   "metadata": {},
   "source": [
    "Can we do better than 0.5?\n",
    "\n",
    "Taking one of the two features and throwing out the other can be thought of as projecting all of the points onto one of the dimensions.\n",
    "\n",
    "For example, taking just the \"responsible\" dimension is the same as projecting points onto the x-axis and then computing variance."
   ]
  },
  {
   "cell_type": "code",
   "execution_count": 50,
   "metadata": {},
   "outputs": [
    {
     "data": {
      "image/png": "[encoded data removed]",
      "text/plain": [
       "<Figure size 1000x600 with 1 Axes>"
      ]
     },
     "metadata": {},
     "output_type": "display_data"
    }
   ],
   "source": [
    "plot_projection_to_x(ratings)"
   ]
  },
  {
   "cell_type": "markdown",
   "metadata": {},
   "source": [
    "After projecting the original (blue) dots onto the `responsible` dimension, they become the red dots. Notice that there is no variation in the red dots along the `trustworthy` dimension.\n",
    "\n",
    "The red dots fall exactly on the flat line. This line is our *current* \"single dimension\" we mentioned above.\n",
    "\n",
    "**Exercise:** Discuss with your partner what the equation of that flat line is."
   ]
  },
  {
   "cell_type": "markdown",
   "metadata": {},
   "source": [
    "Can we find a different line such that projections onto that line will result in variance explained greater than 0.5?\n",
    "\n",
    "In order to answer this, we will need to be able to test out different lines and project our data points onto them.\n",
    "\n",
    "Below is an example of the process of projecting a point onto a line. In this plot, we begin with a red dot. We want to project this dot onto the blue example line. To do this, we draw a line perpendicular to the original line starting at the original red point and ending at the projected (green) point on the line."
   ]
  },
  {
   "cell_type": "code",
   "execution_count": 51,
   "metadata": {},
   "outputs": [
    {
     "data": {
      "image/png": "[encoded data removed]",
      "text/plain": [
       "<Figure size 800x600 with 1 Axes>"
      ]
     },
     "metadata": {},
     "output_type": "display_data"
    }
   ],
   "source": [
    "plot_single_point_projection()"
   ]
  },
  {
   "cell_type": "markdown",
   "metadata": {},
   "source": [
    "Let's learn how to perform these projections.\n",
    "\n",
    "Recall that the equation of a line is $y = mx + b$, where:\n",
    "- $m$ is the slope of the line, and\n",
    "- $b$ is the y-intercept of the line.\n",
    "\n",
    "In our applications today, the intercept $b$ will always be 0. Thus, we have $y = mx$.\n",
    "\n",
    "We want to project a point $(x, y)$ onto a line with equation $y = mx$. The projected point will be a new point $(x_p, y_p)$.\n",
    "\n",
    "The $x_p$ coordinate of the projected point can be computed as: $x_p = (x + my) / (m^2 + 1)$.\n",
    "\n",
    "Once we have $x_p$, we can just use the equation of the line to get $y_p = mx_p$.\n",
    "\n",
    "**Exercise:** Create a function called `project_point_onto_line` that takes `x`, `y`, and `m`, and returns `x_p, y_p`. The function would work both when x/y are single numbers or numpy arrays."
   ]
  },
  {
   "cell_type": "code",
   "execution_count": 52,
   "metadata": {},
   "outputs": [],
   "source": [
    "# Your code here\n",
    "\n",
    "def project_point_onto_line(x, y, m):\n",
    "    x_p = (x + (m * y)) / (m**2 + 1)\n",
    "    y_p = m * x_p\n",
    "    return x_p, y_p"
   ]
  },
  {
   "cell_type": "code",
   "execution_count": 53,
   "metadata": {},
   "outputs": [
    {
     "name": "stdout",
     "output_type": "stream",
     "text": [
      "Test passed\n"
     ]
    }
   ],
   "source": [
    "# TEST YOUR SOLUTION\n",
    "\n",
    "# DON'T CHANGE THIS CELL\n",
    "xps_, yps_ = project_point_onto_line(np.array([2, 2]), np.array([1, 1]), 0.7)\n",
    "if np.allclose(xps_, np.array([1.81208054, 1.81208054]), atol=0.01) and np.allclose(yps_, np.array([1.26845638, 1.26845638]), atol=0.01):\n",
    "    print('Test passed')\n",
    "else:\n",
    "    print('Test failed')"
   ]
  },
  {
   "cell_type": "markdown",
   "metadata": {},
   "source": [
    "**Exercise:** Use your new function to find the green projected point in the plot above."
   ]
  },
  {
   "cell_type": "code",
   "execution_count": 56,
   "metadata": {},
   "outputs": [
    {
     "name": "stdout",
     "output_type": "stream",
     "text": [
      "1.8120805369127517 1.2684563758389262\n"
     ]
    }
   ],
   "source": [
    "xp_, yp_ = project_point_onto_line(2, 1, 0.7)\n",
    "\n",
    "# don't change\n",
    "print(xp_, yp_)"
   ]
  },
  {
   "cell_type": "code",
   "execution_count": 57,
   "metadata": {},
   "outputs": [
    {
     "name": "stdout",
     "output_type": "stream",
     "text": [
      "Test passed\n"
     ]
    }
   ],
   "source": [
    "# TEST YOUR SOLUTION\n",
    "\n",
    "# DON'T CHANGE THIS CELL\n",
    "if np.isclose(xp_, 1.8120805369127517, atol=0.01) and np.isclose(yp_, 1.2684563758389262, atol=0.01):\n",
    "    print('Test passed')\n",
    "else:\n",
    "    print('Test failed')"
   ]
  },
  {
   "cell_type": "markdown",
   "metadata": {},
   "source": [
    "Previously we tried using `responsible` as our single dimension (horizontal line). We could also use `responsible` (vertical line), but the result is the same in terms of variance explained.\n",
    "\n",
    "Let's try a line that's neither horizontal nor vertical, which is our only other option.\n",
    "\n",
    "**Exercise:** Store the ratings for the `responsible` and `trustworthy` ratings columns in variables `x` and `y` respectively. Project the points onto a line with slope 0.5 and store the projected points in arrays `xp` and `yp`."
   ]
  },
  {
   "cell_type": "code",
   "execution_count": 58,
   "metadata": {},
   "outputs": [],
   "source": [
    "# Your code here\n",
    "\n",
    "x = ratings['responsible']\n",
    "y = ratings['trustworthy']\n",
    "xp, yp = project_point_onto_line(x, y, 0.5)"
   ]
  },
  {
   "cell_type": "code",
   "execution_count": 59,
   "metadata": {},
   "outputs": [
    {
     "name": "stdout",
     "output_type": "stream",
     "text": [
      "Test passed\n"
     ]
    }
   ],
   "source": [
    "# TEST YOUR SOLUTION\n",
    "\n",
    "# DON'T CHANGE THIS CELL\n",
    "if np.isclose(x[0], 1.86, atol=0.01) and np.isclose(y[0], 2.05, atol=0.01) and np.isclose(xp[0], 2.31, atol=0.01) and np.isclose(yp[0], 1.16, atol=0.01):\n",
    "    print('Test passed')\n",
    "else:\n",
    "    print('Test failed')"
   ]
  },
  {
   "cell_type": "markdown",
   "metadata": {},
   "source": [
    "Below is a visualization of the original blue points projected onto a line with slope 0.5. Each red point is one of the projected points.\n",
    "\n",
    "Notice there is now at least some variation in the red points with respect to both the trustworthy and responsible dimensions even though we are only using a single dimension (the red line) to represent the data."
   ]
  },
  {
   "cell_type": "code",
   "execution_count": 60,
   "metadata": {},
   "outputs": [
    {
     "data": {
      "image/png": "[encoded data removed]",
      "text/plain": [
       "<Figure size 500x500 with 1 Axes>"
      ]
     },
     "metadata": {},
     "output_type": "display_data"
    }
   ],
   "source": [
    "plt.figure(figsize=(5, 5))\n",
    "plt.scatter(ratings['responsible'], ratings['trustworthy'], label='Original')\n",
    "plt.scatter(xp, yp, color='red', label='Projected')\n",
    "x_min, x_max = np.min(xp), np.max(xp)\n",
    "y_min = x_min * 0.5\n",
    "y_max = x_max * 0.5\n",
    "plt.plot([x_min, x_max], [y_min, y_max], color='red', label='New Dimension')\n",
    "plt.xlabel('responsible')\n",
    "plt.ylabel('trustworthy')\n",
    "plt.legend()\n",
    "plt.show()"
   ]
  },
  {
   "cell_type": "markdown",
   "metadata": {},
   "source": [
    "To calculate variance explained along our new (red) dimension, we need to know how to calculate variance in points along a slanted line.\n",
    "\n",
    "Note that the center of our new dimension is 0 just like the other dimensions.\n",
    "\n",
    "Now consider the example plot below. In this example, the slope of the line is 1 for simplicity. Let's say we want to know the position of the top right red dot on the red dimension. In order to move to this point from the origin, we must move one unit on the x dimension and one unit on the y dimension (black lines). Thus, the distance to the red point from the origin is the hypotenuse of a right triangle. By the pythagorean theorem, we know that this distance is $\\sqrt{x_p^2 + y_p^2}$. Thus, the position of each point along the red dimension is its (signed) distance from the origin. The top-right red point is on the positive side of the dimension (trustworthy and responsible to some degree). The bottom-left red point is on the negative side (untrustworthy and not responsible to some degree). We can use the **sign** of $x_p$ to determine the direction. Putting everything together, the position of each point along the red line is $\\text{sign}{(x_p)} \\times \\sqrt{x_p^2 + y_p^2}$."
   ]
  },
  {
   "cell_type": "code",
   "execution_count": 61,
   "metadata": {},
   "outputs": [
    {
     "data": {
      "image/png": "[encoded data removed]",
      "text/plain": [
       "<Figure size 500x500 with 1 Axes>"
      ]
     },
     "metadata": {},
     "output_type": "display_data"
    }
   ],
   "source": [
    "plot_triangles()"
   ]
  },
  {
   "cell_type": "markdown",
   "metadata": {},
   "source": [
    "**Exercise:** Create a function called `compute_variance_along_line` that takes two arrays of projected points `xp` and `yp` and returns the variance along the dimension for which they vary. Use `np.var(signed_distances, ddof=0)` to compute variance."
   ]
  },
  {
   "cell_type": "code",
   "execution_count": 73,
   "metadata": {},
   "outputs": [],
   "source": [
    "# Your code here\n",
    "\n",
    "def compute_variance_along_line(xp, yp):\n",
    "    signed_distances = np.sign(xp) * np.sqrt(np.pow(xp,2) + np.pow(yp,2))\n",
    "    return np.var(signed_distances, ddof=0)"
   ]
  },
  {
   "cell_type": "code",
   "execution_count": 74,
   "metadata": {},
   "outputs": [
    {
     "name": "stdout",
     "output_type": "stream",
     "text": [
      "Test passed\n"
     ]
    }
   ],
   "source": [
    "# TEST YOUR SOLUTION\n",
    "\n",
    "# DON'T CHANGE THIS CELL\n",
    "if np.isclose(compute_variance_along_line(xp, yp), 1.7066892686722224):\n",
    "    print('Test passed')\n",
    "else:\n",
    "    print('Test failed')"
   ]
  },
  {
   "cell_type": "markdown",
   "metadata": {},
   "source": [
    "**Exercise:** Use your new functions to calculate variance explained using the new dimension. Store the result in `var_explained_by_new_dim`.\n",
    "\n",
    "Before computing your result, **discuss with your partner** whether you expect the result to be better (higher) or worse (lower) than using a single rating dimension (e.g., trustworthy). Why do you have that expectation?"
   ]
  },
  {
   "cell_type": "code",
   "execution_count": 75,
   "metadata": {},
   "outputs": [
    {
     "data": {
      "text/plain": [
       "np.float64(0.8533446343361112)"
      ]
     },
     "execution_count": 75,
     "metadata": {},
     "output_type": "execute_result"
    }
   ],
   "source": [
    "# Your code here\n",
    "\n",
    "var_explained_by_new_dim = compute_variance_along_line(xp, yp) / total_variance\n",
    "\n",
    "# don't change\n",
    "var_explained_by_new_dim"
   ]
  },
  {
   "cell_type": "code",
   "execution_count": 76,
   "metadata": {},
   "outputs": [
    {
     "name": "stdout",
     "output_type": "stream",
     "text": [
      "Test passed\n"
     ]
    }
   ],
   "source": [
    "# TEST YOUR SOLUTION\n",
    "\n",
    "# DON'T CHANGE THIS CELL\n",
    "if np.isclose(var_explained_by_new_dim, 0.8533446343361112):\n",
    "    print('Test passed')\n",
    "else:\n",
    "    print('Test failed')"
   ]
  },
  {
   "cell_type": "markdown",
   "metadata": {},
   "source": [
    "0.85 is indeed larger than 0.5. The new single dimension is better than the original two single dimensions because it captures variation in both of the original dimensions.\n",
    "\n",
    "Recall that the slope ($m=0.5$) we chose for our new dimension was just an example.\n",
    "\n",
    "We want to find the slope of the single dimension that **maximizes** variance explained.\n",
    "\n",
    "**Exercise:** Write a loop to evaluate variance explained for 200 different slopes in the range 0-2 (`np.linspace(0, 2, 200)`). Store the variance explained values for each slope in an array called `explained_per_slope`."
   ]
  },
  {
   "cell_type": "code",
   "execution_count": 77,
   "metadata": {},
   "outputs": [],
   "source": [
    "# do not change\n",
    "slopes_to_try = np.linspace(0, 2, 200)\n",
    "\n",
    "# Your code here\n",
    "explained_per_slope = []\n",
    "for m in slopes_to_try:\n",
    "    xp, yp = project_point_onto_line(x, y, m)\n",
    "    explained_per_slope.append(compute_variance_along_line(xp, yp) / total_variance)\n"
   ]
  },
  {
   "cell_type": "code",
   "execution_count": 78,
   "metadata": {},
   "outputs": [
    {
     "name": "stdout",
     "output_type": "stream",
     "text": [
      "Test passed\n"
     ]
    }
   ],
   "source": [
    "# TEST YOUR SOLUTION\n",
    "\n",
    "# DON'T CHANGE THIS CELL\n",
    "if np.isclose(slopes_to_try[np.argmax(explained_per_slope)], 1.0050251256281406):\n",
    "    print('Test passed')\n",
    "else:\n",
    "    print('Test failed')"
   ]
  },
  {
   "cell_type": "markdown",
   "metadata": {},
   "source": [
    "Below is a plot of explained variance against slope.\n",
    "\n",
    "**Exercise:** Discuss with your partner which slope is approximately the \"best\" and why?"
   ]
  },
  {
   "cell_type": "code",
   "execution_count": 79,
   "metadata": {},
   "outputs": [
    {
     "data": {
      "image/png": "[encoded data removed]",
      "text/plain": [
       "<Figure size 500x500 with 1 Axes>"
      ]
     },
     "metadata": {},
     "output_type": "display_data"
    }
   ],
   "source": [
    "plt.figure(figsize=(5, 5))\n",
    "plt.plot(slopes_to_try, explained_per_slope)\n",
    "plt.xlabel('Slope')\n",
    "plt.ylabel('Explained Variance')\n",
    "plt.show()"
   ]
  },
  {
   "cell_type": "markdown",
   "metadata": {},
   "source": [
    "The highest variance explained value was:"
   ]
  },
  {
   "cell_type": "code",
   "execution_count": 80,
   "metadata": {},
   "outputs": [
    {
     "data": {
      "text/plain": [
       "np.float64(0.9416752442361664)"
      ]
     },
     "execution_count": 80,
     "metadata": {},
     "output_type": "execute_result"
    }
   ],
   "source": [
    "highest_var_explained = np.max(explained_per_slope)\n",
    "highest_var_explained"
   ]
  },
  {
   "cell_type": "markdown",
   "metadata": {},
   "source": [
    "The slope corresponding the highest variance explained value was:"
   ]
  },
  {
   "cell_type": "code",
   "execution_count": 81,
   "metadata": {},
   "outputs": [
    {
     "data": {
      "text/plain": [
       "np.float64(1.0050251256281406)"
      ]
     },
     "execution_count": 81,
     "metadata": {},
     "output_type": "execute_result"
    }
   ],
   "source": [
    "slopes_to_try[np.argmax(explained_per_slope)]"
   ]
  },
  {
   "cell_type": "markdown",
   "metadata": {},
   "source": [
    "Below is a visualization of this best single dimension that maximizes variance explained.\n",
    "\n",
    "Notice that it fits the data well. However, note that this line is not the same as the least squares line used in regression. We will explore this idea further in a later assignment."
   ]
  },
  {
   "cell_type": "code",
   "execution_count": 82,
   "metadata": {},
   "outputs": [
    {
     "data": {
      "image/png": "[encoded data removed]",
      "text/plain": [
       "<Figure size 500x500 with 1 Axes>"
      ]
     },
     "metadata": {},
     "output_type": "display_data"
    }
   ],
   "source": [
    "xp, yp = project_point_onto_line(x, y, 1.0)\n",
    "\n",
    "plt.figure(figsize=(5, 5))\n",
    "plt.scatter(ratings['responsible'], ratings['trustworthy'], label='Original')\n",
    "plt.scatter(xp, yp, color='red', label='Projected')\n",
    "x_min, x_max = np.min(xp), np.max(xp)\n",
    "y_min = x_min\n",
    "y_max = x_max\n",
    "plt.plot([x_min, x_max], [y_min, y_max], color='red', label='Best Single Dimension')\n",
    "plt.xlabel('responsible')\n",
    "plt.ylabel('trustworthy')\n",
    "plt.legend()\n",
    "plt.show()"
   ]
  },
  {
   "cell_type": "markdown",
   "metadata": {},
   "source": [
    "The dimension discovered above is called the **first principal component (PC1)** and the procedure we used to obtain it is called **Principal Component Analysis (PCA)**.\n",
    "\n",
    "What does this new dimension mean? It's tempting to assume that \"trustworthy\" and \"responsible\" are measuring exactly the same thing. However, you can confirm in the original data that \"trustworthy\" is also correlated with \"attractive\", the latter of which has nothing to do with \"responsible\". What dimension captures both a large part of \"trustworthy\" and a large part of \"responsible\". It could be capturing something such as \"social dependability\". Such interpretations are left up to the researcher. In any case, we might assume that the participants use this shared dimension from their minds in large part to answer questions both about \"trustworthy\" and \"responsible\".\n",
    "\n",
    "We can also think of this new dimension (PC1) as a prediction line that helps us predict both x from y and y from x. What is the error in the predictions we are making?\n",
    "\n",
    "We can measure these errors, called **residuals**, by subtracting our projected points ($x_p$, $y_p$) from the original points ($x$, $y$). That is, what variation in our data is left when we remove the variation we've already explained using PC1 (i.e., when we remove variation along PC1)?\n",
    "\n",
    "**Exercise:** Write a function called `compute_residuals` that takes arrays `x`, `y`, `x_p`, `y_p`, and returns arrays of residuals `x_res` and `y_res`."
   ]
  },
  {
   "cell_type": "code",
   "execution_count": 83,
   "metadata": {},
   "outputs": [],
   "source": [
    "# Your code here\n",
    "def compute_residuals(x, y, x_p, y_p):\n",
    "    x_res = x - x_p\n",
    "    y_res = y - y_p\n",
    "    return x_res, y_res\n"
   ]
  },
  {
   "cell_type": "code",
   "execution_count": 84,
   "metadata": {},
   "outputs": [
    {
     "name": "stdout",
     "output_type": "stream",
     "text": [
      "Test passed\n"
     ]
    }
   ],
   "source": [
    "# TEST YOUR SOLUTION\n",
    "\n",
    "# DON'T CHANGE THIS CELL\n",
    "x_res_, y_res_ = compute_residuals(x, y, xp, yp)\n",
    "if np.isclose(x_res_[0], -0.09361975, atol=0.01) and np.isclose(y_res_[0], 0.09361975, atol=0.01):\n",
    "    print('Test passed')\n",
    "else:\n",
    "    print('Test failed')"
   ]
  },
  {
   "cell_type": "markdown",
   "metadata": {},
   "source": [
    "Let's plot the residuals (original data with variation along PC1 removed) as green points.\n",
    "\n",
    "**Exercise:** Discuss with your partner why you think the green points form the pattern that they do."
   ]
  },
  {
   "cell_type": "code",
   "execution_count": 85,
   "metadata": {},
   "outputs": [
    {
     "data": {
      "image/png": "[encoded data removed]",
      "text/plain": [
       "<Figure size 500x500 with 1 Axes>"
      ]
     },
     "metadata": {},
     "output_type": "display_data"
    }
   ],
   "source": [
    "# projections\n",
    "xp, yp = project_point_onto_line(x, y, 1.0)\n",
    "\n",
    "# residuals\n",
    "x_res, y_res = compute_residuals(x, y, xp, yp)\n",
    "\n",
    "plt.figure(figsize=(5, 5))\n",
    "plt.scatter(ratings['responsible'], ratings['trustworthy'], label='Original')\n",
    "plt.scatter(xp, yp, color='red', label='Projected')\n",
    "x_min, x_max = np.min(xp), np.max(xp)\n",
    "y_min = x_min\n",
    "y_max = x_max\n",
    "plt.plot([x_min, x_max], [y_min, y_max], color='red', label='PC1')\n",
    "plt.scatter(x_res, y_res, color='green', label='Residuals')\n",
    "plt.xlabel('responsible')\n",
    "plt.ylabel('trustworthy')\n",
    "plt.legend()\n",
    "plt.show()"
   ]
  },
  {
   "cell_type": "markdown",
   "metadata": {},
   "source": [
    "Remember, when looking at residuals, we are removing variation along the red line. That means all points move to the mean along PC1 (the center of the red PC1 dimension).\n",
    "\n",
    "The remaining variation is thus along a new dimension that is perpendicular to PC1. This second dimension is called the **second principal component (PC2)**.\n",
    "\n",
    "There are as many PCs as we have original columns in our data, and PCs will always be perpendicular.\n",
    "\n",
    "**Exercise:** Calculate the variance along PC2 and store the result in `var_explained_by_PC2`."
   ]
  },
  {
   "cell_type": "code",
   "execution_count": 86,
   "metadata": {},
   "outputs": [
    {
     "data": {
      "text/plain": [
       "np.float64(0.05831920707986091)"
      ]
     },
     "execution_count": 86,
     "metadata": {},
     "output_type": "execute_result"
    }
   ],
   "source": [
    "# Your code here\n",
    "var_explained_by_PC2 = compute_variance_along_line(x_res, y_res) / total_variance\n",
    "\n",
    "\n",
    "# don't change\n",
    "var_explained_by_PC2"
   ]
  },
  {
   "cell_type": "code",
   "execution_count": 87,
   "metadata": {},
   "outputs": [
    {
     "name": "stdout",
     "output_type": "stream",
     "text": [
      "Test passed\n"
     ]
    }
   ],
   "source": [
    "# TEST YOUR SOLUTION\n",
    "\n",
    "# DON'T CHANGE THIS CELL\n",
    "if np.isclose(var_explained_by_PC2, 0.05831920707986091):\n",
    "    print('Test passed')\n",
    "else:\n",
    "    print('Test failed')"
   ]
  },
  {
   "cell_type": "markdown",
   "metadata": {},
   "source": [
    "**Exercise:** Compute the total variance for PC1 and PC2 and store the result in `total_for_PC1_and_PC2`.\n",
    "\n",
    "Before your calculation, **discuss with your partner** what you think the result should be."
   ]
  },
  {
   "cell_type": "code",
   "execution_count": 91,
   "metadata": {},
   "outputs": [
    {
     "data": {
      "text/plain": [
       "np.float64(0.9999944513160274)"
      ]
     },
     "execution_count": 91,
     "metadata": {},
     "output_type": "execute_result"
    }
   ],
   "source": [
    "# Your code here\n",
    "\n",
    "total_for_PC1_and_PC2 = highest_var_explained + var_explained_by_PC2\n",
    "\n",
    "# do not change\n",
    "total_for_PC1_and_PC2"
   ]
  },
  {
   "cell_type": "code",
   "execution_count": 92,
   "metadata": {},
   "outputs": [
    {
     "name": "stdout",
     "output_type": "stream",
     "text": [
      "Test passed\n"
     ]
    }
   ],
   "source": [
    "# TEST YOUR SOLUTION\n",
    "\n",
    "# DON'T CHANGE THIS CELL\n",
    "if np.isclose(total_for_PC1_and_PC2, 1.0):\n",
    "    print('Test passed')\n",
    "else:\n",
    "    print('Test failed')"
   ]
  },
  {
   "cell_type": "markdown",
   "metadata": {},
   "source": [
    "We began with two dimensions that made up the total variance (1.0), and we've ended with two new dimensions (PC1 and PC2) that also add up to 1.0.\n",
    "\n",
    "However, there are important differences. The original two dimensions both explained 50% of the total variance. However, in the case of the new dimensions, PC1 explains ~94% of the total variance, and PC2 explains much less: ~6%. Further, the original two dimensions were correlated, whereas the two new dimensions are not (they are perpendicular).\n",
    "\n",
    "PC1 is what we are most interested in. It captures most of the variation in both sets of ratings (trustworthy and responsible). But PC2 is also interesting. It captures variation not captured by PC1, such as aspects of trustworthiness that aren't related to responsibility, like attractiveness.\n",
    "\n",
    "PCA can be performed with more than just two dimensions. In a future homework assignment, we will explore PCs that explain the full set of the ratings in this dataset."
   ]
  },
  {
   "cell_type": "markdown",
   "metadata": {},
   "source": [
    "**References**\n",
    "\n",
    "Lundqvist, D., Flykt, A., & Öhman, A. (1998). The Karolinska Directed Emotional Faces – KDEF, CD ROM from Department of Clinical Neuroscience, Psychology section, Karolinska Institutet, ISBN 91-630-7164-9."
   ]
  }
 ],
 "metadata": {
  "kernelspec": {
   "display_name": ".venv",
   "language": "python",
   "name": "python3"
  },
  "language_info": {
   "codemirror_mode": {
    "name": "ipython",
    "version": 3
   },
   "file_extension": ".py",
   "mimetype": "text/x-python",
   "name": "python",
   "nbconvert_exporter": "python",
   "pygments_lexer": "ipython3",
   "version": "3.9.19"
  }
 },
 "nbformat": 4,
 "nbformat_minor": 2
}
