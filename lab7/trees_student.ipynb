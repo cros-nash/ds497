{
 "cells": [
  {
   "cell_type": "markdown",
   "metadata": {},
   "source": [
    "# Inferring Hierarchical Representations\n",
    "\n",
    "Today:\n",
    "- We will be working in **groups of two or more**.\n",
    "- **Choose a new partner** that you haven't worked with before.\n",
    "- Move chairs together and discuss as you work!"
   ]
  },
  {
   "cell_type": "code",
   "execution_count": 3,
   "metadata": {},
   "outputs": [],
   "source": [
    "# Run this cell first\n",
    "import numpy as np\n",
    "import pandas as pd\n",
    "import matplotlib.pyplot as plt\n",
    "\n",
    "from tools import *"
   ]
  },
  {
   "cell_type": "markdown",
   "metadata": {},
   "source": [
    "### Hierarchies in Cognition\n",
    "\n",
    "Hierarchical organization is a fundamental structure in human cognition. Think about how we categorize a canary. We first distinguish between animals and non-animals at the highest level of a hierarchy. Then perhaps between birds and mammals, flying and non-flying birds, and singing/non-singing birds at lower levels of the hierarchy.\n",
    "\n",
    "Collins and Quillian (1969) showed that people's reaction time to verify semantic facts depends on the hierarchical level. For example, people were faster at verifying that \"a canary can fly\" than \"a canary has skin\". The reason is that verifying flight can be done by traversing a short path through the hierarchy from canary → bird (where the \"can fly\" property is stored), but verifying the property \"has skin\" requires moving from canary → bird → animal (where the \"has skin\" property is stored). Hierarchical representations facilitate efficient information processing because properties are stored only once at the most general applicable level, avoiding redundant storage at lower levels.\n",
    "\n",
    "We previously learned how we can use similarity data to infer how people represent objects in their minds. In particular, we inferred aspects of these representations that are spatial (i.e., sets of points in a continuous space), and featural (e.g., sets of discrete features).\n",
    "\n",
    "In this lab, we will learn how to infer a special kind of feature representation called **hierarchical feature representations**. In particular, our goal will be to build a hierarchy of features that characterize the objects in our data and that follow from the similarity data.\n",
    "\n",
    "### Hierarchical Clustering\n",
    "\n",
    "The **hierarchical clustering** algorithm, also commonly called **agglomerative clustering**, starts by treating each object as a separate cluster. Then, it repeatedly executes the following two steps:\n",
    "\n",
    "1. identify the two clusters that are most similar, and\n",
    "2. merge those two clusters into a single cluster.\n",
    "\n",
    "This iterative process continues until all the clusters are merged together.\n",
    "\n",
    "To see how this algorithm is applied, let's load some similarity data for five animals:"
   ]
  },
  {
   "cell_type": "code",
   "execution_count": 4,
   "metadata": {},
   "outputs": [
    {
     "data": {
      "text/html": [
       "<div>\n",
       "<style scoped>\n",
       "    .dataframe tbody tr th:only-of-type {\n",
       "        vertical-align: middle;\n",
       "    }\n",
       "\n",
       "    .dataframe tbody tr th {\n",
       "        vertical-align: top;\n",
       "    }\n",
       "\n",
       "    .dataframe thead th {\n",
       "        text-align: right;\n",
       "    }\n",
       "</style>\n",
       "<table border=\"1\" class=\"dataframe\">\n",
       "  <thead>\n",
       "    <tr style=\"text-align: right;\">\n",
       "      <th></th>\n",
       "      <th>Dog</th>\n",
       "      <th>Wolf</th>\n",
       "      <th>Eagle</th>\n",
       "      <th>Goldfish</th>\n",
       "      <th>Dolphin</th>\n",
       "    </tr>\n",
       "  </thead>\n",
       "  <tbody>\n",
       "    <tr>\n",
       "      <th>Dog</th>\n",
       "      <td>1.0</td>\n",
       "      <td>0.8</td>\n",
       "      <td>0.3</td>\n",
       "      <td>0.2</td>\n",
       "      <td>0.3</td>\n",
       "    </tr>\n",
       "    <tr>\n",
       "      <th>Wolf</th>\n",
       "      <td>0.8</td>\n",
       "      <td>1.0</td>\n",
       "      <td>0.3</td>\n",
       "      <td>0.2</td>\n",
       "      <td>0.2</td>\n",
       "    </tr>\n",
       "    <tr>\n",
       "      <th>Eagle</th>\n",
       "      <td>0.3</td>\n",
       "      <td>0.3</td>\n",
       "      <td>1.0</td>\n",
       "      <td>0.1</td>\n",
       "      <td>0.3</td>\n",
       "    </tr>\n",
       "    <tr>\n",
       "      <th>Goldfish</th>\n",
       "      <td>0.2</td>\n",
       "      <td>0.2</td>\n",
       "      <td>0.1</td>\n",
       "      <td>1.0</td>\n",
       "      <td>0.7</td>\n",
       "    </tr>\n",
       "    <tr>\n",
       "      <th>Dolphin</th>\n",
       "      <td>0.3</td>\n",
       "      <td>0.2</td>\n",
       "      <td>0.3</td>\n",
       "      <td>0.7</td>\n",
       "      <td>1.0</td>\n",
       "    </tr>\n",
       "  </tbody>\n",
       "</table>\n",
       "</div>"
      ],
      "text/plain": [
       "          Dog  Wolf  Eagle  Goldfish  Dolphin\n",
       "Dog       1.0   0.8    0.3       0.2      0.3\n",
       "Wolf      0.8   1.0    0.3       0.2      0.2\n",
       "Eagle     0.3   0.3    1.0       0.1      0.3\n",
       "Goldfish  0.2   0.2    0.1       1.0      0.7\n",
       "Dolphin   0.3   0.2    0.3       0.7      1.0"
      ]
     },
     "execution_count": 4,
     "metadata": {},
     "output_type": "execute_result"
    }
   ],
   "source": [
    "df_sim = load_small_similarity_data()\n",
    "df_sim"
   ]
  },
  {
   "cell_type": "markdown",
   "metadata": {},
   "source": [
    "**Exercise:** \n",
    "\n",
    "Looking at the similarity matrix above, which pair of animals do people think are the most similar?\n",
    "\n",
    "Which pair is the second most similar?"
   ]
  },
  {
   "cell_type": "code",
   "execution_count": 9,
   "metadata": {},
   "outputs": [
    {
     "name": "stdout",
     "output_type": "stream",
     "text": [
      "The most similar pair is: ['Dog', 'Wolf']\n",
      "The second most similar pair is: ['Dolphin', 'Goldfish']\n"
     ]
    }
   ],
   "source": [
    "# replace ??? with the correct animal names\n",
    "\n",
    "most_similar_pair = [\"Dog\", \"Wolf\"]\n",
    "second_most_similar_pair = [\"Dolphin\", \"Goldfish\"]\n",
    "\n",
    "# do not change\n",
    "print(\"The most similar pair is:\", most_similar_pair)\n",
    "print(\"The second most similar pair is:\", second_most_similar_pair)"
   ]
  },
  {
   "cell_type": "code",
   "execution_count": 10,
   "metadata": {},
   "outputs": [
    {
     "name": "stdout",
     "output_type": "stream",
     "text": [
      "Test passed\n"
     ]
    }
   ],
   "source": [
    "# TEST YOUR SOLUTION\n",
    "\n",
    "# DON'T CHANGE THIS CELL\n",
    "if (set(most_similar_pair) == {\"Dog\", \"Wolf\"} and \n",
    "    set(second_most_similar_pair) == {\"Goldfish\", \"Dolphin\"}):\n",
    "    print('Test passed')\n",
    "else:\n",
    "    print('Test failed')"
   ]
  },
  {
   "cell_type": "markdown",
   "metadata": {},
   "source": [
    "Before grouping objects into clusters, we can think of each object (e.g., animal) as already belonging to a **cluster** (i.e., a group) that contains only that one object (e.g., the \"dog\" cluster contains \"dog\"). A cluster of only one object is called a **singleton**.\n",
    "\n",
    "**Exercise:** Create a list called `initial_clusters` that contains each animal as its own cluster (a list with one element). The order should match that of the index of `df_sim`. This will be our starting point for hierarchical clustering."
   ]
  },
  {
   "cell_type": "code",
   "execution_count": 11,
   "metadata": {},
   "outputs": [],
   "source": [
    "# Your code here\n",
    "\n",
    "initial_clusters = [[x] for x in df_sim.index]"
   ]
  },
  {
   "cell_type": "code",
   "execution_count": 12,
   "metadata": {},
   "outputs": [
    {
     "name": "stdout",
     "output_type": "stream",
     "text": [
      "Test passed\n"
     ]
    }
   ],
   "source": [
    "# TEST YOUR SOLUTION\n",
    "\n",
    "# DON'T CHANGE THIS CELL\n",
    "if (isinstance(initial_clusters, list) and\n",
    "    len(initial_clusters) == 5 and \n",
    "    all(len(cluster) == 1 for cluster in initial_clusters) and\n",
    "    # matches order of animals in df_sim\n",
    "    np.all(np.array([x[0] for x in initial_clusters]) == df_sim.index)\n",
    "):\n",
    "    print('Test passed')\n",
    "else:\n",
    "    print('Test failed')"
   ]
  },
  {
   "cell_type": "markdown",
   "metadata": {},
   "source": [
    "Recall that \"cluster\" is another word for feature, because both pick out a subset of objects to which they apply. Thus any set of clusters is also a feature representation.\n",
    "\n",
    "**Exercise:** Edit the values of `feature_matrix` below to construct a feature representation that matches the features you defined in `initial_clusters`."
   ]
  },
  {
   "cell_type": "code",
   "execution_count": 15,
   "metadata": {},
   "outputs": [
    {
     "data": {
      "text/html": [
       "<div>\n",
       "<style scoped>\n",
       "    .dataframe tbody tr th:only-of-type {\n",
       "        vertical-align: middle;\n",
       "    }\n",
       "\n",
       "    .dataframe tbody tr th {\n",
       "        vertical-align: top;\n",
       "    }\n",
       "\n",
       "    .dataframe thead th {\n",
       "        text-align: right;\n",
       "    }\n",
       "</style>\n",
       "<table border=\"1\" class=\"dataframe\">\n",
       "  <thead>\n",
       "    <tr style=\"text-align: right;\">\n",
       "      <th></th>\n",
       "      <th>Cluster1</th>\n",
       "      <th>Cluster2</th>\n",
       "      <th>Cluster3</th>\n",
       "      <th>Cluster4</th>\n",
       "      <th>Cluster5</th>\n",
       "    </tr>\n",
       "  </thead>\n",
       "  <tbody>\n",
       "    <tr>\n",
       "      <th>Dog</th>\n",
       "      <td>1</td>\n",
       "      <td>0</td>\n",
       "      <td>0</td>\n",
       "      <td>0</td>\n",
       "      <td>0</td>\n",
       "    </tr>\n",
       "    <tr>\n",
       "      <th>Wolf</th>\n",
       "      <td>0</td>\n",
       "      <td>1</td>\n",
       "      <td>0</td>\n",
       "      <td>0</td>\n",
       "      <td>0</td>\n",
       "    </tr>\n",
       "    <tr>\n",
       "      <th>Eagle</th>\n",
       "      <td>0</td>\n",
       "      <td>0</td>\n",
       "      <td>1</td>\n",
       "      <td>0</td>\n",
       "      <td>0</td>\n",
       "    </tr>\n",
       "    <tr>\n",
       "      <th>Goldfish</th>\n",
       "      <td>0</td>\n",
       "      <td>0</td>\n",
       "      <td>0</td>\n",
       "      <td>1</td>\n",
       "      <td>0</td>\n",
       "    </tr>\n",
       "    <tr>\n",
       "      <th>Dolphin</th>\n",
       "      <td>0</td>\n",
       "      <td>0</td>\n",
       "      <td>0</td>\n",
       "      <td>0</td>\n",
       "      <td>1</td>\n",
       "    </tr>\n",
       "  </tbody>\n",
       "</table>\n",
       "</div>"
      ],
      "text/plain": [
       "          Cluster1  Cluster2  Cluster3  Cluster4  Cluster5\n",
       "Dog              1         0         0         0         0\n",
       "Wolf             0         1         0         0         0\n",
       "Eagle            0         0         1         0         0\n",
       "Goldfish         0         0         0         1         0\n",
       "Dolphin          0         0         0         0         1"
      ]
     },
     "execution_count": 15,
     "metadata": {},
     "output_type": "execute_result"
    }
   ],
   "source": [
    "# edit the values of this matrix\n",
    "feature_matrix = [\n",
    "    [1, 0, 0, 0, 0],\n",
    "    [0, 1, 0, 0, 0],\n",
    "    [0, 0, 1, 0, 0],\n",
    "    [0, 0, 0, 1, 0],\n",
    "    [0, 0, 0, 0, 1]\n",
    "]\n",
    "\n",
    "df_initial = pd.DataFrame(\n",
    "    feature_matrix, \n",
    "    index=[\"Dog\", \"Wolf\", \"Eagle\", \"Goldfish\", \"Dolphin\"], \n",
    "    columns=[\"Cluster1\", \"Cluster2\", \"Cluster3\", \"Cluster4\", \"Cluster5\"]\n",
    ")\n",
    "\n",
    "df_initial"
   ]
  },
  {
   "cell_type": "code",
   "execution_count": 16,
   "metadata": {},
   "outputs": [
    {
     "name": "stdout",
     "output_type": "stream",
     "text": [
      "Test passed\n"
     ]
    }
   ],
   "source": [
    "# TEST YOUR SOLUTION\n",
    "\n",
    "# DON'T CHANGE THIS CELL\n",
    "if np.all(df_initial.sum(axis=0) == 1):\n",
    "    print('Test passed')\n",
    "else:\n",
    "    print('Test failed')"
   ]
  },
  {
   "cell_type": "markdown",
   "metadata": {},
   "source": [
    "**Exercise:** What's the largest number of shared features between any two objects in the feature matrix above?"
   ]
  },
  {
   "cell_type": "code",
   "execution_count": 19,
   "metadata": {},
   "outputs": [],
   "source": [
    "largest_n_shared = 0"
   ]
  },
  {
   "cell_type": "code",
   "execution_count": 20,
   "metadata": {},
   "outputs": [
    {
     "name": "stdout",
     "output_type": "stream",
     "text": [
      "Test passed\n"
     ]
    }
   ],
   "source": [
    "# TEST YOUR SOLUTION\n",
    "\n",
    "# DON'T CHANGE THIS CELL\n",
    "if largest_n_shared == 272 % 17:\n",
    "    print('Test passed')\n",
    "else:\n",
    "    print('Test failed')"
   ]
  },
  {
   "cell_type": "markdown",
   "metadata": {},
   "source": [
    "This above is not a very interesting feature representation. For example, there are no shared features to determine similarity, and there is no hierarchy. However, this is just a starting point for additional clustering using hierarchical clustering.\n",
    "\n",
    "The next step in hierarchical clustering is to **group the two most similar clusters** (objects).\n",
    "\n",
    "**Exercise:** Create a function called `find_most_similar_pair` that takes a similarity matrix (DataFrame) and returns the names of the two most similar objects (the pair with the highest similarity value) as a tuple of two strings (e.g., `('animal1', 'animal2')`).\n",
    "\n",
    "**Warm-up:** Since you've already had more than enough experience with indexing, the first cell below is a reminder of how to iterate though unique pairs of objects. There are few straightforward blanks to fill in. Once complete, you can use the code as part of your solution for your `find_most_similar_pair` function in the second cell."
   ]
  },
  {
   "cell_type": "code",
   "execution_count": 21,
   "metadata": {},
   "outputs": [
    {
     "name": "stdout",
     "output_type": "stream",
     "text": [
      "('Dog', 'Wolf') have a similarity score of 0.8\n",
      "('Dog', 'Eagle') have a similarity score of 0.3\n",
      "('Dog', 'Goldfish') have a similarity score of 0.2\n",
      "('Dog', 'Dolphin') have a similarity score of 0.3\n",
      "('Wolf', 'Eagle') have a similarity score of 0.3\n",
      "('Wolf', 'Goldfish') have a similarity score of 0.2\n",
      "('Wolf', 'Dolphin') have a similarity score of 0.2\n",
      "('Eagle', 'Goldfish') have a similarity score of 0.1\n",
      "('Eagle', 'Dolphin') have a similarity score of 0.3\n",
      "('Goldfish', 'Dolphin') have a similarity score of 0.7\n"
     ]
    }
   ],
   "source": [
    "# Just a warm up. `find_most_similar_pair` goes in next cell.\n",
    "\n",
    "for i in range(len(df_sim)):\n",
    "    for j in range(len(df_sim)):\n",
    "\n",
    "        if i < j: # only check (dog, wolf) since (dog, wolf) == (wolf, dog)\n",
    "\n",
    "            obj1 = df_sim.index[i] # e.g., dog\n",
    "            obj2 = df_sim.index[j] # e.g., wolf\n",
    "\n",
    "            sim = df_sim.loc[obj1, obj2] # similarity between obj1 and obj2\n",
    "            print((obj1, obj2), 'have a similarity score of', sim)\n",
    "\n",
    "# Just a warm up. `find_most_similar_pair` goes in next cell."
   ]
  },
  {
   "cell_type": "code",
   "execution_count": 36,
   "metadata": {},
   "outputs": [
    {
     "name": "stdout",
     "output_type": "stream",
     "text": [
      "The most similar pair is ['Dog', 'Wolf']\n"
     ]
    }
   ],
   "source": [
    "# Your code goes here\n",
    "def find_most_similar_pair(df):\n",
    "    sim = {}\n",
    "    for i in range(len(df_sim)):\n",
    "        for j in range(len(df_sim)):\n",
    "\n",
    "            if i < j: # only check (dog, wolf) since (dog, wolf) == (wolf, dog)\n",
    "\n",
    "                obj1 = df_sim.index[i] # e.g., dog\n",
    "                obj2 = df_sim.index[j] # e.g., wolf\n",
    "\n",
    "                sim[df_sim.loc[obj1, obj2]] = [obj1, obj2] # similarity between obj1 and obj2\n",
    "\n",
    "    highest = sorted(sim.keys())[-1]\n",
    "    return sim[highest]\n",
    "\n",
    "# don't edit this code\n",
    "most_similar = find_most_similar_pair(df_sim)\n",
    "print(f\"The most similar pair is {most_similar}\")"
   ]
  },
  {
   "cell_type": "code",
   "execution_count": 37,
   "metadata": {},
   "outputs": [
    {
     "name": "stdout",
     "output_type": "stream",
     "text": [
      "Test passed\n"
     ]
    }
   ],
   "source": [
    "# TEST YOUR SOLUTION\n",
    "\n",
    "# DON'T CHANGE THIS CELL\n",
    "if set(most_similar) == {\"Dog\", \"Wolf\"}:\n",
    "    print('Test passed')\n",
    "else:\n",
    "    print('Test failed')"
   ]
  },
  {
   "cell_type": "markdown",
   "metadata": {},
   "source": [
    "Now that we've identified the most similar pair of objects (Dog and Wolf), we can group them together to form our first higher level cluster that contains more than one object.\n",
    "\n",
    "A cluster can be represented as a list of objects. For example, `[\"Dog\", \"Wolf\"]` is a cluster containing Dog and Wolf.\n",
    "\n",
    "Replacing the two most similar clusters, `[\"Dog\"]` and `[\"Wolf\"]`), with the single cluster `[\"Dog\", \"Wolf\"]` is called **merging**.\n",
    "\n",
    "**Exercise:** Create a new list called `clusters_after_first_merge` that is like `initial_clusters` but where the individual clusters for Dog and Wolf have been replaced with a single merged cluster containing both animals. The order of the clusters should be: all *remaining* singletons in their original order first, followed by our new merged cluster."
   ]
  },
  {
   "cell_type": "code",
   "execution_count": 42,
   "metadata": {},
   "outputs": [
    {
     "name": "stdout",
     "output_type": "stream",
     "text": [
      "[['Dog', 'Wolf'], ['Eagle'], ['Goldfish'], ['Dolphin']]\n"
     ]
    }
   ],
   "source": [
    "# Your code here\n",
    "clusters_after_first_merge = [most_similar] + initial_clusters[2:]\n",
    "\n",
    "# do not change\n",
    "print(clusters_after_first_merge)"
   ]
  },
  {
   "cell_type": "code",
   "execution_count": 43,
   "metadata": {},
   "outputs": [
    {
     "name": "stdout",
     "output_type": "stream",
     "text": [
      "Test passed\n"
     ]
    }
   ],
   "source": [
    "# TEST YOUR SOLUTION\n",
    "\n",
    "# DON'T CHANGE THIS CELL\n",
    "if (len(clusters_after_first_merge) == 4 and  # Should be 4 clusters now\n",
    "    any(set(cluster) == {\"Dog\", \"Wolf\"} for cluster in clusters_after_first_merge) and  # Contains Dog-Wolf cluster\n",
    "    sum(len(cluster) == 1 for cluster in clusters_after_first_merge) == 3):  # 3 singleton clusters\n",
    "    print('Test passed')\n",
    "else:\n",
    "    print('Test failed')"
   ]
  },
  {
   "cell_type": "markdown",
   "metadata": {},
   "source": [
    "After our first merge, we have one non-singleton (merged) cluster: `[\"Dog\", \"Wolf\"]`. This cluster can be viewed as a mental feature that Dog and Wolf share, perhaps something like **Canines**.\n",
    "\n",
    "In doing this, we've officially begun to build our **hierarchy** or **tree**. Below is a visualization of this tree. The **root** of the tree is the (current) highest-level category which we're calling \"Canines\". \"Canines\" is then split into two **branches**. When those branches immediately connect to singletons, they are called **leaves** (here, Dog and Wolf).\n",
    "\n",
    "```\n",
    "     Canines     \n",
    "     /     \\     \n",
    "  Dog      Wolf  \n",
    "```\n",
    "\n",
    "Let's create a feature matrix using our new merged cluster. \n",
    "\n",
    "Note that we will leave out the original singleton features for simplicity going forward. These singleton features (representing individual animals) are less informative for understanding the hierarchical structure since each applies to only one object. By focusing only on the merged clusters, we can better visualize how the hierarchy develops through shared features that apply to multiple objects. Note that these singleton features would still exist in a complete representation but don't contribute to showing relationships between objects.\n",
    "\n",
    "**Exercise:** Edit the values of `feature_matrix` below to construct a feature representation that matches the new non-singleton feature in `clusters_after_first_merge` that you created through merging."
   ]
  },
  {
   "cell_type": "code",
   "execution_count": 44,
   "metadata": {},
   "outputs": [
    {
     "data": {
      "text/html": [
       "<div>\n",
       "<style scoped>\n",
       "    .dataframe tbody tr th:only-of-type {\n",
       "        vertical-align: middle;\n",
       "    }\n",
       "\n",
       "    .dataframe tbody tr th {\n",
       "        vertical-align: top;\n",
       "    }\n",
       "\n",
       "    .dataframe thead th {\n",
       "        text-align: right;\n",
       "    }\n",
       "</style>\n",
       "<table border=\"1\" class=\"dataframe\">\n",
       "  <thead>\n",
       "    <tr style=\"text-align: right;\">\n",
       "      <th></th>\n",
       "      <th>Canines</th>\n",
       "    </tr>\n",
       "  </thead>\n",
       "  <tbody>\n",
       "    <tr>\n",
       "      <th>Dog</th>\n",
       "      <td>1</td>\n",
       "    </tr>\n",
       "    <tr>\n",
       "      <th>Wolf</th>\n",
       "      <td>1</td>\n",
       "    </tr>\n",
       "    <tr>\n",
       "      <th>Eagle</th>\n",
       "      <td>0</td>\n",
       "    </tr>\n",
       "    <tr>\n",
       "      <th>Goldfish</th>\n",
       "      <td>0</td>\n",
       "    </tr>\n",
       "    <tr>\n",
       "      <th>Dolphin</th>\n",
       "      <td>0</td>\n",
       "    </tr>\n",
       "  </tbody>\n",
       "</table>\n",
       "</div>"
      ],
      "text/plain": [
       "          Canines\n",
       "Dog             1\n",
       "Wolf            1\n",
       "Eagle           0\n",
       "Goldfish        0\n",
       "Dolphin         0"
      ]
     },
     "execution_count": 44,
     "metadata": {},
     "output_type": "execute_result"
    }
   ],
   "source": [
    "# edit the values of this matrix\n",
    "feature_matrix = [\n",
    "    [1],\n",
    "    [1],\n",
    "    [0],\n",
    "    [0],\n",
    "    [0]\n",
    "]\n",
    "\n",
    "df_merge1 = pd.DataFrame(\n",
    "    feature_matrix, \n",
    "    index=[\"Dog\", \"Wolf\", \"Eagle\", \"Goldfish\", \"Dolphin\"], \n",
    "    columns=[\"Canines\"]\n",
    ")\n",
    "\n",
    "df_merge1"
   ]
  },
  {
   "cell_type": "code",
   "execution_count": 45,
   "metadata": {},
   "outputs": [
    {
     "name": "stdout",
     "output_type": "stream",
     "text": [
      "Test passed\n"
     ]
    }
   ],
   "source": [
    "# TEST YOUR SOLUTION\n",
    "\n",
    "# DON'T CHANGE THIS CELL\n",
    "if (df_merge1.loc[\"Dog\", \"Canines\"] == 1.0 and\n",
    "    df_merge1.loc[\"Wolf\", \"Canines\"] == 1.0 and\n",
    "    df_merge1.loc[\"Eagle\", \"Canines\"] == 0.0):\n",
    "    print('Test passed')\n",
    "else:\n",
    "    print('Test failed')"
   ]
  },
  {
   "cell_type": "markdown",
   "metadata": {},
   "source": [
    "After our first merge, our data is now partitioned into 4 distinct clusters:\n",
    "- The `[Dog, Wolf]` nonsingleton cluster\n",
    "- The `[Eagle]` singleton cluster\n",
    "- The `[Goldfish]` singleton cluster\n",
    "- The `[Dolphin]` singleton cluster\n",
    "\n",
    "This represents a reduction from our initial 5 separate clusters to 4 clusters.\n",
    "\n",
    "That is, we started with:"
   ]
  },
  {
   "cell_type": "code",
   "execution_count": 46,
   "metadata": {},
   "outputs": [
    {
     "name": "stdout",
     "output_type": "stream",
     "text": [
      "[['Dog'], ['Wolf'], ['Eagle'], ['Goldfish'], ['Dolphin']] \n",
      "\n",
      "initial_clusters has 5 clusters\n"
     ]
    }
   ],
   "source": [
    "print(initial_clusters, '\\n')\n",
    "\n",
    "print(\"initial_clusters has\", len(initial_clusters), \"clusters\")"
   ]
  },
  {
   "cell_type": "markdown",
   "metadata": {},
   "source": [
    "And, now we have:"
   ]
  },
  {
   "cell_type": "code",
   "execution_count": 47,
   "metadata": {},
   "outputs": [
    {
     "name": "stdout",
     "output_type": "stream",
     "text": [
      "[['Dog', 'Wolf'], ['Eagle'], ['Goldfish'], ['Dolphin']] \n",
      "\n",
      "clusters_after_first_merge has 4 clusters\n"
     ]
    }
   ],
   "source": [
    "print(clusters_after_first_merge, '\\n')\n",
    "\n",
    "print(\"clusters_after_first_merge has\", len(clusters_after_first_merge), \"clusters\")"
   ]
  },
  {
   "cell_type": "markdown",
   "metadata": {},
   "source": [
    "The hierarchical clustering process continues by repeatedly finding and merging the most similar pair of clusters until all objects are in a single cluster.\n",
    "\n",
    "For the next iteration, we'll need to compare similarities between these 4 remaining clusters to determine which pair to merge next, just like we did before.\n",
    "\n",
    "Now that one of the clusters is non-singleton, there are two possibilities: \n",
    "1. two more singletons (e.g., Goldfish and Dolphin) will be most similar and thus be merged, or \n",
    "2. a singleton and non-singleton (e.g., Eagle and [Dog, Wolf]) will be most similar and thus merged.\n",
    "\n",
    "While we already know how to compare two singletons as in (1) by checking their similarity value, we don't yet know how to compare similarity between a singleton and non-singleton as in (2).\n",
    "\n",
    "To solve this, we will define the similarity between two clusters as the **average similarity between all pairs of members**. This method is called **average linkage**. \n",
    "\n",
    "For pairs of singletons, there is only one member in each cluster, so the average similarity is just their similarity score as before. However, when comparing say Eagle to the [Dog, Wolf] cluster, we will average the similarity between Eagle-Dog and Eagle-Wolf.\n",
    "\n",
    "**Exercise:** Create a function called `compute_cluster_similarity` that takes two clusters (lists of object names) and a similarity matrix, and returns the average similarity between all pairs of objects, one from each cluster.\n",
    "\n",
    "For example, to get the similarity between the Eagle and [Dog, Wolf] clusters, you could call:\n",
    "\n",
    "```python\n",
    "    compute_cluster_similarity([\"Dog\", \"Wolf\"], [\"Eagle\"], df_sim)\n",
    "```\n",
    "\n",
    "This will return an average similarity value between 0 and 1 (same scale as the original values).\n",
    "\n",
    "**HINT 1:** Recall that you can access similarity for a pair using e.g., `df_sim.loc[\"Dog\", \"Wolf\"]`.\n",
    "\n",
    "**HINT 2:** The function should also work when *both* input lists are non-singletons like `[\"Dog\", \"Wolf\"]`."
   ]
  },
  {
   "cell_type": "code",
   "execution_count": 65,
   "metadata": {},
   "outputs": [],
   "source": [
    "# Your code here\n",
    "\n",
    "def compute_cluster_similarity(cluster1, cluster2, sim_matrix):\n",
    "    avg = []\n",
    "    for i in cluster1:\n",
    "        for j in cluster2:\n",
    "            avg.append(df_sim.loc[i,j])\n",
    "    return np.average(avg)"
   ]
  },
  {
   "cell_type": "markdown",
   "metadata": {},
   "source": [
    "If correctly written, the function should apply to two singletons.\n",
    "\n",
    "The output of the next two cells should match."
   ]
  },
  {
   "cell_type": "code",
   "execution_count": 59,
   "metadata": {},
   "outputs": [
    {
     "data": {
      "text/plain": [
       "np.float64(0.8)"
      ]
     },
     "execution_count": 59,
     "metadata": {},
     "output_type": "execute_result"
    }
   ],
   "source": [
    "dog_wolf_sim = df_sim.loc[\"Dog\", \"Wolf\"]\n",
    "dog_wolf_sim"
   ]
  },
  {
   "cell_type": "code",
   "execution_count": 66,
   "metadata": {},
   "outputs": [
    {
     "data": {
      "text/plain": [
       "np.float64(0.8)"
      ]
     },
     "execution_count": 66,
     "metadata": {},
     "output_type": "execute_result"
    }
   ],
   "source": [
    "dog_wolf_cluster_sim = compute_cluster_similarity([\"Dog\"], [\"Wolf\"], df_sim)\n",
    "dog_wolf_cluster_sim"
   ]
  },
  {
   "cell_type": "code",
   "execution_count": 67,
   "metadata": {},
   "outputs": [
    {
     "name": "stdout",
     "output_type": "stream",
     "text": [
      "Test passed\n"
     ]
    }
   ],
   "source": [
    "# TEST YOUR SOLUTION\n",
    "\n",
    "# DON'T CHANGE THIS CELL\n",
    "if np.isclose(dog_wolf_sim, dog_wolf_cluster_sim):\n",
    "    print('Test passed')\n",
    "else:\n",
    "    print('Test failed')"
   ]
  },
  {
   "cell_type": "markdown",
   "metadata": {},
   "source": [
    "It should also apply to a singleton and non-singleton."
   ]
  },
  {
   "cell_type": "code",
   "execution_count": 68,
   "metadata": {},
   "outputs": [
    {
     "data": {
      "text/plain": [
       "np.float64(0.25)"
      ]
     },
     "execution_count": 68,
     "metadata": {},
     "output_type": "execute_result"
    }
   ],
   "source": [
    "sing_to_non = compute_cluster_similarity([\"Dog\"], [\"Eagle\", \"Goldfish\"], df_sim)\n",
    "sing_to_non"
   ]
  },
  {
   "cell_type": "code",
   "execution_count": 69,
   "metadata": {},
   "outputs": [
    {
     "name": "stdout",
     "output_type": "stream",
     "text": [
      "Test passed\n"
     ]
    }
   ],
   "source": [
    "# TEST YOUR SOLUTION\n",
    "\n",
    "# DON'T CHANGE THIS CELL\n",
    "if np.isclose(sing_to_non, float('52.0'[::-1])):\n",
    "    print('Test passed')\n",
    "else:\n",
    "    print('Test failed')"
   ]
  },
  {
   "cell_type": "markdown",
   "metadata": {},
   "source": [
    "Now that we can compute similarity between clusters, let's find the next pair of clusters to merge.\n",
    "\n",
    "**Exercise:** \n",
    "\n",
    "Create a function called `find_most_similar_clusters` that takes a list of clusters like `clusters_after_first_merge` and a similarity matrix, and returns the indices of the two most similar clusters as a tuple `(i, j)`.\n",
    "\n",
    "**HINT:** You can borrow some of your code from the `find_most_similar_pair` function you already wrote above."
   ]
  },
  {
   "cell_type": "code",
   "execution_count": 82,
   "metadata": {},
   "outputs": [
    {
     "name": "stdout",
     "output_type": "stream",
     "text": [
      "Your function thinks the most similar clusters are ['Dog', 'Wolf'] and ['Eagle']\n"
     ]
    }
   ],
   "source": [
    "# Your code here\n",
    "def find_most_similar_clusters(clusters, sim_matrix) -> tuple:\n",
    "    sim = {}\n",
    "    \n",
    "    for i in range(len(clusters)):\n",
    "        for j in range(len(clusters)):\n",
    "            if i < j:\n",
    "                sim[sim_matrix.iloc[i, j]] = (i, j)\n",
    "            \n",
    "    return sim[sorted(sim.keys())[-1]]\n",
    "        \n",
    "# do not change\n",
    "i_, j_ = find_most_similar_clusters(clusters_after_first_merge, df_sim)\n",
    "print(f\"Your function thinks the most similar clusters are {clusters_after_first_merge[i_]} and {clusters_after_first_merge[j_]}\")"
   ]
  },
  {
   "cell_type": "code",
   "execution_count": 81,
   "metadata": {},
   "outputs": [
    {
     "name": "stdout",
     "output_type": "stream",
     "text": [
      "Test failed\n"
     ]
    }
   ],
   "source": [
    "# TEST YOUR SOLUTION\n",
    "\n",
    "# DON'T CHANGE THIS CELL\n",
    "i_, j_ = find_most_similar_clusters(clusters_after_first_merge, df_sim)\n",
    "cluster1 = clusters_after_first_merge[i_]\n",
    "cluster2 = clusters_after_first_merge[j_]\n",
    "\n",
    "if (set(cluster1) == {\"Goldfish\"} and set(cluster2) == {\"Dolphin\"}) or \\\n",
    "   (set(cluster1) == {\"Dolphin\"} and set(cluster2) == {\"Goldfish\"}):\n",
    "    print('Test passed')\n",
    "else:\n",
    "    print('Test failed')"
   ]
  },
  {
   "cell_type": "markdown",
   "metadata": {},
   "source": [
    "Great! We've found that Goldfish and Dolphin should be our next cluster. Let's merge those clusters.\n",
    "\n",
    "To help you merge clusters going forward, you can use a preloaded function called `merge_clusters`, which takes as input the current set of clusters and the two indices of the clusters to merge, e.g.,  `merge_clusters(my_current_clusters, i, j)`, and returns a new, smaller list of clusters with the merge.\n",
    "\n",
    "**Exercise:** Use your existing functions along with `merge_clusters` to create a new list of clusters called `clusters_after_second_merge` where the Goldfish and Dolphin clusters are merged."
   ]
  },
  {
   "cell_type": "code",
   "execution_count": null,
   "metadata": {},
   "outputs": [],
   "source": [
    "# Your code here\n",
    "\n",
    "\n",
    "\n",
    "# do not change\n",
    "print(\"Clusters after second merge:\")\n",
    "print(clusters_after_second_merge)"
   ]
  },
  {
   "cell_type": "code",
   "execution_count": null,
   "metadata": {},
   "outputs": [],
   "source": [
    "# TEST YOUR SOLUTION\n",
    "\n",
    "# DON'T CHANGE THIS CELL\n",
    "if (len(clusters_after_second_merge) == 3 and  # Should be 3 clusters now\n",
    "    any(set(cluster) == {\"Dog\", \"Wolf\"} for cluster in clusters_after_second_merge) and  # Contains Dog-Wolf\n",
    "    any(set(cluster) == {\"Goldfish\", \"Dolphin\"} for cluster in clusters_after_second_merge) and  # Contains Goldfish-Dolphin\n",
    "    any(set(cluster) == {\"Eagle\"} for cluster in clusters_after_second_merge)):  # Contains Eagle\n",
    "    print('Test passed')\n",
    "else:\n",
    "    print('Test failed')"
   ]
  },
  {
   "cell_type": "markdown",
   "metadata": {},
   "source": [
    "Our (incomplete) tree now looks like this.\n",
    "\n",
    "```\n",
    "     Canines               Aquatic        \n",
    "     /     \\             /         \\      \n",
    "  Dog      Wolf      Goldfish    Dolphin  \n",
    "```"
   ]
  },
  {
   "cell_type": "markdown",
   "metadata": {},
   "source": [
    "**Exercise:** Let's update our feature matrix to include the new cluster."
   ]
  },
  {
   "cell_type": "code",
   "execution_count": null,
   "metadata": {},
   "outputs": [],
   "source": [
    "# edit the values of this matrix\n",
    "feature_matrix = [\n",
    "    [1, 0],\n",
    "    [1, 0],\n",
    "    [0, 0],\n",
    "    [0, 0],\n",
    "    [0, 0]\n",
    "]\n",
    "\n",
    "df_merge2 = pd.DataFrame(\n",
    "    feature_matrix, \n",
    "    index=[\"Dog\", \"Wolf\", \"Eagle\", \"Goldfish\", \"Dolphin\"], \n",
    "    columns=[\"Canines\", \"Aquatic\"]\n",
    ")\n",
    "\n",
    "df_merge2"
   ]
  },
  {
   "cell_type": "code",
   "execution_count": null,
   "metadata": {},
   "outputs": [],
   "source": [
    "# TEST YOUR SOLUTION\n",
    "\n",
    "# DON'T CHANGE THIS CELL\n",
    "if (df_merge2.loc[\"Dolphin\", \"Aquatic\"] == 1.0 and\n",
    "    df_merge2.loc[\"Goldfish\", \"Aquatic\"] == 1.0 and\n",
    "    df_merge2.loc[\"Eagle\", \"Aquatic\"] == 0.0):\n",
    "    print('Test passed')\n",
    "else:\n",
    "    print('Test failed')"
   ]
  },
  {
   "cell_type": "markdown",
   "metadata": {},
   "source": [
    "Now we have two features - one for the Dog-Wolf cluster (perhaps \"Canines\") and one for the Goldfish-Dolphin cluster (perhaps \"Aquatic Animals\").\n",
    "\n",
    "Let's continue the merging process.\n",
    "\n",
    "**Exercise:** Find the most similar clusters in `clusters_after_second_merge` and merge them into `clusters_after_third_merge` using the functions you've created and that have been provided."
   ]
  },
  {
   "cell_type": "code",
   "execution_count": null,
   "metadata": {},
   "outputs": [],
   "source": [
    "# Your code here\n",
    "\n",
    "\n",
    "\n",
    "# don't change\n",
    "print(\"\\nClusters after third merge:\")\n",
    "print(clusters_after_third_merge)"
   ]
  },
  {
   "cell_type": "code",
   "execution_count": null,
   "metadata": {},
   "outputs": [],
   "source": [
    "# TEST YOUR SOLUTION\n",
    "\n",
    "# DON'T CHANGE THIS CELL\n",
    "if (len(clusters_after_third_merge) == 2 and\n",
    "    any(set(cluster) == {\"Dog\", \"Wolf\", \"Eagle\"} for cluster in clusters_after_third_merge) and\n",
    "    any(set(cluster) == {\"Goldfish\", \"Dolphin\"} for cluster in clusters_after_third_merge)):\n",
    "    print('Test passed')\n",
    "else:\n",
    "    print('Test failed')"
   ]
  },
  {
   "cell_type": "markdown",
   "metadata": {},
   "source": [
    "We now have a new feature (maybe \"Land Animals\") that combines Canines with Eagle.\n",
    "\n",
    "**Exercise:** Complete the extended feature matrix."
   ]
  },
  {
   "cell_type": "code",
   "execution_count": null,
   "metadata": {},
   "outputs": [],
   "source": [
    "# edit the values of this matrix\n",
    "feature_matrix = [\n",
    "    [1, 0, 0],\n",
    "    [1, 0, 0],\n",
    "    [0, 0, 0],\n",
    "    [0, 1, 0],\n",
    "    [0, 1, 0]\n",
    "]\n",
    "\n",
    "df_merge3 = pd.DataFrame(\n",
    "    feature_matrix, \n",
    "    index=[\"Dog\", \"Wolf\", \"Eagle\", \"Goldfish\", \"Dolphin\"], \n",
    "    columns=[\"Canines\", \"Aquatic\", \"Land\"]\n",
    ")\n",
    "\n",
    "df_merge3"
   ]
  },
  {
   "cell_type": "code",
   "execution_count": null,
   "metadata": {},
   "outputs": [],
   "source": [
    "# TEST YOUR SOLUTION\n",
    "\n",
    "# DON'T CHANGE THIS CELL\n",
    "if (df_merge3.loc[\"Eagle\", \"Land\"] == 1.0 and\n",
    "    df_merge3.loc[\"Goldfish\", \"Land\"] == 0.0 and\n",
    "    df_merge3.loc[\"Dolphin\", \"Land\"] == 0.0):\n",
    "    print('Test passed')\n",
    "else:\n",
    "    print('Test failed')"
   ]
  },
  {
   "cell_type": "markdown",
   "metadata": {},
   "source": [
    "Our partially constructed tree now looks like the below.\n",
    "\n",
    "```\n",
    "          Land         Aquatic        \n",
    "         /    \\       /      \\        \n",
    "   Canines     |      |       |       \n",
    "   /     \\     |      |       |       \n",
    "Dog      Wolf Eagle Goldfish Dolphin  \n",
    "```\n",
    "\n",
    "Notice that the Land cluster/feature **contains** the Canines cluster/feature.\n",
    "\n",
    "**Exercise:** If we continue merging clusters, how many more merges are possible?"
   ]
  },
  {
   "cell_type": "code",
   "execution_count": null,
   "metadata": {},
   "outputs": [],
   "source": [
    "n_merges_left = ?"
   ]
  },
  {
   "cell_type": "code",
   "execution_count": null,
   "metadata": {},
   "outputs": [],
   "source": [
    "# TEST YOUR SOLUTION\n",
    "\n",
    "# DON'T CHANGE THIS CELL\n",
    "if 729 % 364 == n_merges_left:\n",
    "    print('Test passed')\n",
    "else:\n",
    "    print('Test failed')"
   ]
  },
  {
   "cell_type": "markdown",
   "metadata": {},
   "source": [
    "**Exercise:** Perform another merge and create `clusters_after_fourth_merge`."
   ]
  },
  {
   "cell_type": "code",
   "execution_count": null,
   "metadata": {},
   "outputs": [],
   "source": [
    "# Your code here\n",
    "\n"
   ]
  },
  {
   "cell_type": "code",
   "execution_count": null,
   "metadata": {},
   "outputs": [],
   "source": [
    "# TEST YOUR SOLUTION\n",
    "\n",
    "# DON'T CHANGE THIS CELL\n",
    "if (len(clusters_after_fourth_merge) == 1 and\n",
    "    set(clusters_after_fourth_merge[0]) == {\"Dog\", \"Wolf\", \"Eagle\", \"Goldfish\", \"Dolphin\"}):\n",
    "    print('Test passed')\n",
    "else:\n",
    "    print('Test failed')"
   ]
  },
  {
   "cell_type": "markdown",
   "metadata": {},
   "source": [
    "**Exercise:** Complete the extended feature matrix."
   ]
  },
  {
   "cell_type": "code",
   "execution_count": null,
   "metadata": {},
   "outputs": [],
   "source": [
    "# edit the values of this matrix\n",
    "feature_matrix = [\n",
    "    [1, 0, 1, 0],\n",
    "    [1, 0, 1, 0],\n",
    "    [0, 0, 1, 0],\n",
    "    [0, 1, 0, 0],\n",
    "    [0, 1, 0, 0]\n",
    "]\n",
    "\n",
    "df_merge4 = pd.DataFrame(\n",
    "    feature_matrix, \n",
    "    index=[\"Dog\", \"Wolf\", \"Eagle\", \"Goldfish\", \"Dolphin\"], \n",
    "    columns=[\"Canines\", \"Aquatic\", \"Land\", \"Animal\"]\n",
    ")\n",
    "\n",
    "df_merge4"
   ]
  },
  {
   "cell_type": "markdown",
   "metadata": {},
   "source": [
    "We've now arrived at a completed tree and a proper hierarchy:\n",
    "\n",
    "```\n",
    "                Animal                \n",
    "               /      \\               \n",
    "          Land         Aquatic        \n",
    "         /    \\       /      \\        \n",
    "   Canines     |      |       |       \n",
    "   /     \\     |      |       |       \n",
    "Dog      Wolf Eagle Goldfish Dolphin  \n",
    "```\n",
    "\n",
    "**Exercise:** How many features were discovered in the end?"
   ]
  },
  {
   "cell_type": "code",
   "execution_count": null,
   "metadata": {},
   "outputs": [],
   "source": [
    "n_discovered = ?"
   ]
  },
  {
   "cell_type": "code",
   "execution_count": null,
   "metadata": {},
   "outputs": [],
   "source": [
    "# TEST YOUR SOLUTION\n",
    "\n",
    "# DON'T CHANGE THIS CELL\n",
    "if 730 % 363 == n_discovered:\n",
    "    print('Test passed')\n",
    "else:\n",
    "    print('Test failed')"
   ]
  },
  {
   "cell_type": "markdown",
   "metadata": {},
   "source": [
    "Let's now put everything together into a complete hierarchical clustering algorithm. We'll track both the clusters at each step and the merges that occurred.\n",
    "\n",
    "**Exercise:** Use a single loop to implement hierarchical clustering using the functions created/provided. Save the merge history in a list of tuples called `merge_history`. Save the cluster configurations at each step in a list called `all_clusters`.\n",
    "\n",
    "**HINT:** To copy a list of lists in python correctly, use `new_list = old_list.copy()` rather than `new_list = old_list`."
   ]
  },
  {
   "cell_type": "code",
   "execution_count": null,
   "metadata": {},
   "outputs": [],
   "source": [
    "# Your code here\n",
    "\n",
    "\n",
    "\n",
    "\n",
    "# do not change\n",
    "print(\"Merge history:\")\n",
    "for i, (cluster1, cluster2) in enumerate(merge_history):\n",
    "    print(f\"Step {i+1}: Merged {cluster1} and {cluster2}\")\n",
    "\n",
    "# do not change\n",
    "print(\"\\nFinal cluster:\")\n",
    "print(all_clusters[-1][0])\n",
    "print(all_clusters)"
   ]
  },
  {
   "cell_type": "code",
   "execution_count": null,
   "metadata": {},
   "outputs": [],
   "source": [
    "# TEST YOUR SOLUTION\n",
    "\n",
    "# DON'T CHANGE THIS CELL\n",
    "if (len(all_clusters) == 5 and\n",
    "    len(merge_history) == 4 and\n",
    "    len(all_clusters[-1]) == 1 and\n",
    "    len(all_clusters[-1][0]) == 5):\n",
    "    print('Test passed')\n",
    "else:\n",
    "    print('Test failed')"
   ]
  },
  {
   "cell_type": "markdown",
   "metadata": {},
   "source": [
    "References:\n",
    "\n",
    "Collins, A. M., & Quillian, M. R. (1969). Retrieval time from semantic memory. Journal of verbal learning and verbal behavior, 8(2), 240-247."
   ]
  }
 ],
 "metadata": {
  "kernelspec": {
   "display_name": ".venv",
   "language": "python",
   "name": "python3"
  },
  "language_info": {
   "codemirror_mode": {
    "name": "ipython",
    "version": 3
   },
   "file_extension": ".py",
   "mimetype": "text/x-python",
   "name": "python",
   "nbconvert_exporter": "python",
   "pygments_lexer": "ipython3",
   "version": "3.9.19"
  }
 },
 "nbformat": 4,
 "nbformat_minor": 2
}
