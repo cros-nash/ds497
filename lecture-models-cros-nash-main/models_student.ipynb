{
 "cells": [
  {
   "cell_type": "markdown",
   "metadata": {},
   "source": [
    "# Cognitive Models\n",
    "\n",
    "- Please work in groups of two or more.\n",
    "- Move chairs together and discuss as you work.\n",
    "- Commit and show an instructor your work before leaving."
   ]
  },
  {
   "cell_type": "code",
   "execution_count": 69,
   "metadata": {},
   "outputs": [],
   "source": [
    "# Run this cell first\n",
    "import numpy as np\n",
    "import pandas as pd\n",
    "import matplotlib.pyplot as plt\n",
    "\n",
    "from tools import *"
   ]
  },
  {
   "cell_type": "markdown",
   "metadata": {},
   "source": [
    "### Categorization\n",
    "\n",
    "Given that no two objects are identical (e.g., cats), how do we group like objects together and recognize them as belonging to the same category? Further, how do people use their knowledge of existing categories to categorize new stimuli?\n",
    "\n",
    "Psychologists explore these questions using category learning experiments, wherein participants learn novel categories by looking at examples.\n",
    "\n",
    "Category learning experiments consist of a **learning phase**, where they are shown examples of members of each category (called **exemplars**), and a **testing phase** where they are shown examples and asked to categorize them.\n",
    "\n",
    "Let's look at a set of stimuli from the learning phase of an experiment on shape categories."
   ]
  },
  {
   "cell_type": "code",
   "execution_count": 70,
   "metadata": {},
   "outputs": [
    {
     "data": {
      "text/html": [
       "<div>\n",
       "<style scoped>\n",
       "    .dataframe tbody tr th:only-of-type {\n",
       "        vertical-align: middle;\n",
       "    }\n",
       "\n",
       "    .dataframe tbody tr th {\n",
       "        vertical-align: top;\n",
       "    }\n",
       "\n",
       "    .dataframe thead th {\n",
       "        text-align: right;\n",
       "    }\n",
       "</style>\n",
       "<table border=\"1\" class=\"dataframe\">\n",
       "  <thead>\n",
       "    <tr style=\"text-align: right;\">\n",
       "      <th></th>\n",
       "      <th>stimulus</th>\n",
       "      <th>category</th>\n",
       "      <th>size</th>\n",
       "      <th>color</th>\n",
       "    </tr>\n",
       "  </thead>\n",
       "  <tbody>\n",
       "    <tr>\n",
       "      <th>0</th>\n",
       "      <td>A1</td>\n",
       "      <td>A</td>\n",
       "      <td>0.35</td>\n",
       "      <td>0.40</td>\n",
       "    </tr>\n",
       "    <tr>\n",
       "      <th>1</th>\n",
       "      <td>A2</td>\n",
       "      <td>A</td>\n",
       "      <td>0.28</td>\n",
       "      <td>0.32</td>\n",
       "    </tr>\n",
       "    <tr>\n",
       "      <th>2</th>\n",
       "      <td>A3</td>\n",
       "      <td>A</td>\n",
       "      <td>0.40</td>\n",
       "      <td>0.45</td>\n",
       "    </tr>\n",
       "    <tr>\n",
       "      <th>3</th>\n",
       "      <td>A4</td>\n",
       "      <td>A</td>\n",
       "      <td>0.30</td>\n",
       "      <td>0.25</td>\n",
       "    </tr>\n",
       "    <tr>\n",
       "      <th>4</th>\n",
       "      <td>A5</td>\n",
       "      <td>A</td>\n",
       "      <td>0.36</td>\n",
       "      <td>0.37</td>\n",
       "    </tr>\n",
       "    <tr>\n",
       "      <th>5</th>\n",
       "      <td>B1</td>\n",
       "      <td>B</td>\n",
       "      <td>0.45</td>\n",
       "      <td>0.50</td>\n",
       "    </tr>\n",
       "    <tr>\n",
       "      <th>6</th>\n",
       "      <td>B2</td>\n",
       "      <td>B</td>\n",
       "      <td>0.38</td>\n",
       "      <td>0.58</td>\n",
       "    </tr>\n",
       "    <tr>\n",
       "      <th>7</th>\n",
       "      <td>B3</td>\n",
       "      <td>B</td>\n",
       "      <td>0.50</td>\n",
       "      <td>0.54</td>\n",
       "    </tr>\n",
       "    <tr>\n",
       "      <th>8</th>\n",
       "      <td>B4</td>\n",
       "      <td>B</td>\n",
       "      <td>0.43</td>\n",
       "      <td>0.62</td>\n",
       "    </tr>\n",
       "    <tr>\n",
       "      <th>9</th>\n",
       "      <td>B5</td>\n",
       "      <td>B</td>\n",
       "      <td>0.48</td>\n",
       "      <td>0.45</td>\n",
       "    </tr>\n",
       "  </tbody>\n",
       "</table>\n",
       "</div>"
      ],
      "text/plain": [
       "  stimulus category  size  color\n",
       "0       A1        A  0.35   0.40\n",
       "1       A2        A  0.28   0.32\n",
       "2       A3        A  0.40   0.45\n",
       "3       A4        A  0.30   0.25\n",
       "4       A5        A  0.36   0.37\n",
       "5       B1        B  0.45   0.50\n",
       "6       B2        B  0.38   0.58\n",
       "7       B3        B  0.50   0.54\n",
       "8       B4        B  0.43   0.62\n",
       "9       B5        B  0.48   0.45"
      ]
     },
     "execution_count": 70,
     "metadata": {},
     "output_type": "execute_result"
    }
   ],
   "source": [
    "learning_stims = load_learning_phase_stimuli()\n",
    "learning_stims"
   ]
  },
  {
   "cell_type": "markdown",
   "metadata": {},
   "source": [
    "The first five stimuli (A1-A5) are members of category A. The second five stimuli (B1-B5) are members of category B.\n",
    "\n",
    "Each stimulus is defined by its size (radius) and color (shade). You can think of these as the dimensions you might infer by running NMDS on similarity data for the same set of 10 shape stimuli, though some studies use the physical size and color values directly.\n",
    "\n",
    "Let's see what the psychological space of stimuli look like:"
   ]
  },
  {
   "cell_type": "code",
   "execution_count": 71,
   "metadata": {},
   "outputs": [
    {
     "data": {
      "image/png": "[encoded data removed]",
      "text/plain": [
       "<Figure size 600x600 with 1 Axes>"
      ]
     },
     "metadata": {},
     "output_type": "display_data"
    }
   ],
   "source": [
    "plot_stimuli(learning_stims)"
   ]
  },
  {
   "cell_type": "markdown",
   "metadata": {},
   "source": [
    "The **prototype model** of categorization posits that learning a category consists of forming an abstraction of that category called a **prototype**. Prototypes are special kinds of mental represenations called **category representations** because they describe entire categories of objects as opposed to individual objects.\n",
    "\n",
    "Typically, prototypes are computed by taking the average of exemplars from a given category.\n",
    "\n",
    "**Exercise**: Discuss with your partner why an average might make sense as a summary, abstraction, or idealization of a set of category members. Why might it be a bad representations of a category?"
   ]
  },
  {
   "cell_type": "markdown",
   "metadata": {},
   "source": [
    "In the case of the current set of stimuli spanning two categories, we define the prototype of category $A$ as $P_A = \\frac{1}{n_A} \\sum_{i=1}^{n_A} x_i^A$, where $x_i^A$ is the $i$-th exemplar in category $A$ and $n_A$ is the number of exemplars in category $A$.\n",
    "\n",
    "Similarly, for category $B$, we define prototype $P_B = \\frac{1}{n_B} \\sum_{j=1}^{n_B} x_j^B$, where $x_j^B$ is the $j$-th exemplar in category $B$ and $n_B$ is the number of exemplars in category $B$.\n",
    "\n",
    "**Exercise**: Create a function called `compute_prototype` that takes in a dataframe of learning phase stimuli and a category label and returns an prototype for that category as a numpy array. The order of dimensions of the output should match the original dataframe."
   ]
  },
  {
   "cell_type": "code",
   "execution_count": 72,
   "metadata": {},
   "outputs": [],
   "source": [
    "# Your code here\n",
    "\n",
    "def compute_prototype(df, label):\n",
    "    size = df[df['category'] == label]['size']\n",
    "    color = df[df['category'] == label]['color']\n",
    "    return [np.mean(size), np.mean(color)]"
   ]
  },
  {
   "cell_type": "code",
   "execution_count": 73,
   "metadata": {},
   "outputs": [
    {
     "name": "stdout",
     "output_type": "stream",
     "text": [
      "Test passed\n"
     ]
    }
   ],
   "source": [
    "# TEST YOUR SOLUTION\n",
    "\n",
    "# DON'T CHANGE THIS CELL\n",
    "if np.isclose(compute_prototype(learning_stims, 'A'), np.array([0.338, 0.358])).all():\n",
    "    print('Test passed')\n",
    "else:\n",
    "    print('Test failed')"
   ]
  },
  {
   "cell_type": "markdown",
   "metadata": {},
   "source": [
    "**Exercise**: Compute the prototype for category A and store the result in a `prototype_A`."
   ]
  },
  {
   "cell_type": "code",
   "execution_count": 74,
   "metadata": {},
   "outputs": [
    {
     "data": {
      "text/plain": [
       "[np.float64(0.33799999999999997), np.float64(0.358)]"
      ]
     },
     "execution_count": 74,
     "metadata": {},
     "output_type": "execute_result"
    }
   ],
   "source": [
    "# Your code here\n",
    "prototype_A = compute_prototype(learning_stims, 'A')\n",
    "\n",
    "\n",
    "# don't change\n",
    "prototype_A"
   ]
  },
  {
   "cell_type": "code",
   "execution_count": 75,
   "metadata": {},
   "outputs": [
    {
     "name": "stdout",
     "output_type": "stream",
     "text": [
      "Test passed\n"
     ]
    }
   ],
   "source": [
    "# TEST YOUR SOLUTION\n",
    "\n",
    "# DON'T CHANGE THIS CELL\n",
    "if np.isclose(prototype_A, np.array([0.338, 0.358])).all():\n",
    "    print('Test passed')\n",
    "else:\n",
    "    print('Test failed')"
   ]
  },
  {
   "cell_type": "markdown",
   "metadata": {},
   "source": [
    "**Exercise**: Compute the prototype for category B and store the result in a `prototype_B`."
   ]
  },
  {
   "cell_type": "code",
   "execution_count": 76,
   "metadata": {},
   "outputs": [
    {
     "data": {
      "text/plain": [
       "[np.float64(0.44800000000000006), np.float64(0.538)]"
      ]
     },
     "execution_count": 76,
     "metadata": {},
     "output_type": "execute_result"
    }
   ],
   "source": [
    "# Your code here\n",
    "prototype_B = compute_prototype(learning_stims, 'B')\n",
    "\n",
    "\n",
    "# don't change\n",
    "prototype_B"
   ]
  },
  {
   "cell_type": "code",
   "execution_count": 77,
   "metadata": {},
   "outputs": [
    {
     "name": "stdout",
     "output_type": "stream",
     "text": [
      "Test passed\n"
     ]
    }
   ],
   "source": [
    "# TEST YOUR SOLUTION\n",
    "\n",
    "# DON'T CHANGE THIS CELL\n",
    "if np.isclose(prototype_B, np.array([0.448, 0.538])).all():\n",
    "    print('Test passed')\n",
    "else:\n",
    "    print('Test failed')"
   ]
  },
  {
   "cell_type": "markdown",
   "metadata": {},
   "source": [
    "While the prototypes are points in the same space as the stimuli, they are not themselves stimuli (rather, we computed them). In any case, because they are in the same space, we can visualize what these \"ideal\" examples look like below.\n",
    "\n",
    "**Exercise:** Discuss with your partner how you would describe these summaries of each category from the prototypes below."
   ]
  },
  {
   "cell_type": "code",
   "execution_count": 78,
   "metadata": {},
   "outputs": [
    {
     "data": {
      "image/png": "[encoded data removed]",
      "text/plain": [
       "<Figure size 600x600 with 1 Axes>"
      ]
     },
     "metadata": {},
     "output_type": "display_data"
    }
   ],
   "source": [
    "plot_stimuli(learning_stims, stimuli=False, prototypes=\"render\", legend=False)"
   ]
  },
  {
   "cell_type": "markdown",
   "metadata": {},
   "source": [
    "We can also visualize these prototypes alongside exemplars. The prototypes below are now shown as stars (red for A and blue for B) to help them stand out against the exemplars.\n",
    "\n",
    "**Exercise:** Discuss with your partner whether these points seem like good summaries of their respective categories. Why or why not?"
   ]
  },
  {
   "cell_type": "code",
   "execution_count": 79,
   "metadata": {},
   "outputs": [
    {
     "data": {
      "image/png": "[encoded data removed]",
      "text/plain": [
       "<Figure size 600x600 with 1 Axes>"
      ]
     },
     "metadata": {},
     "output_type": "display_data"
    }
   ],
   "source": [
    "plot_stimuli(learning_stims, prototypes=\"star\", edges=True)"
   ]
  },
  {
   "cell_type": "markdown",
   "metadata": {},
   "source": [
    "Notice that A3 is relatively far from A4 despite sharing a category, but relatively close to B1 despite not sharing a category.\n",
    "\n",
    "This helps us understand why average prototypes can be useful. Both A3 and A4 may be somewhat far away from each other, but they are roughly the same distance from their prototype.\n",
    "\n",
    "This motivates the idea that, in prototype models, it is the distance to the prototype that defines category membership rather than the distance to any single stimulus.\n",
    "\n",
    "Stimuli that are closer to a prototype than others are said to be more \"typical\" of that category. For example, A1 and A5 look a lot like the prototype (like the summary of all of the members), while A4 is a bit of an outlier because it is much lighter than the rest of the members. A3 is likewise atypically dark and thus closer to members of category B.\n",
    "\n",
    "We can thus define a quantitative measure of category typicality for a particular category as the negative Euclidean distance between any single stimulus $z$ and the category prototype in question. For example, in the case of making a comparison with respect to category A, typicality is defined as the negative Euclidean distance between $z$ and $P_A$, denoted as $-d(z, P_A)$.\n",
    "\n",
    "**Exercise:** Create a function called `compute_typicality` that takes a stimulus as a numpy array and a prototype as a numpy array and returns a single typicality score value."
   ]
  },
  {
   "cell_type": "code",
   "execution_count": 80,
   "metadata": {},
   "outputs": [],
   "source": [
    "# Your code here\n",
    "\n",
    "def compute_typicality(stim, prototype) -> float:\n",
    "    stim = np.array(stim)\n",
    "    prototype = np.array(prototype)\n",
    "    return -np.linalg.norm(stim - prototype)"
   ]
  },
  {
   "cell_type": "code",
   "execution_count": 81,
   "metadata": {},
   "outputs": [
    {
     "name": "stdout",
     "output_type": "stream",
     "text": [
      "Test passed\n"
     ]
    }
   ],
   "source": [
    "# TEST YOUR SOLUTION\n",
    "\n",
    "# DON'T CHANGE THIS CELL\n",
    "if np.isclose(compute_typicality(np.array([1, 1]), np.array([0, 0])), -1.4142135623730951):\n",
    "    print('Test passed')\n",
    "else:\n",
    "    print('Test failed')"
   ]
  },
  {
   "cell_type": "markdown",
   "metadata": {},
   "source": [
    "Being able to compute typicality also provides a basis for understanding how new stimuli are categorized under the prototype model. \n",
    "\n",
    "Given a new stimulus $z$ for which we do not know the correct category label (A vs B), we can assign a category label to $z$ corresponding to the category under which it is most \"typical\". That is, if $-d(z, P_A) > -d(z, P_B)$, then we categorize $z$ as belonging to category $A$; otherwise we categorize $z$ as belonging to category $B$. This is another way of simply saying that we assign $z$ to the category with the closest (least distant) prototype, e.g., categorizing as $A$ when $d(z, P_A) < d(z, P_B)$.\n",
    "\n",
    "Thus, the full cognitive model can be specified as:\n",
    "\n",
    "$$\\text{behavior (choose A or not)} = \\text{categorize}(z) = \\begin{cases} \n",
    "1 & \\text{if } -d(z, P_A) > -d(z, P_B) \\\\ \n",
    "0 & \\text{if } -d(z, P_A) < -d(z, P_B)\n",
    "\\end{cases}$$\n",
    "\n",
    "**Exercise:** Create a function called `categorize` that takes in a single stimulus as a numpy array along with two category prototypes for A and B, and returns a category label as a string (either `\"A\"` or `\"B\"`) for convenience."
   ]
  },
  {
   "cell_type": "code",
   "execution_count": 82,
   "metadata": {},
   "outputs": [],
   "source": [
    "# Your code here\n",
    "\n",
    "def categorize(stim, cat_a, cat_b):\n",
    "    return \"A\" if compute_typicality(stim, cat_a) > compute_typicality(stim, cat_b) else \"B\""
   ]
  },
  {
   "cell_type": "code",
   "execution_count": 83,
   "metadata": {},
   "outputs": [
    {
     "name": "stdout",
     "output_type": "stream",
     "text": [
      "Test passed\n"
     ]
    }
   ],
   "source": [
    "# TEST YOUR SOLUTION\n",
    "\n",
    "# DON'T CHANGE THIS CELL\n",
    "if categorize(np.array([0.9, 0.9]), np.array([0.1, 0.1]), np.array([1, 1])) == 'B':\n",
    "    print('Test passed')\n",
    "else:\n",
    "    print('Test failed')"
   ]
  },
  {
   "cell_type": "markdown",
   "metadata": {},
   "source": [
    "Recall that in the testing phase of the experiment, participants are shown new examples and asked to categorize them.\n",
    "\n",
    "The testing phase data is loaded below."
   ]
  },
  {
   "cell_type": "code",
   "execution_count": 84,
   "metadata": {},
   "outputs": [
    {
     "data": {
      "text/html": [
       "<div>\n",
       "<style scoped>\n",
       "    .dataframe tbody tr th:only-of-type {\n",
       "        vertical-align: middle;\n",
       "    }\n",
       "\n",
       "    .dataframe tbody tr th {\n",
       "        vertical-align: top;\n",
       "    }\n",
       "\n",
       "    .dataframe thead th {\n",
       "        text-align: right;\n",
       "    }\n",
       "</style>\n",
       "<table border=\"1\" class=\"dataframe\">\n",
       "  <thead>\n",
       "    <tr style=\"text-align: right;\">\n",
       "      <th></th>\n",
       "      <th>stimulus</th>\n",
       "      <th>size</th>\n",
       "      <th>color</th>\n",
       "      <th>categorization</th>\n",
       "    </tr>\n",
       "  </thead>\n",
       "  <tbody>\n",
       "    <tr>\n",
       "      <th>0</th>\n",
       "      <td>Test1</td>\n",
       "      <td>0.30</td>\n",
       "      <td>0.45</td>\n",
       "      <td>A</td>\n",
       "    </tr>\n",
       "    <tr>\n",
       "      <th>1</th>\n",
       "      <td>Test2</td>\n",
       "      <td>0.60</td>\n",
       "      <td>0.55</td>\n",
       "      <td>B</td>\n",
       "    </tr>\n",
       "    <tr>\n",
       "      <th>2</th>\n",
       "      <td>Test3</td>\n",
       "      <td>0.45</td>\n",
       "      <td>0.50</td>\n",
       "      <td>B</td>\n",
       "    </tr>\n",
       "    <tr>\n",
       "      <th>3</th>\n",
       "      <td>Test4</td>\n",
       "      <td>0.35</td>\n",
       "      <td>0.35</td>\n",
       "      <td>A</td>\n",
       "    </tr>\n",
       "    <tr>\n",
       "      <th>4</th>\n",
       "      <td>Test5</td>\n",
       "      <td>0.55</td>\n",
       "      <td>0.35</td>\n",
       "      <td>B</td>\n",
       "    </tr>\n",
       "    <tr>\n",
       "      <th>5</th>\n",
       "      <td>Test6</td>\n",
       "      <td>0.40</td>\n",
       "      <td>0.60</td>\n",
       "      <td>B</td>\n",
       "    </tr>\n",
       "    <tr>\n",
       "      <th>6</th>\n",
       "      <td>Test7</td>\n",
       "      <td>0.25</td>\n",
       "      <td>0.55</td>\n",
       "      <td>A</td>\n",
       "    </tr>\n",
       "    <tr>\n",
       "      <th>7</th>\n",
       "      <td>Test8</td>\n",
       "      <td>0.50</td>\n",
       "      <td>0.40</td>\n",
       "      <td>B</td>\n",
       "    </tr>\n",
       "    <tr>\n",
       "      <th>8</th>\n",
       "      <td>Test9</td>\n",
       "      <td>0.35</td>\n",
       "      <td>0.60</td>\n",
       "      <td>B</td>\n",
       "    </tr>\n",
       "  </tbody>\n",
       "</table>\n",
       "</div>"
      ],
      "text/plain": [
       "  stimulus  size  color categorization\n",
       "0    Test1  0.30   0.45              A\n",
       "1    Test2  0.60   0.55              B\n",
       "2    Test3  0.45   0.50              B\n",
       "3    Test4  0.35   0.35              A\n",
       "4    Test5  0.55   0.35              B\n",
       "5    Test6  0.40   0.60              B\n",
       "6    Test7  0.25   0.55              A\n",
       "7    Test8  0.50   0.40              B\n",
       "8    Test9  0.35   0.60              B"
      ]
     },
     "execution_count": 84,
     "metadata": {},
     "output_type": "execute_result"
    }
   ],
   "source": [
    "test_data = load_test_phase_data()\n",
    "test_data"
   ]
  },
  {
   "cell_type": "markdown",
   "metadata": {},
   "source": [
    "Notice that there is no \"category\" column with the \"right\" answer. In this phase, we are only interested in whether the prototype categorization rule results in the same categorization that people make.\n",
    "\n",
    "The \"categorization\" column provides the category label guess from a single participant. In most experiments, the guesses from several participants are aggregated into a proportion, but we will evaluate only a single participant now for simplicity.\n",
    "\n",
    "**Exercise:** Compute predicted categorizations of each of the test stimuli using the prototype model and compare them to the empirical categorizations. Store the proportion correctly predicted in a variable called `accuracy`."
   ]
  },
  {
   "cell_type": "code",
   "execution_count": 92,
   "metadata": {},
   "outputs": [
    {
     "name": "stdout",
     "output_type": "stream",
     "text": [
      "Accuracy: 0.7777777777777778\n"
     ]
    }
   ],
   "source": [
    "# Your code here\n",
    "result = 0\n",
    "\n",
    "for _, row in test_data.iterrows():\n",
    "    size, color, categorization = row[\"size\"], row[\"color\"], row[\"categorization\"]\n",
    "    result += 1 if categorize([size, color], prototype_A, prototype_B) == categorization else 0\n",
    "\n",
    "accuracy = result/len(test_data[\"size\"])\n",
    "\n",
    "# don't change\n",
    "print('Accuracy:', accuracy)"
   ]
  },
  {
   "cell_type": "code",
   "execution_count": 93,
   "metadata": {},
   "outputs": [
    {
     "name": "stdout",
     "output_type": "stream",
     "text": [
      "Test passed\n"
     ]
    }
   ],
   "source": [
    "# TEST YOUR SOLUTION\n",
    "\n",
    "# DON'T CHANGE THIS CELL\n",
    "if np.isclose(accuracy, 0.7777777777777778):\n",
    "    print('Test passed')\n",
    "else:\n",
    "    print('Test failed')"
   ]
  },
  {
   "cell_type": "markdown",
   "metadata": {},
   "source": [
    "The accuracy of our model is roughly 78%, which is better than what we'd expect if we were guessing randomly.\n",
    "\n",
    "However, it's important to note that when multiple people categorize the same stimulus, they often give different responses. Even the same person may give different responses to the same stimulus when tested repeatedly. Further stimuli closer to the boundary between categories A and B are usually categorized with less consistency than stimuli far from the boundary. How can we account for this variability?\n",
    "\n",
    "First, let's look at test phase data for more than just one participant. The `prop_chose_A` column in the `test_props` dataframe below gives the proportion of participants that assigned each stimulus to category A. (Note that the proportion who chose category B is just 1 - prop_chose_A). For stimulus \"Test1\", most participants chose A (.85, or 85%), whereas for stimulus \"Test9\", participant choices were split 50/50. This pattern of results would make sense if say stimulus \"Test1\" had high typicality under category A. That is, we expect that examples more typical of a category will be assigned to that category at a higher rate. Thus, our goal is a model that can predict `prop_chose_A`."
   ]
  },
  {
   "cell_type": "code",
   "execution_count": 94,
   "metadata": {},
   "outputs": [
    {
     "data": {
      "text/html": [
       "<div>\n",
       "<style scoped>\n",
       "    .dataframe tbody tr th:only-of-type {\n",
       "        vertical-align: middle;\n",
       "    }\n",
       "\n",
       "    .dataframe tbody tr th {\n",
       "        vertical-align: top;\n",
       "    }\n",
       "\n",
       "    .dataframe thead th {\n",
       "        text-align: right;\n",
       "    }\n",
       "</style>\n",
       "<table border=\"1\" class=\"dataframe\">\n",
       "  <thead>\n",
       "    <tr style=\"text-align: right;\">\n",
       "      <th></th>\n",
       "      <th>stimulus</th>\n",
       "      <th>size</th>\n",
       "      <th>color</th>\n",
       "      <th>prop_chose_A</th>\n",
       "    </tr>\n",
       "  </thead>\n",
       "  <tbody>\n",
       "    <tr>\n",
       "      <th>0</th>\n",
       "      <td>Test1</td>\n",
       "      <td>0.30</td>\n",
       "      <td>0.45</td>\n",
       "      <td>0.85</td>\n",
       "    </tr>\n",
       "    <tr>\n",
       "      <th>1</th>\n",
       "      <td>Test2</td>\n",
       "      <td>0.60</td>\n",
       "      <td>0.55</td>\n",
       "      <td>0.10</td>\n",
       "    </tr>\n",
       "    <tr>\n",
       "      <th>2</th>\n",
       "      <td>Test3</td>\n",
       "      <td>0.45</td>\n",
       "      <td>0.50</td>\n",
       "      <td>0.40</td>\n",
       "    </tr>\n",
       "    <tr>\n",
       "      <th>3</th>\n",
       "      <td>Test4</td>\n",
       "      <td>0.35</td>\n",
       "      <td>0.35</td>\n",
       "      <td>0.70</td>\n",
       "    </tr>\n",
       "    <tr>\n",
       "      <th>4</th>\n",
       "      <td>Test5</td>\n",
       "      <td>0.55</td>\n",
       "      <td>0.35</td>\n",
       "      <td>0.15</td>\n",
       "    </tr>\n",
       "    <tr>\n",
       "      <th>5</th>\n",
       "      <td>Test6</td>\n",
       "      <td>0.40</td>\n",
       "      <td>0.60</td>\n",
       "      <td>0.30</td>\n",
       "    </tr>\n",
       "    <tr>\n",
       "      <th>6</th>\n",
       "      <td>Test7</td>\n",
       "      <td>0.25</td>\n",
       "      <td>0.55</td>\n",
       "      <td>0.60</td>\n",
       "    </tr>\n",
       "    <tr>\n",
       "      <th>7</th>\n",
       "      <td>Test8</td>\n",
       "      <td>0.50</td>\n",
       "      <td>0.40</td>\n",
       "      <td>0.25</td>\n",
       "    </tr>\n",
       "    <tr>\n",
       "      <th>8</th>\n",
       "      <td>Test9</td>\n",
       "      <td>0.35</td>\n",
       "      <td>0.60</td>\n",
       "      <td>0.50</td>\n",
       "    </tr>\n",
       "  </tbody>\n",
       "</table>\n",
       "</div>"
      ],
      "text/plain": [
       "  stimulus  size  color  prop_chose_A\n",
       "0    Test1  0.30   0.45          0.85\n",
       "1    Test2  0.60   0.55          0.10\n",
       "2    Test3  0.45   0.50          0.40\n",
       "3    Test4  0.35   0.35          0.70\n",
       "4    Test5  0.55   0.35          0.15\n",
       "5    Test6  0.40   0.60          0.30\n",
       "6    Test7  0.25   0.55          0.60\n",
       "7    Test8  0.50   0.40          0.25\n",
       "8    Test9  0.35   0.60          0.50"
      ]
     },
     "execution_count": 94,
     "metadata": {},
     "output_type": "execute_result"
    }
   ],
   "source": [
    "test_props = load_test_phase_data(with_proportions=True)\n",
    "test_props"
   ]
  },
  {
   "cell_type": "markdown",
   "metadata": {},
   "source": [
    "To understand how our model might predict these proportions, let's first consider that we are working with distances rather than similarities. Shepard's Law tells us that $s = e^{-d}$. Since we've already defined typicality to be $-d$, we can convert typicalities to similarities by simply applying an exponential function.\n",
    "\n",
    "**Exercise:** Create a function called `typicality_to_similarity` that takes in a typicality value and returns a similarity value."
   ]
  },
  {
   "cell_type": "code",
   "execution_count": 95,
   "metadata": {},
   "outputs": [],
   "source": [
    "# Your code here\n",
    "\n",
    "def typicality_to_similarity(val):\n",
    "    return np.exp(val)"
   ]
  },
  {
   "cell_type": "code",
   "execution_count": 96,
   "metadata": {},
   "outputs": [
    {
     "name": "stdout",
     "output_type": "stream",
     "text": [
      "Test passed\n"
     ]
    }
   ],
   "source": [
    "# TEST YOUR SOLUTION\n",
    "\n",
    "# DON'T CHANGE THIS CELL\n",
    "if np.isclose(typicality_to_similarity(-0.1), 0.9048374180359595):\n",
    "    print('Test passed')\n",
    "else:\n",
    "    print('Test failed')"
   ]
  },
  {
   "cell_type": "markdown",
   "metadata": {},
   "source": [
    "If we define the similarity between a stimulus $z$ and prototype $P_A$ as $s(z, P_A) = e^{-d(z, P_A)}$, then we can model the probability that a person will categorize $z$ as belonging to category A using the ratio:\n",
    "\n",
    "$$P(\\text{categorize } z \\text{ as A}) = \\frac{s(z, P_A)}{s(z, P_A) + s(z, P_B)}.$$\n",
    "\n",
    "That is, the probability of choosing A goes up when the stimulus is more similar to prototype A and less similar to prototype B.\n",
    "\n",
    "This approach, known as the similarity-choice rule, provides a natural way to predict the proportion of participants who will classify a stimulus as belonging to category A. When a stimulus is very similar to prototype A and dissimilar to prototype B, the probability approaches 1. When similarities are equal, the probability is 0.5, reflecting uncertainty between the categories.\n",
    "\n",
    "Note that $P(\\text{categorize } z \\text{ as B}) = 1 - P(\\text{categorize } z \\text{ as A})$, or we can also substitute $P_B$ for $P_A$ in the similarity-choice rule formula above.\n",
    "\n",
    "Unlike our earlier deterministic model that simply assigned category labels based on which prototype was closest, this probabilistic model captures the graded nature of human categorization judgments. This aligns with empirical findings that stimuli near the midpoint between prototypes are categorized less consistently across participants.\n",
    "\n",
    "**Exercise:** Create a function called `sims_to_prob` that takes in $s(z, P_A)$ and $s(z, P_B)$  and outputs $P(\\text{categorize } z \\text{ as A})$."
   ]
  },
  {
   "cell_type": "code",
   "execution_count": 97,
   "metadata": {},
   "outputs": [],
   "source": [
    "# Your code here\n",
    "\n",
    "def sims_to_prob(p_a, p_b):\n",
    "    return p_a / (p_a + p_b)"
   ]
  },
  {
   "cell_type": "code",
   "execution_count": 98,
   "metadata": {},
   "outputs": [
    {
     "name": "stdout",
     "output_type": "stream",
     "text": [
      "Test passed\n"
     ]
    }
   ],
   "source": [
    "# TEST YOUR SOLUTION\n",
    "\n",
    "# DON'T CHANGE THIS CELL\n",
    "if np.isclose(sims_to_prob(0.9, 0.1), 0.9):\n",
    "    print('Test passed')\n",
    "else:\n",
    "    print('Test failed')"
   ]
  },
  {
   "cell_type": "markdown",
   "metadata": {},
   "source": [
    "Our full cognitive model can now be described as:\n",
    "\n",
    "$$\\text{behavior (choose A with certain probability)} = \\text{categorize}(z) = \\frac{s(z, P_A)}{s(z, P_A) + s(z, P_B)}.$$\n",
    "\n",
    "Create a function called `categorize_prob` that takes in a single stimulus as a numpy array along with two category prototypes for A and B, and returns $P(\\text{categorize } z \\text{ as A})$."
   ]
  },
  {
   "cell_type": "code",
   "execution_count": null,
   "metadata": {},
   "outputs": [],
   "source": [
    "# Your code here\n",
    "\n",
    "def categorize_prob(stim, cat_a, cat_b):\n",
    "    "
   ]
  },
  {
   "cell_type": "code",
   "execution_count": null,
   "metadata": {},
   "outputs": [],
   "source": [
    "# TEST YOUR SOLUTION\n",
    "\n",
    "# DON'T CHANGE THIS CELL\n",
    "if np.isclose(categorize_prob(np.array([0.9, 0.9]), np.array([0, 0]), np.array([1, 1])), 0.24390820414711514):\n",
    "    print('Test passed')\n",
    "else:\n",
    "    print('Test failed')"
   ]
  },
  {
   "cell_type": "markdown",
   "metadata": {},
   "source": [
    "**Exercise:** Calculate $P(\\text{categorize } z \\text{ as A})$ for test stimulus \"Test3\" (index 2 of the dataframe) and store the result in `prob_choose_A`."
   ]
  },
  {
   "cell_type": "code",
   "execution_count": null,
   "metadata": {},
   "outputs": [],
   "source": [
    "# Your code here\n",
    "\n"
   ]
  },
  {
   "cell_type": "code",
   "execution_count": null,
   "metadata": {},
   "outputs": [],
   "source": [
    "# TEST YOUR SOLUTION\n",
    "\n",
    "# DON'T CHANGE THIS CELL\n",
    "if np.isclose(prob_choose_A, 0.4643603092806735):\n",
    "    print('Test passed')\n",
    "else:\n",
    "    print('Test failed')"
   ]
  },
  {
   "cell_type": "markdown",
   "metadata": {},
   "source": [
    "**Exercise:** Store the actual observed rate that participants chose test stimulus \"Test3\" in a variable called `prop_choose_A_observed`."
   ]
  },
  {
   "cell_type": "code",
   "execution_count": null,
   "metadata": {},
   "outputs": [],
   "source": [
    "# Your code here\n",
    "\n"
   ]
  },
  {
   "cell_type": "code",
   "execution_count": null,
   "metadata": {},
   "outputs": [],
   "source": [
    "# TEST YOUR SOLUTION\n",
    "\n",
    "# DON'T CHANGE THIS CELL\n",
    "if np.isclose(prop_choose_A_observed, 0.4):\n",
    "    print('Test passed')\n",
    "else:\n",
    "    print('Test failed')"
   ]
  },
  {
   "cell_type": "markdown",
   "metadata": {},
   "source": [
    "Below we can see that our prediction and the original proportion are comparable. First, both are a value between 0 and 1. Second, the values are fairly similar. The prototype model made what appears to be a \"good\" prediction for this particular data point.\n",
    "\n",
    "In a future assignment, we will learn more about quantifying the fit between the predictions of a model and observed behavior."
   ]
  },
  {
   "cell_type": "code",
   "execution_count": null,
   "metadata": {},
   "outputs": [],
   "source": [
    "print('Predicted probability of categorizing z as A:', float(prob_choose_A))\n",
    "print('Actual probability of categorizing z as A:', prop_choose_A_observed)"
   ]
  },
  {
   "cell_type": "markdown",
   "metadata": {},
   "source": [
    "Does the mind actually make use of prototypes to learn categories and categorize new stimuli?\n",
    "\n",
    "Answering this question with certainty is not an easy task. It requires at the least comparing the predictions of multiple competing accounts (models) to diverse behavioral datasets.\n",
    "\n",
    "For example, one alternative account of categorization is called the **exemplar model**. Inspired by related empirical results, along with the simple fact that the mind clearly remembers specific examples of members of categories, the exemplar model posits that category representations are simply collections of previously experienced examples stored in memory. Categorization of a new stimulus is thus purely a function of comparison to existing memories rather than to any kind of abstraction such as a prototype. We will explore such competing accounts in a future exercise."
   ]
  }
 ],
 "metadata": {
  "kernelspec": {
   "display_name": ".venv",
   "language": "python",
   "name": "python3"
  },
  "language_info": {
   "codemirror_mode": {
    "name": "ipython",
    "version": 3
   },
   "file_extension": ".py",
   "mimetype": "text/x-python",
   "name": "python",
   "nbconvert_exporter": "python",
   "pygments_lexer": "ipython3",
   "version": "3.9.19"
  }
 },
 "nbformat": 4,
 "nbformat_minor": 2
}
